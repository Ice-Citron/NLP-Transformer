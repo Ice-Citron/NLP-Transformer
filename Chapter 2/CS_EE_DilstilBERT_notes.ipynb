{
  "nbformat": 4,
  "nbformat_minor": 0,
  "metadata": {
    "colab": {
      "provenance": [],
      "toc_visible": true,
      "gpuType": "T4"
    },
    "kernelspec": {
      "name": "python3",
      "display_name": "Python 3"
    },
    "language_info": {
      "name": "python"
    },
    "accelerator": "GPU",
    "widgets": {
      "application/vnd.jupyter.widget-state+json": {
        "2ab0a721d1154fb2bd1b095708fd42a5": {
          "model_module": "@jupyter-widgets/controls",
          "model_name": "HBoxModel",
          "model_module_version": "1.5.0",
          "state": {
            "_dom_classes": [],
            "_model_module": "@jupyter-widgets/controls",
            "_model_module_version": "1.5.0",
            "_model_name": "HBoxModel",
            "_view_count": null,
            "_view_module": "@jupyter-widgets/controls",
            "_view_module_version": "1.5.0",
            "_view_name": "HBoxView",
            "box_style": "",
            "children": [
              "IPY_MODEL_ddf5dbb8cbdd4f9a99efc3fea7ceff11",
              "IPY_MODEL_418086f8cec34b419300ea27a93a345a",
              "IPY_MODEL_259c01b49410450bbfc6a9d8c4ab5a2b"
            ],
            "layout": "IPY_MODEL_e4136198f2894327b2af5d34e7d357fd"
          }
        },
        "ddf5dbb8cbdd4f9a99efc3fea7ceff11": {
          "model_module": "@jupyter-widgets/controls",
          "model_name": "HTMLModel",
          "model_module_version": "1.5.0",
          "state": {
            "_dom_classes": [],
            "_model_module": "@jupyter-widgets/controls",
            "_model_module_version": "1.5.0",
            "_model_name": "HTMLModel",
            "_view_count": null,
            "_view_module": "@jupyter-widgets/controls",
            "_view_module_version": "1.5.0",
            "_view_name": "HTMLView",
            "description": "",
            "description_tooltip": null,
            "layout": "IPY_MODEL_4fd78601e9644156b40d929d6d08df02",
            "placeholder": "​",
            "style": "IPY_MODEL_4e35fd7603424a6d8b878e667533e82f",
            "value": "100%"
          }
        },
        "418086f8cec34b419300ea27a93a345a": {
          "model_module": "@jupyter-widgets/controls",
          "model_name": "FloatProgressModel",
          "model_module_version": "1.5.0",
          "state": {
            "_dom_classes": [],
            "_model_module": "@jupyter-widgets/controls",
            "_model_module_version": "1.5.0",
            "_model_name": "FloatProgressModel",
            "_view_count": null,
            "_view_module": "@jupyter-widgets/controls",
            "_view_module_version": "1.5.0",
            "_view_name": "ProgressView",
            "bar_style": "success",
            "description": "",
            "description_tooltip": null,
            "layout": "IPY_MODEL_1b15ecb0d469432d92b71f829d0a608e",
            "max": 3,
            "min": 0,
            "orientation": "horizontal",
            "style": "IPY_MODEL_e2324f54f0db4e0ab0e50c06ed3e3801",
            "value": 3
          }
        },
        "259c01b49410450bbfc6a9d8c4ab5a2b": {
          "model_module": "@jupyter-widgets/controls",
          "model_name": "HTMLModel",
          "model_module_version": "1.5.0",
          "state": {
            "_dom_classes": [],
            "_model_module": "@jupyter-widgets/controls",
            "_model_module_version": "1.5.0",
            "_model_name": "HTMLModel",
            "_view_count": null,
            "_view_module": "@jupyter-widgets/controls",
            "_view_module_version": "1.5.0",
            "_view_name": "HTMLView",
            "description": "",
            "description_tooltip": null,
            "layout": "IPY_MODEL_c52a8ed428ca4f37bfd856f0e3057582",
            "placeholder": "​",
            "style": "IPY_MODEL_56574292684e408f94b6e7ea0efe4b1e",
            "value": " 3/3 [00:00&lt;00:00, 54.72it/s]"
          }
        },
        "e4136198f2894327b2af5d34e7d357fd": {
          "model_module": "@jupyter-widgets/base",
          "model_name": "LayoutModel",
          "model_module_version": "1.2.0",
          "state": {
            "_model_module": "@jupyter-widgets/base",
            "_model_module_version": "1.2.0",
            "_model_name": "LayoutModel",
            "_view_count": null,
            "_view_module": "@jupyter-widgets/base",
            "_view_module_version": "1.2.0",
            "_view_name": "LayoutView",
            "align_content": null,
            "align_items": null,
            "align_self": null,
            "border": null,
            "bottom": null,
            "display": null,
            "flex": null,
            "flex_flow": null,
            "grid_area": null,
            "grid_auto_columns": null,
            "grid_auto_flow": null,
            "grid_auto_rows": null,
            "grid_column": null,
            "grid_gap": null,
            "grid_row": null,
            "grid_template_areas": null,
            "grid_template_columns": null,
            "grid_template_rows": null,
            "height": null,
            "justify_content": null,
            "justify_items": null,
            "left": null,
            "margin": null,
            "max_height": null,
            "max_width": null,
            "min_height": null,
            "min_width": null,
            "object_fit": null,
            "object_position": null,
            "order": null,
            "overflow": null,
            "overflow_x": null,
            "overflow_y": null,
            "padding": null,
            "right": null,
            "top": null,
            "visibility": null,
            "width": null
          }
        },
        "4fd78601e9644156b40d929d6d08df02": {
          "model_module": "@jupyter-widgets/base",
          "model_name": "LayoutModel",
          "model_module_version": "1.2.0",
          "state": {
            "_model_module": "@jupyter-widgets/base",
            "_model_module_version": "1.2.0",
            "_model_name": "LayoutModel",
            "_view_count": null,
            "_view_module": "@jupyter-widgets/base",
            "_view_module_version": "1.2.0",
            "_view_name": "LayoutView",
            "align_content": null,
            "align_items": null,
            "align_self": null,
            "border": null,
            "bottom": null,
            "display": null,
            "flex": null,
            "flex_flow": null,
            "grid_area": null,
            "grid_auto_columns": null,
            "grid_auto_flow": null,
            "grid_auto_rows": null,
            "grid_column": null,
            "grid_gap": null,
            "grid_row": null,
            "grid_template_areas": null,
            "grid_template_columns": null,
            "grid_template_rows": null,
            "height": null,
            "justify_content": null,
            "justify_items": null,
            "left": null,
            "margin": null,
            "max_height": null,
            "max_width": null,
            "min_height": null,
            "min_width": null,
            "object_fit": null,
            "object_position": null,
            "order": null,
            "overflow": null,
            "overflow_x": null,
            "overflow_y": null,
            "padding": null,
            "right": null,
            "top": null,
            "visibility": null,
            "width": null
          }
        },
        "4e35fd7603424a6d8b878e667533e82f": {
          "model_module": "@jupyter-widgets/controls",
          "model_name": "DescriptionStyleModel",
          "model_module_version": "1.5.0",
          "state": {
            "_model_module": "@jupyter-widgets/controls",
            "_model_module_version": "1.5.0",
            "_model_name": "DescriptionStyleModel",
            "_view_count": null,
            "_view_module": "@jupyter-widgets/base",
            "_view_module_version": "1.2.0",
            "_view_name": "StyleView",
            "description_width": ""
          }
        },
        "1b15ecb0d469432d92b71f829d0a608e": {
          "model_module": "@jupyter-widgets/base",
          "model_name": "LayoutModel",
          "model_module_version": "1.2.0",
          "state": {
            "_model_module": "@jupyter-widgets/base",
            "_model_module_version": "1.2.0",
            "_model_name": "LayoutModel",
            "_view_count": null,
            "_view_module": "@jupyter-widgets/base",
            "_view_module_version": "1.2.0",
            "_view_name": "LayoutView",
            "align_content": null,
            "align_items": null,
            "align_self": null,
            "border": null,
            "bottom": null,
            "display": null,
            "flex": null,
            "flex_flow": null,
            "grid_area": null,
            "grid_auto_columns": null,
            "grid_auto_flow": null,
            "grid_auto_rows": null,
            "grid_column": null,
            "grid_gap": null,
            "grid_row": null,
            "grid_template_areas": null,
            "grid_template_columns": null,
            "grid_template_rows": null,
            "height": null,
            "justify_content": null,
            "justify_items": null,
            "left": null,
            "margin": null,
            "max_height": null,
            "max_width": null,
            "min_height": null,
            "min_width": null,
            "object_fit": null,
            "object_position": null,
            "order": null,
            "overflow": null,
            "overflow_x": null,
            "overflow_y": null,
            "padding": null,
            "right": null,
            "top": null,
            "visibility": null,
            "width": null
          }
        },
        "e2324f54f0db4e0ab0e50c06ed3e3801": {
          "model_module": "@jupyter-widgets/controls",
          "model_name": "ProgressStyleModel",
          "model_module_version": "1.5.0",
          "state": {
            "_model_module": "@jupyter-widgets/controls",
            "_model_module_version": "1.5.0",
            "_model_name": "ProgressStyleModel",
            "_view_count": null,
            "_view_module": "@jupyter-widgets/base",
            "_view_module_version": "1.2.0",
            "_view_name": "StyleView",
            "bar_color": null,
            "description_width": ""
          }
        },
        "c52a8ed428ca4f37bfd856f0e3057582": {
          "model_module": "@jupyter-widgets/base",
          "model_name": "LayoutModel",
          "model_module_version": "1.2.0",
          "state": {
            "_model_module": "@jupyter-widgets/base",
            "_model_module_version": "1.2.0",
            "_model_name": "LayoutModel",
            "_view_count": null,
            "_view_module": "@jupyter-widgets/base",
            "_view_module_version": "1.2.0",
            "_view_name": "LayoutView",
            "align_content": null,
            "align_items": null,
            "align_self": null,
            "border": null,
            "bottom": null,
            "display": null,
            "flex": null,
            "flex_flow": null,
            "grid_area": null,
            "grid_auto_columns": null,
            "grid_auto_flow": null,
            "grid_auto_rows": null,
            "grid_column": null,
            "grid_gap": null,
            "grid_row": null,
            "grid_template_areas": null,
            "grid_template_columns": null,
            "grid_template_rows": null,
            "height": null,
            "justify_content": null,
            "justify_items": null,
            "left": null,
            "margin": null,
            "max_height": null,
            "max_width": null,
            "min_height": null,
            "min_width": null,
            "object_fit": null,
            "object_position": null,
            "order": null,
            "overflow": null,
            "overflow_x": null,
            "overflow_y": null,
            "padding": null,
            "right": null,
            "top": null,
            "visibility": null,
            "width": null
          }
        },
        "56574292684e408f94b6e7ea0efe4b1e": {
          "model_module": "@jupyter-widgets/controls",
          "model_name": "DescriptionStyleModel",
          "model_module_version": "1.5.0",
          "state": {
            "_model_module": "@jupyter-widgets/controls",
            "_model_module_version": "1.5.0",
            "_model_name": "DescriptionStyleModel",
            "_view_count": null,
            "_view_module": "@jupyter-widgets/base",
            "_view_module_version": "1.2.0",
            "_view_name": "StyleView",
            "description_width": ""
          }
        },
        "bafb806c6f29402bad6e92742e2f1654": {
          "model_module": "@jupyter-widgets/controls",
          "model_name": "HBoxModel",
          "model_module_version": "1.5.0",
          "state": {
            "_dom_classes": [],
            "_model_module": "@jupyter-widgets/controls",
            "_model_module_version": "1.5.0",
            "_model_name": "HBoxModel",
            "_view_count": null,
            "_view_module": "@jupyter-widgets/controls",
            "_view_module_version": "1.5.0",
            "_view_name": "HBoxView",
            "box_style": "",
            "children": [
              "IPY_MODEL_20bf730f364b48858e695556727ca996",
              "IPY_MODEL_f6c883f4feb34468b92c6cbb75e5633c",
              "IPY_MODEL_b43b7b75e4b242f9afd23ba178d67844"
            ],
            "layout": "IPY_MODEL_72a12689b66d478f9b95a93f2d4c2fa5"
          }
        },
        "20bf730f364b48858e695556727ca996": {
          "model_module": "@jupyter-widgets/controls",
          "model_name": "HTMLModel",
          "model_module_version": "1.5.0",
          "state": {
            "_dom_classes": [],
            "_model_module": "@jupyter-widgets/controls",
            "_model_module_version": "1.5.0",
            "_model_name": "HTMLModel",
            "_view_count": null,
            "_view_module": "@jupyter-widgets/controls",
            "_view_module_version": "1.5.0",
            "_view_name": "HTMLView",
            "description": "",
            "description_tooltip": null,
            "layout": "IPY_MODEL_344f2ed7b48b45f7851dc95ed7bbcb24",
            "placeholder": "​",
            "style": "IPY_MODEL_4113fda9715f48caba9f1b7728d9edcd",
            "value": "100%"
          }
        },
        "f6c883f4feb34468b92c6cbb75e5633c": {
          "model_module": "@jupyter-widgets/controls",
          "model_name": "FloatProgressModel",
          "model_module_version": "1.5.0",
          "state": {
            "_dom_classes": [],
            "_model_module": "@jupyter-widgets/controls",
            "_model_module_version": "1.5.0",
            "_model_name": "FloatProgressModel",
            "_view_count": null,
            "_view_module": "@jupyter-widgets/controls",
            "_view_module_version": "1.5.0",
            "_view_name": "ProgressView",
            "bar_style": "success",
            "description": "",
            "description_tooltip": null,
            "layout": "IPY_MODEL_5a97414a2080424c85517b8dc33bc89a",
            "max": 1,
            "min": 0,
            "orientation": "horizontal",
            "style": "IPY_MODEL_48367ca990f147acb8be40048653be10",
            "value": 1
          }
        },
        "b43b7b75e4b242f9afd23ba178d67844": {
          "model_module": "@jupyter-widgets/controls",
          "model_name": "HTMLModel",
          "model_module_version": "1.5.0",
          "state": {
            "_dom_classes": [],
            "_model_module": "@jupyter-widgets/controls",
            "_model_module_version": "1.5.0",
            "_model_name": "HTMLModel",
            "_view_count": null,
            "_view_module": "@jupyter-widgets/controls",
            "_view_module_version": "1.5.0",
            "_view_name": "HTMLView",
            "description": "",
            "description_tooltip": null,
            "layout": "IPY_MODEL_ff40f6f41294484d9e2349f17f09aea7",
            "placeholder": "​",
            "style": "IPY_MODEL_1fc7100b8fc146eb9d2582026f2e4fd0",
            "value": " 1/1 [00:00&lt;00:00, 58.55it/s]"
          }
        },
        "72a12689b66d478f9b95a93f2d4c2fa5": {
          "model_module": "@jupyter-widgets/base",
          "model_name": "LayoutModel",
          "model_module_version": "1.2.0",
          "state": {
            "_model_module": "@jupyter-widgets/base",
            "_model_module_version": "1.2.0",
            "_model_name": "LayoutModel",
            "_view_count": null,
            "_view_module": "@jupyter-widgets/base",
            "_view_module_version": "1.2.0",
            "_view_name": "LayoutView",
            "align_content": null,
            "align_items": null,
            "align_self": null,
            "border": null,
            "bottom": null,
            "display": null,
            "flex": null,
            "flex_flow": null,
            "grid_area": null,
            "grid_auto_columns": null,
            "grid_auto_flow": null,
            "grid_auto_rows": null,
            "grid_column": null,
            "grid_gap": null,
            "grid_row": null,
            "grid_template_areas": null,
            "grid_template_columns": null,
            "grid_template_rows": null,
            "height": null,
            "justify_content": null,
            "justify_items": null,
            "left": null,
            "margin": null,
            "max_height": null,
            "max_width": null,
            "min_height": null,
            "min_width": null,
            "object_fit": null,
            "object_position": null,
            "order": null,
            "overflow": null,
            "overflow_x": null,
            "overflow_y": null,
            "padding": null,
            "right": null,
            "top": null,
            "visibility": null,
            "width": null
          }
        },
        "344f2ed7b48b45f7851dc95ed7bbcb24": {
          "model_module": "@jupyter-widgets/base",
          "model_name": "LayoutModel",
          "model_module_version": "1.2.0",
          "state": {
            "_model_module": "@jupyter-widgets/base",
            "_model_module_version": "1.2.0",
            "_model_name": "LayoutModel",
            "_view_count": null,
            "_view_module": "@jupyter-widgets/base",
            "_view_module_version": "1.2.0",
            "_view_name": "LayoutView",
            "align_content": null,
            "align_items": null,
            "align_self": null,
            "border": null,
            "bottom": null,
            "display": null,
            "flex": null,
            "flex_flow": null,
            "grid_area": null,
            "grid_auto_columns": null,
            "grid_auto_flow": null,
            "grid_auto_rows": null,
            "grid_column": null,
            "grid_gap": null,
            "grid_row": null,
            "grid_template_areas": null,
            "grid_template_columns": null,
            "grid_template_rows": null,
            "height": null,
            "justify_content": null,
            "justify_items": null,
            "left": null,
            "margin": null,
            "max_height": null,
            "max_width": null,
            "min_height": null,
            "min_width": null,
            "object_fit": null,
            "object_position": null,
            "order": null,
            "overflow": null,
            "overflow_x": null,
            "overflow_y": null,
            "padding": null,
            "right": null,
            "top": null,
            "visibility": null,
            "width": null
          }
        },
        "4113fda9715f48caba9f1b7728d9edcd": {
          "model_module": "@jupyter-widgets/controls",
          "model_name": "DescriptionStyleModel",
          "model_module_version": "1.5.0",
          "state": {
            "_model_module": "@jupyter-widgets/controls",
            "_model_module_version": "1.5.0",
            "_model_name": "DescriptionStyleModel",
            "_view_count": null,
            "_view_module": "@jupyter-widgets/base",
            "_view_module_version": "1.2.0",
            "_view_name": "StyleView",
            "description_width": ""
          }
        },
        "5a97414a2080424c85517b8dc33bc89a": {
          "model_module": "@jupyter-widgets/base",
          "model_name": "LayoutModel",
          "model_module_version": "1.2.0",
          "state": {
            "_model_module": "@jupyter-widgets/base",
            "_model_module_version": "1.2.0",
            "_model_name": "LayoutModel",
            "_view_count": null,
            "_view_module": "@jupyter-widgets/base",
            "_view_module_version": "1.2.0",
            "_view_name": "LayoutView",
            "align_content": null,
            "align_items": null,
            "align_self": null,
            "border": null,
            "bottom": null,
            "display": null,
            "flex": null,
            "flex_flow": null,
            "grid_area": null,
            "grid_auto_columns": null,
            "grid_auto_flow": null,
            "grid_auto_rows": null,
            "grid_column": null,
            "grid_gap": null,
            "grid_row": null,
            "grid_template_areas": null,
            "grid_template_columns": null,
            "grid_template_rows": null,
            "height": null,
            "justify_content": null,
            "justify_items": null,
            "left": null,
            "margin": null,
            "max_height": null,
            "max_width": null,
            "min_height": null,
            "min_width": null,
            "object_fit": null,
            "object_position": null,
            "order": null,
            "overflow": null,
            "overflow_x": null,
            "overflow_y": null,
            "padding": null,
            "right": null,
            "top": null,
            "visibility": null,
            "width": null
          }
        },
        "48367ca990f147acb8be40048653be10": {
          "model_module": "@jupyter-widgets/controls",
          "model_name": "ProgressStyleModel",
          "model_module_version": "1.5.0",
          "state": {
            "_model_module": "@jupyter-widgets/controls",
            "_model_module_version": "1.5.0",
            "_model_name": "ProgressStyleModel",
            "_view_count": null,
            "_view_module": "@jupyter-widgets/base",
            "_view_module_version": "1.2.0",
            "_view_name": "StyleView",
            "bar_color": null,
            "description_width": ""
          }
        },
        "ff40f6f41294484d9e2349f17f09aea7": {
          "model_module": "@jupyter-widgets/base",
          "model_name": "LayoutModel",
          "model_module_version": "1.2.0",
          "state": {
            "_model_module": "@jupyter-widgets/base",
            "_model_module_version": "1.2.0",
            "_model_name": "LayoutModel",
            "_view_count": null,
            "_view_module": "@jupyter-widgets/base",
            "_view_module_version": "1.2.0",
            "_view_name": "LayoutView",
            "align_content": null,
            "align_items": null,
            "align_self": null,
            "border": null,
            "bottom": null,
            "display": null,
            "flex": null,
            "flex_flow": null,
            "grid_area": null,
            "grid_auto_columns": null,
            "grid_auto_flow": null,
            "grid_auto_rows": null,
            "grid_column": null,
            "grid_gap": null,
            "grid_row": null,
            "grid_template_areas": null,
            "grid_template_columns": null,
            "grid_template_rows": null,
            "height": null,
            "justify_content": null,
            "justify_items": null,
            "left": null,
            "margin": null,
            "max_height": null,
            "max_width": null,
            "min_height": null,
            "min_width": null,
            "object_fit": null,
            "object_position": null,
            "order": null,
            "overflow": null,
            "overflow_x": null,
            "overflow_y": null,
            "padding": null,
            "right": null,
            "top": null,
            "visibility": null,
            "width": null
          }
        },
        "1fc7100b8fc146eb9d2582026f2e4fd0": {
          "model_module": "@jupyter-widgets/controls",
          "model_name": "DescriptionStyleModel",
          "model_module_version": "1.5.0",
          "state": {
            "_model_module": "@jupyter-widgets/controls",
            "_model_module_version": "1.5.0",
            "_model_name": "DescriptionStyleModel",
            "_view_count": null,
            "_view_module": "@jupyter-widgets/base",
            "_view_module_version": "1.2.0",
            "_view_name": "StyleView",
            "description_width": ""
          }
        },
        "5aac3c1576da448795ad54e653cd111b": {
          "model_module": "@jupyter-widgets/controls",
          "model_name": "HBoxModel",
          "model_module_version": "1.5.0",
          "state": {
            "_dom_classes": [],
            "_model_module": "@jupyter-widgets/controls",
            "_model_module_version": "1.5.0",
            "_model_name": "HBoxModel",
            "_view_count": null,
            "_view_module": "@jupyter-widgets/controls",
            "_view_module_version": "1.5.0",
            "_view_name": "HBoxView",
            "box_style": "",
            "children": [
              "IPY_MODEL_5dd7f31220e04dfd943c5343f3863c44",
              "IPY_MODEL_111b6644cabc4b1aa2e436f6dc55d824",
              "IPY_MODEL_d1c8927626f74cf9b7ecb44dfacf787b"
            ],
            "layout": "IPY_MODEL_14769d7f1ab74917bd1731d03465b20d"
          }
        },
        "5dd7f31220e04dfd943c5343f3863c44": {
          "model_module": "@jupyter-widgets/controls",
          "model_name": "HTMLModel",
          "model_module_version": "1.5.0",
          "state": {
            "_dom_classes": [],
            "_model_module": "@jupyter-widgets/controls",
            "_model_module_version": "1.5.0",
            "_model_name": "HTMLModel",
            "_view_count": null,
            "_view_module": "@jupyter-widgets/controls",
            "_view_module_version": "1.5.0",
            "_view_name": "HTMLView",
            "description": "",
            "description_tooltip": null,
            "layout": "IPY_MODEL_513c4c12de184c0e918cc15cb5178b80",
            "placeholder": "​",
            "style": "IPY_MODEL_4d301722c3bc415eb4048f3debf4e93d",
            "value": "Map: 100%"
          }
        },
        "111b6644cabc4b1aa2e436f6dc55d824": {
          "model_module": "@jupyter-widgets/controls",
          "model_name": "FloatProgressModel",
          "model_module_version": "1.5.0",
          "state": {
            "_dom_classes": [],
            "_model_module": "@jupyter-widgets/controls",
            "_model_module_version": "1.5.0",
            "_model_name": "FloatProgressModel",
            "_view_count": null,
            "_view_module": "@jupyter-widgets/controls",
            "_view_module_version": "1.5.0",
            "_view_name": "ProgressView",
            "bar_style": "",
            "description": "",
            "description_tooltip": null,
            "layout": "IPY_MODEL_d07c6394b3434945a099db7d81339c73",
            "max": 16000,
            "min": 0,
            "orientation": "horizontal",
            "style": "IPY_MODEL_d31af60902944e659204c7ff65e67da6",
            "value": 16000
          }
        },
        "d1c8927626f74cf9b7ecb44dfacf787b": {
          "model_module": "@jupyter-widgets/controls",
          "model_name": "HTMLModel",
          "model_module_version": "1.5.0",
          "state": {
            "_dom_classes": [],
            "_model_module": "@jupyter-widgets/controls",
            "_model_module_version": "1.5.0",
            "_model_name": "HTMLModel",
            "_view_count": null,
            "_view_module": "@jupyter-widgets/controls",
            "_view_module_version": "1.5.0",
            "_view_name": "HTMLView",
            "description": "",
            "description_tooltip": null,
            "layout": "IPY_MODEL_05b5cd85997c4971ba528d6c2fb6a13f",
            "placeholder": "​",
            "style": "IPY_MODEL_7c59afd8983a40328a2b3938a6885536",
            "value": " 16000/16000 [00:38&lt;00:00, 422.84 examples/s]"
          }
        },
        "14769d7f1ab74917bd1731d03465b20d": {
          "model_module": "@jupyter-widgets/base",
          "model_name": "LayoutModel",
          "model_module_version": "1.2.0",
          "state": {
            "_model_module": "@jupyter-widgets/base",
            "_model_module_version": "1.2.0",
            "_model_name": "LayoutModel",
            "_view_count": null,
            "_view_module": "@jupyter-widgets/base",
            "_view_module_version": "1.2.0",
            "_view_name": "LayoutView",
            "align_content": null,
            "align_items": null,
            "align_self": null,
            "border": null,
            "bottom": null,
            "display": null,
            "flex": null,
            "flex_flow": null,
            "grid_area": null,
            "grid_auto_columns": null,
            "grid_auto_flow": null,
            "grid_auto_rows": null,
            "grid_column": null,
            "grid_gap": null,
            "grid_row": null,
            "grid_template_areas": null,
            "grid_template_columns": null,
            "grid_template_rows": null,
            "height": null,
            "justify_content": null,
            "justify_items": null,
            "left": null,
            "margin": null,
            "max_height": null,
            "max_width": null,
            "min_height": null,
            "min_width": null,
            "object_fit": null,
            "object_position": null,
            "order": null,
            "overflow": null,
            "overflow_x": null,
            "overflow_y": null,
            "padding": null,
            "right": null,
            "top": null,
            "visibility": "hidden",
            "width": null
          }
        },
        "513c4c12de184c0e918cc15cb5178b80": {
          "model_module": "@jupyter-widgets/base",
          "model_name": "LayoutModel",
          "model_module_version": "1.2.0",
          "state": {
            "_model_module": "@jupyter-widgets/base",
            "_model_module_version": "1.2.0",
            "_model_name": "LayoutModel",
            "_view_count": null,
            "_view_module": "@jupyter-widgets/base",
            "_view_module_version": "1.2.0",
            "_view_name": "LayoutView",
            "align_content": null,
            "align_items": null,
            "align_self": null,
            "border": null,
            "bottom": null,
            "display": null,
            "flex": null,
            "flex_flow": null,
            "grid_area": null,
            "grid_auto_columns": null,
            "grid_auto_flow": null,
            "grid_auto_rows": null,
            "grid_column": null,
            "grid_gap": null,
            "grid_row": null,
            "grid_template_areas": null,
            "grid_template_columns": null,
            "grid_template_rows": null,
            "height": null,
            "justify_content": null,
            "justify_items": null,
            "left": null,
            "margin": null,
            "max_height": null,
            "max_width": null,
            "min_height": null,
            "min_width": null,
            "object_fit": null,
            "object_position": null,
            "order": null,
            "overflow": null,
            "overflow_x": null,
            "overflow_y": null,
            "padding": null,
            "right": null,
            "top": null,
            "visibility": null,
            "width": null
          }
        },
        "4d301722c3bc415eb4048f3debf4e93d": {
          "model_module": "@jupyter-widgets/controls",
          "model_name": "DescriptionStyleModel",
          "model_module_version": "1.5.0",
          "state": {
            "_model_module": "@jupyter-widgets/controls",
            "_model_module_version": "1.5.0",
            "_model_name": "DescriptionStyleModel",
            "_view_count": null,
            "_view_module": "@jupyter-widgets/base",
            "_view_module_version": "1.2.0",
            "_view_name": "StyleView",
            "description_width": ""
          }
        },
        "d07c6394b3434945a099db7d81339c73": {
          "model_module": "@jupyter-widgets/base",
          "model_name": "LayoutModel",
          "model_module_version": "1.2.0",
          "state": {
            "_model_module": "@jupyter-widgets/base",
            "_model_module_version": "1.2.0",
            "_model_name": "LayoutModel",
            "_view_count": null,
            "_view_module": "@jupyter-widgets/base",
            "_view_module_version": "1.2.0",
            "_view_name": "LayoutView",
            "align_content": null,
            "align_items": null,
            "align_self": null,
            "border": null,
            "bottom": null,
            "display": null,
            "flex": null,
            "flex_flow": null,
            "grid_area": null,
            "grid_auto_columns": null,
            "grid_auto_flow": null,
            "grid_auto_rows": null,
            "grid_column": null,
            "grid_gap": null,
            "grid_row": null,
            "grid_template_areas": null,
            "grid_template_columns": null,
            "grid_template_rows": null,
            "height": null,
            "justify_content": null,
            "justify_items": null,
            "left": null,
            "margin": null,
            "max_height": null,
            "max_width": null,
            "min_height": null,
            "min_width": null,
            "object_fit": null,
            "object_position": null,
            "order": null,
            "overflow": null,
            "overflow_x": null,
            "overflow_y": null,
            "padding": null,
            "right": null,
            "top": null,
            "visibility": null,
            "width": null
          }
        },
        "d31af60902944e659204c7ff65e67da6": {
          "model_module": "@jupyter-widgets/controls",
          "model_name": "ProgressStyleModel",
          "model_module_version": "1.5.0",
          "state": {
            "_model_module": "@jupyter-widgets/controls",
            "_model_module_version": "1.5.0",
            "_model_name": "ProgressStyleModel",
            "_view_count": null,
            "_view_module": "@jupyter-widgets/base",
            "_view_module_version": "1.2.0",
            "_view_name": "StyleView",
            "bar_color": null,
            "description_width": ""
          }
        },
        "05b5cd85997c4971ba528d6c2fb6a13f": {
          "model_module": "@jupyter-widgets/base",
          "model_name": "LayoutModel",
          "model_module_version": "1.2.0",
          "state": {
            "_model_module": "@jupyter-widgets/base",
            "_model_module_version": "1.2.0",
            "_model_name": "LayoutModel",
            "_view_count": null,
            "_view_module": "@jupyter-widgets/base",
            "_view_module_version": "1.2.0",
            "_view_name": "LayoutView",
            "align_content": null,
            "align_items": null,
            "align_self": null,
            "border": null,
            "bottom": null,
            "display": null,
            "flex": null,
            "flex_flow": null,
            "grid_area": null,
            "grid_auto_columns": null,
            "grid_auto_flow": null,
            "grid_auto_rows": null,
            "grid_column": null,
            "grid_gap": null,
            "grid_row": null,
            "grid_template_areas": null,
            "grid_template_columns": null,
            "grid_template_rows": null,
            "height": null,
            "justify_content": null,
            "justify_items": null,
            "left": null,
            "margin": null,
            "max_height": null,
            "max_width": null,
            "min_height": null,
            "min_width": null,
            "object_fit": null,
            "object_position": null,
            "order": null,
            "overflow": null,
            "overflow_x": null,
            "overflow_y": null,
            "padding": null,
            "right": null,
            "top": null,
            "visibility": null,
            "width": null
          }
        },
        "7c59afd8983a40328a2b3938a6885536": {
          "model_module": "@jupyter-widgets/controls",
          "model_name": "DescriptionStyleModel",
          "model_module_version": "1.5.0",
          "state": {
            "_model_module": "@jupyter-widgets/controls",
            "_model_module_version": "1.5.0",
            "_model_name": "DescriptionStyleModel",
            "_view_count": null,
            "_view_module": "@jupyter-widgets/base",
            "_view_module_version": "1.2.0",
            "_view_name": "StyleView",
            "description_width": ""
          }
        },
        "054f9273fea548e7908deae2ed235bd5": {
          "model_module": "@jupyter-widgets/controls",
          "model_name": "HBoxModel",
          "model_module_version": "1.5.0",
          "state": {
            "_dom_classes": [],
            "_model_module": "@jupyter-widgets/controls",
            "_model_module_version": "1.5.0",
            "_model_name": "HBoxModel",
            "_view_count": null,
            "_view_module": "@jupyter-widgets/controls",
            "_view_module_version": "1.5.0",
            "_view_name": "HBoxView",
            "box_style": "",
            "children": [
              "IPY_MODEL_cc3e081bc9424452ab1d6cd8a4aa209d",
              "IPY_MODEL_03e18a771e6a406ea213c5b6a6071719",
              "IPY_MODEL_04c2c3b9ce444145a3040c4cc91419cb"
            ],
            "layout": "IPY_MODEL_fa1dcb3c89f04bd79c41a4d709ea7c8d"
          }
        },
        "cc3e081bc9424452ab1d6cd8a4aa209d": {
          "model_module": "@jupyter-widgets/controls",
          "model_name": "HTMLModel",
          "model_module_version": "1.5.0",
          "state": {
            "_dom_classes": [],
            "_model_module": "@jupyter-widgets/controls",
            "_model_module_version": "1.5.0",
            "_model_name": "HTMLModel",
            "_view_count": null,
            "_view_module": "@jupyter-widgets/controls",
            "_view_module_version": "1.5.0",
            "_view_name": "HTMLView",
            "description": "",
            "description_tooltip": null,
            "layout": "IPY_MODEL_eb343f628c7d4ba79859fe04af9dd5f6",
            "placeholder": "​",
            "style": "IPY_MODEL_65b7d45d759640babec5cfdaafb545c0",
            "value": "Map: 100%"
          }
        },
        "03e18a771e6a406ea213c5b6a6071719": {
          "model_module": "@jupyter-widgets/controls",
          "model_name": "FloatProgressModel",
          "model_module_version": "1.5.0",
          "state": {
            "_dom_classes": [],
            "_model_module": "@jupyter-widgets/controls",
            "_model_module_version": "1.5.0",
            "_model_name": "FloatProgressModel",
            "_view_count": null,
            "_view_module": "@jupyter-widgets/controls",
            "_view_module_version": "1.5.0",
            "_view_name": "ProgressView",
            "bar_style": "",
            "description": "",
            "description_tooltip": null,
            "layout": "IPY_MODEL_2eaf5f5dd3fd4df7927714bc9dda4329",
            "max": 2000,
            "min": 0,
            "orientation": "horizontal",
            "style": "IPY_MODEL_0199c6c9ff5a4de79e48ae1b6a74a74a",
            "value": 2000
          }
        },
        "04c2c3b9ce444145a3040c4cc91419cb": {
          "model_module": "@jupyter-widgets/controls",
          "model_name": "HTMLModel",
          "model_module_version": "1.5.0",
          "state": {
            "_dom_classes": [],
            "_model_module": "@jupyter-widgets/controls",
            "_model_module_version": "1.5.0",
            "_model_name": "HTMLModel",
            "_view_count": null,
            "_view_module": "@jupyter-widgets/controls",
            "_view_module_version": "1.5.0",
            "_view_name": "HTMLView",
            "description": "",
            "description_tooltip": null,
            "layout": "IPY_MODEL_65693609d6ee47ca95e7d547df3287a8",
            "placeholder": "​",
            "style": "IPY_MODEL_ced27d43366c4a9caf540b112ac58950",
            "value": " 2000/2000 [00:03&lt;00:00, 549.01 examples/s]"
          }
        },
        "fa1dcb3c89f04bd79c41a4d709ea7c8d": {
          "model_module": "@jupyter-widgets/base",
          "model_name": "LayoutModel",
          "model_module_version": "1.2.0",
          "state": {
            "_model_module": "@jupyter-widgets/base",
            "_model_module_version": "1.2.0",
            "_model_name": "LayoutModel",
            "_view_count": null,
            "_view_module": "@jupyter-widgets/base",
            "_view_module_version": "1.2.0",
            "_view_name": "LayoutView",
            "align_content": null,
            "align_items": null,
            "align_self": null,
            "border": null,
            "bottom": null,
            "display": null,
            "flex": null,
            "flex_flow": null,
            "grid_area": null,
            "grid_auto_columns": null,
            "grid_auto_flow": null,
            "grid_auto_rows": null,
            "grid_column": null,
            "grid_gap": null,
            "grid_row": null,
            "grid_template_areas": null,
            "grid_template_columns": null,
            "grid_template_rows": null,
            "height": null,
            "justify_content": null,
            "justify_items": null,
            "left": null,
            "margin": null,
            "max_height": null,
            "max_width": null,
            "min_height": null,
            "min_width": null,
            "object_fit": null,
            "object_position": null,
            "order": null,
            "overflow": null,
            "overflow_x": null,
            "overflow_y": null,
            "padding": null,
            "right": null,
            "top": null,
            "visibility": "hidden",
            "width": null
          }
        },
        "eb343f628c7d4ba79859fe04af9dd5f6": {
          "model_module": "@jupyter-widgets/base",
          "model_name": "LayoutModel",
          "model_module_version": "1.2.0",
          "state": {
            "_model_module": "@jupyter-widgets/base",
            "_model_module_version": "1.2.0",
            "_model_name": "LayoutModel",
            "_view_count": null,
            "_view_module": "@jupyter-widgets/base",
            "_view_module_version": "1.2.0",
            "_view_name": "LayoutView",
            "align_content": null,
            "align_items": null,
            "align_self": null,
            "border": null,
            "bottom": null,
            "display": null,
            "flex": null,
            "flex_flow": null,
            "grid_area": null,
            "grid_auto_columns": null,
            "grid_auto_flow": null,
            "grid_auto_rows": null,
            "grid_column": null,
            "grid_gap": null,
            "grid_row": null,
            "grid_template_areas": null,
            "grid_template_columns": null,
            "grid_template_rows": null,
            "height": null,
            "justify_content": null,
            "justify_items": null,
            "left": null,
            "margin": null,
            "max_height": null,
            "max_width": null,
            "min_height": null,
            "min_width": null,
            "object_fit": null,
            "object_position": null,
            "order": null,
            "overflow": null,
            "overflow_x": null,
            "overflow_y": null,
            "padding": null,
            "right": null,
            "top": null,
            "visibility": null,
            "width": null
          }
        },
        "65b7d45d759640babec5cfdaafb545c0": {
          "model_module": "@jupyter-widgets/controls",
          "model_name": "DescriptionStyleModel",
          "model_module_version": "1.5.0",
          "state": {
            "_model_module": "@jupyter-widgets/controls",
            "_model_module_version": "1.5.0",
            "_model_name": "DescriptionStyleModel",
            "_view_count": null,
            "_view_module": "@jupyter-widgets/base",
            "_view_module_version": "1.2.0",
            "_view_name": "StyleView",
            "description_width": ""
          }
        },
        "2eaf5f5dd3fd4df7927714bc9dda4329": {
          "model_module": "@jupyter-widgets/base",
          "model_name": "LayoutModel",
          "model_module_version": "1.2.0",
          "state": {
            "_model_module": "@jupyter-widgets/base",
            "_model_module_version": "1.2.0",
            "_model_name": "LayoutModel",
            "_view_count": null,
            "_view_module": "@jupyter-widgets/base",
            "_view_module_version": "1.2.0",
            "_view_name": "LayoutView",
            "align_content": null,
            "align_items": null,
            "align_self": null,
            "border": null,
            "bottom": null,
            "display": null,
            "flex": null,
            "flex_flow": null,
            "grid_area": null,
            "grid_auto_columns": null,
            "grid_auto_flow": null,
            "grid_auto_rows": null,
            "grid_column": null,
            "grid_gap": null,
            "grid_row": null,
            "grid_template_areas": null,
            "grid_template_columns": null,
            "grid_template_rows": null,
            "height": null,
            "justify_content": null,
            "justify_items": null,
            "left": null,
            "margin": null,
            "max_height": null,
            "max_width": null,
            "min_height": null,
            "min_width": null,
            "object_fit": null,
            "object_position": null,
            "order": null,
            "overflow": null,
            "overflow_x": null,
            "overflow_y": null,
            "padding": null,
            "right": null,
            "top": null,
            "visibility": null,
            "width": null
          }
        },
        "0199c6c9ff5a4de79e48ae1b6a74a74a": {
          "model_module": "@jupyter-widgets/controls",
          "model_name": "ProgressStyleModel",
          "model_module_version": "1.5.0",
          "state": {
            "_model_module": "@jupyter-widgets/controls",
            "_model_module_version": "1.5.0",
            "_model_name": "ProgressStyleModel",
            "_view_count": null,
            "_view_module": "@jupyter-widgets/base",
            "_view_module_version": "1.2.0",
            "_view_name": "StyleView",
            "bar_color": null,
            "description_width": ""
          }
        },
        "65693609d6ee47ca95e7d547df3287a8": {
          "model_module": "@jupyter-widgets/base",
          "model_name": "LayoutModel",
          "model_module_version": "1.2.0",
          "state": {
            "_model_module": "@jupyter-widgets/base",
            "_model_module_version": "1.2.0",
            "_model_name": "LayoutModel",
            "_view_count": null,
            "_view_module": "@jupyter-widgets/base",
            "_view_module_version": "1.2.0",
            "_view_name": "LayoutView",
            "align_content": null,
            "align_items": null,
            "align_self": null,
            "border": null,
            "bottom": null,
            "display": null,
            "flex": null,
            "flex_flow": null,
            "grid_area": null,
            "grid_auto_columns": null,
            "grid_auto_flow": null,
            "grid_auto_rows": null,
            "grid_column": null,
            "grid_gap": null,
            "grid_row": null,
            "grid_template_areas": null,
            "grid_template_columns": null,
            "grid_template_rows": null,
            "height": null,
            "justify_content": null,
            "justify_items": null,
            "left": null,
            "margin": null,
            "max_height": null,
            "max_width": null,
            "min_height": null,
            "min_width": null,
            "object_fit": null,
            "object_position": null,
            "order": null,
            "overflow": null,
            "overflow_x": null,
            "overflow_y": null,
            "padding": null,
            "right": null,
            "top": null,
            "visibility": null,
            "width": null
          }
        },
        "ced27d43366c4a9caf540b112ac58950": {
          "model_module": "@jupyter-widgets/controls",
          "model_name": "DescriptionStyleModel",
          "model_module_version": "1.5.0",
          "state": {
            "_model_module": "@jupyter-widgets/controls",
            "_model_module_version": "1.5.0",
            "_model_name": "DescriptionStyleModel",
            "_view_count": null,
            "_view_module": "@jupyter-widgets/base",
            "_view_module_version": "1.2.0",
            "_view_name": "StyleView",
            "description_width": ""
          }
        },
        "6bb142ba51b84592900ffd14cef7347e": {
          "model_module": "@jupyter-widgets/controls",
          "model_name": "HBoxModel",
          "model_module_version": "1.5.0",
          "state": {
            "_dom_classes": [],
            "_model_module": "@jupyter-widgets/controls",
            "_model_module_version": "1.5.0",
            "_model_name": "HBoxModel",
            "_view_count": null,
            "_view_module": "@jupyter-widgets/controls",
            "_view_module_version": "1.5.0",
            "_view_name": "HBoxView",
            "box_style": "",
            "children": [
              "IPY_MODEL_e8a6618989384963b3d00a5875385495",
              "IPY_MODEL_34fbe03c2f3d4ab2814facd2fb70b1ad",
              "IPY_MODEL_9122a0be1bf2489ca0edbeb9bdf2687d"
            ],
            "layout": "IPY_MODEL_c36722d495dd4db0ba0f8c35ba463ab3"
          }
        },
        "e8a6618989384963b3d00a5875385495": {
          "model_module": "@jupyter-widgets/controls",
          "model_name": "HTMLModel",
          "model_module_version": "1.5.0",
          "state": {
            "_dom_classes": [],
            "_model_module": "@jupyter-widgets/controls",
            "_model_module_version": "1.5.0",
            "_model_name": "HTMLModel",
            "_view_count": null,
            "_view_module": "@jupyter-widgets/controls",
            "_view_module_version": "1.5.0",
            "_view_name": "HTMLView",
            "description": "",
            "description_tooltip": null,
            "layout": "IPY_MODEL_02570ab547494048883b348735a8e904",
            "placeholder": "​",
            "style": "IPY_MODEL_133982d2e03244ae96e1bb9e2b45ac5a",
            "value": "Map: 100%"
          }
        },
        "34fbe03c2f3d4ab2814facd2fb70b1ad": {
          "model_module": "@jupyter-widgets/controls",
          "model_name": "FloatProgressModel",
          "model_module_version": "1.5.0",
          "state": {
            "_dom_classes": [],
            "_model_module": "@jupyter-widgets/controls",
            "_model_module_version": "1.5.0",
            "_model_name": "FloatProgressModel",
            "_view_count": null,
            "_view_module": "@jupyter-widgets/controls",
            "_view_module_version": "1.5.0",
            "_view_name": "ProgressView",
            "bar_style": "",
            "description": "",
            "description_tooltip": null,
            "layout": "IPY_MODEL_c25ef4b6586c41aeabdb2376fda76683",
            "max": 2000,
            "min": 0,
            "orientation": "horizontal",
            "style": "IPY_MODEL_aaadab81cfa24483987e07077d3ca78a",
            "value": 2000
          }
        },
        "9122a0be1bf2489ca0edbeb9bdf2687d": {
          "model_module": "@jupyter-widgets/controls",
          "model_name": "HTMLModel",
          "model_module_version": "1.5.0",
          "state": {
            "_dom_classes": [],
            "_model_module": "@jupyter-widgets/controls",
            "_model_module_version": "1.5.0",
            "_model_name": "HTMLModel",
            "_view_count": null,
            "_view_module": "@jupyter-widgets/controls",
            "_view_module_version": "1.5.0",
            "_view_name": "HTMLView",
            "description": "",
            "description_tooltip": null,
            "layout": "IPY_MODEL_c73c0637b62647018d73ad18917832da",
            "placeholder": "​",
            "style": "IPY_MODEL_c35dae67175c420cb532f558211197b4",
            "value": " 2000/2000 [00:03&lt;00:00, 549.14 examples/s]"
          }
        },
        "c36722d495dd4db0ba0f8c35ba463ab3": {
          "model_module": "@jupyter-widgets/base",
          "model_name": "LayoutModel",
          "model_module_version": "1.2.0",
          "state": {
            "_model_module": "@jupyter-widgets/base",
            "_model_module_version": "1.2.0",
            "_model_name": "LayoutModel",
            "_view_count": null,
            "_view_module": "@jupyter-widgets/base",
            "_view_module_version": "1.2.0",
            "_view_name": "LayoutView",
            "align_content": null,
            "align_items": null,
            "align_self": null,
            "border": null,
            "bottom": null,
            "display": null,
            "flex": null,
            "flex_flow": null,
            "grid_area": null,
            "grid_auto_columns": null,
            "grid_auto_flow": null,
            "grid_auto_rows": null,
            "grid_column": null,
            "grid_gap": null,
            "grid_row": null,
            "grid_template_areas": null,
            "grid_template_columns": null,
            "grid_template_rows": null,
            "height": null,
            "justify_content": null,
            "justify_items": null,
            "left": null,
            "margin": null,
            "max_height": null,
            "max_width": null,
            "min_height": null,
            "min_width": null,
            "object_fit": null,
            "object_position": null,
            "order": null,
            "overflow": null,
            "overflow_x": null,
            "overflow_y": null,
            "padding": null,
            "right": null,
            "top": null,
            "visibility": "hidden",
            "width": null
          }
        },
        "02570ab547494048883b348735a8e904": {
          "model_module": "@jupyter-widgets/base",
          "model_name": "LayoutModel",
          "model_module_version": "1.2.0",
          "state": {
            "_model_module": "@jupyter-widgets/base",
            "_model_module_version": "1.2.0",
            "_model_name": "LayoutModel",
            "_view_count": null,
            "_view_module": "@jupyter-widgets/base",
            "_view_module_version": "1.2.0",
            "_view_name": "LayoutView",
            "align_content": null,
            "align_items": null,
            "align_self": null,
            "border": null,
            "bottom": null,
            "display": null,
            "flex": null,
            "flex_flow": null,
            "grid_area": null,
            "grid_auto_columns": null,
            "grid_auto_flow": null,
            "grid_auto_rows": null,
            "grid_column": null,
            "grid_gap": null,
            "grid_row": null,
            "grid_template_areas": null,
            "grid_template_columns": null,
            "grid_template_rows": null,
            "height": null,
            "justify_content": null,
            "justify_items": null,
            "left": null,
            "margin": null,
            "max_height": null,
            "max_width": null,
            "min_height": null,
            "min_width": null,
            "object_fit": null,
            "object_position": null,
            "order": null,
            "overflow": null,
            "overflow_x": null,
            "overflow_y": null,
            "padding": null,
            "right": null,
            "top": null,
            "visibility": null,
            "width": null
          }
        },
        "133982d2e03244ae96e1bb9e2b45ac5a": {
          "model_module": "@jupyter-widgets/controls",
          "model_name": "DescriptionStyleModel",
          "model_module_version": "1.5.0",
          "state": {
            "_model_module": "@jupyter-widgets/controls",
            "_model_module_version": "1.5.0",
            "_model_name": "DescriptionStyleModel",
            "_view_count": null,
            "_view_module": "@jupyter-widgets/base",
            "_view_module_version": "1.2.0",
            "_view_name": "StyleView",
            "description_width": ""
          }
        },
        "c25ef4b6586c41aeabdb2376fda76683": {
          "model_module": "@jupyter-widgets/base",
          "model_name": "LayoutModel",
          "model_module_version": "1.2.0",
          "state": {
            "_model_module": "@jupyter-widgets/base",
            "_model_module_version": "1.2.0",
            "_model_name": "LayoutModel",
            "_view_count": null,
            "_view_module": "@jupyter-widgets/base",
            "_view_module_version": "1.2.0",
            "_view_name": "LayoutView",
            "align_content": null,
            "align_items": null,
            "align_self": null,
            "border": null,
            "bottom": null,
            "display": null,
            "flex": null,
            "flex_flow": null,
            "grid_area": null,
            "grid_auto_columns": null,
            "grid_auto_flow": null,
            "grid_auto_rows": null,
            "grid_column": null,
            "grid_gap": null,
            "grid_row": null,
            "grid_template_areas": null,
            "grid_template_columns": null,
            "grid_template_rows": null,
            "height": null,
            "justify_content": null,
            "justify_items": null,
            "left": null,
            "margin": null,
            "max_height": null,
            "max_width": null,
            "min_height": null,
            "min_width": null,
            "object_fit": null,
            "object_position": null,
            "order": null,
            "overflow": null,
            "overflow_x": null,
            "overflow_y": null,
            "padding": null,
            "right": null,
            "top": null,
            "visibility": null,
            "width": null
          }
        },
        "aaadab81cfa24483987e07077d3ca78a": {
          "model_module": "@jupyter-widgets/controls",
          "model_name": "ProgressStyleModel",
          "model_module_version": "1.5.0",
          "state": {
            "_model_module": "@jupyter-widgets/controls",
            "_model_module_version": "1.5.0",
            "_model_name": "ProgressStyleModel",
            "_view_count": null,
            "_view_module": "@jupyter-widgets/base",
            "_view_module_version": "1.2.0",
            "_view_name": "StyleView",
            "bar_color": null,
            "description_width": ""
          }
        },
        "c73c0637b62647018d73ad18917832da": {
          "model_module": "@jupyter-widgets/base",
          "model_name": "LayoutModel",
          "model_module_version": "1.2.0",
          "state": {
            "_model_module": "@jupyter-widgets/base",
            "_model_module_version": "1.2.0",
            "_model_name": "LayoutModel",
            "_view_count": null,
            "_view_module": "@jupyter-widgets/base",
            "_view_module_version": "1.2.0",
            "_view_name": "LayoutView",
            "align_content": null,
            "align_items": null,
            "align_self": null,
            "border": null,
            "bottom": null,
            "display": null,
            "flex": null,
            "flex_flow": null,
            "grid_area": null,
            "grid_auto_columns": null,
            "grid_auto_flow": null,
            "grid_auto_rows": null,
            "grid_column": null,
            "grid_gap": null,
            "grid_row": null,
            "grid_template_areas": null,
            "grid_template_columns": null,
            "grid_template_rows": null,
            "height": null,
            "justify_content": null,
            "justify_items": null,
            "left": null,
            "margin": null,
            "max_height": null,
            "max_width": null,
            "min_height": null,
            "min_width": null,
            "object_fit": null,
            "object_position": null,
            "order": null,
            "overflow": null,
            "overflow_x": null,
            "overflow_y": null,
            "padding": null,
            "right": null,
            "top": null,
            "visibility": null,
            "width": null
          }
        },
        "c35dae67175c420cb532f558211197b4": {
          "model_module": "@jupyter-widgets/controls",
          "model_name": "DescriptionStyleModel",
          "model_module_version": "1.5.0",
          "state": {
            "_model_module": "@jupyter-widgets/controls",
            "_model_module_version": "1.5.0",
            "_model_name": "DescriptionStyleModel",
            "_view_count": null,
            "_view_module": "@jupyter-widgets/base",
            "_view_module_version": "1.2.0",
            "_view_name": "StyleView",
            "description_width": ""
          }
        },
        "e69e79510c5842e7a850639784faf54c": {
          "model_module": "@jupyter-widgets/controls",
          "model_name": "VBoxModel",
          "model_module_version": "1.5.0",
          "state": {
            "_dom_classes": [],
            "_model_module": "@jupyter-widgets/controls",
            "_model_module_version": "1.5.0",
            "_model_name": "VBoxModel",
            "_view_count": null,
            "_view_module": "@jupyter-widgets/controls",
            "_view_module_version": "1.5.0",
            "_view_name": "VBoxView",
            "box_style": "",
            "children": [
              "IPY_MODEL_1b4c60f3c8c64afa8c156f826d431c40",
              "IPY_MODEL_b746aa22307d4d2592024112a74e760d",
              "IPY_MODEL_7e0cb4a2082743fe8c7bb90fdc967bc7",
              "IPY_MODEL_6514e5abd0444036b9d364a9f75f6709"
            ],
            "layout": "IPY_MODEL_f6c87311e704489588fb933b76a462ff"
          }
        },
        "be66771ca1c047b698d6cbe6c35f1448": {
          "model_module": "@jupyter-widgets/controls",
          "model_name": "HTMLModel",
          "model_module_version": "1.5.0",
          "state": {
            "_dom_classes": [],
            "_model_module": "@jupyter-widgets/controls",
            "_model_module_version": "1.5.0",
            "_model_name": "HTMLModel",
            "_view_count": null,
            "_view_module": "@jupyter-widgets/controls",
            "_view_module_version": "1.5.0",
            "_view_name": "HTMLView",
            "description": "",
            "description_tooltip": null,
            "layout": "IPY_MODEL_ce3500d0931d49a98b6e60578d070588",
            "placeholder": "​",
            "style": "IPY_MODEL_95a6af27878340838ac30f00b679aef1",
            "value": "<center> <img\nsrc=https://huggingface.co/front/assets/huggingface_logo-noborder.svg\nalt='Hugging Face'> <br> Copy a token from <a\nhref=\"https://huggingface.co/settings/tokens\" target=\"_blank\">your Hugging Face\ntokens page</a> and paste it below. <br> Immediately click login after copying\nyour token or it might be stored in plain text in this notebook file. </center>"
          }
        },
        "6c5205cbba6740f1b5ee048ef22928ec": {
          "model_module": "@jupyter-widgets/controls",
          "model_name": "PasswordModel",
          "model_module_version": "1.5.0",
          "state": {
            "_dom_classes": [],
            "_model_module": "@jupyter-widgets/controls",
            "_model_module_version": "1.5.0",
            "_model_name": "PasswordModel",
            "_view_count": null,
            "_view_module": "@jupyter-widgets/controls",
            "_view_module_version": "1.5.0",
            "_view_name": "PasswordView",
            "continuous_update": true,
            "description": "Token:",
            "description_tooltip": null,
            "disabled": false,
            "layout": "IPY_MODEL_f81b1a4ca7b64b20945f1b9db13b391b",
            "placeholder": "​",
            "style": "IPY_MODEL_a8b23ef86c8a450abf18d3101e53518a",
            "value": ""
          }
        },
        "5bd806844f494dd2b786de996f4298ec": {
          "model_module": "@jupyter-widgets/controls",
          "model_name": "CheckboxModel",
          "model_module_version": "1.5.0",
          "state": {
            "_dom_classes": [],
            "_model_module": "@jupyter-widgets/controls",
            "_model_module_version": "1.5.0",
            "_model_name": "CheckboxModel",
            "_view_count": null,
            "_view_module": "@jupyter-widgets/controls",
            "_view_module_version": "1.5.0",
            "_view_name": "CheckboxView",
            "description": "Add token as git credential?",
            "description_tooltip": null,
            "disabled": false,
            "indent": true,
            "layout": "IPY_MODEL_b7ae877f38f94c959aee25746bf194b0",
            "style": "IPY_MODEL_297c06267c73429db1a8d191e5f22894",
            "value": true
          }
        },
        "de1f414c0c0e483f88b2c4fcabe7fc08": {
          "model_module": "@jupyter-widgets/controls",
          "model_name": "ButtonModel",
          "model_module_version": "1.5.0",
          "state": {
            "_dom_classes": [],
            "_model_module": "@jupyter-widgets/controls",
            "_model_module_version": "1.5.0",
            "_model_name": "ButtonModel",
            "_view_count": null,
            "_view_module": "@jupyter-widgets/controls",
            "_view_module_version": "1.5.0",
            "_view_name": "ButtonView",
            "button_style": "",
            "description": "Login",
            "disabled": false,
            "icon": "",
            "layout": "IPY_MODEL_8b1badb60e4742b7ae96f9f094544dab",
            "style": "IPY_MODEL_c8e54ce2ce8044188c17b3e8391c2031",
            "tooltip": ""
          }
        },
        "303de034df9f469f8e761a8f4c8c1a6f": {
          "model_module": "@jupyter-widgets/controls",
          "model_name": "HTMLModel",
          "model_module_version": "1.5.0",
          "state": {
            "_dom_classes": [],
            "_model_module": "@jupyter-widgets/controls",
            "_model_module_version": "1.5.0",
            "_model_name": "HTMLModel",
            "_view_count": null,
            "_view_module": "@jupyter-widgets/controls",
            "_view_module_version": "1.5.0",
            "_view_name": "HTMLView",
            "description": "",
            "description_tooltip": null,
            "layout": "IPY_MODEL_55e8de69dd984113b620718e465b4e87",
            "placeholder": "​",
            "style": "IPY_MODEL_4b2fbe3e7d73407cb72ee1417b0a8d94",
            "value": "\n<b>Pro Tip:</b> If you don't already have one, you can create a dedicated\n'notebooks' token with 'write' access, that you can then easily reuse for all\nnotebooks. </center>"
          }
        },
        "f6c87311e704489588fb933b76a462ff": {
          "model_module": "@jupyter-widgets/base",
          "model_name": "LayoutModel",
          "model_module_version": "1.2.0",
          "state": {
            "_model_module": "@jupyter-widgets/base",
            "_model_module_version": "1.2.0",
            "_model_name": "LayoutModel",
            "_view_count": null,
            "_view_module": "@jupyter-widgets/base",
            "_view_module_version": "1.2.0",
            "_view_name": "LayoutView",
            "align_content": null,
            "align_items": "center",
            "align_self": null,
            "border": null,
            "bottom": null,
            "display": "flex",
            "flex": null,
            "flex_flow": "column",
            "grid_area": null,
            "grid_auto_columns": null,
            "grid_auto_flow": null,
            "grid_auto_rows": null,
            "grid_column": null,
            "grid_gap": null,
            "grid_row": null,
            "grid_template_areas": null,
            "grid_template_columns": null,
            "grid_template_rows": null,
            "height": null,
            "justify_content": null,
            "justify_items": null,
            "left": null,
            "margin": null,
            "max_height": null,
            "max_width": null,
            "min_height": null,
            "min_width": null,
            "object_fit": null,
            "object_position": null,
            "order": null,
            "overflow": null,
            "overflow_x": null,
            "overflow_y": null,
            "padding": null,
            "right": null,
            "top": null,
            "visibility": null,
            "width": "50%"
          }
        },
        "ce3500d0931d49a98b6e60578d070588": {
          "model_module": "@jupyter-widgets/base",
          "model_name": "LayoutModel",
          "model_module_version": "1.2.0",
          "state": {
            "_model_module": "@jupyter-widgets/base",
            "_model_module_version": "1.2.0",
            "_model_name": "LayoutModel",
            "_view_count": null,
            "_view_module": "@jupyter-widgets/base",
            "_view_module_version": "1.2.0",
            "_view_name": "LayoutView",
            "align_content": null,
            "align_items": null,
            "align_self": null,
            "border": null,
            "bottom": null,
            "display": null,
            "flex": null,
            "flex_flow": null,
            "grid_area": null,
            "grid_auto_columns": null,
            "grid_auto_flow": null,
            "grid_auto_rows": null,
            "grid_column": null,
            "grid_gap": null,
            "grid_row": null,
            "grid_template_areas": null,
            "grid_template_columns": null,
            "grid_template_rows": null,
            "height": null,
            "justify_content": null,
            "justify_items": null,
            "left": null,
            "margin": null,
            "max_height": null,
            "max_width": null,
            "min_height": null,
            "min_width": null,
            "object_fit": null,
            "object_position": null,
            "order": null,
            "overflow": null,
            "overflow_x": null,
            "overflow_y": null,
            "padding": null,
            "right": null,
            "top": null,
            "visibility": null,
            "width": null
          }
        },
        "95a6af27878340838ac30f00b679aef1": {
          "model_module": "@jupyter-widgets/controls",
          "model_name": "DescriptionStyleModel",
          "model_module_version": "1.5.0",
          "state": {
            "_model_module": "@jupyter-widgets/controls",
            "_model_module_version": "1.5.0",
            "_model_name": "DescriptionStyleModel",
            "_view_count": null,
            "_view_module": "@jupyter-widgets/base",
            "_view_module_version": "1.2.0",
            "_view_name": "StyleView",
            "description_width": ""
          }
        },
        "f81b1a4ca7b64b20945f1b9db13b391b": {
          "model_module": "@jupyter-widgets/base",
          "model_name": "LayoutModel",
          "model_module_version": "1.2.0",
          "state": {
            "_model_module": "@jupyter-widgets/base",
            "_model_module_version": "1.2.0",
            "_model_name": "LayoutModel",
            "_view_count": null,
            "_view_module": "@jupyter-widgets/base",
            "_view_module_version": "1.2.0",
            "_view_name": "LayoutView",
            "align_content": null,
            "align_items": null,
            "align_self": null,
            "border": null,
            "bottom": null,
            "display": null,
            "flex": null,
            "flex_flow": null,
            "grid_area": null,
            "grid_auto_columns": null,
            "grid_auto_flow": null,
            "grid_auto_rows": null,
            "grid_column": null,
            "grid_gap": null,
            "grid_row": null,
            "grid_template_areas": null,
            "grid_template_columns": null,
            "grid_template_rows": null,
            "height": null,
            "justify_content": null,
            "justify_items": null,
            "left": null,
            "margin": null,
            "max_height": null,
            "max_width": null,
            "min_height": null,
            "min_width": null,
            "object_fit": null,
            "object_position": null,
            "order": null,
            "overflow": null,
            "overflow_x": null,
            "overflow_y": null,
            "padding": null,
            "right": null,
            "top": null,
            "visibility": null,
            "width": null
          }
        },
        "a8b23ef86c8a450abf18d3101e53518a": {
          "model_module": "@jupyter-widgets/controls",
          "model_name": "DescriptionStyleModel",
          "model_module_version": "1.5.0",
          "state": {
            "_model_module": "@jupyter-widgets/controls",
            "_model_module_version": "1.5.0",
            "_model_name": "DescriptionStyleModel",
            "_view_count": null,
            "_view_module": "@jupyter-widgets/base",
            "_view_module_version": "1.2.0",
            "_view_name": "StyleView",
            "description_width": ""
          }
        },
        "b7ae877f38f94c959aee25746bf194b0": {
          "model_module": "@jupyter-widgets/base",
          "model_name": "LayoutModel",
          "model_module_version": "1.2.0",
          "state": {
            "_model_module": "@jupyter-widgets/base",
            "_model_module_version": "1.2.0",
            "_model_name": "LayoutModel",
            "_view_count": null,
            "_view_module": "@jupyter-widgets/base",
            "_view_module_version": "1.2.0",
            "_view_name": "LayoutView",
            "align_content": null,
            "align_items": null,
            "align_self": null,
            "border": null,
            "bottom": null,
            "display": null,
            "flex": null,
            "flex_flow": null,
            "grid_area": null,
            "grid_auto_columns": null,
            "grid_auto_flow": null,
            "grid_auto_rows": null,
            "grid_column": null,
            "grid_gap": null,
            "grid_row": null,
            "grid_template_areas": null,
            "grid_template_columns": null,
            "grid_template_rows": null,
            "height": null,
            "justify_content": null,
            "justify_items": null,
            "left": null,
            "margin": null,
            "max_height": null,
            "max_width": null,
            "min_height": null,
            "min_width": null,
            "object_fit": null,
            "object_position": null,
            "order": null,
            "overflow": null,
            "overflow_x": null,
            "overflow_y": null,
            "padding": null,
            "right": null,
            "top": null,
            "visibility": null,
            "width": null
          }
        },
        "297c06267c73429db1a8d191e5f22894": {
          "model_module": "@jupyter-widgets/controls",
          "model_name": "DescriptionStyleModel",
          "model_module_version": "1.5.0",
          "state": {
            "_model_module": "@jupyter-widgets/controls",
            "_model_module_version": "1.5.0",
            "_model_name": "DescriptionStyleModel",
            "_view_count": null,
            "_view_module": "@jupyter-widgets/base",
            "_view_module_version": "1.2.0",
            "_view_name": "StyleView",
            "description_width": ""
          }
        },
        "8b1badb60e4742b7ae96f9f094544dab": {
          "model_module": "@jupyter-widgets/base",
          "model_name": "LayoutModel",
          "model_module_version": "1.2.0",
          "state": {
            "_model_module": "@jupyter-widgets/base",
            "_model_module_version": "1.2.0",
            "_model_name": "LayoutModel",
            "_view_count": null,
            "_view_module": "@jupyter-widgets/base",
            "_view_module_version": "1.2.0",
            "_view_name": "LayoutView",
            "align_content": null,
            "align_items": null,
            "align_self": null,
            "border": null,
            "bottom": null,
            "display": null,
            "flex": null,
            "flex_flow": null,
            "grid_area": null,
            "grid_auto_columns": null,
            "grid_auto_flow": null,
            "grid_auto_rows": null,
            "grid_column": null,
            "grid_gap": null,
            "grid_row": null,
            "grid_template_areas": null,
            "grid_template_columns": null,
            "grid_template_rows": null,
            "height": null,
            "justify_content": null,
            "justify_items": null,
            "left": null,
            "margin": null,
            "max_height": null,
            "max_width": null,
            "min_height": null,
            "min_width": null,
            "object_fit": null,
            "object_position": null,
            "order": null,
            "overflow": null,
            "overflow_x": null,
            "overflow_y": null,
            "padding": null,
            "right": null,
            "top": null,
            "visibility": null,
            "width": null
          }
        },
        "c8e54ce2ce8044188c17b3e8391c2031": {
          "model_module": "@jupyter-widgets/controls",
          "model_name": "ButtonStyleModel",
          "model_module_version": "1.5.0",
          "state": {
            "_model_module": "@jupyter-widgets/controls",
            "_model_module_version": "1.5.0",
            "_model_name": "ButtonStyleModel",
            "_view_count": null,
            "_view_module": "@jupyter-widgets/base",
            "_view_module_version": "1.2.0",
            "_view_name": "StyleView",
            "button_color": null,
            "font_weight": ""
          }
        },
        "55e8de69dd984113b620718e465b4e87": {
          "model_module": "@jupyter-widgets/base",
          "model_name": "LayoutModel",
          "model_module_version": "1.2.0",
          "state": {
            "_model_module": "@jupyter-widgets/base",
            "_model_module_version": "1.2.0",
            "_model_name": "LayoutModel",
            "_view_count": null,
            "_view_module": "@jupyter-widgets/base",
            "_view_module_version": "1.2.0",
            "_view_name": "LayoutView",
            "align_content": null,
            "align_items": null,
            "align_self": null,
            "border": null,
            "bottom": null,
            "display": null,
            "flex": null,
            "flex_flow": null,
            "grid_area": null,
            "grid_auto_columns": null,
            "grid_auto_flow": null,
            "grid_auto_rows": null,
            "grid_column": null,
            "grid_gap": null,
            "grid_row": null,
            "grid_template_areas": null,
            "grid_template_columns": null,
            "grid_template_rows": null,
            "height": null,
            "justify_content": null,
            "justify_items": null,
            "left": null,
            "margin": null,
            "max_height": null,
            "max_width": null,
            "min_height": null,
            "min_width": null,
            "object_fit": null,
            "object_position": null,
            "order": null,
            "overflow": null,
            "overflow_x": null,
            "overflow_y": null,
            "padding": null,
            "right": null,
            "top": null,
            "visibility": null,
            "width": null
          }
        },
        "4b2fbe3e7d73407cb72ee1417b0a8d94": {
          "model_module": "@jupyter-widgets/controls",
          "model_name": "DescriptionStyleModel",
          "model_module_version": "1.5.0",
          "state": {
            "_model_module": "@jupyter-widgets/controls",
            "_model_module_version": "1.5.0",
            "_model_name": "DescriptionStyleModel",
            "_view_count": null,
            "_view_module": "@jupyter-widgets/base",
            "_view_module_version": "1.2.0",
            "_view_name": "StyleView",
            "description_width": ""
          }
        },
        "07dce322485141a0b8385dd1e9b76b33": {
          "model_module": "@jupyter-widgets/controls",
          "model_name": "LabelModel",
          "model_module_version": "1.5.0",
          "state": {
            "_dom_classes": [],
            "_model_module": "@jupyter-widgets/controls",
            "_model_module_version": "1.5.0",
            "_model_name": "LabelModel",
            "_view_count": null,
            "_view_module": "@jupyter-widgets/controls",
            "_view_module_version": "1.5.0",
            "_view_name": "LabelView",
            "description": "",
            "description_tooltip": null,
            "layout": "IPY_MODEL_7407fb6a0741412aae1f4b907019af9c",
            "placeholder": "​",
            "style": "IPY_MODEL_25604442deee4f889675ac8e6beb0996",
            "value": "Connecting..."
          }
        },
        "7407fb6a0741412aae1f4b907019af9c": {
          "model_module": "@jupyter-widgets/base",
          "model_name": "LayoutModel",
          "model_module_version": "1.2.0",
          "state": {
            "_model_module": "@jupyter-widgets/base",
            "_model_module_version": "1.2.0",
            "_model_name": "LayoutModel",
            "_view_count": null,
            "_view_module": "@jupyter-widgets/base",
            "_view_module_version": "1.2.0",
            "_view_name": "LayoutView",
            "align_content": null,
            "align_items": null,
            "align_self": null,
            "border": null,
            "bottom": null,
            "display": null,
            "flex": null,
            "flex_flow": null,
            "grid_area": null,
            "grid_auto_columns": null,
            "grid_auto_flow": null,
            "grid_auto_rows": null,
            "grid_column": null,
            "grid_gap": null,
            "grid_row": null,
            "grid_template_areas": null,
            "grid_template_columns": null,
            "grid_template_rows": null,
            "height": null,
            "justify_content": null,
            "justify_items": null,
            "left": null,
            "margin": null,
            "max_height": null,
            "max_width": null,
            "min_height": null,
            "min_width": null,
            "object_fit": null,
            "object_position": null,
            "order": null,
            "overflow": null,
            "overflow_x": null,
            "overflow_y": null,
            "padding": null,
            "right": null,
            "top": null,
            "visibility": null,
            "width": null
          }
        },
        "25604442deee4f889675ac8e6beb0996": {
          "model_module": "@jupyter-widgets/controls",
          "model_name": "DescriptionStyleModel",
          "model_module_version": "1.5.0",
          "state": {
            "_model_module": "@jupyter-widgets/controls",
            "_model_module_version": "1.5.0",
            "_model_name": "DescriptionStyleModel",
            "_view_count": null,
            "_view_module": "@jupyter-widgets/base",
            "_view_module_version": "1.2.0",
            "_view_name": "StyleView",
            "description_width": ""
          }
        },
        "1b4c60f3c8c64afa8c156f826d431c40": {
          "model_module": "@jupyter-widgets/controls",
          "model_name": "LabelModel",
          "model_module_version": "1.5.0",
          "state": {
            "_dom_classes": [],
            "_model_module": "@jupyter-widgets/controls",
            "_model_module_version": "1.5.0",
            "_model_name": "LabelModel",
            "_view_count": null,
            "_view_module": "@jupyter-widgets/controls",
            "_view_module_version": "1.5.0",
            "_view_name": "LabelView",
            "description": "",
            "description_tooltip": null,
            "layout": "IPY_MODEL_a34732f9fb3e4b028ac84bd5bf7c45f3",
            "placeholder": "​",
            "style": "IPY_MODEL_e06dbc7118a04e2e8fd8269dec3e4cf3",
            "value": "Token is valid (permission: fineGrained)."
          }
        },
        "b746aa22307d4d2592024112a74e760d": {
          "model_module": "@jupyter-widgets/controls",
          "model_name": "LabelModel",
          "model_module_version": "1.5.0",
          "state": {
            "_dom_classes": [],
            "_model_module": "@jupyter-widgets/controls",
            "_model_module_version": "1.5.0",
            "_model_name": "LabelModel",
            "_view_count": null,
            "_view_module": "@jupyter-widgets/controls",
            "_view_module_version": "1.5.0",
            "_view_name": "LabelView",
            "description": "",
            "description_tooltip": null,
            "layout": "IPY_MODEL_4d78922fcc274dc6a147ba763875480f",
            "placeholder": "​",
            "style": "IPY_MODEL_24d05325a0634bf88698c3f25edac2b7",
            "value": "Your token has been saved in your configured git credential helpers (store)."
          }
        },
        "7e0cb4a2082743fe8c7bb90fdc967bc7": {
          "model_module": "@jupyter-widgets/controls",
          "model_name": "LabelModel",
          "model_module_version": "1.5.0",
          "state": {
            "_dom_classes": [],
            "_model_module": "@jupyter-widgets/controls",
            "_model_module_version": "1.5.0",
            "_model_name": "LabelModel",
            "_view_count": null,
            "_view_module": "@jupyter-widgets/controls",
            "_view_module_version": "1.5.0",
            "_view_name": "LabelView",
            "description": "",
            "description_tooltip": null,
            "layout": "IPY_MODEL_00b6c6ac9a6146659b81a3efe43d1055",
            "placeholder": "​",
            "style": "IPY_MODEL_b38ab44f8dfb4346a905b5542e61c005",
            "value": "Your token has been saved to /root/.cache/huggingface/token"
          }
        },
        "6514e5abd0444036b9d364a9f75f6709": {
          "model_module": "@jupyter-widgets/controls",
          "model_name": "LabelModel",
          "model_module_version": "1.5.0",
          "state": {
            "_dom_classes": [],
            "_model_module": "@jupyter-widgets/controls",
            "_model_module_version": "1.5.0",
            "_model_name": "LabelModel",
            "_view_count": null,
            "_view_module": "@jupyter-widgets/controls",
            "_view_module_version": "1.5.0",
            "_view_name": "LabelView",
            "description": "",
            "description_tooltip": null,
            "layout": "IPY_MODEL_966955177d4046179b50ca60630e3b79",
            "placeholder": "​",
            "style": "IPY_MODEL_4ca8fc717bbe4b82b373ab33fc8ed09c",
            "value": "Login successful"
          }
        },
        "a34732f9fb3e4b028ac84bd5bf7c45f3": {
          "model_module": "@jupyter-widgets/base",
          "model_name": "LayoutModel",
          "model_module_version": "1.2.0",
          "state": {
            "_model_module": "@jupyter-widgets/base",
            "_model_module_version": "1.2.0",
            "_model_name": "LayoutModel",
            "_view_count": null,
            "_view_module": "@jupyter-widgets/base",
            "_view_module_version": "1.2.0",
            "_view_name": "LayoutView",
            "align_content": null,
            "align_items": null,
            "align_self": null,
            "border": null,
            "bottom": null,
            "display": null,
            "flex": null,
            "flex_flow": null,
            "grid_area": null,
            "grid_auto_columns": null,
            "grid_auto_flow": null,
            "grid_auto_rows": null,
            "grid_column": null,
            "grid_gap": null,
            "grid_row": null,
            "grid_template_areas": null,
            "grid_template_columns": null,
            "grid_template_rows": null,
            "height": null,
            "justify_content": null,
            "justify_items": null,
            "left": null,
            "margin": null,
            "max_height": null,
            "max_width": null,
            "min_height": null,
            "min_width": null,
            "object_fit": null,
            "object_position": null,
            "order": null,
            "overflow": null,
            "overflow_x": null,
            "overflow_y": null,
            "padding": null,
            "right": null,
            "top": null,
            "visibility": null,
            "width": null
          }
        },
        "e06dbc7118a04e2e8fd8269dec3e4cf3": {
          "model_module": "@jupyter-widgets/controls",
          "model_name": "DescriptionStyleModel",
          "model_module_version": "1.5.0",
          "state": {
            "_model_module": "@jupyter-widgets/controls",
            "_model_module_version": "1.5.0",
            "_model_name": "DescriptionStyleModel",
            "_view_count": null,
            "_view_module": "@jupyter-widgets/base",
            "_view_module_version": "1.2.0",
            "_view_name": "StyleView",
            "description_width": ""
          }
        },
        "4d78922fcc274dc6a147ba763875480f": {
          "model_module": "@jupyter-widgets/base",
          "model_name": "LayoutModel",
          "model_module_version": "1.2.0",
          "state": {
            "_model_module": "@jupyter-widgets/base",
            "_model_module_version": "1.2.0",
            "_model_name": "LayoutModel",
            "_view_count": null,
            "_view_module": "@jupyter-widgets/base",
            "_view_module_version": "1.2.0",
            "_view_name": "LayoutView",
            "align_content": null,
            "align_items": null,
            "align_self": null,
            "border": null,
            "bottom": null,
            "display": null,
            "flex": null,
            "flex_flow": null,
            "grid_area": null,
            "grid_auto_columns": null,
            "grid_auto_flow": null,
            "grid_auto_rows": null,
            "grid_column": null,
            "grid_gap": null,
            "grid_row": null,
            "grid_template_areas": null,
            "grid_template_columns": null,
            "grid_template_rows": null,
            "height": null,
            "justify_content": null,
            "justify_items": null,
            "left": null,
            "margin": null,
            "max_height": null,
            "max_width": null,
            "min_height": null,
            "min_width": null,
            "object_fit": null,
            "object_position": null,
            "order": null,
            "overflow": null,
            "overflow_x": null,
            "overflow_y": null,
            "padding": null,
            "right": null,
            "top": null,
            "visibility": null,
            "width": null
          }
        },
        "24d05325a0634bf88698c3f25edac2b7": {
          "model_module": "@jupyter-widgets/controls",
          "model_name": "DescriptionStyleModel",
          "model_module_version": "1.5.0",
          "state": {
            "_model_module": "@jupyter-widgets/controls",
            "_model_module_version": "1.5.0",
            "_model_name": "DescriptionStyleModel",
            "_view_count": null,
            "_view_module": "@jupyter-widgets/base",
            "_view_module_version": "1.2.0",
            "_view_name": "StyleView",
            "description_width": ""
          }
        },
        "00b6c6ac9a6146659b81a3efe43d1055": {
          "model_module": "@jupyter-widgets/base",
          "model_name": "LayoutModel",
          "model_module_version": "1.2.0",
          "state": {
            "_model_module": "@jupyter-widgets/base",
            "_model_module_version": "1.2.0",
            "_model_name": "LayoutModel",
            "_view_count": null,
            "_view_module": "@jupyter-widgets/base",
            "_view_module_version": "1.2.0",
            "_view_name": "LayoutView",
            "align_content": null,
            "align_items": null,
            "align_self": null,
            "border": null,
            "bottom": null,
            "display": null,
            "flex": null,
            "flex_flow": null,
            "grid_area": null,
            "grid_auto_columns": null,
            "grid_auto_flow": null,
            "grid_auto_rows": null,
            "grid_column": null,
            "grid_gap": null,
            "grid_row": null,
            "grid_template_areas": null,
            "grid_template_columns": null,
            "grid_template_rows": null,
            "height": null,
            "justify_content": null,
            "justify_items": null,
            "left": null,
            "margin": null,
            "max_height": null,
            "max_width": null,
            "min_height": null,
            "min_width": null,
            "object_fit": null,
            "object_position": null,
            "order": null,
            "overflow": null,
            "overflow_x": null,
            "overflow_y": null,
            "padding": null,
            "right": null,
            "top": null,
            "visibility": null,
            "width": null
          }
        },
        "b38ab44f8dfb4346a905b5542e61c005": {
          "model_module": "@jupyter-widgets/controls",
          "model_name": "DescriptionStyleModel",
          "model_module_version": "1.5.0",
          "state": {
            "_model_module": "@jupyter-widgets/controls",
            "_model_module_version": "1.5.0",
            "_model_name": "DescriptionStyleModel",
            "_view_count": null,
            "_view_module": "@jupyter-widgets/base",
            "_view_module_version": "1.2.0",
            "_view_name": "StyleView",
            "description_width": ""
          }
        },
        "966955177d4046179b50ca60630e3b79": {
          "model_module": "@jupyter-widgets/base",
          "model_name": "LayoutModel",
          "model_module_version": "1.2.0",
          "state": {
            "_model_module": "@jupyter-widgets/base",
            "_model_module_version": "1.2.0",
            "_model_name": "LayoutModel",
            "_view_count": null,
            "_view_module": "@jupyter-widgets/base",
            "_view_module_version": "1.2.0",
            "_view_name": "LayoutView",
            "align_content": null,
            "align_items": null,
            "align_self": null,
            "border": null,
            "bottom": null,
            "display": null,
            "flex": null,
            "flex_flow": null,
            "grid_area": null,
            "grid_auto_columns": null,
            "grid_auto_flow": null,
            "grid_auto_rows": null,
            "grid_column": null,
            "grid_gap": null,
            "grid_row": null,
            "grid_template_areas": null,
            "grid_template_columns": null,
            "grid_template_rows": null,
            "height": null,
            "justify_content": null,
            "justify_items": null,
            "left": null,
            "margin": null,
            "max_height": null,
            "max_width": null,
            "min_height": null,
            "min_width": null,
            "object_fit": null,
            "object_position": null,
            "order": null,
            "overflow": null,
            "overflow_x": null,
            "overflow_y": null,
            "padding": null,
            "right": null,
            "top": null,
            "visibility": null,
            "width": null
          }
        },
        "4ca8fc717bbe4b82b373ab33fc8ed09c": {
          "model_module": "@jupyter-widgets/controls",
          "model_name": "DescriptionStyleModel",
          "model_module_version": "1.5.0",
          "state": {
            "_model_module": "@jupyter-widgets/controls",
            "_model_module_version": "1.5.0",
            "_model_name": "DescriptionStyleModel",
            "_view_count": null,
            "_view_module": "@jupyter-widgets/base",
            "_view_module_version": "1.2.0",
            "_view_name": "StyleView",
            "description_width": ""
          }
        }
      }
    }
  },
  "cells": [
    {
      "cell_type": "code",
      "source": [
        "import os\n",
        "from google.colab import userdata\n",
        "\n",
        "# Set the API token as an environment variable\n",
        "os.environ[\"HF_TOKEN\"] = userdata.get('HF_TOKEN')"
      ],
      "metadata": {
        "id": "DF9w_DjCER6m"
      },
      "execution_count": 1,
      "outputs": []
    },
    {
      "cell_type": "markdown",
      "source": [
        "Archive chat link: https://chatgpt.com/c/a4666297-3f4e-4afb-938c-4e174f9b2308?model=gpt-4"
      ],
      "metadata": {
        "id": "x4w3AVb4v6dx"
      }
    },
    {
      "cell_type": "code",
      "source": [
        "!git clone https://github.com/nlp-with-transformers/notebooks.git\n",
        "%cd notebooks\n",
        "from install import *\n",
        "install_requirements(is_chapter2=True)\n",
        "\n",
        "!pip install datasets==2.11.0"
      ],
      "metadata": {
        "colab": {
          "base_uri": "https://localhost:8080/"
        },
        "id": "HzQfHqzjsYh3",
        "outputId": "a2246aa0-0009-4814-ff13-e9af1e414c68"
      },
      "execution_count": 2,
      "outputs": [
        {
          "output_type": "stream",
          "name": "stdout",
          "text": [
            "fatal: destination path 'notebooks' already exists and is not an empty directory.\n",
            "/content/notebooks\n",
            "⏳ Installing base requirements ...\n",
            "✅ Base requirements installed!\n",
            "⏳ Installing Git LFS ...\n",
            "✅ Git LFS installed!\n",
            "Collecting datasets==2.11.0\n",
            "  Using cached datasets-2.11.0-py3-none-any.whl (468 kB)\n",
            "Requirement already satisfied: numpy>=1.17 in /usr/local/lib/python3.10/dist-packages (from datasets==2.11.0) (1.25.2)\n",
            "Requirement already satisfied: pyarrow>=8.0.0 in /usr/local/lib/python3.10/dist-packages (from datasets==2.11.0) (14.0.2)\n",
            "Requirement already satisfied: dill<0.3.7,>=0.3.0 in /usr/local/lib/python3.10/dist-packages (from datasets==2.11.0) (0.3.6)\n",
            "Requirement already satisfied: pandas in /usr/local/lib/python3.10/dist-packages (from datasets==2.11.0) (2.0.3)\n",
            "Requirement already satisfied: requests>=2.19.0 in /usr/local/lib/python3.10/dist-packages (from datasets==2.11.0) (2.31.0)\n",
            "Requirement already satisfied: tqdm>=4.62.1 in /usr/local/lib/python3.10/dist-packages (from datasets==2.11.0) (4.66.4)\n",
            "Requirement already satisfied: xxhash in /usr/local/lib/python3.10/dist-packages (from datasets==2.11.0) (3.4.1)\n",
            "Requirement already satisfied: multiprocess in /usr/local/lib/python3.10/dist-packages (from datasets==2.11.0) (0.70.14)\n",
            "Requirement already satisfied: fsspec[http]>=2021.11.1 in /usr/local/lib/python3.10/dist-packages (from datasets==2.11.0) (2023.6.0)\n",
            "Requirement already satisfied: aiohttp in /usr/local/lib/python3.10/dist-packages (from datasets==2.11.0) (3.9.5)\n",
            "Requirement already satisfied: huggingface-hub<1.0.0,>=0.11.0 in /usr/local/lib/python3.10/dist-packages (from datasets==2.11.0) (0.23.4)\n",
            "Requirement already satisfied: packaging in /usr/local/lib/python3.10/dist-packages (from datasets==2.11.0) (24.1)\n",
            "Requirement already satisfied: responses<0.19 in /usr/local/lib/python3.10/dist-packages (from datasets==2.11.0) (0.18.0)\n",
            "Requirement already satisfied: pyyaml>=5.1 in /usr/local/lib/python3.10/dist-packages (from datasets==2.11.0) (6.0.1)\n",
            "Requirement already satisfied: aiosignal>=1.1.2 in /usr/local/lib/python3.10/dist-packages (from aiohttp->datasets==2.11.0) (1.3.1)\n",
            "Requirement already satisfied: attrs>=17.3.0 in /usr/local/lib/python3.10/dist-packages (from aiohttp->datasets==2.11.0) (23.2.0)\n",
            "Requirement already satisfied: frozenlist>=1.1.1 in /usr/local/lib/python3.10/dist-packages (from aiohttp->datasets==2.11.0) (1.4.1)\n",
            "Requirement already satisfied: multidict<7.0,>=4.5 in /usr/local/lib/python3.10/dist-packages (from aiohttp->datasets==2.11.0) (6.0.5)\n",
            "Requirement already satisfied: yarl<2.0,>=1.0 in /usr/local/lib/python3.10/dist-packages (from aiohttp->datasets==2.11.0) (1.9.4)\n",
            "Requirement already satisfied: async-timeout<5.0,>=4.0 in /usr/local/lib/python3.10/dist-packages (from aiohttp->datasets==2.11.0) (4.0.3)\n",
            "Requirement already satisfied: filelock in /usr/local/lib/python3.10/dist-packages (from huggingface-hub<1.0.0,>=0.11.0->datasets==2.11.0) (3.15.1)\n",
            "Requirement already satisfied: typing-extensions>=3.7.4.3 in /usr/local/lib/python3.10/dist-packages (from huggingface-hub<1.0.0,>=0.11.0->datasets==2.11.0) (4.12.2)\n",
            "Requirement already satisfied: charset-normalizer<4,>=2 in /usr/local/lib/python3.10/dist-packages (from requests>=2.19.0->datasets==2.11.0) (3.3.2)\n",
            "Requirement already satisfied: idna<4,>=2.5 in /usr/local/lib/python3.10/dist-packages (from requests>=2.19.0->datasets==2.11.0) (3.7)\n",
            "Requirement already satisfied: urllib3<3,>=1.21.1 in /usr/local/lib/python3.10/dist-packages (from requests>=2.19.0->datasets==2.11.0) (2.0.7)\n",
            "Requirement already satisfied: certifi>=2017.4.17 in /usr/local/lib/python3.10/dist-packages (from requests>=2.19.0->datasets==2.11.0) (2024.6.2)\n",
            "Requirement already satisfied: python-dateutil>=2.8.2 in /usr/local/lib/python3.10/dist-packages (from pandas->datasets==2.11.0) (2.8.2)\n",
            "Requirement already satisfied: pytz>=2020.1 in /usr/local/lib/python3.10/dist-packages (from pandas->datasets==2.11.0) (2023.4)\n",
            "Requirement already satisfied: tzdata>=2022.1 in /usr/local/lib/python3.10/dist-packages (from pandas->datasets==2.11.0) (2024.1)\n",
            "Requirement already satisfied: six>=1.5 in /usr/local/lib/python3.10/dist-packages (from python-dateutil>=2.8.2->pandas->datasets==2.11.0) (1.16.0)\n",
            "Installing collected packages: datasets\n",
            "  Attempting uninstall: datasets\n",
            "    Found existing installation: datasets 1.16.1\n",
            "    Uninstalling datasets-1.16.1:\n",
            "      Successfully uninstalled datasets-1.16.1\n",
            "Successfully installed datasets-2.11.0\n"
          ]
        }
      ]
    },
    {
      "cell_type": "code",
      "source": [
        "from utils import *\n",
        "setup_chapter()"
      ],
      "metadata": {
        "colab": {
          "base_uri": "https://localhost:8080/"
        },
        "id": "rnPRZV8nsWMK",
        "outputId": "65bfbcf2-ae57-4c91-82c4-e7bbeec6536f"
      },
      "execution_count": 3,
      "outputs": [
        {
          "output_type": "stream",
          "name": "stdout",
          "text": [
            "Using transformers v4.16.2\n",
            "Using datasets v2.11.0\n"
          ]
        }
      ]
    },
    {
      "cell_type": "code",
      "source": [
        "from datasets import list_datasets\n",
        "\n",
        "all_datasets = list_datasets()\n",
        "print(f\"Number of datasets currently available on the Hub: {len(all_datasets)}\")\n",
        "print(f\"First 10 datasets: {all_datasets[:10]}\")\n",
        "\n",
        "#emotion_datasets = [dataset for dataset in all_datasets if dataset.endswith(\"emotion\")]\n",
        "#print(emotion_datasets)\n"
      ],
      "metadata": {
        "id": "mVK1sWIGvzMj",
        "colab": {
          "base_uri": "https://localhost:8080/"
        },
        "outputId": "7fc1ecfa-59ac-4ae4-9fc0-b0ca1e3e2812"
      },
      "execution_count": 4,
      "outputs": [
        {
          "output_type": "stream",
          "name": "stdout",
          "text": [
            "Number of datasets currently available on the Hub: 166968\n",
            "First 10 datasets: ['amirveyseh/acronym_identification',\n",
            "'ade-benchmark-corpus/ade_corpus_v2', 'UCLNLP/adversarial_qa',\n",
            "'Yale-LILY/aeslc', 'nwu-ctext/afrikaans_ner_corpus', 'fancyzhx/ag_news',\n",
            "'allenai/ai2_arc', 'google/air_dialogue', 'komari6/ajgt_twitter_ar',\n",
            "'legacy-datasets/allegro_reviews']\n"
          ]
        }
      ]
    },
    {
      "cell_type": "code",
      "source": [
        "# hide_output\n",
        "from datasets import load_dataset\n",
        "\n",
        "emotions = load_dataset(\"jeffnyman/emotions\")\n",
        "print(emotions)"
      ],
      "metadata": {
        "colab": {
          "base_uri": "https://localhost:8080/",
          "height": 292,
          "referenced_widgets": [
            "2ab0a721d1154fb2bd1b095708fd42a5",
            "ddf5dbb8cbdd4f9a99efc3fea7ceff11",
            "418086f8cec34b419300ea27a93a345a",
            "259c01b49410450bbfc6a9d8c4ab5a2b",
            "e4136198f2894327b2af5d34e7d357fd",
            "4fd78601e9644156b40d929d6d08df02",
            "4e35fd7603424a6d8b878e667533e82f",
            "1b15ecb0d469432d92b71f829d0a608e",
            "e2324f54f0db4e0ab0e50c06ed3e3801",
            "c52a8ed428ca4f37bfd856f0e3057582",
            "56574292684e408f94b6e7ea0efe4b1e"
          ]
        },
        "id": "PgYgyd6Ct98K",
        "outputId": "09601ae9-8566-42bb-f990-3185c2fbaf32"
      },
      "execution_count": 5,
      "outputs": [
        {
          "output_type": "display_data",
          "data": {
            "text/plain": [
              "  0%|          | 0/3 [00:00<?, ?it/s]"
            ],
            "application/vnd.jupyter.widget-view+json": {
              "version_major": 2,
              "version_minor": 0,
              "model_id": "2ab0a721d1154fb2bd1b095708fd42a5"
            }
          },
          "metadata": {}
        },
        {
          "output_type": "stream",
          "name": "stdout",
          "text": [
            "DatasetDict({\n",
            "    train: Dataset({\n",
            "        features: ['text', 'label'],\n",
            "        num_rows: 16000\n",
            "    })\n",
            "    validation: Dataset({\n",
            "        features: ['text', 'label'],\n",
            "        num_rows: 2000\n",
            "    })\n",
            "    test: Dataset({\n",
            "        features: ['text', 'label'],\n",
            "        num_rows: 2000\n",
            "    })\n",
            "})\n"
          ]
        }
      ]
    },
    {
      "cell_type": "code",
      "source": [
        "train_ds = emotions[\"train\"]\n",
        "train_ds[0]"
      ],
      "metadata": {
        "colab": {
          "base_uri": "https://localhost:8080/"
        },
        "id": "CKIaxOPbHoGh",
        "outputId": "a05f7fed-4b4f-4ac9-bb4e-55d0bfa9c1b6"
      },
      "execution_count": 6,
      "outputs": [
        {
          "output_type": "execute_result",
          "data": {
            "text/plain": [
              "{'text': 'i didnt feel humiliated', 'label': 0}"
            ]
          },
          "metadata": {},
          "execution_count": 6
        }
      ]
    },
    {
      "cell_type": "code",
      "source": [
        "print(train_ds.column_names)\n",
        "print(train_ds.features)\n",
        "print(train_ds[:5])"
      ],
      "metadata": {
        "colab": {
          "base_uri": "https://localhost:8080/"
        },
        "id": "lgoS8cZfquwX",
        "outputId": "fb4c4c9f-652b-4be2-ffd2-29f335cea9f1"
      },
      "execution_count": 7,
      "outputs": [
        {
          "output_type": "stream",
          "name": "stdout",
          "text": [
            "['text', 'label']\n",
            "{'text': Value(dtype='string', id=None), 'label': ClassLabel(names=['sadness',\n",
            "'joy', 'love', 'anger', 'fear', 'surprise'], id=None)}\n",
            "{'text': ['i didnt feel humiliated', 'i can go from feeling so hopeless to so\n",
            "damned hopeful just from being around someone who cares and is awake', 'im\n",
            "grabbing a minute to post i feel greedy wrong', 'i am ever feeling nostalgic\n",
            "about the fireplace i will know that it is still on the property', 'i am feeling\n",
            "grouchy'], 'label': [0, 0, 3, 2, 3]}\n"
          ]
        }
      ]
    },
    {
      "cell_type": "markdown",
      "source": [
        "GPT Links Archive:\n",
        "- CS EE Notes - Keras Simplifies Neural Networks: https://chatgpt.com/c/a74b5448-22eb-47d4-8329-88f6e7e808c4\n",
        "- CS EE Notes - DistilBERT Last Hidden State: https://chatgpt.com/c/a74b5448-22eb-47d4-8329-88f6e7e808c4"
      ],
      "metadata": {
        "id": "czvf0TsusjvP"
      }
    },
    {
      "cell_type": "code",
      "source": [
        "dataset_url = \"https://huggingface.co/datasets/transformersbook/emotion-train-split/raw/main/train.txt\"\n",
        "!wget {dataset_url}"
      ],
      "metadata": {
        "colab": {
          "base_uri": "https://localhost:8080/"
        },
        "id": "HTq9SjmCrqV9",
        "outputId": "41d41e46-325a-4e70-8f37-6767d4f6da66"
      },
      "execution_count": 8,
      "outputs": [
        {
          "output_type": "stream",
          "name": "stdout",
          "text": [
            "--2024-06-22 03:06:44--  https://huggingface.co/datasets/transformersbook/emotion-train-split/raw/main/train.txt\n",
            "Resolving huggingface.co (huggingface.co)... 108.159.15.21, 108.159.15.3, 108.159.15.97, ...\n",
            "Connecting to huggingface.co (huggingface.co)|108.159.15.21|:443... connected.\n",
            "HTTP request sent, awaiting response... 200 OK\n",
            "Length: 1658616 (1.6M) [text/plain]\n",
            "Saving to: ‘train.txt.1’\n",
            "\n",
            "train.txt.1         100%[===================>]   1.58M  1.52MB/s    in 1.0s    \n",
            "\n",
            "2024-06-22 03:06:46 (1.52 MB/s) - ‘train.txt.1’ saved [1658616/1658616]\n",
            "\n"
          ]
        }
      ]
    },
    {
      "cell_type": "code",
      "source": [
        "!head -n 1 train.txt\n",
        "\n",
        "emotions_local = load_dataset(\"csv\", data_files=\"train.txt\", sep=\";\", names=[\"text\", \"label\"])\n",
        "emotions_local\n",
        "\n",
        "# even simpler approach\"\n",
        "\"\"\"\n",
        "dataset_url = \"https://huggingface.co/datasets/transformersbook/emotion-train-split/raw/main/train.txt\"\n",
        "emotions_remote = load_dataset(\"csv\", data_files=dataset_url, sep=\";\",\n",
        "                               names=[\"text\", \"label\"])\n",
        "\"\"\""
      ],
      "metadata": {
        "colab": {
          "base_uri": "https://localhost:8080/",
          "height": 120,
          "referenced_widgets": [
            "bafb806c6f29402bad6e92742e2f1654",
            "20bf730f364b48858e695556727ca996",
            "f6c883f4feb34468b92c6cbb75e5633c",
            "b43b7b75e4b242f9afd23ba178d67844",
            "72a12689b66d478f9b95a93f2d4c2fa5",
            "344f2ed7b48b45f7851dc95ed7bbcb24",
            "4113fda9715f48caba9f1b7728d9edcd",
            "5a97414a2080424c85517b8dc33bc89a",
            "48367ca990f147acb8be40048653be10",
            "ff40f6f41294484d9e2349f17f09aea7",
            "1fc7100b8fc146eb9d2582026f2e4fd0"
          ]
        },
        "id": "nNJb-x8zsWCp",
        "outputId": "34ee80ee-da7e-44e6-eb3d-dd16e28c0a83"
      },
      "execution_count": 9,
      "outputs": [
        {
          "output_type": "stream",
          "name": "stdout",
          "text": [
            "i didnt feel humiliated;sadness\n"
          ]
        },
        {
          "output_type": "display_data",
          "data": {
            "text/plain": [
              "  0%|          | 0/1 [00:00<?, ?it/s]"
            ],
            "application/vnd.jupyter.widget-view+json": {
              "version_major": 2,
              "version_minor": 0,
              "model_id": "bafb806c6f29402bad6e92742e2f1654"
            }
          },
          "metadata": {}
        },
        {
          "output_type": "execute_result",
          "data": {
            "text/plain": [
              "'\\ndataset_url = \"https://huggingface.co/datasets/transformersbook/emotion-train-split/raw/main/train.txt\"\\nemotions_remote = load_dataset(\"csv\", data_files=dataset_url, sep=\";\", \\n                               names=[\"text\", \"label\"])\\n'"
            ],
            "application/vnd.google.colaboratory.intrinsic+json": {
              "type": "string"
            }
          },
          "metadata": {},
          "execution_count": 9
        }
      ]
    },
    {
      "cell_type": "code",
      "source": [
        "import pandas as pd\n",
        "\n",
        "emotions.set_format(type=\"pandas\")\n",
        "df = emotions[\"train\"][:]\n",
        "df.head()"
      ],
      "metadata": {
        "colab": {
          "base_uri": "https://localhost:8080/",
          "height": 206
        },
        "id": "rbtUbrZ4wZ15",
        "outputId": "ca15ccd2-e53b-4fd8-c18f-d097a80a3650"
      },
      "execution_count": 10,
      "outputs": [
        {
          "output_type": "execute_result",
          "data": {
            "text/plain": [
              "                                                text  label\n",
              "0                            i didnt feel humiliated      0\n",
              "1  i can go from feeling so hopeless to so damned...      0\n",
              "2   im grabbing a minute to post i feel greedy wrong      3\n",
              "3  i am ever feeling nostalgic about the fireplac...      2\n",
              "4                               i am feeling grouchy      3"
            ],
            "text/html": [
              "\n",
              "  <div id=\"df-786300f9-9f85-458a-8e97-e3c4c7382eb2\" class=\"colab-df-container\">\n",
              "    <div>\n",
              "<style scoped>\n",
              "    .dataframe tbody tr th:only-of-type {\n",
              "        vertical-align: middle;\n",
              "    }\n",
              "\n",
              "    .dataframe tbody tr th {\n",
              "        vertical-align: top;\n",
              "    }\n",
              "\n",
              "    .dataframe thead th {\n",
              "        text-align: right;\n",
              "    }\n",
              "</style>\n",
              "<table border=\"1\" class=\"dataframe\">\n",
              "  <thead>\n",
              "    <tr style=\"text-align: right;\">\n",
              "      <th></th>\n",
              "      <th>text</th>\n",
              "      <th>label</th>\n",
              "    </tr>\n",
              "  </thead>\n",
              "  <tbody>\n",
              "    <tr>\n",
              "      <th>0</th>\n",
              "      <td>i didnt feel humiliated</td>\n",
              "      <td>0</td>\n",
              "    </tr>\n",
              "    <tr>\n",
              "      <th>1</th>\n",
              "      <td>i can go from feeling so hopeless to so damned...</td>\n",
              "      <td>0</td>\n",
              "    </tr>\n",
              "    <tr>\n",
              "      <th>2</th>\n",
              "      <td>im grabbing a minute to post i feel greedy wrong</td>\n",
              "      <td>3</td>\n",
              "    </tr>\n",
              "    <tr>\n",
              "      <th>3</th>\n",
              "      <td>i am ever feeling nostalgic about the fireplac...</td>\n",
              "      <td>2</td>\n",
              "    </tr>\n",
              "    <tr>\n",
              "      <th>4</th>\n",
              "      <td>i am feeling grouchy</td>\n",
              "      <td>3</td>\n",
              "    </tr>\n",
              "  </tbody>\n",
              "</table>\n",
              "</div>\n",
              "    <div class=\"colab-df-buttons\">\n",
              "\n",
              "  <div class=\"colab-df-container\">\n",
              "    <button class=\"colab-df-convert\" onclick=\"convertToInteractive('df-786300f9-9f85-458a-8e97-e3c4c7382eb2')\"\n",
              "            title=\"Convert this dataframe to an interactive table.\"\n",
              "            style=\"display:none;\">\n",
              "\n",
              "  <svg xmlns=\"http://www.w3.org/2000/svg\" height=\"24px\" viewBox=\"0 -960 960 960\">\n",
              "    <path d=\"M120-120v-720h720v720H120Zm60-500h600v-160H180v160Zm220 220h160v-160H400v160Zm0 220h160v-160H400v160ZM180-400h160v-160H180v160Zm440 0h160v-160H620v160ZM180-180h160v-160H180v160Zm440 0h160v-160H620v160Z\"/>\n",
              "  </svg>\n",
              "    </button>\n",
              "\n",
              "  <style>\n",
              "    .colab-df-container {\n",
              "      display:flex;\n",
              "      gap: 12px;\n",
              "    }\n",
              "\n",
              "    .colab-df-convert {\n",
              "      background-color: #E8F0FE;\n",
              "      border: none;\n",
              "      border-radius: 50%;\n",
              "      cursor: pointer;\n",
              "      display: none;\n",
              "      fill: #1967D2;\n",
              "      height: 32px;\n",
              "      padding: 0 0 0 0;\n",
              "      width: 32px;\n",
              "    }\n",
              "\n",
              "    .colab-df-convert:hover {\n",
              "      background-color: #E2EBFA;\n",
              "      box-shadow: 0px 1px 2px rgba(60, 64, 67, 0.3), 0px 1px 3px 1px rgba(60, 64, 67, 0.15);\n",
              "      fill: #174EA6;\n",
              "    }\n",
              "\n",
              "    .colab-df-buttons div {\n",
              "      margin-bottom: 4px;\n",
              "    }\n",
              "\n",
              "    [theme=dark] .colab-df-convert {\n",
              "      background-color: #3B4455;\n",
              "      fill: #D2E3FC;\n",
              "    }\n",
              "\n",
              "    [theme=dark] .colab-df-convert:hover {\n",
              "      background-color: #434B5C;\n",
              "      box-shadow: 0px 1px 3px 1px rgba(0, 0, 0, 0.15);\n",
              "      filter: drop-shadow(0px 1px 2px rgba(0, 0, 0, 0.3));\n",
              "      fill: #FFFFFF;\n",
              "    }\n",
              "  </style>\n",
              "\n",
              "    <script>\n",
              "      const buttonEl =\n",
              "        document.querySelector('#df-786300f9-9f85-458a-8e97-e3c4c7382eb2 button.colab-df-convert');\n",
              "      buttonEl.style.display =\n",
              "        google.colab.kernel.accessAllowed ? 'block' : 'none';\n",
              "\n",
              "      async function convertToInteractive(key) {\n",
              "        const element = document.querySelector('#df-786300f9-9f85-458a-8e97-e3c4c7382eb2');\n",
              "        const dataTable =\n",
              "          await google.colab.kernel.invokeFunction('convertToInteractive',\n",
              "                                                    [key], {});\n",
              "        if (!dataTable) return;\n",
              "\n",
              "        const docLinkHtml = 'Like what you see? Visit the ' +\n",
              "          '<a target=\"_blank\" href=https://colab.research.google.com/notebooks/data_table.ipynb>data table notebook</a>'\n",
              "          + ' to learn more about interactive tables.';\n",
              "        element.innerHTML = '';\n",
              "        dataTable['output_type'] = 'display_data';\n",
              "        await google.colab.output.renderOutput(dataTable, element);\n",
              "        const docLink = document.createElement('div');\n",
              "        docLink.innerHTML = docLinkHtml;\n",
              "        element.appendChild(docLink);\n",
              "      }\n",
              "    </script>\n",
              "  </div>\n",
              "\n",
              "\n",
              "<div id=\"df-846058d6-ca1d-4d46-bb9e-7846db050661\">\n",
              "  <button class=\"colab-df-quickchart\" onclick=\"quickchart('df-846058d6-ca1d-4d46-bb9e-7846db050661')\"\n",
              "            title=\"Suggest charts\"\n",
              "            style=\"display:none;\">\n",
              "\n",
              "<svg xmlns=\"http://www.w3.org/2000/svg\" height=\"24px\"viewBox=\"0 0 24 24\"\n",
              "     width=\"24px\">\n",
              "    <g>\n",
              "        <path d=\"M19 3H5c-1.1 0-2 .9-2 2v14c0 1.1.9 2 2 2h14c1.1 0 2-.9 2-2V5c0-1.1-.9-2-2-2zM9 17H7v-7h2v7zm4 0h-2V7h2v10zm4 0h-2v-4h2v4z\"/>\n",
              "    </g>\n",
              "</svg>\n",
              "  </button>\n",
              "\n",
              "<style>\n",
              "  .colab-df-quickchart {\n",
              "      --bg-color: #E8F0FE;\n",
              "      --fill-color: #1967D2;\n",
              "      --hover-bg-color: #E2EBFA;\n",
              "      --hover-fill-color: #174EA6;\n",
              "      --disabled-fill-color: #AAA;\n",
              "      --disabled-bg-color: #DDD;\n",
              "  }\n",
              "\n",
              "  [theme=dark] .colab-df-quickchart {\n",
              "      --bg-color: #3B4455;\n",
              "      --fill-color: #D2E3FC;\n",
              "      --hover-bg-color: #434B5C;\n",
              "      --hover-fill-color: #FFFFFF;\n",
              "      --disabled-bg-color: #3B4455;\n",
              "      --disabled-fill-color: #666;\n",
              "  }\n",
              "\n",
              "  .colab-df-quickchart {\n",
              "    background-color: var(--bg-color);\n",
              "    border: none;\n",
              "    border-radius: 50%;\n",
              "    cursor: pointer;\n",
              "    display: none;\n",
              "    fill: var(--fill-color);\n",
              "    height: 32px;\n",
              "    padding: 0;\n",
              "    width: 32px;\n",
              "  }\n",
              "\n",
              "  .colab-df-quickchart:hover {\n",
              "    background-color: var(--hover-bg-color);\n",
              "    box-shadow: 0 1px 2px rgba(60, 64, 67, 0.3), 0 1px 3px 1px rgba(60, 64, 67, 0.15);\n",
              "    fill: var(--button-hover-fill-color);\n",
              "  }\n",
              "\n",
              "  .colab-df-quickchart-complete:disabled,\n",
              "  .colab-df-quickchart-complete:disabled:hover {\n",
              "    background-color: var(--disabled-bg-color);\n",
              "    fill: var(--disabled-fill-color);\n",
              "    box-shadow: none;\n",
              "  }\n",
              "\n",
              "  .colab-df-spinner {\n",
              "    border: 2px solid var(--fill-color);\n",
              "    border-color: transparent;\n",
              "    border-bottom-color: var(--fill-color);\n",
              "    animation:\n",
              "      spin 1s steps(1) infinite;\n",
              "  }\n",
              "\n",
              "  @keyframes spin {\n",
              "    0% {\n",
              "      border-color: transparent;\n",
              "      border-bottom-color: var(--fill-color);\n",
              "      border-left-color: var(--fill-color);\n",
              "    }\n",
              "    20% {\n",
              "      border-color: transparent;\n",
              "      border-left-color: var(--fill-color);\n",
              "      border-top-color: var(--fill-color);\n",
              "    }\n",
              "    30% {\n",
              "      border-color: transparent;\n",
              "      border-left-color: var(--fill-color);\n",
              "      border-top-color: var(--fill-color);\n",
              "      border-right-color: var(--fill-color);\n",
              "    }\n",
              "    40% {\n",
              "      border-color: transparent;\n",
              "      border-right-color: var(--fill-color);\n",
              "      border-top-color: var(--fill-color);\n",
              "    }\n",
              "    60% {\n",
              "      border-color: transparent;\n",
              "      border-right-color: var(--fill-color);\n",
              "    }\n",
              "    80% {\n",
              "      border-color: transparent;\n",
              "      border-right-color: var(--fill-color);\n",
              "      border-bottom-color: var(--fill-color);\n",
              "    }\n",
              "    90% {\n",
              "      border-color: transparent;\n",
              "      border-bottom-color: var(--fill-color);\n",
              "    }\n",
              "  }\n",
              "</style>\n",
              "\n",
              "  <script>\n",
              "    async function quickchart(key) {\n",
              "      const quickchartButtonEl =\n",
              "        document.querySelector('#' + key + ' button');\n",
              "      quickchartButtonEl.disabled = true;  // To prevent multiple clicks.\n",
              "      quickchartButtonEl.classList.add('colab-df-spinner');\n",
              "      try {\n",
              "        const charts = await google.colab.kernel.invokeFunction(\n",
              "            'suggestCharts', [key], {});\n",
              "      } catch (error) {\n",
              "        console.error('Error during call to suggestCharts:', error);\n",
              "      }\n",
              "      quickchartButtonEl.classList.remove('colab-df-spinner');\n",
              "      quickchartButtonEl.classList.add('colab-df-quickchart-complete');\n",
              "    }\n",
              "    (() => {\n",
              "      let quickchartButtonEl =\n",
              "        document.querySelector('#df-846058d6-ca1d-4d46-bb9e-7846db050661 button');\n",
              "      quickchartButtonEl.style.display =\n",
              "        google.colab.kernel.accessAllowed ? 'block' : 'none';\n",
              "    })();\n",
              "  </script>\n",
              "</div>\n",
              "\n",
              "    </div>\n",
              "  </div>\n"
            ],
            "application/vnd.google.colaboratory.intrinsic+json": {
              "type": "dataframe",
              "variable_name": "df",
              "summary": "{\n  \"name\": \"df\",\n  \"rows\": 16000,\n  \"fields\": [\n    {\n      \"column\": \"text\",\n      \"properties\": {\n        \"dtype\": \"string\",\n        \"num_unique_values\": 15969,\n        \"samples\": [\n          \"i feel rather imbicilic or at least complacent\",\n          \"i was in the bathroom i had sat down to pee it was to make me feel submissive again per instructions\",\n          \"i am thrilled with the way my skin and hair feel if you are like me you are skeptical\"\n        ],\n        \"semantic_type\": \"\",\n        \"description\": \"\"\n      }\n    },\n    {\n      \"column\": \"label\",\n      \"properties\": {\n        \"dtype\": \"number\",\n        \"std\": 1,\n        \"min\": 0,\n        \"max\": 5,\n        \"num_unique_values\": 6,\n        \"samples\": [\n          0,\n          3,\n          1\n        ],\n        \"semantic_type\": \"\",\n        \"description\": \"\"\n      }\n    }\n  ]\n}"
            }
          },
          "metadata": {},
          "execution_count": 10
        }
      ]
    },
    {
      "cell_type": "code",
      "source": [
        "def label_int2str(row):\n",
        "    return emotions[\"train\"].features[\"label\"].int2str(row)\n",
        "\n",
        "df[\"label_name\"] = df[\"label\"].apply(label_int2str)\n",
        "df.head()"
      ],
      "metadata": {
        "colab": {
          "base_uri": "https://localhost:8080/",
          "height": 206
        },
        "id": "4e2xWAv1xkGy",
        "outputId": "7dfd420b-ae71-44c5-f41c-6ff7e717d594"
      },
      "execution_count": 11,
      "outputs": [
        {
          "output_type": "execute_result",
          "data": {
            "text/plain": [
              "                                                text  label label_name\n",
              "0                            i didnt feel humiliated      0    sadness\n",
              "1  i can go from feeling so hopeless to so damned...      0    sadness\n",
              "2   im grabbing a minute to post i feel greedy wrong      3      anger\n",
              "3  i am ever feeling nostalgic about the fireplac...      2       love\n",
              "4                               i am feeling grouchy      3      anger"
            ],
            "text/html": [
              "\n",
              "  <div id=\"df-7b690973-e16e-40e1-92fc-d8b6e2a0a7b8\" class=\"colab-df-container\">\n",
              "    <div>\n",
              "<style scoped>\n",
              "    .dataframe tbody tr th:only-of-type {\n",
              "        vertical-align: middle;\n",
              "    }\n",
              "\n",
              "    .dataframe tbody tr th {\n",
              "        vertical-align: top;\n",
              "    }\n",
              "\n",
              "    .dataframe thead th {\n",
              "        text-align: right;\n",
              "    }\n",
              "</style>\n",
              "<table border=\"1\" class=\"dataframe\">\n",
              "  <thead>\n",
              "    <tr style=\"text-align: right;\">\n",
              "      <th></th>\n",
              "      <th>text</th>\n",
              "      <th>label</th>\n",
              "      <th>label_name</th>\n",
              "    </tr>\n",
              "  </thead>\n",
              "  <tbody>\n",
              "    <tr>\n",
              "      <th>0</th>\n",
              "      <td>i didnt feel humiliated</td>\n",
              "      <td>0</td>\n",
              "      <td>sadness</td>\n",
              "    </tr>\n",
              "    <tr>\n",
              "      <th>1</th>\n",
              "      <td>i can go from feeling so hopeless to so damned...</td>\n",
              "      <td>0</td>\n",
              "      <td>sadness</td>\n",
              "    </tr>\n",
              "    <tr>\n",
              "      <th>2</th>\n",
              "      <td>im grabbing a minute to post i feel greedy wrong</td>\n",
              "      <td>3</td>\n",
              "      <td>anger</td>\n",
              "    </tr>\n",
              "    <tr>\n",
              "      <th>3</th>\n",
              "      <td>i am ever feeling nostalgic about the fireplac...</td>\n",
              "      <td>2</td>\n",
              "      <td>love</td>\n",
              "    </tr>\n",
              "    <tr>\n",
              "      <th>4</th>\n",
              "      <td>i am feeling grouchy</td>\n",
              "      <td>3</td>\n",
              "      <td>anger</td>\n",
              "    </tr>\n",
              "  </tbody>\n",
              "</table>\n",
              "</div>\n",
              "    <div class=\"colab-df-buttons\">\n",
              "\n",
              "  <div class=\"colab-df-container\">\n",
              "    <button class=\"colab-df-convert\" onclick=\"convertToInteractive('df-7b690973-e16e-40e1-92fc-d8b6e2a0a7b8')\"\n",
              "            title=\"Convert this dataframe to an interactive table.\"\n",
              "            style=\"display:none;\">\n",
              "\n",
              "  <svg xmlns=\"http://www.w3.org/2000/svg\" height=\"24px\" viewBox=\"0 -960 960 960\">\n",
              "    <path d=\"M120-120v-720h720v720H120Zm60-500h600v-160H180v160Zm220 220h160v-160H400v160Zm0 220h160v-160H400v160ZM180-400h160v-160H180v160Zm440 0h160v-160H620v160ZM180-180h160v-160H180v160Zm440 0h160v-160H620v160Z\"/>\n",
              "  </svg>\n",
              "    </button>\n",
              "\n",
              "  <style>\n",
              "    .colab-df-container {\n",
              "      display:flex;\n",
              "      gap: 12px;\n",
              "    }\n",
              "\n",
              "    .colab-df-convert {\n",
              "      background-color: #E8F0FE;\n",
              "      border: none;\n",
              "      border-radius: 50%;\n",
              "      cursor: pointer;\n",
              "      display: none;\n",
              "      fill: #1967D2;\n",
              "      height: 32px;\n",
              "      padding: 0 0 0 0;\n",
              "      width: 32px;\n",
              "    }\n",
              "\n",
              "    .colab-df-convert:hover {\n",
              "      background-color: #E2EBFA;\n",
              "      box-shadow: 0px 1px 2px rgba(60, 64, 67, 0.3), 0px 1px 3px 1px rgba(60, 64, 67, 0.15);\n",
              "      fill: #174EA6;\n",
              "    }\n",
              "\n",
              "    .colab-df-buttons div {\n",
              "      margin-bottom: 4px;\n",
              "    }\n",
              "\n",
              "    [theme=dark] .colab-df-convert {\n",
              "      background-color: #3B4455;\n",
              "      fill: #D2E3FC;\n",
              "    }\n",
              "\n",
              "    [theme=dark] .colab-df-convert:hover {\n",
              "      background-color: #434B5C;\n",
              "      box-shadow: 0px 1px 3px 1px rgba(0, 0, 0, 0.15);\n",
              "      filter: drop-shadow(0px 1px 2px rgba(0, 0, 0, 0.3));\n",
              "      fill: #FFFFFF;\n",
              "    }\n",
              "  </style>\n",
              "\n",
              "    <script>\n",
              "      const buttonEl =\n",
              "        document.querySelector('#df-7b690973-e16e-40e1-92fc-d8b6e2a0a7b8 button.colab-df-convert');\n",
              "      buttonEl.style.display =\n",
              "        google.colab.kernel.accessAllowed ? 'block' : 'none';\n",
              "\n",
              "      async function convertToInteractive(key) {\n",
              "        const element = document.querySelector('#df-7b690973-e16e-40e1-92fc-d8b6e2a0a7b8');\n",
              "        const dataTable =\n",
              "          await google.colab.kernel.invokeFunction('convertToInteractive',\n",
              "                                                    [key], {});\n",
              "        if (!dataTable) return;\n",
              "\n",
              "        const docLinkHtml = 'Like what you see? Visit the ' +\n",
              "          '<a target=\"_blank\" href=https://colab.research.google.com/notebooks/data_table.ipynb>data table notebook</a>'\n",
              "          + ' to learn more about interactive tables.';\n",
              "        element.innerHTML = '';\n",
              "        dataTable['output_type'] = 'display_data';\n",
              "        await google.colab.output.renderOutput(dataTable, element);\n",
              "        const docLink = document.createElement('div');\n",
              "        docLink.innerHTML = docLinkHtml;\n",
              "        element.appendChild(docLink);\n",
              "      }\n",
              "    </script>\n",
              "  </div>\n",
              "\n",
              "\n",
              "<div id=\"df-b4dc9f30-58b7-4d7a-be26-eac35b70056a\">\n",
              "  <button class=\"colab-df-quickchart\" onclick=\"quickchart('df-b4dc9f30-58b7-4d7a-be26-eac35b70056a')\"\n",
              "            title=\"Suggest charts\"\n",
              "            style=\"display:none;\">\n",
              "\n",
              "<svg xmlns=\"http://www.w3.org/2000/svg\" height=\"24px\"viewBox=\"0 0 24 24\"\n",
              "     width=\"24px\">\n",
              "    <g>\n",
              "        <path d=\"M19 3H5c-1.1 0-2 .9-2 2v14c0 1.1.9 2 2 2h14c1.1 0 2-.9 2-2V5c0-1.1-.9-2-2-2zM9 17H7v-7h2v7zm4 0h-2V7h2v10zm4 0h-2v-4h2v4z\"/>\n",
              "    </g>\n",
              "</svg>\n",
              "  </button>\n",
              "\n",
              "<style>\n",
              "  .colab-df-quickchart {\n",
              "      --bg-color: #E8F0FE;\n",
              "      --fill-color: #1967D2;\n",
              "      --hover-bg-color: #E2EBFA;\n",
              "      --hover-fill-color: #174EA6;\n",
              "      --disabled-fill-color: #AAA;\n",
              "      --disabled-bg-color: #DDD;\n",
              "  }\n",
              "\n",
              "  [theme=dark] .colab-df-quickchart {\n",
              "      --bg-color: #3B4455;\n",
              "      --fill-color: #D2E3FC;\n",
              "      --hover-bg-color: #434B5C;\n",
              "      --hover-fill-color: #FFFFFF;\n",
              "      --disabled-bg-color: #3B4455;\n",
              "      --disabled-fill-color: #666;\n",
              "  }\n",
              "\n",
              "  .colab-df-quickchart {\n",
              "    background-color: var(--bg-color);\n",
              "    border: none;\n",
              "    border-radius: 50%;\n",
              "    cursor: pointer;\n",
              "    display: none;\n",
              "    fill: var(--fill-color);\n",
              "    height: 32px;\n",
              "    padding: 0;\n",
              "    width: 32px;\n",
              "  }\n",
              "\n",
              "  .colab-df-quickchart:hover {\n",
              "    background-color: var(--hover-bg-color);\n",
              "    box-shadow: 0 1px 2px rgba(60, 64, 67, 0.3), 0 1px 3px 1px rgba(60, 64, 67, 0.15);\n",
              "    fill: var(--button-hover-fill-color);\n",
              "  }\n",
              "\n",
              "  .colab-df-quickchart-complete:disabled,\n",
              "  .colab-df-quickchart-complete:disabled:hover {\n",
              "    background-color: var(--disabled-bg-color);\n",
              "    fill: var(--disabled-fill-color);\n",
              "    box-shadow: none;\n",
              "  }\n",
              "\n",
              "  .colab-df-spinner {\n",
              "    border: 2px solid var(--fill-color);\n",
              "    border-color: transparent;\n",
              "    border-bottom-color: var(--fill-color);\n",
              "    animation:\n",
              "      spin 1s steps(1) infinite;\n",
              "  }\n",
              "\n",
              "  @keyframes spin {\n",
              "    0% {\n",
              "      border-color: transparent;\n",
              "      border-bottom-color: var(--fill-color);\n",
              "      border-left-color: var(--fill-color);\n",
              "    }\n",
              "    20% {\n",
              "      border-color: transparent;\n",
              "      border-left-color: var(--fill-color);\n",
              "      border-top-color: var(--fill-color);\n",
              "    }\n",
              "    30% {\n",
              "      border-color: transparent;\n",
              "      border-left-color: var(--fill-color);\n",
              "      border-top-color: var(--fill-color);\n",
              "      border-right-color: var(--fill-color);\n",
              "    }\n",
              "    40% {\n",
              "      border-color: transparent;\n",
              "      border-right-color: var(--fill-color);\n",
              "      border-top-color: var(--fill-color);\n",
              "    }\n",
              "    60% {\n",
              "      border-color: transparent;\n",
              "      border-right-color: var(--fill-color);\n",
              "    }\n",
              "    80% {\n",
              "      border-color: transparent;\n",
              "      border-right-color: var(--fill-color);\n",
              "      border-bottom-color: var(--fill-color);\n",
              "    }\n",
              "    90% {\n",
              "      border-color: transparent;\n",
              "      border-bottom-color: var(--fill-color);\n",
              "    }\n",
              "  }\n",
              "</style>\n",
              "\n",
              "  <script>\n",
              "    async function quickchart(key) {\n",
              "      const quickchartButtonEl =\n",
              "        document.querySelector('#' + key + ' button');\n",
              "      quickchartButtonEl.disabled = true;  // To prevent multiple clicks.\n",
              "      quickchartButtonEl.classList.add('colab-df-spinner');\n",
              "      try {\n",
              "        const charts = await google.colab.kernel.invokeFunction(\n",
              "            'suggestCharts', [key], {});\n",
              "      } catch (error) {\n",
              "        console.error('Error during call to suggestCharts:', error);\n",
              "      }\n",
              "      quickchartButtonEl.classList.remove('colab-df-spinner');\n",
              "      quickchartButtonEl.classList.add('colab-df-quickchart-complete');\n",
              "    }\n",
              "    (() => {\n",
              "      let quickchartButtonEl =\n",
              "        document.querySelector('#df-b4dc9f30-58b7-4d7a-be26-eac35b70056a button');\n",
              "      quickchartButtonEl.style.display =\n",
              "        google.colab.kernel.accessAllowed ? 'block' : 'none';\n",
              "    })();\n",
              "  </script>\n",
              "</div>\n",
              "\n",
              "    </div>\n",
              "  </div>\n"
            ],
            "application/vnd.google.colaboratory.intrinsic+json": {
              "type": "dataframe",
              "variable_name": "df",
              "summary": "{\n  \"name\": \"df\",\n  \"rows\": 16000,\n  \"fields\": [\n    {\n      \"column\": \"text\",\n      \"properties\": {\n        \"dtype\": \"string\",\n        \"num_unique_values\": 15969,\n        \"samples\": [\n          \"i feel rather imbicilic or at least complacent\",\n          \"i was in the bathroom i had sat down to pee it was to make me feel submissive again per instructions\",\n          \"i am thrilled with the way my skin and hair feel if you are like me you are skeptical\"\n        ],\n        \"semantic_type\": \"\",\n        \"description\": \"\"\n      }\n    },\n    {\n      \"column\": \"label\",\n      \"properties\": {\n        \"dtype\": \"number\",\n        \"std\": 1,\n        \"min\": 0,\n        \"max\": 5,\n        \"num_unique_values\": 6,\n        \"samples\": [\n          0,\n          3,\n          1\n        ],\n        \"semantic_type\": \"\",\n        \"description\": \"\"\n      }\n    },\n    {\n      \"column\": \"label_name\",\n      \"properties\": {\n        \"dtype\": \"category\",\n        \"num_unique_values\": 6,\n        \"samples\": [\n          \"sadness\",\n          \"anger\",\n          \"joy\"\n        ],\n        \"semantic_type\": \"\",\n        \"description\": \"\"\n      }\n    }\n  ]\n}"
            }
          },
          "metadata": {},
          "execution_count": 11
        }
      ]
    },
    {
      "cell_type": "code",
      "source": [
        "import matplotlib.pyplot as plt\n",
        "\n",
        "df[\"label_name\"].value_counts(ascending=True).plot.barh()\n",
        "plt.title(\"Frequency of Classes\")\n",
        "plt.show()"
      ],
      "metadata": {
        "colab": {
          "base_uri": "https://localhost:8080/",
          "height": 384
        },
        "id": "dmSsC7JTxlbT",
        "outputId": "17790942-5151-43c0-81ec-9471be8c805f"
      },
      "execution_count": 12,
      "outputs": [
        {
          "output_type": "display_data",
          "data": {
            "text/plain": [
              "<Figure size 600x400 with 1 Axes>"
            ],
            "image/svg+xml": "<?xml version=\"1.0\" encoding=\"utf-8\" standalone=\"no\"?>\n<!DOCTYPE svg PUBLIC \"-//W3C//DTD SVG 1.1//EN\"\n  \"http://www.w3.org/Graphics/SVG/1.1/DTD/svg11.dtd\">\n<svg xmlns:xlink=\"http://www.w3.org/1999/xlink\" width=\"420.861875pt\" height=\"271.7155pt\" viewBox=\"0 0 420.861875 271.7155\" xmlns=\"http://www.w3.org/2000/svg\" version=\"1.1\">\n <metadata>\n  <rdf:RDF xmlns:dc=\"http://purl.org/dc/elements/1.1/\" xmlns:cc=\"http://creativecommons.org/ns#\" xmlns:rdf=\"http://www.w3.org/1999/02/22-rdf-syntax-ns#\">\n   <cc:Work>\n    <dc:type rdf:resource=\"http://purl.org/dc/dcmitype/StillImage\"/>\n    <dc:date>2024-06-22T03:06:48.736554</dc:date>\n    <dc:format>image/svg+xml</dc:format>\n    <dc:creator>\n     <cc:Agent>\n      <dc:title>Matplotlib v3.7.1, https://matplotlib.org/</dc:title>\n     </cc:Agent>\n    </dc:creator>\n   </cc:Work>\n  </rdf:RDF>\n </metadata>\n <defs>\n  <style type=\"text/css\">*{stroke-linejoin: round; stroke-linecap: butt}</style>\n </defs>\n <g id=\"figure_1\">\n  <g id=\"patch_1\">\n   <path d=\"M 0 271.7155 \nL 420.861875 271.7155 \nL 420.861875 0 \nL 0 0 \nz\n\" style=\"fill: #ffffff\"/>\n  </g>\n  <g id=\"axes_1\">\n   <g id=\"patch_2\">\n    <path d=\"M 78.861875 245.90175 \nL 413.661875 245.90175 \nL 413.661875 24.14175 \nL 78.861875 24.14175 \nz\n\" style=\"fill: #ffffff\"/>\n   </g>\n   <g id=\"patch_3\">\n    <path d=\"M 78.861875 236.66175 \nL 112.876475 236.66175 \nL 112.876475 218.18175 \nL 78.861875 218.18175 \nz\n\" clip-path=\"url(#p31b171788f)\" style=\"fill: #0071bc\"/>\n   </g>\n   <g id=\"patch_4\">\n    <path d=\"M 78.861875 199.70175 \nL 156.405649 199.70175 \nL 156.405649 181.22175 \nL 78.861875 181.22175 \nz\n\" clip-path=\"url(#p31b171788f)\" style=\"fill: #0071bc\"/>\n   </g>\n   <g id=\"patch_5\">\n    <path d=\"M 78.861875 162.74175 \nL 194.04768 162.74175 \nL 194.04768 144.26175 \nL 78.861875 144.26175 \nz\n\" clip-path=\"url(#p31b171788f)\" style=\"fill: #0071bc\"/>\n   </g>\n   <g id=\"patch_6\">\n    <path d=\"M 78.861875 125.78175 \nL 207.249151 125.78175 \nL 207.249151 107.30175 \nL 78.861875 107.30175 \nz\n\" clip-path=\"url(#p31b171788f)\" style=\"fill: #0071bc\"/>\n   </g>\n   <g id=\"patch_7\">\n    <path d=\"M 78.861875 88.82175 \nL 356.330623 88.82175 \nL 356.330623 70.34175 \nL 78.861875 70.34175 \nz\n\" clip-path=\"url(#p31b171788f)\" style=\"fill: #0071bc\"/>\n   </g>\n   <g id=\"patch_8\">\n    <path d=\"M 78.861875 51.86175 \nL 397.719018 51.86175 \nL 397.719018 33.38175 \nL 78.861875 33.38175 \nz\n\" clip-path=\"url(#p31b171788f)\" style=\"fill: #0071bc\"/>\n   </g>\n   <g id=\"matplotlib.axis_1\">\n    <g id=\"xtick_1\">\n     <g id=\"line2d_1\">\n      <defs>\n       <path id=\"ma2616abc79\" d=\"M 0 0 \nL 0 3.5 \n\" style=\"stroke: #000000; stroke-width: 0.8\"/>\n      </defs>\n      <g>\n       <use xlink:href=\"#ma2616abc79\" x=\"78.861875\" y=\"245.90175\" style=\"stroke: #000000; stroke-width: 0.8\"/>\n      </g>\n     </g>\n     <g id=\"text_1\">\n      <!-- 0 -->\n      <g transform=\"translate(75.044375 262.019875) scale(0.12 -0.12)\">\n       <defs>\n        <path id=\"DejaVuSans-30\" d=\"M 2034 4250 \nQ 1547 4250 1301 3770 \nQ 1056 3291 1056 2328 \nQ 1056 1369 1301 889 \nQ 1547 409 2034 409 \nQ 2525 409 2770 889 \nQ 3016 1369 3016 2328 \nQ 3016 3291 2770 3770 \nQ 2525 4250 2034 4250 \nz\nM 2034 4750 \nQ 2819 4750 3233 4129 \nQ 3647 3509 3647 2328 \nQ 3647 1150 3233 529 \nQ 2819 -91 2034 -91 \nQ 1250 -91 836 529 \nQ 422 1150 422 2328 \nQ 422 3509 836 4129 \nQ 1250 4750 2034 4750 \nz\n\" transform=\"scale(0.015625)\"/>\n       </defs>\n       <use xlink:href=\"#DejaVuSans-30\"/>\n      </g>\n     </g>\n    </g>\n    <g id=\"xtick_2\">\n     <g id=\"line2d_2\">\n      <g>\n       <use xlink:href=\"#ma2616abc79\" x=\"138.327959\" y=\"245.90175\" style=\"stroke: #000000; stroke-width: 0.8\"/>\n      </g>\n     </g>\n     <g id=\"text_2\">\n      <!-- 1000 -->\n      <g transform=\"translate(123.057959 262.019875) scale(0.12 -0.12)\">\n       <defs>\n        <path id=\"DejaVuSans-31\" d=\"M 794 531 \nL 1825 531 \nL 1825 4091 \nL 703 3866 \nL 703 4441 \nL 1819 4666 \nL 2450 4666 \nL 2450 531 \nL 3481 531 \nL 3481 0 \nL 794 0 \nL 794 531 \nz\n\" transform=\"scale(0.015625)\"/>\n       </defs>\n       <use xlink:href=\"#DejaVuSans-31\"/>\n       <use xlink:href=\"#DejaVuSans-30\" x=\"63.623047\"/>\n       <use xlink:href=\"#DejaVuSans-30\" x=\"127.246094\"/>\n       <use xlink:href=\"#DejaVuSans-30\" x=\"190.869141\"/>\n      </g>\n     </g>\n    </g>\n    <g id=\"xtick_3\">\n     <g id=\"line2d_3\">\n      <g>\n       <use xlink:href=\"#ma2616abc79\" x=\"197.794043\" y=\"245.90175\" style=\"stroke: #000000; stroke-width: 0.8\"/>\n      </g>\n     </g>\n     <g id=\"text_3\">\n      <!-- 2000 -->\n      <g transform=\"translate(182.524043 262.019875) scale(0.12 -0.12)\">\n       <defs>\n        <path id=\"DejaVuSans-32\" d=\"M 1228 531 \nL 3431 531 \nL 3431 0 \nL 469 0 \nL 469 531 \nQ 828 903 1448 1529 \nQ 2069 2156 2228 2338 \nQ 2531 2678 2651 2914 \nQ 2772 3150 2772 3378 \nQ 2772 3750 2511 3984 \nQ 2250 4219 1831 4219 \nQ 1534 4219 1204 4116 \nQ 875 4013 500 3803 \nL 500 4441 \nQ 881 4594 1212 4672 \nQ 1544 4750 1819 4750 \nQ 2544 4750 2975 4387 \nQ 3406 4025 3406 3419 \nQ 3406 3131 3298 2873 \nQ 3191 2616 2906 2266 \nQ 2828 2175 2409 1742 \nQ 1991 1309 1228 531 \nz\n\" transform=\"scale(0.015625)\"/>\n       </defs>\n       <use xlink:href=\"#DejaVuSans-32\"/>\n       <use xlink:href=\"#DejaVuSans-30\" x=\"63.623047\"/>\n       <use xlink:href=\"#DejaVuSans-30\" x=\"127.246094\"/>\n       <use xlink:href=\"#DejaVuSans-30\" x=\"190.869141\"/>\n      </g>\n     </g>\n    </g>\n    <g id=\"xtick_4\">\n     <g id=\"line2d_4\">\n      <g>\n       <use xlink:href=\"#ma2616abc79\" x=\"257.260127\" y=\"245.90175\" style=\"stroke: #000000; stroke-width: 0.8\"/>\n      </g>\n     </g>\n     <g id=\"text_4\">\n      <!-- 3000 -->\n      <g transform=\"translate(241.990127 262.019875) scale(0.12 -0.12)\">\n       <defs>\n        <path id=\"DejaVuSans-33\" d=\"M 2597 2516 \nQ 3050 2419 3304 2112 \nQ 3559 1806 3559 1356 \nQ 3559 666 3084 287 \nQ 2609 -91 1734 -91 \nQ 1441 -91 1130 -33 \nQ 819 25 488 141 \nL 488 750 \nQ 750 597 1062 519 \nQ 1375 441 1716 441 \nQ 2309 441 2620 675 \nQ 2931 909 2931 1356 \nQ 2931 1769 2642 2001 \nQ 2353 2234 1838 2234 \nL 1294 2234 \nL 1294 2753 \nL 1863 2753 \nQ 2328 2753 2575 2939 \nQ 2822 3125 2822 3475 \nQ 2822 3834 2567 4026 \nQ 2313 4219 1838 4219 \nQ 1578 4219 1281 4162 \nQ 984 4106 628 3988 \nL 628 4550 \nQ 988 4650 1302 4700 \nQ 1616 4750 1894 4750 \nQ 2613 4750 3031 4423 \nQ 3450 4097 3450 3541 \nQ 3450 3153 3228 2886 \nQ 3006 2619 2597 2516 \nz\n\" transform=\"scale(0.015625)\"/>\n       </defs>\n       <use xlink:href=\"#DejaVuSans-33\"/>\n       <use xlink:href=\"#DejaVuSans-30\" x=\"63.623047\"/>\n       <use xlink:href=\"#DejaVuSans-30\" x=\"127.246094\"/>\n       <use xlink:href=\"#DejaVuSans-30\" x=\"190.869141\"/>\n      </g>\n     </g>\n    </g>\n    <g id=\"xtick_5\">\n     <g id=\"line2d_5\">\n      <g>\n       <use xlink:href=\"#ma2616abc79\" x=\"316.726211\" y=\"245.90175\" style=\"stroke: #000000; stroke-width: 0.8\"/>\n      </g>\n     </g>\n     <g id=\"text_5\">\n      <!-- 4000 -->\n      <g transform=\"translate(301.456211 262.019875) scale(0.12 -0.12)\">\n       <defs>\n        <path id=\"DejaVuSans-34\" d=\"M 2419 4116 \nL 825 1625 \nL 2419 1625 \nL 2419 4116 \nz\nM 2253 4666 \nL 3047 4666 \nL 3047 1625 \nL 3713 1625 \nL 3713 1100 \nL 3047 1100 \nL 3047 0 \nL 2419 0 \nL 2419 1100 \nL 313 1100 \nL 313 1709 \nL 2253 4666 \nz\n\" transform=\"scale(0.015625)\"/>\n       </defs>\n       <use xlink:href=\"#DejaVuSans-34\"/>\n       <use xlink:href=\"#DejaVuSans-30\" x=\"63.623047\"/>\n       <use xlink:href=\"#DejaVuSans-30\" x=\"127.246094\"/>\n       <use xlink:href=\"#DejaVuSans-30\" x=\"190.869141\"/>\n      </g>\n     </g>\n    </g>\n    <g id=\"xtick_6\">\n     <g id=\"line2d_6\">\n      <g>\n       <use xlink:href=\"#ma2616abc79\" x=\"376.192295\" y=\"245.90175\" style=\"stroke: #000000; stroke-width: 0.8\"/>\n      </g>\n     </g>\n     <g id=\"text_6\">\n      <!-- 5000 -->\n      <g transform=\"translate(360.922295 262.019875) scale(0.12 -0.12)\">\n       <defs>\n        <path id=\"DejaVuSans-35\" d=\"M 691 4666 \nL 3169 4666 \nL 3169 4134 \nL 1269 4134 \nL 1269 2991 \nQ 1406 3038 1543 3061 \nQ 1681 3084 1819 3084 \nQ 2600 3084 3056 2656 \nQ 3513 2228 3513 1497 \nQ 3513 744 3044 326 \nQ 2575 -91 1722 -91 \nQ 1428 -91 1123 -41 \nQ 819 9 494 109 \nL 494 744 \nQ 775 591 1075 516 \nQ 1375 441 1709 441 \nQ 2250 441 2565 725 \nQ 2881 1009 2881 1497 \nQ 2881 1984 2565 2268 \nQ 2250 2553 1709 2553 \nQ 1456 2553 1204 2497 \nQ 953 2441 691 2322 \nL 691 4666 \nz\n\" transform=\"scale(0.015625)\"/>\n       </defs>\n       <use xlink:href=\"#DejaVuSans-35\"/>\n       <use xlink:href=\"#DejaVuSans-30\" x=\"63.623047\"/>\n       <use xlink:href=\"#DejaVuSans-30\" x=\"127.246094\"/>\n       <use xlink:href=\"#DejaVuSans-30\" x=\"190.869141\"/>\n      </g>\n     </g>\n    </g>\n   </g>\n   <g id=\"matplotlib.axis_2\">\n    <g id=\"ytick_1\">\n     <g id=\"line2d_7\">\n      <defs>\n       <path id=\"mc544dcc880\" d=\"M 0 0 \nL -3.5 0 \n\" style=\"stroke: #000000; stroke-width: 0.8\"/>\n      </defs>\n      <g>\n       <use xlink:href=\"#mc544dcc880\" x=\"78.861875\" y=\"227.42175\" style=\"stroke: #000000; stroke-width: 0.8\"/>\n      </g>\n     </g>\n     <g id=\"text_7\">\n      <!-- surprise -->\n      <g transform=\"translate(23.5525 231.980813) scale(0.12 -0.12)\">\n       <defs>\n        <path id=\"DejaVuSans-73\" d=\"M 2834 3397 \nL 2834 2853 \nQ 2591 2978 2328 3040 \nQ 2066 3103 1784 3103 \nQ 1356 3103 1142 2972 \nQ 928 2841 928 2578 \nQ 928 2378 1081 2264 \nQ 1234 2150 1697 2047 \nL 1894 2003 \nQ 2506 1872 2764 1633 \nQ 3022 1394 3022 966 \nQ 3022 478 2636 193 \nQ 2250 -91 1575 -91 \nQ 1294 -91 989 -36 \nQ 684 19 347 128 \nL 347 722 \nQ 666 556 975 473 \nQ 1284 391 1588 391 \nQ 1994 391 2212 530 \nQ 2431 669 2431 922 \nQ 2431 1156 2273 1281 \nQ 2116 1406 1581 1522 \nL 1381 1569 \nQ 847 1681 609 1914 \nQ 372 2147 372 2553 \nQ 372 3047 722 3315 \nQ 1072 3584 1716 3584 \nQ 2034 3584 2315 3537 \nQ 2597 3491 2834 3397 \nz\n\" transform=\"scale(0.015625)\"/>\n        <path id=\"DejaVuSans-75\" d=\"M 544 1381 \nL 544 3500 \nL 1119 3500 \nL 1119 1403 \nQ 1119 906 1312 657 \nQ 1506 409 1894 409 \nQ 2359 409 2629 706 \nQ 2900 1003 2900 1516 \nL 2900 3500 \nL 3475 3500 \nL 3475 0 \nL 2900 0 \nL 2900 538 \nQ 2691 219 2414 64 \nQ 2138 -91 1772 -91 \nQ 1169 -91 856 284 \nQ 544 659 544 1381 \nz\nM 1991 3584 \nL 1991 3584 \nz\n\" transform=\"scale(0.015625)\"/>\n        <path id=\"DejaVuSans-72\" d=\"M 2631 2963 \nQ 2534 3019 2420 3045 \nQ 2306 3072 2169 3072 \nQ 1681 3072 1420 2755 \nQ 1159 2438 1159 1844 \nL 1159 0 \nL 581 0 \nL 581 3500 \nL 1159 3500 \nL 1159 2956 \nQ 1341 3275 1631 3429 \nQ 1922 3584 2338 3584 \nQ 2397 3584 2469 3576 \nQ 2541 3569 2628 3553 \nL 2631 2963 \nz\n\" transform=\"scale(0.015625)\"/>\n        <path id=\"DejaVuSans-70\" d=\"M 1159 525 \nL 1159 -1331 \nL 581 -1331 \nL 581 3500 \nL 1159 3500 \nL 1159 2969 \nQ 1341 3281 1617 3432 \nQ 1894 3584 2278 3584 \nQ 2916 3584 3314 3078 \nQ 3713 2572 3713 1747 \nQ 3713 922 3314 415 \nQ 2916 -91 2278 -91 \nQ 1894 -91 1617 61 \nQ 1341 213 1159 525 \nz\nM 3116 1747 \nQ 3116 2381 2855 2742 \nQ 2594 3103 2138 3103 \nQ 1681 3103 1420 2742 \nQ 1159 2381 1159 1747 \nQ 1159 1113 1420 752 \nQ 1681 391 2138 391 \nQ 2594 391 2855 752 \nQ 3116 1113 3116 1747 \nz\n\" transform=\"scale(0.015625)\"/>\n        <path id=\"DejaVuSans-69\" d=\"M 603 3500 \nL 1178 3500 \nL 1178 0 \nL 603 0 \nL 603 3500 \nz\nM 603 4863 \nL 1178 4863 \nL 1178 4134 \nL 603 4134 \nL 603 4863 \nz\n\" transform=\"scale(0.015625)\"/>\n        <path id=\"DejaVuSans-65\" d=\"M 3597 1894 \nL 3597 1613 \nL 953 1613 \nQ 991 1019 1311 708 \nQ 1631 397 2203 397 \nQ 2534 397 2845 478 \nQ 3156 559 3463 722 \nL 3463 178 \nQ 3153 47 2828 -22 \nQ 2503 -91 2169 -91 \nQ 1331 -91 842 396 \nQ 353 884 353 1716 \nQ 353 2575 817 3079 \nQ 1281 3584 2069 3584 \nQ 2775 3584 3186 3129 \nQ 3597 2675 3597 1894 \nz\nM 3022 2063 \nQ 3016 2534 2758 2815 \nQ 2500 3097 2075 3097 \nQ 1594 3097 1305 2825 \nQ 1016 2553 972 2059 \nL 3022 2063 \nz\n\" transform=\"scale(0.015625)\"/>\n       </defs>\n       <use xlink:href=\"#DejaVuSans-73\"/>\n       <use xlink:href=\"#DejaVuSans-75\" x=\"52.099609\"/>\n       <use xlink:href=\"#DejaVuSans-72\" x=\"115.478516\"/>\n       <use xlink:href=\"#DejaVuSans-70\" x=\"156.591797\"/>\n       <use xlink:href=\"#DejaVuSans-72\" x=\"220.068359\"/>\n       <use xlink:href=\"#DejaVuSans-69\" x=\"261.181641\"/>\n       <use xlink:href=\"#DejaVuSans-73\" x=\"288.964844\"/>\n       <use xlink:href=\"#DejaVuSans-65\" x=\"341.064453\"/>\n      </g>\n     </g>\n    </g>\n    <g id=\"ytick_2\">\n     <g id=\"line2d_8\">\n      <g>\n       <use xlink:href=\"#mc544dcc880\" x=\"78.861875\" y=\"190.46175\" style=\"stroke: #000000; stroke-width: 0.8\"/>\n      </g>\n     </g>\n     <g id=\"text_8\">\n      <!-- love -->\n      <g transform=\"translate(46.699375 195.020813) scale(0.12 -0.12)\">\n       <defs>\n        <path id=\"DejaVuSans-6c\" d=\"M 603 4863 \nL 1178 4863 \nL 1178 0 \nL 603 0 \nL 603 4863 \nz\n\" transform=\"scale(0.015625)\"/>\n        <path id=\"DejaVuSans-6f\" d=\"M 1959 3097 \nQ 1497 3097 1228 2736 \nQ 959 2375 959 1747 \nQ 959 1119 1226 758 \nQ 1494 397 1959 397 \nQ 2419 397 2687 759 \nQ 2956 1122 2956 1747 \nQ 2956 2369 2687 2733 \nQ 2419 3097 1959 3097 \nz\nM 1959 3584 \nQ 2709 3584 3137 3096 \nQ 3566 2609 3566 1747 \nQ 3566 888 3137 398 \nQ 2709 -91 1959 -91 \nQ 1206 -91 779 398 \nQ 353 888 353 1747 \nQ 353 2609 779 3096 \nQ 1206 3584 1959 3584 \nz\n\" transform=\"scale(0.015625)\"/>\n        <path id=\"DejaVuSans-76\" d=\"M 191 3500 \nL 800 3500 \nL 1894 563 \nL 2988 3500 \nL 3597 3500 \nL 2284 0 \nL 1503 0 \nL 191 3500 \nz\n\" transform=\"scale(0.015625)\"/>\n       </defs>\n       <use xlink:href=\"#DejaVuSans-6c\"/>\n       <use xlink:href=\"#DejaVuSans-6f\" x=\"27.783203\"/>\n       <use xlink:href=\"#DejaVuSans-76\" x=\"88.964844\"/>\n       <use xlink:href=\"#DejaVuSans-65\" x=\"148.144531\"/>\n      </g>\n     </g>\n    </g>\n    <g id=\"ytick_3\">\n     <g id=\"line2d_9\">\n      <g>\n       <use xlink:href=\"#mc544dcc880\" x=\"78.861875\" y=\"153.50175\" style=\"stroke: #000000; stroke-width: 0.8\"/>\n      </g>\n     </g>\n     <g id=\"text_9\">\n      <!-- fear -->\n      <g transform=\"translate(47.966875 158.060813) scale(0.12 -0.12)\">\n       <defs>\n        <path id=\"DejaVuSans-66\" d=\"M 2375 4863 \nL 2375 4384 \nL 1825 4384 \nQ 1516 4384 1395 4259 \nQ 1275 4134 1275 3809 \nL 1275 3500 \nL 2222 3500 \nL 2222 3053 \nL 1275 3053 \nL 1275 0 \nL 697 0 \nL 697 3053 \nL 147 3053 \nL 147 3500 \nL 697 3500 \nL 697 3744 \nQ 697 4328 969 4595 \nQ 1241 4863 1831 4863 \nL 2375 4863 \nz\n\" transform=\"scale(0.015625)\"/>\n        <path id=\"DejaVuSans-61\" d=\"M 2194 1759 \nQ 1497 1759 1228 1600 \nQ 959 1441 959 1056 \nQ 959 750 1161 570 \nQ 1363 391 1709 391 \nQ 2188 391 2477 730 \nQ 2766 1069 2766 1631 \nL 2766 1759 \nL 2194 1759 \nz\nM 3341 1997 \nL 3341 0 \nL 2766 0 \nL 2766 531 \nQ 2569 213 2275 61 \nQ 1981 -91 1556 -91 \nQ 1019 -91 701 211 \nQ 384 513 384 1019 \nQ 384 1609 779 1909 \nQ 1175 2209 1959 2209 \nL 2766 2209 \nL 2766 2266 \nQ 2766 2663 2505 2880 \nQ 2244 3097 1772 3097 \nQ 1472 3097 1187 3025 \nQ 903 2953 641 2809 \nL 641 3341 \nQ 956 3463 1253 3523 \nQ 1550 3584 1831 3584 \nQ 2591 3584 2966 3190 \nQ 3341 2797 3341 1997 \nz\n\" transform=\"scale(0.015625)\"/>\n       </defs>\n       <use xlink:href=\"#DejaVuSans-66\"/>\n       <use xlink:href=\"#DejaVuSans-65\" x=\"35.205078\"/>\n       <use xlink:href=\"#DejaVuSans-61\" x=\"96.728516\"/>\n       <use xlink:href=\"#DejaVuSans-72\" x=\"158.007812\"/>\n      </g>\n     </g>\n    </g>\n    <g id=\"ytick_4\">\n     <g id=\"line2d_10\">\n      <g>\n       <use xlink:href=\"#mc544dcc880\" x=\"78.861875\" y=\"116.54175\" style=\"stroke: #000000; stroke-width: 0.8\"/>\n      </g>\n     </g>\n     <g id=\"text_10\">\n      <!-- anger -->\n      <g transform=\"translate(36.968125 121.100813) scale(0.12 -0.12)\">\n       <defs>\n        <path id=\"DejaVuSans-6e\" d=\"M 3513 2113 \nL 3513 0 \nL 2938 0 \nL 2938 2094 \nQ 2938 2591 2744 2837 \nQ 2550 3084 2163 3084 \nQ 1697 3084 1428 2787 \nQ 1159 2491 1159 1978 \nL 1159 0 \nL 581 0 \nL 581 3500 \nL 1159 3500 \nL 1159 2956 \nQ 1366 3272 1645 3428 \nQ 1925 3584 2291 3584 \nQ 2894 3584 3203 3211 \nQ 3513 2838 3513 2113 \nz\n\" transform=\"scale(0.015625)\"/>\n        <path id=\"DejaVuSans-67\" d=\"M 2906 1791 \nQ 2906 2416 2648 2759 \nQ 2391 3103 1925 3103 \nQ 1463 3103 1205 2759 \nQ 947 2416 947 1791 \nQ 947 1169 1205 825 \nQ 1463 481 1925 481 \nQ 2391 481 2648 825 \nQ 2906 1169 2906 1791 \nz\nM 3481 434 \nQ 3481 -459 3084 -895 \nQ 2688 -1331 1869 -1331 \nQ 1566 -1331 1297 -1286 \nQ 1028 -1241 775 -1147 \nL 775 -588 \nQ 1028 -725 1275 -790 \nQ 1522 -856 1778 -856 \nQ 2344 -856 2625 -561 \nQ 2906 -266 2906 331 \nL 2906 616 \nQ 2728 306 2450 153 \nQ 2172 0 1784 0 \nQ 1141 0 747 490 \nQ 353 981 353 1791 \nQ 353 2603 747 3093 \nQ 1141 3584 1784 3584 \nQ 2172 3584 2450 3431 \nQ 2728 3278 2906 2969 \nL 2906 3500 \nL 3481 3500 \nL 3481 434 \nz\n\" transform=\"scale(0.015625)\"/>\n       </defs>\n       <use xlink:href=\"#DejaVuSans-61\"/>\n       <use xlink:href=\"#DejaVuSans-6e\" x=\"61.279297\"/>\n       <use xlink:href=\"#DejaVuSans-67\" x=\"124.658203\"/>\n       <use xlink:href=\"#DejaVuSans-65\" x=\"188.134766\"/>\n       <use xlink:href=\"#DejaVuSans-72\" x=\"249.658203\"/>\n      </g>\n     </g>\n    </g>\n    <g id=\"ytick_5\">\n     <g id=\"line2d_11\">\n      <g>\n       <use xlink:href=\"#mc544dcc880\" x=\"78.861875\" y=\"79.58175\" style=\"stroke: #000000; stroke-width: 0.8\"/>\n      </g>\n     </g>\n     <g id=\"text_11\">\n      <!-- sadness -->\n      <g transform=\"translate(23.1475 84.140813) scale(0.12 -0.12)\">\n       <defs>\n        <path id=\"DejaVuSans-64\" d=\"M 2906 2969 \nL 2906 4863 \nL 3481 4863 \nL 3481 0 \nL 2906 0 \nL 2906 525 \nQ 2725 213 2448 61 \nQ 2172 -91 1784 -91 \nQ 1150 -91 751 415 \nQ 353 922 353 1747 \nQ 353 2572 751 3078 \nQ 1150 3584 1784 3584 \nQ 2172 3584 2448 3432 \nQ 2725 3281 2906 2969 \nz\nM 947 1747 \nQ 947 1113 1208 752 \nQ 1469 391 1925 391 \nQ 2381 391 2643 752 \nQ 2906 1113 2906 1747 \nQ 2906 2381 2643 2742 \nQ 2381 3103 1925 3103 \nQ 1469 3103 1208 2742 \nQ 947 2381 947 1747 \nz\n\" transform=\"scale(0.015625)\"/>\n       </defs>\n       <use xlink:href=\"#DejaVuSans-73\"/>\n       <use xlink:href=\"#DejaVuSans-61\" x=\"52.099609\"/>\n       <use xlink:href=\"#DejaVuSans-64\" x=\"113.378906\"/>\n       <use xlink:href=\"#DejaVuSans-6e\" x=\"176.855469\"/>\n       <use xlink:href=\"#DejaVuSans-65\" x=\"240.234375\"/>\n       <use xlink:href=\"#DejaVuSans-73\" x=\"301.757812\"/>\n       <use xlink:href=\"#DejaVuSans-73\" x=\"353.857422\"/>\n      </g>\n     </g>\n    </g>\n    <g id=\"ytick_6\">\n     <g id=\"line2d_12\">\n      <g>\n       <use xlink:href=\"#mc544dcc880\" x=\"78.861875\" y=\"42.62175\" style=\"stroke: #000000; stroke-width: 0.8\"/>\n      </g>\n     </g>\n     <g id=\"text_12\">\n      <!-- joy -->\n      <g transform=\"translate(54.083125 47.180813) scale(0.12 -0.12)\">\n       <defs>\n        <path id=\"DejaVuSans-6a\" d=\"M 603 3500 \nL 1178 3500 \nL 1178 -63 \nQ 1178 -731 923 -1031 \nQ 669 -1331 103 -1331 \nL -116 -1331 \nL -116 -844 \nL 38 -844 \nQ 366 -844 484 -692 \nQ 603 -541 603 -63 \nL 603 3500 \nz\nM 603 4863 \nL 1178 4863 \nL 1178 4134 \nL 603 4134 \nL 603 4863 \nz\n\" transform=\"scale(0.015625)\"/>\n        <path id=\"DejaVuSans-79\" d=\"M 2059 -325 \nQ 1816 -950 1584 -1140 \nQ 1353 -1331 966 -1331 \nL 506 -1331 \nL 506 -850 \nL 844 -850 \nQ 1081 -850 1212 -737 \nQ 1344 -625 1503 -206 \nL 1606 56 \nL 191 3500 \nL 800 3500 \nL 1894 763 \nL 2988 3500 \nL 3597 3500 \nL 2059 -325 \nz\n\" transform=\"scale(0.015625)\"/>\n       </defs>\n       <use xlink:href=\"#DejaVuSans-6a\"/>\n       <use xlink:href=\"#DejaVuSans-6f\" x=\"27.783203\"/>\n       <use xlink:href=\"#DejaVuSans-79\" x=\"88.964844\"/>\n      </g>\n     </g>\n    </g>\n    <g id=\"text_13\">\n     <!-- label_name -->\n     <g transform=\"translate(16.318125 169.548938) rotate(-90) scale(0.12 -0.12)\">\n      <defs>\n       <path id=\"DejaVuSans-62\" d=\"M 3116 1747 \nQ 3116 2381 2855 2742 \nQ 2594 3103 2138 3103 \nQ 1681 3103 1420 2742 \nQ 1159 2381 1159 1747 \nQ 1159 1113 1420 752 \nQ 1681 391 2138 391 \nQ 2594 391 2855 752 \nQ 3116 1113 3116 1747 \nz\nM 1159 2969 \nQ 1341 3281 1617 3432 \nQ 1894 3584 2278 3584 \nQ 2916 3584 3314 3078 \nQ 3713 2572 3713 1747 \nQ 3713 922 3314 415 \nQ 2916 -91 2278 -91 \nQ 1894 -91 1617 61 \nQ 1341 213 1159 525 \nL 1159 0 \nL 581 0 \nL 581 4863 \nL 1159 4863 \nL 1159 2969 \nz\n\" transform=\"scale(0.015625)\"/>\n       <path id=\"DejaVuSans-5f\" d=\"M 3263 -1063 \nL 3263 -1509 \nL -63 -1509 \nL -63 -1063 \nL 3263 -1063 \nz\n\" transform=\"scale(0.015625)\"/>\n       <path id=\"DejaVuSans-6d\" d=\"M 3328 2828 \nQ 3544 3216 3844 3400 \nQ 4144 3584 4550 3584 \nQ 5097 3584 5394 3201 \nQ 5691 2819 5691 2113 \nL 5691 0 \nL 5113 0 \nL 5113 2094 \nQ 5113 2597 4934 2840 \nQ 4756 3084 4391 3084 \nQ 3944 3084 3684 2787 \nQ 3425 2491 3425 1978 \nL 3425 0 \nL 2847 0 \nL 2847 2094 \nQ 2847 2600 2669 2842 \nQ 2491 3084 2119 3084 \nQ 1678 3084 1418 2786 \nQ 1159 2488 1159 1978 \nL 1159 0 \nL 581 0 \nL 581 3500 \nL 1159 3500 \nL 1159 2956 \nQ 1356 3278 1631 3431 \nQ 1906 3584 2284 3584 \nQ 2666 3584 2933 3390 \nQ 3200 3197 3328 2828 \nz\n\" transform=\"scale(0.015625)\"/>\n      </defs>\n      <use xlink:href=\"#DejaVuSans-6c\"/>\n      <use xlink:href=\"#DejaVuSans-61\" x=\"27.783203\"/>\n      <use xlink:href=\"#DejaVuSans-62\" x=\"89.0625\"/>\n      <use xlink:href=\"#DejaVuSans-65\" x=\"152.539062\"/>\n      <use xlink:href=\"#DejaVuSans-6c\" x=\"214.0625\"/>\n      <use xlink:href=\"#DejaVuSans-5f\" x=\"241.845703\"/>\n      <use xlink:href=\"#DejaVuSans-6e\" x=\"291.845703\"/>\n      <use xlink:href=\"#DejaVuSans-61\" x=\"355.224609\"/>\n      <use xlink:href=\"#DejaVuSans-6d\" x=\"416.503906\"/>\n      <use xlink:href=\"#DejaVuSans-65\" x=\"513.916016\"/>\n     </g>\n    </g>\n   </g>\n   <g id=\"patch_9\">\n    <path d=\"M 78.861875 245.90175 \nL 78.861875 24.14175 \n\" style=\"fill: none; stroke: #000000; stroke-width: 0.8; stroke-linejoin: miter; stroke-linecap: square\"/>\n   </g>\n   <g id=\"patch_10\">\n    <path d=\"M 413.661875 245.90175 \nL 413.661875 24.14175 \n\" style=\"fill: none; stroke: #000000; stroke-width: 0.8; stroke-linejoin: miter; stroke-linecap: square\"/>\n   </g>\n   <g id=\"patch_11\">\n    <path d=\"M 78.861875 245.90175 \nL 413.661875 245.90175 \n\" style=\"fill: none; stroke: #000000; stroke-width: 0.8; stroke-linejoin: miter; stroke-linecap: square\"/>\n   </g>\n   <g id=\"patch_12\">\n    <path d=\"M 78.861875 24.14175 \nL 413.661875 24.14175 \n\" style=\"fill: none; stroke: #000000; stroke-width: 0.8; stroke-linejoin: miter; stroke-linecap: square\"/>\n   </g>\n   <g id=\"text_14\">\n    <!-- Frequency of Classes -->\n    <g transform=\"translate(170.427875 18.14175) scale(0.144 -0.144)\">\n     <defs>\n      <path id=\"DejaVuSans-46\" d=\"M 628 4666 \nL 3309 4666 \nL 3309 4134 \nL 1259 4134 \nL 1259 2759 \nL 3109 2759 \nL 3109 2228 \nL 1259 2228 \nL 1259 0 \nL 628 0 \nL 628 4666 \nz\n\" transform=\"scale(0.015625)\"/>\n      <path id=\"DejaVuSans-71\" d=\"M 947 1747 \nQ 947 1113 1208 752 \nQ 1469 391 1925 391 \nQ 2381 391 2643 752 \nQ 2906 1113 2906 1747 \nQ 2906 2381 2643 2742 \nQ 2381 3103 1925 3103 \nQ 1469 3103 1208 2742 \nQ 947 2381 947 1747 \nz\nM 2906 525 \nQ 2725 213 2448 61 \nQ 2172 -91 1784 -91 \nQ 1150 -91 751 415 \nQ 353 922 353 1747 \nQ 353 2572 751 3078 \nQ 1150 3584 1784 3584 \nQ 2172 3584 2448 3432 \nQ 2725 3281 2906 2969 \nL 2906 3500 \nL 3481 3500 \nL 3481 -1331 \nL 2906 -1331 \nL 2906 525 \nz\n\" transform=\"scale(0.015625)\"/>\n      <path id=\"DejaVuSans-63\" d=\"M 3122 3366 \nL 3122 2828 \nQ 2878 2963 2633 3030 \nQ 2388 3097 2138 3097 \nQ 1578 3097 1268 2742 \nQ 959 2388 959 1747 \nQ 959 1106 1268 751 \nQ 1578 397 2138 397 \nQ 2388 397 2633 464 \nQ 2878 531 3122 666 \nL 3122 134 \nQ 2881 22 2623 -34 \nQ 2366 -91 2075 -91 \nQ 1284 -91 818 406 \nQ 353 903 353 1747 \nQ 353 2603 823 3093 \nQ 1294 3584 2113 3584 \nQ 2378 3584 2631 3529 \nQ 2884 3475 3122 3366 \nz\n\" transform=\"scale(0.015625)\"/>\n      <path id=\"DejaVuSans-20\" transform=\"scale(0.015625)\"/>\n      <path id=\"DejaVuSans-43\" d=\"M 4122 4306 \nL 4122 3641 \nQ 3803 3938 3442 4084 \nQ 3081 4231 2675 4231 \nQ 1875 4231 1450 3742 \nQ 1025 3253 1025 2328 \nQ 1025 1406 1450 917 \nQ 1875 428 2675 428 \nQ 3081 428 3442 575 \nQ 3803 722 4122 1019 \nL 4122 359 \nQ 3791 134 3420 21 \nQ 3050 -91 2638 -91 \nQ 1578 -91 968 557 \nQ 359 1206 359 2328 \nQ 359 3453 968 4101 \nQ 1578 4750 2638 4750 \nQ 3056 4750 3426 4639 \nQ 3797 4528 4122 4306 \nz\n\" transform=\"scale(0.015625)\"/>\n     </defs>\n     <use xlink:href=\"#DejaVuSans-46\"/>\n     <use xlink:href=\"#DejaVuSans-72\" x=\"50.269531\"/>\n     <use xlink:href=\"#DejaVuSans-65\" x=\"89.132812\"/>\n     <use xlink:href=\"#DejaVuSans-71\" x=\"150.65625\"/>\n     <use xlink:href=\"#DejaVuSans-75\" x=\"214.132812\"/>\n     <use xlink:href=\"#DejaVuSans-65\" x=\"277.511719\"/>\n     <use xlink:href=\"#DejaVuSans-6e\" x=\"339.035156\"/>\n     <use xlink:href=\"#DejaVuSans-63\" x=\"402.414062\"/>\n     <use xlink:href=\"#DejaVuSans-79\" x=\"457.394531\"/>\n     <use xlink:href=\"#DejaVuSans-20\" x=\"516.574219\"/>\n     <use xlink:href=\"#DejaVuSans-6f\" x=\"548.361328\"/>\n     <use xlink:href=\"#DejaVuSans-66\" x=\"609.542969\"/>\n     <use xlink:href=\"#DejaVuSans-20\" x=\"644.748047\"/>\n     <use xlink:href=\"#DejaVuSans-43\" x=\"676.535156\"/>\n     <use xlink:href=\"#DejaVuSans-6c\" x=\"746.359375\"/>\n     <use xlink:href=\"#DejaVuSans-61\" x=\"774.142578\"/>\n     <use xlink:href=\"#DejaVuSans-73\" x=\"835.421875\"/>\n     <use xlink:href=\"#DejaVuSans-73\" x=\"887.521484\"/>\n     <use xlink:href=\"#DejaVuSans-65\" x=\"939.621094\"/>\n     <use xlink:href=\"#DejaVuSans-73\" x=\"1001.144531\"/>\n    </g>\n   </g>\n  </g>\n </g>\n <defs>\n  <clipPath id=\"p31b171788f\">\n   <rect x=\"78.861875\" y=\"24.14175\" width=\"334.8\" height=\"221.76\"/>\n  </clipPath>\n </defs>\n</svg>\n",
            "application/pdf": "[encoded data removed]"
          },
          "metadata": {}
        }
      ]
    },
    {
      "cell_type": "code",
      "source": [
        "df[\"Words Per Tweet\"] = df[\"text\"].str.split().apply(len)\n",
        "df.boxplot(\"Words Per Tweet\", by=\"label_name\", grid=False, showfliers=False,\n",
        "           color=\"black\")\n",
        "plt.suptitle(\"\")\n",
        "plt.xlabel(\"\")\n",
        "plt.show()"
      ],
      "metadata": {
        "colab": {
          "base_uri": "https://localhost:8080/",
          "height": 376
        },
        "id": "8WdAgUh5xz7o",
        "outputId": "e0f3a227-4295-4343-9198-e31203097f62"
      },
      "execution_count": 13,
      "outputs": [
        {
          "output_type": "display_data",
          "data": {
            "text/plain": [
              "<Figure size 600x400 with 1 Axes>"
            ],
            "image/svg+xml": "<?xml version=\"1.0\" encoding=\"utf-8\" standalone=\"no\"?>\n<!DOCTYPE svg PUBLIC \"-//W3C//DTD SVG 1.1//EN\"\n  \"http://www.w3.org/Graphics/SVG/1.1/DTD/svg11.dtd\">\n<svg xmlns:xlink=\"http://www.w3.org/1999/xlink\" width=\"382.27pt\" height=\"265.9555pt\" viewBox=\"0 0 382.27 265.9555\" xmlns=\"http://www.w3.org/2000/svg\" version=\"1.1\">\n <metadata>\n  <rdf:RDF xmlns:dc=\"http://purl.org/dc/elements/1.1/\" xmlns:cc=\"http://creativecommons.org/ns#\" xmlns:rdf=\"http://www.w3.org/1999/02/22-rdf-syntax-ns#\">\n   <cc:Work>\n    <dc:type rdf:resource=\"http://purl.org/dc/dcmitype/StillImage\"/>\n    <dc:date>2024-06-22T03:06:49.549634</dc:date>\n    <dc:format>image/svg+xml</dc:format>\n    <dc:creator>\n     <cc:Agent>\n      <dc:title>Matplotlib v3.7.1, https://matplotlib.org/</dc:title>\n     </cc:Agent>\n    </dc:creator>\n   </cc:Work>\n  </rdf:RDF>\n </metadata>\n <defs>\n  <style type=\"text/css\">*{stroke-linejoin: round; stroke-linecap: butt}</style>\n </defs>\n <g id=\"figure_1\">\n  <g id=\"patch_1\">\n   <path d=\"M 0 265.9555 \nL 382.27 265.9555 \nL 382.27 0 \nL 0 0 \nz\n\" style=\"fill: #ffffff\"/>\n  </g>\n  <g id=\"axes_1\">\n   <g id=\"patch_2\">\n    <path d=\"M 29.47 240.14175 \nL 375.07 240.14175 \nL 375.07 24.14175 \nL 29.47 24.14175 \nz\n\" style=\"fill: #ffffff\"/>\n   </g>\n   <g id=\"matplotlib.axis_1\">\n    <g id=\"xtick_1\">\n     <g id=\"line2d_1\">\n      <defs>\n       <path id=\"maa800729a3\" d=\"M 0 0 \nL 0 3.5 \n\" style=\"stroke: #000000; stroke-width: 0.8\"/>\n      </defs>\n      <g>\n       <use xlink:href=\"#maa800729a3\" x=\"58.27\" y=\"240.14175\" style=\"stroke: #000000; stroke-width: 0.8\"/>\n      </g>\n     </g>\n     <g id=\"text_1\">\n      <!-- anger -->\n      <g transform=\"translate(40.823125 256.259875) scale(0.12 -0.12)\">\n       <defs>\n        <path id=\"DejaVuSans-61\" d=\"M 2194 1759 \nQ 1497 1759 1228 1600 \nQ 959 1441 959 1056 \nQ 959 750 1161 570 \nQ 1363 391 1709 391 \nQ 2188 391 2477 730 \nQ 2766 1069 2766 1631 \nL 2766 1759 \nL 2194 1759 \nz\nM 3341 1997 \nL 3341 0 \nL 2766 0 \nL 2766 531 \nQ 2569 213 2275 61 \nQ 1981 -91 1556 -91 \nQ 1019 -91 701 211 \nQ 384 513 384 1019 \nQ 384 1609 779 1909 \nQ 1175 2209 1959 2209 \nL 2766 2209 \nL 2766 2266 \nQ 2766 2663 2505 2880 \nQ 2244 3097 1772 3097 \nQ 1472 3097 1187 3025 \nQ 903 2953 641 2809 \nL 641 3341 \nQ 956 3463 1253 3523 \nQ 1550 3584 1831 3584 \nQ 2591 3584 2966 3190 \nQ 3341 2797 3341 1997 \nz\n\" transform=\"scale(0.015625)\"/>\n        <path id=\"DejaVuSans-6e\" d=\"M 3513 2113 \nL 3513 0 \nL 2938 0 \nL 2938 2094 \nQ 2938 2591 2744 2837 \nQ 2550 3084 2163 3084 \nQ 1697 3084 1428 2787 \nQ 1159 2491 1159 1978 \nL 1159 0 \nL 581 0 \nL 581 3500 \nL 1159 3500 \nL 1159 2956 \nQ 1366 3272 1645 3428 \nQ 1925 3584 2291 3584 \nQ 2894 3584 3203 3211 \nQ 3513 2838 3513 2113 \nz\n\" transform=\"scale(0.015625)\"/>\n        <path id=\"DejaVuSans-67\" d=\"M 2906 1791 \nQ 2906 2416 2648 2759 \nQ 2391 3103 1925 3103 \nQ 1463 3103 1205 2759 \nQ 947 2416 947 1791 \nQ 947 1169 1205 825 \nQ 1463 481 1925 481 \nQ 2391 481 2648 825 \nQ 2906 1169 2906 1791 \nz\nM 3481 434 \nQ 3481 -459 3084 -895 \nQ 2688 -1331 1869 -1331 \nQ 1566 -1331 1297 -1286 \nQ 1028 -1241 775 -1147 \nL 775 -588 \nQ 1028 -725 1275 -790 \nQ 1522 -856 1778 -856 \nQ 2344 -856 2625 -561 \nQ 2906 -266 2906 331 \nL 2906 616 \nQ 2728 306 2450 153 \nQ 2172 0 1784 0 \nQ 1141 0 747 490 \nQ 353 981 353 1791 \nQ 353 2603 747 3093 \nQ 1141 3584 1784 3584 \nQ 2172 3584 2450 3431 \nQ 2728 3278 2906 2969 \nL 2906 3500 \nL 3481 3500 \nL 3481 434 \nz\n\" transform=\"scale(0.015625)\"/>\n        <path id=\"DejaVuSans-65\" d=\"M 3597 1894 \nL 3597 1613 \nL 953 1613 \nQ 991 1019 1311 708 \nQ 1631 397 2203 397 \nQ 2534 397 2845 478 \nQ 3156 559 3463 722 \nL 3463 178 \nQ 3153 47 2828 -22 \nQ 2503 -91 2169 -91 \nQ 1331 -91 842 396 \nQ 353 884 353 1716 \nQ 353 2575 817 3079 \nQ 1281 3584 2069 3584 \nQ 2775 3584 3186 3129 \nQ 3597 2675 3597 1894 \nz\nM 3022 2063 \nQ 3016 2534 2758 2815 \nQ 2500 3097 2075 3097 \nQ 1594 3097 1305 2825 \nQ 1016 2553 972 2059 \nL 3022 2063 \nz\n\" transform=\"scale(0.015625)\"/>\n        <path id=\"DejaVuSans-72\" d=\"M 2631 2963 \nQ 2534 3019 2420 3045 \nQ 2306 3072 2169 3072 \nQ 1681 3072 1420 2755 \nQ 1159 2438 1159 1844 \nL 1159 0 \nL 581 0 \nL 581 3500 \nL 1159 3500 \nL 1159 2956 \nQ 1341 3275 1631 3429 \nQ 1922 3584 2338 3584 \nQ 2397 3584 2469 3576 \nQ 2541 3569 2628 3553 \nL 2631 2963 \nz\n\" transform=\"scale(0.015625)\"/>\n       </defs>\n       <use xlink:href=\"#DejaVuSans-61\"/>\n       <use xlink:href=\"#DejaVuSans-6e\" x=\"61.279297\"/>\n       <use xlink:href=\"#DejaVuSans-67\" x=\"124.658203\"/>\n       <use xlink:href=\"#DejaVuSans-65\" x=\"188.134766\"/>\n       <use xlink:href=\"#DejaVuSans-72\" x=\"249.658203\"/>\n      </g>\n     </g>\n    </g>\n    <g id=\"xtick_2\">\n     <g id=\"line2d_2\">\n      <g>\n       <use xlink:href=\"#maa800729a3\" x=\"115.87\" y=\"240.14175\" style=\"stroke: #000000; stroke-width: 0.8\"/>\n      </g>\n     </g>\n     <g id=\"text_2\">\n      <!-- fear -->\n      <g transform=\"translate(103.9225 256.259875) scale(0.12 -0.12)\">\n       <defs>\n        <path id=\"DejaVuSans-66\" d=\"M 2375 4863 \nL 2375 4384 \nL 1825 4384 \nQ 1516 4384 1395 4259 \nQ 1275 4134 1275 3809 \nL 1275 3500 \nL 2222 3500 \nL 2222 3053 \nL 1275 3053 \nL 1275 0 \nL 697 0 \nL 697 3053 \nL 147 3053 \nL 147 3500 \nL 697 3500 \nL 697 3744 \nQ 697 4328 969 4595 \nQ 1241 4863 1831 4863 \nL 2375 4863 \nz\n\" transform=\"scale(0.015625)\"/>\n       </defs>\n       <use xlink:href=\"#DejaVuSans-66\"/>\n       <use xlink:href=\"#DejaVuSans-65\" x=\"35.205078\"/>\n       <use xlink:href=\"#DejaVuSans-61\" x=\"96.728516\"/>\n       <use xlink:href=\"#DejaVuSans-72\" x=\"158.007812\"/>\n      </g>\n     </g>\n    </g>\n    <g id=\"xtick_3\">\n     <g id=\"line2d_3\">\n      <g>\n       <use xlink:href=\"#maa800729a3\" x=\"173.47\" y=\"240.14175\" style=\"stroke: #000000; stroke-width: 0.8\"/>\n      </g>\n     </g>\n     <g id=\"text_3\">\n      <!-- joy -->\n      <g transform=\"translate(164.580625 256.259875) scale(0.12 -0.12)\">\n       <defs>\n        <path id=\"DejaVuSans-6a\" d=\"M 603 3500 \nL 1178 3500 \nL 1178 -63 \nQ 1178 -731 923 -1031 \nQ 669 -1331 103 -1331 \nL -116 -1331 \nL -116 -844 \nL 38 -844 \nQ 366 -844 484 -692 \nQ 603 -541 603 -63 \nL 603 3500 \nz\nM 603 4863 \nL 1178 4863 \nL 1178 4134 \nL 603 4134 \nL 603 4863 \nz\n\" transform=\"scale(0.015625)\"/>\n        <path id=\"DejaVuSans-6f\" d=\"M 1959 3097 \nQ 1497 3097 1228 2736 \nQ 959 2375 959 1747 \nQ 959 1119 1226 758 \nQ 1494 397 1959 397 \nQ 2419 397 2687 759 \nQ 2956 1122 2956 1747 \nQ 2956 2369 2687 2733 \nQ 2419 3097 1959 3097 \nz\nM 1959 3584 \nQ 2709 3584 3137 3096 \nQ 3566 2609 3566 1747 \nQ 3566 888 3137 398 \nQ 2709 -91 1959 -91 \nQ 1206 -91 779 398 \nQ 353 888 353 1747 \nQ 353 2609 779 3096 \nQ 1206 3584 1959 3584 \nz\n\" transform=\"scale(0.015625)\"/>\n        <path id=\"DejaVuSans-79\" d=\"M 2059 -325 \nQ 1816 -950 1584 -1140 \nQ 1353 -1331 966 -1331 \nL 506 -1331 \nL 506 -850 \nL 844 -850 \nQ 1081 -850 1212 -737 \nQ 1344 -625 1503 -206 \nL 1606 56 \nL 191 3500 \nL 800 3500 \nL 1894 763 \nL 2988 3500 \nL 3597 3500 \nL 2059 -325 \nz\n\" transform=\"scale(0.015625)\"/>\n       </defs>\n       <use xlink:href=\"#DejaVuSans-6a\"/>\n       <use xlink:href=\"#DejaVuSans-6f\" x=\"27.783203\"/>\n       <use xlink:href=\"#DejaVuSans-79\" x=\"88.964844\"/>\n      </g>\n     </g>\n    </g>\n    <g id=\"xtick_4\">\n     <g id=\"line2d_4\">\n      <g>\n       <use xlink:href=\"#maa800729a3\" x=\"231.07\" y=\"240.14175\" style=\"stroke: #000000; stroke-width: 0.8\"/>\n      </g>\n     </g>\n     <g id=\"text_4\">\n      <!-- love -->\n      <g transform=\"translate(218.48875 256.259875) scale(0.12 -0.12)\">\n       <defs>\n        <path id=\"DejaVuSans-6c\" d=\"M 603 4863 \nL 1178 4863 \nL 1178 0 \nL 603 0 \nL 603 4863 \nz\n\" transform=\"scale(0.015625)\"/>\n        <path id=\"DejaVuSans-76\" d=\"M 191 3500 \nL 800 3500 \nL 1894 563 \nL 2988 3500 \nL 3597 3500 \nL 2284 0 \nL 1503 0 \nL 191 3500 \nz\n\" transform=\"scale(0.015625)\"/>\n       </defs>\n       <use xlink:href=\"#DejaVuSans-6c\"/>\n       <use xlink:href=\"#DejaVuSans-6f\" x=\"27.783203\"/>\n       <use xlink:href=\"#DejaVuSans-76\" x=\"88.964844\"/>\n       <use xlink:href=\"#DejaVuSans-65\" x=\"148.144531\"/>\n      </g>\n     </g>\n    </g>\n    <g id=\"xtick_5\">\n     <g id=\"line2d_5\">\n      <g>\n       <use xlink:href=\"#maa800729a3\" x=\"288.67\" y=\"240.14175\" style=\"stroke: #000000; stroke-width: 0.8\"/>\n      </g>\n     </g>\n     <g id=\"text_5\">\n      <!-- sadness -->\n      <g transform=\"translate(264.312813 256.259875) scale(0.12 -0.12)\">\n       <defs>\n        <path id=\"DejaVuSans-73\" d=\"M 2834 3397 \nL 2834 2853 \nQ 2591 2978 2328 3040 \nQ 2066 3103 1784 3103 \nQ 1356 3103 1142 2972 \nQ 928 2841 928 2578 \nQ 928 2378 1081 2264 \nQ 1234 2150 1697 2047 \nL 1894 2003 \nQ 2506 1872 2764 1633 \nQ 3022 1394 3022 966 \nQ 3022 478 2636 193 \nQ 2250 -91 1575 -91 \nQ 1294 -91 989 -36 \nQ 684 19 347 128 \nL 347 722 \nQ 666 556 975 473 \nQ 1284 391 1588 391 \nQ 1994 391 2212 530 \nQ 2431 669 2431 922 \nQ 2431 1156 2273 1281 \nQ 2116 1406 1581 1522 \nL 1381 1569 \nQ 847 1681 609 1914 \nQ 372 2147 372 2553 \nQ 372 3047 722 3315 \nQ 1072 3584 1716 3584 \nQ 2034 3584 2315 3537 \nQ 2597 3491 2834 3397 \nz\n\" transform=\"scale(0.015625)\"/>\n        <path id=\"DejaVuSans-64\" d=\"M 2906 2969 \nL 2906 4863 \nL 3481 4863 \nL 3481 0 \nL 2906 0 \nL 2906 525 \nQ 2725 213 2448 61 \nQ 2172 -91 1784 -91 \nQ 1150 -91 751 415 \nQ 353 922 353 1747 \nQ 353 2572 751 3078 \nQ 1150 3584 1784 3584 \nQ 2172 3584 2448 3432 \nQ 2725 3281 2906 2969 \nz\nM 947 1747 \nQ 947 1113 1208 752 \nQ 1469 391 1925 391 \nQ 2381 391 2643 752 \nQ 2906 1113 2906 1747 \nQ 2906 2381 2643 2742 \nQ 2381 3103 1925 3103 \nQ 1469 3103 1208 2742 \nQ 947 2381 947 1747 \nz\n\" transform=\"scale(0.015625)\"/>\n       </defs>\n       <use xlink:href=\"#DejaVuSans-73\"/>\n       <use xlink:href=\"#DejaVuSans-61\" x=\"52.099609\"/>\n       <use xlink:href=\"#DejaVuSans-64\" x=\"113.378906\"/>\n       <use xlink:href=\"#DejaVuSans-6e\" x=\"176.855469\"/>\n       <use xlink:href=\"#DejaVuSans-65\" x=\"240.234375\"/>\n       <use xlink:href=\"#DejaVuSans-73\" x=\"301.757812\"/>\n       <use xlink:href=\"#DejaVuSans-73\" x=\"353.857422\"/>\n      </g>\n     </g>\n    </g>\n    <g id=\"xtick_6\">\n     <g id=\"line2d_6\">\n      <g>\n       <use xlink:href=\"#maa800729a3\" x=\"346.27\" y=\"240.14175\" style=\"stroke: #000000; stroke-width: 0.8\"/>\n      </g>\n     </g>\n     <g id=\"text_6\">\n      <!-- surprise -->\n      <g transform=\"translate(322.115313 256.259875) scale(0.12 -0.12)\">\n       <defs>\n        <path id=\"DejaVuSans-75\" d=\"M 544 1381 \nL 544 3500 \nL 1119 3500 \nL 1119 1403 \nQ 1119 906 1312 657 \nQ 1506 409 1894 409 \nQ 2359 409 2629 706 \nQ 2900 1003 2900 1516 \nL 2900 3500 \nL 3475 3500 \nL 3475 0 \nL 2900 0 \nL 2900 538 \nQ 2691 219 2414 64 \nQ 2138 -91 1772 -91 \nQ 1169 -91 856 284 \nQ 544 659 544 1381 \nz\nM 1991 3584 \nL 1991 3584 \nz\n\" transform=\"scale(0.015625)\"/>\n        <path id=\"DejaVuSans-70\" d=\"M 1159 525 \nL 1159 -1331 \nL 581 -1331 \nL 581 3500 \nL 1159 3500 \nL 1159 2969 \nQ 1341 3281 1617 3432 \nQ 1894 3584 2278 3584 \nQ 2916 3584 3314 3078 \nQ 3713 2572 3713 1747 \nQ 3713 922 3314 415 \nQ 2916 -91 2278 -91 \nQ 1894 -91 1617 61 \nQ 1341 213 1159 525 \nz\nM 3116 1747 \nQ 3116 2381 2855 2742 \nQ 2594 3103 2138 3103 \nQ 1681 3103 1420 2742 \nQ 1159 2381 1159 1747 \nQ 1159 1113 1420 752 \nQ 1681 391 2138 391 \nQ 2594 391 2855 752 \nQ 3116 1113 3116 1747 \nz\n\" transform=\"scale(0.015625)\"/>\n        <path id=\"DejaVuSans-69\" d=\"M 603 3500 \nL 1178 3500 \nL 1178 0 \nL 603 0 \nL 603 3500 \nz\nM 603 4863 \nL 1178 4863 \nL 1178 4134 \nL 603 4134 \nL 603 4863 \nz\n\" transform=\"scale(0.015625)\"/>\n       </defs>\n       <use xlink:href=\"#DejaVuSans-73\"/>\n       <use xlink:href=\"#DejaVuSans-75\" x=\"52.099609\"/>\n       <use xlink:href=\"#DejaVuSans-72\" x=\"115.478516\"/>\n       <use xlink:href=\"#DejaVuSans-70\" x=\"156.591797\"/>\n       <use xlink:href=\"#DejaVuSans-72\" x=\"220.068359\"/>\n       <use xlink:href=\"#DejaVuSans-69\" x=\"261.181641\"/>\n       <use xlink:href=\"#DejaVuSans-73\" x=\"288.964844\"/>\n       <use xlink:href=\"#DejaVuSans-65\" x=\"341.064453\"/>\n      </g>\n     </g>\n    </g>\n   </g>\n   <g id=\"matplotlib.axis_2\">\n    <g id=\"ytick_1\">\n     <g id=\"line2d_7\">\n      <defs>\n       <path id=\"m4788d9b64b\" d=\"M 0 0 \nL -3.5 0 \n\" style=\"stroke: #000000; stroke-width: 0.8\"/>\n      </defs>\n      <g>\n       <use xlink:href=\"#m4788d9b64b\" x=\"29.47\" y=\"238.505386\" style=\"stroke: #000000; stroke-width: 0.8\"/>\n      </g>\n     </g>\n     <g id=\"text_7\">\n      <!-- 0 -->\n      <g transform=\"translate(14.835 243.064449) scale(0.12 -0.12)\">\n       <defs>\n        <path id=\"DejaVuSans-30\" d=\"M 2034 4250 \nQ 1547 4250 1301 3770 \nQ 1056 3291 1056 2328 \nQ 1056 1369 1301 889 \nQ 1547 409 2034 409 \nQ 2525 409 2770 889 \nQ 3016 1369 3016 2328 \nQ 3016 3291 2770 3770 \nQ 2525 4250 2034 4250 \nz\nM 2034 4750 \nQ 2819 4750 3233 4129 \nQ 3647 3509 3647 2328 \nQ 3647 1150 3233 529 \nQ 2819 -91 2034 -91 \nQ 1250 -91 836 529 \nQ 422 1150 422 2328 \nQ 422 3509 836 4129 \nQ 1250 4750 2034 4750 \nz\n\" transform=\"scale(0.015625)\"/>\n       </defs>\n       <use xlink:href=\"#DejaVuSans-30\"/>\n      </g>\n     </g>\n    </g>\n    <g id=\"ytick_2\">\n     <g id=\"line2d_8\">\n      <g>\n       <use xlink:href=\"#m4788d9b64b\" x=\"29.47\" y=\"197.596295\" style=\"stroke: #000000; stroke-width: 0.8\"/>\n      </g>\n     </g>\n     <g id=\"text_8\">\n      <!-- 10 -->\n      <g transform=\"translate(7.2 202.155358) scale(0.12 -0.12)\">\n       <defs>\n        <path id=\"DejaVuSans-31\" d=\"M 794 531 \nL 1825 531 \nL 1825 4091 \nL 703 3866 \nL 703 4441 \nL 1819 4666 \nL 2450 4666 \nL 2450 531 \nL 3481 531 \nL 3481 0 \nL 794 0 \nL 794 531 \nz\n\" transform=\"scale(0.015625)\"/>\n       </defs>\n       <use xlink:href=\"#DejaVuSans-31\"/>\n       <use xlink:href=\"#DejaVuSans-30\" x=\"63.623047\"/>\n      </g>\n     </g>\n    </g>\n    <g id=\"ytick_3\">\n     <g id=\"line2d_9\">\n      <g>\n       <use xlink:href=\"#m4788d9b64b\" x=\"29.47\" y=\"156.687205\" style=\"stroke: #000000; stroke-width: 0.8\"/>\n      </g>\n     </g>\n     <g id=\"text_9\">\n      <!-- 20 -->\n      <g transform=\"translate(7.2 161.246267) scale(0.12 -0.12)\">\n       <defs>\n        <path id=\"DejaVuSans-32\" d=\"M 1228 531 \nL 3431 531 \nL 3431 0 \nL 469 0 \nL 469 531 \nQ 828 903 1448 1529 \nQ 2069 2156 2228 2338 \nQ 2531 2678 2651 2914 \nQ 2772 3150 2772 3378 \nQ 2772 3750 2511 3984 \nQ 2250 4219 1831 4219 \nQ 1534 4219 1204 4116 \nQ 875 4013 500 3803 \nL 500 4441 \nQ 881 4594 1212 4672 \nQ 1544 4750 1819 4750 \nQ 2544 4750 2975 4387 \nQ 3406 4025 3406 3419 \nQ 3406 3131 3298 2873 \nQ 3191 2616 2906 2266 \nQ 2828 2175 2409 1742 \nQ 1991 1309 1228 531 \nz\n\" transform=\"scale(0.015625)\"/>\n       </defs>\n       <use xlink:href=\"#DejaVuSans-32\"/>\n       <use xlink:href=\"#DejaVuSans-30\" x=\"63.623047\"/>\n      </g>\n     </g>\n    </g>\n    <g id=\"ytick_4\">\n     <g id=\"line2d_10\">\n      <g>\n       <use xlink:href=\"#m4788d9b64b\" x=\"29.47\" y=\"115.778114\" style=\"stroke: #000000; stroke-width: 0.8\"/>\n      </g>\n     </g>\n     <g id=\"text_10\">\n      <!-- 30 -->\n      <g transform=\"translate(7.2 120.337176) scale(0.12 -0.12)\">\n       <defs>\n        <path id=\"DejaVuSans-33\" d=\"M 2597 2516 \nQ 3050 2419 3304 2112 \nQ 3559 1806 3559 1356 \nQ 3559 666 3084 287 \nQ 2609 -91 1734 -91 \nQ 1441 -91 1130 -33 \nQ 819 25 488 141 \nL 488 750 \nQ 750 597 1062 519 \nQ 1375 441 1716 441 \nQ 2309 441 2620 675 \nQ 2931 909 2931 1356 \nQ 2931 1769 2642 2001 \nQ 2353 2234 1838 2234 \nL 1294 2234 \nL 1294 2753 \nL 1863 2753 \nQ 2328 2753 2575 2939 \nQ 2822 3125 2822 3475 \nQ 2822 3834 2567 4026 \nQ 2313 4219 1838 4219 \nQ 1578 4219 1281 4162 \nQ 984 4106 628 3988 \nL 628 4550 \nQ 988 4650 1302 4700 \nQ 1616 4750 1894 4750 \nQ 2613 4750 3031 4423 \nQ 3450 4097 3450 3541 \nQ 3450 3153 3228 2886 \nQ 3006 2619 2597 2516 \nz\n\" transform=\"scale(0.015625)\"/>\n       </defs>\n       <use xlink:href=\"#DejaVuSans-33\"/>\n       <use xlink:href=\"#DejaVuSans-30\" x=\"63.623047\"/>\n      </g>\n     </g>\n    </g>\n    <g id=\"ytick_5\">\n     <g id=\"line2d_11\">\n      <g>\n       <use xlink:href=\"#m4788d9b64b\" x=\"29.47\" y=\"74.869023\" style=\"stroke: #000000; stroke-width: 0.8\"/>\n      </g>\n     </g>\n     <g id=\"text_11\">\n      <!-- 40 -->\n      <g transform=\"translate(7.2 79.428085) scale(0.12 -0.12)\">\n       <defs>\n        <path id=\"DejaVuSans-34\" d=\"M 2419 4116 \nL 825 1625 \nL 2419 1625 \nL 2419 4116 \nz\nM 2253 4666 \nL 3047 4666 \nL 3047 1625 \nL 3713 1625 \nL 3713 1100 \nL 3047 1100 \nL 3047 0 \nL 2419 0 \nL 2419 1100 \nL 313 1100 \nL 313 1709 \nL 2253 4666 \nz\n\" transform=\"scale(0.015625)\"/>\n       </defs>\n       <use xlink:href=\"#DejaVuSans-34\"/>\n       <use xlink:href=\"#DejaVuSans-30\" x=\"63.623047\"/>\n      </g>\n     </g>\n    </g>\n    <g id=\"ytick_6\">\n     <g id=\"line2d_12\">\n      <g>\n       <use xlink:href=\"#m4788d9b64b\" x=\"29.47\" y=\"33.959932\" style=\"stroke: #000000; stroke-width: 0.8\"/>\n      </g>\n     </g>\n     <g id=\"text_12\">\n      <!-- 50 -->\n      <g transform=\"translate(7.2 38.518994) scale(0.12 -0.12)\">\n       <defs>\n        <path id=\"DejaVuSans-35\" d=\"M 691 4666 \nL 3169 4666 \nL 3169 4134 \nL 1269 4134 \nL 1269 2991 \nQ 1406 3038 1543 3061 \nQ 1681 3084 1819 3084 \nQ 2600 3084 3056 2656 \nQ 3513 2228 3513 1497 \nQ 3513 744 3044 326 \nQ 2575 -91 1722 -91 \nQ 1428 -91 1123 -41 \nQ 819 9 494 109 \nL 494 744 \nQ 775 591 1075 516 \nQ 1375 441 1709 441 \nQ 2250 441 2565 725 \nQ 2881 1009 2881 1497 \nQ 2881 1984 2565 2268 \nQ 2250 2553 1709 2553 \nQ 1456 2553 1204 2497 \nQ 953 2441 691 2322 \nL 691 4666 \nz\n\" transform=\"scale(0.015625)\"/>\n       </defs>\n       <use xlink:href=\"#DejaVuSans-35\"/>\n       <use xlink:href=\"#DejaVuSans-30\" x=\"63.623047\"/>\n      </g>\n     </g>\n    </g>\n   </g>\n   <g id=\"line2d_13\">\n    <path d=\"M 43.87 197.596295 \nL 72.67 197.596295 \nL 72.67 132.14175 \nL 43.87 132.14175 \nL 43.87 197.596295 \n\" clip-path=\"url(#p1ca2831843)\" style=\"fill: none; stroke: #000000; stroke-linecap: square\"/>\n   </g>\n   <g id=\"line2d_14\">\n    <path d=\"M 58.27 197.596295 \nL 58.27 230.323568 \n\" clip-path=\"url(#p1ca2831843)\" style=\"fill: none; stroke: #000000; stroke-linecap: square\"/>\n   </g>\n   <g id=\"line2d_15\">\n    <path d=\"M 58.27 132.14175 \nL 58.27 33.959932 \n\" clip-path=\"url(#p1ca2831843)\" style=\"fill: none; stroke: #000000; stroke-linecap: square\"/>\n   </g>\n   <g id=\"line2d_16\">\n    <path d=\"M 51.07 230.323568 \nL 65.47 230.323568 \n\" clip-path=\"url(#p1ca2831843)\" style=\"fill: none; stroke: #000000; stroke-linecap: square\"/>\n   </g>\n   <g id=\"line2d_17\">\n    <path d=\"M 51.07 33.959932 \nL 65.47 33.959932 \n\" clip-path=\"url(#p1ca2831843)\" style=\"fill: none; stroke: #000000; stroke-linecap: square\"/>\n   </g>\n   <g id=\"line2d_18\">\n    <path d=\"M 101.47 197.596295 \nL 130.27 197.596295 \nL 130.27 136.232659 \nL 101.47 136.232659 \nL 101.47 197.596295 \n\" clip-path=\"url(#p1ca2831843)\" style=\"fill: none; stroke: #000000; stroke-linecap: square\"/>\n   </g>\n   <g id=\"line2d_19\">\n    <path d=\"M 115.87 197.596295 \nL 115.87 230.323568 \n\" clip-path=\"url(#p1ca2831843)\" style=\"fill: none; stroke: #000000; stroke-linecap: square\"/>\n   </g>\n   <g id=\"line2d_20\">\n    <path d=\"M 115.87 136.232659 \nL 115.87 46.232659 \n\" clip-path=\"url(#p1ca2831843)\" style=\"fill: none; stroke: #000000; stroke-linecap: square\"/>\n   </g>\n   <g id=\"line2d_21\">\n    <path d=\"M 108.67 230.323568 \nL 123.07 230.323568 \n\" clip-path=\"url(#p1ca2831843)\" style=\"fill: none; stroke: #000000; stroke-linecap: square\"/>\n   </g>\n   <g id=\"line2d_22\">\n    <path d=\"M 108.67 46.232659 \nL 123.07 46.232659 \n\" clip-path=\"url(#p1ca2831843)\" style=\"fill: none; stroke: #000000; stroke-linecap: square\"/>\n   </g>\n   <g id=\"line2d_23\">\n    <path d=\"M 159.07 193.505386 \nL 187.87 193.505386 \nL 187.87 132.14175 \nL 159.07 132.14175 \nL 159.07 193.505386 \n\" clip-path=\"url(#p1ca2831843)\" style=\"fill: none; stroke: #000000; stroke-linecap: square\"/>\n   </g>\n   <g id=\"line2d_24\">\n    <path d=\"M 173.47 193.505386 \nL 173.47 230.323568 \n\" clip-path=\"url(#p1ca2831843)\" style=\"fill: none; stroke: #000000; stroke-linecap: square\"/>\n   </g>\n   <g id=\"line2d_25\">\n    <path d=\"M 173.47 132.14175 \nL 173.47 42.14175 \n\" clip-path=\"url(#p1ca2831843)\" style=\"fill: none; stroke: #000000; stroke-linecap: square\"/>\n   </g>\n   <g id=\"line2d_26\">\n    <path d=\"M 166.27 230.323568 \nL 180.67 230.323568 \n\" clip-path=\"url(#p1ca2831843)\" style=\"fill: none; stroke: #000000; stroke-linecap: square\"/>\n   </g>\n   <g id=\"line2d_27\">\n    <path d=\"M 166.27 42.14175 \nL 180.67 42.14175 \n\" clip-path=\"url(#p1ca2831843)\" style=\"fill: none; stroke: #000000; stroke-linecap: square\"/>\n   </g>\n   <g id=\"line2d_28\">\n    <path d=\"M 216.67 189.414477 \nL 245.47 189.414477 \nL 245.47 128.050841 \nL 216.67 128.050841 \nL 216.67 189.414477 \n\" clip-path=\"url(#p1ca2831843)\" style=\"fill: none; stroke: #000000; stroke-linecap: square\"/>\n   </g>\n   <g id=\"line2d_29\">\n    <path d=\"M 231.07 189.414477 \nL 231.07 226.232659 \n\" clip-path=\"url(#p1ca2831843)\" style=\"fill: none; stroke: #000000; stroke-linecap: square\"/>\n   </g>\n   <g id=\"line2d_30\">\n    <path d=\"M 231.07 128.050841 \nL 231.07 38.050841 \n\" clip-path=\"url(#p1ca2831843)\" style=\"fill: none; stroke: #000000; stroke-linecap: square\"/>\n   </g>\n   <g id=\"line2d_31\">\n    <path d=\"M 223.87 226.232659 \nL 238.27 226.232659 \n\" clip-path=\"url(#p1ca2831843)\" style=\"fill: none; stroke: #000000; stroke-linecap: square\"/>\n   </g>\n   <g id=\"line2d_32\">\n    <path d=\"M 223.87 38.050841 \nL 238.27 38.050841 \n\" clip-path=\"url(#p1ca2831843)\" style=\"fill: none; stroke: #000000; stroke-linecap: square\"/>\n   </g>\n   <g id=\"line2d_33\">\n    <path d=\"M 274.27 197.596295 \nL 303.07 197.596295 \nL 303.07 140.323568 \nL 274.27 140.323568 \nL 274.27 197.596295 \n\" clip-path=\"url(#p1ca2831843)\" style=\"fill: none; stroke: #000000; stroke-linecap: square\"/>\n   </g>\n   <g id=\"line2d_34\">\n    <path d=\"M 288.67 197.596295 \nL 288.67 230.323568 \n\" clip-path=\"url(#p1ca2831843)\" style=\"fill: none; stroke: #000000; stroke-linecap: square\"/>\n   </g>\n   <g id=\"line2d_35\">\n    <path d=\"M 288.67 140.323568 \nL 288.67 54.414477 \n\" clip-path=\"url(#p1ca2831843)\" style=\"fill: none; stroke: #000000; stroke-linecap: square\"/>\n   </g>\n   <g id=\"line2d_36\">\n    <path d=\"M 281.47 230.323568 \nL 295.87 230.323568 \n\" clip-path=\"url(#p1ca2831843)\" style=\"fill: none; stroke: #000000; stroke-linecap: square\"/>\n   </g>\n   <g id=\"line2d_37\">\n    <path d=\"M 281.47 54.414477 \nL 295.87 54.414477 \n\" clip-path=\"url(#p1ca2831843)\" style=\"fill: none; stroke: #000000; stroke-linecap: square\"/>\n   </g>\n   <g id=\"line2d_38\">\n    <path d=\"M 331.87 189.414477 \nL 360.67 189.414477 \nL 360.67 132.14175 \nL 331.87 132.14175 \nL 331.87 189.414477 \n\" clip-path=\"url(#p1ca2831843)\" style=\"fill: none; stroke: #000000; stroke-linecap: square\"/>\n   </g>\n   <g id=\"line2d_39\">\n    <path d=\"M 346.27 189.414477 \nL 346.27 226.232659 \n\" clip-path=\"url(#p1ca2831843)\" style=\"fill: none; stroke: #000000; stroke-linecap: square\"/>\n   </g>\n   <g id=\"line2d_40\">\n    <path d=\"M 346.27 132.14175 \nL 346.27 46.232659 \n\" clip-path=\"url(#p1ca2831843)\" style=\"fill: none; stroke: #000000; stroke-linecap: square\"/>\n   </g>\n   <g id=\"line2d_41\">\n    <path d=\"M 339.07 226.232659 \nL 353.47 226.232659 \n\" clip-path=\"url(#p1ca2831843)\" style=\"fill: none; stroke: #000000; stroke-linecap: square\"/>\n   </g>\n   <g id=\"line2d_42\">\n    <path d=\"M 339.07 46.232659 \nL 353.47 46.232659 \n\" clip-path=\"url(#p1ca2831843)\" style=\"fill: none; stroke: #000000; stroke-linecap: square\"/>\n   </g>\n   <g id=\"line2d_43\">\n    <path d=\"M 43.87 168.959932 \nL 72.67 168.959932 \n\" clip-path=\"url(#p1ca2831843)\" style=\"fill: none; stroke: #000000; stroke-linecap: square\"/>\n   </g>\n   <g id=\"line2d_44\">\n    <path d=\"M 101.47 168.959932 \nL 130.27 168.959932 \n\" clip-path=\"url(#p1ca2831843)\" style=\"fill: none; stroke: #000000; stroke-linecap: square\"/>\n   </g>\n   <g id=\"line2d_45\">\n    <path d=\"M 159.07 164.869023 \nL 187.87 164.869023 \n\" clip-path=\"url(#p1ca2831843)\" style=\"fill: none; stroke: #000000; stroke-linecap: square\"/>\n   </g>\n   <g id=\"line2d_46\">\n    <path d=\"M 216.67 160.778114 \nL 245.47 160.778114 \n\" clip-path=\"url(#p1ca2831843)\" style=\"fill: none; stroke: #000000; stroke-linecap: square\"/>\n   </g>\n   <g id=\"line2d_47\">\n    <path d=\"M 274.27 173.050841 \nL 303.07 173.050841 \n\" clip-path=\"url(#p1ca2831843)\" style=\"fill: none; stroke: #000000; stroke-linecap: square\"/>\n   </g>\n   <g id=\"line2d_48\">\n    <path d=\"M 331.87 164.869023 \nL 360.67 164.869023 \n\" clip-path=\"url(#p1ca2831843)\" style=\"fill: none; stroke: #000000; stroke-linecap: square\"/>\n   </g>\n   <g id=\"patch_3\">\n    <path d=\"M 29.47 240.14175 \nL 29.47 24.14175 \n\" style=\"fill: none; stroke: #000000; stroke-width: 0.8; stroke-linejoin: miter; stroke-linecap: square\"/>\n   </g>\n   <g id=\"patch_4\">\n    <path d=\"M 375.07 240.14175 \nL 375.07 24.14175 \n\" style=\"fill: none; stroke: #000000; stroke-width: 0.8; stroke-linejoin: miter; stroke-linecap: square\"/>\n   </g>\n   <g id=\"patch_5\">\n    <path d=\"M 29.47 240.14175 \nL 375.07 240.14175 \n\" style=\"fill: none; stroke: #000000; stroke-width: 0.8; stroke-linejoin: miter; stroke-linecap: square\"/>\n   </g>\n   <g id=\"patch_6\">\n    <path d=\"M 29.47 24.14175 \nL 375.07 24.14175 \n\" style=\"fill: none; stroke: #000000; stroke-width: 0.8; stroke-linejoin: miter; stroke-linecap: square\"/>\n   </g>\n   <g id=\"text_13\">\n    <!-- Words Per Tweet -->\n    <g transform=\"translate(143.185 18.14175) scale(0.144 -0.144)\">\n     <defs>\n      <path id=\"DejaVuSans-57\" d=\"M 213 4666 \nL 850 4666 \nL 1831 722 \nL 2809 4666 \nL 3519 4666 \nL 4500 722 \nL 5478 4666 \nL 6119 4666 \nL 4947 0 \nL 4153 0 \nL 3169 4050 \nL 2175 0 \nL 1381 0 \nL 213 4666 \nz\n\" transform=\"scale(0.015625)\"/>\n      <path id=\"DejaVuSans-20\" transform=\"scale(0.015625)\"/>\n      <path id=\"DejaVuSans-50\" d=\"M 1259 4147 \nL 1259 2394 \nL 2053 2394 \nQ 2494 2394 2734 2622 \nQ 2975 2850 2975 3272 \nQ 2975 3691 2734 3919 \nQ 2494 4147 2053 4147 \nL 1259 4147 \nz\nM 628 4666 \nL 2053 4666 \nQ 2838 4666 3239 4311 \nQ 3641 3956 3641 3272 \nQ 3641 2581 3239 2228 \nQ 2838 1875 2053 1875 \nL 1259 1875 \nL 1259 0 \nL 628 0 \nL 628 4666 \nz\n\" transform=\"scale(0.015625)\"/>\n      <path id=\"DejaVuSans-54\" d=\"M -19 4666 \nL 3928 4666 \nL 3928 4134 \nL 2272 4134 \nL 2272 0 \nL 1638 0 \nL 1638 4134 \nL -19 4134 \nL -19 4666 \nz\n\" transform=\"scale(0.015625)\"/>\n      <path id=\"DejaVuSans-77\" d=\"M 269 3500 \nL 844 3500 \nL 1563 769 \nL 2278 3500 \nL 2956 3500 \nL 3675 769 \nL 4391 3500 \nL 4966 3500 \nL 4050 0 \nL 3372 0 \nL 2619 2869 \nL 1863 0 \nL 1184 0 \nL 269 3500 \nz\n\" transform=\"scale(0.015625)\"/>\n      <path id=\"DejaVuSans-74\" d=\"M 1172 4494 \nL 1172 3500 \nL 2356 3500 \nL 2356 3053 \nL 1172 3053 \nL 1172 1153 \nQ 1172 725 1289 603 \nQ 1406 481 1766 481 \nL 2356 481 \nL 2356 0 \nL 1766 0 \nQ 1100 0 847 248 \nQ 594 497 594 1153 \nL 594 3053 \nL 172 3053 \nL 172 3500 \nL 594 3500 \nL 594 4494 \nL 1172 4494 \nz\n\" transform=\"scale(0.015625)\"/>\n     </defs>\n     <use xlink:href=\"#DejaVuSans-57\"/>\n     <use xlink:href=\"#DejaVuSans-6f\" x=\"93.001953\"/>\n     <use xlink:href=\"#DejaVuSans-72\" x=\"154.183594\"/>\n     <use xlink:href=\"#DejaVuSans-64\" x=\"193.546875\"/>\n     <use xlink:href=\"#DejaVuSans-73\" x=\"257.023438\"/>\n     <use xlink:href=\"#DejaVuSans-20\" x=\"309.123047\"/>\n     <use xlink:href=\"#DejaVuSans-50\" x=\"340.910156\"/>\n     <use xlink:href=\"#DejaVuSans-65\" x=\"397.587891\"/>\n     <use xlink:href=\"#DejaVuSans-72\" x=\"459.111328\"/>\n     <use xlink:href=\"#DejaVuSans-20\" x=\"500.224609\"/>\n     <use xlink:href=\"#DejaVuSans-54\" x=\"532.011719\"/>\n     <use xlink:href=\"#DejaVuSans-77\" x=\"576.595703\"/>\n     <use xlink:href=\"#DejaVuSans-65\" x=\"658.382812\"/>\n     <use xlink:href=\"#DejaVuSans-65\" x=\"719.90625\"/>\n     <use xlink:href=\"#DejaVuSans-74\" x=\"781.429688\"/>\n    </g>\n   </g>\n  </g>\n </g>\n <defs>\n  <clipPath id=\"p1ca2831843\">\n   <rect x=\"29.47\" y=\"24.14175\" width=\"345.6\" height=\"216\"/>\n  </clipPath>\n </defs>\n</svg>\n",
            "application/pdf": "[encoded data removed]"
          },
          "metadata": {}
        }
      ]
    },
    {
      "cell_type": "code",
      "source": [
        "# resetting the format here since we no longer need it anymore\n",
        "emotions.reset_format()"
      ],
      "metadata": {
        "id": "DElqiVZRx0se"
      },
      "execution_count": 14,
      "outputs": []
    },
    {
      "cell_type": "code",
      "source": [
        "text = \"Tokenizing text is a core task of NLP.\"\n",
        "tokenized_text = list(text)\n",
        "print(tokenized_text)"
      ],
      "metadata": {
        "colab": {
          "base_uri": "https://localhost:8080/"
        },
        "id": "_RkdH1Qlx9KB",
        "outputId": "67ee572f-655c-486d-cc40-ad107648c8ff"
      },
      "execution_count": 15,
      "outputs": [
        {
          "output_type": "stream",
          "name": "stdout",
          "text": [
            "['T', 'o', 'k', 'e', 'n', 'i', 'z', 'i', 'n', 'g', ' ', 't', 'e', 'x', 't', ' ',\n",
            "'i', 's', ' ', 'a', ' ', 'c', 'o', 'r', 'e', ' ', 't', 'a', 's', 'k', ' ', 'o',\n",
            "'f', ' ', 'N', 'L', 'P', '.']\n"
          ]
        }
      ]
    },
    {
      "cell_type": "code",
      "source": [
        "# numericalisation // converting each character here into a unique integer\n",
        "token2idx = {ch: idx for idx, ch in enumerate(sorted(set(tokenized_text)))}\n",
        "print(token2idx)\n",
        "# printing out the \"text\" variable to idx\n",
        "input_ids = [token2idx[token] for token in tokenized_text]\n",
        "print(input_ids)"
      ],
      "metadata": {
        "colab": {
          "base_uri": "https://localhost:8080/"
        },
        "id": "pjTg7YETx3wW",
        "outputId": "3f679ace-9bb2-4ad9-90b9-9edc8d96e730"
      },
      "execution_count": 16,
      "outputs": [
        {
          "output_type": "stream",
          "name": "stdout",
          "text": [
            "{' ': 0, '.': 1, 'L': 2, 'N': 3, 'P': 4, 'T': 5, 'a': 6, 'c': 7, 'e': 8, 'f': 9,\n",
            "'g': 10, 'i': 11, 'k': 12, 'n': 13, 'o': 14, 'r': 15, 's': 16, 't': 17, 'x': 18,\n",
            "'z': 19}\n",
            "[5, 14, 12, 8, 13, 11, 19, 11, 13, 10, 0, 17, 8, 18, 17, 0, 11, 16, 0, 6, 0, 7,\n",
            "14, 15, 8, 0, 17, 6, 16, 12, 0, 14, 9, 0, 3, 2, 4, 1]\n"
          ]
        }
      ]
    },
    {
      "cell_type": "code",
      "source": [
        "# exemplar of mapping names to a unique ids // showing ordinal first. then one-hot encoding afterwards\n",
        "\n",
        "categorical_df = pd.DataFrame(\n",
        "    {\"Name\": [\"Bumblebee\", \"Optimus Prime\", \"Megatron\"], \"Label ID\": [0,1,2]})\n",
        "print(categorical_df)"
      ],
      "metadata": {
        "id": "cPV1aDStzNsn",
        "colab": {
          "base_uri": "https://localhost:8080/"
        },
        "outputId": "10148ebf-fa87-494a-99de-729d6c77cdec"
      },
      "execution_count": 17,
      "outputs": [
        {
          "output_type": "stream",
          "name": "stdout",
          "text": [
            "            Name  Label ID\n",
            "0      Bumblebee         0\n",
            "1  Optimus Prime         1\n",
            "2       Megatron         2\n"
          ]
        }
      ]
    },
    {
      "cell_type": "code",
      "source": [
        "# one-hot encoding implementation:\n",
        "\n",
        "pd.get_dummies(categorical_df[\"Name\"])"
      ],
      "metadata": {
        "colab": {
          "base_uri": "https://localhost:8080/",
          "height": 143
        },
        "id": "75lbcKqmzM4G",
        "outputId": "ee2d362c-c8ba-470e-efc2-08336154dfe7"
      },
      "execution_count": 18,
      "outputs": [
        {
          "output_type": "execute_result",
          "data": {
            "text/plain": [
              "   Bumblebee  Megatron  Optimus Prime\n",
              "0       True     False          False\n",
              "1      False     False           True\n",
              "2      False      True          False"
            ],
            "text/html": [
              "\n",
              "  <div id=\"df-9066361f-0731-4b68-b26a-f4b371d99f02\" class=\"colab-df-container\">\n",
              "    <div>\n",
              "<style scoped>\n",
              "    .dataframe tbody tr th:only-of-type {\n",
              "        vertical-align: middle;\n",
              "    }\n",
              "\n",
              "    .dataframe tbody tr th {\n",
              "        vertical-align: top;\n",
              "    }\n",
              "\n",
              "    .dataframe thead th {\n",
              "        text-align: right;\n",
              "    }\n",
              "</style>\n",
              "<table border=\"1\" class=\"dataframe\">\n",
              "  <thead>\n",
              "    <tr style=\"text-align: right;\">\n",
              "      <th></th>\n",
              "      <th>Bumblebee</th>\n",
              "      <th>Megatron</th>\n",
              "      <th>Optimus Prime</th>\n",
              "    </tr>\n",
              "  </thead>\n",
              "  <tbody>\n",
              "    <tr>\n",
              "      <th>0</th>\n",
              "      <td>True</td>\n",
              "      <td>False</td>\n",
              "      <td>False</td>\n",
              "    </tr>\n",
              "    <tr>\n",
              "      <th>1</th>\n",
              "      <td>False</td>\n",
              "      <td>False</td>\n",
              "      <td>True</td>\n",
              "    </tr>\n",
              "    <tr>\n",
              "      <th>2</th>\n",
              "      <td>False</td>\n",
              "      <td>True</td>\n",
              "      <td>False</td>\n",
              "    </tr>\n",
              "  </tbody>\n",
              "</table>\n",
              "</div>\n",
              "    <div class=\"colab-df-buttons\">\n",
              "\n",
              "  <div class=\"colab-df-container\">\n",
              "    <button class=\"colab-df-convert\" onclick=\"convertToInteractive('df-9066361f-0731-4b68-b26a-f4b371d99f02')\"\n",
              "            title=\"Convert this dataframe to an interactive table.\"\n",
              "            style=\"display:none;\">\n",
              "\n",
              "  <svg xmlns=\"http://www.w3.org/2000/svg\" height=\"24px\" viewBox=\"0 -960 960 960\">\n",
              "    <path d=\"M120-120v-720h720v720H120Zm60-500h600v-160H180v160Zm220 220h160v-160H400v160Zm0 220h160v-160H400v160ZM180-400h160v-160H180v160Zm440 0h160v-160H620v160ZM180-180h160v-160H180v160Zm440 0h160v-160H620v160Z\"/>\n",
              "  </svg>\n",
              "    </button>\n",
              "\n",
              "  <style>\n",
              "    .colab-df-container {\n",
              "      display:flex;\n",
              "      gap: 12px;\n",
              "    }\n",
              "\n",
              "    .colab-df-convert {\n",
              "      background-color: #E8F0FE;\n",
              "      border: none;\n",
              "      border-radius: 50%;\n",
              "      cursor: pointer;\n",
              "      display: none;\n",
              "      fill: #1967D2;\n",
              "      height: 32px;\n",
              "      padding: 0 0 0 0;\n",
              "      width: 32px;\n",
              "    }\n",
              "\n",
              "    .colab-df-convert:hover {\n",
              "      background-color: #E2EBFA;\n",
              "      box-shadow: 0px 1px 2px rgba(60, 64, 67, 0.3), 0px 1px 3px 1px rgba(60, 64, 67, 0.15);\n",
              "      fill: #174EA6;\n",
              "    }\n",
              "\n",
              "    .colab-df-buttons div {\n",
              "      margin-bottom: 4px;\n",
              "    }\n",
              "\n",
              "    [theme=dark] .colab-df-convert {\n",
              "      background-color: #3B4455;\n",
              "      fill: #D2E3FC;\n",
              "    }\n",
              "\n",
              "    [theme=dark] .colab-df-convert:hover {\n",
              "      background-color: #434B5C;\n",
              "      box-shadow: 0px 1px 3px 1px rgba(0, 0, 0, 0.15);\n",
              "      filter: drop-shadow(0px 1px 2px rgba(0, 0, 0, 0.3));\n",
              "      fill: #FFFFFF;\n",
              "    }\n",
              "  </style>\n",
              "\n",
              "    <script>\n",
              "      const buttonEl =\n",
              "        document.querySelector('#df-9066361f-0731-4b68-b26a-f4b371d99f02 button.colab-df-convert');\n",
              "      buttonEl.style.display =\n",
              "        google.colab.kernel.accessAllowed ? 'block' : 'none';\n",
              "\n",
              "      async function convertToInteractive(key) {\n",
              "        const element = document.querySelector('#df-9066361f-0731-4b68-b26a-f4b371d99f02');\n",
              "        const dataTable =\n",
              "          await google.colab.kernel.invokeFunction('convertToInteractive',\n",
              "                                                    [key], {});\n",
              "        if (!dataTable) return;\n",
              "\n",
              "        const docLinkHtml = 'Like what you see? Visit the ' +\n",
              "          '<a target=\"_blank\" href=https://colab.research.google.com/notebooks/data_table.ipynb>data table notebook</a>'\n",
              "          + ' to learn more about interactive tables.';\n",
              "        element.innerHTML = '';\n",
              "        dataTable['output_type'] = 'display_data';\n",
              "        await google.colab.output.renderOutput(dataTable, element);\n",
              "        const docLink = document.createElement('div');\n",
              "        docLink.innerHTML = docLinkHtml;\n",
              "        element.appendChild(docLink);\n",
              "      }\n",
              "    </script>\n",
              "  </div>\n",
              "\n",
              "\n",
              "<div id=\"df-a2f40ef5-6b60-429b-8dc3-502446abea15\">\n",
              "  <button class=\"colab-df-quickchart\" onclick=\"quickchart('df-a2f40ef5-6b60-429b-8dc3-502446abea15')\"\n",
              "            title=\"Suggest charts\"\n",
              "            style=\"display:none;\">\n",
              "\n",
              "<svg xmlns=\"http://www.w3.org/2000/svg\" height=\"24px\"viewBox=\"0 0 24 24\"\n",
              "     width=\"24px\">\n",
              "    <g>\n",
              "        <path d=\"M19 3H5c-1.1 0-2 .9-2 2v14c0 1.1.9 2 2 2h14c1.1 0 2-.9 2-2V5c0-1.1-.9-2-2-2zM9 17H7v-7h2v7zm4 0h-2V7h2v10zm4 0h-2v-4h2v4z\"/>\n",
              "    </g>\n",
              "</svg>\n",
              "  </button>\n",
              "\n",
              "<style>\n",
              "  .colab-df-quickchart {\n",
              "      --bg-color: #E8F0FE;\n",
              "      --fill-color: #1967D2;\n",
              "      --hover-bg-color: #E2EBFA;\n",
              "      --hover-fill-color: #174EA6;\n",
              "      --disabled-fill-color: #AAA;\n",
              "      --disabled-bg-color: #DDD;\n",
              "  }\n",
              "\n",
              "  [theme=dark] .colab-df-quickchart {\n",
              "      --bg-color: #3B4455;\n",
              "      --fill-color: #D2E3FC;\n",
              "      --hover-bg-color: #434B5C;\n",
              "      --hover-fill-color: #FFFFFF;\n",
              "      --disabled-bg-color: #3B4455;\n",
              "      --disabled-fill-color: #666;\n",
              "  }\n",
              "\n",
              "  .colab-df-quickchart {\n",
              "    background-color: var(--bg-color);\n",
              "    border: none;\n",
              "    border-radius: 50%;\n",
              "    cursor: pointer;\n",
              "    display: none;\n",
              "    fill: var(--fill-color);\n",
              "    height: 32px;\n",
              "    padding: 0;\n",
              "    width: 32px;\n",
              "  }\n",
              "\n",
              "  .colab-df-quickchart:hover {\n",
              "    background-color: var(--hover-bg-color);\n",
              "    box-shadow: 0 1px 2px rgba(60, 64, 67, 0.3), 0 1px 3px 1px rgba(60, 64, 67, 0.15);\n",
              "    fill: var(--button-hover-fill-color);\n",
              "  }\n",
              "\n",
              "  .colab-df-quickchart-complete:disabled,\n",
              "  .colab-df-quickchart-complete:disabled:hover {\n",
              "    background-color: var(--disabled-bg-color);\n",
              "    fill: var(--disabled-fill-color);\n",
              "    box-shadow: none;\n",
              "  }\n",
              "\n",
              "  .colab-df-spinner {\n",
              "    border: 2px solid var(--fill-color);\n",
              "    border-color: transparent;\n",
              "    border-bottom-color: var(--fill-color);\n",
              "    animation:\n",
              "      spin 1s steps(1) infinite;\n",
              "  }\n",
              "\n",
              "  @keyframes spin {\n",
              "    0% {\n",
              "      border-color: transparent;\n",
              "      border-bottom-color: var(--fill-color);\n",
              "      border-left-color: var(--fill-color);\n",
              "    }\n",
              "    20% {\n",
              "      border-color: transparent;\n",
              "      border-left-color: var(--fill-color);\n",
              "      border-top-color: var(--fill-color);\n",
              "    }\n",
              "    30% {\n",
              "      border-color: transparent;\n",
              "      border-left-color: var(--fill-color);\n",
              "      border-top-color: var(--fill-color);\n",
              "      border-right-color: var(--fill-color);\n",
              "    }\n",
              "    40% {\n",
              "      border-color: transparent;\n",
              "      border-right-color: var(--fill-color);\n",
              "      border-top-color: var(--fill-color);\n",
              "    }\n",
              "    60% {\n",
              "      border-color: transparent;\n",
              "      border-right-color: var(--fill-color);\n",
              "    }\n",
              "    80% {\n",
              "      border-color: transparent;\n",
              "      border-right-color: var(--fill-color);\n",
              "      border-bottom-color: var(--fill-color);\n",
              "    }\n",
              "    90% {\n",
              "      border-color: transparent;\n",
              "      border-bottom-color: var(--fill-color);\n",
              "    }\n",
              "  }\n",
              "</style>\n",
              "\n",
              "  <script>\n",
              "    async function quickchart(key) {\n",
              "      const quickchartButtonEl =\n",
              "        document.querySelector('#' + key + ' button');\n",
              "      quickchartButtonEl.disabled = true;  // To prevent multiple clicks.\n",
              "      quickchartButtonEl.classList.add('colab-df-spinner');\n",
              "      try {\n",
              "        const charts = await google.colab.kernel.invokeFunction(\n",
              "            'suggestCharts', [key], {});\n",
              "      } catch (error) {\n",
              "        console.error('Error during call to suggestCharts:', error);\n",
              "      }\n",
              "      quickchartButtonEl.classList.remove('colab-df-spinner');\n",
              "      quickchartButtonEl.classList.add('colab-df-quickchart-complete');\n",
              "    }\n",
              "    (() => {\n",
              "      let quickchartButtonEl =\n",
              "        document.querySelector('#df-a2f40ef5-6b60-429b-8dc3-502446abea15 button');\n",
              "      quickchartButtonEl.style.display =\n",
              "        google.colab.kernel.accessAllowed ? 'block' : 'none';\n",
              "    })();\n",
              "  </script>\n",
              "</div>\n",
              "\n",
              "    </div>\n",
              "  </div>\n"
            ],
            "application/vnd.google.colaboratory.intrinsic+json": {
              "type": "dataframe",
              "summary": "{\n  \"name\": \"pd\",\n  \"rows\": 3,\n  \"fields\": [\n    {\n      \"column\": \"Bumblebee\",\n      \"properties\": {\n        \"dtype\": \"boolean\",\n        \"num_unique_values\": 2,\n        \"samples\": [\n          false,\n          true\n        ],\n        \"semantic_type\": \"\",\n        \"description\": \"\"\n      }\n    },\n    {\n      \"column\": \"Megatron\",\n      \"properties\": {\n        \"dtype\": \"boolean\",\n        \"num_unique_values\": 2,\n        \"samples\": [\n          true,\n          false\n        ],\n        \"semantic_type\": \"\",\n        \"description\": \"\"\n      }\n    },\n    {\n      \"column\": \"Optimus Prime\",\n      \"properties\": {\n        \"dtype\": \"boolean\",\n        \"num_unique_values\": 2,\n        \"samples\": [\n          true,\n          false\n        ],\n        \"semantic_type\": \"\",\n        \"description\": \"\"\n      }\n    }\n  ]\n}"
            }
          },
          "metadata": {},
          "execution_count": 18
        }
      ]
    },
    {
      "cell_type": "code",
      "source": [
        "# now converting the original input_ids to one-hot encoding (nominal) instead of ordinal\n",
        "\n",
        "\n",
        "import torch\n",
        "import torch.nn.functional as F\n",
        "\n",
        "input_ids = torch.tensor(input_ids)\n",
        "one_hot_encodings = F.one_hot(input_ids, num_classes=len(token2idx))\n",
        "one_hot_encodings.shape"
      ],
      "metadata": {
        "colab": {
          "base_uri": "https://localhost:8080/"
        },
        "id": "EmwJDCOqzNT5",
        "outputId": "5b9d2cd1-7730-4647-af06-a7e1b55d70d3"
      },
      "execution_count": 19,
      "outputs": [
        {
          "output_type": "execute_result",
          "data": {
            "text/plain": [
              "torch.Size([38, 20])"
            ]
          },
          "metadata": {},
          "execution_count": 19
        }
      ]
    },
    {
      "cell_type": "code",
      "source": [
        "print(f\"Token: {tokenized_text[0]}\")\n",
        "print(f\"Tensor index: {input_ids[0]}\")\n",
        "print(f\"One-hot: {one_hot_encodings[0]}\")"
      ],
      "metadata": {
        "colab": {
          "base_uri": "https://localhost:8080/"
        },
        "id": "5Iz-Awx04FYl",
        "outputId": "bf92c81e-25c9-42d8-896f-52a8c0c551af"
      },
      "execution_count": 20,
      "outputs": [
        {
          "output_type": "stream",
          "name": "stdout",
          "text": [
            "Token: T\n",
            "Tensor index: 5\n",
            "One-hot: tensor([0, 0, 0, 0, 0, 1, 0, 0, 0, 0, 0, 0, 0, 0, 0, 0, 0, 0, 0, 0])\n"
          ]
        }
      ]
    },
    {
      "cell_type": "code",
      "source": [
        "tokenized_text = text.split()\n",
        "print(tokenized_text)"
      ],
      "metadata": {
        "colab": {
          "base_uri": "https://localhost:8080/"
        },
        "id": "7X-B_WR64PDf",
        "outputId": "c7ebf9b0-af59-4941-a8aa-5b51880b55b8"
      },
      "execution_count": 21,
      "outputs": [
        {
          "output_type": "stream",
          "name": "stdout",
          "text": [
            "['Tokenizing', 'text', 'is', 'a', 'core', 'task', 'of', 'NLP.']\n"
          ]
        }
      ]
    },
    {
      "cell_type": "code",
      "source": [
        "# alternatively // the code can also be retrieved using \"from transformers import DistilBertTokenizer\"\n",
        "from transformers import AutoTokenizer\n",
        "\n",
        "model_ckpt = \"distilbert-base-uncased\"\n",
        "tokenizer = AutoTokenizer.from_pretrained(model_ckpt) # AutoTokenizer belongs to larger set of \"auto\" classes. Basically allows for easy switching between different models."
      ],
      "metadata": {
        "id": "nVVJcqNH4PBE"
      },
      "execution_count": 22,
      "outputs": []
    },
    {
      "cell_type": "code",
      "source": [
        "encoded_text = tokenizer(text)\n",
        "print(encoded_text)"
      ],
      "metadata": {
        "colab": {
          "base_uri": "https://localhost:8080/"
        },
        "id": "8w7W3u174O-l",
        "outputId": "92ab5bcc-b347-42b3-88ba-6a4b64bb1ba7"
      },
      "execution_count": 23,
      "outputs": [
        {
          "output_type": "stream",
          "name": "stdout",
          "text": [
            "{'input_ids': [101, 19204, 6026, 3793, 2003, 1037, 4563, 4708, 1997, 17953,\n",
            "2361, 1012, 102], 'attention_mask': [1, 1, 1, 1, 1, 1, 1, 1, 1, 1, 1, 1, 1]}\n"
          ]
        }
      ]
    },
    {
      "cell_type": "code",
      "source": [
        "tokens = tokenizer.convert_ids_to_tokens(encoded_text.input_ids)\n",
        "print(tokens)"
      ],
      "metadata": {
        "colab": {
          "base_uri": "https://localhost:8080/"
        },
        "id": "HJYxvmxK4O8e",
        "outputId": "1cfc98f3-5740-4e3d-a252-fffea7a2c01b"
      },
      "execution_count": 24,
      "outputs": [
        {
          "output_type": "stream",
          "name": "stdout",
          "text": [
            "['[CLS]', 'token', '##izing', 'text', 'is', 'a', 'core', 'task', 'of', 'nl',\n",
            "'##p', '.', '[SEP]']\n"
          ]
        }
      ]
    },
    {
      "cell_type": "code",
      "source": [
        "print(tokenizer.convert_tokens_to_string(tokens))"
      ],
      "metadata": {
        "colab": {
          "base_uri": "https://localhost:8080/"
        },
        "id": "mOOnWu4L4O4S",
        "outputId": "97085ed4-429d-4988-b650-40717325097c"
      },
      "execution_count": 25,
      "outputs": [
        {
          "output_type": "stream",
          "name": "stdout",
          "text": [
            "[CLS] tokenizing text is a core task of nlp. [SEP]\n"
          ]
        }
      ]
    },
    {
      "cell_type": "code",
      "source": [
        "tokenizer.vocab_size"
      ],
      "metadata": {
        "colab": {
          "base_uri": "https://localhost:8080/"
        },
        "id": "WNuiszB94Ox7",
        "outputId": "f51cc244-b079-4ce4-fec0-dad805a879a5"
      },
      "execution_count": 26,
      "outputs": [
        {
          "output_type": "execute_result",
          "data": {
            "text/plain": [
              "30522"
            ]
          },
          "metadata": {},
          "execution_count": 26
        }
      ]
    },
    {
      "cell_type": "code",
      "source": [
        "print(tokenizer.model_max_length)\n",
        "print(tokenizer.model_input_names) # helps to know what's the name of the fields which the model expects in its forward pass"
      ],
      "metadata": {
        "colab": {
          "base_uri": "https://localhost:8080/"
        },
        "id": "7lbwgoQ54OsT",
        "outputId": "7666fce5-285f-4e05-bad3-320e4e396975"
      },
      "execution_count": 27,
      "outputs": [
        {
          "output_type": "stream",
          "name": "stdout",
          "text": [
            "512\n",
            "['input_ids', 'attention_mask']\n"
          ]
        }
      ]
    },
    {
      "cell_type": "code",
      "source": [
        "### Tokenising the Whole Dataset\n",
        "\n",
        "# will be using a lot of \"map()\" on DatasetDict object to tokenise the whole corpus <-- method provides convenient way to apply a function to each element in dataset ++ used to create new rows and columns\n",
        "\n",
        "def tokenize(batch): # the method that will be applied to map()\n",
        "    return tokenizer(batch[\"text\"], padding=True, truncation=True)"
      ],
      "metadata": {
        "id": "35ZmlHz64OeE"
      },
      "execution_count": 28,
      "outputs": []
    },
    {
      "cell_type": "code",
      "source": [
        "print(tokenize(emotions[\"train\"][:2]))"
      ],
      "metadata": {
        "colab": {
          "base_uri": "https://localhost:8080/"
        },
        "id": "b0PguI6Y5sLI",
        "outputId": "f327021c-e4dd-4f09-f37d-51c41047681e"
      },
      "execution_count": 29,
      "outputs": [
        {
          "output_type": "stream",
          "name": "stdout",
          "text": [
            "{'input_ids': [[101, 1045, 2134, 2102, 2514, 26608, 102, 0, 0, 0, 0, 0, 0, 0, 0,\n",
            "0, 0, 0, 0, 0, 0, 0, 0], [101, 1045, 2064, 2175, 2013, 3110, 2061, 20625, 2000,\n",
            "2061, 9636, 17772, 2074, 2013, 2108, 2105, 2619, 2040, 14977, 1998, 2003, 8300,\n",
            "102]], 'attention_mask': [[1, 1, 1, 1, 1, 1, 1, 0, 0, 0, 0, 0, 0, 0, 0, 0, 0, 0,\n",
            "0, 0, 0, 0, 0], [1, 1, 1, 1, 1, 1, 1, 1, 1, 1, 1, 1, 1, 1, 1, 1, 1, 1, 1, 1, 1,\n",
            "1, 1]]}\n"
          ]
        }
      ]
    },
    {
      "cell_type": "code",
      "source": [
        "#hide_input\n",
        "tokens2ids = list(zip(tokenizer.all_special_tokens, tokenizer.all_special_ids))\n",
        "data = sorted(tokens2ids, key=lambda x : x[-1])\n",
        "df = pd.DataFrame(data, columns=[\"Special Token\", \"Special Token ID\"])\n",
        "df.T"
      ],
      "metadata": {
        "colab": {
          "base_uri": "https://localhost:8080/",
          "height": 112
        },
        "id": "A6yBAGrI5sxE",
        "outputId": "e1060d6a-2852-4daf-9558-d63f96544e81"
      },
      "execution_count": 30,
      "outputs": [
        {
          "output_type": "execute_result",
          "data": {
            "text/plain": [
              "                      0      1      2      3       4\n",
              "Special Token     [PAD]  [UNK]  [CLS]  [SEP]  [MASK]\n",
              "Special Token ID      0    100    101    102     103"
            ],
            "text/html": [
              "\n",
              "  <div id=\"df-e0cdbcd5-093b-47f9-ac21-7666d5d0f5fa\" class=\"colab-df-container\">\n",
              "    <div>\n",
              "<style scoped>\n",
              "    .dataframe tbody tr th:only-of-type {\n",
              "        vertical-align: middle;\n",
              "    }\n",
              "\n",
              "    .dataframe tbody tr th {\n",
              "        vertical-align: top;\n",
              "    }\n",
              "\n",
              "    .dataframe thead th {\n",
              "        text-align: right;\n",
              "    }\n",
              "</style>\n",
              "<table border=\"1\" class=\"dataframe\">\n",
              "  <thead>\n",
              "    <tr style=\"text-align: right;\">\n",
              "      <th></th>\n",
              "      <th>0</th>\n",
              "      <th>1</th>\n",
              "      <th>2</th>\n",
              "      <th>3</th>\n",
              "      <th>4</th>\n",
              "    </tr>\n",
              "  </thead>\n",
              "  <tbody>\n",
              "    <tr>\n",
              "      <th>Special Token</th>\n",
              "      <td>[PAD]</td>\n",
              "      <td>[UNK]</td>\n",
              "      <td>[CLS]</td>\n",
              "      <td>[SEP]</td>\n",
              "      <td>[MASK]</td>\n",
              "    </tr>\n",
              "    <tr>\n",
              "      <th>Special Token ID</th>\n",
              "      <td>0</td>\n",
              "      <td>100</td>\n",
              "      <td>101</td>\n",
              "      <td>102</td>\n",
              "      <td>103</td>\n",
              "    </tr>\n",
              "  </tbody>\n",
              "</table>\n",
              "</div>\n",
              "    <div class=\"colab-df-buttons\">\n",
              "\n",
              "  <div class=\"colab-df-container\">\n",
              "    <button class=\"colab-df-convert\" onclick=\"convertToInteractive('df-e0cdbcd5-093b-47f9-ac21-7666d5d0f5fa')\"\n",
              "            title=\"Convert this dataframe to an interactive table.\"\n",
              "            style=\"display:none;\">\n",
              "\n",
              "  <svg xmlns=\"http://www.w3.org/2000/svg\" height=\"24px\" viewBox=\"0 -960 960 960\">\n",
              "    <path d=\"M120-120v-720h720v720H120Zm60-500h600v-160H180v160Zm220 220h160v-160H400v160Zm0 220h160v-160H400v160ZM180-400h160v-160H180v160Zm440 0h160v-160H620v160ZM180-180h160v-160H180v160Zm440 0h160v-160H620v160Z\"/>\n",
              "  </svg>\n",
              "    </button>\n",
              "\n",
              "  <style>\n",
              "    .colab-df-container {\n",
              "      display:flex;\n",
              "      gap: 12px;\n",
              "    }\n",
              "\n",
              "    .colab-df-convert {\n",
              "      background-color: #E8F0FE;\n",
              "      border: none;\n",
              "      border-radius: 50%;\n",
              "      cursor: pointer;\n",
              "      display: none;\n",
              "      fill: #1967D2;\n",
              "      height: 32px;\n",
              "      padding: 0 0 0 0;\n",
              "      width: 32px;\n",
              "    }\n",
              "\n",
              "    .colab-df-convert:hover {\n",
              "      background-color: #E2EBFA;\n",
              "      box-shadow: 0px 1px 2px rgba(60, 64, 67, 0.3), 0px 1px 3px 1px rgba(60, 64, 67, 0.15);\n",
              "      fill: #174EA6;\n",
              "    }\n",
              "\n",
              "    .colab-df-buttons div {\n",
              "      margin-bottom: 4px;\n",
              "    }\n",
              "\n",
              "    [theme=dark] .colab-df-convert {\n",
              "      background-color: #3B4455;\n",
              "      fill: #D2E3FC;\n",
              "    }\n",
              "\n",
              "    [theme=dark] .colab-df-convert:hover {\n",
              "      background-color: #434B5C;\n",
              "      box-shadow: 0px 1px 3px 1px rgba(0, 0, 0, 0.15);\n",
              "      filter: drop-shadow(0px 1px 2px rgba(0, 0, 0, 0.3));\n",
              "      fill: #FFFFFF;\n",
              "    }\n",
              "  </style>\n",
              "\n",
              "    <script>\n",
              "      const buttonEl =\n",
              "        document.querySelector('#df-e0cdbcd5-093b-47f9-ac21-7666d5d0f5fa button.colab-df-convert');\n",
              "      buttonEl.style.display =\n",
              "        google.colab.kernel.accessAllowed ? 'block' : 'none';\n",
              "\n",
              "      async function convertToInteractive(key) {\n",
              "        const element = document.querySelector('#df-e0cdbcd5-093b-47f9-ac21-7666d5d0f5fa');\n",
              "        const dataTable =\n",
              "          await google.colab.kernel.invokeFunction('convertToInteractive',\n",
              "                                                    [key], {});\n",
              "        if (!dataTable) return;\n",
              "\n",
              "        const docLinkHtml = 'Like what you see? Visit the ' +\n",
              "          '<a target=\"_blank\" href=https://colab.research.google.com/notebooks/data_table.ipynb>data table notebook</a>'\n",
              "          + ' to learn more about interactive tables.';\n",
              "        element.innerHTML = '';\n",
              "        dataTable['output_type'] = 'display_data';\n",
              "        await google.colab.output.renderOutput(dataTable, element);\n",
              "        const docLink = document.createElement('div');\n",
              "        docLink.innerHTML = docLinkHtml;\n",
              "        element.appendChild(docLink);\n",
              "      }\n",
              "    </script>\n",
              "  </div>\n",
              "\n",
              "\n",
              "<div id=\"df-11bd251e-83e8-4d21-95bb-f46e13be5739\">\n",
              "  <button class=\"colab-df-quickchart\" onclick=\"quickchart('df-11bd251e-83e8-4d21-95bb-f46e13be5739')\"\n",
              "            title=\"Suggest charts\"\n",
              "            style=\"display:none;\">\n",
              "\n",
              "<svg xmlns=\"http://www.w3.org/2000/svg\" height=\"24px\"viewBox=\"0 0 24 24\"\n",
              "     width=\"24px\">\n",
              "    <g>\n",
              "        <path d=\"M19 3H5c-1.1 0-2 .9-2 2v14c0 1.1.9 2 2 2h14c1.1 0 2-.9 2-2V5c0-1.1-.9-2-2-2zM9 17H7v-7h2v7zm4 0h-2V7h2v10zm4 0h-2v-4h2v4z\"/>\n",
              "    </g>\n",
              "</svg>\n",
              "  </button>\n",
              "\n",
              "<style>\n",
              "  .colab-df-quickchart {\n",
              "      --bg-color: #E8F0FE;\n",
              "      --fill-color: #1967D2;\n",
              "      --hover-bg-color: #E2EBFA;\n",
              "      --hover-fill-color: #174EA6;\n",
              "      --disabled-fill-color: #AAA;\n",
              "      --disabled-bg-color: #DDD;\n",
              "  }\n",
              "\n",
              "  [theme=dark] .colab-df-quickchart {\n",
              "      --bg-color: #3B4455;\n",
              "      --fill-color: #D2E3FC;\n",
              "      --hover-bg-color: #434B5C;\n",
              "      --hover-fill-color: #FFFFFF;\n",
              "      --disabled-bg-color: #3B4455;\n",
              "      --disabled-fill-color: #666;\n",
              "  }\n",
              "\n",
              "  .colab-df-quickchart {\n",
              "    background-color: var(--bg-color);\n",
              "    border: none;\n",
              "    border-radius: 50%;\n",
              "    cursor: pointer;\n",
              "    display: none;\n",
              "    fill: var(--fill-color);\n",
              "    height: 32px;\n",
              "    padding: 0;\n",
              "    width: 32px;\n",
              "  }\n",
              "\n",
              "  .colab-df-quickchart:hover {\n",
              "    background-color: var(--hover-bg-color);\n",
              "    box-shadow: 0 1px 2px rgba(60, 64, 67, 0.3), 0 1px 3px 1px rgba(60, 64, 67, 0.15);\n",
              "    fill: var(--button-hover-fill-color);\n",
              "  }\n",
              "\n",
              "  .colab-df-quickchart-complete:disabled,\n",
              "  .colab-df-quickchart-complete:disabled:hover {\n",
              "    background-color: var(--disabled-bg-color);\n",
              "    fill: var(--disabled-fill-color);\n",
              "    box-shadow: none;\n",
              "  }\n",
              "\n",
              "  .colab-df-spinner {\n",
              "    border: 2px solid var(--fill-color);\n",
              "    border-color: transparent;\n",
              "    border-bottom-color: var(--fill-color);\n",
              "    animation:\n",
              "      spin 1s steps(1) infinite;\n",
              "  }\n",
              "\n",
              "  @keyframes spin {\n",
              "    0% {\n",
              "      border-color: transparent;\n",
              "      border-bottom-color: var(--fill-color);\n",
              "      border-left-color: var(--fill-color);\n",
              "    }\n",
              "    20% {\n",
              "      border-color: transparent;\n",
              "      border-left-color: var(--fill-color);\n",
              "      border-top-color: var(--fill-color);\n",
              "    }\n",
              "    30% {\n",
              "      border-color: transparent;\n",
              "      border-left-color: var(--fill-color);\n",
              "      border-top-color: var(--fill-color);\n",
              "      border-right-color: var(--fill-color);\n",
              "    }\n",
              "    40% {\n",
              "      border-color: transparent;\n",
              "      border-right-color: var(--fill-color);\n",
              "      border-top-color: var(--fill-color);\n",
              "    }\n",
              "    60% {\n",
              "      border-color: transparent;\n",
              "      border-right-color: var(--fill-color);\n",
              "    }\n",
              "    80% {\n",
              "      border-color: transparent;\n",
              "      border-right-color: var(--fill-color);\n",
              "      border-bottom-color: var(--fill-color);\n",
              "    }\n",
              "    90% {\n",
              "      border-color: transparent;\n",
              "      border-bottom-color: var(--fill-color);\n",
              "    }\n",
              "  }\n",
              "</style>\n",
              "\n",
              "  <script>\n",
              "    async function quickchart(key) {\n",
              "      const quickchartButtonEl =\n",
              "        document.querySelector('#' + key + ' button');\n",
              "      quickchartButtonEl.disabled = true;  // To prevent multiple clicks.\n",
              "      quickchartButtonEl.classList.add('colab-df-spinner');\n",
              "      try {\n",
              "        const charts = await google.colab.kernel.invokeFunction(\n",
              "            'suggestCharts', [key], {});\n",
              "      } catch (error) {\n",
              "        console.error('Error during call to suggestCharts:', error);\n",
              "      }\n",
              "      quickchartButtonEl.classList.remove('colab-df-spinner');\n",
              "      quickchartButtonEl.classList.add('colab-df-quickchart-complete');\n",
              "    }\n",
              "    (() => {\n",
              "      let quickchartButtonEl =\n",
              "        document.querySelector('#df-11bd251e-83e8-4d21-95bb-f46e13be5739 button');\n",
              "      quickchartButtonEl.style.display =\n",
              "        google.colab.kernel.accessAllowed ? 'block' : 'none';\n",
              "    })();\n",
              "  </script>\n",
              "</div>\n",
              "\n",
              "    </div>\n",
              "  </div>\n"
            ],
            "application/vnd.google.colaboratory.intrinsic+json": {
              "type": "dataframe",
              "summary": "{\n  \"name\": \"df\",\n  \"rows\": 2,\n  \"fields\": [\n    {\n      \"column\": 0,\n      \"properties\": {\n        \"dtype\": \"string\",\n        \"num_unique_values\": 2,\n        \"samples\": [\n          0,\n          \"[PAD]\"\n        ],\n        \"semantic_type\": \"\",\n        \"description\": \"\"\n      }\n    },\n    {\n      \"column\": 1,\n      \"properties\": {\n        \"dtype\": \"string\",\n        \"num_unique_values\": 2,\n        \"samples\": [\n          100,\n          \"[UNK]\"\n        ],\n        \"semantic_type\": \"\",\n        \"description\": \"\"\n      }\n    },\n    {\n      \"column\": 2,\n      \"properties\": {\n        \"dtype\": \"string\",\n        \"num_unique_values\": 2,\n        \"samples\": [\n          101,\n          \"[CLS]\"\n        ],\n        \"semantic_type\": \"\",\n        \"description\": \"\"\n      }\n    },\n    {\n      \"column\": 3,\n      \"properties\": {\n        \"dtype\": \"string\",\n        \"num_unique_values\": 2,\n        \"samples\": [\n          102,\n          \"[SEP]\"\n        ],\n        \"semantic_type\": \"\",\n        \"description\": \"\"\n      }\n    },\n    {\n      \"column\": 4,\n      \"properties\": {\n        \"dtype\": \"string\",\n        \"num_unique_values\": 2,\n        \"samples\": [\n          103,\n          \"[MASK]\"\n        ],\n        \"semantic_type\": \"\",\n        \"description\": \"\"\n      }\n    }\n  ]\n}"
            }
          },
          "metadata": {},
          "execution_count": 30
        }
      ]
    },
    {
      "cell_type": "code",
      "source": [
        "# hide_output\n",
        "emotions_encoded = emotions.map(tokenize, batched=True, batch_size=None)\n",
        "print(emotions_encoded[\"train\"].column_names)"
      ],
      "metadata": {
        "colab": {
          "base_uri": "https://localhost:8080/"
        },
        "id": "avHXlFtZ5suq",
        "outputId": "a3c8b84a-adce-4319-c8f2-a25d79475f8b"
      },
      "execution_count": 31,
      "outputs": [
        {
          "output_type": "stream",
          "name": "stdout",
          "text": [
            "['text', 'label', 'input_ids', 'attention_mask']\n"
          ]
        }
      ]
    },
    {
      "cell_type": "markdown",
      "source": [
        "# Training a Text Classifier\n",
        "\n",
        "- Using feature extraction. Training from last hidden layer alone instead of modifying whole pipeline (+ including pretrained model == fine-tuning)"
      ],
      "metadata": {
        "id": "0HSgFCLk0wxk"
      }
    },
    {
      "cell_type": "code",
      "source": [
        "# Using pre-trained models\n",
        "\n",
        "from transformers import AutoModel\n",
        "\n",
        "model_ckpt = \"distilbert-base-uncased\"\n",
        "device = torch.device(\"cuda\" if torch.cuda.is_available() else \"cpu\")\n",
        "model = AutoModel.from_pretrained(model_ckpt).to(device)"
      ],
      "metadata": {
        "id": "z9tLZqTd5ssA"
      },
      "execution_count": 32,
      "outputs": []
    },
    {
      "cell_type": "code",
      "source": [
        "text = \"This is a test\"\n",
        "inputs = tokenizer(text, return_tensors=\"pt\")\n",
        "print(f\"Input tensor shape: {inputs['input_ids'].shape}\")"
      ],
      "metadata": {
        "colab": {
          "base_uri": "https://localhost:8080/"
        },
        "id": "m0tUIz1o5spt",
        "outputId": "9eee5f39-7408-436b-8650-6fbb1517761f"
      },
      "execution_count": 33,
      "outputs": [
        {
          "output_type": "stream",
          "name": "stdout",
          "text": [
            "Input tensor shape: torch.Size([1, 6])\n"
          ]
        }
      ]
    },
    {
      "cell_type": "code",
      "source": [
        "inputs = {k:v.to(device) for k,v in inputs.items()}\n",
        "with torch.no_grad(): # disables the automatic calculation of gradient. Not needed during inference.\n",
        "    outputs = model(**inputs)\n",
        "print(outputs)"
      ],
      "metadata": {
        "colab": {
          "base_uri": "https://localhost:8080/"
        },
        "id": "v3K9ew3R2N6S",
        "outputId": "b35b3963-9f0d-4fd2-e7fd-ed6024f8a8be"
      },
      "execution_count": 34,
      "outputs": [
        {
          "output_type": "stream",
          "name": "stdout",
          "text": [
            "BaseModelOutput(last_hidden_state=tensor([[[-0.1565, -0.1862,  0.0528,  ...,\n",
            "-0.1188,  0.0662,  0.5470],\n",
            "         [-0.3575, -0.6484, -0.0618,  ..., -0.3040,  0.3508,  0.5221],\n",
            "         [-0.2772, -0.4459,  0.1818,  ..., -0.0948, -0.0076,  0.9958],\n",
            "         [-0.2841, -0.3917,  0.3753,  ..., -0.2151, -0.1173,  1.0526],\n",
            "         [ 0.2661, -0.5094, -0.3180,  ..., -0.4203,  0.0144, -0.2149],\n",
            "         [ 0.9441,  0.0112, -0.4714,  ...,  0.1439, -0.7288, -0.1619]]],\n",
            "       device='cuda:0'), hidden_states=None, attentions=None)\n"
          ]
        }
      ]
    },
    {
      "cell_type": "code",
      "source": [
        "print(outputs.last_hidden_state.size())\n",
        "print(outputs.last_hidden_state[:,0].size())"
      ],
      "metadata": {
        "colab": {
          "base_uri": "https://localhost:8080/"
        },
        "id": "Qu4bTAkN2N3t",
        "outputId": "6c0fa13d-9f7a-492a-b99c-9d092b851891"
      },
      "execution_count": 35,
      "outputs": [
        {
          "output_type": "stream",
          "name": "stdout",
          "text": [
            "torch.Size([1, 6, 768])\n",
            "torch.Size([1, 768])\n"
          ]
        }
      ]
    },
    {
      "cell_type": "code",
      "source": [
        "def extract_hidden_states(batch):\n",
        "    # Places model inputs on the GPU\n",
        "    inputs = {k:v.to(device) for k,v in batch.items() if k in tokenizer.model_input_names}\n",
        "    with torch.no_grad():\n",
        "        last_hidden_state = model(**inputs).last_hidden_state\n",
        "    return {\"hidden_state\": last_hidden_state[:,0].cpu().numpy()}"
      ],
      "metadata": {
        "id": "59B4Yq402N1B"
      },
      "execution_count": 41,
      "outputs": []
    },
    {
      "cell_type": "code",
      "source": [
        "emotions_encoded.set_format(\"torch\", columns=[\"input_ids\", \"attention_mask\", \"label\"])\n",
        "\n",
        "emotions_hidden = emotions_encoded.map(extract_hidden_states, batched=True) # this will forces the default batch_size=1000 to be used instead\n",
        "print(emotions_hidden)\n",
        "\n",
        "emotions_hidden[\"train\"].column_names"
      ],
      "metadata": {
        "colab": {
          "base_uri": "https://localhost:8080/",
          "height": 329,
          "referenced_widgets": [
            "5aac3c1576da448795ad54e653cd111b",
            "5dd7f31220e04dfd943c5343f3863c44",
            "111b6644cabc4b1aa2e436f6dc55d824",
            "d1c8927626f74cf9b7ecb44dfacf787b",
            "14769d7f1ab74917bd1731d03465b20d",
            "513c4c12de184c0e918cc15cb5178b80",
            "4d301722c3bc415eb4048f3debf4e93d",
            "d07c6394b3434945a099db7d81339c73",
            "d31af60902944e659204c7ff65e67da6",
            "05b5cd85997c4971ba528d6c2fb6a13f",
            "7c59afd8983a40328a2b3938a6885536",
            "054f9273fea548e7908deae2ed235bd5",
            "cc3e081bc9424452ab1d6cd8a4aa209d",
            "03e18a771e6a406ea213c5b6a6071719",
            "04c2c3b9ce444145a3040c4cc91419cb",
            "fa1dcb3c89f04bd79c41a4d709ea7c8d",
            "eb343f628c7d4ba79859fe04af9dd5f6",
            "65b7d45d759640babec5cfdaafb545c0",
            "2eaf5f5dd3fd4df7927714bc9dda4329",
            "0199c6c9ff5a4de79e48ae1b6a74a74a",
            "65693609d6ee47ca95e7d547df3287a8",
            "ced27d43366c4a9caf540b112ac58950",
            "6bb142ba51b84592900ffd14cef7347e",
            "e8a6618989384963b3d00a5875385495",
            "34fbe03c2f3d4ab2814facd2fb70b1ad",
            "9122a0be1bf2489ca0edbeb9bdf2687d",
            "c36722d495dd4db0ba0f8c35ba463ab3",
            "02570ab547494048883b348735a8e904",
            "133982d2e03244ae96e1bb9e2b45ac5a",
            "c25ef4b6586c41aeabdb2376fda76683",
            "aaadab81cfa24483987e07077d3ca78a",
            "c73c0637b62647018d73ad18917832da",
            "c35dae67175c420cb532f558211197b4"
          ]
        },
        "id": "YGlig6b32Nyc",
        "outputId": "e62517d1-6a32-4dee-e723-501d0b3bd45a"
      },
      "execution_count": 42,
      "outputs": [
        {
          "output_type": "display_data",
          "data": {
            "text/plain": [
              "Map:   0%|          | 0/16000 [00:00<?, ? examples/s]"
            ],
            "application/vnd.jupyter.widget-view+json": {
              "version_major": 2,
              "version_minor": 0,
              "model_id": "5aac3c1576da448795ad54e653cd111b"
            }
          },
          "metadata": {}
        },
        {
          "output_type": "display_data",
          "data": {
            "text/plain": [
              "Map:   0%|          | 0/2000 [00:00<?, ? examples/s]"
            ],
            "application/vnd.jupyter.widget-view+json": {
              "version_major": 2,
              "version_minor": 0,
              "model_id": "054f9273fea548e7908deae2ed235bd5"
            }
          },
          "metadata": {}
        },
        {
          "output_type": "display_data",
          "data": {
            "text/plain": [
              "Map:   0%|          | 0/2000 [00:00<?, ? examples/s]"
            ],
            "application/vnd.jupyter.widget-view+json": {
              "version_major": 2,
              "version_minor": 0,
              "model_id": "6bb142ba51b84592900ffd14cef7347e"
            }
          },
          "metadata": {}
        },
        {
          "output_type": "stream",
          "name": "stdout",
          "text": [
            "DatasetDict({\n",
            "    train: Dataset({\n",
            "        features: ['text', 'label', 'input_ids', 'attention_mask',\n",
            "'hidden_state'],\n",
            "        num_rows: 16000\n",
            "    })\n",
            "    validation: Dataset({\n",
            "        features: ['text', 'label', 'input_ids', 'attention_mask',\n",
            "'hidden_state'],\n",
            "        num_rows: 2000\n",
            "    })\n",
            "    test: Dataset({\n",
            "        features: ['text', 'label', 'input_ids', 'attention_mask',\n",
            "'hidden_state'],\n",
            "        num_rows: 2000\n",
            "    })\n",
            "})\n"
          ]
        },
        {
          "output_type": "execute_result",
          "data": {
            "text/plain": [
              "['text', 'label', 'input_ids', 'attention_mask', 'hidden_state']"
            ]
          },
          "metadata": {},
          "execution_count": 42
        }
      ]
    },
    {
      "cell_type": "code",
      "source": [
        "# Creating a feature matrix\n",
        "\n",
        "import numpy as np\n",
        "\n",
        "X_train = np.array(emotions_hidden[\"train\"][\"hidden_state\"])\n",
        "X_valid = np.array(emotions_hidden[\"validation\"][\"hidden_state\"])\n",
        "y_train = np.array(emotions_hidden[\"train\"][\"label\"])\n",
        "y_valid = np.array(emotions_hidden[\"validation\"][\"label\"])\n",
        "X_train.shape, X_valid.shape"
      ],
      "metadata": {
        "colab": {
          "base_uri": "https://localhost:8080/"
        },
        "id": "k5X9CBF72Nv3",
        "outputId": "7abce830-17a5-40b5-aade-6563e39d5294"
      },
      "execution_count": 43,
      "outputs": [
        {
          "output_type": "execute_result",
          "data": {
            "text/plain": [
              "((16000, 768), (2000, 768))"
            ]
          },
          "metadata": {},
          "execution_count": 43
        }
      ]
    },
    {
      "cell_type": "code",
      "source": [
        "# Visualising the Dataset\n",
        "from umap import UMAP\n",
        "from sklearn.preprocessing import MinMaxScaler\n",
        "\n",
        "# Scale features to [0,1] range\n",
        "X_scaled = MinMaxScaler().fit_transform(X_train)\n",
        "# Initialize and fit UMAP\n",
        "mapper = UMAP(n_components=2, metric=\"cosine\").fit(X_scaled)\n",
        "# Create a DataFrame of 2D embeddings\n",
        "df_emb = pd.DataFrame(mapper.embedding_, columns=[\"X\", \"Y\"])\n",
        "df_emb[\"label\"] = y_train\n",
        "df_emb.head()"
      ],
      "metadata": {
        "colab": {
          "base_uri": "https://localhost:8080/",
          "height": 206
        },
        "id": "LbpnFvMa2Nti",
        "outputId": "b1da2b40-01c9-4aa0-d7ce-e3469a54b59b"
      },
      "execution_count": 44,
      "outputs": [
        {
          "output_type": "execute_result",
          "data": {
            "text/plain": [
              "          X         Y  label\n",
              "0  4.096736  6.202321      0\n",
              "1 -3.158143  5.150287      0\n",
              "2  5.143755  2.777588      3\n",
              "3 -2.518077  3.149280      2\n",
              "4 -3.397740  3.117106      3"
            ],
            "text/html": [
              "\n",
              "  <div id=\"df-f8334183-8495-40ba-b66b-e03e1c7ac8f6\" class=\"colab-df-container\">\n",
              "    <div>\n",
              "<style scoped>\n",
              "    .dataframe tbody tr th:only-of-type {\n",
              "        vertical-align: middle;\n",
              "    }\n",
              "\n",
              "    .dataframe tbody tr th {\n",
              "        vertical-align: top;\n",
              "    }\n",
              "\n",
              "    .dataframe thead th {\n",
              "        text-align: right;\n",
              "    }\n",
              "</style>\n",
              "<table border=\"1\" class=\"dataframe\">\n",
              "  <thead>\n",
              "    <tr style=\"text-align: right;\">\n",
              "      <th></th>\n",
              "      <th>X</th>\n",
              "      <th>Y</th>\n",
              "      <th>label</th>\n",
              "    </tr>\n",
              "  </thead>\n",
              "  <tbody>\n",
              "    <tr>\n",
              "      <th>0</th>\n",
              "      <td>4.096736</td>\n",
              "      <td>6.202321</td>\n",
              "      <td>0</td>\n",
              "    </tr>\n",
              "    <tr>\n",
              "      <th>1</th>\n",
              "      <td>-3.158143</td>\n",
              "      <td>5.150287</td>\n",
              "      <td>0</td>\n",
              "    </tr>\n",
              "    <tr>\n",
              "      <th>2</th>\n",
              "      <td>5.143755</td>\n",
              "      <td>2.777588</td>\n",
              "      <td>3</td>\n",
              "    </tr>\n",
              "    <tr>\n",
              "      <th>3</th>\n",
              "      <td>-2.518077</td>\n",
              "      <td>3.149280</td>\n",
              "      <td>2</td>\n",
              "    </tr>\n",
              "    <tr>\n",
              "      <th>4</th>\n",
              "      <td>-3.397740</td>\n",
              "      <td>3.117106</td>\n",
              "      <td>3</td>\n",
              "    </tr>\n",
              "  </tbody>\n",
              "</table>\n",
              "</div>\n",
              "    <div class=\"colab-df-buttons\">\n",
              "\n",
              "  <div class=\"colab-df-container\">\n",
              "    <button class=\"colab-df-convert\" onclick=\"convertToInteractive('df-f8334183-8495-40ba-b66b-e03e1c7ac8f6')\"\n",
              "            title=\"Convert this dataframe to an interactive table.\"\n",
              "            style=\"display:none;\">\n",
              "\n",
              "  <svg xmlns=\"http://www.w3.org/2000/svg\" height=\"24px\" viewBox=\"0 -960 960 960\">\n",
              "    <path d=\"M120-120v-720h720v720H120Zm60-500h600v-160H180v160Zm220 220h160v-160H400v160Zm0 220h160v-160H400v160ZM180-400h160v-160H180v160Zm440 0h160v-160H620v160ZM180-180h160v-160H180v160Zm440 0h160v-160H620v160Z\"/>\n",
              "  </svg>\n",
              "    </button>\n",
              "\n",
              "  <style>\n",
              "    .colab-df-container {\n",
              "      display:flex;\n",
              "      gap: 12px;\n",
              "    }\n",
              "\n",
              "    .colab-df-convert {\n",
              "      background-color: #E8F0FE;\n",
              "      border: none;\n",
              "      border-radius: 50%;\n",
              "      cursor: pointer;\n",
              "      display: none;\n",
              "      fill: #1967D2;\n",
              "      height: 32px;\n",
              "      padding: 0 0 0 0;\n",
              "      width: 32px;\n",
              "    }\n",
              "\n",
              "    .colab-df-convert:hover {\n",
              "      background-color: #E2EBFA;\n",
              "      box-shadow: 0px 1px 2px rgba(60, 64, 67, 0.3), 0px 1px 3px 1px rgba(60, 64, 67, 0.15);\n",
              "      fill: #174EA6;\n",
              "    }\n",
              "\n",
              "    .colab-df-buttons div {\n",
              "      margin-bottom: 4px;\n",
              "    }\n",
              "\n",
              "    [theme=dark] .colab-df-convert {\n",
              "      background-color: #3B4455;\n",
              "      fill: #D2E3FC;\n",
              "    }\n",
              "\n",
              "    [theme=dark] .colab-df-convert:hover {\n",
              "      background-color: #434B5C;\n",
              "      box-shadow: 0px 1px 3px 1px rgba(0, 0, 0, 0.15);\n",
              "      filter: drop-shadow(0px 1px 2px rgba(0, 0, 0, 0.3));\n",
              "      fill: #FFFFFF;\n",
              "    }\n",
              "  </style>\n",
              "\n",
              "    <script>\n",
              "      const buttonEl =\n",
              "        document.querySelector('#df-f8334183-8495-40ba-b66b-e03e1c7ac8f6 button.colab-df-convert');\n",
              "      buttonEl.style.display =\n",
              "        google.colab.kernel.accessAllowed ? 'block' : 'none';\n",
              "\n",
              "      async function convertToInteractive(key) {\n",
              "        const element = document.querySelector('#df-f8334183-8495-40ba-b66b-e03e1c7ac8f6');\n",
              "        const dataTable =\n",
              "          await google.colab.kernel.invokeFunction('convertToInteractive',\n",
              "                                                    [key], {});\n",
              "        if (!dataTable) return;\n",
              "\n",
              "        const docLinkHtml = 'Like what you see? Visit the ' +\n",
              "          '<a target=\"_blank\" href=https://colab.research.google.com/notebooks/data_table.ipynb>data table notebook</a>'\n",
              "          + ' to learn more about interactive tables.';\n",
              "        element.innerHTML = '';\n",
              "        dataTable['output_type'] = 'display_data';\n",
              "        await google.colab.output.renderOutput(dataTable, element);\n",
              "        const docLink = document.createElement('div');\n",
              "        docLink.innerHTML = docLinkHtml;\n",
              "        element.appendChild(docLink);\n",
              "      }\n",
              "    </script>\n",
              "  </div>\n",
              "\n",
              "\n",
              "<div id=\"df-3d0a096d-b909-4f6f-882c-9383c1e94da0\">\n",
              "  <button class=\"colab-df-quickchart\" onclick=\"quickchart('df-3d0a096d-b909-4f6f-882c-9383c1e94da0')\"\n",
              "            title=\"Suggest charts\"\n",
              "            style=\"display:none;\">\n",
              "\n",
              "<svg xmlns=\"http://www.w3.org/2000/svg\" height=\"24px\"viewBox=\"0 0 24 24\"\n",
              "     width=\"24px\">\n",
              "    <g>\n",
              "        <path d=\"M19 3H5c-1.1 0-2 .9-2 2v14c0 1.1.9 2 2 2h14c1.1 0 2-.9 2-2V5c0-1.1-.9-2-2-2zM9 17H7v-7h2v7zm4 0h-2V7h2v10zm4 0h-2v-4h2v4z\"/>\n",
              "    </g>\n",
              "</svg>\n",
              "  </button>\n",
              "\n",
              "<style>\n",
              "  .colab-df-quickchart {\n",
              "      --bg-color: #E8F0FE;\n",
              "      --fill-color: #1967D2;\n",
              "      --hover-bg-color: #E2EBFA;\n",
              "      --hover-fill-color: #174EA6;\n",
              "      --disabled-fill-color: #AAA;\n",
              "      --disabled-bg-color: #DDD;\n",
              "  }\n",
              "\n",
              "  [theme=dark] .colab-df-quickchart {\n",
              "      --bg-color: #3B4455;\n",
              "      --fill-color: #D2E3FC;\n",
              "      --hover-bg-color: #434B5C;\n",
              "      --hover-fill-color: #FFFFFF;\n",
              "      --disabled-bg-color: #3B4455;\n",
              "      --disabled-fill-color: #666;\n",
              "  }\n",
              "\n",
              "  .colab-df-quickchart {\n",
              "    background-color: var(--bg-color);\n",
              "    border: none;\n",
              "    border-radius: 50%;\n",
              "    cursor: pointer;\n",
              "    display: none;\n",
              "    fill: var(--fill-color);\n",
              "    height: 32px;\n",
              "    padding: 0;\n",
              "    width: 32px;\n",
              "  }\n",
              "\n",
              "  .colab-df-quickchart:hover {\n",
              "    background-color: var(--hover-bg-color);\n",
              "    box-shadow: 0 1px 2px rgba(60, 64, 67, 0.3), 0 1px 3px 1px rgba(60, 64, 67, 0.15);\n",
              "    fill: var(--button-hover-fill-color);\n",
              "  }\n",
              "\n",
              "  .colab-df-quickchart-complete:disabled,\n",
              "  .colab-df-quickchart-complete:disabled:hover {\n",
              "    background-color: var(--disabled-bg-color);\n",
              "    fill: var(--disabled-fill-color);\n",
              "    box-shadow: none;\n",
              "  }\n",
              "\n",
              "  .colab-df-spinner {\n",
              "    border: 2px solid var(--fill-color);\n",
              "    border-color: transparent;\n",
              "    border-bottom-color: var(--fill-color);\n",
              "    animation:\n",
              "      spin 1s steps(1) infinite;\n",
              "  }\n",
              "\n",
              "  @keyframes spin {\n",
              "    0% {\n",
              "      border-color: transparent;\n",
              "      border-bottom-color: var(--fill-color);\n",
              "      border-left-color: var(--fill-color);\n",
              "    }\n",
              "    20% {\n",
              "      border-color: transparent;\n",
              "      border-left-color: var(--fill-color);\n",
              "      border-top-color: var(--fill-color);\n",
              "    }\n",
              "    30% {\n",
              "      border-color: transparent;\n",
              "      border-left-color: var(--fill-color);\n",
              "      border-top-color: var(--fill-color);\n",
              "      border-right-color: var(--fill-color);\n",
              "    }\n",
              "    40% {\n",
              "      border-color: transparent;\n",
              "      border-right-color: var(--fill-color);\n",
              "      border-top-color: var(--fill-color);\n",
              "    }\n",
              "    60% {\n",
              "      border-color: transparent;\n",
              "      border-right-color: var(--fill-color);\n",
              "    }\n",
              "    80% {\n",
              "      border-color: transparent;\n",
              "      border-right-color: var(--fill-color);\n",
              "      border-bottom-color: var(--fill-color);\n",
              "    }\n",
              "    90% {\n",
              "      border-color: transparent;\n",
              "      border-bottom-color: var(--fill-color);\n",
              "    }\n",
              "  }\n",
              "</style>\n",
              "\n",
              "  <script>\n",
              "    async function quickchart(key) {\n",
              "      const quickchartButtonEl =\n",
              "        document.querySelector('#' + key + ' button');\n",
              "      quickchartButtonEl.disabled = true;  // To prevent multiple clicks.\n",
              "      quickchartButtonEl.classList.add('colab-df-spinner');\n",
              "      try {\n",
              "        const charts = await google.colab.kernel.invokeFunction(\n",
              "            'suggestCharts', [key], {});\n",
              "      } catch (error) {\n",
              "        console.error('Error during call to suggestCharts:', error);\n",
              "      }\n",
              "      quickchartButtonEl.classList.remove('colab-df-spinner');\n",
              "      quickchartButtonEl.classList.add('colab-df-quickchart-complete');\n",
              "    }\n",
              "    (() => {\n",
              "      let quickchartButtonEl =\n",
              "        document.querySelector('#df-3d0a096d-b909-4f6f-882c-9383c1e94da0 button');\n",
              "      quickchartButtonEl.style.display =\n",
              "        google.colab.kernel.accessAllowed ? 'block' : 'none';\n",
              "    })();\n",
              "  </script>\n",
              "</div>\n",
              "\n",
              "    </div>\n",
              "  </div>\n"
            ],
            "application/vnd.google.colaboratory.intrinsic+json": {
              "type": "dataframe",
              "variable_name": "df_emb",
              "summary": "{\n  \"name\": \"df_emb\",\n  \"rows\": 16000,\n  \"fields\": [\n    {\n      \"column\": \"X\",\n      \"properties\": {\n        \"dtype\": \"float32\",\n        \"num_unique_values\": 15997,\n        \"samples\": [\n          4.8923115730285645,\n          -3.211242437362671,\n          -1.5159615278244019\n        ],\n        \"semantic_type\": \"\",\n        \"description\": \"\"\n      }\n    },\n    {\n      \"column\": \"Y\",\n      \"properties\": {\n        \"dtype\": \"float32\",\n        \"num_unique_values\": 15991,\n        \"samples\": [\n          4.4812822341918945,\n          1.9868546724319458,\n          7.715113162994385\n        ],\n        \"semantic_type\": \"\",\n        \"description\": \"\"\n      }\n    },\n    {\n      \"column\": \"label\",\n      \"properties\": {\n        \"dtype\": \"number\",\n        \"std\": 1,\n        \"min\": 0,\n        \"max\": 5,\n        \"num_unique_values\": 6,\n        \"samples\": [\n          0,\n          3,\n          1\n        ],\n        \"semantic_type\": \"\",\n        \"description\": \"\"\n      }\n    }\n  ]\n}"
            }
          },
          "metadata": {},
          "execution_count": 44
        }
      ]
    },
    {
      "cell_type": "code",
      "source": [
        "# Plotting density of points for each category separately...\n",
        "\n",
        "fig, axes = plt.subplots(2, 3, figsize=(7,5))\n",
        "axes = axes.flatten()\n",
        "cmaps = [\"Greys\", \"Blues\", \"Oranges\", \"Reds\", \"Purples\", \"Greens\"]\n",
        "labels = emotions[\"train\"].features[\"label\"].names\n",
        "\n",
        "for i, (label, cmap) in enumerate(zip(labels, cmaps)):\n",
        "    df_emb_sub = df_emb.query(f\"label == {i}\")\n",
        "    axes[i].hexbin(df_emb_sub[\"X\"], df_emb_sub[\"Y\"], cmap=cmap,\n",
        "                   gridsize=20, linewidths=(0,))\n",
        "    axes[i].set_title(label)\n",
        "    axes[i].set_xticks([]), axes[i].set_yticks([])\n",
        "\n",
        "plt.tight_layout()\n",
        "plt.show()"
      ],
      "metadata": {
        "colab": {
          "base_uri": "https://localhost:8080/",
          "height": 486
        },
        "id": "F_6SJsP57N6L",
        "outputId": "6231ebad-0d74-4d0a-a5dd-7c7290a4bfda"
      },
      "execution_count": 46,
      "outputs": [
        {
          "output_type": "display_data",
          "data": {
            "text/plain": [
              "<Figure size 700x500 with 6 Axes>"
            ],
            "image/svg+xml": "<?xml version=\"1.0\" encoding=\"utf-8\" standalone=\"no\"?>\n<!DOCTYPE svg PUBLIC \"-//W3C//DTD SVG 1.1//EN\"\n  \"http://www.w3.org/Graphics/SVG/1.1/DTD/svg11.dtd\">\n<svg xmlns:xlink=\"http://www.w3.org/1999/xlink\" width=\"492.48pt\" height=\"348.62175pt\" viewBox=\"0 0 492.48 348.62175\" xmlns=\"http://www.w3.org/2000/svg\" version=\"1.1\">\n <metadata>\n  <rdf:RDF xmlns:dc=\"http://purl.org/dc/elements/1.1/\" xmlns:cc=\"http://creativecommons.org/ns#\" xmlns:rdf=\"http://www.w3.org/1999/02/22-rdf-syntax-ns#\">\n   <cc:Work>\n    <dc:type rdf:resource=\"http://purl.org/dc/dcmitype/StillImage\"/>\n    <dc:date>2024-06-22T03:11:18.940973</dc:date>\n    <dc:format>image/svg+xml</dc:format>\n    <dc:creator>\n     <cc:Agent>\n      <dc:title>Matplotlib v3.7.1, https://matplotlib.org/</dc:title>\n     </cc:Agent>\n    </dc:creator>\n   </cc:Work>\n  </rdf:RDF>\n </metadata>\n <defs>\n  <style type=\"text/css\">*{stroke-linejoin: round; stroke-linecap: butt}</style>\n </defs>\n <g id=\"figure_1\">\n  <g id=\"patch_1\">\n   <path d=\"M 0 348.62175 \nL 492.48 348.62175 \nL 492.48 0 \nL 0 0 \nz\n\" style=\"fill: #ffffff\"/>\n  </g>\n  <g id=\"axes_1\">\n   <g id=\"patch_2\">\n    <path d=\"M 7.2 167.90175 \nL 157.92 167.90175 \nL 157.92 24.14175 \nL 7.2 24.14175 \nz\n\" style=\"fill: #ffffff\"/>\n   </g>\n   <g id=\"PolyCollection_1\">\n    <defs>\n     <path id=\"C0_0_1c0b1a92b7\" d=\"M 74.707707 -179.4984 \nL 74.707707 -183.458731 \nL 71.282253 -185.438896 \nL 67.856798 -183.458731 \nL 67.856798 -179.4984 \nL 71.282253 -177.518235 \nz\n\"/>\n    </defs>\n    <g clip-path=\"url(#pa42482f8c9)\">\n     <use xlink:href=\"#C0_0_1c0b1a92b7\" x=\"-57.231344\" y=\"342.84577\" style=\"fill: #ffffff\"/>\n    </g>\n    <g clip-path=\"url(#pa42482f8c9)\">\n     <use xlink:href=\"#C0_0_1c0b1a92b7\" x=\"-57.231344\" y=\"330.964778\" style=\"fill: #ffffff\"/>\n    </g>\n    <g clip-path=\"url(#pa42482f8c9)\">\n     <use xlink:href=\"#C0_0_1c0b1a92b7\" x=\"-57.231344\" y=\"319.083786\" style=\"fill: #ffffff\"/>\n    </g>\n    <g clip-path=\"url(#pa42482f8c9)\">\n     <use xlink:href=\"#C0_0_1c0b1a92b7\" x=\"-57.231344\" y=\"307.202795\" style=\"fill: #ffffff\"/>\n    </g>\n    <g clip-path=\"url(#pa42482f8c9)\">\n     <use xlink:href=\"#C0_0_1c0b1a92b7\" x=\"-57.231344\" y=\"295.321803\" style=\"fill: #fcfcfc\"/>\n    </g>\n    <g clip-path=\"url(#pa42482f8c9)\">\n     <use xlink:href=\"#C0_0_1c0b1a92b7\" x=\"-57.231344\" y=\"283.440811\" style=\"fill: #e4e4e4\"/>\n    </g>\n    <g clip-path=\"url(#pa42482f8c9)\">\n     <use xlink:href=\"#C0_0_1c0b1a92b7\" x=\"-57.231344\" y=\"271.55982\" style=\"fill: #eaeaea\"/>\n    </g>\n    <g clip-path=\"url(#pa42482f8c9)\">\n     <use xlink:href=\"#C0_0_1c0b1a92b7\" x=\"-57.231344\" y=\"259.678828\" style=\"fill: #ffffff\"/>\n    </g>\n    <g clip-path=\"url(#pa42482f8c9)\">\n     <use xlink:href=\"#C0_0_1c0b1a92b7\" x=\"-57.231344\" y=\"247.797836\" style=\"fill: #ffffff\"/>\n    </g>\n    <g clip-path=\"url(#pa42482f8c9)\">\n     <use xlink:href=\"#C0_0_1c0b1a92b7\" x=\"-57.231344\" y=\"235.916844\" style=\"fill: #ffffff\"/>\n    </g>\n    <g clip-path=\"url(#pa42482f8c9)\">\n     <use xlink:href=\"#C0_0_1c0b1a92b7\" x=\"-57.231344\" y=\"224.035853\" style=\"fill: #ffffff\"/>\n    </g>\n    <g clip-path=\"url(#pa42482f8c9)\">\n     <use xlink:href=\"#C0_0_1c0b1a92b7\" x=\"-57.231344\" y=\"212.154861\" style=\"fill: #ffffff\"/>\n    </g>\n    <g clip-path=\"url(#pa42482f8c9)\">\n     <use xlink:href=\"#C0_0_1c0b1a92b7\" x=\"-50.380435\" y=\"342.84577\" style=\"fill: #ffffff\"/>\n    </g>\n    <g clip-path=\"url(#pa42482f8c9)\">\n     <use xlink:href=\"#C0_0_1c0b1a92b7\" x=\"-50.380435\" y=\"330.964778\" style=\"fill: #ffffff\"/>\n    </g>\n    <g clip-path=\"url(#pa42482f8c9)\">\n     <use xlink:href=\"#C0_0_1c0b1a92b7\" x=\"-50.380435\" y=\"319.083786\" style=\"fill: #ffffff\"/>\n    </g>\n    <g clip-path=\"url(#pa42482f8c9)\">\n     <use xlink:href=\"#C0_0_1c0b1a92b7\" x=\"-50.380435\" y=\"307.202795\" style=\"fill: #dbdbdb\"/>\n    </g>\n    <g clip-path=\"url(#pa42482f8c9)\">\n     <use xlink:href=\"#C0_0_1c0b1a92b7\" x=\"-50.380435\" y=\"295.321803\" style=\"fill: #848484\"/>\n    </g>\n    <g clip-path=\"url(#pa42482f8c9)\">\n     <use xlink:href=\"#C0_0_1c0b1a92b7\" x=\"-50.380435\" y=\"283.440811\" style=\"fill: #303030\"/>\n    </g>\n    <g clip-path=\"url(#pa42482f8c9)\">\n     <use xlink:href=\"#C0_0_1c0b1a92b7\" x=\"-50.380435\" y=\"271.55982\" style=\"fill: #727272\"/>\n    </g>\n    <g clip-path=\"url(#pa42482f8c9)\">\n     <use xlink:href=\"#C0_0_1c0b1a92b7\" x=\"-50.380435\" y=\"259.678828\" style=\"fill: #7c7c7c\"/>\n    </g>\n    <g clip-path=\"url(#pa42482f8c9)\">\n     <use xlink:href=\"#C0_0_1c0b1a92b7\" x=\"-50.380435\" y=\"247.797836\" style=\"fill: #ffffff\"/>\n    </g>\n    <g clip-path=\"url(#pa42482f8c9)\">\n     <use xlink:href=\"#C0_0_1c0b1a92b7\" x=\"-50.380435\" y=\"235.916844\" style=\"fill: #ffffff\"/>\n    </g>\n    <g clip-path=\"url(#pa42482f8c9)\">\n     <use xlink:href=\"#C0_0_1c0b1a92b7\" x=\"-50.380435\" y=\"224.035853\" style=\"fill: #ffffff\"/>\n    </g>\n    <g clip-path=\"url(#pa42482f8c9)\">\n     <use xlink:href=\"#C0_0_1c0b1a92b7\" x=\"-50.380435\" y=\"212.154861\" style=\"fill: #ffffff\"/>\n    </g>\n    <g clip-path=\"url(#pa42482f8c9)\">\n     <use xlink:href=\"#C0_0_1c0b1a92b7\" x=\"-43.529526\" y=\"342.84577\" style=\"fill: #ffffff\"/>\n    </g>\n    <g clip-path=\"url(#pa42482f8c9)\">\n     <use xlink:href=\"#C0_0_1c0b1a92b7\" x=\"-43.529526\" y=\"330.964778\" style=\"fill: #ffffff\"/>\n    </g>\n    <g clip-path=\"url(#pa42482f8c9)\">\n     <use xlink:href=\"#C0_0_1c0b1a92b7\" x=\"-43.529526\" y=\"319.083786\" style=\"fill: #e4e4e4\"/>\n    </g>\n    <g clip-path=\"url(#pa42482f8c9)\">\n     <use xlink:href=\"#C0_0_1c0b1a92b7\" x=\"-43.529526\" y=\"307.202795\" style=\"fill: #dfdfdf\"/>\n    </g>\n    <g clip-path=\"url(#pa42482f8c9)\">\n     <use xlink:href=\"#C0_0_1c0b1a92b7\" x=\"-43.529526\" y=\"295.321803\" style=\"fill: #767676\"/>\n    </g>\n    <g clip-path=\"url(#pa42482f8c9)\">\n     <use xlink:href=\"#C0_0_1c0b1a92b7\" x=\"-43.529526\" y=\"283.440811\" style=\"fill: #878787\"/>\n    </g>\n    <g clip-path=\"url(#pa42482f8c9)\">\n     <use xlink:href=\"#C0_0_1c0b1a92b7\" x=\"-43.529526\" y=\"271.55982\"/>\n    </g>\n    <g clip-path=\"url(#pa42482f8c9)\">\n     <use xlink:href=\"#C0_0_1c0b1a92b7\" x=\"-43.529526\" y=\"259.678828\" style=\"fill: #a3a3a3\"/>\n    </g>\n    <g clip-path=\"url(#pa42482f8c9)\">\n     <use xlink:href=\"#C0_0_1c0b1a92b7\" x=\"-43.529526\" y=\"247.797836\" style=\"fill: #ffffff\"/>\n    </g>\n    <g clip-path=\"url(#pa42482f8c9)\">\n     <use xlink:href=\"#C0_0_1c0b1a92b7\" x=\"-43.529526\" y=\"235.916844\" style=\"fill: #fefefe\"/>\n    </g>\n    <g clip-path=\"url(#pa42482f8c9)\">\n     <use xlink:href=\"#C0_0_1c0b1a92b7\" x=\"-43.529526\" y=\"224.035853\" style=\"fill: #ffffff\"/>\n    </g>\n    <g clip-path=\"url(#pa42482f8c9)\">\n     <use xlink:href=\"#C0_0_1c0b1a92b7\" x=\"-43.529526\" y=\"212.154861\" style=\"fill: #ffffff\"/>\n    </g>\n    <g clip-path=\"url(#pa42482f8c9)\">\n     <use xlink:href=\"#C0_0_1c0b1a92b7\" x=\"-36.678616\" y=\"342.84577\" style=\"fill: #ffffff\"/>\n    </g>\n    <g clip-path=\"url(#pa42482f8c9)\">\n     <use xlink:href=\"#C0_0_1c0b1a92b7\" x=\"-36.678616\" y=\"330.964778\" style=\"fill: #ffffff\"/>\n    </g>\n    <g clip-path=\"url(#pa42482f8c9)\">\n     <use xlink:href=\"#C0_0_1c0b1a92b7\" x=\"-36.678616\" y=\"319.083786\" style=\"fill: #efefef\"/>\n    </g>\n    <g clip-path=\"url(#pa42482f8c9)\">\n     <use xlink:href=\"#C0_0_1c0b1a92b7\" x=\"-36.678616\" y=\"307.202795\" style=\"fill: #e8e8e8\"/>\n    </g>\n    <g clip-path=\"url(#pa42482f8c9)\">\n     <use xlink:href=\"#C0_0_1c0b1a92b7\" x=\"-36.678616\" y=\"295.321803\" style=\"fill: #c8c8c8\"/>\n    </g>\n    <g clip-path=\"url(#pa42482f8c9)\">\n     <use xlink:href=\"#C0_0_1c0b1a92b7\" x=\"-36.678616\" y=\"283.440811\" style=\"fill: #c5c5c5\"/>\n    </g>\n    <g clip-path=\"url(#pa42482f8c9)\">\n     <use xlink:href=\"#C0_0_1c0b1a92b7\" x=\"-36.678616\" y=\"271.55982\" style=\"fill: #a7a7a7\"/>\n    </g>\n    <g clip-path=\"url(#pa42482f8c9)\">\n     <use xlink:href=\"#C0_0_1c0b1a92b7\" x=\"-36.678616\" y=\"259.678828\" style=\"fill: #6c6c6c\"/>\n    </g>\n    <g clip-path=\"url(#pa42482f8c9)\">\n     <use xlink:href=\"#C0_0_1c0b1a92b7\" x=\"-36.678616\" y=\"247.797836\" style=\"fill: #f9f9f9\"/>\n    </g>\n    <g clip-path=\"url(#pa42482f8c9)\">\n     <use xlink:href=\"#C0_0_1c0b1a92b7\" x=\"-36.678616\" y=\"235.916844\" style=\"fill: #fefefe\"/>\n    </g>\n    <g clip-path=\"url(#pa42482f8c9)\">\n     <use xlink:href=\"#C0_0_1c0b1a92b7\" x=\"-36.678616\" y=\"224.035853\" style=\"fill: #ffffff\"/>\n    </g>\n    <g clip-path=\"url(#pa42482f8c9)\">\n     <use xlink:href=\"#C0_0_1c0b1a92b7\" x=\"-36.678616\" y=\"212.154861\" style=\"fill: #ffffff\"/>\n    </g>\n    <g clip-path=\"url(#pa42482f8c9)\">\n     <use xlink:href=\"#C0_0_1c0b1a92b7\" x=\"-29.827707\" y=\"342.84577\" style=\"fill: #ffffff\"/>\n    </g>\n    <g clip-path=\"url(#pa42482f8c9)\">\n     <use xlink:href=\"#C0_0_1c0b1a92b7\" x=\"-29.827707\" y=\"330.964778\" style=\"fill: #ffffff\"/>\n    </g>\n    <g clip-path=\"url(#pa42482f8c9)\">\n     <use xlink:href=\"#C0_0_1c0b1a92b7\" x=\"-29.827707\" y=\"319.083786\" style=\"fill: #f5f5f5\"/>\n    </g>\n    <g clip-path=\"url(#pa42482f8c9)\">\n     <use xlink:href=\"#C0_0_1c0b1a92b7\" x=\"-29.827707\" y=\"307.202795\" style=\"fill: #e1e1e1\"/>\n    </g>\n    <g clip-path=\"url(#pa42482f8c9)\">\n     <use xlink:href=\"#C0_0_1c0b1a92b7\" x=\"-29.827707\" y=\"295.321803\" style=\"fill: #c8c8c8\"/>\n    </g>\n    <g clip-path=\"url(#pa42482f8c9)\">\n     <use xlink:href=\"#C0_0_1c0b1a92b7\" x=\"-29.827707\" y=\"283.440811\" style=\"fill: #e1e1e1\"/>\n    </g>\n    <g clip-path=\"url(#pa42482f8c9)\">\n     <use xlink:href=\"#C0_0_1c0b1a92b7\" x=\"-29.827707\" y=\"271.55982\" style=\"fill: #7f7f7f\"/>\n    </g>\n    <g clip-path=\"url(#pa42482f8c9)\">\n     <use xlink:href=\"#C0_0_1c0b1a92b7\" x=\"-29.827707\" y=\"259.678828\" style=\"fill: #8a8a8a\"/>\n    </g>\n    <g clip-path=\"url(#pa42482f8c9)\">\n     <use xlink:href=\"#C0_0_1c0b1a92b7\" x=\"-29.827707\" y=\"247.797836\" style=\"fill: #f2f2f2\"/>\n    </g>\n    <g clip-path=\"url(#pa42482f8c9)\">\n     <use xlink:href=\"#C0_0_1c0b1a92b7\" x=\"-29.827707\" y=\"235.916844\" style=\"fill: #fefefe\"/>\n    </g>\n    <g clip-path=\"url(#pa42482f8c9)\">\n     <use xlink:href=\"#C0_0_1c0b1a92b7\" x=\"-29.827707\" y=\"224.035853\" style=\"fill: #d0d0d0\"/>\n    </g>\n    <g clip-path=\"url(#pa42482f8c9)\">\n     <use xlink:href=\"#C0_0_1c0b1a92b7\" x=\"-29.827707\" y=\"212.154861\" style=\"fill: #ffffff\"/>\n    </g>\n    <g clip-path=\"url(#pa42482f8c9)\">\n     <use xlink:href=\"#C0_0_1c0b1a92b7\" x=\"-22.976798\" y=\"342.84577\" style=\"fill: #ffffff\"/>\n    </g>\n    <g clip-path=\"url(#pa42482f8c9)\">\n     <use xlink:href=\"#C0_0_1c0b1a92b7\" x=\"-22.976798\" y=\"330.964778\" style=\"fill: #e4e4e4\"/>\n    </g>\n    <g clip-path=\"url(#pa42482f8c9)\">\n     <use xlink:href=\"#C0_0_1c0b1a92b7\" x=\"-22.976798\" y=\"319.083786\" style=\"fill: #f9f9f9\"/>\n    </g>\n    <g clip-path=\"url(#pa42482f8c9)\">\n     <use xlink:href=\"#C0_0_1c0b1a92b7\" x=\"-22.976798\" y=\"307.202795\" style=\"fill: #efefef\"/>\n    </g>\n    <g clip-path=\"url(#pa42482f8c9)\">\n     <use xlink:href=\"#C0_0_1c0b1a92b7\" x=\"-22.976798\" y=\"295.321803\" style=\"fill: #f2f2f2\"/>\n    </g>\n    <g clip-path=\"url(#pa42482f8c9)\">\n     <use xlink:href=\"#C0_0_1c0b1a92b7\" x=\"-22.976798\" y=\"283.440811\" style=\"fill: #c3c3c3\"/>\n    </g>\n    <g clip-path=\"url(#pa42482f8c9)\">\n     <use xlink:href=\"#C0_0_1c0b1a92b7\" x=\"-22.976798\" y=\"271.55982\" style=\"fill: #b6b6b6\"/>\n    </g>\n    <g clip-path=\"url(#pa42482f8c9)\">\n     <use xlink:href=\"#C0_0_1c0b1a92b7\" x=\"-22.976798\" y=\"259.678828\" style=\"fill: #aaaaaa\"/>\n    </g>\n    <g clip-path=\"url(#pa42482f8c9)\">\n     <use xlink:href=\"#C0_0_1c0b1a92b7\" x=\"-22.976798\" y=\"247.797836\" style=\"fill: #f4f4f4\"/>\n    </g>\n    <g clip-path=\"url(#pa42482f8c9)\">\n     <use xlink:href=\"#C0_0_1c0b1a92b7\" x=\"-22.976798\" y=\"235.916844\" style=\"fill: #cdcdcd\"/>\n    </g>\n    <g clip-path=\"url(#pa42482f8c9)\">\n     <use xlink:href=\"#C0_0_1c0b1a92b7\" x=\"-22.976798\" y=\"224.035853\" style=\"fill: #949494\"/>\n    </g>\n    <g clip-path=\"url(#pa42482f8c9)\">\n     <use xlink:href=\"#C0_0_1c0b1a92b7\" x=\"-22.976798\" y=\"212.154861\" style=\"fill: #fcfcfc\"/>\n    </g>\n    <g clip-path=\"url(#pa42482f8c9)\">\n     <use xlink:href=\"#C0_0_1c0b1a92b7\" x=\"-16.125889\" y=\"342.84577\" style=\"fill: #ffffff\"/>\n    </g>\n    <g clip-path=\"url(#pa42482f8c9)\">\n     <use xlink:href=\"#C0_0_1c0b1a92b7\" x=\"-16.125889\" y=\"330.964778\" style=\"fill: #fbfbfb\"/>\n    </g>\n    <g clip-path=\"url(#pa42482f8c9)\">\n     <use xlink:href=\"#C0_0_1c0b1a92b7\" x=\"-16.125889\" y=\"319.083786\" style=\"fill: #f4f4f4\"/>\n    </g>\n    <g clip-path=\"url(#pa42482f8c9)\">\n     <use xlink:href=\"#C0_0_1c0b1a92b7\" x=\"-16.125889\" y=\"307.202795\" style=\"fill: #d6d6d6\"/>\n    </g>\n    <g clip-path=\"url(#pa42482f8c9)\">\n     <use xlink:href=\"#C0_0_1c0b1a92b7\" x=\"-16.125889\" y=\"295.321803\" style=\"fill: #dbdbdb\"/>\n    </g>\n    <g clip-path=\"url(#pa42482f8c9)\">\n     <use xlink:href=\"#C0_0_1c0b1a92b7\" x=\"-16.125889\" y=\"283.440811\" style=\"fill: #d4d4d4\"/>\n    </g>\n    <g clip-path=\"url(#pa42482f8c9)\">\n     <use xlink:href=\"#C0_0_1c0b1a92b7\" x=\"-16.125889\" y=\"271.55982\" style=\"fill: #c3c3c3\"/>\n    </g>\n    <g clip-path=\"url(#pa42482f8c9)\">\n     <use xlink:href=\"#C0_0_1c0b1a92b7\" x=\"-16.125889\" y=\"259.678828\" style=\"fill: #b3b3b3\"/>\n    </g>\n    <g clip-path=\"url(#pa42482f8c9)\">\n     <use xlink:href=\"#C0_0_1c0b1a92b7\" x=\"-16.125889\" y=\"247.797836\" style=\"fill: #e1e1e1\"/>\n    </g>\n    <g clip-path=\"url(#pa42482f8c9)\">\n     <use xlink:href=\"#C0_0_1c0b1a92b7\" x=\"-16.125889\" y=\"235.916844\" style=\"fill: #d0d0d0\"/>\n    </g>\n    <g clip-path=\"url(#pa42482f8c9)\">\n     <use xlink:href=\"#C0_0_1c0b1a92b7\" x=\"-16.125889\" y=\"224.035853\" style=\"fill: #8a8a8a\"/>\n    </g>\n    <g clip-path=\"url(#pa42482f8c9)\">\n     <use xlink:href=\"#C0_0_1c0b1a92b7\" x=\"-16.125889\" y=\"212.154861\" style=\"fill: #f8f8f8\"/>\n    </g>\n    <g clip-path=\"url(#pa42482f8c9)\">\n     <use xlink:href=\"#C0_0_1c0b1a92b7\" x=\"-9.27498\" y=\"342.84577\" style=\"fill: #ffffff\"/>\n    </g>\n    <g clip-path=\"url(#pa42482f8c9)\">\n     <use xlink:href=\"#C0_0_1c0b1a92b7\" x=\"-9.27498\" y=\"330.964778\" style=\"fill: #fefefe\"/>\n    </g>\n    <g clip-path=\"url(#pa42482f8c9)\">\n     <use xlink:href=\"#C0_0_1c0b1a92b7\" x=\"-9.27498\" y=\"319.083786\" style=\"fill: #fefefe\"/>\n    </g>\n    <g clip-path=\"url(#pa42482f8c9)\">\n     <use xlink:href=\"#C0_0_1c0b1a92b7\" x=\"-9.27498\" y=\"307.202795\" style=\"fill: #f9f9f9\"/>\n    </g>\n    <g clip-path=\"url(#pa42482f8c9)\">\n     <use xlink:href=\"#C0_0_1c0b1a92b7\" x=\"-9.27498\" y=\"295.321803\" style=\"fill: #f2f2f2\"/>\n    </g>\n    <g clip-path=\"url(#pa42482f8c9)\">\n     <use xlink:href=\"#C0_0_1c0b1a92b7\" x=\"-9.27498\" y=\"283.440811\" style=\"fill: #dbdbdb\"/>\n    </g>\n    <g clip-path=\"url(#pa42482f8c9)\">\n     <use xlink:href=\"#C0_0_1c0b1a92b7\" x=\"-9.27498\" y=\"271.55982\" style=\"fill: #d9d9d9\"/>\n    </g>\n    <g clip-path=\"url(#pa42482f8c9)\">\n     <use xlink:href=\"#C0_0_1c0b1a92b7\" x=\"-9.27498\" y=\"259.678828\" style=\"fill: #a3a3a3\"/>\n    </g>\n    <g clip-path=\"url(#pa42482f8c9)\">\n     <use xlink:href=\"#C0_0_1c0b1a92b7\" x=\"-9.27498\" y=\"247.797836\" style=\"fill: #e8e8e8\"/>\n    </g>\n    <g clip-path=\"url(#pa42482f8c9)\">\n     <use xlink:href=\"#C0_0_1c0b1a92b7\" x=\"-9.27498\" y=\"235.916844\" style=\"fill: #cbcbcb\"/>\n    </g>\n    <g clip-path=\"url(#pa42482f8c9)\">\n     <use xlink:href=\"#C0_0_1c0b1a92b7\" x=\"-9.27498\" y=\"224.035853\" style=\"fill: #cbcbcb\"/>\n    </g>\n    <g clip-path=\"url(#pa42482f8c9)\">\n     <use xlink:href=\"#C0_0_1c0b1a92b7\" x=\"-9.27498\" y=\"212.154861\" style=\"fill: #ffffff\"/>\n    </g>\n    <g clip-path=\"url(#pa42482f8c9)\">\n     <use xlink:href=\"#C0_0_1c0b1a92b7\" x=\"-2.424071\" y=\"342.84577\" style=\"fill: #fefefe\"/>\n    </g>\n    <g clip-path=\"url(#pa42482f8c9)\">\n     <use xlink:href=\"#C0_0_1c0b1a92b7\" x=\"-2.424071\" y=\"330.964778\" style=\"fill: #f9f9f9\"/>\n    </g>\n    <g clip-path=\"url(#pa42482f8c9)\">\n     <use xlink:href=\"#C0_0_1c0b1a92b7\" x=\"-2.424071\" y=\"319.083786\" style=\"fill: #ffffff\"/>\n    </g>\n    <g clip-path=\"url(#pa42482f8c9)\">\n     <use xlink:href=\"#C0_0_1c0b1a92b7\" x=\"-2.424071\" y=\"307.202795\" style=\"fill: #fbfbfb\"/>\n    </g>\n    <g clip-path=\"url(#pa42482f8c9)\">\n     <use xlink:href=\"#C0_0_1c0b1a92b7\" x=\"-2.424071\" y=\"295.321803\" style=\"fill: #e8e8e8\"/>\n    </g>\n    <g clip-path=\"url(#pa42482f8c9)\">\n     <use xlink:href=\"#C0_0_1c0b1a92b7\" x=\"-2.424071\" y=\"283.440811\" style=\"fill: #ececec\"/>\n    </g>\n    <g clip-path=\"url(#pa42482f8c9)\">\n     <use xlink:href=\"#C0_0_1c0b1a92b7\" x=\"-2.424071\" y=\"271.55982\" style=\"fill: #ececec\"/>\n    </g>\n    <g clip-path=\"url(#pa42482f8c9)\">\n     <use xlink:href=\"#C0_0_1c0b1a92b7\" x=\"-2.424071\" y=\"259.678828\" style=\"fill: #dfdfdf\"/>\n    </g>\n    <g clip-path=\"url(#pa42482f8c9)\">\n     <use xlink:href=\"#C0_0_1c0b1a92b7\" x=\"-2.424071\" y=\"247.797836\" style=\"fill: #f7f7f7\"/>\n    </g>\n    <g clip-path=\"url(#pa42482f8c9)\">\n     <use xlink:href=\"#C0_0_1c0b1a92b7\" x=\"-2.424071\" y=\"235.916844\" style=\"fill: #f5f5f5\"/>\n    </g>\n    <g clip-path=\"url(#pa42482f8c9)\">\n     <use xlink:href=\"#C0_0_1c0b1a92b7\" x=\"-2.424071\" y=\"224.035853\" style=\"fill: #ffffff\"/>\n    </g>\n    <g clip-path=\"url(#pa42482f8c9)\">\n     <use xlink:href=\"#C0_0_1c0b1a92b7\" x=\"-2.424071\" y=\"212.154861\" style=\"fill: #ffffff\"/>\n    </g>\n    <g clip-path=\"url(#pa42482f8c9)\">\n     <use xlink:href=\"#C0_0_1c0b1a92b7\" x=\"4.426838\" y=\"342.84577\" style=\"fill: #f5f5f5\"/>\n    </g>\n    <g clip-path=\"url(#pa42482f8c9)\">\n     <use xlink:href=\"#C0_0_1c0b1a92b7\" x=\"4.426838\" y=\"330.964778\" style=\"fill: #c5c5c5\"/>\n    </g>\n    <g clip-path=\"url(#pa42482f8c9)\">\n     <use xlink:href=\"#C0_0_1c0b1a92b7\" x=\"4.426838\" y=\"319.083786\" style=\"fill: #f5f5f5\"/>\n    </g>\n    <g clip-path=\"url(#pa42482f8c9)\">\n     <use xlink:href=\"#C0_0_1c0b1a92b7\" x=\"4.426838\" y=\"307.202795\" style=\"fill: #f2f2f2\"/>\n    </g>\n    <g clip-path=\"url(#pa42482f8c9)\">\n     <use xlink:href=\"#C0_0_1c0b1a92b7\" x=\"4.426838\" y=\"295.321803\" style=\"fill: #e8e8e8\"/>\n    </g>\n    <g clip-path=\"url(#pa42482f8c9)\">\n     <use xlink:href=\"#C0_0_1c0b1a92b7\" x=\"4.426838\" y=\"283.440811\" style=\"fill: #f7f7f7\"/>\n    </g>\n    <g clip-path=\"url(#pa42482f8c9)\">\n     <use xlink:href=\"#C0_0_1c0b1a92b7\" x=\"4.426838\" y=\"271.55982\" style=\"fill: #f5f5f5\"/>\n    </g>\n    <g clip-path=\"url(#pa42482f8c9)\">\n     <use xlink:href=\"#C0_0_1c0b1a92b7\" x=\"4.426838\" y=\"259.678828\" style=\"fill: #f7f7f7\"/>\n    </g>\n    <g clip-path=\"url(#pa42482f8c9)\">\n     <use xlink:href=\"#C0_0_1c0b1a92b7\" x=\"4.426838\" y=\"247.797836\" style=\"fill: #ffffff\"/>\n    </g>\n    <g clip-path=\"url(#pa42482f8c9)\">\n     <use xlink:href=\"#C0_0_1c0b1a92b7\" x=\"4.426838\" y=\"235.916844\" style=\"fill: #ffffff\"/>\n    </g>\n    <g clip-path=\"url(#pa42482f8c9)\">\n     <use xlink:href=\"#C0_0_1c0b1a92b7\" x=\"4.426838\" y=\"224.035853\" style=\"fill: #ffffff\"/>\n    </g>\n    <g clip-path=\"url(#pa42482f8c9)\">\n     <use xlink:href=\"#C0_0_1c0b1a92b7\" x=\"4.426838\" y=\"212.154861\" style=\"fill: #ffffff\"/>\n    </g>\n    <g clip-path=\"url(#pa42482f8c9)\">\n     <use xlink:href=\"#C0_0_1c0b1a92b7\" x=\"11.277747\" y=\"342.84577\" style=\"fill: #ffffff\"/>\n    </g>\n    <g clip-path=\"url(#pa42482f8c9)\">\n     <use xlink:href=\"#C0_0_1c0b1a92b7\" x=\"11.277747\" y=\"330.964778\" style=\"fill: #fefefe\"/>\n    </g>\n    <g clip-path=\"url(#pa42482f8c9)\">\n     <use xlink:href=\"#C0_0_1c0b1a92b7\" x=\"11.277747\" y=\"319.083786\" style=\"fill: #fcfcfc\"/>\n    </g>\n    <g clip-path=\"url(#pa42482f8c9)\">\n     <use xlink:href=\"#C0_0_1c0b1a92b7\" x=\"11.277747\" y=\"307.202795\" style=\"fill: #fcfcfc\"/>\n    </g>\n    <g clip-path=\"url(#pa42482f8c9)\">\n     <use xlink:href=\"#C0_0_1c0b1a92b7\" x=\"11.277747\" y=\"295.321803\" style=\"fill: #fbfbfb\"/>\n    </g>\n    <g clip-path=\"url(#pa42482f8c9)\">\n     <use xlink:href=\"#C0_0_1c0b1a92b7\" x=\"11.277747\" y=\"283.440811\" style=\"fill: #fefefe\"/>\n    </g>\n    <g clip-path=\"url(#pa42482f8c9)\">\n     <use xlink:href=\"#C0_0_1c0b1a92b7\" x=\"11.277747\" y=\"271.55982\" style=\"fill: #fefefe\"/>\n    </g>\n    <g clip-path=\"url(#pa42482f8c9)\">\n     <use xlink:href=\"#C0_0_1c0b1a92b7\" x=\"11.277747\" y=\"259.678828\" style=\"fill: #ffffff\"/>\n    </g>\n    <g clip-path=\"url(#pa42482f8c9)\">\n     <use xlink:href=\"#C0_0_1c0b1a92b7\" x=\"11.277747\" y=\"247.797836\" style=\"fill: #ffffff\"/>\n    </g>\n    <g clip-path=\"url(#pa42482f8c9)\">\n     <use xlink:href=\"#C0_0_1c0b1a92b7\" x=\"11.277747\" y=\"235.916844\" style=\"fill: #ffffff\"/>\n    </g>\n    <g clip-path=\"url(#pa42482f8c9)\">\n     <use xlink:href=\"#C0_0_1c0b1a92b7\" x=\"11.277747\" y=\"224.035853\" style=\"fill: #ffffff\"/>\n    </g>\n    <g clip-path=\"url(#pa42482f8c9)\">\n     <use xlink:href=\"#C0_0_1c0b1a92b7\" x=\"11.277747\" y=\"212.154861\" style=\"fill: #ffffff\"/>\n    </g>\n    <g clip-path=\"url(#pa42482f8c9)\">\n     <use xlink:href=\"#C0_0_1c0b1a92b7\" x=\"18.128656\" y=\"342.84577\" style=\"fill: #ffffff\"/>\n    </g>\n    <g clip-path=\"url(#pa42482f8c9)\">\n     <use xlink:href=\"#C0_0_1c0b1a92b7\" x=\"18.128656\" y=\"330.964778\" style=\"fill: #ffffff\"/>\n    </g>\n    <g clip-path=\"url(#pa42482f8c9)\">\n     <use xlink:href=\"#C0_0_1c0b1a92b7\" x=\"18.128656\" y=\"319.083786\" style=\"fill: #fcfcfc\"/>\n    </g>\n    <g clip-path=\"url(#pa42482f8c9)\">\n     <use xlink:href=\"#C0_0_1c0b1a92b7\" x=\"18.128656\" y=\"307.202795\" style=\"fill: #dddddd\"/>\n    </g>\n    <g clip-path=\"url(#pa42482f8c9)\">\n     <use xlink:href=\"#C0_0_1c0b1a92b7\" x=\"18.128656\" y=\"295.321803\" style=\"fill: #fefefe\"/>\n    </g>\n    <g clip-path=\"url(#pa42482f8c9)\">\n     <use xlink:href=\"#C0_0_1c0b1a92b7\" x=\"18.128656\" y=\"283.440811\" style=\"fill: #ffffff\"/>\n    </g>\n    <g clip-path=\"url(#pa42482f8c9)\">\n     <use xlink:href=\"#C0_0_1c0b1a92b7\" x=\"18.128656\" y=\"271.55982\" style=\"fill: #ffffff\"/>\n    </g>\n    <g clip-path=\"url(#pa42482f8c9)\">\n     <use xlink:href=\"#C0_0_1c0b1a92b7\" x=\"18.128656\" y=\"259.678828\" style=\"fill: #ffffff\"/>\n    </g>\n    <g clip-path=\"url(#pa42482f8c9)\">\n     <use xlink:href=\"#C0_0_1c0b1a92b7\" x=\"18.128656\" y=\"247.797836\" style=\"fill: #ffffff\"/>\n    </g>\n    <g clip-path=\"url(#pa42482f8c9)\">\n     <use xlink:href=\"#C0_0_1c0b1a92b7\" x=\"18.128656\" y=\"235.916844\" style=\"fill: #ffffff\"/>\n    </g>\n    <g clip-path=\"url(#pa42482f8c9)\">\n     <use xlink:href=\"#C0_0_1c0b1a92b7\" x=\"18.128656\" y=\"224.035853\" style=\"fill: #ffffff\"/>\n    </g>\n    <g clip-path=\"url(#pa42482f8c9)\">\n     <use xlink:href=\"#C0_0_1c0b1a92b7\" x=\"18.128656\" y=\"212.154861\" style=\"fill: #ffffff\"/>\n    </g>\n    <g clip-path=\"url(#pa42482f8c9)\">\n     <use xlink:href=\"#C0_0_1c0b1a92b7\" x=\"24.979565\" y=\"342.84577\" style=\"fill: #ffffff\"/>\n    </g>\n    <g clip-path=\"url(#pa42482f8c9)\">\n     <use xlink:href=\"#C0_0_1c0b1a92b7\" x=\"24.979565\" y=\"330.964778\" style=\"fill: #ffffff\"/>\n    </g>\n    <g clip-path=\"url(#pa42482f8c9)\">\n     <use xlink:href=\"#C0_0_1c0b1a92b7\" x=\"24.979565\" y=\"319.083786\" style=\"fill: #ffffff\"/>\n    </g>\n    <g clip-path=\"url(#pa42482f8c9)\">\n     <use xlink:href=\"#C0_0_1c0b1a92b7\" x=\"24.979565\" y=\"307.202795\" style=\"fill: #f2f2f2\"/>\n    </g>\n    <g clip-path=\"url(#pa42482f8c9)\">\n     <use xlink:href=\"#C0_0_1c0b1a92b7\" x=\"24.979565\" y=\"295.321803\" style=\"fill: #ffffff\"/>\n    </g>\n    <g clip-path=\"url(#pa42482f8c9)\">\n     <use xlink:href=\"#C0_0_1c0b1a92b7\" x=\"24.979565\" y=\"283.440811\" style=\"fill: #ffffff\"/>\n    </g>\n    <g clip-path=\"url(#pa42482f8c9)\">\n     <use xlink:href=\"#C0_0_1c0b1a92b7\" x=\"24.979565\" y=\"271.55982\" style=\"fill: #ffffff\"/>\n    </g>\n    <g clip-path=\"url(#pa42482f8c9)\">\n     <use xlink:href=\"#C0_0_1c0b1a92b7\" x=\"24.979565\" y=\"259.678828\" style=\"fill: #ffffff\"/>\n    </g>\n    <g clip-path=\"url(#pa42482f8c9)\">\n     <use xlink:href=\"#C0_0_1c0b1a92b7\" x=\"24.979565\" y=\"247.797836\" style=\"fill: #ffffff\"/>\n    </g>\n    <g clip-path=\"url(#pa42482f8c9)\">\n     <use xlink:href=\"#C0_0_1c0b1a92b7\" x=\"24.979565\" y=\"235.916844\" style=\"fill: #ffffff\"/>\n    </g>\n    <g clip-path=\"url(#pa42482f8c9)\">\n     <use xlink:href=\"#C0_0_1c0b1a92b7\" x=\"24.979565\" y=\"224.035853\" style=\"fill: #ffffff\"/>\n    </g>\n    <g clip-path=\"url(#pa42482f8c9)\">\n     <use xlink:href=\"#C0_0_1c0b1a92b7\" x=\"24.979565\" y=\"212.154861\" style=\"fill: #ffffff\"/>\n    </g>\n    <g clip-path=\"url(#pa42482f8c9)\">\n     <use xlink:href=\"#C0_0_1c0b1a92b7\" x=\"31.830474\" y=\"342.84577\" style=\"fill: #ffffff\"/>\n    </g>\n    <g clip-path=\"url(#pa42482f8c9)\">\n     <use xlink:href=\"#C0_0_1c0b1a92b7\" x=\"31.830474\" y=\"330.964778\" style=\"fill: #ffffff\"/>\n    </g>\n    <g clip-path=\"url(#pa42482f8c9)\">\n     <use xlink:href=\"#C0_0_1c0b1a92b7\" x=\"31.830474\" y=\"319.083786\" style=\"fill: #ffffff\"/>\n    </g>\n    <g clip-path=\"url(#pa42482f8c9)\">\n     <use xlink:href=\"#C0_0_1c0b1a92b7\" x=\"31.830474\" y=\"307.202795\" style=\"fill: #ffffff\"/>\n    </g>\n    <g clip-path=\"url(#pa42482f8c9)\">\n     <use xlink:href=\"#C0_0_1c0b1a92b7\" x=\"31.830474\" y=\"295.321803\" style=\"fill: #ffffff\"/>\n    </g>\n    <g clip-path=\"url(#pa42482f8c9)\">\n     <use xlink:href=\"#C0_0_1c0b1a92b7\" x=\"31.830474\" y=\"283.440811\" style=\"fill: #ffffff\"/>\n    </g>\n    <g clip-path=\"url(#pa42482f8c9)\">\n     <use xlink:href=\"#C0_0_1c0b1a92b7\" x=\"31.830474\" y=\"271.55982\" style=\"fill: #ffffff\"/>\n    </g>\n    <g clip-path=\"url(#pa42482f8c9)\">\n     <use xlink:href=\"#C0_0_1c0b1a92b7\" x=\"31.830474\" y=\"259.678828\" style=\"fill: #ffffff\"/>\n    </g>\n    <g clip-path=\"url(#pa42482f8c9)\">\n     <use xlink:href=\"#C0_0_1c0b1a92b7\" x=\"31.830474\" y=\"247.797836\" style=\"fill: #ffffff\"/>\n    </g>\n    <g clip-path=\"url(#pa42482f8c9)\">\n     <use xlink:href=\"#C0_0_1c0b1a92b7\" x=\"31.830474\" y=\"235.916844\" style=\"fill: #ffffff\"/>\n    </g>\n    <g clip-path=\"url(#pa42482f8c9)\">\n     <use xlink:href=\"#C0_0_1c0b1a92b7\" x=\"31.830474\" y=\"224.035853\" style=\"fill: #ffffff\"/>\n    </g>\n    <g clip-path=\"url(#pa42482f8c9)\">\n     <use xlink:href=\"#C0_0_1c0b1a92b7\" x=\"31.830474\" y=\"212.154861\" style=\"fill: #ffffff\"/>\n    </g>\n    <g clip-path=\"url(#pa42482f8c9)\">\n     <use xlink:href=\"#C0_0_1c0b1a92b7\" x=\"38.681384\" y=\"342.84577\" style=\"fill: #ffffff\"/>\n    </g>\n    <g clip-path=\"url(#pa42482f8c9)\">\n     <use xlink:href=\"#C0_0_1c0b1a92b7\" x=\"38.681384\" y=\"330.964778\" style=\"fill: #ffffff\"/>\n    </g>\n    <g clip-path=\"url(#pa42482f8c9)\">\n     <use xlink:href=\"#C0_0_1c0b1a92b7\" x=\"38.681384\" y=\"319.083786\" style=\"fill: #ffffff\"/>\n    </g>\n    <g clip-path=\"url(#pa42482f8c9)\">\n     <use xlink:href=\"#C0_0_1c0b1a92b7\" x=\"38.681384\" y=\"307.202795\" style=\"fill: #ffffff\"/>\n    </g>\n    <g clip-path=\"url(#pa42482f8c9)\">\n     <use xlink:href=\"#C0_0_1c0b1a92b7\" x=\"38.681384\" y=\"295.321803\" style=\"fill: #ffffff\"/>\n    </g>\n    <g clip-path=\"url(#pa42482f8c9)\">\n     <use xlink:href=\"#C0_0_1c0b1a92b7\" x=\"38.681384\" y=\"283.440811\" style=\"fill: #f8f8f8\"/>\n    </g>\n    <g clip-path=\"url(#pa42482f8c9)\">\n     <use xlink:href=\"#C0_0_1c0b1a92b7\" x=\"38.681384\" y=\"271.55982\" style=\"fill: #fbfbfb\"/>\n    </g>\n    <g clip-path=\"url(#pa42482f8c9)\">\n     <use xlink:href=\"#C0_0_1c0b1a92b7\" x=\"38.681384\" y=\"259.678828\" style=\"fill: #fcfcfc\"/>\n    </g>\n    <g clip-path=\"url(#pa42482f8c9)\">\n     <use xlink:href=\"#C0_0_1c0b1a92b7\" x=\"38.681384\" y=\"247.797836\" style=\"fill: #ffffff\"/>\n    </g>\n    <g clip-path=\"url(#pa42482f8c9)\">\n     <use xlink:href=\"#C0_0_1c0b1a92b7\" x=\"38.681384\" y=\"235.916844\" style=\"fill: #ffffff\"/>\n    </g>\n    <g clip-path=\"url(#pa42482f8c9)\">\n     <use xlink:href=\"#C0_0_1c0b1a92b7\" x=\"38.681384\" y=\"224.035853\" style=\"fill: #ffffff\"/>\n    </g>\n    <g clip-path=\"url(#pa42482f8c9)\">\n     <use xlink:href=\"#C0_0_1c0b1a92b7\" x=\"38.681384\" y=\"212.154861\" style=\"fill: #ffffff\"/>\n    </g>\n    <g clip-path=\"url(#pa42482f8c9)\">\n     <use xlink:href=\"#C0_0_1c0b1a92b7\" x=\"45.532293\" y=\"342.84577\" style=\"fill: #ffffff\"/>\n    </g>\n    <g clip-path=\"url(#pa42482f8c9)\">\n     <use xlink:href=\"#C0_0_1c0b1a92b7\" x=\"45.532293\" y=\"330.964778\" style=\"fill: #ffffff\"/>\n    </g>\n    <g clip-path=\"url(#pa42482f8c9)\">\n     <use xlink:href=\"#C0_0_1c0b1a92b7\" x=\"45.532293\" y=\"319.083786\" style=\"fill: #ffffff\"/>\n    </g>\n    <g clip-path=\"url(#pa42482f8c9)\">\n     <use xlink:href=\"#C0_0_1c0b1a92b7\" x=\"45.532293\" y=\"307.202795\" style=\"fill: #ffffff\"/>\n    </g>\n    <g clip-path=\"url(#pa42482f8c9)\">\n     <use xlink:href=\"#C0_0_1c0b1a92b7\" x=\"45.532293\" y=\"295.321803\" style=\"fill: #fefefe\"/>\n    </g>\n    <g clip-path=\"url(#pa42482f8c9)\">\n     <use xlink:href=\"#C0_0_1c0b1a92b7\" x=\"45.532293\" y=\"283.440811\" style=\"fill: #f2f2f2\"/>\n    </g>\n    <g clip-path=\"url(#pa42482f8c9)\">\n     <use xlink:href=\"#C0_0_1c0b1a92b7\" x=\"45.532293\" y=\"271.55982\" style=\"fill: #d9d9d9\"/>\n    </g>\n    <g clip-path=\"url(#pa42482f8c9)\">\n     <use xlink:href=\"#C0_0_1c0b1a92b7\" x=\"45.532293\" y=\"259.678828\" style=\"fill: #d6d6d6\"/>\n    </g>\n    <g clip-path=\"url(#pa42482f8c9)\">\n     <use xlink:href=\"#C0_0_1c0b1a92b7\" x=\"45.532293\" y=\"247.797836\" style=\"fill: #a3a3a3\"/>\n    </g>\n    <g clip-path=\"url(#pa42482f8c9)\">\n     <use xlink:href=\"#C0_0_1c0b1a92b7\" x=\"45.532293\" y=\"235.916844\" style=\"fill: #ffffff\"/>\n    </g>\n    <g clip-path=\"url(#pa42482f8c9)\">\n     <use xlink:href=\"#C0_0_1c0b1a92b7\" x=\"45.532293\" y=\"224.035853\" style=\"fill: #ffffff\"/>\n    </g>\n    <g clip-path=\"url(#pa42482f8c9)\">\n     <use xlink:href=\"#C0_0_1c0b1a92b7\" x=\"45.532293\" y=\"212.154861\" style=\"fill: #ffffff\"/>\n    </g>\n    <g clip-path=\"url(#pa42482f8c9)\">\n     <use xlink:href=\"#C0_0_1c0b1a92b7\" x=\"52.383202\" y=\"342.84577\" style=\"fill: #ffffff\"/>\n    </g>\n    <g clip-path=\"url(#pa42482f8c9)\">\n     <use xlink:href=\"#C0_0_1c0b1a92b7\" x=\"52.383202\" y=\"330.964778\" style=\"fill: #ffffff\"/>\n    </g>\n    <g clip-path=\"url(#pa42482f8c9)\">\n     <use xlink:href=\"#C0_0_1c0b1a92b7\" x=\"52.383202\" y=\"319.083786\" style=\"fill: #ffffff\"/>\n    </g>\n    <g clip-path=\"url(#pa42482f8c9)\">\n     <use xlink:href=\"#C0_0_1c0b1a92b7\" x=\"52.383202\" y=\"307.202795\" style=\"fill: #fefefe\"/>\n    </g>\n    <g clip-path=\"url(#pa42482f8c9)\">\n     <use xlink:href=\"#C0_0_1c0b1a92b7\" x=\"52.383202\" y=\"295.321803\" style=\"fill: #e8e8e8\"/>\n    </g>\n    <g clip-path=\"url(#pa42482f8c9)\">\n     <use xlink:href=\"#C0_0_1c0b1a92b7\" x=\"52.383202\" y=\"283.440811\" style=\"fill: #e1e1e1\"/>\n    </g>\n    <g clip-path=\"url(#pa42482f8c9)\">\n     <use xlink:href=\"#C0_0_1c0b1a92b7\" x=\"52.383202\" y=\"271.55982\" style=\"fill: #d6d6d6\"/>\n    </g>\n    <g clip-path=\"url(#pa42482f8c9)\">\n     <use xlink:href=\"#C0_0_1c0b1a92b7\" x=\"52.383202\" y=\"259.678828\" style=\"fill: #696969\"/>\n    </g>\n    <g clip-path=\"url(#pa42482f8c9)\">\n     <use xlink:href=\"#C0_0_1c0b1a92b7\" x=\"52.383202\" y=\"247.797836\" style=\"fill: #efefef\"/>\n    </g>\n    <g clip-path=\"url(#pa42482f8c9)\">\n     <use xlink:href=\"#C0_0_1c0b1a92b7\" x=\"52.383202\" y=\"235.916844\" style=\"fill: #ffffff\"/>\n    </g>\n    <g clip-path=\"url(#pa42482f8c9)\">\n     <use xlink:href=\"#C0_0_1c0b1a92b7\" x=\"52.383202\" y=\"224.035853\" style=\"fill: #ffffff\"/>\n    </g>\n    <g clip-path=\"url(#pa42482f8c9)\">\n     <use xlink:href=\"#C0_0_1c0b1a92b7\" x=\"52.383202\" y=\"212.154861\" style=\"fill: #ffffff\"/>\n    </g>\n    <g clip-path=\"url(#pa42482f8c9)\">\n     <use xlink:href=\"#C0_0_1c0b1a92b7\" x=\"59.234111\" y=\"342.84577\" style=\"fill: #ffffff\"/>\n    </g>\n    <g clip-path=\"url(#pa42482f8c9)\">\n     <use xlink:href=\"#C0_0_1c0b1a92b7\" x=\"59.234111\" y=\"330.964778\" style=\"fill: #ffffff\"/>\n    </g>\n    <g clip-path=\"url(#pa42482f8c9)\">\n     <use xlink:href=\"#C0_0_1c0b1a92b7\" x=\"59.234111\" y=\"319.083786\" style=\"fill: #ffffff\"/>\n    </g>\n    <g clip-path=\"url(#pa42482f8c9)\">\n     <use xlink:href=\"#C0_0_1c0b1a92b7\" x=\"59.234111\" y=\"307.202795\" style=\"fill: #fefefe\"/>\n    </g>\n    <g clip-path=\"url(#pa42482f8c9)\">\n     <use xlink:href=\"#C0_0_1c0b1a92b7\" x=\"59.234111\" y=\"295.321803\" style=\"fill: #949494\"/>\n    </g>\n    <g clip-path=\"url(#pa42482f8c9)\">\n     <use xlink:href=\"#C0_0_1c0b1a92b7\" x=\"59.234111\" y=\"283.440811\" style=\"fill: #bebebe\"/>\n    </g>\n    <g clip-path=\"url(#pa42482f8c9)\">\n     <use xlink:href=\"#C0_0_1c0b1a92b7\" x=\"59.234111\" y=\"271.55982\" style=\"fill: #e4e4e4\"/>\n    </g>\n    <g clip-path=\"url(#pa42482f8c9)\">\n     <use xlink:href=\"#C0_0_1c0b1a92b7\" x=\"59.234111\" y=\"259.678828\" style=\"fill: #eaeaea\"/>\n    </g>\n    <g clip-path=\"url(#pa42482f8c9)\">\n     <use xlink:href=\"#C0_0_1c0b1a92b7\" x=\"59.234111\" y=\"247.797836\" style=\"fill: #ffffff\"/>\n    </g>\n    <g clip-path=\"url(#pa42482f8c9)\">\n     <use xlink:href=\"#C0_0_1c0b1a92b7\" x=\"59.234111\" y=\"235.916844\" style=\"fill: #ffffff\"/>\n    </g>\n    <g clip-path=\"url(#pa42482f8c9)\">\n     <use xlink:href=\"#C0_0_1c0b1a92b7\" x=\"59.234111\" y=\"224.035853\" style=\"fill: #ffffff\"/>\n    </g>\n    <g clip-path=\"url(#pa42482f8c9)\">\n     <use xlink:href=\"#C0_0_1c0b1a92b7\" x=\"59.234111\" y=\"212.154861\" style=\"fill: #ffffff\"/>\n    </g>\n    <g clip-path=\"url(#pa42482f8c9)\">\n     <use xlink:href=\"#C0_0_1c0b1a92b7\" x=\"66.08502\" y=\"342.84577\" style=\"fill: #ffffff\"/>\n    </g>\n    <g clip-path=\"url(#pa42482f8c9)\">\n     <use xlink:href=\"#C0_0_1c0b1a92b7\" x=\"66.08502\" y=\"330.964778\" style=\"fill: #ffffff\"/>\n    </g>\n    <g clip-path=\"url(#pa42482f8c9)\">\n     <use xlink:href=\"#C0_0_1c0b1a92b7\" x=\"66.08502\" y=\"319.083786\" style=\"fill: #ffffff\"/>\n    </g>\n    <g clip-path=\"url(#pa42482f8c9)\">\n     <use xlink:href=\"#C0_0_1c0b1a92b7\" x=\"66.08502\" y=\"307.202795\" style=\"fill: #eaeaea\"/>\n    </g>\n    <g clip-path=\"url(#pa42482f8c9)\">\n     <use xlink:href=\"#C0_0_1c0b1a92b7\" x=\"66.08502\" y=\"295.321803\" style=\"fill: #eaeaea\"/>\n    </g>\n    <g clip-path=\"url(#pa42482f8c9)\">\n     <use xlink:href=\"#C0_0_1c0b1a92b7\" x=\"66.08502\" y=\"283.440811\" style=\"fill: #bebebe\"/>\n    </g>\n    <g clip-path=\"url(#pa42482f8c9)\">\n     <use xlink:href=\"#C0_0_1c0b1a92b7\" x=\"66.08502\" y=\"271.55982\" style=\"fill: #bababa\"/>\n    </g>\n    <g clip-path=\"url(#pa42482f8c9)\">\n     <use xlink:href=\"#C0_0_1c0b1a92b7\" x=\"66.08502\" y=\"259.678828\" style=\"fill: #b3b3b3\"/>\n    </g>\n    <g clip-path=\"url(#pa42482f8c9)\">\n     <use xlink:href=\"#C0_0_1c0b1a92b7\" x=\"66.08502\" y=\"247.797836\" style=\"fill: #ffffff\"/>\n    </g>\n    <g clip-path=\"url(#pa42482f8c9)\">\n     <use xlink:href=\"#C0_0_1c0b1a92b7\" x=\"66.08502\" y=\"235.916844\" style=\"fill: #ffffff\"/>\n    </g>\n    <g clip-path=\"url(#pa42482f8c9)\">\n     <use xlink:href=\"#C0_0_1c0b1a92b7\" x=\"66.08502\" y=\"224.035853\" style=\"fill: #ffffff\"/>\n    </g>\n    <g clip-path=\"url(#pa42482f8c9)\">\n     <use xlink:href=\"#C0_0_1c0b1a92b7\" x=\"66.08502\" y=\"212.154861\" style=\"fill: #ffffff\"/>\n    </g>\n    <g clip-path=\"url(#pa42482f8c9)\">\n     <use xlink:href=\"#C0_0_1c0b1a92b7\" x=\"72.935929\" y=\"342.84577\" style=\"fill: #ffffff\"/>\n    </g>\n    <g clip-path=\"url(#pa42482f8c9)\">\n     <use xlink:href=\"#C0_0_1c0b1a92b7\" x=\"72.935929\" y=\"330.964778\" style=\"fill: #ffffff\"/>\n    </g>\n    <g clip-path=\"url(#pa42482f8c9)\">\n     <use xlink:href=\"#C0_0_1c0b1a92b7\" x=\"72.935929\" y=\"319.083786\" style=\"fill: #ffffff\"/>\n    </g>\n    <g clip-path=\"url(#pa42482f8c9)\">\n     <use xlink:href=\"#C0_0_1c0b1a92b7\" x=\"72.935929\" y=\"307.202795\" style=\"fill: #a7a7a7\"/>\n    </g>\n    <g clip-path=\"url(#pa42482f8c9)\">\n     <use xlink:href=\"#C0_0_1c0b1a92b7\" x=\"72.935929\" y=\"295.321803\" style=\"fill: #d6d6d6\"/>\n    </g>\n    <g clip-path=\"url(#pa42482f8c9)\">\n     <use xlink:href=\"#C0_0_1c0b1a92b7\" x=\"72.935929\" y=\"283.440811\" style=\"fill: #e8e8e8\"/>\n    </g>\n    <g clip-path=\"url(#pa42482f8c9)\">\n     <use xlink:href=\"#C0_0_1c0b1a92b7\" x=\"72.935929\" y=\"271.55982\" style=\"fill: #dddddd\"/>\n    </g>\n    <g clip-path=\"url(#pa42482f8c9)\">\n     <use xlink:href=\"#C0_0_1c0b1a92b7\" x=\"72.935929\" y=\"259.678828\" style=\"fill: #afafaf\"/>\n    </g>\n    <g clip-path=\"url(#pa42482f8c9)\">\n     <use xlink:href=\"#C0_0_1c0b1a92b7\" x=\"72.935929\" y=\"247.797836\" style=\"fill: #ffffff\"/>\n    </g>\n    <g clip-path=\"url(#pa42482f8c9)\">\n     <use xlink:href=\"#C0_0_1c0b1a92b7\" x=\"72.935929\" y=\"235.916844\" style=\"fill: #ffffff\"/>\n    </g>\n    <g clip-path=\"url(#pa42482f8c9)\">\n     <use xlink:href=\"#C0_0_1c0b1a92b7\" x=\"72.935929\" y=\"224.035853\" style=\"fill: #ffffff\"/>\n    </g>\n    <g clip-path=\"url(#pa42482f8c9)\">\n     <use xlink:href=\"#C0_0_1c0b1a92b7\" x=\"72.935929\" y=\"212.154861\" style=\"fill: #ffffff\"/>\n    </g>\n    <g clip-path=\"url(#pa42482f8c9)\">\n     <use xlink:href=\"#C0_0_1c0b1a92b7\" x=\"79.786838\" y=\"342.84577\" style=\"fill: #ffffff\"/>\n    </g>\n    <g clip-path=\"url(#pa42482f8c9)\">\n     <use xlink:href=\"#C0_0_1c0b1a92b7\" x=\"79.786838\" y=\"330.964778\" style=\"fill: #ffffff\"/>\n    </g>\n    <g clip-path=\"url(#pa42482f8c9)\">\n     <use xlink:href=\"#C0_0_1c0b1a92b7\" x=\"79.786838\" y=\"319.083786\" style=\"fill: #ffffff\"/>\n    </g>\n    <g clip-path=\"url(#pa42482f8c9)\">\n     <use xlink:href=\"#C0_0_1c0b1a92b7\" x=\"79.786838\" y=\"307.202795\" style=\"fill: #ffffff\"/>\n    </g>\n    <g clip-path=\"url(#pa42482f8c9)\">\n     <use xlink:href=\"#C0_0_1c0b1a92b7\" x=\"79.786838\" y=\"295.321803\" style=\"fill: #dfdfdf\"/>\n    </g>\n    <g clip-path=\"url(#pa42482f8c9)\">\n     <use xlink:href=\"#C0_0_1c0b1a92b7\" x=\"79.786838\" y=\"283.440811\" style=\"fill: #dbdbdb\"/>\n    </g>\n    <g clip-path=\"url(#pa42482f8c9)\">\n     <use xlink:href=\"#C0_0_1c0b1a92b7\" x=\"79.786838\" y=\"271.55982\" style=\"fill: #fbfbfb\"/>\n    </g>\n    <g clip-path=\"url(#pa42482f8c9)\">\n     <use xlink:href=\"#C0_0_1c0b1a92b7\" x=\"79.786838\" y=\"259.678828\" style=\"fill: #f8f8f8\"/>\n    </g>\n    <g clip-path=\"url(#pa42482f8c9)\">\n     <use xlink:href=\"#C0_0_1c0b1a92b7\" x=\"79.786838\" y=\"247.797836\" style=\"fill: #ffffff\"/>\n    </g>\n    <g clip-path=\"url(#pa42482f8c9)\">\n     <use xlink:href=\"#C0_0_1c0b1a92b7\" x=\"79.786838\" y=\"235.916844\" style=\"fill: #ffffff\"/>\n    </g>\n    <g clip-path=\"url(#pa42482f8c9)\">\n     <use xlink:href=\"#C0_0_1c0b1a92b7\" x=\"79.786838\" y=\"224.035853\" style=\"fill: #ffffff\"/>\n    </g>\n    <g clip-path=\"url(#pa42482f8c9)\">\n     <use xlink:href=\"#C0_0_1c0b1a92b7\" x=\"79.786838\" y=\"212.154861\" style=\"fill: #ffffff\"/>\n    </g>\n    <g clip-path=\"url(#pa42482f8c9)\">\n     <use xlink:href=\"#C0_0_1c0b1a92b7\" x=\"-53.805889\" y=\"336.905274\" style=\"fill: #ffffff\"/>\n    </g>\n    <g clip-path=\"url(#pa42482f8c9)\">\n     <use xlink:href=\"#C0_0_1c0b1a92b7\" x=\"-53.805889\" y=\"325.024282\" style=\"fill: #ffffff\"/>\n    </g>\n    <g clip-path=\"url(#pa42482f8c9)\">\n     <use xlink:href=\"#C0_0_1c0b1a92b7\" x=\"-53.805889\" y=\"313.143291\" style=\"fill: #ffffff\"/>\n    </g>\n    <g clip-path=\"url(#pa42482f8c9)\">\n     <use xlink:href=\"#C0_0_1c0b1a92b7\" x=\"-53.805889\" y=\"301.262299\" style=\"fill: #efefef\"/>\n    </g>\n    <g clip-path=\"url(#pa42482f8c9)\">\n     <use xlink:href=\"#C0_0_1c0b1a92b7\" x=\"-53.805889\" y=\"289.381307\" style=\"fill: #d0d0d0\"/>\n    </g>\n    <g clip-path=\"url(#pa42482f8c9)\">\n     <use xlink:href=\"#C0_0_1c0b1a92b7\" x=\"-53.805889\" y=\"277.500315\" style=\"fill: #7f7f7f\"/>\n    </g>\n    <g clip-path=\"url(#pa42482f8c9)\">\n     <use xlink:href=\"#C0_0_1c0b1a92b7\" x=\"-53.805889\" y=\"265.619324\" style=\"fill: #dfdfdf\"/>\n    </g>\n    <g clip-path=\"url(#pa42482f8c9)\">\n     <use xlink:href=\"#C0_0_1c0b1a92b7\" x=\"-53.805889\" y=\"253.738332\" style=\"fill: #ffffff\"/>\n    </g>\n    <g clip-path=\"url(#pa42482f8c9)\">\n     <use xlink:href=\"#C0_0_1c0b1a92b7\" x=\"-53.805889\" y=\"241.85734\" style=\"fill: #ffffff\"/>\n    </g>\n    <g clip-path=\"url(#pa42482f8c9)\">\n     <use xlink:href=\"#C0_0_1c0b1a92b7\" x=\"-53.805889\" y=\"229.976348\" style=\"fill: #ffffff\"/>\n    </g>\n    <g clip-path=\"url(#pa42482f8c9)\">\n     <use xlink:href=\"#C0_0_1c0b1a92b7\" x=\"-53.805889\" y=\"218.095357\" style=\"fill: #ffffff\"/>\n    </g>\n    <g clip-path=\"url(#pa42482f8c9)\">\n     <use xlink:href=\"#C0_0_1c0b1a92b7\" x=\"-46.95498\" y=\"336.905274\" style=\"fill: #ffffff\"/>\n    </g>\n    <g clip-path=\"url(#pa42482f8c9)\">\n     <use xlink:href=\"#C0_0_1c0b1a92b7\" x=\"-46.95498\" y=\"325.024282\" style=\"fill: #ffffff\"/>\n    </g>\n    <g clip-path=\"url(#pa42482f8c9)\">\n     <use xlink:href=\"#C0_0_1c0b1a92b7\" x=\"-46.95498\" y=\"313.143291\" style=\"fill: #efefef\"/>\n    </g>\n    <g clip-path=\"url(#pa42482f8c9)\">\n     <use xlink:href=\"#C0_0_1c0b1a92b7\" x=\"-46.95498\" y=\"301.262299\" style=\"fill: #bebebe\"/>\n    </g>\n    <g clip-path=\"url(#pa42482f8c9)\">\n     <use xlink:href=\"#C0_0_1c0b1a92b7\" x=\"-46.95498\" y=\"289.381307\" style=\"fill: #727272\"/>\n    </g>\n    <g clip-path=\"url(#pa42482f8c9)\">\n     <use xlink:href=\"#C0_0_1c0b1a92b7\" x=\"-46.95498\" y=\"277.500315\" style=\"fill: #232323\"/>\n    </g>\n    <g clip-path=\"url(#pa42482f8c9)\">\n     <use xlink:href=\"#C0_0_1c0b1a92b7\" x=\"-46.95498\" y=\"265.619324\" style=\"fill: #272727\"/>\n    </g>\n    <g clip-path=\"url(#pa42482f8c9)\">\n     <use xlink:href=\"#C0_0_1c0b1a92b7\" x=\"-46.95498\" y=\"253.738332\" style=\"fill: #e4e4e4\"/>\n    </g>\n    <g clip-path=\"url(#pa42482f8c9)\">\n     <use xlink:href=\"#C0_0_1c0b1a92b7\" x=\"-46.95498\" y=\"241.85734\" style=\"fill: #ffffff\"/>\n    </g>\n    <g clip-path=\"url(#pa42482f8c9)\">\n     <use xlink:href=\"#C0_0_1c0b1a92b7\" x=\"-46.95498\" y=\"229.976348\" style=\"fill: #ffffff\"/>\n    </g>\n    <g clip-path=\"url(#pa42482f8c9)\">\n     <use xlink:href=\"#C0_0_1c0b1a92b7\" x=\"-46.95498\" y=\"218.095357\" style=\"fill: #ffffff\"/>\n    </g>\n    <g clip-path=\"url(#pa42482f8c9)\">\n     <use xlink:href=\"#C0_0_1c0b1a92b7\" x=\"-40.104071\" y=\"336.905274\" style=\"fill: #ffffff\"/>\n    </g>\n    <g clip-path=\"url(#pa42482f8c9)\">\n     <use xlink:href=\"#C0_0_1c0b1a92b7\" x=\"-40.104071\" y=\"325.024282\" style=\"fill: #f1f1f1\"/>\n    </g>\n    <g clip-path=\"url(#pa42482f8c9)\">\n     <use xlink:href=\"#C0_0_1c0b1a92b7\" x=\"-40.104071\" y=\"313.143291\" style=\"fill: #d6d6d6\"/>\n    </g>\n    <g clip-path=\"url(#pa42482f8c9)\">\n     <use xlink:href=\"#C0_0_1c0b1a92b7\" x=\"-40.104071\" y=\"301.262299\" style=\"fill: #aaaaaa\"/>\n    </g>\n    <g clip-path=\"url(#pa42482f8c9)\">\n     <use xlink:href=\"#C0_0_1c0b1a92b7\" x=\"-40.104071\" y=\"289.381307\" style=\"fill: #9c9c9c\"/>\n    </g>\n    <g clip-path=\"url(#pa42482f8c9)\">\n     <use xlink:href=\"#C0_0_1c0b1a92b7\" x=\"-40.104071\" y=\"277.500315\" style=\"fill: #797979\"/>\n    </g>\n    <g clip-path=\"url(#pa42482f8c9)\">\n     <use xlink:href=\"#C0_0_1c0b1a92b7\" x=\"-40.104071\" y=\"265.619324\" style=\"fill: #696969\"/>\n    </g>\n    <g clip-path=\"url(#pa42482f8c9)\">\n     <use xlink:href=\"#C0_0_1c0b1a92b7\" x=\"-40.104071\" y=\"253.738332\" style=\"fill: #d6d6d6\"/>\n    </g>\n    <g clip-path=\"url(#pa42482f8c9)\">\n     <use xlink:href=\"#C0_0_1c0b1a92b7\" x=\"-40.104071\" y=\"241.85734\" style=\"fill: #ffffff\"/>\n    </g>\n    <g clip-path=\"url(#pa42482f8c9)\">\n     <use xlink:href=\"#C0_0_1c0b1a92b7\" x=\"-40.104071\" y=\"229.976348\" style=\"fill: #f8f8f8\"/>\n    </g>\n    <g clip-path=\"url(#pa42482f8c9)\">\n     <use xlink:href=\"#C0_0_1c0b1a92b7\" x=\"-40.104071\" y=\"218.095357\" style=\"fill: #ffffff\"/>\n    </g>\n    <g clip-path=\"url(#pa42482f8c9)\">\n     <use xlink:href=\"#C0_0_1c0b1a92b7\" x=\"-33.253162\" y=\"336.905274\" style=\"fill: #ffffff\"/>\n    </g>\n    <g clip-path=\"url(#pa42482f8c9)\">\n     <use xlink:href=\"#C0_0_1c0b1a92b7\" x=\"-33.253162\" y=\"325.024282\" style=\"fill: #fefefe\"/>\n    </g>\n    <g clip-path=\"url(#pa42482f8c9)\">\n     <use xlink:href=\"#C0_0_1c0b1a92b7\" x=\"-33.253162\" y=\"313.143291\" style=\"fill: #efefef\"/>\n    </g>\n    <g clip-path=\"url(#pa42482f8c9)\">\n     <use xlink:href=\"#C0_0_1c0b1a92b7\" x=\"-33.253162\" y=\"301.262299\" style=\"fill: #f4f4f4\"/>\n    </g>\n    <g clip-path=\"url(#pa42482f8c9)\">\n     <use xlink:href=\"#C0_0_1c0b1a92b7\" x=\"-33.253162\" y=\"289.381307\" style=\"fill: #bababa\"/>\n    </g>\n    <g clip-path=\"url(#pa42482f8c9)\">\n     <use xlink:href=\"#C0_0_1c0b1a92b7\" x=\"-33.253162\" y=\"277.500315\" style=\"fill: #bababa\"/>\n    </g>\n    <g clip-path=\"url(#pa42482f8c9)\">\n     <use xlink:href=\"#C0_0_1c0b1a92b7\" x=\"-33.253162\" y=\"265.619324\" style=\"fill: #585858\"/>\n    </g>\n    <g clip-path=\"url(#pa42482f8c9)\">\n     <use xlink:href=\"#C0_0_1c0b1a92b7\" x=\"-33.253162\" y=\"253.738332\" style=\"fill: #d4d4d4\"/>\n    </g>\n    <g clip-path=\"url(#pa42482f8c9)\">\n     <use xlink:href=\"#C0_0_1c0b1a92b7\" x=\"-33.253162\" y=\"241.85734\" style=\"fill: #fefefe\"/>\n    </g>\n    <g clip-path=\"url(#pa42482f8c9)\">\n     <use xlink:href=\"#C0_0_1c0b1a92b7\" x=\"-33.253162\" y=\"229.976348\" style=\"fill: #e1e1e1\"/>\n    </g>\n    <g clip-path=\"url(#pa42482f8c9)\">\n     <use xlink:href=\"#C0_0_1c0b1a92b7\" x=\"-33.253162\" y=\"218.095357\" style=\"fill: #fefefe\"/>\n    </g>\n    <g clip-path=\"url(#pa42482f8c9)\">\n     <use xlink:href=\"#C0_0_1c0b1a92b7\" x=\"-26.402253\" y=\"336.905274\" style=\"fill: #ffffff\"/>\n    </g>\n    <g clip-path=\"url(#pa42482f8c9)\">\n     <use xlink:href=\"#C0_0_1c0b1a92b7\" x=\"-26.402253\" y=\"325.024282\" style=\"fill: #fcfcfc\"/>\n    </g>\n    <g clip-path=\"url(#pa42482f8c9)\">\n     <use xlink:href=\"#C0_0_1c0b1a92b7\" x=\"-26.402253\" y=\"313.143291\" style=\"fill: #f8f8f8\"/>\n    </g>\n    <g clip-path=\"url(#pa42482f8c9)\">\n     <use xlink:href=\"#C0_0_1c0b1a92b7\" x=\"-26.402253\" y=\"301.262299\" style=\"fill: #e4e4e4\"/>\n    </g>\n    <g clip-path=\"url(#pa42482f8c9)\">\n     <use xlink:href=\"#C0_0_1c0b1a92b7\" x=\"-26.402253\" y=\"289.381307\" style=\"fill: #c3c3c3\"/>\n    </g>\n    <g clip-path=\"url(#pa42482f8c9)\">\n     <use xlink:href=\"#C0_0_1c0b1a92b7\" x=\"-26.402253\" y=\"277.500315\" style=\"fill: #cdcdcd\"/>\n    </g>\n    <g clip-path=\"url(#pa42482f8c9)\">\n     <use xlink:href=\"#C0_0_1c0b1a92b7\" x=\"-26.402253\" y=\"265.619324\" style=\"fill: #919191\"/>\n    </g>\n    <g clip-path=\"url(#pa42482f8c9)\">\n     <use xlink:href=\"#C0_0_1c0b1a92b7\" x=\"-26.402253\" y=\"253.738332\" style=\"fill: #dddddd\"/>\n    </g>\n    <g clip-path=\"url(#pa42482f8c9)\">\n     <use xlink:href=\"#C0_0_1c0b1a92b7\" x=\"-26.402253\" y=\"241.85734\" style=\"fill: #f1f1f1\"/>\n    </g>\n    <g clip-path=\"url(#pa42482f8c9)\">\n     <use xlink:href=\"#C0_0_1c0b1a92b7\" x=\"-26.402253\" y=\"229.976348\" style=\"fill: #c8c8c8\"/>\n    </g>\n    <g clip-path=\"url(#pa42482f8c9)\">\n     <use xlink:href=\"#C0_0_1c0b1a92b7\" x=\"-26.402253\" y=\"218.095357\" style=\"fill: #dbdbdb\"/>\n    </g>\n    <g clip-path=\"url(#pa42482f8c9)\">\n     <use xlink:href=\"#C0_0_1c0b1a92b7\" x=\"-19.551344\" y=\"336.905274\" style=\"fill: #f7f7f7\"/>\n    </g>\n    <g clip-path=\"url(#pa42482f8c9)\">\n     <use xlink:href=\"#C0_0_1c0b1a92b7\" x=\"-19.551344\" y=\"325.024282\" style=\"fill: #f5f5f5\"/>\n    </g>\n    <g clip-path=\"url(#pa42482f8c9)\">\n     <use xlink:href=\"#C0_0_1c0b1a92b7\" x=\"-19.551344\" y=\"313.143291\" style=\"fill: #c3c3c3\"/>\n    </g>\n    <g clip-path=\"url(#pa42482f8c9)\">\n     <use xlink:href=\"#C0_0_1c0b1a92b7\" x=\"-19.551344\" y=\"301.262299\" style=\"fill: #dbdbdb\"/>\n    </g>\n    <g clip-path=\"url(#pa42482f8c9)\">\n     <use xlink:href=\"#C0_0_1c0b1a92b7\" x=\"-19.551344\" y=\"289.381307\" style=\"fill: #d0d0d0\"/>\n    </g>\n    <g clip-path=\"url(#pa42482f8c9)\">\n     <use xlink:href=\"#C0_0_1c0b1a92b7\" x=\"-19.551344\" y=\"277.500315\" style=\"fill: #949494\"/>\n    </g>\n    <g clip-path=\"url(#pa42482f8c9)\">\n     <use xlink:href=\"#C0_0_1c0b1a92b7\" x=\"-19.551344\" y=\"265.619324\" style=\"fill: #949494\"/>\n    </g>\n    <g clip-path=\"url(#pa42482f8c9)\">\n     <use xlink:href=\"#C0_0_1c0b1a92b7\" x=\"-19.551344\" y=\"253.738332\" style=\"fill: #f2f2f2\"/>\n    </g>\n    <g clip-path=\"url(#pa42482f8c9)\">\n     <use xlink:href=\"#C0_0_1c0b1a92b7\" x=\"-19.551344\" y=\"241.85734\" style=\"fill: #ececec\"/>\n    </g>\n    <g clip-path=\"url(#pa42482f8c9)\">\n     <use xlink:href=\"#C0_0_1c0b1a92b7\" x=\"-19.551344\" y=\"229.976348\" style=\"fill: #8e8e8e\"/>\n    </g>\n    <g clip-path=\"url(#pa42482f8c9)\">\n     <use xlink:href=\"#C0_0_1c0b1a92b7\" x=\"-19.551344\" y=\"218.095357\" style=\"fill: #c8c8c8\"/>\n    </g>\n    <g clip-path=\"url(#pa42482f8c9)\">\n     <use xlink:href=\"#C0_0_1c0b1a92b7\" x=\"-12.700435\" y=\"336.905274\" style=\"fill: #ffffff\"/>\n    </g>\n    <g clip-path=\"url(#pa42482f8c9)\">\n     <use xlink:href=\"#C0_0_1c0b1a92b7\" x=\"-12.700435\" y=\"325.024282\" style=\"fill: #fcfcfc\"/>\n    </g>\n    <g clip-path=\"url(#pa42482f8c9)\">\n     <use xlink:href=\"#C0_0_1c0b1a92b7\" x=\"-12.700435\" y=\"313.143291\" style=\"fill: #f9f9f9\"/>\n    </g>\n    <g clip-path=\"url(#pa42482f8c9)\">\n     <use xlink:href=\"#C0_0_1c0b1a92b7\" x=\"-12.700435\" y=\"301.262299\" style=\"fill: #f1f1f1\"/>\n    </g>\n    <g clip-path=\"url(#pa42482f8c9)\">\n     <use xlink:href=\"#C0_0_1c0b1a92b7\" x=\"-12.700435\" y=\"289.381307\" style=\"fill: #dfdfdf\"/>\n    </g>\n    <g clip-path=\"url(#pa42482f8c9)\">\n     <use xlink:href=\"#C0_0_1c0b1a92b7\" x=\"-12.700435\" y=\"277.500315\" style=\"fill: #d9d9d9\"/>\n    </g>\n    <g clip-path=\"url(#pa42482f8c9)\">\n     <use xlink:href=\"#C0_0_1c0b1a92b7\" x=\"-12.700435\" y=\"265.619324\" style=\"fill: #a7a7a7\"/>\n    </g>\n    <g clip-path=\"url(#pa42482f8c9)\">\n     <use xlink:href=\"#C0_0_1c0b1a92b7\" x=\"-12.700435\" y=\"253.738332\" style=\"fill: #ececec\"/>\n    </g>\n    <g clip-path=\"url(#pa42482f8c9)\">\n     <use xlink:href=\"#C0_0_1c0b1a92b7\" x=\"-12.700435\" y=\"241.85734\" style=\"fill: #cbcbcb\"/>\n    </g>\n    <g clip-path=\"url(#pa42482f8c9)\">\n     <use xlink:href=\"#C0_0_1c0b1a92b7\" x=\"-12.700435\" y=\"229.976348\" style=\"fill: #8a8a8a\"/>\n    </g>\n    <g clip-path=\"url(#pa42482f8c9)\">\n     <use xlink:href=\"#C0_0_1c0b1a92b7\" x=\"-12.700435\" y=\"218.095357\" style=\"fill: #f2f2f2\"/>\n    </g>\n    <g clip-path=\"url(#pa42482f8c9)\">\n     <use xlink:href=\"#C0_0_1c0b1a92b7\" x=\"-5.849526\" y=\"336.905274\" style=\"fill: #fcfcfc\"/>\n    </g>\n    <g clip-path=\"url(#pa42482f8c9)\">\n     <use xlink:href=\"#C0_0_1c0b1a92b7\" x=\"-5.849526\" y=\"325.024282\" style=\"fill: #ffffff\"/>\n    </g>\n    <g clip-path=\"url(#pa42482f8c9)\">\n     <use xlink:href=\"#C0_0_1c0b1a92b7\" x=\"-5.849526\" y=\"313.143291\" style=\"fill: #f9f9f9\"/>\n    </g>\n    <g clip-path=\"url(#pa42482f8c9)\">\n     <use xlink:href=\"#C0_0_1c0b1a92b7\" x=\"-5.849526\" y=\"301.262299\" style=\"fill: #ececec\"/>\n    </g>\n    <g clip-path=\"url(#pa42482f8c9)\">\n     <use xlink:href=\"#C0_0_1c0b1a92b7\" x=\"-5.849526\" y=\"289.381307\" style=\"fill: #e4e4e4\"/>\n    </g>\n    <g clip-path=\"url(#pa42482f8c9)\">\n     <use xlink:href=\"#C0_0_1c0b1a92b7\" x=\"-5.849526\" y=\"277.500315\" style=\"fill: #dbdbdb\"/>\n    </g>\n    <g clip-path=\"url(#pa42482f8c9)\">\n     <use xlink:href=\"#C0_0_1c0b1a92b7\" x=\"-5.849526\" y=\"265.619324\" style=\"fill: #aaaaaa\"/>\n    </g>\n    <g clip-path=\"url(#pa42482f8c9)\">\n     <use xlink:href=\"#C0_0_1c0b1a92b7\" x=\"-5.849526\" y=\"253.738332\" style=\"fill: #f5f5f5\"/>\n    </g>\n    <g clip-path=\"url(#pa42482f8c9)\">\n     <use xlink:href=\"#C0_0_1c0b1a92b7\" x=\"-5.849526\" y=\"241.85734\" style=\"fill: #e1e1e1\"/>\n    </g>\n    <g clip-path=\"url(#pa42482f8c9)\">\n     <use xlink:href=\"#C0_0_1c0b1a92b7\" x=\"-5.849526\" y=\"229.976348\" style=\"fill: #d9d9d9\"/>\n    </g>\n    <g clip-path=\"url(#pa42482f8c9)\">\n     <use xlink:href=\"#C0_0_1c0b1a92b7\" x=\"-5.849526\" y=\"218.095357\" style=\"fill: #ffffff\"/>\n    </g>\n    <g clip-path=\"url(#pa42482f8c9)\">\n     <use xlink:href=\"#C0_0_1c0b1a92b7\" x=\"1.001384\" y=\"336.905274\" style=\"fill: #d6d6d6\"/>\n    </g>\n    <g clip-path=\"url(#pa42482f8c9)\">\n     <use xlink:href=\"#C0_0_1c0b1a92b7\" x=\"1.001384\" y=\"325.024282\" style=\"fill: #f9f9f9\"/>\n    </g>\n    <g clip-path=\"url(#pa42482f8c9)\">\n     <use xlink:href=\"#C0_0_1c0b1a92b7\" x=\"1.001384\" y=\"313.143291\" style=\"fill: #fcfcfc\"/>\n    </g>\n    <g clip-path=\"url(#pa42482f8c9)\">\n     <use xlink:href=\"#C0_0_1c0b1a92b7\" x=\"1.001384\" y=\"301.262299\" style=\"fill: #dbdbdb\"/>\n    </g>\n    <g clip-path=\"url(#pa42482f8c9)\">\n     <use xlink:href=\"#C0_0_1c0b1a92b7\" x=\"1.001384\" y=\"289.381307\" style=\"fill: #d9d9d9\"/>\n    </g>\n    <g clip-path=\"url(#pa42482f8c9)\">\n     <use xlink:href=\"#C0_0_1c0b1a92b7\" x=\"1.001384\" y=\"277.500315\" style=\"fill: #f1f1f1\"/>\n    </g>\n    <g clip-path=\"url(#pa42482f8c9)\">\n     <use xlink:href=\"#C0_0_1c0b1a92b7\" x=\"1.001384\" y=\"265.619324\" style=\"fill: #d9d9d9\"/>\n    </g>\n    <g clip-path=\"url(#pa42482f8c9)\">\n     <use xlink:href=\"#C0_0_1c0b1a92b7\" x=\"1.001384\" y=\"253.738332\" style=\"fill: #f5f5f5\"/>\n    </g>\n    <g clip-path=\"url(#pa42482f8c9)\">\n     <use xlink:href=\"#C0_0_1c0b1a92b7\" x=\"1.001384\" y=\"241.85734\" style=\"fill: #ffffff\"/>\n    </g>\n    <g clip-path=\"url(#pa42482f8c9)\">\n     <use xlink:href=\"#C0_0_1c0b1a92b7\" x=\"1.001384\" y=\"229.976348\" style=\"fill: #ffffff\"/>\n    </g>\n    <g clip-path=\"url(#pa42482f8c9)\">\n     <use xlink:href=\"#C0_0_1c0b1a92b7\" x=\"1.001384\" y=\"218.095357\" style=\"fill: #ffffff\"/>\n    </g>\n    <g clip-path=\"url(#pa42482f8c9)\">\n     <use xlink:href=\"#C0_0_1c0b1a92b7\" x=\"7.852293\" y=\"336.905274\" style=\"fill: #a7a7a7\"/>\n    </g>\n    <g clip-path=\"url(#pa42482f8c9)\">\n     <use xlink:href=\"#C0_0_1c0b1a92b7\" x=\"7.852293\" y=\"325.024282\" style=\"fill: #ececec\"/>\n    </g>\n    <g clip-path=\"url(#pa42482f8c9)\">\n     <use xlink:href=\"#C0_0_1c0b1a92b7\" x=\"7.852293\" y=\"313.143291\" style=\"fill: #ffffff\"/>\n    </g>\n    <g clip-path=\"url(#pa42482f8c9)\">\n     <use xlink:href=\"#C0_0_1c0b1a92b7\" x=\"7.852293\" y=\"301.262299\" style=\"fill: #e8e8e8\"/>\n    </g>\n    <g clip-path=\"url(#pa42482f8c9)\">\n     <use xlink:href=\"#C0_0_1c0b1a92b7\" x=\"7.852293\" y=\"289.381307\" style=\"fill: #efefef\"/>\n    </g>\n    <g clip-path=\"url(#pa42482f8c9)\">\n     <use xlink:href=\"#C0_0_1c0b1a92b7\" x=\"7.852293\" y=\"277.500315\" style=\"fill: #f8f8f8\"/>\n    </g>\n    <g clip-path=\"url(#pa42482f8c9)\">\n     <use xlink:href=\"#C0_0_1c0b1a92b7\" x=\"7.852293\" y=\"265.619324\" style=\"fill: #f9f9f9\"/>\n    </g>\n    <g clip-path=\"url(#pa42482f8c9)\">\n     <use xlink:href=\"#C0_0_1c0b1a92b7\" x=\"7.852293\" y=\"253.738332\" style=\"fill: #ffffff\"/>\n    </g>\n    <g clip-path=\"url(#pa42482f8c9)\">\n     <use xlink:href=\"#C0_0_1c0b1a92b7\" x=\"7.852293\" y=\"241.85734\" style=\"fill: #ffffff\"/>\n    </g>\n    <g clip-path=\"url(#pa42482f8c9)\">\n     <use xlink:href=\"#C0_0_1c0b1a92b7\" x=\"7.852293\" y=\"229.976348\" style=\"fill: #ffffff\"/>\n    </g>\n    <g clip-path=\"url(#pa42482f8c9)\">\n     <use xlink:href=\"#C0_0_1c0b1a92b7\" x=\"7.852293\" y=\"218.095357\" style=\"fill: #ffffff\"/>\n    </g>\n    <g clip-path=\"url(#pa42482f8c9)\">\n     <use xlink:href=\"#C0_0_1c0b1a92b7\" x=\"14.703202\" y=\"336.905274\" style=\"fill: #ffffff\"/>\n    </g>\n    <g clip-path=\"url(#pa42482f8c9)\">\n     <use xlink:href=\"#C0_0_1c0b1a92b7\" x=\"14.703202\" y=\"325.024282\" style=\"fill: #ffffff\"/>\n    </g>\n    <g clip-path=\"url(#pa42482f8c9)\">\n     <use xlink:href=\"#C0_0_1c0b1a92b7\" x=\"14.703202\" y=\"313.143291\" style=\"fill: #c8c8c8\"/>\n    </g>\n    <g clip-path=\"url(#pa42482f8c9)\">\n     <use xlink:href=\"#C0_0_1c0b1a92b7\" x=\"14.703202\" y=\"301.262299\" style=\"fill: #fcfcfc\"/>\n    </g>\n    <g clip-path=\"url(#pa42482f8c9)\">\n     <use xlink:href=\"#C0_0_1c0b1a92b7\" x=\"14.703202\" y=\"289.381307\" style=\"fill: #ffffff\"/>\n    </g>\n    <g clip-path=\"url(#pa42482f8c9)\">\n     <use xlink:href=\"#C0_0_1c0b1a92b7\" x=\"14.703202\" y=\"277.500315\" style=\"fill: #ffffff\"/>\n    </g>\n    <g clip-path=\"url(#pa42482f8c9)\">\n     <use xlink:href=\"#C0_0_1c0b1a92b7\" x=\"14.703202\" y=\"265.619324\" style=\"fill: #ffffff\"/>\n    </g>\n    <g clip-path=\"url(#pa42482f8c9)\">\n     <use xlink:href=\"#C0_0_1c0b1a92b7\" x=\"14.703202\" y=\"253.738332\" style=\"fill: #ffffff\"/>\n    </g>\n    <g clip-path=\"url(#pa42482f8c9)\">\n     <use xlink:href=\"#C0_0_1c0b1a92b7\" x=\"14.703202\" y=\"241.85734\" style=\"fill: #ffffff\"/>\n    </g>\n    <g clip-path=\"url(#pa42482f8c9)\">\n     <use xlink:href=\"#C0_0_1c0b1a92b7\" x=\"14.703202\" y=\"229.976348\" style=\"fill: #ffffff\"/>\n    </g>\n    <g clip-path=\"url(#pa42482f8c9)\">\n     <use xlink:href=\"#C0_0_1c0b1a92b7\" x=\"14.703202\" y=\"218.095357\" style=\"fill: #ffffff\"/>\n    </g>\n    <g clip-path=\"url(#pa42482f8c9)\">\n     <use xlink:href=\"#C0_0_1c0b1a92b7\" x=\"21.554111\" y=\"336.905274\" style=\"fill: #ffffff\"/>\n    </g>\n    <g clip-path=\"url(#pa42482f8c9)\">\n     <use xlink:href=\"#C0_0_1c0b1a92b7\" x=\"21.554111\" y=\"325.024282\" style=\"fill: #ffffff\"/>\n    </g>\n    <g clip-path=\"url(#pa42482f8c9)\">\n     <use xlink:href=\"#C0_0_1c0b1a92b7\" x=\"21.554111\" y=\"313.143291\" style=\"fill: #eaeaea\"/>\n    </g>\n    <g clip-path=\"url(#pa42482f8c9)\">\n     <use xlink:href=\"#C0_0_1c0b1a92b7\" x=\"21.554111\" y=\"301.262299\" style=\"fill: #fcfcfc\"/>\n    </g>\n    <g clip-path=\"url(#pa42482f8c9)\">\n     <use xlink:href=\"#C0_0_1c0b1a92b7\" x=\"21.554111\" y=\"289.381307\" style=\"fill: #ffffff\"/>\n    </g>\n    <g clip-path=\"url(#pa42482f8c9)\">\n     <use xlink:href=\"#C0_0_1c0b1a92b7\" x=\"21.554111\" y=\"277.500315\" style=\"fill: #ffffff\"/>\n    </g>\n    <g clip-path=\"url(#pa42482f8c9)\">\n     <use xlink:href=\"#C0_0_1c0b1a92b7\" x=\"21.554111\" y=\"265.619324\" style=\"fill: #ffffff\"/>\n    </g>\n    <g clip-path=\"url(#pa42482f8c9)\">\n     <use xlink:href=\"#C0_0_1c0b1a92b7\" x=\"21.554111\" y=\"253.738332\" style=\"fill: #ffffff\"/>\n    </g>\n    <g clip-path=\"url(#pa42482f8c9)\">\n     <use xlink:href=\"#C0_0_1c0b1a92b7\" x=\"21.554111\" y=\"241.85734\" style=\"fill: #ffffff\"/>\n    </g>\n    <g clip-path=\"url(#pa42482f8c9)\">\n     <use xlink:href=\"#C0_0_1c0b1a92b7\" x=\"21.554111\" y=\"229.976348\" style=\"fill: #ffffff\"/>\n    </g>\n    <g clip-path=\"url(#pa42482f8c9)\">\n     <use xlink:href=\"#C0_0_1c0b1a92b7\" x=\"21.554111\" y=\"218.095357\" style=\"fill: #ffffff\"/>\n    </g>\n    <g clip-path=\"url(#pa42482f8c9)\">\n     <use xlink:href=\"#C0_0_1c0b1a92b7\" x=\"28.40502\" y=\"336.905274\" style=\"fill: #ffffff\"/>\n    </g>\n    <g clip-path=\"url(#pa42482f8c9)\">\n     <use xlink:href=\"#C0_0_1c0b1a92b7\" x=\"28.40502\" y=\"325.024282\" style=\"fill: #ffffff\"/>\n    </g>\n    <g clip-path=\"url(#pa42482f8c9)\">\n     <use xlink:href=\"#C0_0_1c0b1a92b7\" x=\"28.40502\" y=\"313.143291\" style=\"fill: #ffffff\"/>\n    </g>\n    <g clip-path=\"url(#pa42482f8c9)\">\n     <use xlink:href=\"#C0_0_1c0b1a92b7\" x=\"28.40502\" y=\"301.262299\" style=\"fill: #ffffff\"/>\n    </g>\n    <g clip-path=\"url(#pa42482f8c9)\">\n     <use xlink:href=\"#C0_0_1c0b1a92b7\" x=\"28.40502\" y=\"289.381307\" style=\"fill: #ffffff\"/>\n    </g>\n    <g clip-path=\"url(#pa42482f8c9)\">\n     <use xlink:href=\"#C0_0_1c0b1a92b7\" x=\"28.40502\" y=\"277.500315\" style=\"fill: #ffffff\"/>\n    </g>\n    <g clip-path=\"url(#pa42482f8c9)\">\n     <use xlink:href=\"#C0_0_1c0b1a92b7\" x=\"28.40502\" y=\"265.619324\" style=\"fill: #ffffff\"/>\n    </g>\n    <g clip-path=\"url(#pa42482f8c9)\">\n     <use xlink:href=\"#C0_0_1c0b1a92b7\" x=\"28.40502\" y=\"253.738332\" style=\"fill: #ffffff\"/>\n    </g>\n    <g clip-path=\"url(#pa42482f8c9)\">\n     <use xlink:href=\"#C0_0_1c0b1a92b7\" x=\"28.40502\" y=\"241.85734\" style=\"fill: #ffffff\"/>\n    </g>\n    <g clip-path=\"url(#pa42482f8c9)\">\n     <use xlink:href=\"#C0_0_1c0b1a92b7\" x=\"28.40502\" y=\"229.976348\" style=\"fill: #ffffff\"/>\n    </g>\n    <g clip-path=\"url(#pa42482f8c9)\">\n     <use xlink:href=\"#C0_0_1c0b1a92b7\" x=\"28.40502\" y=\"218.095357\" style=\"fill: #ffffff\"/>\n    </g>\n    <g clip-path=\"url(#pa42482f8c9)\">\n     <use xlink:href=\"#C0_0_1c0b1a92b7\" x=\"35.255929\" y=\"336.905274\" style=\"fill: #ffffff\"/>\n    </g>\n    <g clip-path=\"url(#pa42482f8c9)\">\n     <use xlink:href=\"#C0_0_1c0b1a92b7\" x=\"35.255929\" y=\"325.024282\" style=\"fill: #ffffff\"/>\n    </g>\n    <g clip-path=\"url(#pa42482f8c9)\">\n     <use xlink:href=\"#C0_0_1c0b1a92b7\" x=\"35.255929\" y=\"313.143291\" style=\"fill: #ffffff\"/>\n    </g>\n    <g clip-path=\"url(#pa42482f8c9)\">\n     <use xlink:href=\"#C0_0_1c0b1a92b7\" x=\"35.255929\" y=\"301.262299\" style=\"fill: #ffffff\"/>\n    </g>\n    <g clip-path=\"url(#pa42482f8c9)\">\n     <use xlink:href=\"#C0_0_1c0b1a92b7\" x=\"35.255929\" y=\"289.381307\" style=\"fill: #ffffff\"/>\n    </g>\n    <g clip-path=\"url(#pa42482f8c9)\">\n     <use xlink:href=\"#C0_0_1c0b1a92b7\" x=\"35.255929\" y=\"277.500315\" style=\"fill: #fbfbfb\"/>\n    </g>\n    <g clip-path=\"url(#pa42482f8c9)\">\n     <use xlink:href=\"#C0_0_1c0b1a92b7\" x=\"35.255929\" y=\"265.619324\" style=\"fill: #ffffff\"/>\n    </g>\n    <g clip-path=\"url(#pa42482f8c9)\">\n     <use xlink:href=\"#C0_0_1c0b1a92b7\" x=\"35.255929\" y=\"253.738332\" style=\"fill: #ffffff\"/>\n    </g>\n    <g clip-path=\"url(#pa42482f8c9)\">\n     <use xlink:href=\"#C0_0_1c0b1a92b7\" x=\"35.255929\" y=\"241.85734\" style=\"fill: #ffffff\"/>\n    </g>\n    <g clip-path=\"url(#pa42482f8c9)\">\n     <use xlink:href=\"#C0_0_1c0b1a92b7\" x=\"35.255929\" y=\"229.976348\" style=\"fill: #ffffff\"/>\n    </g>\n    <g clip-path=\"url(#pa42482f8c9)\">\n     <use xlink:href=\"#C0_0_1c0b1a92b7\" x=\"35.255929\" y=\"218.095357\" style=\"fill: #ffffff\"/>\n    </g>\n    <g clip-path=\"url(#pa42482f8c9)\">\n     <use xlink:href=\"#C0_0_1c0b1a92b7\" x=\"42.106838\" y=\"336.905274\" style=\"fill: #ffffff\"/>\n    </g>\n    <g clip-path=\"url(#pa42482f8c9)\">\n     <use xlink:href=\"#C0_0_1c0b1a92b7\" x=\"42.106838\" y=\"325.024282\" style=\"fill: #ffffff\"/>\n    </g>\n    <g clip-path=\"url(#pa42482f8c9)\">\n     <use xlink:href=\"#C0_0_1c0b1a92b7\" x=\"42.106838\" y=\"313.143291\" style=\"fill: #ffffff\"/>\n    </g>\n    <g clip-path=\"url(#pa42482f8c9)\">\n     <use xlink:href=\"#C0_0_1c0b1a92b7\" x=\"42.106838\" y=\"301.262299\" style=\"fill: #ffffff\"/>\n    </g>\n    <g clip-path=\"url(#pa42482f8c9)\">\n     <use xlink:href=\"#C0_0_1c0b1a92b7\" x=\"42.106838\" y=\"289.381307\" style=\"fill: #f8f8f8\"/>\n    </g>\n    <g clip-path=\"url(#pa42482f8c9)\">\n     <use xlink:href=\"#C0_0_1c0b1a92b7\" x=\"42.106838\" y=\"277.500315\" style=\"fill: #f9f9f9\"/>\n    </g>\n    <g clip-path=\"url(#pa42482f8c9)\">\n     <use xlink:href=\"#C0_0_1c0b1a92b7\" x=\"42.106838\" y=\"265.619324\" style=\"fill: #f5f5f5\"/>\n    </g>\n    <g clip-path=\"url(#pa42482f8c9)\">\n     <use xlink:href=\"#C0_0_1c0b1a92b7\" x=\"42.106838\" y=\"253.738332\" style=\"fill: #ececec\"/>\n    </g>\n    <g clip-path=\"url(#pa42482f8c9)\">\n     <use xlink:href=\"#C0_0_1c0b1a92b7\" x=\"42.106838\" y=\"241.85734\" style=\"fill: #ffffff\"/>\n    </g>\n    <g clip-path=\"url(#pa42482f8c9)\">\n     <use xlink:href=\"#C0_0_1c0b1a92b7\" x=\"42.106838\" y=\"229.976348\" style=\"fill: #ffffff\"/>\n    </g>\n    <g clip-path=\"url(#pa42482f8c9)\">\n     <use xlink:href=\"#C0_0_1c0b1a92b7\" x=\"42.106838\" y=\"218.095357\" style=\"fill: #ffffff\"/>\n    </g>\n    <g clip-path=\"url(#pa42482f8c9)\">\n     <use xlink:href=\"#C0_0_1c0b1a92b7\" x=\"48.957747\" y=\"336.905274\" style=\"fill: #ffffff\"/>\n    </g>\n    <g clip-path=\"url(#pa42482f8c9)\">\n     <use xlink:href=\"#C0_0_1c0b1a92b7\" x=\"48.957747\" y=\"325.024282\" style=\"fill: #ffffff\"/>\n    </g>\n    <g clip-path=\"url(#pa42482f8c9)\">\n     <use xlink:href=\"#C0_0_1c0b1a92b7\" x=\"48.957747\" y=\"313.143291\" style=\"fill: #ffffff\"/>\n    </g>\n    <g clip-path=\"url(#pa42482f8c9)\">\n     <use xlink:href=\"#C0_0_1c0b1a92b7\" x=\"48.957747\" y=\"301.262299\" style=\"fill: #fefefe\"/>\n    </g>\n    <g clip-path=\"url(#pa42482f8c9)\">\n     <use xlink:href=\"#C0_0_1c0b1a92b7\" x=\"48.957747\" y=\"289.381307\" style=\"fill: #f4f4f4\"/>\n    </g>\n    <g clip-path=\"url(#pa42482f8c9)\">\n     <use xlink:href=\"#C0_0_1c0b1a92b7\" x=\"48.957747\" y=\"277.500315\" style=\"fill: #e6e6e6\"/>\n    </g>\n    <g clip-path=\"url(#pa42482f8c9)\">\n     <use xlink:href=\"#C0_0_1c0b1a92b7\" x=\"48.957747\" y=\"265.619324\" style=\"fill: #797979\"/>\n    </g>\n    <g clip-path=\"url(#pa42482f8c9)\">\n     <use xlink:href=\"#C0_0_1c0b1a92b7\" x=\"48.957747\" y=\"253.738332\" style=\"fill: #a7a7a7\"/>\n    </g>\n    <g clip-path=\"url(#pa42482f8c9)\">\n     <use xlink:href=\"#C0_0_1c0b1a92b7\" x=\"48.957747\" y=\"241.85734\" style=\"fill: #f9f9f9\"/>\n    </g>\n    <g clip-path=\"url(#pa42482f8c9)\">\n     <use xlink:href=\"#C0_0_1c0b1a92b7\" x=\"48.957747\" y=\"229.976348\" style=\"fill: #ffffff\"/>\n    </g>\n    <g clip-path=\"url(#pa42482f8c9)\">\n     <use xlink:href=\"#C0_0_1c0b1a92b7\" x=\"48.957747\" y=\"218.095357\" style=\"fill: #ffffff\"/>\n    </g>\n    <g clip-path=\"url(#pa42482f8c9)\">\n     <use xlink:href=\"#C0_0_1c0b1a92b7\" x=\"55.808656\" y=\"336.905274\" style=\"fill: #ffffff\"/>\n    </g>\n    <g clip-path=\"url(#pa42482f8c9)\">\n     <use xlink:href=\"#C0_0_1c0b1a92b7\" x=\"55.808656\" y=\"325.024282\" style=\"fill: #ffffff\"/>\n    </g>\n    <g clip-path=\"url(#pa42482f8c9)\">\n     <use xlink:href=\"#C0_0_1c0b1a92b7\" x=\"55.808656\" y=\"313.143291\" style=\"fill: #ffffff\"/>\n    </g>\n    <g clip-path=\"url(#pa42482f8c9)\">\n     <use xlink:href=\"#C0_0_1c0b1a92b7\" x=\"55.808656\" y=\"301.262299\" style=\"fill: #e1e1e1\"/>\n    </g>\n    <g clip-path=\"url(#pa42482f8c9)\">\n     <use xlink:href=\"#C0_0_1c0b1a92b7\" x=\"55.808656\" y=\"289.381307\" style=\"fill: #b6b6b6\"/>\n    </g>\n    <g clip-path=\"url(#pa42482f8c9)\">\n     <use xlink:href=\"#C0_0_1c0b1a92b7\" x=\"55.808656\" y=\"277.500315\" style=\"fill: #c0c0c0\"/>\n    </g>\n    <g clip-path=\"url(#pa42482f8c9)\">\n     <use xlink:href=\"#C0_0_1c0b1a92b7\" x=\"55.808656\" y=\"265.619324\" style=\"fill: #d9d9d9\"/>\n    </g>\n    <g clip-path=\"url(#pa42482f8c9)\">\n     <use xlink:href=\"#C0_0_1c0b1a92b7\" x=\"55.808656\" y=\"253.738332\" style=\"fill: #bababa\"/>\n    </g>\n    <g clip-path=\"url(#pa42482f8c9)\">\n     <use xlink:href=\"#C0_0_1c0b1a92b7\" x=\"55.808656\" y=\"241.85734\" style=\"fill: #ffffff\"/>\n    </g>\n    <g clip-path=\"url(#pa42482f8c9)\">\n     <use xlink:href=\"#C0_0_1c0b1a92b7\" x=\"55.808656\" y=\"229.976348\" style=\"fill: #ffffff\"/>\n    </g>\n    <g clip-path=\"url(#pa42482f8c9)\">\n     <use xlink:href=\"#C0_0_1c0b1a92b7\" x=\"55.808656\" y=\"218.095357\" style=\"fill: #ffffff\"/>\n    </g>\n    <g clip-path=\"url(#pa42482f8c9)\">\n     <use xlink:href=\"#C0_0_1c0b1a92b7\" x=\"62.659565\" y=\"336.905274\" style=\"fill: #ffffff\"/>\n    </g>\n    <g clip-path=\"url(#pa42482f8c9)\">\n     <use xlink:href=\"#C0_0_1c0b1a92b7\" x=\"62.659565\" y=\"325.024282\" style=\"fill: #ffffff\"/>\n    </g>\n    <g clip-path=\"url(#pa42482f8c9)\">\n     <use xlink:href=\"#C0_0_1c0b1a92b7\" x=\"62.659565\" y=\"313.143291\" style=\"fill: #ffffff\"/>\n    </g>\n    <g clip-path=\"url(#pa42482f8c9)\">\n     <use xlink:href=\"#C0_0_1c0b1a92b7\" x=\"62.659565\" y=\"301.262299\" style=\"fill: #f1f1f1\"/>\n    </g>\n    <g clip-path=\"url(#pa42482f8c9)\">\n     <use xlink:href=\"#C0_0_1c0b1a92b7\" x=\"62.659565\" y=\"289.381307\" style=\"fill: #cbcbcb\"/>\n    </g>\n    <g clip-path=\"url(#pa42482f8c9)\">\n     <use xlink:href=\"#C0_0_1c0b1a92b7\" x=\"62.659565\" y=\"277.500315\" style=\"fill: #c0c0c0\"/>\n    </g>\n    <g clip-path=\"url(#pa42482f8c9)\">\n     <use xlink:href=\"#C0_0_1c0b1a92b7\" x=\"62.659565\" y=\"265.619324\" style=\"fill: #e8e8e8\"/>\n    </g>\n    <g clip-path=\"url(#pa42482f8c9)\">\n     <use xlink:href=\"#C0_0_1c0b1a92b7\" x=\"62.659565\" y=\"253.738332\" style=\"fill: #fefefe\"/>\n    </g>\n    <g clip-path=\"url(#pa42482f8c9)\">\n     <use xlink:href=\"#C0_0_1c0b1a92b7\" x=\"62.659565\" y=\"241.85734\" style=\"fill: #ffffff\"/>\n    </g>\n    <g clip-path=\"url(#pa42482f8c9)\">\n     <use xlink:href=\"#C0_0_1c0b1a92b7\" x=\"62.659565\" y=\"229.976348\" style=\"fill: #ffffff\"/>\n    </g>\n    <g clip-path=\"url(#pa42482f8c9)\">\n     <use xlink:href=\"#C0_0_1c0b1a92b7\" x=\"62.659565\" y=\"218.095357\" style=\"fill: #ffffff\"/>\n    </g>\n    <g clip-path=\"url(#pa42482f8c9)\">\n     <use xlink:href=\"#C0_0_1c0b1a92b7\" x=\"69.510474\" y=\"336.905274\" style=\"fill: #ffffff\"/>\n    </g>\n    <g clip-path=\"url(#pa42482f8c9)\">\n     <use xlink:href=\"#C0_0_1c0b1a92b7\" x=\"69.510474\" y=\"325.024282\" style=\"fill: #ffffff\"/>\n    </g>\n    <g clip-path=\"url(#pa42482f8c9)\">\n     <use xlink:href=\"#C0_0_1c0b1a92b7\" x=\"69.510474\" y=\"313.143291\" style=\"fill: #fefefe\"/>\n    </g>\n    <g clip-path=\"url(#pa42482f8c9)\">\n     <use xlink:href=\"#C0_0_1c0b1a92b7\" x=\"69.510474\" y=\"301.262299\" style=\"fill: #ececec\"/>\n    </g>\n    <g clip-path=\"url(#pa42482f8c9)\">\n     <use xlink:href=\"#C0_0_1c0b1a92b7\" x=\"69.510474\" y=\"289.381307\" style=\"fill: #d0d0d0\"/>\n    </g>\n    <g clip-path=\"url(#pa42482f8c9)\">\n     <use xlink:href=\"#C0_0_1c0b1a92b7\" x=\"69.510474\" y=\"277.500315\" style=\"fill: #cbcbcb\"/>\n    </g>\n    <g clip-path=\"url(#pa42482f8c9)\">\n     <use xlink:href=\"#C0_0_1c0b1a92b7\" x=\"69.510474\" y=\"265.619324\" style=\"fill: #dfdfdf\"/>\n    </g>\n    <g clip-path=\"url(#pa42482f8c9)\">\n     <use xlink:href=\"#C0_0_1c0b1a92b7\" x=\"69.510474\" y=\"253.738332\" style=\"fill: #ffffff\"/>\n    </g>\n    <g clip-path=\"url(#pa42482f8c9)\">\n     <use xlink:href=\"#C0_0_1c0b1a92b7\" x=\"69.510474\" y=\"241.85734\" style=\"fill: #ffffff\"/>\n    </g>\n    <g clip-path=\"url(#pa42482f8c9)\">\n     <use xlink:href=\"#C0_0_1c0b1a92b7\" x=\"69.510474\" y=\"229.976348\" style=\"fill: #ffffff\"/>\n    </g>\n    <g clip-path=\"url(#pa42482f8c9)\">\n     <use xlink:href=\"#C0_0_1c0b1a92b7\" x=\"69.510474\" y=\"218.095357\" style=\"fill: #ffffff\"/>\n    </g>\n    <g clip-path=\"url(#pa42482f8c9)\">\n     <use xlink:href=\"#C0_0_1c0b1a92b7\" x=\"76.361384\" y=\"336.905274\" style=\"fill: #ffffff\"/>\n    </g>\n    <g clip-path=\"url(#pa42482f8c9)\">\n     <use xlink:href=\"#C0_0_1c0b1a92b7\" x=\"76.361384\" y=\"325.024282\" style=\"fill: #ffffff\"/>\n    </g>\n    <g clip-path=\"url(#pa42482f8c9)\">\n     <use xlink:href=\"#C0_0_1c0b1a92b7\" x=\"76.361384\" y=\"313.143291\" style=\"fill: #ffffff\"/>\n    </g>\n    <g clip-path=\"url(#pa42482f8c9)\">\n     <use xlink:href=\"#C0_0_1c0b1a92b7\" x=\"76.361384\" y=\"301.262299\" style=\"fill: #7c7c7c\"/>\n    </g>\n    <g clip-path=\"url(#pa42482f8c9)\">\n     <use xlink:href=\"#C0_0_1c0b1a92b7\" x=\"76.361384\" y=\"289.381307\" style=\"fill: #b3b3b3\"/>\n    </g>\n    <g clip-path=\"url(#pa42482f8c9)\">\n     <use xlink:href=\"#C0_0_1c0b1a92b7\" x=\"76.361384\" y=\"277.500315\" style=\"fill: #e1e1e1\"/>\n    </g>\n    <g clip-path=\"url(#pa42482f8c9)\">\n     <use xlink:href=\"#C0_0_1c0b1a92b7\" x=\"76.361384\" y=\"265.619324\" style=\"fill: #ececec\"/>\n    </g>\n    <g clip-path=\"url(#pa42482f8c9)\">\n     <use xlink:href=\"#C0_0_1c0b1a92b7\" x=\"76.361384\" y=\"253.738332\" style=\"fill: #ffffff\"/>\n    </g>\n    <g clip-path=\"url(#pa42482f8c9)\">\n     <use xlink:href=\"#C0_0_1c0b1a92b7\" x=\"76.361384\" y=\"241.85734\" style=\"fill: #ffffff\"/>\n    </g>\n    <g clip-path=\"url(#pa42482f8c9)\">\n     <use xlink:href=\"#C0_0_1c0b1a92b7\" x=\"76.361384\" y=\"229.976348\" style=\"fill: #ffffff\"/>\n    </g>\n    <g clip-path=\"url(#pa42482f8c9)\">\n     <use xlink:href=\"#C0_0_1c0b1a92b7\" x=\"76.361384\" y=\"218.095357\" style=\"fill: #ffffff\"/>\n    </g>\n   </g>\n   <g id=\"matplotlib.axis_1\"/>\n   <g id=\"matplotlib.axis_2\"/>\n   <g id=\"patch_3\">\n    <path d=\"M 7.2 167.90175 \nL 7.2 24.14175 \n\" style=\"fill: none; stroke: #000000; stroke-width: 0.8; stroke-linejoin: miter; stroke-linecap: square\"/>\n   </g>\n   <g id=\"patch_4\">\n    <path d=\"M 157.92 167.90175 \nL 157.92 24.14175 \n\" style=\"fill: none; stroke: #000000; stroke-width: 0.8; stroke-linejoin: miter; stroke-linecap: square\"/>\n   </g>\n   <g id=\"patch_5\">\n    <path d=\"M 7.2 167.90175 \nL 157.92 167.90175 \n\" style=\"fill: none; stroke: #000000; stroke-width: 0.8; stroke-linejoin: miter; stroke-linecap: square\"/>\n   </g>\n   <g id=\"patch_6\">\n    <path d=\"M 7.2 24.14175 \nL 157.92 24.14175 \n\" style=\"fill: none; stroke: #000000; stroke-width: 0.8; stroke-linejoin: miter; stroke-linecap: square\"/>\n   </g>\n   <g id=\"text_1\">\n    <!-- sadness -->\n    <g transform=\"translate(53.331375 18.14175) scale(0.144 -0.144)\">\n     <defs>\n      <path id=\"DejaVuSans-73\" d=\"M 2834 3397 \nL 2834 2853 \nQ 2591 2978 2328 3040 \nQ 2066 3103 1784 3103 \nQ 1356 3103 1142 2972 \nQ 928 2841 928 2578 \nQ 928 2378 1081 2264 \nQ 1234 2150 1697 2047 \nL 1894 2003 \nQ 2506 1872 2764 1633 \nQ 3022 1394 3022 966 \nQ 3022 478 2636 193 \nQ 2250 -91 1575 -91 \nQ 1294 -91 989 -36 \nQ 684 19 347 128 \nL 347 722 \nQ 666 556 975 473 \nQ 1284 391 1588 391 \nQ 1994 391 2212 530 \nQ 2431 669 2431 922 \nQ 2431 1156 2273 1281 \nQ 2116 1406 1581 1522 \nL 1381 1569 \nQ 847 1681 609 1914 \nQ 372 2147 372 2553 \nQ 372 3047 722 3315 \nQ 1072 3584 1716 3584 \nQ 2034 3584 2315 3537 \nQ 2597 3491 2834 3397 \nz\n\" transform=\"scale(0.015625)\"/>\n      <path id=\"DejaVuSans-61\" d=\"M 2194 1759 \nQ 1497 1759 1228 1600 \nQ 959 1441 959 1056 \nQ 959 750 1161 570 \nQ 1363 391 1709 391 \nQ 2188 391 2477 730 \nQ 2766 1069 2766 1631 \nL 2766 1759 \nL 2194 1759 \nz\nM 3341 1997 \nL 3341 0 \nL 2766 0 \nL 2766 531 \nQ 2569 213 2275 61 \nQ 1981 -91 1556 -91 \nQ 1019 -91 701 211 \nQ 384 513 384 1019 \nQ 384 1609 779 1909 \nQ 1175 2209 1959 2209 \nL 2766 2209 \nL 2766 2266 \nQ 2766 2663 2505 2880 \nQ 2244 3097 1772 3097 \nQ 1472 3097 1187 3025 \nQ 903 2953 641 2809 \nL 641 3341 \nQ 956 3463 1253 3523 \nQ 1550 3584 1831 3584 \nQ 2591 3584 2966 3190 \nQ 3341 2797 3341 1997 \nz\n\" transform=\"scale(0.015625)\"/>\n      <path id=\"DejaVuSans-64\" d=\"M 2906 2969 \nL 2906 4863 \nL 3481 4863 \nL 3481 0 \nL 2906 0 \nL 2906 525 \nQ 2725 213 2448 61 \nQ 2172 -91 1784 -91 \nQ 1150 -91 751 415 \nQ 353 922 353 1747 \nQ 353 2572 751 3078 \nQ 1150 3584 1784 3584 \nQ 2172 3584 2448 3432 \nQ 2725 3281 2906 2969 \nz\nM 947 1747 \nQ 947 1113 1208 752 \nQ 1469 391 1925 391 \nQ 2381 391 2643 752 \nQ 2906 1113 2906 1747 \nQ 2906 2381 2643 2742 \nQ 2381 3103 1925 3103 \nQ 1469 3103 1208 2742 \nQ 947 2381 947 1747 \nz\n\" transform=\"scale(0.015625)\"/>\n      <path id=\"DejaVuSans-6e\" d=\"M 3513 2113 \nL 3513 0 \nL 2938 0 \nL 2938 2094 \nQ 2938 2591 2744 2837 \nQ 2550 3084 2163 3084 \nQ 1697 3084 1428 2787 \nQ 1159 2491 1159 1978 \nL 1159 0 \nL 581 0 \nL 581 3500 \nL 1159 3500 \nL 1159 2956 \nQ 1366 3272 1645 3428 \nQ 1925 3584 2291 3584 \nQ 2894 3584 3203 3211 \nQ 3513 2838 3513 2113 \nz\n\" transform=\"scale(0.015625)\"/>\n      <path id=\"DejaVuSans-65\" d=\"M 3597 1894 \nL 3597 1613 \nL 953 1613 \nQ 991 1019 1311 708 \nQ 1631 397 2203 397 \nQ 2534 397 2845 478 \nQ 3156 559 3463 722 \nL 3463 178 \nQ 3153 47 2828 -22 \nQ 2503 -91 2169 -91 \nQ 1331 -91 842 396 \nQ 353 884 353 1716 \nQ 353 2575 817 3079 \nQ 1281 3584 2069 3584 \nQ 2775 3584 3186 3129 \nQ 3597 2675 3597 1894 \nz\nM 3022 2063 \nQ 3016 2534 2758 2815 \nQ 2500 3097 2075 3097 \nQ 1594 3097 1305 2825 \nQ 1016 2553 972 2059 \nL 3022 2063 \nz\n\" transform=\"scale(0.015625)\"/>\n     </defs>\n     <use xlink:href=\"#DejaVuSans-73\"/>\n     <use xlink:href=\"#DejaVuSans-61\" x=\"52.099609\"/>\n     <use xlink:href=\"#DejaVuSans-64\" x=\"113.378906\"/>\n     <use xlink:href=\"#DejaVuSans-6e\" x=\"176.855469\"/>\n     <use xlink:href=\"#DejaVuSans-65\" x=\"240.234375\"/>\n     <use xlink:href=\"#DejaVuSans-73\" x=\"301.757812\"/>\n     <use xlink:href=\"#DejaVuSans-73\" x=\"353.857422\"/>\n    </g>\n   </g>\n  </g>\n  <g id=\"axes_2\">\n   <g id=\"patch_7\">\n    <path d=\"M 170.88 167.90175 \nL 321.6 167.90175 \nL 321.6 24.14175 \nL 170.88 24.14175 \nz\n\" style=\"fill: #ffffff\"/>\n   </g>\n   <g id=\"PolyCollection_2\">\n    <defs>\n     <path id=\"C1_0_bf2c9fe780\" d=\"M 239.269308 -178.985882 \nL 239.269308 -182.946213 \nL 235.843854 -184.926378 \nL 232.418399 -182.946213 \nL 232.418399 -178.985882 \nL 235.843854 -177.005717 \nz\n\"/>\n    </defs>\n    <g clip-path=\"url(#p15a108e7a8)\">\n     <use xlink:href=\"#C1_0_bf2c9fe780\" x=\"-58.112945\" y=\"342.333252\" style=\"fill: #f7fbff\"/>\n    </g>\n    <g clip-path=\"url(#p15a108e7a8)\">\n     <use xlink:href=\"#C1_0_bf2c9fe780\" x=\"-58.112945\" y=\"330.45226\" style=\"fill: #f7fbff\"/>\n    </g>\n    <g clip-path=\"url(#p15a108e7a8)\">\n     <use xlink:href=\"#C1_0_bf2c9fe780\" x=\"-58.112945\" y=\"318.571269\" style=\"fill: #f7fbff\"/>\n    </g>\n    <g clip-path=\"url(#p15a108e7a8)\">\n     <use xlink:href=\"#C1_0_bf2c9fe780\" x=\"-58.112945\" y=\"306.690277\" style=\"fill: #f7fbff\"/>\n    </g>\n    <g clip-path=\"url(#p15a108e7a8)\">\n     <use xlink:href=\"#C1_0_bf2c9fe780\" x=\"-58.112945\" y=\"294.809285\" style=\"fill: #f7fbff\"/>\n    </g>\n    <g clip-path=\"url(#p15a108e7a8)\">\n     <use xlink:href=\"#C1_0_bf2c9fe780\" x=\"-58.112945\" y=\"282.928293\" style=\"fill: #f5f9fe\"/>\n    </g>\n    <g clip-path=\"url(#p15a108e7a8)\">\n     <use xlink:href=\"#C1_0_bf2c9fe780\" x=\"-58.112945\" y=\"271.047302\" style=\"fill: #e7f0fa\"/>\n    </g>\n    <g clip-path=\"url(#p15a108e7a8)\">\n     <use xlink:href=\"#C1_0_bf2c9fe780\" x=\"-58.112945\" y=\"259.16631\" style=\"fill: #f7fbff\"/>\n    </g>\n    <g clip-path=\"url(#p15a108e7a8)\">\n     <use xlink:href=\"#C1_0_bf2c9fe780\" x=\"-58.112945\" y=\"247.285318\" style=\"fill: #f7fbff\"/>\n    </g>\n    <g clip-path=\"url(#p15a108e7a8)\">\n     <use xlink:href=\"#C1_0_bf2c9fe780\" x=\"-58.112945\" y=\"235.404326\" style=\"fill: #f7fbff\"/>\n    </g>\n    <g clip-path=\"url(#p15a108e7a8)\">\n     <use xlink:href=\"#C1_0_bf2c9fe780\" x=\"-58.112945\" y=\"223.523335\" style=\"fill: #f7fbff\"/>\n    </g>\n    <g clip-path=\"url(#p15a108e7a8)\">\n     <use xlink:href=\"#C1_0_bf2c9fe780\" x=\"-58.112945\" y=\"211.642343\" style=\"fill: #f7fbff\"/>\n    </g>\n    <g clip-path=\"url(#p15a108e7a8)\">\n     <use xlink:href=\"#C1_0_bf2c9fe780\" x=\"-51.262036\" y=\"342.333252\" style=\"fill: #f7fbff\"/>\n    </g>\n    <g clip-path=\"url(#p15a108e7a8)\">\n     <use xlink:href=\"#C1_0_bf2c9fe780\" x=\"-51.262036\" y=\"330.45226\" style=\"fill: #f7fbff\"/>\n    </g>\n    <g clip-path=\"url(#p15a108e7a8)\">\n     <use xlink:href=\"#C1_0_bf2c9fe780\" x=\"-51.262036\" y=\"318.571269\" style=\"fill: #f7fbff\"/>\n    </g>\n    <g clip-path=\"url(#p15a108e7a8)\">\n     <use xlink:href=\"#C1_0_bf2c9fe780\" x=\"-51.262036\" y=\"306.690277\" style=\"fill: #f2f8fd\"/>\n    </g>\n    <g clip-path=\"url(#p15a108e7a8)\">\n     <use xlink:href=\"#C1_0_bf2c9fe780\" x=\"-51.262036\" y=\"294.809285\" style=\"fill: #dbe9f6\"/>\n    </g>\n    <g clip-path=\"url(#p15a108e7a8)\">\n     <use xlink:href=\"#C1_0_bf2c9fe780\" x=\"-51.262036\" y=\"282.928293\" style=\"fill: #e2edf8\"/>\n    </g>\n    <g clip-path=\"url(#p15a108e7a8)\">\n     <use xlink:href=\"#C1_0_bf2c9fe780\" x=\"-51.262036\" y=\"271.047302\" style=\"fill: #f0f6fd\"/>\n    </g>\n    <g clip-path=\"url(#p15a108e7a8)\">\n     <use xlink:href=\"#C1_0_bf2c9fe780\" x=\"-51.262036\" y=\"259.16631\" style=\"fill: #f7fbff\"/>\n    </g>\n    <g clip-path=\"url(#p15a108e7a8)\">\n     <use xlink:href=\"#C1_0_bf2c9fe780\" x=\"-51.262036\" y=\"247.285318\" style=\"fill: #f7fbff\"/>\n    </g>\n    <g clip-path=\"url(#p15a108e7a8)\">\n     <use xlink:href=\"#C1_0_bf2c9fe780\" x=\"-51.262036\" y=\"235.404326\" style=\"fill: #f7fbff\"/>\n    </g>\n    <g clip-path=\"url(#p15a108e7a8)\">\n     <use xlink:href=\"#C1_0_bf2c9fe780\" x=\"-51.262036\" y=\"223.523335\" style=\"fill: #f7fbff\"/>\n    </g>\n    <g clip-path=\"url(#p15a108e7a8)\">\n     <use xlink:href=\"#C1_0_bf2c9fe780\" x=\"-51.262036\" y=\"211.642343\" style=\"fill: #f7fbff\"/>\n    </g>\n    <g clip-path=\"url(#p15a108e7a8)\">\n     <use xlink:href=\"#C1_0_bf2c9fe780\" x=\"-44.411127\" y=\"342.333252\" style=\"fill: #f7fbff\"/>\n    </g>\n    <g clip-path=\"url(#p15a108e7a8)\">\n     <use xlink:href=\"#C1_0_bf2c9fe780\" x=\"-44.411127\" y=\"330.45226\" style=\"fill: #f7fbff\"/>\n    </g>\n    <g clip-path=\"url(#p15a108e7a8)\">\n     <use xlink:href=\"#C1_0_bf2c9fe780\" x=\"-44.411127\" y=\"318.571269\" style=\"fill: #abd0e6\"/>\n    </g>\n    <g clip-path=\"url(#p15a108e7a8)\">\n     <use xlink:href=\"#C1_0_bf2c9fe780\" x=\"-44.411127\" y=\"306.690277\" style=\"fill: #4f9bcb\"/>\n    </g>\n    <g clip-path=\"url(#p15a108e7a8)\">\n     <use xlink:href=\"#C1_0_bf2c9fe780\" x=\"-44.411127\" y=\"294.809285\" style=\"fill: #89bedc\"/>\n    </g>\n    <g clip-path=\"url(#p15a108e7a8)\">\n     <use xlink:href=\"#C1_0_bf2c9fe780\" x=\"-44.411127\" y=\"282.928293\" style=\"fill: #d9e7f5\"/>\n    </g>\n    <g clip-path=\"url(#p15a108e7a8)\">\n     <use xlink:href=\"#C1_0_bf2c9fe780\" x=\"-44.411127\" y=\"271.047302\" style=\"fill: #ebf3fb\"/>\n    </g>\n    <g clip-path=\"url(#p15a108e7a8)\">\n     <use xlink:href=\"#C1_0_bf2c9fe780\" x=\"-44.411127\" y=\"259.16631\" style=\"fill: #f0f6fd\"/>\n    </g>\n    <g clip-path=\"url(#p15a108e7a8)\">\n     <use xlink:href=\"#C1_0_bf2c9fe780\" x=\"-44.411127\" y=\"247.285318\" style=\"fill: #f7fbff\"/>\n    </g>\n    <g clip-path=\"url(#p15a108e7a8)\">\n     <use xlink:href=\"#C1_0_bf2c9fe780\" x=\"-44.411127\" y=\"235.404326\" style=\"fill: #f7fbff\"/>\n    </g>\n    <g clip-path=\"url(#p15a108e7a8)\">\n     <use xlink:href=\"#C1_0_bf2c9fe780\" x=\"-44.411127\" y=\"223.523335\" style=\"fill: #f7fbff\"/>\n    </g>\n    <g clip-path=\"url(#p15a108e7a8)\">\n     <use xlink:href=\"#C1_0_bf2c9fe780\" x=\"-44.411127\" y=\"211.642343\" style=\"fill: #f7fbff\"/>\n    </g>\n    <g clip-path=\"url(#p15a108e7a8)\">\n     <use xlink:href=\"#C1_0_bf2c9fe780\" x=\"-37.560217\" y=\"342.333252\" style=\"fill: #f7fbff\"/>\n    </g>\n    <g clip-path=\"url(#p15a108e7a8)\">\n     <use xlink:href=\"#C1_0_bf2c9fe780\" x=\"-37.560217\" y=\"330.45226\" style=\"fill: #f5f9fe\"/>\n    </g>\n    <g clip-path=\"url(#p15a108e7a8)\">\n     <use xlink:href=\"#C1_0_bf2c9fe780\" x=\"-37.560217\" y=\"318.571269\" style=\"fill: #7fb9da\"/>\n    </g>\n    <g clip-path=\"url(#p15a108e7a8)\">\n     <use xlink:href=\"#C1_0_bf2c9fe780\" x=\"-37.560217\" y=\"306.690277\" style=\"fill: #3787c0\"/>\n    </g>\n    <g clip-path=\"url(#p15a108e7a8)\">\n     <use xlink:href=\"#C1_0_bf2c9fe780\" x=\"-37.560217\" y=\"294.809285\" style=\"fill: #3181bd\"/>\n    </g>\n    <g clip-path=\"url(#p15a108e7a8)\">\n     <use xlink:href=\"#C1_0_bf2c9fe780\" x=\"-37.560217\" y=\"282.928293\" style=\"fill: #92c4de\"/>\n    </g>\n    <g clip-path=\"url(#p15a108e7a8)\">\n     <use xlink:href=\"#C1_0_bf2c9fe780\" x=\"-37.560217\" y=\"271.047302\" style=\"fill: #d6e6f4\"/>\n    </g>\n    <g clip-path=\"url(#p15a108e7a8)\">\n     <use xlink:href=\"#C1_0_bf2c9fe780\" x=\"-37.560217\" y=\"259.16631\" style=\"fill: #e4eff9\"/>\n    </g>\n    <g clip-path=\"url(#p15a108e7a8)\">\n     <use xlink:href=\"#C1_0_bf2c9fe780\" x=\"-37.560217\" y=\"247.285318\" style=\"fill: #f7fbff\"/>\n    </g>\n    <g clip-path=\"url(#p15a108e7a8)\">\n     <use xlink:href=\"#C1_0_bf2c9fe780\" x=\"-37.560217\" y=\"235.404326\" style=\"fill: #ebf3fb\"/>\n    </g>\n    <g clip-path=\"url(#p15a108e7a8)\">\n     <use xlink:href=\"#C1_0_bf2c9fe780\" x=\"-37.560217\" y=\"223.523335\" style=\"fill: #f7fbff\"/>\n    </g>\n    <g clip-path=\"url(#p15a108e7a8)\">\n     <use xlink:href=\"#C1_0_bf2c9fe780\" x=\"-37.560217\" y=\"211.642343\" style=\"fill: #f7fbff\"/>\n    </g>\n    <g clip-path=\"url(#p15a108e7a8)\">\n     <use xlink:href=\"#C1_0_bf2c9fe780\" x=\"-30.709308\" y=\"342.333252\" style=\"fill: #f7fbff\"/>\n    </g>\n    <g clip-path=\"url(#p15a108e7a8)\">\n     <use xlink:href=\"#C1_0_bf2c9fe780\" x=\"-30.709308\" y=\"330.45226\" style=\"fill: #e7f0fa\"/>\n    </g>\n    <g clip-path=\"url(#p15a108e7a8)\">\n     <use xlink:href=\"#C1_0_bf2c9fe780\" x=\"-30.709308\" y=\"318.571269\" style=\"fill: #1764ab\"/>\n    </g>\n    <g clip-path=\"url(#p15a108e7a8)\">\n     <use xlink:href=\"#C1_0_bf2c9fe780\" x=\"-30.709308\" y=\"306.690277\" style=\"fill: #08306b\"/>\n    </g>\n    <g clip-path=\"url(#p15a108e7a8)\">\n     <use xlink:href=\"#C1_0_bf2c9fe780\" x=\"-30.709308\" y=\"294.809285\" style=\"fill: #4f9bcb\"/>\n    </g>\n    <g clip-path=\"url(#p15a108e7a8)\">\n     <use xlink:href=\"#C1_0_bf2c9fe780\" x=\"-30.709308\" y=\"282.928293\" style=\"fill: #abd0e6\"/>\n    </g>\n    <g clip-path=\"url(#p15a108e7a8)\">\n     <use xlink:href=\"#C1_0_bf2c9fe780\" x=\"-30.709308\" y=\"271.047302\" style=\"fill: #cbdef1\"/>\n    </g>\n    <g clip-path=\"url(#p15a108e7a8)\">\n     <use xlink:href=\"#C1_0_bf2c9fe780\" x=\"-30.709308\" y=\"259.16631\" style=\"fill: #d6e6f4\"/>\n    </g>\n    <g clip-path=\"url(#p15a108e7a8)\">\n     <use xlink:href=\"#C1_0_bf2c9fe780\" x=\"-30.709308\" y=\"247.285318\" style=\"fill: #ebf3fb\"/>\n    </g>\n    <g clip-path=\"url(#p15a108e7a8)\">\n     <use xlink:href=\"#C1_0_bf2c9fe780\" x=\"-30.709308\" y=\"235.404326\" style=\"fill: #e2edf8\"/>\n    </g>\n    <g clip-path=\"url(#p15a108e7a8)\">\n     <use xlink:href=\"#C1_0_bf2c9fe780\" x=\"-30.709308\" y=\"223.523335\" style=\"fill: #afd1e7\"/>\n    </g>\n    <g clip-path=\"url(#p15a108e7a8)\">\n     <use xlink:href=\"#C1_0_bf2c9fe780\" x=\"-30.709308\" y=\"211.642343\" style=\"fill: #f7fbff\"/>\n    </g>\n    <g clip-path=\"url(#p15a108e7a8)\">\n     <use xlink:href=\"#C1_0_bf2c9fe780\" x=\"-23.858399\" y=\"342.333252\" style=\"fill: #f7fbff\"/>\n    </g>\n    <g clip-path=\"url(#p15a108e7a8)\">\n     <use xlink:href=\"#C1_0_bf2c9fe780\" x=\"-23.858399\" y=\"330.45226\" style=\"fill: #a8cee4\"/>\n    </g>\n    <g clip-path=\"url(#p15a108e7a8)\">\n     <use xlink:href=\"#C1_0_bf2c9fe780\" x=\"-23.858399\" y=\"318.571269\" style=\"fill: #4090c5\"/>\n    </g>\n    <g clip-path=\"url(#p15a108e7a8)\">\n     <use xlink:href=\"#C1_0_bf2c9fe780\" x=\"-23.858399\" y=\"306.690277\" style=\"fill: #5ba3d0\"/>\n    </g>\n    <g clip-path=\"url(#p15a108e7a8)\">\n     <use xlink:href=\"#C1_0_bf2c9fe780\" x=\"-23.858399\" y=\"294.809285\" style=\"fill: #4896c8\"/>\n    </g>\n    <g clip-path=\"url(#p15a108e7a8)\">\n     <use xlink:href=\"#C1_0_bf2c9fe780\" x=\"-23.858399\" y=\"282.928293\" style=\"fill: #a8cee4\"/>\n    </g>\n    <g clip-path=\"url(#p15a108e7a8)\">\n     <use xlink:href=\"#C1_0_bf2c9fe780\" x=\"-23.858399\" y=\"271.047302\" style=\"fill: #c6dbef\"/>\n    </g>\n    <g clip-path=\"url(#p15a108e7a8)\">\n     <use xlink:href=\"#C1_0_bf2c9fe780\" x=\"-23.858399\" y=\"259.16631\" style=\"fill: #e2edf8\"/>\n    </g>\n    <g clip-path=\"url(#p15a108e7a8)\">\n     <use xlink:href=\"#C1_0_bf2c9fe780\" x=\"-23.858399\" y=\"247.285318\" style=\"fill: #e7f0fa\"/>\n    </g>\n    <g clip-path=\"url(#p15a108e7a8)\">\n     <use xlink:href=\"#C1_0_bf2c9fe780\" x=\"-23.858399\" y=\"235.404326\" style=\"fill: #c9ddf0\"/>\n    </g>\n    <g clip-path=\"url(#p15a108e7a8)\">\n     <use xlink:href=\"#C1_0_bf2c9fe780\" x=\"-23.858399\" y=\"223.523335\" style=\"fill: #a8cee4\"/>\n    </g>\n    <g clip-path=\"url(#p15a108e7a8)\">\n     <use xlink:href=\"#C1_0_bf2c9fe780\" x=\"-23.858399\" y=\"211.642343\" style=\"fill: #f0f6fd\"/>\n    </g>\n    <g clip-path=\"url(#p15a108e7a8)\">\n     <use xlink:href=\"#C1_0_bf2c9fe780\" x=\"-17.00749\" y=\"342.333252\" style=\"fill: #f7fbff\"/>\n    </g>\n    <g clip-path=\"url(#p15a108e7a8)\">\n     <use xlink:href=\"#C1_0_bf2c9fe780\" x=\"-17.00749\" y=\"330.45226\" style=\"fill: #9cc9e1\"/>\n    </g>\n    <g clip-path=\"url(#p15a108e7a8)\">\n     <use xlink:href=\"#C1_0_bf2c9fe780\" x=\"-17.00749\" y=\"318.571269\" style=\"fill: #63a8d3\"/>\n    </g>\n    <g clip-path=\"url(#p15a108e7a8)\">\n     <use xlink:href=\"#C1_0_bf2c9fe780\" x=\"-17.00749\" y=\"306.690277\" style=\"fill: #5fa6d1\"/>\n    </g>\n    <g clip-path=\"url(#p15a108e7a8)\">\n     <use xlink:href=\"#C1_0_bf2c9fe780\" x=\"-17.00749\" y=\"294.809285\" style=\"fill: #4b98ca\"/>\n    </g>\n    <g clip-path=\"url(#p15a108e7a8)\">\n     <use xlink:href=\"#C1_0_bf2c9fe780\" x=\"-17.00749\" y=\"282.928293\" style=\"fill: #a0cbe2\"/>\n    </g>\n    <g clip-path=\"url(#p15a108e7a8)\">\n     <use xlink:href=\"#C1_0_bf2c9fe780\" x=\"-17.00749\" y=\"271.047302\" style=\"fill: #bad6eb\"/>\n    </g>\n    <g clip-path=\"url(#p15a108e7a8)\">\n     <use xlink:href=\"#C1_0_bf2c9fe780\" x=\"-17.00749\" y=\"259.16631\" style=\"fill: #dbe9f6\"/>\n    </g>\n    <g clip-path=\"url(#p15a108e7a8)\">\n     <use xlink:href=\"#C1_0_bf2c9fe780\" x=\"-17.00749\" y=\"247.285318\" style=\"fill: #e7f0fa\"/>\n    </g>\n    <g clip-path=\"url(#p15a108e7a8)\">\n     <use xlink:href=\"#C1_0_bf2c9fe780\" x=\"-17.00749\" y=\"235.404326\" style=\"fill: #d4e4f4\"/>\n    </g>\n    <g clip-path=\"url(#p15a108e7a8)\">\n     <use xlink:href=\"#C1_0_bf2c9fe780\" x=\"-17.00749\" y=\"223.523335\" style=\"fill: #75b4d8\"/>\n    </g>\n    <g clip-path=\"url(#p15a108e7a8)\">\n     <use xlink:href=\"#C1_0_bf2c9fe780\" x=\"-17.00749\" y=\"211.642343\" style=\"fill: #dfecf7\"/>\n    </g>\n    <g clip-path=\"url(#p15a108e7a8)\">\n     <use xlink:href=\"#C1_0_bf2c9fe780\" x=\"-10.156581\" y=\"342.333252\" style=\"fill: #f7fbff\"/>\n    </g>\n    <g clip-path=\"url(#p15a108e7a8)\">\n     <use xlink:href=\"#C1_0_bf2c9fe780\" x=\"-10.156581\" y=\"330.45226\" style=\"fill: #c9ddf0\"/>\n    </g>\n    <g clip-path=\"url(#p15a108e7a8)\">\n     <use xlink:href=\"#C1_0_bf2c9fe780\" x=\"-10.156581\" y=\"318.571269\" style=\"fill: #084990\"/>\n    </g>\n    <g clip-path=\"url(#p15a108e7a8)\">\n     <use xlink:href=\"#C1_0_bf2c9fe780\" x=\"-10.156581\" y=\"306.690277\" style=\"fill: #4090c5\"/>\n    </g>\n    <g clip-path=\"url(#p15a108e7a8)\">\n     <use xlink:href=\"#C1_0_bf2c9fe780\" x=\"-10.156581\" y=\"294.809285\" style=\"fill: #8dc1dd\"/>\n    </g>\n    <g clip-path=\"url(#p15a108e7a8)\">\n     <use xlink:href=\"#C1_0_bf2c9fe780\" x=\"-10.156581\" y=\"282.928293\" style=\"fill: #4f9bcb\"/>\n    </g>\n    <g clip-path=\"url(#p15a108e7a8)\">\n     <use xlink:href=\"#C1_0_bf2c9fe780\" x=\"-10.156581\" y=\"271.047302\" style=\"fill: #b7d4ea\"/>\n    </g>\n    <g clip-path=\"url(#p15a108e7a8)\">\n     <use xlink:href=\"#C1_0_bf2c9fe780\" x=\"-10.156581\" y=\"259.16631\" style=\"fill: #e4eff9\"/>\n    </g>\n    <g clip-path=\"url(#p15a108e7a8)\">\n     <use xlink:href=\"#C1_0_bf2c9fe780\" x=\"-10.156581\" y=\"247.285318\" style=\"fill: #c6dbef\"/>\n    </g>\n    <g clip-path=\"url(#p15a108e7a8)\">\n     <use xlink:href=\"#C1_0_bf2c9fe780\" x=\"-10.156581\" y=\"235.404326\" style=\"fill: #7ab6d9\"/>\n    </g>\n    <g clip-path=\"url(#p15a108e7a8)\">\n     <use xlink:href=\"#C1_0_bf2c9fe780\" x=\"-10.156581\" y=\"223.523335\" style=\"fill: #cbdef1\"/>\n    </g>\n    <g clip-path=\"url(#p15a108e7a8)\">\n     <use xlink:href=\"#C1_0_bf2c9fe780\" x=\"-10.156581\" y=\"211.642343\" style=\"fill: #f7fbff\"/>\n    </g>\n    <g clip-path=\"url(#p15a108e7a8)\">\n     <use xlink:href=\"#C1_0_bf2c9fe780\" x=\"-3.305672\" y=\"342.333252\" style=\"fill: #f0f6fd\"/>\n    </g>\n    <g clip-path=\"url(#p15a108e7a8)\">\n     <use xlink:href=\"#C1_0_bf2c9fe780\" x=\"-3.305672\" y=\"330.45226\" style=\"fill: #eef5fc\"/>\n    </g>\n    <g clip-path=\"url(#p15a108e7a8)\">\n     <use xlink:href=\"#C1_0_bf2c9fe780\" x=\"-3.305672\" y=\"318.571269\" style=\"fill: #ebf3fb\"/>\n    </g>\n    <g clip-path=\"url(#p15a108e7a8)\">\n     <use xlink:href=\"#C1_0_bf2c9fe780\" x=\"-3.305672\" y=\"306.690277\" style=\"fill: #7fb9da\"/>\n    </g>\n    <g clip-path=\"url(#p15a108e7a8)\">\n     <use xlink:href=\"#C1_0_bf2c9fe780\" x=\"-3.305672\" y=\"294.809285\" style=\"fill: #bed8ec\"/>\n    </g>\n    <g clip-path=\"url(#p15a108e7a8)\">\n     <use xlink:href=\"#C1_0_bf2c9fe780\" x=\"-3.305672\" y=\"282.928293\" style=\"fill: #89bedc\"/>\n    </g>\n    <g clip-path=\"url(#p15a108e7a8)\">\n     <use xlink:href=\"#C1_0_bf2c9fe780\" x=\"-3.305672\" y=\"271.047302\" style=\"fill: #b3d3e8\"/>\n    </g>\n    <g clip-path=\"url(#p15a108e7a8)\">\n     <use xlink:href=\"#C1_0_bf2c9fe780\" x=\"-3.305672\" y=\"259.16631\" style=\"fill: #e4eff9\"/>\n    </g>\n    <g clip-path=\"url(#p15a108e7a8)\">\n     <use xlink:href=\"#C1_0_bf2c9fe780\" x=\"-3.305672\" y=\"247.285318\" style=\"fill: #e4eff9\"/>\n    </g>\n    <g clip-path=\"url(#p15a108e7a8)\">\n     <use xlink:href=\"#C1_0_bf2c9fe780\" x=\"-3.305672\" y=\"235.404326\" style=\"fill: #c6dbef\"/>\n    </g>\n    <g clip-path=\"url(#p15a108e7a8)\">\n     <use xlink:href=\"#C1_0_bf2c9fe780\" x=\"-3.305672\" y=\"223.523335\" style=\"fill: #f5f9fe\"/>\n    </g>\n    <g clip-path=\"url(#p15a108e7a8)\">\n     <use xlink:href=\"#C1_0_bf2c9fe780\" x=\"-3.305672\" y=\"211.642343\" style=\"fill: #f7fbff\"/>\n    </g>\n    <g clip-path=\"url(#p15a108e7a8)\">\n     <use xlink:href=\"#C1_0_bf2c9fe780\" x=\"3.545237\" y=\"342.333252\" style=\"fill: #d2e3f3\"/>\n    </g>\n    <g clip-path=\"url(#p15a108e7a8)\">\n     <use xlink:href=\"#C1_0_bf2c9fe780\" x=\"3.545237\" y=\"330.45226\" style=\"fill: #a8cee4\"/>\n    </g>\n    <g clip-path=\"url(#p15a108e7a8)\">\n     <use xlink:href=\"#C1_0_bf2c9fe780\" x=\"3.545237\" y=\"318.571269\" style=\"fill: #dbe9f6\"/>\n    </g>\n    <g clip-path=\"url(#p15a108e7a8)\">\n     <use xlink:href=\"#C1_0_bf2c9fe780\" x=\"3.545237\" y=\"306.690277\" style=\"fill: #dbe9f6\"/>\n    </g>\n    <g clip-path=\"url(#p15a108e7a8)\">\n     <use xlink:href=\"#C1_0_bf2c9fe780\" x=\"3.545237\" y=\"294.809285\" style=\"fill: #abd0e6\"/>\n    </g>\n    <g clip-path=\"url(#p15a108e7a8)\">\n     <use xlink:href=\"#C1_0_bf2c9fe780\" x=\"3.545237\" y=\"282.928293\" style=\"fill: #c9ddf0\"/>\n    </g>\n    <g clip-path=\"url(#p15a108e7a8)\">\n     <use xlink:href=\"#C1_0_bf2c9fe780\" x=\"3.545237\" y=\"271.047302\" style=\"fill: #c9ddf0\"/>\n    </g>\n    <g clip-path=\"url(#p15a108e7a8)\">\n     <use xlink:href=\"#C1_0_bf2c9fe780\" x=\"3.545237\" y=\"259.16631\" style=\"fill: #f0f6fd\"/>\n    </g>\n    <g clip-path=\"url(#p15a108e7a8)\">\n     <use xlink:href=\"#C1_0_bf2c9fe780\" x=\"3.545237\" y=\"247.285318\" style=\"fill: #f7fbff\"/>\n    </g>\n    <g clip-path=\"url(#p15a108e7a8)\">\n     <use xlink:href=\"#C1_0_bf2c9fe780\" x=\"3.545237\" y=\"235.404326\" style=\"fill: #f7fbff\"/>\n    </g>\n    <g clip-path=\"url(#p15a108e7a8)\">\n     <use xlink:href=\"#C1_0_bf2c9fe780\" x=\"3.545237\" y=\"223.523335\" style=\"fill: #f7fbff\"/>\n    </g>\n    <g clip-path=\"url(#p15a108e7a8)\">\n     <use xlink:href=\"#C1_0_bf2c9fe780\" x=\"3.545237\" y=\"211.642343\" style=\"fill: #f7fbff\"/>\n    </g>\n    <g clip-path=\"url(#p15a108e7a8)\">\n     <use xlink:href=\"#C1_0_bf2c9fe780\" x=\"10.396146\" y=\"342.333252\" style=\"fill: #f7fbff\"/>\n    </g>\n    <g clip-path=\"url(#p15a108e7a8)\">\n     <use xlink:href=\"#C1_0_bf2c9fe780\" x=\"10.396146\" y=\"330.45226\" style=\"fill: #eef5fc\"/>\n    </g>\n    <g clip-path=\"url(#p15a108e7a8)\">\n     <use xlink:href=\"#C1_0_bf2c9fe780\" x=\"10.396146\" y=\"318.571269\" style=\"fill: #ddeaf7\"/>\n    </g>\n    <g clip-path=\"url(#p15a108e7a8)\">\n     <use xlink:href=\"#C1_0_bf2c9fe780\" x=\"10.396146\" y=\"306.690277\" style=\"fill: #d0e1f2\"/>\n    </g>\n    <g clip-path=\"url(#p15a108e7a8)\">\n     <use xlink:href=\"#C1_0_bf2c9fe780\" x=\"10.396146\" y=\"294.809285\" style=\"fill: #dbe9f6\"/>\n    </g>\n    <g clip-path=\"url(#p15a108e7a8)\">\n     <use xlink:href=\"#C1_0_bf2c9fe780\" x=\"10.396146\" y=\"282.928293\" style=\"fill: #e4eff9\"/>\n    </g>\n    <g clip-path=\"url(#p15a108e7a8)\">\n     <use xlink:href=\"#C1_0_bf2c9fe780\" x=\"10.396146\" y=\"271.047302\" style=\"fill: #f2f8fd\"/>\n    </g>\n    <g clip-path=\"url(#p15a108e7a8)\">\n     <use xlink:href=\"#C1_0_bf2c9fe780\" x=\"10.396146\" y=\"259.16631\" style=\"fill: #f7fbff\"/>\n    </g>\n    <g clip-path=\"url(#p15a108e7a8)\">\n     <use xlink:href=\"#C1_0_bf2c9fe780\" x=\"10.396146\" y=\"247.285318\" style=\"fill: #f7fbff\"/>\n    </g>\n    <g clip-path=\"url(#p15a108e7a8)\">\n     <use xlink:href=\"#C1_0_bf2c9fe780\" x=\"10.396146\" y=\"235.404326\" style=\"fill: #f7fbff\"/>\n    </g>\n    <g clip-path=\"url(#p15a108e7a8)\">\n     <use xlink:href=\"#C1_0_bf2c9fe780\" x=\"10.396146\" y=\"223.523335\" style=\"fill: #f7fbff\"/>\n    </g>\n    <g clip-path=\"url(#p15a108e7a8)\">\n     <use xlink:href=\"#C1_0_bf2c9fe780\" x=\"10.396146\" y=\"211.642343\" style=\"fill: #f7fbff\"/>\n    </g>\n    <g clip-path=\"url(#p15a108e7a8)\">\n     <use xlink:href=\"#C1_0_bf2c9fe780\" x=\"17.247055\" y=\"342.333252\" style=\"fill: #f7fbff\"/>\n    </g>\n    <g clip-path=\"url(#p15a108e7a8)\">\n     <use xlink:href=\"#C1_0_bf2c9fe780\" x=\"17.247055\" y=\"330.45226\" style=\"fill: #f7fbff\"/>\n    </g>\n    <g clip-path=\"url(#p15a108e7a8)\">\n     <use xlink:href=\"#C1_0_bf2c9fe780\" x=\"17.247055\" y=\"318.571269\" style=\"fill: #ebf3fb\"/>\n    </g>\n    <g clip-path=\"url(#p15a108e7a8)\">\n     <use xlink:href=\"#C1_0_bf2c9fe780\" x=\"17.247055\" y=\"306.690277\" style=\"fill: #cbdef1\"/>\n    </g>\n    <g clip-path=\"url(#p15a108e7a8)\">\n     <use xlink:href=\"#C1_0_bf2c9fe780\" x=\"17.247055\" y=\"294.809285\" style=\"fill: #f5f9fe\"/>\n    </g>\n    <g clip-path=\"url(#p15a108e7a8)\">\n     <use xlink:href=\"#C1_0_bf2c9fe780\" x=\"17.247055\" y=\"282.928293\" style=\"fill: #f7fbff\"/>\n    </g>\n    <g clip-path=\"url(#p15a108e7a8)\">\n     <use xlink:href=\"#C1_0_bf2c9fe780\" x=\"17.247055\" y=\"271.047302\" style=\"fill: #f7fbff\"/>\n    </g>\n    <g clip-path=\"url(#p15a108e7a8)\">\n     <use xlink:href=\"#C1_0_bf2c9fe780\" x=\"17.247055\" y=\"259.16631\" style=\"fill: #f7fbff\"/>\n    </g>\n    <g clip-path=\"url(#p15a108e7a8)\">\n     <use xlink:href=\"#C1_0_bf2c9fe780\" x=\"17.247055\" y=\"247.285318\" style=\"fill: #f7fbff\"/>\n    </g>\n    <g clip-path=\"url(#p15a108e7a8)\">\n     <use xlink:href=\"#C1_0_bf2c9fe780\" x=\"17.247055\" y=\"235.404326\" style=\"fill: #f7fbff\"/>\n    </g>\n    <g clip-path=\"url(#p15a108e7a8)\">\n     <use xlink:href=\"#C1_0_bf2c9fe780\" x=\"17.247055\" y=\"223.523335\" style=\"fill: #f7fbff\"/>\n    </g>\n    <g clip-path=\"url(#p15a108e7a8)\">\n     <use xlink:href=\"#C1_0_bf2c9fe780\" x=\"17.247055\" y=\"211.642343\" style=\"fill: #f7fbff\"/>\n    </g>\n    <g clip-path=\"url(#p15a108e7a8)\">\n     <use xlink:href=\"#C1_0_bf2c9fe780\" x=\"24.097964\" y=\"342.333252\" style=\"fill: #f7fbff\"/>\n    </g>\n    <g clip-path=\"url(#p15a108e7a8)\">\n     <use xlink:href=\"#C1_0_bf2c9fe780\" x=\"24.097964\" y=\"330.45226\" style=\"fill: #f7fbff\"/>\n    </g>\n    <g clip-path=\"url(#p15a108e7a8)\">\n     <use xlink:href=\"#C1_0_bf2c9fe780\" x=\"24.097964\" y=\"318.571269\" style=\"fill: #f7fbff\"/>\n    </g>\n    <g clip-path=\"url(#p15a108e7a8)\">\n     <use xlink:href=\"#C1_0_bf2c9fe780\" x=\"24.097964\" y=\"306.690277\" style=\"fill: #dfecf7\"/>\n    </g>\n    <g clip-path=\"url(#p15a108e7a8)\">\n     <use xlink:href=\"#C1_0_bf2c9fe780\" x=\"24.097964\" y=\"294.809285\" style=\"fill: #f7fbff\"/>\n    </g>\n    <g clip-path=\"url(#p15a108e7a8)\">\n     <use xlink:href=\"#C1_0_bf2c9fe780\" x=\"24.097964\" y=\"282.928293\" style=\"fill: #f7fbff\"/>\n    </g>\n    <g clip-path=\"url(#p15a108e7a8)\">\n     <use xlink:href=\"#C1_0_bf2c9fe780\" x=\"24.097964\" y=\"271.047302\" style=\"fill: #f7fbff\"/>\n    </g>\n    <g clip-path=\"url(#p15a108e7a8)\">\n     <use xlink:href=\"#C1_0_bf2c9fe780\" x=\"24.097964\" y=\"259.16631\" style=\"fill: #f7fbff\"/>\n    </g>\n    <g clip-path=\"url(#p15a108e7a8)\">\n     <use xlink:href=\"#C1_0_bf2c9fe780\" x=\"24.097964\" y=\"247.285318\" style=\"fill: #f7fbff\"/>\n    </g>\n    <g clip-path=\"url(#p15a108e7a8)\">\n     <use xlink:href=\"#C1_0_bf2c9fe780\" x=\"24.097964\" y=\"235.404326\" style=\"fill: #f7fbff\"/>\n    </g>\n    <g clip-path=\"url(#p15a108e7a8)\">\n     <use xlink:href=\"#C1_0_bf2c9fe780\" x=\"24.097964\" y=\"223.523335\" style=\"fill: #f7fbff\"/>\n    </g>\n    <g clip-path=\"url(#p15a108e7a8)\">\n     <use xlink:href=\"#C1_0_bf2c9fe780\" x=\"24.097964\" y=\"211.642343\" style=\"fill: #f7fbff\"/>\n    </g>\n    <g clip-path=\"url(#p15a108e7a8)\">\n     <use xlink:href=\"#C1_0_bf2c9fe780\" x=\"30.948873\" y=\"342.333252\" style=\"fill: #f7fbff\"/>\n    </g>\n    <g clip-path=\"url(#p15a108e7a8)\">\n     <use xlink:href=\"#C1_0_bf2c9fe780\" x=\"30.948873\" y=\"330.45226\" style=\"fill: #f7fbff\"/>\n    </g>\n    <g clip-path=\"url(#p15a108e7a8)\">\n     <use xlink:href=\"#C1_0_bf2c9fe780\" x=\"30.948873\" y=\"318.571269\" style=\"fill: #f7fbff\"/>\n    </g>\n    <g clip-path=\"url(#p15a108e7a8)\">\n     <use xlink:href=\"#C1_0_bf2c9fe780\" x=\"30.948873\" y=\"306.690277\" style=\"fill: #f7fbff\"/>\n    </g>\n    <g clip-path=\"url(#p15a108e7a8)\">\n     <use xlink:href=\"#C1_0_bf2c9fe780\" x=\"30.948873\" y=\"294.809285\" style=\"fill: #f7fbff\"/>\n    </g>\n    <g clip-path=\"url(#p15a108e7a8)\">\n     <use xlink:href=\"#C1_0_bf2c9fe780\" x=\"30.948873\" y=\"282.928293\" style=\"fill: #f7fbff\"/>\n    </g>\n    <g clip-path=\"url(#p15a108e7a8)\">\n     <use xlink:href=\"#C1_0_bf2c9fe780\" x=\"30.948873\" y=\"271.047302\" style=\"fill: #f7fbff\"/>\n    </g>\n    <g clip-path=\"url(#p15a108e7a8)\">\n     <use xlink:href=\"#C1_0_bf2c9fe780\" x=\"30.948873\" y=\"259.16631\" style=\"fill: #f7fbff\"/>\n    </g>\n    <g clip-path=\"url(#p15a108e7a8)\">\n     <use xlink:href=\"#C1_0_bf2c9fe780\" x=\"30.948873\" y=\"247.285318\" style=\"fill: #f7fbff\"/>\n    </g>\n    <g clip-path=\"url(#p15a108e7a8)\">\n     <use xlink:href=\"#C1_0_bf2c9fe780\" x=\"30.948873\" y=\"235.404326\" style=\"fill: #f7fbff\"/>\n    </g>\n    <g clip-path=\"url(#p15a108e7a8)\">\n     <use xlink:href=\"#C1_0_bf2c9fe780\" x=\"30.948873\" y=\"223.523335\" style=\"fill: #f7fbff\"/>\n    </g>\n    <g clip-path=\"url(#p15a108e7a8)\">\n     <use xlink:href=\"#C1_0_bf2c9fe780\" x=\"30.948873\" y=\"211.642343\" style=\"fill: #f7fbff\"/>\n    </g>\n    <g clip-path=\"url(#p15a108e7a8)\">\n     <use xlink:href=\"#C1_0_bf2c9fe780\" x=\"37.799783\" y=\"342.333252\" style=\"fill: #f7fbff\"/>\n    </g>\n    <g clip-path=\"url(#p15a108e7a8)\">\n     <use xlink:href=\"#C1_0_bf2c9fe780\" x=\"37.799783\" y=\"330.45226\" style=\"fill: #f7fbff\"/>\n    </g>\n    <g clip-path=\"url(#p15a108e7a8)\">\n     <use xlink:href=\"#C1_0_bf2c9fe780\" x=\"37.799783\" y=\"318.571269\" style=\"fill: #f7fbff\"/>\n    </g>\n    <g clip-path=\"url(#p15a108e7a8)\">\n     <use xlink:href=\"#C1_0_bf2c9fe780\" x=\"37.799783\" y=\"306.690277\" style=\"fill: #f7fbff\"/>\n    </g>\n    <g clip-path=\"url(#p15a108e7a8)\">\n     <use xlink:href=\"#C1_0_bf2c9fe780\" x=\"37.799783\" y=\"294.809285\" style=\"fill: #f2f8fd\"/>\n    </g>\n    <g clip-path=\"url(#p15a108e7a8)\">\n     <use xlink:href=\"#C1_0_bf2c9fe780\" x=\"37.799783\" y=\"282.928293\" style=\"fill: #f2f8fd\"/>\n    </g>\n    <g clip-path=\"url(#p15a108e7a8)\">\n     <use xlink:href=\"#C1_0_bf2c9fe780\" x=\"37.799783\" y=\"271.047302\" style=\"fill: #eef5fc\"/>\n    </g>\n    <g clip-path=\"url(#p15a108e7a8)\">\n     <use xlink:href=\"#C1_0_bf2c9fe780\" x=\"37.799783\" y=\"259.16631\" style=\"fill: #f5f9fe\"/>\n    </g>\n    <g clip-path=\"url(#p15a108e7a8)\">\n     <use xlink:href=\"#C1_0_bf2c9fe780\" x=\"37.799783\" y=\"247.285318\" style=\"fill: #f7fbff\"/>\n    </g>\n    <g clip-path=\"url(#p15a108e7a8)\">\n     <use xlink:href=\"#C1_0_bf2c9fe780\" x=\"37.799783\" y=\"235.404326\" style=\"fill: #f7fbff\"/>\n    </g>\n    <g clip-path=\"url(#p15a108e7a8)\">\n     <use xlink:href=\"#C1_0_bf2c9fe780\" x=\"37.799783\" y=\"223.523335\" style=\"fill: #f7fbff\"/>\n    </g>\n    <g clip-path=\"url(#p15a108e7a8)\">\n     <use xlink:href=\"#C1_0_bf2c9fe780\" x=\"37.799783\" y=\"211.642343\" style=\"fill: #f7fbff\"/>\n    </g>\n    <g clip-path=\"url(#p15a108e7a8)\">\n     <use xlink:href=\"#C1_0_bf2c9fe780\" x=\"44.650692\" y=\"342.333252\" style=\"fill: #f7fbff\"/>\n    </g>\n    <g clip-path=\"url(#p15a108e7a8)\">\n     <use xlink:href=\"#C1_0_bf2c9fe780\" x=\"44.650692\" y=\"330.45226\" style=\"fill: #f7fbff\"/>\n    </g>\n    <g clip-path=\"url(#p15a108e7a8)\">\n     <use xlink:href=\"#C1_0_bf2c9fe780\" x=\"44.650692\" y=\"318.571269\" style=\"fill: #f7fbff\"/>\n    </g>\n    <g clip-path=\"url(#p15a108e7a8)\">\n     <use xlink:href=\"#C1_0_bf2c9fe780\" x=\"44.650692\" y=\"306.690277\" style=\"fill: #f7fbff\"/>\n    </g>\n    <g clip-path=\"url(#p15a108e7a8)\">\n     <use xlink:href=\"#C1_0_bf2c9fe780\" x=\"44.650692\" y=\"294.809285\" style=\"fill: #e9f2fa\"/>\n    </g>\n    <g clip-path=\"url(#p15a108e7a8)\">\n     <use xlink:href=\"#C1_0_bf2c9fe780\" x=\"44.650692\" y=\"282.928293\" style=\"fill: #d4e4f4\"/>\n    </g>\n    <g clip-path=\"url(#p15a108e7a8)\">\n     <use xlink:href=\"#C1_0_bf2c9fe780\" x=\"44.650692\" y=\"271.047302\" style=\"fill: #dbe9f6\"/>\n    </g>\n    <g clip-path=\"url(#p15a108e7a8)\">\n     <use xlink:href=\"#C1_0_bf2c9fe780\" x=\"44.650692\" y=\"259.16631\" style=\"fill: #cbdef1\"/>\n    </g>\n    <g clip-path=\"url(#p15a108e7a8)\">\n     <use xlink:href=\"#C1_0_bf2c9fe780\" x=\"44.650692\" y=\"247.285318\" style=\"fill: #a0cbe2\"/>\n    </g>\n    <g clip-path=\"url(#p15a108e7a8)\">\n     <use xlink:href=\"#C1_0_bf2c9fe780\" x=\"44.650692\" y=\"235.404326\" style=\"fill: #f7fbff\"/>\n    </g>\n    <g clip-path=\"url(#p15a108e7a8)\">\n     <use xlink:href=\"#C1_0_bf2c9fe780\" x=\"44.650692\" y=\"223.523335\" style=\"fill: #f7fbff\"/>\n    </g>\n    <g clip-path=\"url(#p15a108e7a8)\">\n     <use xlink:href=\"#C1_0_bf2c9fe780\" x=\"44.650692\" y=\"211.642343\" style=\"fill: #f7fbff\"/>\n    </g>\n    <g clip-path=\"url(#p15a108e7a8)\">\n     <use xlink:href=\"#C1_0_bf2c9fe780\" x=\"51.501601\" y=\"342.333252\" style=\"fill: #f7fbff\"/>\n    </g>\n    <g clip-path=\"url(#p15a108e7a8)\">\n     <use xlink:href=\"#C1_0_bf2c9fe780\" x=\"51.501601\" y=\"330.45226\" style=\"fill: #f7fbff\"/>\n    </g>\n    <g clip-path=\"url(#p15a108e7a8)\">\n     <use xlink:href=\"#C1_0_bf2c9fe780\" x=\"51.501601\" y=\"318.571269\" style=\"fill: #f7fbff\"/>\n    </g>\n    <g clip-path=\"url(#p15a108e7a8)\">\n     <use xlink:href=\"#C1_0_bf2c9fe780\" x=\"51.501601\" y=\"306.690277\" style=\"fill: #e9f2fa\"/>\n    </g>\n    <g clip-path=\"url(#p15a108e7a8)\">\n     <use xlink:href=\"#C1_0_bf2c9fe780\" x=\"51.501601\" y=\"294.809285\" style=\"fill: #b7d4ea\"/>\n    </g>\n    <g clip-path=\"url(#p15a108e7a8)\">\n     <use xlink:href=\"#C1_0_bf2c9fe780\" x=\"51.501601\" y=\"282.928293\" style=\"fill: #57a0ce\"/>\n    </g>\n    <g clip-path=\"url(#p15a108e7a8)\">\n     <use xlink:href=\"#C1_0_bf2c9fe780\" x=\"51.501601\" y=\"271.047302\" style=\"fill: #bad6eb\"/>\n    </g>\n    <g clip-path=\"url(#p15a108e7a8)\">\n     <use xlink:href=\"#C1_0_bf2c9fe780\" x=\"51.501601\" y=\"259.16631\" style=\"fill: #afd1e7\"/>\n    </g>\n    <g clip-path=\"url(#p15a108e7a8)\">\n     <use xlink:href=\"#C1_0_bf2c9fe780\" x=\"51.501601\" y=\"247.285318\" style=\"fill: #eef5fc\"/>\n    </g>\n    <g clip-path=\"url(#p15a108e7a8)\">\n     <use xlink:href=\"#C1_0_bf2c9fe780\" x=\"51.501601\" y=\"235.404326\" style=\"fill: #f7fbff\"/>\n    </g>\n    <g clip-path=\"url(#p15a108e7a8)\">\n     <use xlink:href=\"#C1_0_bf2c9fe780\" x=\"51.501601\" y=\"223.523335\" style=\"fill: #f7fbff\"/>\n    </g>\n    <g clip-path=\"url(#p15a108e7a8)\">\n     <use xlink:href=\"#C1_0_bf2c9fe780\" x=\"51.501601\" y=\"211.642343\" style=\"fill: #f7fbff\"/>\n    </g>\n    <g clip-path=\"url(#p15a108e7a8)\">\n     <use xlink:href=\"#C1_0_bf2c9fe780\" x=\"58.35251\" y=\"342.333252\" style=\"fill: #f7fbff\"/>\n    </g>\n    <g clip-path=\"url(#p15a108e7a8)\">\n     <use xlink:href=\"#C1_0_bf2c9fe780\" x=\"58.35251\" y=\"330.45226\" style=\"fill: #f7fbff\"/>\n    </g>\n    <g clip-path=\"url(#p15a108e7a8)\">\n     <use xlink:href=\"#C1_0_bf2c9fe780\" x=\"58.35251\" y=\"318.571269\" style=\"fill: #f7fbff\"/>\n    </g>\n    <g clip-path=\"url(#p15a108e7a8)\">\n     <use xlink:href=\"#C1_0_bf2c9fe780\" x=\"58.35251\" y=\"306.690277\" style=\"fill: #eef5fc\"/>\n    </g>\n    <g clip-path=\"url(#p15a108e7a8)\">\n     <use xlink:href=\"#C1_0_bf2c9fe780\" x=\"58.35251\" y=\"294.809285\" style=\"fill: #75b4d8\"/>\n    </g>\n    <g clip-path=\"url(#p15a108e7a8)\">\n     <use xlink:href=\"#C1_0_bf2c9fe780\" x=\"58.35251\" y=\"282.928293\" style=\"fill: #5ba3d0\"/>\n    </g>\n    <g clip-path=\"url(#p15a108e7a8)\">\n     <use xlink:href=\"#C1_0_bf2c9fe780\" x=\"58.35251\" y=\"271.047302\" style=\"fill: #b7d4ea\"/>\n    </g>\n    <g clip-path=\"url(#p15a108e7a8)\">\n     <use xlink:href=\"#C1_0_bf2c9fe780\" x=\"58.35251\" y=\"259.16631\" style=\"fill: #dbe9f6\"/>\n    </g>\n    <g clip-path=\"url(#p15a108e7a8)\">\n     <use xlink:href=\"#C1_0_bf2c9fe780\" x=\"58.35251\" y=\"247.285318\" style=\"fill: #f7fbff\"/>\n    </g>\n    <g clip-path=\"url(#p15a108e7a8)\">\n     <use xlink:href=\"#C1_0_bf2c9fe780\" x=\"58.35251\" y=\"235.404326\" style=\"fill: #f7fbff\"/>\n    </g>\n    <g clip-path=\"url(#p15a108e7a8)\">\n     <use xlink:href=\"#C1_0_bf2c9fe780\" x=\"58.35251\" y=\"223.523335\" style=\"fill: #f7fbff\"/>\n    </g>\n    <g clip-path=\"url(#p15a108e7a8)\">\n     <use xlink:href=\"#C1_0_bf2c9fe780\" x=\"58.35251\" y=\"211.642343\" style=\"fill: #f7fbff\"/>\n    </g>\n    <g clip-path=\"url(#p15a108e7a8)\">\n     <use xlink:href=\"#C1_0_bf2c9fe780\" x=\"65.203419\" y=\"342.333252\" style=\"fill: #f7fbff\"/>\n    </g>\n    <g clip-path=\"url(#p15a108e7a8)\">\n     <use xlink:href=\"#C1_0_bf2c9fe780\" x=\"65.203419\" y=\"330.45226\" style=\"fill: #f7fbff\"/>\n    </g>\n    <g clip-path=\"url(#p15a108e7a8)\">\n     <use xlink:href=\"#C1_0_bf2c9fe780\" x=\"65.203419\" y=\"318.571269\" style=\"fill: #f7fbff\"/>\n    </g>\n    <g clip-path=\"url(#p15a108e7a8)\">\n     <use xlink:href=\"#C1_0_bf2c9fe780\" x=\"65.203419\" y=\"306.690277\" style=\"fill: #8dc1dd\"/>\n    </g>\n    <g clip-path=\"url(#p15a108e7a8)\">\n     <use xlink:href=\"#C1_0_bf2c9fe780\" x=\"65.203419\" y=\"294.809285\" style=\"fill: #a4cce3\"/>\n    </g>\n    <g clip-path=\"url(#p15a108e7a8)\">\n     <use xlink:href=\"#C1_0_bf2c9fe780\" x=\"65.203419\" y=\"282.928293\" style=\"fill: #89bedc\"/>\n    </g>\n    <g clip-path=\"url(#p15a108e7a8)\">\n     <use xlink:href=\"#C1_0_bf2c9fe780\" x=\"65.203419\" y=\"271.047302\" style=\"fill: #bad6eb\"/>\n    </g>\n    <g clip-path=\"url(#p15a108e7a8)\">\n     <use xlink:href=\"#C1_0_bf2c9fe780\" x=\"65.203419\" y=\"259.16631\" style=\"fill: #c2d9ee\"/>\n    </g>\n    <g clip-path=\"url(#p15a108e7a8)\">\n     <use xlink:href=\"#C1_0_bf2c9fe780\" x=\"65.203419\" y=\"247.285318\" style=\"fill: #f7fbff\"/>\n    </g>\n    <g clip-path=\"url(#p15a108e7a8)\">\n     <use xlink:href=\"#C1_0_bf2c9fe780\" x=\"65.203419\" y=\"235.404326\" style=\"fill: #f7fbff\"/>\n    </g>\n    <g clip-path=\"url(#p15a108e7a8)\">\n     <use xlink:href=\"#C1_0_bf2c9fe780\" x=\"65.203419\" y=\"223.523335\" style=\"fill: #f7fbff\"/>\n    </g>\n    <g clip-path=\"url(#p15a108e7a8)\">\n     <use xlink:href=\"#C1_0_bf2c9fe780\" x=\"65.203419\" y=\"211.642343\" style=\"fill: #f7fbff\"/>\n    </g>\n    <g clip-path=\"url(#p15a108e7a8)\">\n     <use xlink:href=\"#C1_0_bf2c9fe780\" x=\"72.054328\" y=\"342.333252\" style=\"fill: #f7fbff\"/>\n    </g>\n    <g clip-path=\"url(#p15a108e7a8)\">\n     <use xlink:href=\"#C1_0_bf2c9fe780\" x=\"72.054328\" y=\"330.45226\" style=\"fill: #f7fbff\"/>\n    </g>\n    <g clip-path=\"url(#p15a108e7a8)\">\n     <use xlink:href=\"#C1_0_bf2c9fe780\" x=\"72.054328\" y=\"318.571269\" style=\"fill: #f7fbff\"/>\n    </g>\n    <g clip-path=\"url(#p15a108e7a8)\">\n     <use xlink:href=\"#C1_0_bf2c9fe780\" x=\"72.054328\" y=\"306.690277\" style=\"fill: #2777b8\"/>\n    </g>\n    <g clip-path=\"url(#p15a108e7a8)\">\n     <use xlink:href=\"#C1_0_bf2c9fe780\" x=\"72.054328\" y=\"294.809285\" style=\"fill: #7fb9da\"/>\n    </g>\n    <g clip-path=\"url(#p15a108e7a8)\">\n     <use xlink:href=\"#C1_0_bf2c9fe780\" x=\"72.054328\" y=\"282.928293\" style=\"fill: #c6dbef\"/>\n    </g>\n    <g clip-path=\"url(#p15a108e7a8)\">\n     <use xlink:href=\"#C1_0_bf2c9fe780\" x=\"72.054328\" y=\"271.047302\" style=\"fill: #d9e7f5\"/>\n    </g>\n    <g clip-path=\"url(#p15a108e7a8)\">\n     <use xlink:href=\"#C1_0_bf2c9fe780\" x=\"72.054328\" y=\"259.16631\" style=\"fill: #dbe9f6\"/>\n    </g>\n    <g clip-path=\"url(#p15a108e7a8)\">\n     <use xlink:href=\"#C1_0_bf2c9fe780\" x=\"72.054328\" y=\"247.285318\" style=\"fill: #f7fbff\"/>\n    </g>\n    <g clip-path=\"url(#p15a108e7a8)\">\n     <use xlink:href=\"#C1_0_bf2c9fe780\" x=\"72.054328\" y=\"235.404326\" style=\"fill: #f7fbff\"/>\n    </g>\n    <g clip-path=\"url(#p15a108e7a8)\">\n     <use xlink:href=\"#C1_0_bf2c9fe780\" x=\"72.054328\" y=\"223.523335\" style=\"fill: #f7fbff\"/>\n    </g>\n    <g clip-path=\"url(#p15a108e7a8)\">\n     <use xlink:href=\"#C1_0_bf2c9fe780\" x=\"72.054328\" y=\"211.642343\" style=\"fill: #f7fbff\"/>\n    </g>\n    <g clip-path=\"url(#p15a108e7a8)\">\n     <use xlink:href=\"#C1_0_bf2c9fe780\" x=\"78.905237\" y=\"342.333252\" style=\"fill: #f7fbff\"/>\n    </g>\n    <g clip-path=\"url(#p15a108e7a8)\">\n     <use xlink:href=\"#C1_0_bf2c9fe780\" x=\"78.905237\" y=\"330.45226\" style=\"fill: #f7fbff\"/>\n    </g>\n    <g clip-path=\"url(#p15a108e7a8)\">\n     <use xlink:href=\"#C1_0_bf2c9fe780\" x=\"78.905237\" y=\"318.571269\" style=\"fill: #f7fbff\"/>\n    </g>\n    <g clip-path=\"url(#p15a108e7a8)\">\n     <use xlink:href=\"#C1_0_bf2c9fe780\" x=\"78.905237\" y=\"306.690277\" style=\"fill: #f5f9fe\"/>\n    </g>\n    <g clip-path=\"url(#p15a108e7a8)\">\n     <use xlink:href=\"#C1_0_bf2c9fe780\" x=\"78.905237\" y=\"294.809285\" style=\"fill: #eef5fc\"/>\n    </g>\n    <g clip-path=\"url(#p15a108e7a8)\">\n     <use xlink:href=\"#C1_0_bf2c9fe780\" x=\"78.905237\" y=\"282.928293\" style=\"fill: #e7f0fa\"/>\n    </g>\n    <g clip-path=\"url(#p15a108e7a8)\">\n     <use xlink:href=\"#C1_0_bf2c9fe780\" x=\"78.905237\" y=\"271.047302\" style=\"fill: #f7fbff\"/>\n    </g>\n    <g clip-path=\"url(#p15a108e7a8)\">\n     <use xlink:href=\"#C1_0_bf2c9fe780\" x=\"78.905237\" y=\"259.16631\" style=\"fill: #f7fbff\"/>\n    </g>\n    <g clip-path=\"url(#p15a108e7a8)\">\n     <use xlink:href=\"#C1_0_bf2c9fe780\" x=\"78.905237\" y=\"247.285318\" style=\"fill: #f7fbff\"/>\n    </g>\n    <g clip-path=\"url(#p15a108e7a8)\">\n     <use xlink:href=\"#C1_0_bf2c9fe780\" x=\"78.905237\" y=\"235.404326\" style=\"fill: #f7fbff\"/>\n    </g>\n    <g clip-path=\"url(#p15a108e7a8)\">\n     <use xlink:href=\"#C1_0_bf2c9fe780\" x=\"78.905237\" y=\"223.523335\" style=\"fill: #f7fbff\"/>\n    </g>\n    <g clip-path=\"url(#p15a108e7a8)\">\n     <use xlink:href=\"#C1_0_bf2c9fe780\" x=\"78.905237\" y=\"211.642343\" style=\"fill: #f7fbff\"/>\n    </g>\n    <g clip-path=\"url(#p15a108e7a8)\">\n     <use xlink:href=\"#C1_0_bf2c9fe780\" x=\"-54.68749\" y=\"336.392756\" style=\"fill: #f7fbff\"/>\n    </g>\n    <g clip-path=\"url(#p15a108e7a8)\">\n     <use xlink:href=\"#C1_0_bf2c9fe780\" x=\"-54.68749\" y=\"324.511764\" style=\"fill: #f7fbff\"/>\n    </g>\n    <g clip-path=\"url(#p15a108e7a8)\">\n     <use xlink:href=\"#C1_0_bf2c9fe780\" x=\"-54.68749\" y=\"312.630773\" style=\"fill: #f7fbff\"/>\n    </g>\n    <g clip-path=\"url(#p15a108e7a8)\">\n     <use xlink:href=\"#C1_0_bf2c9fe780\" x=\"-54.68749\" y=\"300.749781\" style=\"fill: #e9f2fa\"/>\n    </g>\n    <g clip-path=\"url(#p15a108e7a8)\">\n     <use xlink:href=\"#C1_0_bf2c9fe780\" x=\"-54.68749\" y=\"288.868789\" style=\"fill: #eef5fc\"/>\n    </g>\n    <g clip-path=\"url(#p15a108e7a8)\">\n     <use xlink:href=\"#C1_0_bf2c9fe780\" x=\"-54.68749\" y=\"276.987798\" style=\"fill: #d4e4f4\"/>\n    </g>\n    <g clip-path=\"url(#p15a108e7a8)\">\n     <use xlink:href=\"#C1_0_bf2c9fe780\" x=\"-54.68749\" y=\"265.106806\" style=\"fill: #f2f8fd\"/>\n    </g>\n    <g clip-path=\"url(#p15a108e7a8)\">\n     <use xlink:href=\"#C1_0_bf2c9fe780\" x=\"-54.68749\" y=\"253.225814\" style=\"fill: #f7fbff\"/>\n    </g>\n    <g clip-path=\"url(#p15a108e7a8)\">\n     <use xlink:href=\"#C1_0_bf2c9fe780\" x=\"-54.68749\" y=\"241.344822\" style=\"fill: #f7fbff\"/>\n    </g>\n    <g clip-path=\"url(#p15a108e7a8)\">\n     <use xlink:href=\"#C1_0_bf2c9fe780\" x=\"-54.68749\" y=\"229.463831\" style=\"fill: #f7fbff\"/>\n    </g>\n    <g clip-path=\"url(#p15a108e7a8)\">\n     <use xlink:href=\"#C1_0_bf2c9fe780\" x=\"-54.68749\" y=\"217.582839\" style=\"fill: #f7fbff\"/>\n    </g>\n    <g clip-path=\"url(#p15a108e7a8)\">\n     <use xlink:href=\"#C1_0_bf2c9fe780\" x=\"-47.836581\" y=\"336.392756\" style=\"fill: #f7fbff\"/>\n    </g>\n    <g clip-path=\"url(#p15a108e7a8)\">\n     <use xlink:href=\"#C1_0_bf2c9fe780\" x=\"-47.836581\" y=\"324.511764\" style=\"fill: #f7fbff\"/>\n    </g>\n    <g clip-path=\"url(#p15a108e7a8)\">\n     <use xlink:href=\"#C1_0_bf2c9fe780\" x=\"-47.836581\" y=\"312.630773\" style=\"fill: #ddeaf7\"/>\n    </g>\n    <g clip-path=\"url(#p15a108e7a8)\">\n     <use xlink:href=\"#C1_0_bf2c9fe780\" x=\"-47.836581\" y=\"300.749781\" style=\"fill: #afd1e7\"/>\n    </g>\n    <g clip-path=\"url(#p15a108e7a8)\">\n     <use xlink:href=\"#C1_0_bf2c9fe780\" x=\"-47.836581\" y=\"288.868789\" style=\"fill: #9cc9e1\"/>\n    </g>\n    <g clip-path=\"url(#p15a108e7a8)\">\n     <use xlink:href=\"#C1_0_bf2c9fe780\" x=\"-47.836581\" y=\"276.987798\" style=\"fill: #e2edf8\"/>\n    </g>\n    <g clip-path=\"url(#p15a108e7a8)\">\n     <use xlink:href=\"#C1_0_bf2c9fe780\" x=\"-47.836581\" y=\"265.106806\" style=\"fill: #eef5fc\"/>\n    </g>\n    <g clip-path=\"url(#p15a108e7a8)\">\n     <use xlink:href=\"#C1_0_bf2c9fe780\" x=\"-47.836581\" y=\"253.225814\" style=\"fill: #f7fbff\"/>\n    </g>\n    <g clip-path=\"url(#p15a108e7a8)\">\n     <use xlink:href=\"#C1_0_bf2c9fe780\" x=\"-47.836581\" y=\"241.344822\" style=\"fill: #f7fbff\"/>\n    </g>\n    <g clip-path=\"url(#p15a108e7a8)\">\n     <use xlink:href=\"#C1_0_bf2c9fe780\" x=\"-47.836581\" y=\"229.463831\" style=\"fill: #f7fbff\"/>\n    </g>\n    <g clip-path=\"url(#p15a108e7a8)\">\n     <use xlink:href=\"#C1_0_bf2c9fe780\" x=\"-47.836581\" y=\"217.582839\" style=\"fill: #f7fbff\"/>\n    </g>\n    <g clip-path=\"url(#p15a108e7a8)\">\n     <use xlink:href=\"#C1_0_bf2c9fe780\" x=\"-40.985672\" y=\"336.392756\" style=\"fill: #f7fbff\"/>\n    </g>\n    <g clip-path=\"url(#p15a108e7a8)\">\n     <use xlink:href=\"#C1_0_bf2c9fe780\" x=\"-40.985672\" y=\"324.511764\" style=\"fill: #ebf3fb\"/>\n    </g>\n    <g clip-path=\"url(#p15a108e7a8)\">\n     <use xlink:href=\"#C1_0_bf2c9fe780\" x=\"-40.985672\" y=\"312.630773\" style=\"fill: #7fb9da\"/>\n    </g>\n    <g clip-path=\"url(#p15a108e7a8)\">\n     <use xlink:href=\"#C1_0_bf2c9fe780\" x=\"-40.985672\" y=\"300.749781\" style=\"fill: #1c6ab0\"/>\n    </g>\n    <g clip-path=\"url(#p15a108e7a8)\">\n     <use xlink:href=\"#C1_0_bf2c9fe780\" x=\"-40.985672\" y=\"288.868789\" style=\"fill: #5ba3d0\"/>\n    </g>\n    <g clip-path=\"url(#p15a108e7a8)\">\n     <use xlink:href=\"#C1_0_bf2c9fe780\" x=\"-40.985672\" y=\"276.987798\" style=\"fill: #d6e6f4\"/>\n    </g>\n    <g clip-path=\"url(#p15a108e7a8)\">\n     <use xlink:href=\"#C1_0_bf2c9fe780\" x=\"-40.985672\" y=\"265.106806\" style=\"fill: #ebf3fb\"/>\n    </g>\n    <g clip-path=\"url(#p15a108e7a8)\">\n     <use xlink:href=\"#C1_0_bf2c9fe780\" x=\"-40.985672\" y=\"253.225814\" style=\"fill: #f5f9fe\"/>\n    </g>\n    <g clip-path=\"url(#p15a108e7a8)\">\n     <use xlink:href=\"#C1_0_bf2c9fe780\" x=\"-40.985672\" y=\"241.344822\" style=\"fill: #f7fbff\"/>\n    </g>\n    <g clip-path=\"url(#p15a108e7a8)\">\n     <use xlink:href=\"#C1_0_bf2c9fe780\" x=\"-40.985672\" y=\"229.463831\" style=\"fill: #f7fbff\"/>\n    </g>\n    <g clip-path=\"url(#p15a108e7a8)\">\n     <use xlink:href=\"#C1_0_bf2c9fe780\" x=\"-40.985672\" y=\"217.582839\" style=\"fill: #f7fbff\"/>\n    </g>\n    <g clip-path=\"url(#p15a108e7a8)\">\n     <use xlink:href=\"#C1_0_bf2c9fe780\" x=\"-34.134763\" y=\"336.392756\" style=\"fill: #f7fbff\"/>\n    </g>\n    <g clip-path=\"url(#p15a108e7a8)\">\n     <use xlink:href=\"#C1_0_bf2c9fe780\" x=\"-34.134763\" y=\"324.511764\" style=\"fill: #d9e7f5\"/>\n    </g>\n    <g clip-path=\"url(#p15a108e7a8)\">\n     <use xlink:href=\"#C1_0_bf2c9fe780\" x=\"-34.134763\" y=\"312.630773\" style=\"fill: #2e7ebc\"/>\n    </g>\n    <g clip-path=\"url(#p15a108e7a8)\">\n     <use xlink:href=\"#C1_0_bf2c9fe780\" x=\"-34.134763\" y=\"300.749781\" style=\"fill: #1967ad\"/>\n    </g>\n    <g clip-path=\"url(#p15a108e7a8)\">\n     <use xlink:href=\"#C1_0_bf2c9fe780\" x=\"-34.134763\" y=\"288.868789\" style=\"fill: #7ab6d9\"/>\n    </g>\n    <g clip-path=\"url(#p15a108e7a8)\">\n     <use xlink:href=\"#C1_0_bf2c9fe780\" x=\"-34.134763\" y=\"276.987798\" style=\"fill: #b3d3e8\"/>\n    </g>\n    <g clip-path=\"url(#p15a108e7a8)\">\n     <use xlink:href=\"#C1_0_bf2c9fe780\" x=\"-34.134763\" y=\"265.106806\" style=\"fill: #d0e1f2\"/>\n    </g>\n    <g clip-path=\"url(#p15a108e7a8)\">\n     <use xlink:href=\"#C1_0_bf2c9fe780\" x=\"-34.134763\" y=\"253.225814\" style=\"fill: #e9f2fa\"/>\n    </g>\n    <g clip-path=\"url(#p15a108e7a8)\">\n     <use xlink:href=\"#C1_0_bf2c9fe780\" x=\"-34.134763\" y=\"241.344822\" style=\"fill: #f7fbff\"/>\n    </g>\n    <g clip-path=\"url(#p15a108e7a8)\">\n     <use xlink:href=\"#C1_0_bf2c9fe780\" x=\"-34.134763\" y=\"229.463831\" style=\"fill: #d9e7f5\"/>\n    </g>\n    <g clip-path=\"url(#p15a108e7a8)\">\n     <use xlink:href=\"#C1_0_bf2c9fe780\" x=\"-34.134763\" y=\"217.582839\" style=\"fill: #f7fbff\"/>\n    </g>\n    <g clip-path=\"url(#p15a108e7a8)\">\n     <use xlink:href=\"#C1_0_bf2c9fe780\" x=\"-27.283854\" y=\"336.392756\" style=\"fill: #f7fbff\"/>\n    </g>\n    <g clip-path=\"url(#p15a108e7a8)\">\n     <use xlink:href=\"#C1_0_bf2c9fe780\" x=\"-27.283854\" y=\"324.511764\" style=\"fill: #1561a9\"/>\n    </g>\n    <g clip-path=\"url(#p15a108e7a8)\">\n     <use xlink:href=\"#C1_0_bf2c9fe780\" x=\"-27.283854\" y=\"312.630773\" style=\"fill: #1c6ab0\"/>\n    </g>\n    <g clip-path=\"url(#p15a108e7a8)\">\n     <use xlink:href=\"#C1_0_bf2c9fe780\" x=\"-27.283854\" y=\"300.749781\" style=\"fill: #1561a9\"/>\n    </g>\n    <g clip-path=\"url(#p15a108e7a8)\">\n     <use xlink:href=\"#C1_0_bf2c9fe780\" x=\"-27.283854\" y=\"288.868789\" style=\"fill: #71b1d7\"/>\n    </g>\n    <g clip-path=\"url(#p15a108e7a8)\">\n     <use xlink:href=\"#C1_0_bf2c9fe780\" x=\"-27.283854\" y=\"276.987798\" style=\"fill: #cbdef1\"/>\n    </g>\n    <g clip-path=\"url(#p15a108e7a8)\">\n     <use xlink:href=\"#C1_0_bf2c9fe780\" x=\"-27.283854\" y=\"265.106806\" style=\"fill: #c9ddf0\"/>\n    </g>\n    <g clip-path=\"url(#p15a108e7a8)\">\n     <use xlink:href=\"#C1_0_bf2c9fe780\" x=\"-27.283854\" y=\"253.225814\" style=\"fill: #f2f8fd\"/>\n    </g>\n    <g clip-path=\"url(#p15a108e7a8)\">\n     <use xlink:href=\"#C1_0_bf2c9fe780\" x=\"-27.283854\" y=\"241.344822\" style=\"fill: #f2f8fd\"/>\n    </g>\n    <g clip-path=\"url(#p15a108e7a8)\">\n     <use xlink:href=\"#C1_0_bf2c9fe780\" x=\"-27.283854\" y=\"229.463831\" style=\"fill: #ddeaf7\"/>\n    </g>\n    <g clip-path=\"url(#p15a108e7a8)\">\n     <use xlink:href=\"#C1_0_bf2c9fe780\" x=\"-27.283854\" y=\"217.582839\" style=\"fill: #c6dbef\"/>\n    </g>\n    <g clip-path=\"url(#p15a108e7a8)\">\n     <use xlink:href=\"#C1_0_bf2c9fe780\" x=\"-20.432945\" y=\"336.392756\" style=\"fill: #d0e1f2\"/>\n    </g>\n    <g clip-path=\"url(#p15a108e7a8)\">\n     <use xlink:href=\"#C1_0_bf2c9fe780\" x=\"-20.432945\" y=\"324.511764\" style=\"fill: #3d8dc4\"/>\n    </g>\n    <g clip-path=\"url(#p15a108e7a8)\">\n     <use xlink:href=\"#C1_0_bf2c9fe780\" x=\"-20.432945\" y=\"312.630773\" style=\"fill: #4b98ca\"/>\n    </g>\n    <g clip-path=\"url(#p15a108e7a8)\">\n     <use xlink:href=\"#C1_0_bf2c9fe780\" x=\"-20.432945\" y=\"300.749781\" style=\"fill: #4896c8\"/>\n    </g>\n    <g clip-path=\"url(#p15a108e7a8)\">\n     <use xlink:href=\"#C1_0_bf2c9fe780\" x=\"-20.432945\" y=\"288.868789\" style=\"fill: #4493c7\"/>\n    </g>\n    <g clip-path=\"url(#p15a108e7a8)\">\n     <use xlink:href=\"#C1_0_bf2c9fe780\" x=\"-20.432945\" y=\"276.987798\" style=\"fill: #97c6df\"/>\n    </g>\n    <g clip-path=\"url(#p15a108e7a8)\">\n     <use xlink:href=\"#C1_0_bf2c9fe780\" x=\"-20.432945\" y=\"265.106806\" style=\"fill: #d2e3f3\"/>\n    </g>\n    <g clip-path=\"url(#p15a108e7a8)\">\n     <use xlink:href=\"#C1_0_bf2c9fe780\" x=\"-20.432945\" y=\"253.225814\" style=\"fill: #dfecf7\"/>\n    </g>\n    <g clip-path=\"url(#p15a108e7a8)\">\n     <use xlink:href=\"#C1_0_bf2c9fe780\" x=\"-20.432945\" y=\"241.344822\" style=\"fill: #dfecf7\"/>\n    </g>\n    <g clip-path=\"url(#p15a108e7a8)\">\n     <use xlink:href=\"#C1_0_bf2c9fe780\" x=\"-20.432945\" y=\"229.463831\" style=\"fill: #a0cbe2\"/>\n    </g>\n    <g clip-path=\"url(#p15a108e7a8)\">\n     <use xlink:href=\"#C1_0_bf2c9fe780\" x=\"-20.432945\" y=\"217.582839\" style=\"fill: #bad6eb\"/>\n    </g>\n    <g clip-path=\"url(#p15a108e7a8)\">\n     <use xlink:href=\"#C1_0_bf2c9fe780\" x=\"-13.582036\" y=\"336.392756\" style=\"fill: #e7f0fa\"/>\n    </g>\n    <g clip-path=\"url(#p15a108e7a8)\">\n     <use xlink:href=\"#C1_0_bf2c9fe780\" x=\"-13.582036\" y=\"324.511764\" style=\"fill: #7fb9da\"/>\n    </g>\n    <g clip-path=\"url(#p15a108e7a8)\">\n     <use xlink:href=\"#C1_0_bf2c9fe780\" x=\"-13.582036\" y=\"312.630773\" style=\"fill: #2070b4\"/>\n    </g>\n    <g clip-path=\"url(#p15a108e7a8)\">\n     <use xlink:href=\"#C1_0_bf2c9fe780\" x=\"-13.582036\" y=\"300.749781\" style=\"fill: #4090c5\"/>\n    </g>\n    <g clip-path=\"url(#p15a108e7a8)\">\n     <use xlink:href=\"#C1_0_bf2c9fe780\" x=\"-13.582036\" y=\"288.868789\" style=\"fill: #4493c7\"/>\n    </g>\n    <g clip-path=\"url(#p15a108e7a8)\">\n     <use xlink:href=\"#C1_0_bf2c9fe780\" x=\"-13.582036\" y=\"276.987798\" style=\"fill: #84bcdb\"/>\n    </g>\n    <g clip-path=\"url(#p15a108e7a8)\">\n     <use xlink:href=\"#C1_0_bf2c9fe780\" x=\"-13.582036\" y=\"265.106806\" style=\"fill: #a4cce3\"/>\n    </g>\n    <g clip-path=\"url(#p15a108e7a8)\">\n     <use xlink:href=\"#C1_0_bf2c9fe780\" x=\"-13.582036\" y=\"253.225814\" style=\"fill: #ddeaf7\"/>\n    </g>\n    <g clip-path=\"url(#p15a108e7a8)\">\n     <use xlink:href=\"#C1_0_bf2c9fe780\" x=\"-13.582036\" y=\"241.344822\" style=\"fill: #c2d9ee\"/>\n    </g>\n    <g clip-path=\"url(#p15a108e7a8)\">\n     <use xlink:href=\"#C1_0_bf2c9fe780\" x=\"-13.582036\" y=\"229.463831\" style=\"fill: #abd0e6\"/>\n    </g>\n    <g clip-path=\"url(#p15a108e7a8)\">\n     <use xlink:href=\"#C1_0_bf2c9fe780\" x=\"-13.582036\" y=\"217.582839\" style=\"fill: #e2edf8\"/>\n    </g>\n    <g clip-path=\"url(#p15a108e7a8)\">\n     <use xlink:href=\"#C1_0_bf2c9fe780\" x=\"-6.731127\" y=\"336.392756\" style=\"fill: #eef5fc\"/>\n    </g>\n    <g clip-path=\"url(#p15a108e7a8)\">\n     <use xlink:href=\"#C1_0_bf2c9fe780\" x=\"-6.731127\" y=\"324.511764\" style=\"fill: #dfecf7\"/>\n    </g>\n    <g clip-path=\"url(#p15a108e7a8)\">\n     <use xlink:href=\"#C1_0_bf2c9fe780\" x=\"-6.731127\" y=\"312.630773\" style=\"fill: #89bedc\"/>\n    </g>\n    <g clip-path=\"url(#p15a108e7a8)\">\n     <use xlink:href=\"#C1_0_bf2c9fe780\" x=\"-6.731127\" y=\"300.749781\" style=\"fill: #539ecd\"/>\n    </g>\n    <g clip-path=\"url(#p15a108e7a8)\">\n     <use xlink:href=\"#C1_0_bf2c9fe780\" x=\"-6.731127\" y=\"288.868789\" style=\"fill: #a4cce3\"/>\n    </g>\n    <g clip-path=\"url(#p15a108e7a8)\">\n     <use xlink:href=\"#C1_0_bf2c9fe780\" x=\"-6.731127\" y=\"276.987798\" style=\"fill: #92c4de\"/>\n    </g>\n    <g clip-path=\"url(#p15a108e7a8)\">\n     <use xlink:href=\"#C1_0_bf2c9fe780\" x=\"-6.731127\" y=\"265.106806\" style=\"fill: #ddeaf7\"/>\n    </g>\n    <g clip-path=\"url(#p15a108e7a8)\">\n     <use xlink:href=\"#C1_0_bf2c9fe780\" x=\"-6.731127\" y=\"253.225814\" style=\"fill: #dfecf7\"/>\n    </g>\n    <g clip-path=\"url(#p15a108e7a8)\">\n     <use xlink:href=\"#C1_0_bf2c9fe780\" x=\"-6.731127\" y=\"241.344822\" style=\"fill: #c2d9ee\"/>\n    </g>\n    <g clip-path=\"url(#p15a108e7a8)\">\n     <use xlink:href=\"#C1_0_bf2c9fe780\" x=\"-6.731127\" y=\"229.463831\" style=\"fill: #c6dbef\"/>\n    </g>\n    <g clip-path=\"url(#p15a108e7a8)\">\n     <use xlink:href=\"#C1_0_bf2c9fe780\" x=\"-6.731127\" y=\"217.582839\" style=\"fill: #f7fbff\"/>\n    </g>\n    <g clip-path=\"url(#p15a108e7a8)\">\n     <use xlink:href=\"#C1_0_bf2c9fe780\" x=\"0.119783\" y=\"336.392756\" style=\"fill: #8dc1dd\"/>\n    </g>\n    <g clip-path=\"url(#p15a108e7a8)\">\n     <use xlink:href=\"#C1_0_bf2c9fe780\" x=\"0.119783\" y=\"324.511764\" style=\"fill: #dbe9f6\"/>\n    </g>\n    <g clip-path=\"url(#p15a108e7a8)\">\n     <use xlink:href=\"#C1_0_bf2c9fe780\" x=\"0.119783\" y=\"312.630773\" style=\"fill: #d9e7f5\"/>\n    </g>\n    <g clip-path=\"url(#p15a108e7a8)\">\n     <use xlink:href=\"#C1_0_bf2c9fe780\" x=\"0.119783\" y=\"300.749781\" style=\"fill: #539ecd\"/>\n    </g>\n    <g clip-path=\"url(#p15a108e7a8)\">\n     <use xlink:href=\"#C1_0_bf2c9fe780\" x=\"0.119783\" y=\"288.868789\" style=\"fill: #d2e3f3\"/>\n    </g>\n    <g clip-path=\"url(#p15a108e7a8)\">\n     <use xlink:href=\"#C1_0_bf2c9fe780\" x=\"0.119783\" y=\"276.987798\" style=\"fill: #92c4de\"/>\n    </g>\n    <g clip-path=\"url(#p15a108e7a8)\">\n     <use xlink:href=\"#C1_0_bf2c9fe780\" x=\"0.119783\" y=\"265.106806\" style=\"fill: #cbdef1\"/>\n    </g>\n    <g clip-path=\"url(#p15a108e7a8)\">\n     <use xlink:href=\"#C1_0_bf2c9fe780\" x=\"0.119783\" y=\"253.225814\" style=\"fill: #e4eff9\"/>\n    </g>\n    <g clip-path=\"url(#p15a108e7a8)\">\n     <use xlink:href=\"#C1_0_bf2c9fe780\" x=\"0.119783\" y=\"241.344822\" style=\"fill: #f7fbff\"/>\n    </g>\n    <g clip-path=\"url(#p15a108e7a8)\">\n     <use xlink:href=\"#C1_0_bf2c9fe780\" x=\"0.119783\" y=\"229.463831\" style=\"fill: #f7fbff\"/>\n    </g>\n    <g clip-path=\"url(#p15a108e7a8)\">\n     <use xlink:href=\"#C1_0_bf2c9fe780\" x=\"0.119783\" y=\"217.582839\" style=\"fill: #f7fbff\"/>\n    </g>\n    <g clip-path=\"url(#p15a108e7a8)\">\n     <use xlink:href=\"#C1_0_bf2c9fe780\" x=\"6.970692\" y=\"336.392756\" style=\"fill: #97c6df\"/>\n    </g>\n    <g clip-path=\"url(#p15a108e7a8)\">\n     <use xlink:href=\"#C1_0_bf2c9fe780\" x=\"6.970692\" y=\"324.511764\" style=\"fill: #d0e1f2\"/>\n    </g>\n    <g clip-path=\"url(#p15a108e7a8)\">\n     <use xlink:href=\"#C1_0_bf2c9fe780\" x=\"6.970692\" y=\"312.630773\" style=\"fill: #dfecf7\"/>\n    </g>\n    <g clip-path=\"url(#p15a108e7a8)\">\n     <use xlink:href=\"#C1_0_bf2c9fe780\" x=\"6.970692\" y=\"300.749781\" style=\"fill: #bad6eb\"/>\n    </g>\n    <g clip-path=\"url(#p15a108e7a8)\">\n     <use xlink:href=\"#C1_0_bf2c9fe780\" x=\"6.970692\" y=\"288.868789\" style=\"fill: #d4e4f4\"/>\n    </g>\n    <g clip-path=\"url(#p15a108e7a8)\">\n     <use xlink:href=\"#C1_0_bf2c9fe780\" x=\"6.970692\" y=\"276.987798\" style=\"fill: #ddeaf7\"/>\n    </g>\n    <g clip-path=\"url(#p15a108e7a8)\">\n     <use xlink:href=\"#C1_0_bf2c9fe780\" x=\"6.970692\" y=\"265.106806\" style=\"fill: #ebf3fb\"/>\n    </g>\n    <g clip-path=\"url(#p15a108e7a8)\">\n     <use xlink:href=\"#C1_0_bf2c9fe780\" x=\"6.970692\" y=\"253.225814\" style=\"fill: #f7fbff\"/>\n    </g>\n    <g clip-path=\"url(#p15a108e7a8)\">\n     <use xlink:href=\"#C1_0_bf2c9fe780\" x=\"6.970692\" y=\"241.344822\" style=\"fill: #f7fbff\"/>\n    </g>\n    <g clip-path=\"url(#p15a108e7a8)\">\n     <use xlink:href=\"#C1_0_bf2c9fe780\" x=\"6.970692\" y=\"229.463831\" style=\"fill: #f7fbff\"/>\n    </g>\n    <g clip-path=\"url(#p15a108e7a8)\">\n     <use xlink:href=\"#C1_0_bf2c9fe780\" x=\"6.970692\" y=\"217.582839\" style=\"fill: #f7fbff\"/>\n    </g>\n    <g clip-path=\"url(#p15a108e7a8)\">\n     <use xlink:href=\"#C1_0_bf2c9fe780\" x=\"13.821601\" y=\"336.392756\" style=\"fill: #f7fbff\"/>\n    </g>\n    <g clip-path=\"url(#p15a108e7a8)\">\n     <use xlink:href=\"#C1_0_bf2c9fe780\" x=\"13.821601\" y=\"324.511764\" style=\"fill: #f7fbff\"/>\n    </g>\n    <g clip-path=\"url(#p15a108e7a8)\">\n     <use xlink:href=\"#C1_0_bf2c9fe780\" x=\"13.821601\" y=\"312.630773\" style=\"fill: #a4cce3\"/>\n    </g>\n    <g clip-path=\"url(#p15a108e7a8)\">\n     <use xlink:href=\"#C1_0_bf2c9fe780\" x=\"13.821601\" y=\"300.749781\" style=\"fill: #e9f2fa\"/>\n    </g>\n    <g clip-path=\"url(#p15a108e7a8)\">\n     <use xlink:href=\"#C1_0_bf2c9fe780\" x=\"13.821601\" y=\"288.868789\" style=\"fill: #f5f9fe\"/>\n    </g>\n    <g clip-path=\"url(#p15a108e7a8)\">\n     <use xlink:href=\"#C1_0_bf2c9fe780\" x=\"13.821601\" y=\"276.987798\" style=\"fill: #f5f9fe\"/>\n    </g>\n    <g clip-path=\"url(#p15a108e7a8)\">\n     <use xlink:href=\"#C1_0_bf2c9fe780\" x=\"13.821601\" y=\"265.106806\" style=\"fill: #f7fbff\"/>\n    </g>\n    <g clip-path=\"url(#p15a108e7a8)\">\n     <use xlink:href=\"#C1_0_bf2c9fe780\" x=\"13.821601\" y=\"253.225814\" style=\"fill: #f7fbff\"/>\n    </g>\n    <g clip-path=\"url(#p15a108e7a8)\">\n     <use xlink:href=\"#C1_0_bf2c9fe780\" x=\"13.821601\" y=\"241.344822\" style=\"fill: #f7fbff\"/>\n    </g>\n    <g clip-path=\"url(#p15a108e7a8)\">\n     <use xlink:href=\"#C1_0_bf2c9fe780\" x=\"13.821601\" y=\"229.463831\" style=\"fill: #f7fbff\"/>\n    </g>\n    <g clip-path=\"url(#p15a108e7a8)\">\n     <use xlink:href=\"#C1_0_bf2c9fe780\" x=\"13.821601\" y=\"217.582839\" style=\"fill: #f7fbff\"/>\n    </g>\n    <g clip-path=\"url(#p15a108e7a8)\">\n     <use xlink:href=\"#C1_0_bf2c9fe780\" x=\"20.67251\" y=\"336.392756\" style=\"fill: #f7fbff\"/>\n    </g>\n    <g clip-path=\"url(#p15a108e7a8)\">\n     <use xlink:href=\"#C1_0_bf2c9fe780\" x=\"20.67251\" y=\"324.511764\" style=\"fill: #f7fbff\"/>\n    </g>\n    <g clip-path=\"url(#p15a108e7a8)\">\n     <use xlink:href=\"#C1_0_bf2c9fe780\" x=\"20.67251\" y=\"312.630773\" style=\"fill: #bad6eb\"/>\n    </g>\n    <g clip-path=\"url(#p15a108e7a8)\">\n     <use xlink:href=\"#C1_0_bf2c9fe780\" x=\"20.67251\" y=\"300.749781\" style=\"fill: #f2f8fd\"/>\n    </g>\n    <g clip-path=\"url(#p15a108e7a8)\">\n     <use xlink:href=\"#C1_0_bf2c9fe780\" x=\"20.67251\" y=\"288.868789\" style=\"fill: #f5f9fe\"/>\n    </g>\n    <g clip-path=\"url(#p15a108e7a8)\">\n     <use xlink:href=\"#C1_0_bf2c9fe780\" x=\"20.67251\" y=\"276.987798\" style=\"fill: #f7fbff\"/>\n    </g>\n    <g clip-path=\"url(#p15a108e7a8)\">\n     <use xlink:href=\"#C1_0_bf2c9fe780\" x=\"20.67251\" y=\"265.106806\" style=\"fill: #f7fbff\"/>\n    </g>\n    <g clip-path=\"url(#p15a108e7a8)\">\n     <use xlink:href=\"#C1_0_bf2c9fe780\" x=\"20.67251\" y=\"253.225814\" style=\"fill: #f7fbff\"/>\n    </g>\n    <g clip-path=\"url(#p15a108e7a8)\">\n     <use xlink:href=\"#C1_0_bf2c9fe780\" x=\"20.67251\" y=\"241.344822\" style=\"fill: #f7fbff\"/>\n    </g>\n    <g clip-path=\"url(#p15a108e7a8)\">\n     <use xlink:href=\"#C1_0_bf2c9fe780\" x=\"20.67251\" y=\"229.463831\" style=\"fill: #f7fbff\"/>\n    </g>\n    <g clip-path=\"url(#p15a108e7a8)\">\n     <use xlink:href=\"#C1_0_bf2c9fe780\" x=\"20.67251\" y=\"217.582839\" style=\"fill: #f7fbff\"/>\n    </g>\n    <g clip-path=\"url(#p15a108e7a8)\">\n     <use xlink:href=\"#C1_0_bf2c9fe780\" x=\"27.523419\" y=\"336.392756\" style=\"fill: #f7fbff\"/>\n    </g>\n    <g clip-path=\"url(#p15a108e7a8)\">\n     <use xlink:href=\"#C1_0_bf2c9fe780\" x=\"27.523419\" y=\"324.511764\" style=\"fill: #f7fbff\"/>\n    </g>\n    <g clip-path=\"url(#p15a108e7a8)\">\n     <use xlink:href=\"#C1_0_bf2c9fe780\" x=\"27.523419\" y=\"312.630773\" style=\"fill: #f7fbff\"/>\n    </g>\n    <g clip-path=\"url(#p15a108e7a8)\">\n     <use xlink:href=\"#C1_0_bf2c9fe780\" x=\"27.523419\" y=\"300.749781\" style=\"fill: #f7fbff\"/>\n    </g>\n    <g clip-path=\"url(#p15a108e7a8)\">\n     <use xlink:href=\"#C1_0_bf2c9fe780\" x=\"27.523419\" y=\"288.868789\" style=\"fill: #f7fbff\"/>\n    </g>\n    <g clip-path=\"url(#p15a108e7a8)\">\n     <use xlink:href=\"#C1_0_bf2c9fe780\" x=\"27.523419\" y=\"276.987798\" style=\"fill: #f7fbff\"/>\n    </g>\n    <g clip-path=\"url(#p15a108e7a8)\">\n     <use xlink:href=\"#C1_0_bf2c9fe780\" x=\"27.523419\" y=\"265.106806\" style=\"fill: #f7fbff\"/>\n    </g>\n    <g clip-path=\"url(#p15a108e7a8)\">\n     <use xlink:href=\"#C1_0_bf2c9fe780\" x=\"27.523419\" y=\"253.225814\" style=\"fill: #f7fbff\"/>\n    </g>\n    <g clip-path=\"url(#p15a108e7a8)\">\n     <use xlink:href=\"#C1_0_bf2c9fe780\" x=\"27.523419\" y=\"241.344822\" style=\"fill: #f7fbff\"/>\n    </g>\n    <g clip-path=\"url(#p15a108e7a8)\">\n     <use xlink:href=\"#C1_0_bf2c9fe780\" x=\"27.523419\" y=\"229.463831\" style=\"fill: #f7fbff\"/>\n    </g>\n    <g clip-path=\"url(#p15a108e7a8)\">\n     <use xlink:href=\"#C1_0_bf2c9fe780\" x=\"27.523419\" y=\"217.582839\" style=\"fill: #f7fbff\"/>\n    </g>\n    <g clip-path=\"url(#p15a108e7a8)\">\n     <use xlink:href=\"#C1_0_bf2c9fe780\" x=\"34.374328\" y=\"336.392756\" style=\"fill: #f7fbff\"/>\n    </g>\n    <g clip-path=\"url(#p15a108e7a8)\">\n     <use xlink:href=\"#C1_0_bf2c9fe780\" x=\"34.374328\" y=\"324.511764\" style=\"fill: #f7fbff\"/>\n    </g>\n    <g clip-path=\"url(#p15a108e7a8)\">\n     <use xlink:href=\"#C1_0_bf2c9fe780\" x=\"34.374328\" y=\"312.630773\" style=\"fill: #f7fbff\"/>\n    </g>\n    <g clip-path=\"url(#p15a108e7a8)\">\n     <use xlink:href=\"#C1_0_bf2c9fe780\" x=\"34.374328\" y=\"300.749781\" style=\"fill: #f7fbff\"/>\n    </g>\n    <g clip-path=\"url(#p15a108e7a8)\">\n     <use xlink:href=\"#C1_0_bf2c9fe780\" x=\"34.374328\" y=\"288.868789\" style=\"fill: #f7fbff\"/>\n    </g>\n    <g clip-path=\"url(#p15a108e7a8)\">\n     <use xlink:href=\"#C1_0_bf2c9fe780\" x=\"34.374328\" y=\"276.987798\" style=\"fill: #f5f9fe\"/>\n    </g>\n    <g clip-path=\"url(#p15a108e7a8)\">\n     <use xlink:href=\"#C1_0_bf2c9fe780\" x=\"34.374328\" y=\"265.106806\" style=\"fill: #f7fbff\"/>\n    </g>\n    <g clip-path=\"url(#p15a108e7a8)\">\n     <use xlink:href=\"#C1_0_bf2c9fe780\" x=\"34.374328\" y=\"253.225814\" style=\"fill: #f7fbff\"/>\n    </g>\n    <g clip-path=\"url(#p15a108e7a8)\">\n     <use xlink:href=\"#C1_0_bf2c9fe780\" x=\"34.374328\" y=\"241.344822\" style=\"fill: #f7fbff\"/>\n    </g>\n    <g clip-path=\"url(#p15a108e7a8)\">\n     <use xlink:href=\"#C1_0_bf2c9fe780\" x=\"34.374328\" y=\"229.463831\" style=\"fill: #f7fbff\"/>\n    </g>\n    <g clip-path=\"url(#p15a108e7a8)\">\n     <use xlink:href=\"#C1_0_bf2c9fe780\" x=\"34.374328\" y=\"217.582839\" style=\"fill: #f7fbff\"/>\n    </g>\n    <g clip-path=\"url(#p15a108e7a8)\">\n     <use xlink:href=\"#C1_0_bf2c9fe780\" x=\"41.225237\" y=\"336.392756\" style=\"fill: #f7fbff\"/>\n    </g>\n    <g clip-path=\"url(#p15a108e7a8)\">\n     <use xlink:href=\"#C1_0_bf2c9fe780\" x=\"41.225237\" y=\"324.511764\" style=\"fill: #f7fbff\"/>\n    </g>\n    <g clip-path=\"url(#p15a108e7a8)\">\n     <use xlink:href=\"#C1_0_bf2c9fe780\" x=\"41.225237\" y=\"312.630773\" style=\"fill: #f7fbff\"/>\n    </g>\n    <g clip-path=\"url(#p15a108e7a8)\">\n     <use xlink:href=\"#C1_0_bf2c9fe780\" x=\"41.225237\" y=\"300.749781\" style=\"fill: #eef5fc\"/>\n    </g>\n    <g clip-path=\"url(#p15a108e7a8)\">\n     <use xlink:href=\"#C1_0_bf2c9fe780\" x=\"41.225237\" y=\"288.868789\" style=\"fill: #e7f0fa\"/>\n    </g>\n    <g clip-path=\"url(#p15a108e7a8)\">\n     <use xlink:href=\"#C1_0_bf2c9fe780\" x=\"41.225237\" y=\"276.987798\" style=\"fill: #e9f2fa\"/>\n    </g>\n    <g clip-path=\"url(#p15a108e7a8)\">\n     <use xlink:href=\"#C1_0_bf2c9fe780\" x=\"41.225237\" y=\"265.106806\" style=\"fill: #f0f6fd\"/>\n    </g>\n    <g clip-path=\"url(#p15a108e7a8)\">\n     <use xlink:href=\"#C1_0_bf2c9fe780\" x=\"41.225237\" y=\"253.225814\" style=\"fill: #e9f2fa\"/>\n    </g>\n    <g clip-path=\"url(#p15a108e7a8)\">\n     <use xlink:href=\"#C1_0_bf2c9fe780\" x=\"41.225237\" y=\"241.344822\" style=\"fill: #f7fbff\"/>\n    </g>\n    <g clip-path=\"url(#p15a108e7a8)\">\n     <use xlink:href=\"#C1_0_bf2c9fe780\" x=\"41.225237\" y=\"229.463831\" style=\"fill: #f7fbff\"/>\n    </g>\n    <g clip-path=\"url(#p15a108e7a8)\">\n     <use xlink:href=\"#C1_0_bf2c9fe780\" x=\"41.225237\" y=\"217.582839\" style=\"fill: #f7fbff\"/>\n    </g>\n    <g clip-path=\"url(#p15a108e7a8)\">\n     <use xlink:href=\"#C1_0_bf2c9fe780\" x=\"48.076146\" y=\"336.392756\" style=\"fill: #f7fbff\"/>\n    </g>\n    <g clip-path=\"url(#p15a108e7a8)\">\n     <use xlink:href=\"#C1_0_bf2c9fe780\" x=\"48.076146\" y=\"324.511764\" style=\"fill: #f7fbff\"/>\n    </g>\n    <g clip-path=\"url(#p15a108e7a8)\">\n     <use xlink:href=\"#C1_0_bf2c9fe780\" x=\"48.076146\" y=\"312.630773\" style=\"fill: #f7fbff\"/>\n    </g>\n    <g clip-path=\"url(#p15a108e7a8)\">\n     <use xlink:href=\"#C1_0_bf2c9fe780\" x=\"48.076146\" y=\"300.749781\" style=\"fill: #e7f0fa\"/>\n    </g>\n    <g clip-path=\"url(#p15a108e7a8)\">\n     <use xlink:href=\"#C1_0_bf2c9fe780\" x=\"48.076146\" y=\"288.868789\" style=\"fill: #abd0e6\"/>\n    </g>\n    <g clip-path=\"url(#p15a108e7a8)\">\n     <use xlink:href=\"#C1_0_bf2c9fe780\" x=\"48.076146\" y=\"276.987798\" style=\"fill: #c9ddf0\"/>\n    </g>\n    <g clip-path=\"url(#p15a108e7a8)\">\n     <use xlink:href=\"#C1_0_bf2c9fe780\" x=\"48.076146\" y=\"265.106806\" style=\"fill: #bad6eb\"/>\n    </g>\n    <g clip-path=\"url(#p15a108e7a8)\">\n     <use xlink:href=\"#C1_0_bf2c9fe780\" x=\"48.076146\" y=\"253.225814\" style=\"fill: #afd1e7\"/>\n    </g>\n    <g clip-path=\"url(#p15a108e7a8)\">\n     <use xlink:href=\"#C1_0_bf2c9fe780\" x=\"48.076146\" y=\"241.344822\" style=\"fill: #f5f9fe\"/>\n    </g>\n    <g clip-path=\"url(#p15a108e7a8)\">\n     <use xlink:href=\"#C1_0_bf2c9fe780\" x=\"48.076146\" y=\"229.463831\" style=\"fill: #f7fbff\"/>\n    </g>\n    <g clip-path=\"url(#p15a108e7a8)\">\n     <use xlink:href=\"#C1_0_bf2c9fe780\" x=\"48.076146\" y=\"217.582839\" style=\"fill: #f7fbff\"/>\n    </g>\n    <g clip-path=\"url(#p15a108e7a8)\">\n     <use xlink:href=\"#C1_0_bf2c9fe780\" x=\"54.927055\" y=\"336.392756\" style=\"fill: #f7fbff\"/>\n    </g>\n    <g clip-path=\"url(#p15a108e7a8)\">\n     <use xlink:href=\"#C1_0_bf2c9fe780\" x=\"54.927055\" y=\"324.511764\" style=\"fill: #f7fbff\"/>\n    </g>\n    <g clip-path=\"url(#p15a108e7a8)\">\n     <use xlink:href=\"#C1_0_bf2c9fe780\" x=\"54.927055\" y=\"312.630773\" style=\"fill: #f7fbff\"/>\n    </g>\n    <g clip-path=\"url(#p15a108e7a8)\">\n     <use xlink:href=\"#C1_0_bf2c9fe780\" x=\"54.927055\" y=\"300.749781\" style=\"fill: #c2d9ee\"/>\n    </g>\n    <g clip-path=\"url(#p15a108e7a8)\">\n     <use xlink:href=\"#C1_0_bf2c9fe780\" x=\"54.927055\" y=\"288.868789\" style=\"fill: #75b4d8\"/>\n    </g>\n    <g clip-path=\"url(#p15a108e7a8)\">\n     <use xlink:href=\"#C1_0_bf2c9fe780\" x=\"54.927055\" y=\"276.987798\" style=\"fill: #abd0e6\"/>\n    </g>\n    <g clip-path=\"url(#p15a108e7a8)\">\n     <use xlink:href=\"#C1_0_bf2c9fe780\" x=\"54.927055\" y=\"265.106806\" style=\"fill: #d2e3f3\"/>\n    </g>\n    <g clip-path=\"url(#p15a108e7a8)\">\n     <use xlink:href=\"#C1_0_bf2c9fe780\" x=\"54.927055\" y=\"253.225814\" style=\"fill: #cde0f1\"/>\n    </g>\n    <g clip-path=\"url(#p15a108e7a8)\">\n     <use xlink:href=\"#C1_0_bf2c9fe780\" x=\"54.927055\" y=\"241.344822\" style=\"fill: #f7fbff\"/>\n    </g>\n    <g clip-path=\"url(#p15a108e7a8)\">\n     <use xlink:href=\"#C1_0_bf2c9fe780\" x=\"54.927055\" y=\"229.463831\" style=\"fill: #f7fbff\"/>\n    </g>\n    <g clip-path=\"url(#p15a108e7a8)\">\n     <use xlink:href=\"#C1_0_bf2c9fe780\" x=\"54.927055\" y=\"217.582839\" style=\"fill: #f7fbff\"/>\n    </g>\n    <g clip-path=\"url(#p15a108e7a8)\">\n     <use xlink:href=\"#C1_0_bf2c9fe780\" x=\"61.777964\" y=\"336.392756\" style=\"fill: #f7fbff\"/>\n    </g>\n    <g clip-path=\"url(#p15a108e7a8)\">\n     <use xlink:href=\"#C1_0_bf2c9fe780\" x=\"61.777964\" y=\"324.511764\" style=\"fill: #f7fbff\"/>\n    </g>\n    <g clip-path=\"url(#p15a108e7a8)\">\n     <use xlink:href=\"#C1_0_bf2c9fe780\" x=\"61.777964\" y=\"312.630773\" style=\"fill: #f7fbff\"/>\n    </g>\n    <g clip-path=\"url(#p15a108e7a8)\">\n     <use xlink:href=\"#C1_0_bf2c9fe780\" x=\"61.777964\" y=\"300.749781\" style=\"fill: #a8cee4\"/>\n    </g>\n    <g clip-path=\"url(#p15a108e7a8)\">\n     <use xlink:href=\"#C1_0_bf2c9fe780\" x=\"61.777964\" y=\"288.868789\" style=\"fill: #b3d3e8\"/>\n    </g>\n    <g clip-path=\"url(#p15a108e7a8)\">\n     <use xlink:href=\"#C1_0_bf2c9fe780\" x=\"61.777964\" y=\"276.987798\" style=\"fill: #a4cce3\"/>\n    </g>\n    <g clip-path=\"url(#p15a108e7a8)\">\n     <use xlink:href=\"#C1_0_bf2c9fe780\" x=\"61.777964\" y=\"265.106806\" style=\"fill: #d6e6f4\"/>\n    </g>\n    <g clip-path=\"url(#p15a108e7a8)\">\n     <use xlink:href=\"#C1_0_bf2c9fe780\" x=\"61.777964\" y=\"253.225814\" style=\"fill: #f7fbff\"/>\n    </g>\n    <g clip-path=\"url(#p15a108e7a8)\">\n     <use xlink:href=\"#C1_0_bf2c9fe780\" x=\"61.777964\" y=\"241.344822\" style=\"fill: #f7fbff\"/>\n    </g>\n    <g clip-path=\"url(#p15a108e7a8)\">\n     <use xlink:href=\"#C1_0_bf2c9fe780\" x=\"61.777964\" y=\"229.463831\" style=\"fill: #f7fbff\"/>\n    </g>\n    <g clip-path=\"url(#p15a108e7a8)\">\n     <use xlink:href=\"#C1_0_bf2c9fe780\" x=\"61.777964\" y=\"217.582839\" style=\"fill: #f7fbff\"/>\n    </g>\n    <g clip-path=\"url(#p15a108e7a8)\">\n     <use xlink:href=\"#C1_0_bf2c9fe780\" x=\"68.628873\" y=\"336.392756\" style=\"fill: #f7fbff\"/>\n    </g>\n    <g clip-path=\"url(#p15a108e7a8)\">\n     <use xlink:href=\"#C1_0_bf2c9fe780\" x=\"68.628873\" y=\"324.511764\" style=\"fill: #f7fbff\"/>\n    </g>\n    <g clip-path=\"url(#p15a108e7a8)\">\n     <use xlink:href=\"#C1_0_bf2c9fe780\" x=\"68.628873\" y=\"312.630773\" style=\"fill: #eef5fc\"/>\n    </g>\n    <g clip-path=\"url(#p15a108e7a8)\">\n     <use xlink:href=\"#C1_0_bf2c9fe780\" x=\"68.628873\" y=\"300.749781\" style=\"fill: #66abd4\"/>\n    </g>\n    <g clip-path=\"url(#p15a108e7a8)\">\n     <use xlink:href=\"#C1_0_bf2c9fe780\" x=\"68.628873\" y=\"288.868789\" style=\"fill: #a0cbe2\"/>\n    </g>\n    <g clip-path=\"url(#p15a108e7a8)\">\n     <use xlink:href=\"#C1_0_bf2c9fe780\" x=\"68.628873\" y=\"276.987798\" style=\"fill: #abd0e6\"/>\n    </g>\n    <g clip-path=\"url(#p15a108e7a8)\">\n     <use xlink:href=\"#C1_0_bf2c9fe780\" x=\"68.628873\" y=\"265.106806\" style=\"fill: #ddeaf7\"/>\n    </g>\n    <g clip-path=\"url(#p15a108e7a8)\">\n     <use xlink:href=\"#C1_0_bf2c9fe780\" x=\"68.628873\" y=\"253.225814\" style=\"fill: #f7fbff\"/>\n    </g>\n    <g clip-path=\"url(#p15a108e7a8)\">\n     <use xlink:href=\"#C1_0_bf2c9fe780\" x=\"68.628873\" y=\"241.344822\" style=\"fill: #f7fbff\"/>\n    </g>\n    <g clip-path=\"url(#p15a108e7a8)\">\n     <use xlink:href=\"#C1_0_bf2c9fe780\" x=\"68.628873\" y=\"229.463831\" style=\"fill: #f7fbff\"/>\n    </g>\n    <g clip-path=\"url(#p15a108e7a8)\">\n     <use xlink:href=\"#C1_0_bf2c9fe780\" x=\"68.628873\" y=\"217.582839\" style=\"fill: #f7fbff\"/>\n    </g>\n    <g clip-path=\"url(#p15a108e7a8)\">\n     <use xlink:href=\"#C1_0_bf2c9fe780\" x=\"75.479783\" y=\"336.392756\" style=\"fill: #f7fbff\"/>\n    </g>\n    <g clip-path=\"url(#p15a108e7a8)\">\n     <use xlink:href=\"#C1_0_bf2c9fe780\" x=\"75.479783\" y=\"324.511764\" style=\"fill: #f7fbff\"/>\n    </g>\n    <g clip-path=\"url(#p15a108e7a8)\">\n     <use xlink:href=\"#C1_0_bf2c9fe780\" x=\"75.479783\" y=\"312.630773\" style=\"fill: #f7fbff\"/>\n    </g>\n    <g clip-path=\"url(#p15a108e7a8)\">\n     <use xlink:href=\"#C1_0_bf2c9fe780\" x=\"75.479783\" y=\"300.749781\" style=\"fill: #c2d9ee\"/>\n    </g>\n    <g clip-path=\"url(#p15a108e7a8)\">\n     <use xlink:href=\"#C1_0_bf2c9fe780\" x=\"75.479783\" y=\"288.868789\" style=\"fill: #cbdef1\"/>\n    </g>\n    <g clip-path=\"url(#p15a108e7a8)\">\n     <use xlink:href=\"#C1_0_bf2c9fe780\" x=\"75.479783\" y=\"276.987798\" style=\"fill: #e2edf8\"/>\n    </g>\n    <g clip-path=\"url(#p15a108e7a8)\">\n     <use xlink:href=\"#C1_0_bf2c9fe780\" x=\"75.479783\" y=\"265.106806\" style=\"fill: #e4eff9\"/>\n    </g>\n    <g clip-path=\"url(#p15a108e7a8)\">\n     <use xlink:href=\"#C1_0_bf2c9fe780\" x=\"75.479783\" y=\"253.225814\" style=\"fill: #f7fbff\"/>\n    </g>\n    <g clip-path=\"url(#p15a108e7a8)\">\n     <use xlink:href=\"#C1_0_bf2c9fe780\" x=\"75.479783\" y=\"241.344822\" style=\"fill: #f7fbff\"/>\n    </g>\n    <g clip-path=\"url(#p15a108e7a8)\">\n     <use xlink:href=\"#C1_0_bf2c9fe780\" x=\"75.479783\" y=\"229.463831\" style=\"fill: #f7fbff\"/>\n    </g>\n    <g clip-path=\"url(#p15a108e7a8)\">\n     <use xlink:href=\"#C1_0_bf2c9fe780\" x=\"75.479783\" y=\"217.582839\" style=\"fill: #f7fbff\"/>\n    </g>\n   </g>\n   <g id=\"matplotlib.axis_3\"/>\n   <g id=\"matplotlib.axis_4\"/>\n   <g id=\"patch_8\">\n    <path d=\"M 170.88 167.90175 \nL 170.88 24.14175 \n\" style=\"fill: none; stroke: #000000; stroke-width: 0.8; stroke-linejoin: miter; stroke-linecap: square\"/>\n   </g>\n   <g id=\"patch_9\">\n    <path d=\"M 321.6 167.90175 \nL 321.6 24.14175 \n\" style=\"fill: none; stroke: #000000; stroke-width: 0.8; stroke-linejoin: miter; stroke-linecap: square\"/>\n   </g>\n   <g id=\"patch_10\">\n    <path d=\"M 170.88 167.90175 \nL 321.6 167.90175 \n\" style=\"fill: none; stroke: #000000; stroke-width: 0.8; stroke-linejoin: miter; stroke-linecap: square\"/>\n   </g>\n   <g id=\"patch_11\">\n    <path d=\"M 170.88 24.14175 \nL 321.6 24.14175 \n\" style=\"fill: none; stroke: #000000; stroke-width: 0.8; stroke-linejoin: miter; stroke-linecap: square\"/>\n   </g>\n   <g id=\"text_2\">\n    <!-- joy -->\n    <g transform=\"translate(235.57275 18.14175) scale(0.144 -0.144)\">\n     <defs>\n      <path id=\"DejaVuSans-6a\" d=\"M 603 3500 \nL 1178 3500 \nL 1178 -63 \nQ 1178 -731 923 -1031 \nQ 669 -1331 103 -1331 \nL -116 -1331 \nL -116 -844 \nL 38 -844 \nQ 366 -844 484 -692 \nQ 603 -541 603 -63 \nL 603 3500 \nz\nM 603 4863 \nL 1178 4863 \nL 1178 4134 \nL 603 4134 \nL 603 4863 \nz\n\" transform=\"scale(0.015625)\"/>\n      <path id=\"DejaVuSans-6f\" d=\"M 1959 3097 \nQ 1497 3097 1228 2736 \nQ 959 2375 959 1747 \nQ 959 1119 1226 758 \nQ 1494 397 1959 397 \nQ 2419 397 2687 759 \nQ 2956 1122 2956 1747 \nQ 2956 2369 2687 2733 \nQ 2419 3097 1959 3097 \nz\nM 1959 3584 \nQ 2709 3584 3137 3096 \nQ 3566 2609 3566 1747 \nQ 3566 888 3137 398 \nQ 2709 -91 1959 -91 \nQ 1206 -91 779 398 \nQ 353 888 353 1747 \nQ 353 2609 779 3096 \nQ 1206 3584 1959 3584 \nz\n\" transform=\"scale(0.015625)\"/>\n      <path id=\"DejaVuSans-79\" d=\"M 2059 -325 \nQ 1816 -950 1584 -1140 \nQ 1353 -1331 966 -1331 \nL 506 -1331 \nL 506 -850 \nL 844 -850 \nQ 1081 -850 1212 -737 \nQ 1344 -625 1503 -206 \nL 1606 56 \nL 191 3500 \nL 800 3500 \nL 1894 763 \nL 2988 3500 \nL 3597 3500 \nL 2059 -325 \nz\n\" transform=\"scale(0.015625)\"/>\n     </defs>\n     <use xlink:href=\"#DejaVuSans-6a\"/>\n     <use xlink:href=\"#DejaVuSans-6f\" x=\"27.783203\"/>\n     <use xlink:href=\"#DejaVuSans-79\" x=\"88.964844\"/>\n    </g>\n   </g>\n  </g>\n  <g id=\"axes_3\">\n   <g id=\"patch_12\">\n    <path d=\"M 334.56 167.90175 \nL 485.28 167.90175 \nL 485.28 24.14175 \nL 334.56 24.14175 \nz\n\" style=\"fill: #ffffff\"/>\n   </g>\n   <g id=\"PolyCollection_3\">\n    <defs>\n     <path id=\"C2_0_06b11f2870\" d=\"M 403.465541 -180.523173 \nL 403.465541 -184.483504 \nL 400.040086 -186.463669 \nL 396.614632 -184.483504 \nL 396.614632 -180.523173 \nL 400.040086 -178.543008 \nz\n\"/>\n    </defs>\n    <g clip-path=\"url(#p4ae7f136d7)\">\n     <use xlink:href=\"#C2_0_06b11f2870\" x=\"-58.629177\" y=\"343.870543\" style=\"fill: #fff5eb\"/>\n    </g>\n    <g clip-path=\"url(#p4ae7f136d7)\">\n     <use xlink:href=\"#C2_0_06b11f2870\" x=\"-58.629177\" y=\"331.989551\" style=\"fill: #fff5eb\"/>\n    </g>\n    <g clip-path=\"url(#p4ae7f136d7)\">\n     <use xlink:href=\"#C2_0_06b11f2870\" x=\"-58.629177\" y=\"320.108559\" style=\"fill: #fff5eb\"/>\n    </g>\n    <g clip-path=\"url(#p4ae7f136d7)\">\n     <use xlink:href=\"#C2_0_06b11f2870\" x=\"-58.629177\" y=\"308.227568\" style=\"fill: #fff5eb\"/>\n    </g>\n    <g clip-path=\"url(#p4ae7f136d7)\">\n     <use xlink:href=\"#C2_0_06b11f2870\" x=\"-58.629177\" y=\"296.346576\" style=\"fill: #fee9d3\"/>\n    </g>\n    <g clip-path=\"url(#p4ae7f136d7)\">\n     <use xlink:href=\"#C2_0_06b11f2870\" x=\"-58.629177\" y=\"284.465584\" style=\"fill: #ffefdf\"/>\n    </g>\n    <g clip-path=\"url(#p4ae7f136d7)\">\n     <use xlink:href=\"#C2_0_06b11f2870\" x=\"-58.629177\" y=\"272.584592\" style=\"fill: #fdbf86\"/>\n    </g>\n    <g clip-path=\"url(#p4ae7f136d7)\">\n     <use xlink:href=\"#C2_0_06b11f2870\" x=\"-58.629177\" y=\"260.703601\" style=\"fill: #fff5eb\"/>\n    </g>\n    <g clip-path=\"url(#p4ae7f136d7)\">\n     <use xlink:href=\"#C2_0_06b11f2870\" x=\"-58.629177\" y=\"248.822609\" style=\"fill: #fff5eb\"/>\n    </g>\n    <g clip-path=\"url(#p4ae7f136d7)\">\n     <use xlink:href=\"#C2_0_06b11f2870\" x=\"-58.629177\" y=\"236.941617\" style=\"fill: #fff5eb\"/>\n    </g>\n    <g clip-path=\"url(#p4ae7f136d7)\">\n     <use xlink:href=\"#C2_0_06b11f2870\" x=\"-58.629177\" y=\"225.060625\" style=\"fill: #fff5eb\"/>\n    </g>\n    <g clip-path=\"url(#p4ae7f136d7)\">\n     <use xlink:href=\"#C2_0_06b11f2870\" x=\"-58.629177\" y=\"213.179634\" style=\"fill: #fff5eb\"/>\n    </g>\n    <g clip-path=\"url(#p4ae7f136d7)\">\n     <use xlink:href=\"#C2_0_06b11f2870\" x=\"-51.778268\" y=\"343.870543\" style=\"fill: #fff5eb\"/>\n    </g>\n    <g clip-path=\"url(#p4ae7f136d7)\">\n     <use xlink:href=\"#C2_0_06b11f2870\" x=\"-51.778268\" y=\"331.989551\" style=\"fill: #fff5eb\"/>\n    </g>\n    <g clip-path=\"url(#p4ae7f136d7)\">\n     <use xlink:href=\"#C2_0_06b11f2870\" x=\"-51.778268\" y=\"320.108559\" style=\"fill: #fff5eb\"/>\n    </g>\n    <g clip-path=\"url(#p4ae7f136d7)\">\n     <use xlink:href=\"#C2_0_06b11f2870\" x=\"-51.778268\" y=\"308.227568\" style=\"fill: #fff5eb\"/>\n    </g>\n    <g clip-path=\"url(#p4ae7f136d7)\">\n     <use xlink:href=\"#C2_0_06b11f2870\" x=\"-51.778268\" y=\"296.346576\" style=\"fill: #fee9d3\"/>\n    </g>\n    <g clip-path=\"url(#p4ae7f136d7)\">\n     <use xlink:href=\"#C2_0_06b11f2870\" x=\"-51.778268\" y=\"284.465584\" style=\"fill: #fdb06e\"/>\n    </g>\n    <g clip-path=\"url(#p4ae7f136d7)\">\n     <use xlink:href=\"#C2_0_06b11f2870\" x=\"-51.778268\" y=\"272.584592\" style=\"fill: #fee9d3\"/>\n    </g>\n    <g clip-path=\"url(#p4ae7f136d7)\">\n     <use xlink:href=\"#C2_0_06b11f2870\" x=\"-51.778268\" y=\"260.703601\" style=\"fill: #fee9d3\"/>\n    </g>\n    <g clip-path=\"url(#p4ae7f136d7)\">\n     <use xlink:href=\"#C2_0_06b11f2870\" x=\"-51.778268\" y=\"248.822609\" style=\"fill: #fff5eb\"/>\n    </g>\n    <g clip-path=\"url(#p4ae7f136d7)\">\n     <use xlink:href=\"#C2_0_06b11f2870\" x=\"-51.778268\" y=\"236.941617\" style=\"fill: #fff5eb\"/>\n    </g>\n    <g clip-path=\"url(#p4ae7f136d7)\">\n     <use xlink:href=\"#C2_0_06b11f2870\" x=\"-51.778268\" y=\"225.060625\" style=\"fill: #fff5eb\"/>\n    </g>\n    <g clip-path=\"url(#p4ae7f136d7)\">\n     <use xlink:href=\"#C2_0_06b11f2870\" x=\"-51.778268\" y=\"213.179634\" style=\"fill: #fff5eb\"/>\n    </g>\n    <g clip-path=\"url(#p4ae7f136d7)\">\n     <use xlink:href=\"#C2_0_06b11f2870\" x=\"-44.927359\" y=\"343.870543\" style=\"fill: #fff5eb\"/>\n    </g>\n    <g clip-path=\"url(#p4ae7f136d7)\">\n     <use xlink:href=\"#C2_0_06b11f2870\" x=\"-44.927359\" y=\"331.989551\" style=\"fill: #fff5eb\"/>\n    </g>\n    <g clip-path=\"url(#p4ae7f136d7)\">\n     <use xlink:href=\"#C2_0_06b11f2870\" x=\"-44.927359\" y=\"320.108559\" style=\"fill: #ffefdf\"/>\n    </g>\n    <g clip-path=\"url(#p4ae7f136d7)\">\n     <use xlink:href=\"#C2_0_06b11f2870\" x=\"-44.927359\" y=\"308.227568\" style=\"fill: #db4b03\"/>\n    </g>\n    <g clip-path=\"url(#p4ae7f136d7)\">\n     <use xlink:href=\"#C2_0_06b11f2870\" x=\"-44.927359\" y=\"296.346576\" style=\"fill: #fdb06e\"/>\n    </g>\n    <g clip-path=\"url(#p4ae7f136d7)\">\n     <use xlink:href=\"#C2_0_06b11f2870\" x=\"-44.927359\" y=\"284.465584\" style=\"fill: #fd9446\"/>\n    </g>\n    <g clip-path=\"url(#p4ae7f136d7)\">\n     <use xlink:href=\"#C2_0_06b11f2870\" x=\"-44.927359\" y=\"272.584592\" style=\"fill: #fdb06e\"/>\n    </g>\n    <g clip-path=\"url(#p4ae7f136d7)\">\n     <use xlink:href=\"#C2_0_06b11f2870\" x=\"-44.927359\" y=\"260.703601\" style=\"fill: #fee0c3\"/>\n    </g>\n    <g clip-path=\"url(#p4ae7f136d7)\">\n     <use xlink:href=\"#C2_0_06b11f2870\" x=\"-44.927359\" y=\"248.822609\" style=\"fill: #fff5eb\"/>\n    </g>\n    <g clip-path=\"url(#p4ae7f136d7)\">\n     <use xlink:href=\"#C2_0_06b11f2870\" x=\"-44.927359\" y=\"236.941617\" style=\"fill: #fff5eb\"/>\n    </g>\n    <g clip-path=\"url(#p4ae7f136d7)\">\n     <use xlink:href=\"#C2_0_06b11f2870\" x=\"-44.927359\" y=\"225.060625\" style=\"fill: #fff5eb\"/>\n    </g>\n    <g clip-path=\"url(#p4ae7f136d7)\">\n     <use xlink:href=\"#C2_0_06b11f2870\" x=\"-44.927359\" y=\"213.179634\" style=\"fill: #fff5eb\"/>\n    </g>\n    <g clip-path=\"url(#p4ae7f136d7)\">\n     <use xlink:href=\"#C2_0_06b11f2870\" x=\"-38.07645\" y=\"343.870543\" style=\"fill: #fff5eb\"/>\n    </g>\n    <g clip-path=\"url(#p4ae7f136d7)\">\n     <use xlink:href=\"#C2_0_06b11f2870\" x=\"-38.07645\" y=\"331.989551\" style=\"fill: #fff5eb\"/>\n    </g>\n    <g clip-path=\"url(#p4ae7f136d7)\">\n     <use xlink:href=\"#C2_0_06b11f2870\" x=\"-38.07645\" y=\"320.108559\" style=\"fill: #fdbf86\"/>\n    </g>\n    <g clip-path=\"url(#p4ae7f136d7)\">\n     <use xlink:href=\"#C2_0_06b11f2870\" x=\"-38.07645\" y=\"308.227568\" style=\"fill: #f57622\"/>\n    </g>\n    <g clip-path=\"url(#p4ae7f136d7)\">\n     <use xlink:href=\"#C2_0_06b11f2870\" x=\"-38.07645\" y=\"296.346576\" style=\"fill: #fdb06e\"/>\n    </g>\n    <g clip-path=\"url(#p4ae7f136d7)\">\n     <use xlink:href=\"#C2_0_06b11f2870\" x=\"-38.07645\" y=\"284.465584\" style=\"fill: #fda25a\"/>\n    </g>\n    <g clip-path=\"url(#p4ae7f136d7)\">\n     <use xlink:href=\"#C2_0_06b11f2870\" x=\"-38.07645\" y=\"272.584592\" style=\"fill: #fdb06e\"/>\n    </g>\n    <g clip-path=\"url(#p4ae7f136d7)\">\n     <use xlink:href=\"#C2_0_06b11f2870\" x=\"-38.07645\" y=\"260.703601\" style=\"fill: #fdbf86\"/>\n    </g>\n    <g clip-path=\"url(#p4ae7f136d7)\">\n     <use xlink:href=\"#C2_0_06b11f2870\" x=\"-38.07645\" y=\"248.822609\" style=\"fill: #fff5eb\"/>\n    </g>\n    <g clip-path=\"url(#p4ae7f136d7)\">\n     <use xlink:href=\"#C2_0_06b11f2870\" x=\"-38.07645\" y=\"236.941617\" style=\"fill: #fff5eb\"/>\n    </g>\n    <g clip-path=\"url(#p4ae7f136d7)\">\n     <use xlink:href=\"#C2_0_06b11f2870\" x=\"-38.07645\" y=\"225.060625\" style=\"fill: #fff5eb\"/>\n    </g>\n    <g clip-path=\"url(#p4ae7f136d7)\">\n     <use xlink:href=\"#C2_0_06b11f2870\" x=\"-38.07645\" y=\"213.179634\" style=\"fill: #fff5eb\"/>\n    </g>\n    <g clip-path=\"url(#p4ae7f136d7)\">\n     <use xlink:href=\"#C2_0_06b11f2870\" x=\"-31.225541\" y=\"343.870543\" style=\"fill: #fff5eb\"/>\n    </g>\n    <g clip-path=\"url(#p4ae7f136d7)\">\n     <use xlink:href=\"#C2_0_06b11f2870\" x=\"-31.225541\" y=\"331.989551\" style=\"fill: #ffefdf\"/>\n    </g>\n    <g clip-path=\"url(#p4ae7f136d7)\">\n     <use xlink:href=\"#C2_0_06b11f2870\" x=\"-31.225541\" y=\"320.108559\" style=\"fill: #f57622\"/>\n    </g>\n    <g clip-path=\"url(#p4ae7f136d7)\">\n     <use xlink:href=\"#C2_0_06b11f2870\" x=\"-31.225541\" y=\"308.227568\" style=\"fill: #fb8634\"/>\n    </g>\n    <g clip-path=\"url(#p4ae7f136d7)\">\n     <use xlink:href=\"#C2_0_06b11f2870\" x=\"-31.225541\" y=\"296.346576\" style=\"fill: #fb8634\"/>\n    </g>\n    <g clip-path=\"url(#p4ae7f136d7)\">\n     <use xlink:href=\"#C2_0_06b11f2870\" x=\"-31.225541\" y=\"284.465584\" style=\"fill: #fdb06e\"/>\n    </g>\n    <g clip-path=\"url(#p4ae7f136d7)\">\n     <use xlink:href=\"#C2_0_06b11f2870\" x=\"-31.225541\" y=\"272.584592\" style=\"fill: #fee9d3\"/>\n    </g>\n    <g clip-path=\"url(#p4ae7f136d7)\">\n     <use xlink:href=\"#C2_0_06b11f2870\" x=\"-31.225541\" y=\"260.703601\" style=\"fill: #fdbf86\"/>\n    </g>\n    <g clip-path=\"url(#p4ae7f136d7)\">\n     <use xlink:href=\"#C2_0_06b11f2870\" x=\"-31.225541\" y=\"248.822609\" style=\"fill: #ffefdf\"/>\n    </g>\n    <g clip-path=\"url(#p4ae7f136d7)\">\n     <use xlink:href=\"#C2_0_06b11f2870\" x=\"-31.225541\" y=\"236.941617\" style=\"fill: #fee0c3\"/>\n    </g>\n    <g clip-path=\"url(#p4ae7f136d7)\">\n     <use xlink:href=\"#C2_0_06b11f2870\" x=\"-31.225541\" y=\"225.060625\" style=\"fill: #fdbf86\"/>\n    </g>\n    <g clip-path=\"url(#p4ae7f136d7)\">\n     <use xlink:href=\"#C2_0_06b11f2870\" x=\"-31.225541\" y=\"213.179634\" style=\"fill: #fff5eb\"/>\n    </g>\n    <g clip-path=\"url(#p4ae7f136d7)\">\n     <use xlink:href=\"#C2_0_06b11f2870\" x=\"-24.374632\" y=\"343.870543\" style=\"fill: #fff5eb\"/>\n    </g>\n    <g clip-path=\"url(#p4ae7f136d7)\">\n     <use xlink:href=\"#C2_0_06b11f2870\" x=\"-24.374632\" y=\"331.989551\" style=\"fill: #fb8634\"/>\n    </g>\n    <g clip-path=\"url(#p4ae7f136d7)\">\n     <use xlink:href=\"#C2_0_06b11f2870\" x=\"-24.374632\" y=\"320.108559\" style=\"fill: #8f2d04\"/>\n    </g>\n    <g clip-path=\"url(#p4ae7f136d7)\">\n     <use xlink:href=\"#C2_0_06b11f2870\" x=\"-24.374632\" y=\"308.227568\" style=\"fill: #e5590a\"/>\n    </g>\n    <g clip-path=\"url(#p4ae7f136d7)\">\n     <use xlink:href=\"#C2_0_06b11f2870\" x=\"-24.374632\" y=\"296.346576\" style=\"fill: #fdbf86\"/>\n    </g>\n    <g clip-path=\"url(#p4ae7f136d7)\">\n     <use xlink:href=\"#C2_0_06b11f2870\" x=\"-24.374632\" y=\"284.465584\" style=\"fill: #fda25a\"/>\n    </g>\n    <g clip-path=\"url(#p4ae7f136d7)\">\n     <use xlink:href=\"#C2_0_06b11f2870\" x=\"-24.374632\" y=\"272.584592\" style=\"fill: #fdcd9c\"/>\n    </g>\n    <g clip-path=\"url(#p4ae7f136d7)\">\n     <use xlink:href=\"#C2_0_06b11f2870\" x=\"-24.374632\" y=\"260.703601\" style=\"fill: #fdb06e\"/>\n    </g>\n    <g clip-path=\"url(#p4ae7f136d7)\">\n     <use xlink:href=\"#C2_0_06b11f2870\" x=\"-24.374632\" y=\"248.822609\" style=\"fill: #fee0c3\"/>\n    </g>\n    <g clip-path=\"url(#p4ae7f136d7)\">\n     <use xlink:href=\"#C2_0_06b11f2870\" x=\"-24.374632\" y=\"236.941617\" style=\"fill: #fee0c3\"/>\n    </g>\n    <g clip-path=\"url(#p4ae7f136d7)\">\n     <use xlink:href=\"#C2_0_06b11f2870\" x=\"-24.374632\" y=\"225.060625\" style=\"fill: #fda25a\"/>\n    </g>\n    <g clip-path=\"url(#p4ae7f136d7)\">\n     <use xlink:href=\"#C2_0_06b11f2870\" x=\"-24.374632\" y=\"213.179634\" style=\"fill: #fff5eb\"/>\n    </g>\n    <g clip-path=\"url(#p4ae7f136d7)\">\n     <use xlink:href=\"#C2_0_06b11f2870\" x=\"-17.523723\" y=\"343.870543\" style=\"fill: #fff5eb\"/>\n    </g>\n    <g clip-path=\"url(#p4ae7f136d7)\">\n     <use xlink:href=\"#C2_0_06b11f2870\" x=\"-17.523723\" y=\"331.989551\" style=\"fill: #db4b03\"/>\n    </g>\n    <g clip-path=\"url(#p4ae7f136d7)\">\n     <use xlink:href=\"#C2_0_06b11f2870\" x=\"-17.523723\" y=\"320.108559\" style=\"fill: #f57622\"/>\n    </g>\n    <g clip-path=\"url(#p4ae7f136d7)\">\n     <use xlink:href=\"#C2_0_06b11f2870\" x=\"-17.523723\" y=\"308.227568\" style=\"fill: #f57622\"/>\n    </g>\n    <g clip-path=\"url(#p4ae7f136d7)\">\n     <use xlink:href=\"#C2_0_06b11f2870\" x=\"-17.523723\" y=\"296.346576\" style=\"fill: #fdbf86\"/>\n    </g>\n    <g clip-path=\"url(#p4ae7f136d7)\">\n     <use xlink:href=\"#C2_0_06b11f2870\" x=\"-17.523723\" y=\"284.465584\" style=\"fill: #f57622\"/>\n    </g>\n    <g clip-path=\"url(#p4ae7f136d7)\">\n     <use xlink:href=\"#C2_0_06b11f2870\" x=\"-17.523723\" y=\"272.584592\" style=\"fill: #fee9d3\"/>\n    </g>\n    <g clip-path=\"url(#p4ae7f136d7)\">\n     <use xlink:href=\"#C2_0_06b11f2870\" x=\"-17.523723\" y=\"260.703601\" style=\"fill: #fdcd9c\"/>\n    </g>\n    <g clip-path=\"url(#p4ae7f136d7)\">\n     <use xlink:href=\"#C2_0_06b11f2870\" x=\"-17.523723\" y=\"248.822609\" style=\"fill: #fdbf86\"/>\n    </g>\n    <g clip-path=\"url(#p4ae7f136d7)\">\n     <use xlink:href=\"#C2_0_06b11f2870\" x=\"-17.523723\" y=\"236.941617\" style=\"fill: #fee0c3\"/>\n    </g>\n    <g clip-path=\"url(#p4ae7f136d7)\">\n     <use xlink:href=\"#C2_0_06b11f2870\" x=\"-17.523723\" y=\"225.060625\" style=\"fill: #fb8634\"/>\n    </g>\n    <g clip-path=\"url(#p4ae7f136d7)\">\n     <use xlink:href=\"#C2_0_06b11f2870\" x=\"-17.523723\" y=\"213.179634\" style=\"fill: #fdcd9c\"/>\n    </g>\n    <g clip-path=\"url(#p4ae7f136d7)\">\n     <use xlink:href=\"#C2_0_06b11f2870\" x=\"-10.672813\" y=\"343.870543\" style=\"fill: #fff5eb\"/>\n    </g>\n    <g clip-path=\"url(#p4ae7f136d7)\">\n     <use xlink:href=\"#C2_0_06b11f2870\" x=\"-10.672813\" y=\"331.989551\" style=\"fill: #fdbf86\"/>\n    </g>\n    <g clip-path=\"url(#p4ae7f136d7)\">\n     <use xlink:href=\"#C2_0_06b11f2870\" x=\"-10.672813\" y=\"320.108559\" style=\"fill: #f06712\"/>\n    </g>\n    <g clip-path=\"url(#p4ae7f136d7)\">\n     <use xlink:href=\"#C2_0_06b11f2870\" x=\"-10.672813\" y=\"308.227568\" style=\"fill: #fd9446\"/>\n    </g>\n    <g clip-path=\"url(#p4ae7f136d7)\">\n     <use xlink:href=\"#C2_0_06b11f2870\" x=\"-10.672813\" y=\"296.346576\" style=\"fill: #fdbf86\"/>\n    </g>\n    <g clip-path=\"url(#p4ae7f136d7)\">\n     <use xlink:href=\"#C2_0_06b11f2870\" x=\"-10.672813\" y=\"284.465584\" style=\"fill: #fb8634\"/>\n    </g>\n    <g clip-path=\"url(#p4ae7f136d7)\">\n     <use xlink:href=\"#C2_0_06b11f2870\" x=\"-10.672813\" y=\"272.584592\" style=\"fill: #fdcd9c\"/>\n    </g>\n    <g clip-path=\"url(#p4ae7f136d7)\">\n     <use xlink:href=\"#C2_0_06b11f2870\" x=\"-10.672813\" y=\"260.703601\" style=\"fill: #fee9d3\"/>\n    </g>\n    <g clip-path=\"url(#p4ae7f136d7)\">\n     <use xlink:href=\"#C2_0_06b11f2870\" x=\"-10.672813\" y=\"248.822609\" style=\"fill: #fda25a\"/>\n    </g>\n    <g clip-path=\"url(#p4ae7f136d7)\">\n     <use xlink:href=\"#C2_0_06b11f2870\" x=\"-10.672813\" y=\"236.941617\" style=\"fill: #fda25a\"/>\n    </g>\n    <g clip-path=\"url(#p4ae7f136d7)\">\n     <use xlink:href=\"#C2_0_06b11f2870\" x=\"-10.672813\" y=\"225.060625\" style=\"fill: #fee0c3\"/>\n    </g>\n    <g clip-path=\"url(#p4ae7f136d7)\">\n     <use xlink:href=\"#C2_0_06b11f2870\" x=\"-10.672813\" y=\"213.179634\" style=\"fill: #fff5eb\"/>\n    </g>\n    <g clip-path=\"url(#p4ae7f136d7)\">\n     <use xlink:href=\"#C2_0_06b11f2870\" x=\"-3.821904\" y=\"343.870543\" style=\"fill: #fff5eb\"/>\n    </g>\n    <g clip-path=\"url(#p4ae7f136d7)\">\n     <use xlink:href=\"#C2_0_06b11f2870\" x=\"-3.821904\" y=\"331.989551\" style=\"fill: #fdd7b1\"/>\n    </g>\n    <g clip-path=\"url(#p4ae7f136d7)\">\n     <use xlink:href=\"#C2_0_06b11f2870\" x=\"-3.821904\" y=\"320.108559\" style=\"fill: #fee9d3\"/>\n    </g>\n    <g clip-path=\"url(#p4ae7f136d7)\">\n     <use xlink:href=\"#C2_0_06b11f2870\" x=\"-3.821904\" y=\"308.227568\" style=\"fill: #fdb06e\"/>\n    </g>\n    <g clip-path=\"url(#p4ae7f136d7)\">\n     <use xlink:href=\"#C2_0_06b11f2870\" x=\"-3.821904\" y=\"296.346576\" style=\"fill: #fb8634\"/>\n    </g>\n    <g clip-path=\"url(#p4ae7f136d7)\">\n     <use xlink:href=\"#C2_0_06b11f2870\" x=\"-3.821904\" y=\"284.465584\" style=\"fill: #fd9446\"/>\n    </g>\n    <g clip-path=\"url(#p4ae7f136d7)\">\n     <use xlink:href=\"#C2_0_06b11f2870\" x=\"-3.821904\" y=\"272.584592\" style=\"fill: #fee0c3\"/>\n    </g>\n    <g clip-path=\"url(#p4ae7f136d7)\">\n     <use xlink:href=\"#C2_0_06b11f2870\" x=\"-3.821904\" y=\"260.703601\" style=\"fill: #fdcd9c\"/>\n    </g>\n    <g clip-path=\"url(#p4ae7f136d7)\">\n     <use xlink:href=\"#C2_0_06b11f2870\" x=\"-3.821904\" y=\"248.822609\" style=\"fill: #ffefdf\"/>\n    </g>\n    <g clip-path=\"url(#p4ae7f136d7)\">\n     <use xlink:href=\"#C2_0_06b11f2870\" x=\"-3.821904\" y=\"236.941617\" style=\"fill: #fee9d3\"/>\n    </g>\n    <g clip-path=\"url(#p4ae7f136d7)\">\n     <use xlink:href=\"#C2_0_06b11f2870\" x=\"-3.821904\" y=\"225.060625\" style=\"fill: #fff5eb\"/>\n    </g>\n    <g clip-path=\"url(#p4ae7f136d7)\">\n     <use xlink:href=\"#C2_0_06b11f2870\" x=\"-3.821904\" y=\"213.179634\" style=\"fill: #fff5eb\"/>\n    </g>\n    <g clip-path=\"url(#p4ae7f136d7)\">\n     <use xlink:href=\"#C2_0_06b11f2870\" x=\"3.029005\" y=\"343.870543\" style=\"fill: #8f2d04\"/>\n    </g>\n    <g clip-path=\"url(#p4ae7f136d7)\">\n     <use xlink:href=\"#C2_0_06b11f2870\" x=\"3.029005\" y=\"331.989551\" style=\"fill: #fb8634\"/>\n    </g>\n    <g clip-path=\"url(#p4ae7f136d7)\">\n     <use xlink:href=\"#C2_0_06b11f2870\" x=\"3.029005\" y=\"320.108559\" style=\"fill: #fdcd9c\"/>\n    </g>\n    <g clip-path=\"url(#p4ae7f136d7)\">\n     <use xlink:href=\"#C2_0_06b11f2870\" x=\"3.029005\" y=\"308.227568\" style=\"fill: #fdcd9c\"/>\n    </g>\n    <g clip-path=\"url(#p4ae7f136d7)\">\n     <use xlink:href=\"#C2_0_06b11f2870\" x=\"3.029005\" y=\"296.346576\" style=\"fill: #e5590a\"/>\n    </g>\n    <g clip-path=\"url(#p4ae7f136d7)\">\n     <use xlink:href=\"#C2_0_06b11f2870\" x=\"3.029005\" y=\"284.465584\" style=\"fill: #fee9d3\"/>\n    </g>\n    <g clip-path=\"url(#p4ae7f136d7)\">\n     <use xlink:href=\"#C2_0_06b11f2870\" x=\"3.029005\" y=\"272.584592\" style=\"fill: #fee0c3\"/>\n    </g>\n    <g clip-path=\"url(#p4ae7f136d7)\">\n     <use xlink:href=\"#C2_0_06b11f2870\" x=\"3.029005\" y=\"260.703601\" style=\"fill: #fff5eb\"/>\n    </g>\n    <g clip-path=\"url(#p4ae7f136d7)\">\n     <use xlink:href=\"#C2_0_06b11f2870\" x=\"3.029005\" y=\"248.822609\" style=\"fill: #fff5eb\"/>\n    </g>\n    <g clip-path=\"url(#p4ae7f136d7)\">\n     <use xlink:href=\"#C2_0_06b11f2870\" x=\"3.029005\" y=\"236.941617\" style=\"fill: #fff5eb\"/>\n    </g>\n    <g clip-path=\"url(#p4ae7f136d7)\">\n     <use xlink:href=\"#C2_0_06b11f2870\" x=\"3.029005\" y=\"225.060625\" style=\"fill: #fff5eb\"/>\n    </g>\n    <g clip-path=\"url(#p4ae7f136d7)\">\n     <use xlink:href=\"#C2_0_06b11f2870\" x=\"3.029005\" y=\"213.179634\" style=\"fill: #fff5eb\"/>\n    </g>\n    <g clip-path=\"url(#p4ae7f136d7)\">\n     <use xlink:href=\"#C2_0_06b11f2870\" x=\"9.879914\" y=\"343.870543\" style=\"fill: #fff5eb\"/>\n    </g>\n    <g clip-path=\"url(#p4ae7f136d7)\">\n     <use xlink:href=\"#C2_0_06b11f2870\" x=\"9.879914\" y=\"331.989551\" style=\"fill: #ffefdf\"/>\n    </g>\n    <g clip-path=\"url(#p4ae7f136d7)\">\n     <use xlink:href=\"#C2_0_06b11f2870\" x=\"9.879914\" y=\"320.108559\" style=\"fill: #fdd7b1\"/>\n    </g>\n    <g clip-path=\"url(#p4ae7f136d7)\">\n     <use xlink:href=\"#C2_0_06b11f2870\" x=\"9.879914\" y=\"308.227568\" style=\"fill: #fee9d3\"/>\n    </g>\n    <g clip-path=\"url(#p4ae7f136d7)\">\n     <use xlink:href=\"#C2_0_06b11f2870\" x=\"9.879914\" y=\"296.346576\" style=\"fill: #fdb06e\"/>\n    </g>\n    <g clip-path=\"url(#p4ae7f136d7)\">\n     <use xlink:href=\"#C2_0_06b11f2870\" x=\"9.879914\" y=\"284.465584\" style=\"fill: #fff5eb\"/>\n    </g>\n    <g clip-path=\"url(#p4ae7f136d7)\">\n     <use xlink:href=\"#C2_0_06b11f2870\" x=\"9.879914\" y=\"272.584592\" style=\"fill: #fff5eb\"/>\n    </g>\n    <g clip-path=\"url(#p4ae7f136d7)\">\n     <use xlink:href=\"#C2_0_06b11f2870\" x=\"9.879914\" y=\"260.703601\" style=\"fill: #fff5eb\"/>\n    </g>\n    <g clip-path=\"url(#p4ae7f136d7)\">\n     <use xlink:href=\"#C2_0_06b11f2870\" x=\"9.879914\" y=\"248.822609\" style=\"fill: #fff5eb\"/>\n    </g>\n    <g clip-path=\"url(#p4ae7f136d7)\">\n     <use xlink:href=\"#C2_0_06b11f2870\" x=\"9.879914\" y=\"236.941617\" style=\"fill: #fff5eb\"/>\n    </g>\n    <g clip-path=\"url(#p4ae7f136d7)\">\n     <use xlink:href=\"#C2_0_06b11f2870\" x=\"9.879914\" y=\"225.060625\" style=\"fill: #fff5eb\"/>\n    </g>\n    <g clip-path=\"url(#p4ae7f136d7)\">\n     <use xlink:href=\"#C2_0_06b11f2870\" x=\"9.879914\" y=\"213.179634\" style=\"fill: #fff5eb\"/>\n    </g>\n    <g clip-path=\"url(#p4ae7f136d7)\">\n     <use xlink:href=\"#C2_0_06b11f2870\" x=\"16.730823\" y=\"343.870543\" style=\"fill: #fff5eb\"/>\n    </g>\n    <g clip-path=\"url(#p4ae7f136d7)\">\n     <use xlink:href=\"#C2_0_06b11f2870\" x=\"16.730823\" y=\"331.989551\" style=\"fill: #fff5eb\"/>\n    </g>\n    <g clip-path=\"url(#p4ae7f136d7)\">\n     <use xlink:href=\"#C2_0_06b11f2870\" x=\"16.730823\" y=\"320.108559\" style=\"fill: #fff5eb\"/>\n    </g>\n    <g clip-path=\"url(#p4ae7f136d7)\">\n     <use xlink:href=\"#C2_0_06b11f2870\" x=\"16.730823\" y=\"308.227568\" style=\"fill: #fdbf86\"/>\n    </g>\n    <g clip-path=\"url(#p4ae7f136d7)\">\n     <use xlink:href=\"#C2_0_06b11f2870\" x=\"16.730823\" y=\"296.346576\" style=\"fill: #fff5eb\"/>\n    </g>\n    <g clip-path=\"url(#p4ae7f136d7)\">\n     <use xlink:href=\"#C2_0_06b11f2870\" x=\"16.730823\" y=\"284.465584\" style=\"fill: #fff5eb\"/>\n    </g>\n    <g clip-path=\"url(#p4ae7f136d7)\">\n     <use xlink:href=\"#C2_0_06b11f2870\" x=\"16.730823\" y=\"272.584592\" style=\"fill: #fff5eb\"/>\n    </g>\n    <g clip-path=\"url(#p4ae7f136d7)\">\n     <use xlink:href=\"#C2_0_06b11f2870\" x=\"16.730823\" y=\"260.703601\" style=\"fill: #fff5eb\"/>\n    </g>\n    <g clip-path=\"url(#p4ae7f136d7)\">\n     <use xlink:href=\"#C2_0_06b11f2870\" x=\"16.730823\" y=\"248.822609\" style=\"fill: #fff5eb\"/>\n    </g>\n    <g clip-path=\"url(#p4ae7f136d7)\">\n     <use xlink:href=\"#C2_0_06b11f2870\" x=\"16.730823\" y=\"236.941617\" style=\"fill: #fff5eb\"/>\n    </g>\n    <g clip-path=\"url(#p4ae7f136d7)\">\n     <use xlink:href=\"#C2_0_06b11f2870\" x=\"16.730823\" y=\"225.060625\" style=\"fill: #fff5eb\"/>\n    </g>\n    <g clip-path=\"url(#p4ae7f136d7)\">\n     <use xlink:href=\"#C2_0_06b11f2870\" x=\"16.730823\" y=\"213.179634\" style=\"fill: #fff5eb\"/>\n    </g>\n    <g clip-path=\"url(#p4ae7f136d7)\">\n     <use xlink:href=\"#C2_0_06b11f2870\" x=\"23.581732\" y=\"343.870543\" style=\"fill: #fff5eb\"/>\n    </g>\n    <g clip-path=\"url(#p4ae7f136d7)\">\n     <use xlink:href=\"#C2_0_06b11f2870\" x=\"23.581732\" y=\"331.989551\" style=\"fill: #fff5eb\"/>\n    </g>\n    <g clip-path=\"url(#p4ae7f136d7)\">\n     <use xlink:href=\"#C2_0_06b11f2870\" x=\"23.581732\" y=\"320.108559\" style=\"fill: #fff5eb\"/>\n    </g>\n    <g clip-path=\"url(#p4ae7f136d7)\">\n     <use xlink:href=\"#C2_0_06b11f2870\" x=\"23.581732\" y=\"308.227568\" style=\"fill: #fdd7b1\"/>\n    </g>\n    <g clip-path=\"url(#p4ae7f136d7)\">\n     <use xlink:href=\"#C2_0_06b11f2870\" x=\"23.581732\" y=\"296.346576\" style=\"fill: #fff5eb\"/>\n    </g>\n    <g clip-path=\"url(#p4ae7f136d7)\">\n     <use xlink:href=\"#C2_0_06b11f2870\" x=\"23.581732\" y=\"284.465584\" style=\"fill: #fff5eb\"/>\n    </g>\n    <g clip-path=\"url(#p4ae7f136d7)\">\n     <use xlink:href=\"#C2_0_06b11f2870\" x=\"23.581732\" y=\"272.584592\" style=\"fill: #fff5eb\"/>\n    </g>\n    <g clip-path=\"url(#p4ae7f136d7)\">\n     <use xlink:href=\"#C2_0_06b11f2870\" x=\"23.581732\" y=\"260.703601\" style=\"fill: #fff5eb\"/>\n    </g>\n    <g clip-path=\"url(#p4ae7f136d7)\">\n     <use xlink:href=\"#C2_0_06b11f2870\" x=\"23.581732\" y=\"248.822609\" style=\"fill: #fff5eb\"/>\n    </g>\n    <g clip-path=\"url(#p4ae7f136d7)\">\n     <use xlink:href=\"#C2_0_06b11f2870\" x=\"23.581732\" y=\"236.941617\" style=\"fill: #fff5eb\"/>\n    </g>\n    <g clip-path=\"url(#p4ae7f136d7)\">\n     <use xlink:href=\"#C2_0_06b11f2870\" x=\"23.581732\" y=\"225.060625\" style=\"fill: #fff5eb\"/>\n    </g>\n    <g clip-path=\"url(#p4ae7f136d7)\">\n     <use xlink:href=\"#C2_0_06b11f2870\" x=\"23.581732\" y=\"213.179634\" style=\"fill: #fff5eb\"/>\n    </g>\n    <g clip-path=\"url(#p4ae7f136d7)\">\n     <use xlink:href=\"#C2_0_06b11f2870\" x=\"30.432641\" y=\"343.870543\" style=\"fill: #fff5eb\"/>\n    </g>\n    <g clip-path=\"url(#p4ae7f136d7)\">\n     <use xlink:href=\"#C2_0_06b11f2870\" x=\"30.432641\" y=\"331.989551\" style=\"fill: #fff5eb\"/>\n    </g>\n    <g clip-path=\"url(#p4ae7f136d7)\">\n     <use xlink:href=\"#C2_0_06b11f2870\" x=\"30.432641\" y=\"320.108559\" style=\"fill: #fff5eb\"/>\n    </g>\n    <g clip-path=\"url(#p4ae7f136d7)\">\n     <use xlink:href=\"#C2_0_06b11f2870\" x=\"30.432641\" y=\"308.227568\" style=\"fill: #fff5eb\"/>\n    </g>\n    <g clip-path=\"url(#p4ae7f136d7)\">\n     <use xlink:href=\"#C2_0_06b11f2870\" x=\"30.432641\" y=\"296.346576\" style=\"fill: #fff5eb\"/>\n    </g>\n    <g clip-path=\"url(#p4ae7f136d7)\">\n     <use xlink:href=\"#C2_0_06b11f2870\" x=\"30.432641\" y=\"284.465584\" style=\"fill: #fff5eb\"/>\n    </g>\n    <g clip-path=\"url(#p4ae7f136d7)\">\n     <use xlink:href=\"#C2_0_06b11f2870\" x=\"30.432641\" y=\"272.584592\" style=\"fill: #fff5eb\"/>\n    </g>\n    <g clip-path=\"url(#p4ae7f136d7)\">\n     <use xlink:href=\"#C2_0_06b11f2870\" x=\"30.432641\" y=\"260.703601\" style=\"fill: #fff5eb\"/>\n    </g>\n    <g clip-path=\"url(#p4ae7f136d7)\">\n     <use xlink:href=\"#C2_0_06b11f2870\" x=\"30.432641\" y=\"248.822609\" style=\"fill: #fff5eb\"/>\n    </g>\n    <g clip-path=\"url(#p4ae7f136d7)\">\n     <use xlink:href=\"#C2_0_06b11f2870\" x=\"30.432641\" y=\"236.941617\" style=\"fill: #fff5eb\"/>\n    </g>\n    <g clip-path=\"url(#p4ae7f136d7)\">\n     <use xlink:href=\"#C2_0_06b11f2870\" x=\"30.432641\" y=\"225.060625\" style=\"fill: #fff5eb\"/>\n    </g>\n    <g clip-path=\"url(#p4ae7f136d7)\">\n     <use xlink:href=\"#C2_0_06b11f2870\" x=\"30.432641\" y=\"213.179634\" style=\"fill: #fff5eb\"/>\n    </g>\n    <g clip-path=\"url(#p4ae7f136d7)\">\n     <use xlink:href=\"#C2_0_06b11f2870\" x=\"37.28355\" y=\"343.870543\" style=\"fill: #fff5eb\"/>\n    </g>\n    <g clip-path=\"url(#p4ae7f136d7)\">\n     <use xlink:href=\"#C2_0_06b11f2870\" x=\"37.28355\" y=\"331.989551\" style=\"fill: #fff5eb\"/>\n    </g>\n    <g clip-path=\"url(#p4ae7f136d7)\">\n     <use xlink:href=\"#C2_0_06b11f2870\" x=\"37.28355\" y=\"320.108559\" style=\"fill: #fff5eb\"/>\n    </g>\n    <g clip-path=\"url(#p4ae7f136d7)\">\n     <use xlink:href=\"#C2_0_06b11f2870\" x=\"37.28355\" y=\"308.227568\" style=\"fill: #fff5eb\"/>\n    </g>\n    <g clip-path=\"url(#p4ae7f136d7)\">\n     <use xlink:href=\"#C2_0_06b11f2870\" x=\"37.28355\" y=\"296.346576\" style=\"fill: #fff5eb\"/>\n    </g>\n    <g clip-path=\"url(#p4ae7f136d7)\">\n     <use xlink:href=\"#C2_0_06b11f2870\" x=\"37.28355\" y=\"284.465584\" style=\"fill: #ffefdf\"/>\n    </g>\n    <g clip-path=\"url(#p4ae7f136d7)\">\n     <use xlink:href=\"#C2_0_06b11f2870\" x=\"37.28355\" y=\"272.584592\" style=\"fill: #fee9d3\"/>\n    </g>\n    <g clip-path=\"url(#p4ae7f136d7)\">\n     <use xlink:href=\"#C2_0_06b11f2870\" x=\"37.28355\" y=\"260.703601\" style=\"fill: #fff5eb\"/>\n    </g>\n    <g clip-path=\"url(#p4ae7f136d7)\">\n     <use xlink:href=\"#C2_0_06b11f2870\" x=\"37.28355\" y=\"248.822609\" style=\"fill: #fff5eb\"/>\n    </g>\n    <g clip-path=\"url(#p4ae7f136d7)\">\n     <use xlink:href=\"#C2_0_06b11f2870\" x=\"37.28355\" y=\"236.941617\" style=\"fill: #fff5eb\"/>\n    </g>\n    <g clip-path=\"url(#p4ae7f136d7)\">\n     <use xlink:href=\"#C2_0_06b11f2870\" x=\"37.28355\" y=\"225.060625\" style=\"fill: #fff5eb\"/>\n    </g>\n    <g clip-path=\"url(#p4ae7f136d7)\">\n     <use xlink:href=\"#C2_0_06b11f2870\" x=\"37.28355\" y=\"213.179634\" style=\"fill: #fff5eb\"/>\n    </g>\n    <g clip-path=\"url(#p4ae7f136d7)\">\n     <use xlink:href=\"#C2_0_06b11f2870\" x=\"44.134459\" y=\"343.870543\" style=\"fill: #fff5eb\"/>\n    </g>\n    <g clip-path=\"url(#p4ae7f136d7)\">\n     <use xlink:href=\"#C2_0_06b11f2870\" x=\"44.134459\" y=\"331.989551\" style=\"fill: #fff5eb\"/>\n    </g>\n    <g clip-path=\"url(#p4ae7f136d7)\">\n     <use xlink:href=\"#C2_0_06b11f2870\" x=\"44.134459\" y=\"320.108559\" style=\"fill: #fff5eb\"/>\n    </g>\n    <g clip-path=\"url(#p4ae7f136d7)\">\n     <use xlink:href=\"#C2_0_06b11f2870\" x=\"44.134459\" y=\"308.227568\" style=\"fill: #fff5eb\"/>\n    </g>\n    <g clip-path=\"url(#p4ae7f136d7)\">\n     <use xlink:href=\"#C2_0_06b11f2870\" x=\"44.134459\" y=\"296.346576\" style=\"fill: #fff5eb\"/>\n    </g>\n    <g clip-path=\"url(#p4ae7f136d7)\">\n     <use xlink:href=\"#C2_0_06b11f2870\" x=\"44.134459\" y=\"284.465584\" style=\"fill: #ffefdf\"/>\n    </g>\n    <g clip-path=\"url(#p4ae7f136d7)\">\n     <use xlink:href=\"#C2_0_06b11f2870\" x=\"44.134459\" y=\"272.584592\" style=\"fill: #fdd7b1\"/>\n    </g>\n    <g clip-path=\"url(#p4ae7f136d7)\">\n     <use xlink:href=\"#C2_0_06b11f2870\" x=\"44.134459\" y=\"260.703601\" style=\"fill: #fee9d3\"/>\n    </g>\n    <g clip-path=\"url(#p4ae7f136d7)\">\n     <use xlink:href=\"#C2_0_06b11f2870\" x=\"44.134459\" y=\"248.822609\" style=\"fill: #fdbf86\"/>\n    </g>\n    <g clip-path=\"url(#p4ae7f136d7)\">\n     <use xlink:href=\"#C2_0_06b11f2870\" x=\"44.134459\" y=\"236.941617\" style=\"fill: #fff5eb\"/>\n    </g>\n    <g clip-path=\"url(#p4ae7f136d7)\">\n     <use xlink:href=\"#C2_0_06b11f2870\" x=\"44.134459\" y=\"225.060625\" style=\"fill: #fff5eb\"/>\n    </g>\n    <g clip-path=\"url(#p4ae7f136d7)\">\n     <use xlink:href=\"#C2_0_06b11f2870\" x=\"44.134459\" y=\"213.179634\" style=\"fill: #fff5eb\"/>\n    </g>\n    <g clip-path=\"url(#p4ae7f136d7)\">\n     <use xlink:href=\"#C2_0_06b11f2870\" x=\"50.985368\" y=\"343.870543\" style=\"fill: #fff5eb\"/>\n    </g>\n    <g clip-path=\"url(#p4ae7f136d7)\">\n     <use xlink:href=\"#C2_0_06b11f2870\" x=\"50.985368\" y=\"331.989551\" style=\"fill: #fff5eb\"/>\n    </g>\n    <g clip-path=\"url(#p4ae7f136d7)\">\n     <use xlink:href=\"#C2_0_06b11f2870\" x=\"50.985368\" y=\"320.108559\" style=\"fill: #fff5eb\"/>\n    </g>\n    <g clip-path=\"url(#p4ae7f136d7)\">\n     <use xlink:href=\"#C2_0_06b11f2870\" x=\"50.985368\" y=\"308.227568\" style=\"fill: #fff5eb\"/>\n    </g>\n    <g clip-path=\"url(#p4ae7f136d7)\">\n     <use xlink:href=\"#C2_0_06b11f2870\" x=\"50.985368\" y=\"296.346576\" style=\"fill: #fdcd9c\"/>\n    </g>\n    <g clip-path=\"url(#p4ae7f136d7)\">\n     <use xlink:href=\"#C2_0_06b11f2870\" x=\"50.985368\" y=\"284.465584\" style=\"fill: #fdbf86\"/>\n    </g>\n    <g clip-path=\"url(#p4ae7f136d7)\">\n     <use xlink:href=\"#C2_0_06b11f2870\" x=\"50.985368\" y=\"272.584592\" style=\"fill: #fdd7b1\"/>\n    </g>\n    <g clip-path=\"url(#p4ae7f136d7)\">\n     <use xlink:href=\"#C2_0_06b11f2870\" x=\"50.985368\" y=\"260.703601\" style=\"fill: #fdcd9c\"/>\n    </g>\n    <g clip-path=\"url(#p4ae7f136d7)\">\n     <use xlink:href=\"#C2_0_06b11f2870\" x=\"50.985368\" y=\"248.822609\" style=\"fill: #ffefdf\"/>\n    </g>\n    <g clip-path=\"url(#p4ae7f136d7)\">\n     <use xlink:href=\"#C2_0_06b11f2870\" x=\"50.985368\" y=\"236.941617\" style=\"fill: #fff5eb\"/>\n    </g>\n    <g clip-path=\"url(#p4ae7f136d7)\">\n     <use xlink:href=\"#C2_0_06b11f2870\" x=\"50.985368\" y=\"225.060625\" style=\"fill: #fff5eb\"/>\n    </g>\n    <g clip-path=\"url(#p4ae7f136d7)\">\n     <use xlink:href=\"#C2_0_06b11f2870\" x=\"50.985368\" y=\"213.179634\" style=\"fill: #fff5eb\"/>\n    </g>\n    <g clip-path=\"url(#p4ae7f136d7)\">\n     <use xlink:href=\"#C2_0_06b11f2870\" x=\"57.836277\" y=\"343.870543\" style=\"fill: #fff5eb\"/>\n    </g>\n    <g clip-path=\"url(#p4ae7f136d7)\">\n     <use xlink:href=\"#C2_0_06b11f2870\" x=\"57.836277\" y=\"331.989551\" style=\"fill: #fff5eb\"/>\n    </g>\n    <g clip-path=\"url(#p4ae7f136d7)\">\n     <use xlink:href=\"#C2_0_06b11f2870\" x=\"57.836277\" y=\"320.108559\" style=\"fill: #fff5eb\"/>\n    </g>\n    <g clip-path=\"url(#p4ae7f136d7)\">\n     <use xlink:href=\"#C2_0_06b11f2870\" x=\"57.836277\" y=\"308.227568\" style=\"fill: #fee0c3\"/>\n    </g>\n    <g clip-path=\"url(#p4ae7f136d7)\">\n     <use xlink:href=\"#C2_0_06b11f2870\" x=\"57.836277\" y=\"296.346576\" style=\"fill: #f06712\"/>\n    </g>\n    <g clip-path=\"url(#p4ae7f136d7)\">\n     <use xlink:href=\"#C2_0_06b11f2870\" x=\"57.836277\" y=\"284.465584\" style=\"fill: #f57622\"/>\n    </g>\n    <g clip-path=\"url(#p4ae7f136d7)\">\n     <use xlink:href=\"#C2_0_06b11f2870\" x=\"57.836277\" y=\"272.584592\" style=\"fill: #fda25a\"/>\n    </g>\n    <g clip-path=\"url(#p4ae7f136d7)\">\n     <use xlink:href=\"#C2_0_06b11f2870\" x=\"57.836277\" y=\"260.703601\" style=\"fill: #fdcd9c\"/>\n    </g>\n    <g clip-path=\"url(#p4ae7f136d7)\">\n     <use xlink:href=\"#C2_0_06b11f2870\" x=\"57.836277\" y=\"248.822609\" style=\"fill: #fff5eb\"/>\n    </g>\n    <g clip-path=\"url(#p4ae7f136d7)\">\n     <use xlink:href=\"#C2_0_06b11f2870\" x=\"57.836277\" y=\"236.941617\" style=\"fill: #fff5eb\"/>\n    </g>\n    <g clip-path=\"url(#p4ae7f136d7)\">\n     <use xlink:href=\"#C2_0_06b11f2870\" x=\"57.836277\" y=\"225.060625\" style=\"fill: #fff5eb\"/>\n    </g>\n    <g clip-path=\"url(#p4ae7f136d7)\">\n     <use xlink:href=\"#C2_0_06b11f2870\" x=\"57.836277\" y=\"213.179634\" style=\"fill: #fff5eb\"/>\n    </g>\n    <g clip-path=\"url(#p4ae7f136d7)\">\n     <use xlink:href=\"#C2_0_06b11f2870\" x=\"64.687187\" y=\"343.870543\" style=\"fill: #fff5eb\"/>\n    </g>\n    <g clip-path=\"url(#p4ae7f136d7)\">\n     <use xlink:href=\"#C2_0_06b11f2870\" x=\"64.687187\" y=\"331.989551\" style=\"fill: #fff5eb\"/>\n    </g>\n    <g clip-path=\"url(#p4ae7f136d7)\">\n     <use xlink:href=\"#C2_0_06b11f2870\" x=\"64.687187\" y=\"320.108559\" style=\"fill: #fff5eb\"/>\n    </g>\n    <g clip-path=\"url(#p4ae7f136d7)\">\n     <use xlink:href=\"#C2_0_06b11f2870\" x=\"64.687187\" y=\"308.227568\" style=\"fill: #fdd7b1\"/>\n    </g>\n    <g clip-path=\"url(#p4ae7f136d7)\">\n     <use xlink:href=\"#C2_0_06b11f2870\" x=\"64.687187\" y=\"296.346576\" style=\"fill: #fda25a\"/>\n    </g>\n    <g clip-path=\"url(#p4ae7f136d7)\">\n     <use xlink:href=\"#C2_0_06b11f2870\" x=\"64.687187\" y=\"284.465584\" style=\"fill: #fdbf86\"/>\n    </g>\n    <g clip-path=\"url(#p4ae7f136d7)\">\n     <use xlink:href=\"#C2_0_06b11f2870\" x=\"64.687187\" y=\"272.584592\" style=\"fill: #fda25a\"/>\n    </g>\n    <g clip-path=\"url(#p4ae7f136d7)\">\n     <use xlink:href=\"#C2_0_06b11f2870\" x=\"64.687187\" y=\"260.703601\" style=\"fill: #fdd7b1\"/>\n    </g>\n    <g clip-path=\"url(#p4ae7f136d7)\">\n     <use xlink:href=\"#C2_0_06b11f2870\" x=\"64.687187\" y=\"248.822609\" style=\"fill: #fff5eb\"/>\n    </g>\n    <g clip-path=\"url(#p4ae7f136d7)\">\n     <use xlink:href=\"#C2_0_06b11f2870\" x=\"64.687187\" y=\"236.941617\" style=\"fill: #fff5eb\"/>\n    </g>\n    <g clip-path=\"url(#p4ae7f136d7)\">\n     <use xlink:href=\"#C2_0_06b11f2870\" x=\"64.687187\" y=\"225.060625\" style=\"fill: #fff5eb\"/>\n    </g>\n    <g clip-path=\"url(#p4ae7f136d7)\">\n     <use xlink:href=\"#C2_0_06b11f2870\" x=\"64.687187\" y=\"213.179634\" style=\"fill: #fff5eb\"/>\n    </g>\n    <g clip-path=\"url(#p4ae7f136d7)\">\n     <use xlink:href=\"#C2_0_06b11f2870\" x=\"71.538096\" y=\"343.870543\" style=\"fill: #fff5eb\"/>\n    </g>\n    <g clip-path=\"url(#p4ae7f136d7)\">\n     <use xlink:href=\"#C2_0_06b11f2870\" x=\"71.538096\" y=\"331.989551\" style=\"fill: #fff5eb\"/>\n    </g>\n    <g clip-path=\"url(#p4ae7f136d7)\">\n     <use xlink:href=\"#C2_0_06b11f2870\" x=\"71.538096\" y=\"320.108559\" style=\"fill: #fff5eb\"/>\n    </g>\n    <g clip-path=\"url(#p4ae7f136d7)\">\n     <use xlink:href=\"#C2_0_06b11f2870\" x=\"71.538096\" y=\"308.227568\" style=\"fill: #fdb06e\"/>\n    </g>\n    <g clip-path=\"url(#p4ae7f136d7)\">\n     <use xlink:href=\"#C2_0_06b11f2870\" x=\"71.538096\" y=\"296.346576\" style=\"fill: #fda25a\"/>\n    </g>\n    <g clip-path=\"url(#p4ae7f136d7)\">\n     <use xlink:href=\"#C2_0_06b11f2870\" x=\"71.538096\" y=\"284.465584\" style=\"fill: #fee9d3\"/>\n    </g>\n    <g clip-path=\"url(#p4ae7f136d7)\">\n     <use xlink:href=\"#C2_0_06b11f2870\" x=\"71.538096\" y=\"272.584592\" style=\"fill: #fdd7b1\"/>\n    </g>\n    <g clip-path=\"url(#p4ae7f136d7)\">\n     <use xlink:href=\"#C2_0_06b11f2870\" x=\"71.538096\" y=\"260.703601\" style=\"fill: #fdd7b1\"/>\n    </g>\n    <g clip-path=\"url(#p4ae7f136d7)\">\n     <use xlink:href=\"#C2_0_06b11f2870\" x=\"71.538096\" y=\"248.822609\" style=\"fill: #fff5eb\"/>\n    </g>\n    <g clip-path=\"url(#p4ae7f136d7)\">\n     <use xlink:href=\"#C2_0_06b11f2870\" x=\"71.538096\" y=\"236.941617\" style=\"fill: #fff5eb\"/>\n    </g>\n    <g clip-path=\"url(#p4ae7f136d7)\">\n     <use xlink:href=\"#C2_0_06b11f2870\" x=\"71.538096\" y=\"225.060625\" style=\"fill: #fff5eb\"/>\n    </g>\n    <g clip-path=\"url(#p4ae7f136d7)\">\n     <use xlink:href=\"#C2_0_06b11f2870\" x=\"71.538096\" y=\"213.179634\" style=\"fill: #fff5eb\"/>\n    </g>\n    <g clip-path=\"url(#p4ae7f136d7)\">\n     <use xlink:href=\"#C2_0_06b11f2870\" x=\"78.389005\" y=\"343.870543\" style=\"fill: #fff5eb\"/>\n    </g>\n    <g clip-path=\"url(#p4ae7f136d7)\">\n     <use xlink:href=\"#C2_0_06b11f2870\" x=\"78.389005\" y=\"331.989551\" style=\"fill: #fff5eb\"/>\n    </g>\n    <g clip-path=\"url(#p4ae7f136d7)\">\n     <use xlink:href=\"#C2_0_06b11f2870\" x=\"78.389005\" y=\"320.108559\" style=\"fill: #fff5eb\"/>\n    </g>\n    <g clip-path=\"url(#p4ae7f136d7)\">\n     <use xlink:href=\"#C2_0_06b11f2870\" x=\"78.389005\" y=\"308.227568\" style=\"fill: #fff5eb\"/>\n    </g>\n    <g clip-path=\"url(#p4ae7f136d7)\">\n     <use xlink:href=\"#C2_0_06b11f2870\" x=\"78.389005\" y=\"296.346576\" style=\"fill: #fdcd9c\"/>\n    </g>\n    <g clip-path=\"url(#p4ae7f136d7)\">\n     <use xlink:href=\"#C2_0_06b11f2870\" x=\"78.389005\" y=\"284.465584\" style=\"fill: #fdd7b1\"/>\n    </g>\n    <g clip-path=\"url(#p4ae7f136d7)\">\n     <use xlink:href=\"#C2_0_06b11f2870\" x=\"78.389005\" y=\"272.584592\" style=\"fill: #ffefdf\"/>\n    </g>\n    <g clip-path=\"url(#p4ae7f136d7)\">\n     <use xlink:href=\"#C2_0_06b11f2870\" x=\"78.389005\" y=\"260.703601\" style=\"fill: #ffefdf\"/>\n    </g>\n    <g clip-path=\"url(#p4ae7f136d7)\">\n     <use xlink:href=\"#C2_0_06b11f2870\" x=\"78.389005\" y=\"248.822609\" style=\"fill: #fff5eb\"/>\n    </g>\n    <g clip-path=\"url(#p4ae7f136d7)\">\n     <use xlink:href=\"#C2_0_06b11f2870\" x=\"78.389005\" y=\"236.941617\" style=\"fill: #fff5eb\"/>\n    </g>\n    <g clip-path=\"url(#p4ae7f136d7)\">\n     <use xlink:href=\"#C2_0_06b11f2870\" x=\"78.389005\" y=\"225.060625\" style=\"fill: #fff5eb\"/>\n    </g>\n    <g clip-path=\"url(#p4ae7f136d7)\">\n     <use xlink:href=\"#C2_0_06b11f2870\" x=\"78.389005\" y=\"213.179634\" style=\"fill: #fff5eb\"/>\n    </g>\n    <g clip-path=\"url(#p4ae7f136d7)\">\n     <use xlink:href=\"#C2_0_06b11f2870\" x=\"-55.203723\" y=\"337.930047\" style=\"fill: #fff5eb\"/>\n    </g>\n    <g clip-path=\"url(#p4ae7f136d7)\">\n     <use xlink:href=\"#C2_0_06b11f2870\" x=\"-55.203723\" y=\"326.049055\" style=\"fill: #fff5eb\"/>\n    </g>\n    <g clip-path=\"url(#p4ae7f136d7)\">\n     <use xlink:href=\"#C2_0_06b11f2870\" x=\"-55.203723\" y=\"314.168063\" style=\"fill: #fff5eb\"/>\n    </g>\n    <g clip-path=\"url(#p4ae7f136d7)\">\n     <use xlink:href=\"#C2_0_06b11f2870\" x=\"-55.203723\" y=\"302.287072\" style=\"fill: #fee0c3\"/>\n    </g>\n    <g clip-path=\"url(#p4ae7f136d7)\">\n     <use xlink:href=\"#C2_0_06b11f2870\" x=\"-55.203723\" y=\"290.40608\" style=\"fill: #fee9d3\"/>\n    </g>\n    <g clip-path=\"url(#p4ae7f136d7)\">\n     <use xlink:href=\"#C2_0_06b11f2870\" x=\"-55.203723\" y=\"278.525088\" style=\"fill: #fdb06e\"/>\n    </g>\n    <g clip-path=\"url(#p4ae7f136d7)\">\n     <use xlink:href=\"#C2_0_06b11f2870\" x=\"-55.203723\" y=\"266.644096\" style=\"fill: #fee0c3\"/>\n    </g>\n    <g clip-path=\"url(#p4ae7f136d7)\">\n     <use xlink:href=\"#C2_0_06b11f2870\" x=\"-55.203723\" y=\"254.763105\" style=\"fill: #fff5eb\"/>\n    </g>\n    <g clip-path=\"url(#p4ae7f136d7)\">\n     <use xlink:href=\"#C2_0_06b11f2870\" x=\"-55.203723\" y=\"242.882113\" style=\"fill: #fff5eb\"/>\n    </g>\n    <g clip-path=\"url(#p4ae7f136d7)\">\n     <use xlink:href=\"#C2_0_06b11f2870\" x=\"-55.203723\" y=\"231.001121\" style=\"fill: #fff5eb\"/>\n    </g>\n    <g clip-path=\"url(#p4ae7f136d7)\">\n     <use xlink:href=\"#C2_0_06b11f2870\" x=\"-55.203723\" y=\"219.12013\" style=\"fill: #fff5eb\"/>\n    </g>\n    <g clip-path=\"url(#p4ae7f136d7)\">\n     <use xlink:href=\"#C2_0_06b11f2870\" x=\"-48.352813\" y=\"337.930047\" style=\"fill: #fff5eb\"/>\n    </g>\n    <g clip-path=\"url(#p4ae7f136d7)\">\n     <use xlink:href=\"#C2_0_06b11f2870\" x=\"-48.352813\" y=\"326.049055\" style=\"fill: #fff5eb\"/>\n    </g>\n    <g clip-path=\"url(#p4ae7f136d7)\">\n     <use xlink:href=\"#C2_0_06b11f2870\" x=\"-48.352813\" y=\"314.168063\" style=\"fill: #ffefdf\"/>\n    </g>\n    <g clip-path=\"url(#p4ae7f136d7)\">\n     <use xlink:href=\"#C2_0_06b11f2870\" x=\"-48.352813\" y=\"302.287072\" style=\"fill: #fdb06e\"/>\n    </g>\n    <g clip-path=\"url(#p4ae7f136d7)\">\n     <use xlink:href=\"#C2_0_06b11f2870\" x=\"-48.352813\" y=\"290.40608\" style=\"fill: #fdb06e\"/>\n    </g>\n    <g clip-path=\"url(#p4ae7f136d7)\">\n     <use xlink:href=\"#C2_0_06b11f2870\" x=\"-48.352813\" y=\"278.525088\" style=\"fill: #fdbf86\"/>\n    </g>\n    <g clip-path=\"url(#p4ae7f136d7)\">\n     <use xlink:href=\"#C2_0_06b11f2870\" x=\"-48.352813\" y=\"266.644096\" style=\"fill: #fee9d3\"/>\n    </g>\n    <g clip-path=\"url(#p4ae7f136d7)\">\n     <use xlink:href=\"#C2_0_06b11f2870\" x=\"-48.352813\" y=\"254.763105\" style=\"fill: #ffefdf\"/>\n    </g>\n    <g clip-path=\"url(#p4ae7f136d7)\">\n     <use xlink:href=\"#C2_0_06b11f2870\" x=\"-48.352813\" y=\"242.882113\" style=\"fill: #fff5eb\"/>\n    </g>\n    <g clip-path=\"url(#p4ae7f136d7)\">\n     <use xlink:href=\"#C2_0_06b11f2870\" x=\"-48.352813\" y=\"231.001121\" style=\"fill: #fff5eb\"/>\n    </g>\n    <g clip-path=\"url(#p4ae7f136d7)\">\n     <use xlink:href=\"#C2_0_06b11f2870\" x=\"-48.352813\" y=\"219.12013\" style=\"fill: #fff5eb\"/>\n    </g>\n    <g clip-path=\"url(#p4ae7f136d7)\">\n     <use xlink:href=\"#C2_0_06b11f2870\" x=\"-41.501904\" y=\"337.930047\" style=\"fill: #fff5eb\"/>\n    </g>\n    <g clip-path=\"url(#p4ae7f136d7)\">\n     <use xlink:href=\"#C2_0_06b11f2870\" x=\"-41.501904\" y=\"326.049055\" style=\"fill: #ffefdf\"/>\n    </g>\n    <g clip-path=\"url(#p4ae7f136d7)\">\n     <use xlink:href=\"#C2_0_06b11f2870\" x=\"-41.501904\" y=\"314.168063\" style=\"fill: #c84202\"/>\n    </g>\n    <g clip-path=\"url(#p4ae7f136d7)\">\n     <use xlink:href=\"#C2_0_06b11f2870\" x=\"-41.501904\" y=\"302.287072\" style=\"fill: #fdbf86\"/>\n    </g>\n    <g clip-path=\"url(#p4ae7f136d7)\">\n     <use xlink:href=\"#C2_0_06b11f2870\" x=\"-41.501904\" y=\"290.40608\" style=\"fill: #e5590a\"/>\n    </g>\n    <g clip-path=\"url(#p4ae7f136d7)\">\n     <use xlink:href=\"#C2_0_06b11f2870\" x=\"-41.501904\" y=\"278.525088\" style=\"fill: #fee9d3\"/>\n    </g>\n    <g clip-path=\"url(#p4ae7f136d7)\">\n     <use xlink:href=\"#C2_0_06b11f2870\" x=\"-41.501904\" y=\"266.644096\" style=\"fill: #fdbf86\"/>\n    </g>\n    <g clip-path=\"url(#p4ae7f136d7)\">\n     <use xlink:href=\"#C2_0_06b11f2870\" x=\"-41.501904\" y=\"254.763105\" style=\"fill: #fee9d3\"/>\n    </g>\n    <g clip-path=\"url(#p4ae7f136d7)\">\n     <use xlink:href=\"#C2_0_06b11f2870\" x=\"-41.501904\" y=\"242.882113\" style=\"fill: #fff5eb\"/>\n    </g>\n    <g clip-path=\"url(#p4ae7f136d7)\">\n     <use xlink:href=\"#C2_0_06b11f2870\" x=\"-41.501904\" y=\"231.001121\" style=\"fill: #fff5eb\"/>\n    </g>\n    <g clip-path=\"url(#p4ae7f136d7)\">\n     <use xlink:href=\"#C2_0_06b11f2870\" x=\"-41.501904\" y=\"219.12013\" style=\"fill: #fff5eb\"/>\n    </g>\n    <g clip-path=\"url(#p4ae7f136d7)\">\n     <use xlink:href=\"#C2_0_06b11f2870\" x=\"-34.650995\" y=\"337.930047\" style=\"fill: #fff5eb\"/>\n    </g>\n    <g clip-path=\"url(#p4ae7f136d7)\">\n     <use xlink:href=\"#C2_0_06b11f2870\" x=\"-34.650995\" y=\"326.049055\" style=\"fill: #fee0c3\"/>\n    </g>\n    <g clip-path=\"url(#p4ae7f136d7)\">\n     <use xlink:href=\"#C2_0_06b11f2870\" x=\"-34.650995\" y=\"314.168063\" style=\"fill: #fdbf86\"/>\n    </g>\n    <g clip-path=\"url(#p4ae7f136d7)\">\n     <use xlink:href=\"#C2_0_06b11f2870\" x=\"-34.650995\" y=\"302.287072\" style=\"fill: #fdbf86\"/>\n    </g>\n    <g clip-path=\"url(#p4ae7f136d7)\">\n     <use xlink:href=\"#C2_0_06b11f2870\" x=\"-34.650995\" y=\"290.40608\" style=\"fill: #fee0c3\"/>\n    </g>\n    <g clip-path=\"url(#p4ae7f136d7)\">\n     <use xlink:href=\"#C2_0_06b11f2870\" x=\"-34.650995\" y=\"278.525088\" style=\"fill: #fdcd9c\"/>\n    </g>\n    <g clip-path=\"url(#p4ae7f136d7)\">\n     <use xlink:href=\"#C2_0_06b11f2870\" x=\"-34.650995\" y=\"266.644096\" style=\"fill: #fdd7b1\"/>\n    </g>\n    <g clip-path=\"url(#p4ae7f136d7)\">\n     <use xlink:href=\"#C2_0_06b11f2870\" x=\"-34.650995\" y=\"254.763105\" style=\"fill: #fee9d3\"/>\n    </g>\n    <g clip-path=\"url(#p4ae7f136d7)\">\n     <use xlink:href=\"#C2_0_06b11f2870\" x=\"-34.650995\" y=\"242.882113\" style=\"fill: #fff5eb\"/>\n    </g>\n    <g clip-path=\"url(#p4ae7f136d7)\">\n     <use xlink:href=\"#C2_0_06b11f2870\" x=\"-34.650995\" y=\"231.001121\" style=\"fill: #fee9d3\"/>\n    </g>\n    <g clip-path=\"url(#p4ae7f136d7)\">\n     <use xlink:href=\"#C2_0_06b11f2870\" x=\"-34.650995\" y=\"219.12013\" style=\"fill: #fff5eb\"/>\n    </g>\n    <g clip-path=\"url(#p4ae7f136d7)\">\n     <use xlink:href=\"#C2_0_06b11f2870\" x=\"-27.800086\" y=\"337.930047\" style=\"fill: #fff5eb\"/>\n    </g>\n    <g clip-path=\"url(#p4ae7f136d7)\">\n     <use xlink:href=\"#C2_0_06b11f2870\" x=\"-27.800086\" y=\"326.049055\" style=\"fill: #f57622\"/>\n    </g>\n    <g clip-path=\"url(#p4ae7f136d7)\">\n     <use xlink:href=\"#C2_0_06b11f2870\" x=\"-27.800086\" y=\"314.168063\" style=\"fill: #fb8634\"/>\n    </g>\n    <g clip-path=\"url(#p4ae7f136d7)\">\n     <use xlink:href=\"#C2_0_06b11f2870\" x=\"-27.800086\" y=\"302.287072\" style=\"fill: #fdd7b1\"/>\n    </g>\n    <g clip-path=\"url(#p4ae7f136d7)\">\n     <use xlink:href=\"#C2_0_06b11f2870\" x=\"-27.800086\" y=\"290.40608\" style=\"fill: #fd9446\"/>\n    </g>\n    <g clip-path=\"url(#p4ae7f136d7)\">\n     <use xlink:href=\"#C2_0_06b11f2870\" x=\"-27.800086\" y=\"278.525088\" style=\"fill: #fdbf86\"/>\n    </g>\n    <g clip-path=\"url(#p4ae7f136d7)\">\n     <use xlink:href=\"#C2_0_06b11f2870\" x=\"-27.800086\" y=\"266.644096\" style=\"fill: #fdcd9c\"/>\n    </g>\n    <g clip-path=\"url(#p4ae7f136d7)\">\n     <use xlink:href=\"#C2_0_06b11f2870\" x=\"-27.800086\" y=\"254.763105\" style=\"fill: #ffefdf\"/>\n    </g>\n    <g clip-path=\"url(#p4ae7f136d7)\">\n     <use xlink:href=\"#C2_0_06b11f2870\" x=\"-27.800086\" y=\"242.882113\" style=\"fill: #fff5eb\"/>\n    </g>\n    <g clip-path=\"url(#p4ae7f136d7)\">\n     <use xlink:href=\"#C2_0_06b11f2870\" x=\"-27.800086\" y=\"231.001121\" style=\"fill: #fda25a\"/>\n    </g>\n    <g clip-path=\"url(#p4ae7f136d7)\">\n     <use xlink:href=\"#C2_0_06b11f2870\" x=\"-27.800086\" y=\"219.12013\" style=\"fill: #fff5eb\"/>\n    </g>\n    <g clip-path=\"url(#p4ae7f136d7)\">\n     <use xlink:href=\"#C2_0_06b11f2870\" x=\"-20.949177\" y=\"337.930047\" style=\"fill: #fda25a\"/>\n    </g>\n    <g clip-path=\"url(#p4ae7f136d7)\">\n     <use xlink:href=\"#C2_0_06b11f2870\" x=\"-20.949177\" y=\"326.049055\" style=\"fill: #fb8634\"/>\n    </g>\n    <g clip-path=\"url(#p4ae7f136d7)\">\n     <use xlink:href=\"#C2_0_06b11f2870\" x=\"-20.949177\" y=\"314.168063\" style=\"fill: #fb8634\"/>\n    </g>\n    <g clip-path=\"url(#p4ae7f136d7)\">\n     <use xlink:href=\"#C2_0_06b11f2870\" x=\"-20.949177\" y=\"302.287072\" style=\"fill: #db4b03\"/>\n    </g>\n    <g clip-path=\"url(#p4ae7f136d7)\">\n     <use xlink:href=\"#C2_0_06b11f2870\" x=\"-20.949177\" y=\"290.40608\" style=\"fill: #fda25a\"/>\n    </g>\n    <g clip-path=\"url(#p4ae7f136d7)\">\n     <use xlink:href=\"#C2_0_06b11f2870\" x=\"-20.949177\" y=\"278.525088\" style=\"fill: #fb8634\"/>\n    </g>\n    <g clip-path=\"url(#p4ae7f136d7)\">\n     <use xlink:href=\"#C2_0_06b11f2870\" x=\"-20.949177\" y=\"266.644096\" style=\"fill: #fdcd9c\"/>\n    </g>\n    <g clip-path=\"url(#p4ae7f136d7)\">\n     <use xlink:href=\"#C2_0_06b11f2870\" x=\"-20.949177\" y=\"254.763105\" style=\"fill: #fee9d3\"/>\n    </g>\n    <g clip-path=\"url(#p4ae7f136d7)\">\n     <use xlink:href=\"#C2_0_06b11f2870\" x=\"-20.949177\" y=\"242.882113\" style=\"fill: #fee0c3\"/>\n    </g>\n    <g clip-path=\"url(#p4ae7f136d7)\">\n     <use xlink:href=\"#C2_0_06b11f2870\" x=\"-20.949177\" y=\"231.001121\" style=\"fill: #fb8634\"/>\n    </g>\n    <g clip-path=\"url(#p4ae7f136d7)\">\n     <use xlink:href=\"#C2_0_06b11f2870\" x=\"-20.949177\" y=\"219.12013\" style=\"fill: #f57622\"/>\n    </g>\n    <g clip-path=\"url(#p4ae7f136d7)\">\n     <use xlink:href=\"#C2_0_06b11f2870\" x=\"-14.098268\" y=\"337.930047\" style=\"fill: #fee0c3\"/>\n    </g>\n    <g clip-path=\"url(#p4ae7f136d7)\">\n     <use xlink:href=\"#C2_0_06b11f2870\" x=\"-14.098268\" y=\"326.049055\" style=\"fill: #7f2704\"/>\n    </g>\n    <g clip-path=\"url(#p4ae7f136d7)\">\n     <use xlink:href=\"#C2_0_06b11f2870\" x=\"-14.098268\" y=\"314.168063\" style=\"fill: #c84202\"/>\n    </g>\n    <g clip-path=\"url(#p4ae7f136d7)\">\n     <use xlink:href=\"#C2_0_06b11f2870\" x=\"-14.098268\" y=\"302.287072\" style=\"fill: #fda25a\"/>\n    </g>\n    <g clip-path=\"url(#p4ae7f136d7)\">\n     <use xlink:href=\"#C2_0_06b11f2870\" x=\"-14.098268\" y=\"290.40608\" style=\"fill: #8f2d04\"/>\n    </g>\n    <g clip-path=\"url(#p4ae7f136d7)\">\n     <use xlink:href=\"#C2_0_06b11f2870\" x=\"-14.098268\" y=\"278.525088\" style=\"fill: #fdcd9c\"/>\n    </g>\n    <g clip-path=\"url(#p4ae7f136d7)\">\n     <use xlink:href=\"#C2_0_06b11f2870\" x=\"-14.098268\" y=\"266.644096\" style=\"fill: #fdcd9c\"/>\n    </g>\n    <g clip-path=\"url(#p4ae7f136d7)\">\n     <use xlink:href=\"#C2_0_06b11f2870\" x=\"-14.098268\" y=\"254.763105\" style=\"fill: #fee0c3\"/>\n    </g>\n    <g clip-path=\"url(#p4ae7f136d7)\">\n     <use xlink:href=\"#C2_0_06b11f2870\" x=\"-14.098268\" y=\"242.882113\" style=\"fill: #fdd7b1\"/>\n    </g>\n    <g clip-path=\"url(#p4ae7f136d7)\">\n     <use xlink:href=\"#C2_0_06b11f2870\" x=\"-14.098268\" y=\"231.001121\" style=\"fill: #fdd7b1\"/>\n    </g>\n    <g clip-path=\"url(#p4ae7f136d7)\">\n     <use xlink:href=\"#C2_0_06b11f2870\" x=\"-14.098268\" y=\"219.12013\" style=\"fill: #fdd7b1\"/>\n    </g>\n    <g clip-path=\"url(#p4ae7f136d7)\">\n     <use xlink:href=\"#C2_0_06b11f2870\" x=\"-7.247359\" y=\"337.930047\" style=\"fill: #ffefdf\"/>\n    </g>\n    <g clip-path=\"url(#p4ae7f136d7)\">\n     <use xlink:href=\"#C2_0_06b11f2870\" x=\"-7.247359\" y=\"326.049055\" style=\"fill: #ffefdf\"/>\n    </g>\n    <g clip-path=\"url(#p4ae7f136d7)\">\n     <use xlink:href=\"#C2_0_06b11f2870\" x=\"-7.247359\" y=\"314.168063\" style=\"fill: #fdbf86\"/>\n    </g>\n    <g clip-path=\"url(#p4ae7f136d7)\">\n     <use xlink:href=\"#C2_0_06b11f2870\" x=\"-7.247359\" y=\"302.287072\" style=\"fill: #fda25a\"/>\n    </g>\n    <g clip-path=\"url(#p4ae7f136d7)\">\n     <use xlink:href=\"#C2_0_06b11f2870\" x=\"-7.247359\" y=\"290.40608\" style=\"fill: #fb8634\"/>\n    </g>\n    <g clip-path=\"url(#p4ae7f136d7)\">\n     <use xlink:href=\"#C2_0_06b11f2870\" x=\"-7.247359\" y=\"278.525088\" style=\"fill: #fd9446\"/>\n    </g>\n    <g clip-path=\"url(#p4ae7f136d7)\">\n     <use xlink:href=\"#C2_0_06b11f2870\" x=\"-7.247359\" y=\"266.644096\" style=\"fill: #fdd7b1\"/>\n    </g>\n    <g clip-path=\"url(#p4ae7f136d7)\">\n     <use xlink:href=\"#C2_0_06b11f2870\" x=\"-7.247359\" y=\"254.763105\" style=\"fill: #fdd7b1\"/>\n    </g>\n    <g clip-path=\"url(#p4ae7f136d7)\">\n     <use xlink:href=\"#C2_0_06b11f2870\" x=\"-7.247359\" y=\"242.882113\" style=\"fill: #fdb06e\"/>\n    </g>\n    <g clip-path=\"url(#p4ae7f136d7)\">\n     <use xlink:href=\"#C2_0_06b11f2870\" x=\"-7.247359\" y=\"231.001121\" style=\"fill: #fee9d3\"/>\n    </g>\n    <g clip-path=\"url(#p4ae7f136d7)\">\n     <use xlink:href=\"#C2_0_06b11f2870\" x=\"-7.247359\" y=\"219.12013\" style=\"fill: #fff5eb\"/>\n    </g>\n    <g clip-path=\"url(#p4ae7f136d7)\">\n     <use xlink:href=\"#C2_0_06b11f2870\" x=\"-0.39645\" y=\"337.930047\" style=\"fill: #fd9446\"/>\n    </g>\n    <g clip-path=\"url(#p4ae7f136d7)\">\n     <use xlink:href=\"#C2_0_06b11f2870\" x=\"-0.39645\" y=\"326.049055\" style=\"fill: #fdcd9c\"/>\n    </g>\n    <g clip-path=\"url(#p4ae7f136d7)\">\n     <use xlink:href=\"#C2_0_06b11f2870\" x=\"-0.39645\" y=\"314.168063\" style=\"fill: #fdcd9c\"/>\n    </g>\n    <g clip-path=\"url(#p4ae7f136d7)\">\n     <use xlink:href=\"#C2_0_06b11f2870\" x=\"-0.39645\" y=\"302.287072\" style=\"fill: #fdcd9c\"/>\n    </g>\n    <g clip-path=\"url(#p4ae7f136d7)\">\n     <use xlink:href=\"#C2_0_06b11f2870\" x=\"-0.39645\" y=\"290.40608\" style=\"fill: #fdb06e\"/>\n    </g>\n    <g clip-path=\"url(#p4ae7f136d7)\">\n     <use xlink:href=\"#C2_0_06b11f2870\" x=\"-0.39645\" y=\"278.525088\" style=\"fill: #fee0c3\"/>\n    </g>\n    <g clip-path=\"url(#p4ae7f136d7)\">\n     <use xlink:href=\"#C2_0_06b11f2870\" x=\"-0.39645\" y=\"266.644096\" style=\"fill: #fdcd9c\"/>\n    </g>\n    <g clip-path=\"url(#p4ae7f136d7)\">\n     <use xlink:href=\"#C2_0_06b11f2870\" x=\"-0.39645\" y=\"254.763105\" style=\"fill: #ffefdf\"/>\n    </g>\n    <g clip-path=\"url(#p4ae7f136d7)\">\n     <use xlink:href=\"#C2_0_06b11f2870\" x=\"-0.39645\" y=\"242.882113\" style=\"fill: #fff5eb\"/>\n    </g>\n    <g clip-path=\"url(#p4ae7f136d7)\">\n     <use xlink:href=\"#C2_0_06b11f2870\" x=\"-0.39645\" y=\"231.001121\" style=\"fill: #fff5eb\"/>\n    </g>\n    <g clip-path=\"url(#p4ae7f136d7)\">\n     <use xlink:href=\"#C2_0_06b11f2870\" x=\"-0.39645\" y=\"219.12013\" style=\"fill: #fff5eb\"/>\n    </g>\n    <g clip-path=\"url(#p4ae7f136d7)\">\n     <use xlink:href=\"#C2_0_06b11f2870\" x=\"6.454459\" y=\"337.930047\" style=\"fill: #9f3303\"/>\n    </g>\n    <g clip-path=\"url(#p4ae7f136d7)\">\n     <use xlink:href=\"#C2_0_06b11f2870\" x=\"6.454459\" y=\"326.049055\" style=\"fill: #fdd7b1\"/>\n    </g>\n    <g clip-path=\"url(#p4ae7f136d7)\">\n     <use xlink:href=\"#C2_0_06b11f2870\" x=\"6.454459\" y=\"314.168063\" style=\"fill: #fee0c3\"/>\n    </g>\n    <g clip-path=\"url(#p4ae7f136d7)\">\n     <use xlink:href=\"#C2_0_06b11f2870\" x=\"6.454459\" y=\"302.287072\" style=\"fill: #fdd7b1\"/>\n    </g>\n    <g clip-path=\"url(#p4ae7f136d7)\">\n     <use xlink:href=\"#C2_0_06b11f2870\" x=\"6.454459\" y=\"290.40608\" style=\"fill: #fdcd9c\"/>\n    </g>\n    <g clip-path=\"url(#p4ae7f136d7)\">\n     <use xlink:href=\"#C2_0_06b11f2870\" x=\"6.454459\" y=\"278.525088\" style=\"fill: #fee0c3\"/>\n    </g>\n    <g clip-path=\"url(#p4ae7f136d7)\">\n     <use xlink:href=\"#C2_0_06b11f2870\" x=\"6.454459\" y=\"266.644096\" style=\"fill: #fdd7b1\"/>\n    </g>\n    <g clip-path=\"url(#p4ae7f136d7)\">\n     <use xlink:href=\"#C2_0_06b11f2870\" x=\"6.454459\" y=\"254.763105\" style=\"fill: #fff5eb\"/>\n    </g>\n    <g clip-path=\"url(#p4ae7f136d7)\">\n     <use xlink:href=\"#C2_0_06b11f2870\" x=\"6.454459\" y=\"242.882113\" style=\"fill: #fff5eb\"/>\n    </g>\n    <g clip-path=\"url(#p4ae7f136d7)\">\n     <use xlink:href=\"#C2_0_06b11f2870\" x=\"6.454459\" y=\"231.001121\" style=\"fill: #fff5eb\"/>\n    </g>\n    <g clip-path=\"url(#p4ae7f136d7)\">\n     <use xlink:href=\"#C2_0_06b11f2870\" x=\"6.454459\" y=\"219.12013\" style=\"fill: #fff5eb\"/>\n    </g>\n    <g clip-path=\"url(#p4ae7f136d7)\">\n     <use xlink:href=\"#C2_0_06b11f2870\" x=\"13.305368\" y=\"337.930047\" style=\"fill: #fff5eb\"/>\n    </g>\n    <g clip-path=\"url(#p4ae7f136d7)\">\n     <use xlink:href=\"#C2_0_06b11f2870\" x=\"13.305368\" y=\"326.049055\" style=\"fill: #fff5eb\"/>\n    </g>\n    <g clip-path=\"url(#p4ae7f136d7)\">\n     <use xlink:href=\"#C2_0_06b11f2870\" x=\"13.305368\" y=\"314.168063\" style=\"fill: #fdcd9c\"/>\n    </g>\n    <g clip-path=\"url(#p4ae7f136d7)\">\n     <use xlink:href=\"#C2_0_06b11f2870\" x=\"13.305368\" y=\"302.287072\" style=\"fill: #fee9d3\"/>\n    </g>\n    <g clip-path=\"url(#p4ae7f136d7)\">\n     <use xlink:href=\"#C2_0_06b11f2870\" x=\"13.305368\" y=\"290.40608\" style=\"fill: #fff5eb\"/>\n    </g>\n    <g clip-path=\"url(#p4ae7f136d7)\">\n     <use xlink:href=\"#C2_0_06b11f2870\" x=\"13.305368\" y=\"278.525088\" style=\"fill: #fff5eb\"/>\n    </g>\n    <g clip-path=\"url(#p4ae7f136d7)\">\n     <use xlink:href=\"#C2_0_06b11f2870\" x=\"13.305368\" y=\"266.644096\" style=\"fill: #fff5eb\"/>\n    </g>\n    <g clip-path=\"url(#p4ae7f136d7)\">\n     <use xlink:href=\"#C2_0_06b11f2870\" x=\"13.305368\" y=\"254.763105\" style=\"fill: #fff5eb\"/>\n    </g>\n    <g clip-path=\"url(#p4ae7f136d7)\">\n     <use xlink:href=\"#C2_0_06b11f2870\" x=\"13.305368\" y=\"242.882113\" style=\"fill: #fff5eb\"/>\n    </g>\n    <g clip-path=\"url(#p4ae7f136d7)\">\n     <use xlink:href=\"#C2_0_06b11f2870\" x=\"13.305368\" y=\"231.001121\" style=\"fill: #fff5eb\"/>\n    </g>\n    <g clip-path=\"url(#p4ae7f136d7)\">\n     <use xlink:href=\"#C2_0_06b11f2870\" x=\"13.305368\" y=\"219.12013\" style=\"fill: #fff5eb\"/>\n    </g>\n    <g clip-path=\"url(#p4ae7f136d7)\">\n     <use xlink:href=\"#C2_0_06b11f2870\" x=\"20.156277\" y=\"337.930047\" style=\"fill: #fff5eb\"/>\n    </g>\n    <g clip-path=\"url(#p4ae7f136d7)\">\n     <use xlink:href=\"#C2_0_06b11f2870\" x=\"20.156277\" y=\"326.049055\" style=\"fill: #fff5eb\"/>\n    </g>\n    <g clip-path=\"url(#p4ae7f136d7)\">\n     <use xlink:href=\"#C2_0_06b11f2870\" x=\"20.156277\" y=\"314.168063\" style=\"fill: #fee0c3\"/>\n    </g>\n    <g clip-path=\"url(#p4ae7f136d7)\">\n     <use xlink:href=\"#C2_0_06b11f2870\" x=\"20.156277\" y=\"302.287072\" style=\"fill: #fff5eb\"/>\n    </g>\n    <g clip-path=\"url(#p4ae7f136d7)\">\n     <use xlink:href=\"#C2_0_06b11f2870\" x=\"20.156277\" y=\"290.40608\" style=\"fill: #ffefdf\"/>\n    </g>\n    <g clip-path=\"url(#p4ae7f136d7)\">\n     <use xlink:href=\"#C2_0_06b11f2870\" x=\"20.156277\" y=\"278.525088\" style=\"fill: #fff5eb\"/>\n    </g>\n    <g clip-path=\"url(#p4ae7f136d7)\">\n     <use xlink:href=\"#C2_0_06b11f2870\" x=\"20.156277\" y=\"266.644096\" style=\"fill: #fff5eb\"/>\n    </g>\n    <g clip-path=\"url(#p4ae7f136d7)\">\n     <use xlink:href=\"#C2_0_06b11f2870\" x=\"20.156277\" y=\"254.763105\" style=\"fill: #fff5eb\"/>\n    </g>\n    <g clip-path=\"url(#p4ae7f136d7)\">\n     <use xlink:href=\"#C2_0_06b11f2870\" x=\"20.156277\" y=\"242.882113\" style=\"fill: #fff5eb\"/>\n    </g>\n    <g clip-path=\"url(#p4ae7f136d7)\">\n     <use xlink:href=\"#C2_0_06b11f2870\" x=\"20.156277\" y=\"231.001121\" style=\"fill: #fff5eb\"/>\n    </g>\n    <g clip-path=\"url(#p4ae7f136d7)\">\n     <use xlink:href=\"#C2_0_06b11f2870\" x=\"20.156277\" y=\"219.12013\" style=\"fill: #fff5eb\"/>\n    </g>\n    <g clip-path=\"url(#p4ae7f136d7)\">\n     <use xlink:href=\"#C2_0_06b11f2870\" x=\"27.007187\" y=\"337.930047\" style=\"fill: #fff5eb\"/>\n    </g>\n    <g clip-path=\"url(#p4ae7f136d7)\">\n     <use xlink:href=\"#C2_0_06b11f2870\" x=\"27.007187\" y=\"326.049055\" style=\"fill: #fff5eb\"/>\n    </g>\n    <g clip-path=\"url(#p4ae7f136d7)\">\n     <use xlink:href=\"#C2_0_06b11f2870\" x=\"27.007187\" y=\"314.168063\" style=\"fill: #fff5eb\"/>\n    </g>\n    <g clip-path=\"url(#p4ae7f136d7)\">\n     <use xlink:href=\"#C2_0_06b11f2870\" x=\"27.007187\" y=\"302.287072\" style=\"fill: #fff5eb\"/>\n    </g>\n    <g clip-path=\"url(#p4ae7f136d7)\">\n     <use xlink:href=\"#C2_0_06b11f2870\" x=\"27.007187\" y=\"290.40608\" style=\"fill: #fff5eb\"/>\n    </g>\n    <g clip-path=\"url(#p4ae7f136d7)\">\n     <use xlink:href=\"#C2_0_06b11f2870\" x=\"27.007187\" y=\"278.525088\" style=\"fill: #fff5eb\"/>\n    </g>\n    <g clip-path=\"url(#p4ae7f136d7)\">\n     <use xlink:href=\"#C2_0_06b11f2870\" x=\"27.007187\" y=\"266.644096\" style=\"fill: #fff5eb\"/>\n    </g>\n    <g clip-path=\"url(#p4ae7f136d7)\">\n     <use xlink:href=\"#C2_0_06b11f2870\" x=\"27.007187\" y=\"254.763105\" style=\"fill: #fff5eb\"/>\n    </g>\n    <g clip-path=\"url(#p4ae7f136d7)\">\n     <use xlink:href=\"#C2_0_06b11f2870\" x=\"27.007187\" y=\"242.882113\" style=\"fill: #fff5eb\"/>\n    </g>\n    <g clip-path=\"url(#p4ae7f136d7)\">\n     <use xlink:href=\"#C2_0_06b11f2870\" x=\"27.007187\" y=\"231.001121\" style=\"fill: #fff5eb\"/>\n    </g>\n    <g clip-path=\"url(#p4ae7f136d7)\">\n     <use xlink:href=\"#C2_0_06b11f2870\" x=\"27.007187\" y=\"219.12013\" style=\"fill: #fff5eb\"/>\n    </g>\n    <g clip-path=\"url(#p4ae7f136d7)\">\n     <use xlink:href=\"#C2_0_06b11f2870\" x=\"33.858096\" y=\"337.930047\" style=\"fill: #fff5eb\"/>\n    </g>\n    <g clip-path=\"url(#p4ae7f136d7)\">\n     <use xlink:href=\"#C2_0_06b11f2870\" x=\"33.858096\" y=\"326.049055\" style=\"fill: #fff5eb\"/>\n    </g>\n    <g clip-path=\"url(#p4ae7f136d7)\">\n     <use xlink:href=\"#C2_0_06b11f2870\" x=\"33.858096\" y=\"314.168063\" style=\"fill: #fff5eb\"/>\n    </g>\n    <g clip-path=\"url(#p4ae7f136d7)\">\n     <use xlink:href=\"#C2_0_06b11f2870\" x=\"33.858096\" y=\"302.287072\" style=\"fill: #fff5eb\"/>\n    </g>\n    <g clip-path=\"url(#p4ae7f136d7)\">\n     <use xlink:href=\"#C2_0_06b11f2870\" x=\"33.858096\" y=\"290.40608\" style=\"fill: #fff5eb\"/>\n    </g>\n    <g clip-path=\"url(#p4ae7f136d7)\">\n     <use xlink:href=\"#C2_0_06b11f2870\" x=\"33.858096\" y=\"278.525088\" style=\"fill: #fff5eb\"/>\n    </g>\n    <g clip-path=\"url(#p4ae7f136d7)\">\n     <use xlink:href=\"#C2_0_06b11f2870\" x=\"33.858096\" y=\"266.644096\" style=\"fill: #fff5eb\"/>\n    </g>\n    <g clip-path=\"url(#p4ae7f136d7)\">\n     <use xlink:href=\"#C2_0_06b11f2870\" x=\"33.858096\" y=\"254.763105\" style=\"fill: #fff5eb\"/>\n    </g>\n    <g clip-path=\"url(#p4ae7f136d7)\">\n     <use xlink:href=\"#C2_0_06b11f2870\" x=\"33.858096\" y=\"242.882113\" style=\"fill: #fff5eb\"/>\n    </g>\n    <g clip-path=\"url(#p4ae7f136d7)\">\n     <use xlink:href=\"#C2_0_06b11f2870\" x=\"33.858096\" y=\"231.001121\" style=\"fill: #fff5eb\"/>\n    </g>\n    <g clip-path=\"url(#p4ae7f136d7)\">\n     <use xlink:href=\"#C2_0_06b11f2870\" x=\"33.858096\" y=\"219.12013\" style=\"fill: #fff5eb\"/>\n    </g>\n    <g clip-path=\"url(#p4ae7f136d7)\">\n     <use xlink:href=\"#C2_0_06b11f2870\" x=\"40.709005\" y=\"337.930047\" style=\"fill: #fff5eb\"/>\n    </g>\n    <g clip-path=\"url(#p4ae7f136d7)\">\n     <use xlink:href=\"#C2_0_06b11f2870\" x=\"40.709005\" y=\"326.049055\" style=\"fill: #fff5eb\"/>\n    </g>\n    <g clip-path=\"url(#p4ae7f136d7)\">\n     <use xlink:href=\"#C2_0_06b11f2870\" x=\"40.709005\" y=\"314.168063\" style=\"fill: #fff5eb\"/>\n    </g>\n    <g clip-path=\"url(#p4ae7f136d7)\">\n     <use xlink:href=\"#C2_0_06b11f2870\" x=\"40.709005\" y=\"302.287072\" style=\"fill: #fff5eb\"/>\n    </g>\n    <g clip-path=\"url(#p4ae7f136d7)\">\n     <use xlink:href=\"#C2_0_06b11f2870\" x=\"40.709005\" y=\"290.40608\" style=\"fill: #fee9d3\"/>\n    </g>\n    <g clip-path=\"url(#p4ae7f136d7)\">\n     <use xlink:href=\"#C2_0_06b11f2870\" x=\"40.709005\" y=\"278.525088\" style=\"fill: #ffefdf\"/>\n    </g>\n    <g clip-path=\"url(#p4ae7f136d7)\">\n     <use xlink:href=\"#C2_0_06b11f2870\" x=\"40.709005\" y=\"266.644096\" style=\"fill: #ffefdf\"/>\n    </g>\n    <g clip-path=\"url(#p4ae7f136d7)\">\n     <use xlink:href=\"#C2_0_06b11f2870\" x=\"40.709005\" y=\"254.763105\" style=\"fill: #fff5eb\"/>\n    </g>\n    <g clip-path=\"url(#p4ae7f136d7)\">\n     <use xlink:href=\"#C2_0_06b11f2870\" x=\"40.709005\" y=\"242.882113\" style=\"fill: #fff5eb\"/>\n    </g>\n    <g clip-path=\"url(#p4ae7f136d7)\">\n     <use xlink:href=\"#C2_0_06b11f2870\" x=\"40.709005\" y=\"231.001121\" style=\"fill: #fff5eb\"/>\n    </g>\n    <g clip-path=\"url(#p4ae7f136d7)\">\n     <use xlink:href=\"#C2_0_06b11f2870\" x=\"40.709005\" y=\"219.12013\" style=\"fill: #fff5eb\"/>\n    </g>\n    <g clip-path=\"url(#p4ae7f136d7)\">\n     <use xlink:href=\"#C2_0_06b11f2870\" x=\"47.559914\" y=\"337.930047\" style=\"fill: #fff5eb\"/>\n    </g>\n    <g clip-path=\"url(#p4ae7f136d7)\">\n     <use xlink:href=\"#C2_0_06b11f2870\" x=\"47.559914\" y=\"326.049055\" style=\"fill: #fff5eb\"/>\n    </g>\n    <g clip-path=\"url(#p4ae7f136d7)\">\n     <use xlink:href=\"#C2_0_06b11f2870\" x=\"47.559914\" y=\"314.168063\" style=\"fill: #fff5eb\"/>\n    </g>\n    <g clip-path=\"url(#p4ae7f136d7)\">\n     <use xlink:href=\"#C2_0_06b11f2870\" x=\"47.559914\" y=\"302.287072\" style=\"fill: #fff5eb\"/>\n    </g>\n    <g clip-path=\"url(#p4ae7f136d7)\">\n     <use xlink:href=\"#C2_0_06b11f2870\" x=\"47.559914\" y=\"290.40608\" style=\"fill: #fdd7b1\"/>\n    </g>\n    <g clip-path=\"url(#p4ae7f136d7)\">\n     <use xlink:href=\"#C2_0_06b11f2870\" x=\"47.559914\" y=\"278.525088\" style=\"fill: #fdcd9c\"/>\n    </g>\n    <g clip-path=\"url(#p4ae7f136d7)\">\n     <use xlink:href=\"#C2_0_06b11f2870\" x=\"47.559914\" y=\"266.644096\" style=\"fill: #fdbf86\"/>\n    </g>\n    <g clip-path=\"url(#p4ae7f136d7)\">\n     <use xlink:href=\"#C2_0_06b11f2870\" x=\"47.559914\" y=\"254.763105\" style=\"fill: #f06712\"/>\n    </g>\n    <g clip-path=\"url(#p4ae7f136d7)\">\n     <use xlink:href=\"#C2_0_06b11f2870\" x=\"47.559914\" y=\"242.882113\" style=\"fill: #fff5eb\"/>\n    </g>\n    <g clip-path=\"url(#p4ae7f136d7)\">\n     <use xlink:href=\"#C2_0_06b11f2870\" x=\"47.559914\" y=\"231.001121\" style=\"fill: #fff5eb\"/>\n    </g>\n    <g clip-path=\"url(#p4ae7f136d7)\">\n     <use xlink:href=\"#C2_0_06b11f2870\" x=\"47.559914\" y=\"219.12013\" style=\"fill: #fff5eb\"/>\n    </g>\n    <g clip-path=\"url(#p4ae7f136d7)\">\n     <use xlink:href=\"#C2_0_06b11f2870\" x=\"54.410823\" y=\"337.930047\" style=\"fill: #fff5eb\"/>\n    </g>\n    <g clip-path=\"url(#p4ae7f136d7)\">\n     <use xlink:href=\"#C2_0_06b11f2870\" x=\"54.410823\" y=\"326.049055\" style=\"fill: #fff5eb\"/>\n    </g>\n    <g clip-path=\"url(#p4ae7f136d7)\">\n     <use xlink:href=\"#C2_0_06b11f2870\" x=\"54.410823\" y=\"314.168063\" style=\"fill: #fff5eb\"/>\n    </g>\n    <g clip-path=\"url(#p4ae7f136d7)\">\n     <use xlink:href=\"#C2_0_06b11f2870\" x=\"54.410823\" y=\"302.287072\" style=\"fill: #fdd7b1\"/>\n    </g>\n    <g clip-path=\"url(#p4ae7f136d7)\">\n     <use xlink:href=\"#C2_0_06b11f2870\" x=\"54.410823\" y=\"290.40608\" style=\"fill: #f06712\"/>\n    </g>\n    <g clip-path=\"url(#p4ae7f136d7)\">\n     <use xlink:href=\"#C2_0_06b11f2870\" x=\"54.410823\" y=\"278.525088\" style=\"fill: #fdcd9c\"/>\n    </g>\n    <g clip-path=\"url(#p4ae7f136d7)\">\n     <use xlink:href=\"#C2_0_06b11f2870\" x=\"54.410823\" y=\"266.644096\" style=\"fill: #fdcd9c\"/>\n    </g>\n    <g clip-path=\"url(#p4ae7f136d7)\">\n     <use xlink:href=\"#C2_0_06b11f2870\" x=\"54.410823\" y=\"254.763105\" style=\"fill: #fda25a\"/>\n    </g>\n    <g clip-path=\"url(#p4ae7f136d7)\">\n     <use xlink:href=\"#C2_0_06b11f2870\" x=\"54.410823\" y=\"242.882113\" style=\"fill: #fff5eb\"/>\n    </g>\n    <g clip-path=\"url(#p4ae7f136d7)\">\n     <use xlink:href=\"#C2_0_06b11f2870\" x=\"54.410823\" y=\"231.001121\" style=\"fill: #fff5eb\"/>\n    </g>\n    <g clip-path=\"url(#p4ae7f136d7)\">\n     <use xlink:href=\"#C2_0_06b11f2870\" x=\"54.410823\" y=\"219.12013\" style=\"fill: #fff5eb\"/>\n    </g>\n    <g clip-path=\"url(#p4ae7f136d7)\">\n     <use xlink:href=\"#C2_0_06b11f2870\" x=\"61.261732\" y=\"337.930047\" style=\"fill: #fff5eb\"/>\n    </g>\n    <g clip-path=\"url(#p4ae7f136d7)\">\n     <use xlink:href=\"#C2_0_06b11f2870\" x=\"61.261732\" y=\"326.049055\" style=\"fill: #fff5eb\"/>\n    </g>\n    <g clip-path=\"url(#p4ae7f136d7)\">\n     <use xlink:href=\"#C2_0_06b11f2870\" x=\"61.261732\" y=\"314.168063\" style=\"fill: #fff5eb\"/>\n    </g>\n    <g clip-path=\"url(#p4ae7f136d7)\">\n     <use xlink:href=\"#C2_0_06b11f2870\" x=\"61.261732\" y=\"302.287072\" style=\"fill: #fdb06e\"/>\n    </g>\n    <g clip-path=\"url(#p4ae7f136d7)\">\n     <use xlink:href=\"#C2_0_06b11f2870\" x=\"61.261732\" y=\"290.40608\" style=\"fill: #f06712\"/>\n    </g>\n    <g clip-path=\"url(#p4ae7f136d7)\">\n     <use xlink:href=\"#C2_0_06b11f2870\" x=\"61.261732\" y=\"278.525088\" style=\"fill: #fd9446\"/>\n    </g>\n    <g clip-path=\"url(#p4ae7f136d7)\">\n     <use xlink:href=\"#C2_0_06b11f2870\" x=\"61.261732\" y=\"266.644096\" style=\"fill: #fee0c3\"/>\n    </g>\n    <g clip-path=\"url(#p4ae7f136d7)\">\n     <use xlink:href=\"#C2_0_06b11f2870\" x=\"61.261732\" y=\"254.763105\" style=\"fill: #fff5eb\"/>\n    </g>\n    <g clip-path=\"url(#p4ae7f136d7)\">\n     <use xlink:href=\"#C2_0_06b11f2870\" x=\"61.261732\" y=\"242.882113\" style=\"fill: #fff5eb\"/>\n    </g>\n    <g clip-path=\"url(#p4ae7f136d7)\">\n     <use xlink:href=\"#C2_0_06b11f2870\" x=\"61.261732\" y=\"231.001121\" style=\"fill: #fff5eb\"/>\n    </g>\n    <g clip-path=\"url(#p4ae7f136d7)\">\n     <use xlink:href=\"#C2_0_06b11f2870\" x=\"61.261732\" y=\"219.12013\" style=\"fill: #fff5eb\"/>\n    </g>\n    <g clip-path=\"url(#p4ae7f136d7)\">\n     <use xlink:href=\"#C2_0_06b11f2870\" x=\"68.112641\" y=\"337.930047\" style=\"fill: #fff5eb\"/>\n    </g>\n    <g clip-path=\"url(#p4ae7f136d7)\">\n     <use xlink:href=\"#C2_0_06b11f2870\" x=\"68.112641\" y=\"326.049055\" style=\"fill: #fff5eb\"/>\n    </g>\n    <g clip-path=\"url(#p4ae7f136d7)\">\n     <use xlink:href=\"#C2_0_06b11f2870\" x=\"68.112641\" y=\"314.168063\" style=\"fill: #fff5eb\"/>\n    </g>\n    <g clip-path=\"url(#p4ae7f136d7)\">\n     <use xlink:href=\"#C2_0_06b11f2870\" x=\"68.112641\" y=\"302.287072\" style=\"fill: #f57622\"/>\n    </g>\n    <g clip-path=\"url(#p4ae7f136d7)\">\n     <use xlink:href=\"#C2_0_06b11f2870\" x=\"68.112641\" y=\"290.40608\" style=\"fill: #fdcd9c\"/>\n    </g>\n    <g clip-path=\"url(#p4ae7f136d7)\">\n     <use xlink:href=\"#C2_0_06b11f2870\" x=\"68.112641\" y=\"278.525088\" style=\"fill: #fd9446\"/>\n    </g>\n    <g clip-path=\"url(#p4ae7f136d7)\">\n     <use xlink:href=\"#C2_0_06b11f2870\" x=\"68.112641\" y=\"266.644096\" style=\"fill: #fdcd9c\"/>\n    </g>\n    <g clip-path=\"url(#p4ae7f136d7)\">\n     <use xlink:href=\"#C2_0_06b11f2870\" x=\"68.112641\" y=\"254.763105\" style=\"fill: #fff5eb\"/>\n    </g>\n    <g clip-path=\"url(#p4ae7f136d7)\">\n     <use xlink:href=\"#C2_0_06b11f2870\" x=\"68.112641\" y=\"242.882113\" style=\"fill: #fff5eb\"/>\n    </g>\n    <g clip-path=\"url(#p4ae7f136d7)\">\n     <use xlink:href=\"#C2_0_06b11f2870\" x=\"68.112641\" y=\"231.001121\" style=\"fill: #fff5eb\"/>\n    </g>\n    <g clip-path=\"url(#p4ae7f136d7)\">\n     <use xlink:href=\"#C2_0_06b11f2870\" x=\"68.112641\" y=\"219.12013\" style=\"fill: #fff5eb\"/>\n    </g>\n    <g clip-path=\"url(#p4ae7f136d7)\">\n     <use xlink:href=\"#C2_0_06b11f2870\" x=\"74.96355\" y=\"337.930047\" style=\"fill: #fff5eb\"/>\n    </g>\n    <g clip-path=\"url(#p4ae7f136d7)\">\n     <use xlink:href=\"#C2_0_06b11f2870\" x=\"74.96355\" y=\"326.049055\" style=\"fill: #fff5eb\"/>\n    </g>\n    <g clip-path=\"url(#p4ae7f136d7)\">\n     <use xlink:href=\"#C2_0_06b11f2870\" x=\"74.96355\" y=\"314.168063\" style=\"fill: #fff5eb\"/>\n    </g>\n    <g clip-path=\"url(#p4ae7f136d7)\">\n     <use xlink:href=\"#C2_0_06b11f2870\" x=\"74.96355\" y=\"302.287072\" style=\"fill: #f06712\"/>\n    </g>\n    <g clip-path=\"url(#p4ae7f136d7)\">\n     <use xlink:href=\"#C2_0_06b11f2870\" x=\"74.96355\" y=\"290.40608\" style=\"fill: #fdbf86\"/>\n    </g>\n    <g clip-path=\"url(#p4ae7f136d7)\">\n     <use xlink:href=\"#C2_0_06b11f2870\" x=\"74.96355\" y=\"278.525088\" style=\"fill: #fdd7b1\"/>\n    </g>\n    <g clip-path=\"url(#p4ae7f136d7)\">\n     <use xlink:href=\"#C2_0_06b11f2870\" x=\"74.96355\" y=\"266.644096\" style=\"fill: #ffefdf\"/>\n    </g>\n    <g clip-path=\"url(#p4ae7f136d7)\">\n     <use xlink:href=\"#C2_0_06b11f2870\" x=\"74.96355\" y=\"254.763105\" style=\"fill: #fff5eb\"/>\n    </g>\n    <g clip-path=\"url(#p4ae7f136d7)\">\n     <use xlink:href=\"#C2_0_06b11f2870\" x=\"74.96355\" y=\"242.882113\" style=\"fill: #fff5eb\"/>\n    </g>\n    <g clip-path=\"url(#p4ae7f136d7)\">\n     <use xlink:href=\"#C2_0_06b11f2870\" x=\"74.96355\" y=\"231.001121\" style=\"fill: #fff5eb\"/>\n    </g>\n    <g clip-path=\"url(#p4ae7f136d7)\">\n     <use xlink:href=\"#C2_0_06b11f2870\" x=\"74.96355\" y=\"219.12013\" style=\"fill: #fff5eb\"/>\n    </g>\n   </g>\n   <g id=\"matplotlib.axis_5\"/>\n   <g id=\"matplotlib.axis_6\"/>\n   <g id=\"patch_13\">\n    <path d=\"M 334.56 167.90175 \nL 334.56 24.14175 \n\" style=\"fill: none; stroke: #000000; stroke-width: 0.8; stroke-linejoin: miter; stroke-linecap: square\"/>\n   </g>\n   <g id=\"patch_14\">\n    <path d=\"M 485.28 167.90175 \nL 485.28 24.14175 \n\" style=\"fill: none; stroke: #000000; stroke-width: 0.8; stroke-linejoin: miter; stroke-linecap: square\"/>\n   </g>\n   <g id=\"patch_15\">\n    <path d=\"M 334.56 167.90175 \nL 485.28 167.90175 \n\" style=\"fill: none; stroke: #000000; stroke-width: 0.8; stroke-linejoin: miter; stroke-linecap: square\"/>\n   </g>\n   <g id=\"patch_16\">\n    <path d=\"M 334.56 24.14175 \nL 485.28 24.14175 \n\" style=\"fill: none; stroke: #000000; stroke-width: 0.8; stroke-linejoin: miter; stroke-linecap: square\"/>\n   </g>\n   <g id=\"text_3\">\n    <!-- love -->\n    <g transform=\"translate(394.8225 18.14175) scale(0.144 -0.144)\">\n     <defs>\n      <path id=\"DejaVuSans-6c\" d=\"M 603 4863 \nL 1178 4863 \nL 1178 0 \nL 603 0 \nL 603 4863 \nz\n\" transform=\"scale(0.015625)\"/>\n      <path id=\"DejaVuSans-76\" d=\"M 191 3500 \nL 800 3500 \nL 1894 563 \nL 2988 3500 \nL 3597 3500 \nL 2284 0 \nL 1503 0 \nL 191 3500 \nz\n\" transform=\"scale(0.015625)\"/>\n     </defs>\n     <use xlink:href=\"#DejaVuSans-6c\"/>\n     <use xlink:href=\"#DejaVuSans-6f\" x=\"27.783203\"/>\n     <use xlink:href=\"#DejaVuSans-76\" x=\"88.964844\"/>\n     <use xlink:href=\"#DejaVuSans-65\" x=\"148.144531\"/>\n    </g>\n   </g>\n  </g>\n  <g id=\"axes_4\">\n   <g id=\"patch_17\">\n    <path d=\"M 7.2 341.42175 \nL 157.92 341.42175 \nL 157.92 197.66175 \nL 7.2 197.66175 \nz\n\" style=\"fill: #ffffff\"/>\n   </g>\n   <g id=\"PolyCollection_4\">\n    <defs>\n     <path id=\"C3_0_a95544fd91\" d=\"M 74.886773 -2.230437 \nL 74.886773 -6.190768 \nL 71.461319 -8.170933 \nL 68.035864 -6.190768 \nL 68.035864 -2.230437 \nL 71.461319 -0.250272 \nz\n\"/>\n    </defs>\n    <g clip-path=\"url(#p3cec06982f)\">\n     <use xlink:href=\"#C3_0_a95544fd91\" x=\"-57.41041\" y=\"339.097807\" style=\"fill: #fff5f0\"/>\n    </g>\n    <g clip-path=\"url(#p3cec06982f)\">\n     <use xlink:href=\"#C3_0_a95544fd91\" x=\"-57.41041\" y=\"327.216815\" style=\"fill: #fff5f0\"/>\n    </g>\n    <g clip-path=\"url(#p3cec06982f)\">\n     <use xlink:href=\"#C3_0_a95544fd91\" x=\"-57.41041\" y=\"315.335823\" style=\"fill: #fff5f0\"/>\n    </g>\n    <g clip-path=\"url(#p3cec06982f)\">\n     <use xlink:href=\"#C3_0_a95544fd91\" x=\"-57.41041\" y=\"303.454832\" style=\"fill: #fff5f0\"/>\n    </g>\n    <g clip-path=\"url(#p3cec06982f)\">\n     <use xlink:href=\"#C3_0_a95544fd91\" x=\"-57.41041\" y=\"291.57384\" style=\"fill: #fdd0bc\"/>\n    </g>\n    <g clip-path=\"url(#p3cec06982f)\">\n     <use xlink:href=\"#C3_0_a95544fd91\" x=\"-57.41041\" y=\"279.692848\" style=\"fill: #fee1d3\"/>\n    </g>\n    <g clip-path=\"url(#p3cec06982f)\">\n     <use xlink:href=\"#C3_0_a95544fd91\" x=\"-57.41041\" y=\"267.811856\" style=\"fill: #fee1d3\"/>\n    </g>\n    <g clip-path=\"url(#p3cec06982f)\">\n     <use xlink:href=\"#C3_0_a95544fd91\" x=\"-57.41041\" y=\"255.930865\" style=\"fill: #fff5f0\"/>\n    </g>\n    <g clip-path=\"url(#p3cec06982f)\">\n     <use xlink:href=\"#C3_0_a95544fd91\" x=\"-57.41041\" y=\"244.049873\" style=\"fill: #fff5f0\"/>\n    </g>\n    <g clip-path=\"url(#p3cec06982f)\">\n     <use xlink:href=\"#C3_0_a95544fd91\" x=\"-57.41041\" y=\"232.168881\" style=\"fill: #fff5f0\"/>\n    </g>\n    <g clip-path=\"url(#p3cec06982f)\">\n     <use xlink:href=\"#C3_0_a95544fd91\" x=\"-57.41041\" y=\"220.287889\" style=\"fill: #fff5f0\"/>\n    </g>\n    <g clip-path=\"url(#p3cec06982f)\">\n     <use xlink:href=\"#C3_0_a95544fd91\" x=\"-57.41041\" y=\"208.406898\" style=\"fill: #fff5f0\"/>\n    </g>\n    <g clip-path=\"url(#p3cec06982f)\">\n     <use xlink:href=\"#C3_0_a95544fd91\" x=\"-50.559501\" y=\"339.097807\" style=\"fill: #fff5f0\"/>\n    </g>\n    <g clip-path=\"url(#p3cec06982f)\">\n     <use xlink:href=\"#C3_0_a95544fd91\" x=\"-50.559501\" y=\"327.216815\" style=\"fill: #fff5f0\"/>\n    </g>\n    <g clip-path=\"url(#p3cec06982f)\">\n     <use xlink:href=\"#C3_0_a95544fd91\" x=\"-50.559501\" y=\"315.335823\" style=\"fill: #fff0e9\"/>\n    </g>\n    <g clip-path=\"url(#p3cec06982f)\">\n     <use xlink:href=\"#C3_0_a95544fd91\" x=\"-50.559501\" y=\"303.454832\" style=\"fill: #fcaa8d\"/>\n    </g>\n    <g clip-path=\"url(#p3cec06982f)\">\n     <use xlink:href=\"#C3_0_a95544fd91\" x=\"-50.559501\" y=\"291.57384\" style=\"fill: #c9181d\"/>\n    </g>\n    <g clip-path=\"url(#p3cec06982f)\">\n     <use xlink:href=\"#C3_0_a95544fd91\" x=\"-50.559501\" y=\"279.692848\" style=\"fill: #e32f27\"/>\n    </g>\n    <g clip-path=\"url(#p3cec06982f)\">\n     <use xlink:href=\"#C3_0_a95544fd91\" x=\"-50.559501\" y=\"267.811856\" style=\"fill: #f7593f\"/>\n    </g>\n    <g clip-path=\"url(#p3cec06982f)\">\n     <use xlink:href=\"#C3_0_a95544fd91\" x=\"-50.559501\" y=\"255.930865\" style=\"fill: #fee1d3\"/>\n    </g>\n    <g clip-path=\"url(#p3cec06982f)\">\n     <use xlink:href=\"#C3_0_a95544fd91\" x=\"-50.559501\" y=\"244.049873\" style=\"fill: #fff5f0\"/>\n    </g>\n    <g clip-path=\"url(#p3cec06982f)\">\n     <use xlink:href=\"#C3_0_a95544fd91\" x=\"-50.559501\" y=\"232.168881\" style=\"fill: #fff5f0\"/>\n    </g>\n    <g clip-path=\"url(#p3cec06982f)\">\n     <use xlink:href=\"#C3_0_a95544fd91\" x=\"-50.559501\" y=\"220.287889\" style=\"fill: #fff5f0\"/>\n    </g>\n    <g clip-path=\"url(#p3cec06982f)\">\n     <use xlink:href=\"#C3_0_a95544fd91\" x=\"-50.559501\" y=\"208.406898\" style=\"fill: #fff5f0\"/>\n    </g>\n    <g clip-path=\"url(#p3cec06982f)\">\n     <use xlink:href=\"#C3_0_a95544fd91\" x=\"-43.708591\" y=\"339.097807\" style=\"fill: #fff5f0\"/>\n    </g>\n    <g clip-path=\"url(#p3cec06982f)\">\n     <use xlink:href=\"#C3_0_a95544fd91\" x=\"-43.708591\" y=\"327.216815\" style=\"fill: #fff5f0\"/>\n    </g>\n    <g clip-path=\"url(#p3cec06982f)\">\n     <use xlink:href=\"#C3_0_a95544fd91\" x=\"-43.708591\" y=\"315.335823\" style=\"fill: #fee6da\"/>\n    </g>\n    <g clip-path=\"url(#p3cec06982f)\">\n     <use xlink:href=\"#C3_0_a95544fd91\" x=\"-43.708591\" y=\"303.454832\" style=\"fill: #fcaa8d\"/>\n    </g>\n    <g clip-path=\"url(#p3cec06982f)\">\n     <use xlink:href=\"#C3_0_a95544fd91\" x=\"-43.708591\" y=\"291.57384\" style=\"fill: #f7593f\"/>\n    </g>\n    <g clip-path=\"url(#p3cec06982f)\">\n     <use xlink:href=\"#C3_0_a95544fd91\" x=\"-43.708591\" y=\"279.692848\" style=\"fill: #a30f15\"/>\n    </g>\n    <g clip-path=\"url(#p3cec06982f)\">\n     <use xlink:href=\"#C3_0_a95544fd91\" x=\"-43.708591\" y=\"267.811856\" style=\"fill: #ac1117\"/>\n    </g>\n    <g clip-path=\"url(#p3cec06982f)\">\n     <use xlink:href=\"#C3_0_a95544fd91\" x=\"-43.708591\" y=\"255.930865\" style=\"fill: #f7593f\"/>\n    </g>\n    <g clip-path=\"url(#p3cec06982f)\">\n     <use xlink:href=\"#C3_0_a95544fd91\" x=\"-43.708591\" y=\"244.049873\" style=\"fill: #fff5f0\"/>\n    </g>\n    <g clip-path=\"url(#p3cec06982f)\">\n     <use xlink:href=\"#C3_0_a95544fd91\" x=\"-43.708591\" y=\"232.168881\" style=\"fill: #fff5f0\"/>\n    </g>\n    <g clip-path=\"url(#p3cec06982f)\">\n     <use xlink:href=\"#C3_0_a95544fd91\" x=\"-43.708591\" y=\"220.287889\" style=\"fill: #fff5f0\"/>\n    </g>\n    <g clip-path=\"url(#p3cec06982f)\">\n     <use xlink:href=\"#C3_0_a95544fd91\" x=\"-43.708591\" y=\"208.406898\" style=\"fill: #fff5f0\"/>\n    </g>\n    <g clip-path=\"url(#p3cec06982f)\">\n     <use xlink:href=\"#C3_0_a95544fd91\" x=\"-36.857682\" y=\"339.097807\" style=\"fill: #fff5f0\"/>\n    </g>\n    <g clip-path=\"url(#p3cec06982f)\">\n     <use xlink:href=\"#C3_0_a95544fd91\" x=\"-36.857682\" y=\"327.216815\" style=\"fill: #fff5f0\"/>\n    </g>\n    <g clip-path=\"url(#p3cec06982f)\">\n     <use xlink:href=\"#C3_0_a95544fd91\" x=\"-36.857682\" y=\"315.335823\" style=\"fill: #fcbda4\"/>\n    </g>\n    <g clip-path=\"url(#p3cec06982f)\">\n     <use xlink:href=\"#C3_0_a95544fd91\" x=\"-36.857682\" y=\"303.454832\" style=\"fill: #fca082\"/>\n    </g>\n    <g clip-path=\"url(#p3cec06982f)\">\n     <use xlink:href=\"#C3_0_a95544fd91\" x=\"-36.857682\" y=\"291.57384\" style=\"fill: #fc9576\"/>\n    </g>\n    <g clip-path=\"url(#p3cec06982f)\">\n     <use xlink:href=\"#C3_0_a95544fd91\" x=\"-36.857682\" y=\"279.692848\" style=\"fill: #c9181d\"/>\n    </g>\n    <g clip-path=\"url(#p3cec06982f)\">\n     <use xlink:href=\"#C3_0_a95544fd91\" x=\"-36.857682\" y=\"267.811856\" style=\"fill: #f44d38\"/>\n    </g>\n    <g clip-path=\"url(#p3cec06982f)\">\n     <use xlink:href=\"#C3_0_a95544fd91\" x=\"-36.857682\" y=\"255.930865\" style=\"fill: #f44d38\"/>\n    </g>\n    <g clip-path=\"url(#p3cec06982f)\">\n     <use xlink:href=\"#C3_0_a95544fd91\" x=\"-36.857682\" y=\"244.049873\" style=\"fill: #fff5f0\"/>\n    </g>\n    <g clip-path=\"url(#p3cec06982f)\">\n     <use xlink:href=\"#C3_0_a95544fd91\" x=\"-36.857682\" y=\"232.168881\" style=\"fill: #fcaa8d\"/>\n    </g>\n    <g clip-path=\"url(#p3cec06982f)\">\n     <use xlink:href=\"#C3_0_a95544fd91\" x=\"-36.857682\" y=\"220.287889\" style=\"fill: #fff5f0\"/>\n    </g>\n    <g clip-path=\"url(#p3cec06982f)\">\n     <use xlink:href=\"#C3_0_a95544fd91\" x=\"-36.857682\" y=\"208.406898\" style=\"fill: #fff5f0\"/>\n    </g>\n    <g clip-path=\"url(#p3cec06982f)\">\n     <use xlink:href=\"#C3_0_a95544fd91\" x=\"-30.006773\" y=\"339.097807\" style=\"fill: #fff5f0\"/>\n    </g>\n    <g clip-path=\"url(#p3cec06982f)\">\n     <use xlink:href=\"#C3_0_a95544fd91\" x=\"-30.006773\" y=\"327.216815\" style=\"fill: #ffebe2\"/>\n    </g>\n    <g clip-path=\"url(#p3cec06982f)\">\n     <use xlink:href=\"#C3_0_a95544fd91\" x=\"-30.006773\" y=\"315.335823\" style=\"fill: #fff0e9\"/>\n    </g>\n    <g clip-path=\"url(#p3cec06982f)\">\n     <use xlink:href=\"#C3_0_a95544fd91\" x=\"-30.006773\" y=\"303.454832\" style=\"fill: #fcbda4\"/>\n    </g>\n    <g clip-path=\"url(#p3cec06982f)\">\n     <use xlink:href=\"#C3_0_a95544fd91\" x=\"-30.006773\" y=\"291.57384\" style=\"fill: #fc8d6d\"/>\n    </g>\n    <g clip-path=\"url(#p3cec06982f)\">\n     <use xlink:href=\"#C3_0_a95544fd91\" x=\"-30.006773\" y=\"279.692848\" style=\"fill: #e32f27\"/>\n    </g>\n    <g clip-path=\"url(#p3cec06982f)\">\n     <use xlink:href=\"#C3_0_a95544fd91\" x=\"-30.006773\" y=\"267.811856\" style=\"fill: #a30f15\"/>\n    </g>\n    <g clip-path=\"url(#p3cec06982f)\">\n     <use xlink:href=\"#C3_0_a95544fd91\" x=\"-30.006773\" y=\"255.930865\" style=\"fill: #f44d38\"/>\n    </g>\n    <g clip-path=\"url(#p3cec06982f)\">\n     <use xlink:href=\"#C3_0_a95544fd91\" x=\"-30.006773\" y=\"244.049873\" style=\"fill: #fff0e9\"/>\n    </g>\n    <g clip-path=\"url(#p3cec06982f)\">\n     <use xlink:href=\"#C3_0_a95544fd91\" x=\"-30.006773\" y=\"232.168881\" style=\"fill: #fdc6b0\"/>\n    </g>\n    <g clip-path=\"url(#p3cec06982f)\">\n     <use xlink:href=\"#C3_0_a95544fd91\" x=\"-30.006773\" y=\"220.287889\" style=\"fill: #fee1d3\"/>\n    </g>\n    <g clip-path=\"url(#p3cec06982f)\">\n     <use xlink:href=\"#C3_0_a95544fd91\" x=\"-30.006773\" y=\"208.406898\" style=\"fill: #fff5f0\"/>\n    </g>\n    <g clip-path=\"url(#p3cec06982f)\">\n     <use xlink:href=\"#C3_0_a95544fd91\" x=\"-23.155864\" y=\"339.097807\" style=\"fill: #fff5f0\"/>\n    </g>\n    <g clip-path=\"url(#p3cec06982f)\">\n     <use xlink:href=\"#C3_0_a95544fd91\" x=\"-23.155864\" y=\"327.216815\" style=\"fill: #fff5f0\"/>\n    </g>\n    <g clip-path=\"url(#p3cec06982f)\">\n     <use xlink:href=\"#C3_0_a95544fd91\" x=\"-23.155864\" y=\"315.335823\" style=\"fill: #fee1d3\"/>\n    </g>\n    <g clip-path=\"url(#p3cec06982f)\">\n     <use xlink:href=\"#C3_0_a95544fd91\" x=\"-23.155864\" y=\"303.454832\" style=\"fill: #fca082\"/>\n    </g>\n    <g clip-path=\"url(#p3cec06982f)\">\n     <use xlink:href=\"#C3_0_a95544fd91\" x=\"-23.155864\" y=\"291.57384\" style=\"fill: #fcb499\"/>\n    </g>\n    <g clip-path=\"url(#p3cec06982f)\">\n     <use xlink:href=\"#C3_0_a95544fd91\" x=\"-23.155864\" y=\"279.692848\" style=\"fill: #f44d38\"/>\n    </g>\n    <g clip-path=\"url(#p3cec06982f)\">\n     <use xlink:href=\"#C3_0_a95544fd91\" x=\"-23.155864\" y=\"267.811856\" style=\"fill: #f14130\"/>\n    </g>\n    <g clip-path=\"url(#p3cec06982f)\">\n     <use xlink:href=\"#C3_0_a95544fd91\" x=\"-23.155864\" y=\"255.930865\" style=\"fill: #fb6e4e\"/>\n    </g>\n    <g clip-path=\"url(#p3cec06982f)\">\n     <use xlink:href=\"#C3_0_a95544fd91\" x=\"-23.155864\" y=\"244.049873\" style=\"fill: #fed9c9\"/>\n    </g>\n    <g clip-path=\"url(#p3cec06982f)\">\n     <use xlink:href=\"#C3_0_a95544fd91\" x=\"-23.155864\" y=\"232.168881\" style=\"fill: #fc9576\"/>\n    </g>\n    <g clip-path=\"url(#p3cec06982f)\">\n     <use xlink:href=\"#C3_0_a95544fd91\" x=\"-23.155864\" y=\"220.287889\" style=\"fill: #fb6e4e\"/>\n    </g>\n    <g clip-path=\"url(#p3cec06982f)\">\n     <use xlink:href=\"#C3_0_a95544fd91\" x=\"-23.155864\" y=\"208.406898\" style=\"fill: #fed9c9\"/>\n    </g>\n    <g clip-path=\"url(#p3cec06982f)\">\n     <use xlink:href=\"#C3_0_a95544fd91\" x=\"-16.304955\" y=\"339.097807\" style=\"fill: #fff5f0\"/>\n    </g>\n    <g clip-path=\"url(#p3cec06982f)\">\n     <use xlink:href=\"#C3_0_a95544fd91\" x=\"-16.304955\" y=\"327.216815\" style=\"fill: #ffebe2\"/>\n    </g>\n    <g clip-path=\"url(#p3cec06982f)\">\n     <use xlink:href=\"#C3_0_a95544fd91\" x=\"-16.304955\" y=\"315.335823\" style=\"fill: #fed9c9\"/>\n    </g>\n    <g clip-path=\"url(#p3cec06982f)\">\n     <use xlink:href=\"#C3_0_a95544fd91\" x=\"-16.304955\" y=\"303.454832\" style=\"fill: #fdc6b0\"/>\n    </g>\n    <g clip-path=\"url(#p3cec06982f)\">\n     <use xlink:href=\"#C3_0_a95544fd91\" x=\"-16.304955\" y=\"291.57384\" style=\"fill: #fcaa8d\"/>\n    </g>\n    <g clip-path=\"url(#p3cec06982f)\">\n     <use xlink:href=\"#C3_0_a95544fd91\" x=\"-16.304955\" y=\"279.692848\" style=\"fill: #fee1d3\"/>\n    </g>\n    <g clip-path=\"url(#p3cec06982f)\">\n     <use xlink:href=\"#C3_0_a95544fd91\" x=\"-16.304955\" y=\"267.811856\" style=\"fill: #fa6547\"/>\n    </g>\n    <g clip-path=\"url(#p3cec06982f)\">\n     <use xlink:href=\"#C3_0_a95544fd91\" x=\"-16.304955\" y=\"255.930865\" style=\"fill: #fca082\"/>\n    </g>\n    <g clip-path=\"url(#p3cec06982f)\">\n     <use xlink:href=\"#C3_0_a95544fd91\" x=\"-16.304955\" y=\"244.049873\" style=\"fill: #fcbda4\"/>\n    </g>\n    <g clip-path=\"url(#p3cec06982f)\">\n     <use xlink:href=\"#C3_0_a95544fd91\" x=\"-16.304955\" y=\"232.168881\" style=\"fill: #fc8262\"/>\n    </g>\n    <g clip-path=\"url(#p3cec06982f)\">\n     <use xlink:href=\"#C3_0_a95544fd91\" x=\"-16.304955\" y=\"220.287889\" style=\"fill: #940b13\"/>\n    </g>\n    <g clip-path=\"url(#p3cec06982f)\">\n     <use xlink:href=\"#C3_0_a95544fd91\" x=\"-16.304955\" y=\"208.406898\" style=\"fill: #fee6da\"/>\n    </g>\n    <g clip-path=\"url(#p3cec06982f)\">\n     <use xlink:href=\"#C3_0_a95544fd91\" x=\"-9.454046\" y=\"339.097807\" style=\"fill: #fff0e9\"/>\n    </g>\n    <g clip-path=\"url(#p3cec06982f)\">\n     <use xlink:href=\"#C3_0_a95544fd91\" x=\"-9.454046\" y=\"327.216815\" style=\"fill: #fff5f0\"/>\n    </g>\n    <g clip-path=\"url(#p3cec06982f)\">\n     <use xlink:href=\"#C3_0_a95544fd91\" x=\"-9.454046\" y=\"315.335823\" style=\"fill: #fff5f0\"/>\n    </g>\n    <g clip-path=\"url(#p3cec06982f)\">\n     <use xlink:href=\"#C3_0_a95544fd91\" x=\"-9.454046\" y=\"303.454832\" style=\"fill: #ffebe2\"/>\n    </g>\n    <g clip-path=\"url(#p3cec06982f)\">\n     <use xlink:href=\"#C3_0_a95544fd91\" x=\"-9.454046\" y=\"291.57384\" style=\"fill: #fee1d3\"/>\n    </g>\n    <g clip-path=\"url(#p3cec06982f)\">\n     <use xlink:href=\"#C3_0_a95544fd91\" x=\"-9.454046\" y=\"279.692848\" style=\"fill: #fee1d3\"/>\n    </g>\n    <g clip-path=\"url(#p3cec06982f)\">\n     <use xlink:href=\"#C3_0_a95544fd91\" x=\"-9.454046\" y=\"267.811856\" style=\"fill: #fb7858\"/>\n    </g>\n    <g clip-path=\"url(#p3cec06982f)\">\n     <use xlink:href=\"#C3_0_a95544fd91\" x=\"-9.454046\" y=\"255.930865\" style=\"fill: #fcbda4\"/>\n    </g>\n    <g clip-path=\"url(#p3cec06982f)\">\n     <use xlink:href=\"#C3_0_a95544fd91\" x=\"-9.454046\" y=\"244.049873\" style=\"fill: #fcbda4\"/>\n    </g>\n    <g clip-path=\"url(#p3cec06982f)\">\n     <use xlink:href=\"#C3_0_a95544fd91\" x=\"-9.454046\" y=\"232.168881\" style=\"fill: #fc8d6d\"/>\n    </g>\n    <g clip-path=\"url(#p3cec06982f)\">\n     <use xlink:href=\"#C3_0_a95544fd91\" x=\"-9.454046\" y=\"220.287889\" style=\"fill: #fed9c9\"/>\n    </g>\n    <g clip-path=\"url(#p3cec06982f)\">\n     <use xlink:href=\"#C3_0_a95544fd91\" x=\"-9.454046\" y=\"208.406898\" style=\"fill: #fff5f0\"/>\n    </g>\n    <g clip-path=\"url(#p3cec06982f)\">\n     <use xlink:href=\"#C3_0_a95544fd91\" x=\"-2.603137\" y=\"339.097807\" style=\"fill: #fff0e9\"/>\n    </g>\n    <g clip-path=\"url(#p3cec06982f)\">\n     <use xlink:href=\"#C3_0_a95544fd91\" x=\"-2.603137\" y=\"327.216815\" style=\"fill: #ffebe2\"/>\n    </g>\n    <g clip-path=\"url(#p3cec06982f)\">\n     <use xlink:href=\"#C3_0_a95544fd91\" x=\"-2.603137\" y=\"315.335823\" style=\"fill: #fff5f0\"/>\n    </g>\n    <g clip-path=\"url(#p3cec06982f)\">\n     <use xlink:href=\"#C3_0_a95544fd91\" x=\"-2.603137\" y=\"303.454832\" style=\"fill: #fdc6b0\"/>\n    </g>\n    <g clip-path=\"url(#p3cec06982f)\">\n     <use xlink:href=\"#C3_0_a95544fd91\" x=\"-2.603137\" y=\"291.57384\" style=\"fill: #fc8262\"/>\n    </g>\n    <g clip-path=\"url(#p3cec06982f)\">\n     <use xlink:href=\"#C3_0_a95544fd91\" x=\"-2.603137\" y=\"279.692848\" style=\"fill: #fff0e9\"/>\n    </g>\n    <g clip-path=\"url(#p3cec06982f)\">\n     <use xlink:href=\"#C3_0_a95544fd91\" x=\"-2.603137\" y=\"267.811856\" style=\"fill: #fcb499\"/>\n    </g>\n    <g clip-path=\"url(#p3cec06982f)\">\n     <use xlink:href=\"#C3_0_a95544fd91\" x=\"-2.603137\" y=\"255.930865\" style=\"fill: #fee6da\"/>\n    </g>\n    <g clip-path=\"url(#p3cec06982f)\">\n     <use xlink:href=\"#C3_0_a95544fd91\" x=\"-2.603137\" y=\"244.049873\" style=\"fill: #fee1d3\"/>\n    </g>\n    <g clip-path=\"url(#p3cec06982f)\">\n     <use xlink:href=\"#C3_0_a95544fd91\" x=\"-2.603137\" y=\"232.168881\" style=\"fill: #fee6da\"/>\n    </g>\n    <g clip-path=\"url(#p3cec06982f)\">\n     <use xlink:href=\"#C3_0_a95544fd91\" x=\"-2.603137\" y=\"220.287889\" style=\"fill: #fff5f0\"/>\n    </g>\n    <g clip-path=\"url(#p3cec06982f)\">\n     <use xlink:href=\"#C3_0_a95544fd91\" x=\"-2.603137\" y=\"208.406898\" style=\"fill: #fff5f0\"/>\n    </g>\n    <g clip-path=\"url(#p3cec06982f)\">\n     <use xlink:href=\"#C3_0_a95544fd91\" x=\"4.247772\" y=\"339.097807\" style=\"fill: #fdd0bc\"/>\n    </g>\n    <g clip-path=\"url(#p3cec06982f)\">\n     <use xlink:href=\"#C3_0_a95544fd91\" x=\"4.247772\" y=\"327.216815\" style=\"fill: #fc8d6d\"/>\n    </g>\n    <g clip-path=\"url(#p3cec06982f)\">\n     <use xlink:href=\"#C3_0_a95544fd91\" x=\"4.247772\" y=\"315.335823\" style=\"fill: #fed9c9\"/>\n    </g>\n    <g clip-path=\"url(#p3cec06982f)\">\n     <use xlink:href=\"#C3_0_a95544fd91\" x=\"4.247772\" y=\"303.454832\" style=\"fill: #fee6da\"/>\n    </g>\n    <g clip-path=\"url(#p3cec06982f)\">\n     <use xlink:href=\"#C3_0_a95544fd91\" x=\"4.247772\" y=\"291.57384\" style=\"fill: #fc8d6d\"/>\n    </g>\n    <g clip-path=\"url(#p3cec06982f)\">\n     <use xlink:href=\"#C3_0_a95544fd91\" x=\"4.247772\" y=\"279.692848\" style=\"fill: #fcb499\"/>\n    </g>\n    <g clip-path=\"url(#p3cec06982f)\">\n     <use xlink:href=\"#C3_0_a95544fd91\" x=\"4.247772\" y=\"267.811856\" style=\"fill: #fdc6b0\"/>\n    </g>\n    <g clip-path=\"url(#p3cec06982f)\">\n     <use xlink:href=\"#C3_0_a95544fd91\" x=\"4.247772\" y=\"255.930865\" style=\"fill: #fee1d3\"/>\n    </g>\n    <g clip-path=\"url(#p3cec06982f)\">\n     <use xlink:href=\"#C3_0_a95544fd91\" x=\"4.247772\" y=\"244.049873\" style=\"fill: #fff5f0\"/>\n    </g>\n    <g clip-path=\"url(#p3cec06982f)\">\n     <use xlink:href=\"#C3_0_a95544fd91\" x=\"4.247772\" y=\"232.168881\" style=\"fill: #fff5f0\"/>\n    </g>\n    <g clip-path=\"url(#p3cec06982f)\">\n     <use xlink:href=\"#C3_0_a95544fd91\" x=\"4.247772\" y=\"220.287889\" style=\"fill: #fff5f0\"/>\n    </g>\n    <g clip-path=\"url(#p3cec06982f)\">\n     <use xlink:href=\"#C3_0_a95544fd91\" x=\"4.247772\" y=\"208.406898\" style=\"fill: #fff5f0\"/>\n    </g>\n    <g clip-path=\"url(#p3cec06982f)\">\n     <use xlink:href=\"#C3_0_a95544fd91\" x=\"11.098681\" y=\"339.097807\" style=\"fill: #ffebe2\"/>\n    </g>\n    <g clip-path=\"url(#p3cec06982f)\">\n     <use xlink:href=\"#C3_0_a95544fd91\" x=\"11.098681\" y=\"327.216815\" style=\"fill: #fff0e9\"/>\n    </g>\n    <g clip-path=\"url(#p3cec06982f)\">\n     <use xlink:href=\"#C3_0_a95544fd91\" x=\"11.098681\" y=\"315.335823\" style=\"fill: #fff0e9\"/>\n    </g>\n    <g clip-path=\"url(#p3cec06982f)\">\n     <use xlink:href=\"#C3_0_a95544fd91\" x=\"11.098681\" y=\"303.454832\" style=\"fill: #fff0e9\"/>\n    </g>\n    <g clip-path=\"url(#p3cec06982f)\">\n     <use xlink:href=\"#C3_0_a95544fd91\" x=\"11.098681\" y=\"291.57384\" style=\"fill: #ffebe2\"/>\n    </g>\n    <g clip-path=\"url(#p3cec06982f)\">\n     <use xlink:href=\"#C3_0_a95544fd91\" x=\"11.098681\" y=\"279.692848\" style=\"fill: #fff5f0\"/>\n    </g>\n    <g clip-path=\"url(#p3cec06982f)\">\n     <use xlink:href=\"#C3_0_a95544fd91\" x=\"11.098681\" y=\"267.811856\" style=\"fill: #fff5f0\"/>\n    </g>\n    <g clip-path=\"url(#p3cec06982f)\">\n     <use xlink:href=\"#C3_0_a95544fd91\" x=\"11.098681\" y=\"255.930865\" style=\"fill: #fff0e9\"/>\n    </g>\n    <g clip-path=\"url(#p3cec06982f)\">\n     <use xlink:href=\"#C3_0_a95544fd91\" x=\"11.098681\" y=\"244.049873\" style=\"fill: #fff5f0\"/>\n    </g>\n    <g clip-path=\"url(#p3cec06982f)\">\n     <use xlink:href=\"#C3_0_a95544fd91\" x=\"11.098681\" y=\"232.168881\" style=\"fill: #fff5f0\"/>\n    </g>\n    <g clip-path=\"url(#p3cec06982f)\">\n     <use xlink:href=\"#C3_0_a95544fd91\" x=\"11.098681\" y=\"220.287889\" style=\"fill: #fff5f0\"/>\n    </g>\n    <g clip-path=\"url(#p3cec06982f)\">\n     <use xlink:href=\"#C3_0_a95544fd91\" x=\"11.098681\" y=\"208.406898\" style=\"fill: #fff5f0\"/>\n    </g>\n    <g clip-path=\"url(#p3cec06982f)\">\n     <use xlink:href=\"#C3_0_a95544fd91\" x=\"17.94959\" y=\"339.097807\" style=\"fill: #fff5f0\"/>\n    </g>\n    <g clip-path=\"url(#p3cec06982f)\">\n     <use xlink:href=\"#C3_0_a95544fd91\" x=\"17.94959\" y=\"327.216815\" style=\"fill: #fff5f0\"/>\n    </g>\n    <g clip-path=\"url(#p3cec06982f)\">\n     <use xlink:href=\"#C3_0_a95544fd91\" x=\"17.94959\" y=\"315.335823\" style=\"fill: #fee6da\"/>\n    </g>\n    <g clip-path=\"url(#p3cec06982f)\">\n     <use xlink:href=\"#C3_0_a95544fd91\" x=\"17.94959\" y=\"303.454832\" style=\"fill: #fff0e9\"/>\n    </g>\n    <g clip-path=\"url(#p3cec06982f)\">\n     <use xlink:href=\"#C3_0_a95544fd91\" x=\"17.94959\" y=\"291.57384\" style=\"fill: #fff5f0\"/>\n    </g>\n    <g clip-path=\"url(#p3cec06982f)\">\n     <use xlink:href=\"#C3_0_a95544fd91\" x=\"17.94959\" y=\"279.692848\" style=\"fill: #fff5f0\"/>\n    </g>\n    <g clip-path=\"url(#p3cec06982f)\">\n     <use xlink:href=\"#C3_0_a95544fd91\" x=\"17.94959\" y=\"267.811856\" style=\"fill: #fff5f0\"/>\n    </g>\n    <g clip-path=\"url(#p3cec06982f)\">\n     <use xlink:href=\"#C3_0_a95544fd91\" x=\"17.94959\" y=\"255.930865\" style=\"fill: #fff5f0\"/>\n    </g>\n    <g clip-path=\"url(#p3cec06982f)\">\n     <use xlink:href=\"#C3_0_a95544fd91\" x=\"17.94959\" y=\"244.049873\" style=\"fill: #fff5f0\"/>\n    </g>\n    <g clip-path=\"url(#p3cec06982f)\">\n     <use xlink:href=\"#C3_0_a95544fd91\" x=\"17.94959\" y=\"232.168881\" style=\"fill: #fff5f0\"/>\n    </g>\n    <g clip-path=\"url(#p3cec06982f)\">\n     <use xlink:href=\"#C3_0_a95544fd91\" x=\"17.94959\" y=\"220.287889\" style=\"fill: #fff5f0\"/>\n    </g>\n    <g clip-path=\"url(#p3cec06982f)\">\n     <use xlink:href=\"#C3_0_a95544fd91\" x=\"17.94959\" y=\"208.406898\" style=\"fill: #fff5f0\"/>\n    </g>\n    <g clip-path=\"url(#p3cec06982f)\">\n     <use xlink:href=\"#C3_0_a95544fd91\" x=\"24.800499\" y=\"339.097807\" style=\"fill: #fff5f0\"/>\n    </g>\n    <g clip-path=\"url(#p3cec06982f)\">\n     <use xlink:href=\"#C3_0_a95544fd91\" x=\"24.800499\" y=\"327.216815\" style=\"fill: #fff5f0\"/>\n    </g>\n    <g clip-path=\"url(#p3cec06982f)\">\n     <use xlink:href=\"#C3_0_a95544fd91\" x=\"24.800499\" y=\"315.335823\" style=\"fill: #fff5f0\"/>\n    </g>\n    <g clip-path=\"url(#p3cec06982f)\">\n     <use xlink:href=\"#C3_0_a95544fd91\" x=\"24.800499\" y=\"303.454832\" style=\"fill: #fff5f0\"/>\n    </g>\n    <g clip-path=\"url(#p3cec06982f)\">\n     <use xlink:href=\"#C3_0_a95544fd91\" x=\"24.800499\" y=\"291.57384\" style=\"fill: #fff5f0\"/>\n    </g>\n    <g clip-path=\"url(#p3cec06982f)\">\n     <use xlink:href=\"#C3_0_a95544fd91\" x=\"24.800499\" y=\"279.692848\" style=\"fill: #fff5f0\"/>\n    </g>\n    <g clip-path=\"url(#p3cec06982f)\">\n     <use xlink:href=\"#C3_0_a95544fd91\" x=\"24.800499\" y=\"267.811856\" style=\"fill: #fff5f0\"/>\n    </g>\n    <g clip-path=\"url(#p3cec06982f)\">\n     <use xlink:href=\"#C3_0_a95544fd91\" x=\"24.800499\" y=\"255.930865\" style=\"fill: #fff5f0\"/>\n    </g>\n    <g clip-path=\"url(#p3cec06982f)\">\n     <use xlink:href=\"#C3_0_a95544fd91\" x=\"24.800499\" y=\"244.049873\" style=\"fill: #fff5f0\"/>\n    </g>\n    <g clip-path=\"url(#p3cec06982f)\">\n     <use xlink:href=\"#C3_0_a95544fd91\" x=\"24.800499\" y=\"232.168881\" style=\"fill: #fff5f0\"/>\n    </g>\n    <g clip-path=\"url(#p3cec06982f)\">\n     <use xlink:href=\"#C3_0_a95544fd91\" x=\"24.800499\" y=\"220.287889\" style=\"fill: #fff5f0\"/>\n    </g>\n    <g clip-path=\"url(#p3cec06982f)\">\n     <use xlink:href=\"#C3_0_a95544fd91\" x=\"24.800499\" y=\"208.406898\" style=\"fill: #fff5f0\"/>\n    </g>\n    <g clip-path=\"url(#p3cec06982f)\">\n     <use xlink:href=\"#C3_0_a95544fd91\" x=\"31.651409\" y=\"339.097807\" style=\"fill: #fff5f0\"/>\n    </g>\n    <g clip-path=\"url(#p3cec06982f)\">\n     <use xlink:href=\"#C3_0_a95544fd91\" x=\"31.651409\" y=\"327.216815\" style=\"fill: #fff5f0\"/>\n    </g>\n    <g clip-path=\"url(#p3cec06982f)\">\n     <use xlink:href=\"#C3_0_a95544fd91\" x=\"31.651409\" y=\"315.335823\" style=\"fill: #fff5f0\"/>\n    </g>\n    <g clip-path=\"url(#p3cec06982f)\">\n     <use xlink:href=\"#C3_0_a95544fd91\" x=\"31.651409\" y=\"303.454832\" style=\"fill: #fff5f0\"/>\n    </g>\n    <g clip-path=\"url(#p3cec06982f)\">\n     <use xlink:href=\"#C3_0_a95544fd91\" x=\"31.651409\" y=\"291.57384\" style=\"fill: #fff5f0\"/>\n    </g>\n    <g clip-path=\"url(#p3cec06982f)\">\n     <use xlink:href=\"#C3_0_a95544fd91\" x=\"31.651409\" y=\"279.692848\" style=\"fill: #fff5f0\"/>\n    </g>\n    <g clip-path=\"url(#p3cec06982f)\">\n     <use xlink:href=\"#C3_0_a95544fd91\" x=\"31.651409\" y=\"267.811856\" style=\"fill: #fff5f0\"/>\n    </g>\n    <g clip-path=\"url(#p3cec06982f)\">\n     <use xlink:href=\"#C3_0_a95544fd91\" x=\"31.651409\" y=\"255.930865\" style=\"fill: #fff5f0\"/>\n    </g>\n    <g clip-path=\"url(#p3cec06982f)\">\n     <use xlink:href=\"#C3_0_a95544fd91\" x=\"31.651409\" y=\"244.049873\" style=\"fill: #fff5f0\"/>\n    </g>\n    <g clip-path=\"url(#p3cec06982f)\">\n     <use xlink:href=\"#C3_0_a95544fd91\" x=\"31.651409\" y=\"232.168881\" style=\"fill: #fff5f0\"/>\n    </g>\n    <g clip-path=\"url(#p3cec06982f)\">\n     <use xlink:href=\"#C3_0_a95544fd91\" x=\"31.651409\" y=\"220.287889\" style=\"fill: #fff5f0\"/>\n    </g>\n    <g clip-path=\"url(#p3cec06982f)\">\n     <use xlink:href=\"#C3_0_a95544fd91\" x=\"31.651409\" y=\"208.406898\" style=\"fill: #fff5f0\"/>\n    </g>\n    <g clip-path=\"url(#p3cec06982f)\">\n     <use xlink:href=\"#C3_0_a95544fd91\" x=\"38.502318\" y=\"339.097807\" style=\"fill: #fff5f0\"/>\n    </g>\n    <g clip-path=\"url(#p3cec06982f)\">\n     <use xlink:href=\"#C3_0_a95544fd91\" x=\"38.502318\" y=\"327.216815\" style=\"fill: #fff5f0\"/>\n    </g>\n    <g clip-path=\"url(#p3cec06982f)\">\n     <use xlink:href=\"#C3_0_a95544fd91\" x=\"38.502318\" y=\"315.335823\" style=\"fill: #fff5f0\"/>\n    </g>\n    <g clip-path=\"url(#p3cec06982f)\">\n     <use xlink:href=\"#C3_0_a95544fd91\" x=\"38.502318\" y=\"303.454832\" style=\"fill: #fff5f0\"/>\n    </g>\n    <g clip-path=\"url(#p3cec06982f)\">\n     <use xlink:href=\"#C3_0_a95544fd91\" x=\"38.502318\" y=\"291.57384\" style=\"fill: #ffebe2\"/>\n    </g>\n    <g clip-path=\"url(#p3cec06982f)\">\n     <use xlink:href=\"#C3_0_a95544fd91\" x=\"38.502318\" y=\"279.692848\" style=\"fill: #fee6da\"/>\n    </g>\n    <g clip-path=\"url(#p3cec06982f)\">\n     <use xlink:href=\"#C3_0_a95544fd91\" x=\"38.502318\" y=\"267.811856\" style=\"fill: #ffebe2\"/>\n    </g>\n    <g clip-path=\"url(#p3cec06982f)\">\n     <use xlink:href=\"#C3_0_a95544fd91\" x=\"38.502318\" y=\"255.930865\" style=\"fill: #fff0e9\"/>\n    </g>\n    <g clip-path=\"url(#p3cec06982f)\">\n     <use xlink:href=\"#C3_0_a95544fd91\" x=\"38.502318\" y=\"244.049873\" style=\"fill: #fff5f0\"/>\n    </g>\n    <g clip-path=\"url(#p3cec06982f)\">\n     <use xlink:href=\"#C3_0_a95544fd91\" x=\"38.502318\" y=\"232.168881\" style=\"fill: #fff5f0\"/>\n    </g>\n    <g clip-path=\"url(#p3cec06982f)\">\n     <use xlink:href=\"#C3_0_a95544fd91\" x=\"38.502318\" y=\"220.287889\" style=\"fill: #fff5f0\"/>\n    </g>\n    <g clip-path=\"url(#p3cec06982f)\">\n     <use xlink:href=\"#C3_0_a95544fd91\" x=\"38.502318\" y=\"208.406898\" style=\"fill: #fff5f0\"/>\n    </g>\n    <g clip-path=\"url(#p3cec06982f)\">\n     <use xlink:href=\"#C3_0_a95544fd91\" x=\"45.353227\" y=\"339.097807\" style=\"fill: #fff5f0\"/>\n    </g>\n    <g clip-path=\"url(#p3cec06982f)\">\n     <use xlink:href=\"#C3_0_a95544fd91\" x=\"45.353227\" y=\"327.216815\" style=\"fill: #fff5f0\"/>\n    </g>\n    <g clip-path=\"url(#p3cec06982f)\">\n     <use xlink:href=\"#C3_0_a95544fd91\" x=\"45.353227\" y=\"315.335823\" style=\"fill: #fff5f0\"/>\n    </g>\n    <g clip-path=\"url(#p3cec06982f)\">\n     <use xlink:href=\"#C3_0_a95544fd91\" x=\"45.353227\" y=\"303.454832\" style=\"fill: #fff5f0\"/>\n    </g>\n    <g clip-path=\"url(#p3cec06982f)\">\n     <use xlink:href=\"#C3_0_a95544fd91\" x=\"45.353227\" y=\"291.57384\" style=\"fill: #fff5f0\"/>\n    </g>\n    <g clip-path=\"url(#p3cec06982f)\">\n     <use xlink:href=\"#C3_0_a95544fd91\" x=\"45.353227\" y=\"279.692848\" style=\"fill: #fed9c9\"/>\n    </g>\n    <g clip-path=\"url(#p3cec06982f)\">\n     <use xlink:href=\"#C3_0_a95544fd91\" x=\"45.353227\" y=\"267.811856\" style=\"fill: #fdc6b0\"/>\n    </g>\n    <g clip-path=\"url(#p3cec06982f)\">\n     <use xlink:href=\"#C3_0_a95544fd91\" x=\"45.353227\" y=\"255.930865\" style=\"fill: #fc8d6d\"/>\n    </g>\n    <g clip-path=\"url(#p3cec06982f)\">\n     <use xlink:href=\"#C3_0_a95544fd91\" x=\"45.353227\" y=\"244.049873\" style=\"fill: #ec382b\"/>\n    </g>\n    <g clip-path=\"url(#p3cec06982f)\">\n     <use xlink:href=\"#C3_0_a95544fd91\" x=\"45.353227\" y=\"232.168881\" style=\"fill: #fff5f0\"/>\n    </g>\n    <g clip-path=\"url(#p3cec06982f)\">\n     <use xlink:href=\"#C3_0_a95544fd91\" x=\"45.353227\" y=\"220.287889\" style=\"fill: #fff5f0\"/>\n    </g>\n    <g clip-path=\"url(#p3cec06982f)\">\n     <use xlink:href=\"#C3_0_a95544fd91\" x=\"45.353227\" y=\"208.406898\" style=\"fill: #fff5f0\"/>\n    </g>\n    <g clip-path=\"url(#p3cec06982f)\">\n     <use xlink:href=\"#C3_0_a95544fd91\" x=\"52.204136\" y=\"339.097807\" style=\"fill: #fff5f0\"/>\n    </g>\n    <g clip-path=\"url(#p3cec06982f)\">\n     <use xlink:href=\"#C3_0_a95544fd91\" x=\"52.204136\" y=\"327.216815\" style=\"fill: #fff5f0\"/>\n    </g>\n    <g clip-path=\"url(#p3cec06982f)\">\n     <use xlink:href=\"#C3_0_a95544fd91\" x=\"52.204136\" y=\"315.335823\" style=\"fill: #fff5f0\"/>\n    </g>\n    <g clip-path=\"url(#p3cec06982f)\">\n     <use xlink:href=\"#C3_0_a95544fd91\" x=\"52.204136\" y=\"303.454832\" style=\"fill: #fed9c9\"/>\n    </g>\n    <g clip-path=\"url(#p3cec06982f)\">\n     <use xlink:href=\"#C3_0_a95544fd91\" x=\"52.204136\" y=\"291.57384\" style=\"fill: #fdc6b0\"/>\n    </g>\n    <g clip-path=\"url(#p3cec06982f)\">\n     <use xlink:href=\"#C3_0_a95544fd91\" x=\"52.204136\" y=\"279.692848\" style=\"fill: #f44d38\"/>\n    </g>\n    <g clip-path=\"url(#p3cec06982f)\">\n     <use xlink:href=\"#C3_0_a95544fd91\" x=\"52.204136\" y=\"267.811856\" style=\"fill: #fed9c9\"/>\n    </g>\n    <g clip-path=\"url(#p3cec06982f)\">\n     <use xlink:href=\"#C3_0_a95544fd91\" x=\"52.204136\" y=\"255.930865\" style=\"fill: #840711\"/>\n    </g>\n    <g clip-path=\"url(#p3cec06982f)\">\n     <use xlink:href=\"#C3_0_a95544fd91\" x=\"52.204136\" y=\"244.049873\" style=\"fill: #fff5f0\"/>\n    </g>\n    <g clip-path=\"url(#p3cec06982f)\">\n     <use xlink:href=\"#C3_0_a95544fd91\" x=\"52.204136\" y=\"232.168881\" style=\"fill: #fff5f0\"/>\n    </g>\n    <g clip-path=\"url(#p3cec06982f)\">\n     <use xlink:href=\"#C3_0_a95544fd91\" x=\"52.204136\" y=\"220.287889\" style=\"fill: #fff5f0\"/>\n    </g>\n    <g clip-path=\"url(#p3cec06982f)\">\n     <use xlink:href=\"#C3_0_a95544fd91\" x=\"52.204136\" y=\"208.406898\" style=\"fill: #fff5f0\"/>\n    </g>\n    <g clip-path=\"url(#p3cec06982f)\">\n     <use xlink:href=\"#C3_0_a95544fd91\" x=\"59.055045\" y=\"339.097807\" style=\"fill: #fff5f0\"/>\n    </g>\n    <g clip-path=\"url(#p3cec06982f)\">\n     <use xlink:href=\"#C3_0_a95544fd91\" x=\"59.055045\" y=\"327.216815\" style=\"fill: #fff5f0\"/>\n    </g>\n    <g clip-path=\"url(#p3cec06982f)\">\n     <use xlink:href=\"#C3_0_a95544fd91\" x=\"59.055045\" y=\"315.335823\" style=\"fill: #fff5f0\"/>\n    </g>\n    <g clip-path=\"url(#p3cec06982f)\">\n     <use xlink:href=\"#C3_0_a95544fd91\" x=\"59.055045\" y=\"303.454832\" style=\"fill: #ffebe2\"/>\n    </g>\n    <g clip-path=\"url(#p3cec06982f)\">\n     <use xlink:href=\"#C3_0_a95544fd91\" x=\"59.055045\" y=\"291.57384\" style=\"fill: #fa6547\"/>\n    </g>\n    <g clip-path=\"url(#p3cec06982f)\">\n     <use xlink:href=\"#C3_0_a95544fd91\" x=\"59.055045\" y=\"279.692848\" style=\"fill: #fcaa8d\"/>\n    </g>\n    <g clip-path=\"url(#p3cec06982f)\">\n     <use xlink:href=\"#C3_0_a95544fd91\" x=\"59.055045\" y=\"267.811856\" style=\"fill: #fcbda4\"/>\n    </g>\n    <g clip-path=\"url(#p3cec06982f)\">\n     <use xlink:href=\"#C3_0_a95544fd91\" x=\"59.055045\" y=\"255.930865\" style=\"fill: #fcb499\"/>\n    </g>\n    <g clip-path=\"url(#p3cec06982f)\">\n     <use xlink:href=\"#C3_0_a95544fd91\" x=\"59.055045\" y=\"244.049873\" style=\"fill: #fff5f0\"/>\n    </g>\n    <g clip-path=\"url(#p3cec06982f)\">\n     <use xlink:href=\"#C3_0_a95544fd91\" x=\"59.055045\" y=\"232.168881\" style=\"fill: #fff5f0\"/>\n    </g>\n    <g clip-path=\"url(#p3cec06982f)\">\n     <use xlink:href=\"#C3_0_a95544fd91\" x=\"59.055045\" y=\"220.287889\" style=\"fill: #fff5f0\"/>\n    </g>\n    <g clip-path=\"url(#p3cec06982f)\">\n     <use xlink:href=\"#C3_0_a95544fd91\" x=\"59.055045\" y=\"208.406898\" style=\"fill: #fff5f0\"/>\n    </g>\n    <g clip-path=\"url(#p3cec06982f)\">\n     <use xlink:href=\"#C3_0_a95544fd91\" x=\"65.905954\" y=\"339.097807\" style=\"fill: #fff5f0\"/>\n    </g>\n    <g clip-path=\"url(#p3cec06982f)\">\n     <use xlink:href=\"#C3_0_a95544fd91\" x=\"65.905954\" y=\"327.216815\" style=\"fill: #fff5f0\"/>\n    </g>\n    <g clip-path=\"url(#p3cec06982f)\">\n     <use xlink:href=\"#C3_0_a95544fd91\" x=\"65.905954\" y=\"315.335823\" style=\"fill: #fff5f0\"/>\n    </g>\n    <g clip-path=\"url(#p3cec06982f)\">\n     <use xlink:href=\"#C3_0_a95544fd91\" x=\"65.905954\" y=\"303.454832\" style=\"fill: #fc9576\"/>\n    </g>\n    <g clip-path=\"url(#p3cec06982f)\">\n     <use xlink:href=\"#C3_0_a95544fd91\" x=\"65.905954\" y=\"291.57384\" style=\"fill: #fed9c9\"/>\n    </g>\n    <g clip-path=\"url(#p3cec06982f)\">\n     <use xlink:href=\"#C3_0_a95544fd91\" x=\"65.905954\" y=\"279.692848\" style=\"fill: #fcbda4\"/>\n    </g>\n    <g clip-path=\"url(#p3cec06982f)\">\n     <use xlink:href=\"#C3_0_a95544fd91\" x=\"65.905954\" y=\"267.811856\" style=\"fill: #fdc6b0\"/>\n    </g>\n    <g clip-path=\"url(#p3cec06982f)\">\n     <use xlink:href=\"#C3_0_a95544fd91\" x=\"65.905954\" y=\"255.930865\" style=\"fill: #fcb499\"/>\n    </g>\n    <g clip-path=\"url(#p3cec06982f)\">\n     <use xlink:href=\"#C3_0_a95544fd91\" x=\"65.905954\" y=\"244.049873\" style=\"fill: #fff5f0\"/>\n    </g>\n    <g clip-path=\"url(#p3cec06982f)\">\n     <use xlink:href=\"#C3_0_a95544fd91\" x=\"65.905954\" y=\"232.168881\" style=\"fill: #fff5f0\"/>\n    </g>\n    <g clip-path=\"url(#p3cec06982f)\">\n     <use xlink:href=\"#C3_0_a95544fd91\" x=\"65.905954\" y=\"220.287889\" style=\"fill: #fff5f0\"/>\n    </g>\n    <g clip-path=\"url(#p3cec06982f)\">\n     <use xlink:href=\"#C3_0_a95544fd91\" x=\"65.905954\" y=\"208.406898\" style=\"fill: #fff5f0\"/>\n    </g>\n    <g clip-path=\"url(#p3cec06982f)\">\n     <use xlink:href=\"#C3_0_a95544fd91\" x=\"72.756863\" y=\"339.097807\" style=\"fill: #fff5f0\"/>\n    </g>\n    <g clip-path=\"url(#p3cec06982f)\">\n     <use xlink:href=\"#C3_0_a95544fd91\" x=\"72.756863\" y=\"327.216815\" style=\"fill: #fff5f0\"/>\n    </g>\n    <g clip-path=\"url(#p3cec06982f)\">\n     <use xlink:href=\"#C3_0_a95544fd91\" x=\"72.756863\" y=\"315.335823\" style=\"fill: #fff5f0\"/>\n    </g>\n    <g clip-path=\"url(#p3cec06982f)\">\n     <use xlink:href=\"#C3_0_a95544fd91\" x=\"72.756863\" y=\"303.454832\" style=\"fill: #ec382b\"/>\n    </g>\n    <g clip-path=\"url(#p3cec06982f)\">\n     <use xlink:href=\"#C3_0_a95544fd91\" x=\"72.756863\" y=\"291.57384\" style=\"fill: #fcb499\"/>\n    </g>\n    <g clip-path=\"url(#p3cec06982f)\">\n     <use xlink:href=\"#C3_0_a95544fd91\" x=\"72.756863\" y=\"279.692848\" style=\"fill: #fc9576\"/>\n    </g>\n    <g clip-path=\"url(#p3cec06982f)\">\n     <use xlink:href=\"#C3_0_a95544fd91\" x=\"72.756863\" y=\"267.811856\" style=\"fill: #fee6da\"/>\n    </g>\n    <g clip-path=\"url(#p3cec06982f)\">\n     <use xlink:href=\"#C3_0_a95544fd91\" x=\"72.756863\" y=\"255.930865\" style=\"fill: #fed9c9\"/>\n    </g>\n    <g clip-path=\"url(#p3cec06982f)\">\n     <use xlink:href=\"#C3_0_a95544fd91\" x=\"72.756863\" y=\"244.049873\" style=\"fill: #fff5f0\"/>\n    </g>\n    <g clip-path=\"url(#p3cec06982f)\">\n     <use xlink:href=\"#C3_0_a95544fd91\" x=\"72.756863\" y=\"232.168881\" style=\"fill: #fff5f0\"/>\n    </g>\n    <g clip-path=\"url(#p3cec06982f)\">\n     <use xlink:href=\"#C3_0_a95544fd91\" x=\"72.756863\" y=\"220.287889\" style=\"fill: #fff5f0\"/>\n    </g>\n    <g clip-path=\"url(#p3cec06982f)\">\n     <use xlink:href=\"#C3_0_a95544fd91\" x=\"72.756863\" y=\"208.406898\" style=\"fill: #fff5f0\"/>\n    </g>\n    <g clip-path=\"url(#p3cec06982f)\">\n     <use xlink:href=\"#C3_0_a95544fd91\" x=\"79.607772\" y=\"339.097807\" style=\"fill: #fff5f0\"/>\n    </g>\n    <g clip-path=\"url(#p3cec06982f)\">\n     <use xlink:href=\"#C3_0_a95544fd91\" x=\"79.607772\" y=\"327.216815\" style=\"fill: #fff5f0\"/>\n    </g>\n    <g clip-path=\"url(#p3cec06982f)\">\n     <use xlink:href=\"#C3_0_a95544fd91\" x=\"79.607772\" y=\"315.335823\" style=\"fill: #fff5f0\"/>\n    </g>\n    <g clip-path=\"url(#p3cec06982f)\">\n     <use xlink:href=\"#C3_0_a95544fd91\" x=\"79.607772\" y=\"303.454832\" style=\"fill: #fff0e9\"/>\n    </g>\n    <g clip-path=\"url(#p3cec06982f)\">\n     <use xlink:href=\"#C3_0_a95544fd91\" x=\"79.607772\" y=\"291.57384\" style=\"fill: #fc8262\"/>\n    </g>\n    <g clip-path=\"url(#p3cec06982f)\">\n     <use xlink:href=\"#C3_0_a95544fd91\" x=\"79.607772\" y=\"279.692848\" style=\"fill: #ffebe2\"/>\n    </g>\n    <g clip-path=\"url(#p3cec06982f)\">\n     <use xlink:href=\"#C3_0_a95544fd91\" x=\"79.607772\" y=\"267.811856\" style=\"fill: #ffebe2\"/>\n    </g>\n    <g clip-path=\"url(#p3cec06982f)\">\n     <use xlink:href=\"#C3_0_a95544fd91\" x=\"79.607772\" y=\"255.930865\" style=\"fill: #ffebe2\"/>\n    </g>\n    <g clip-path=\"url(#p3cec06982f)\">\n     <use xlink:href=\"#C3_0_a95544fd91\" x=\"79.607772\" y=\"244.049873\" style=\"fill: #fff5f0\"/>\n    </g>\n    <g clip-path=\"url(#p3cec06982f)\">\n     <use xlink:href=\"#C3_0_a95544fd91\" x=\"79.607772\" y=\"232.168881\" style=\"fill: #fff5f0\"/>\n    </g>\n    <g clip-path=\"url(#p3cec06982f)\">\n     <use xlink:href=\"#C3_0_a95544fd91\" x=\"79.607772\" y=\"220.287889\" style=\"fill: #fff5f0\"/>\n    </g>\n    <g clip-path=\"url(#p3cec06982f)\">\n     <use xlink:href=\"#C3_0_a95544fd91\" x=\"79.607772\" y=\"208.406898\" style=\"fill: #fff5f0\"/>\n    </g>\n    <g clip-path=\"url(#p3cec06982f)\">\n     <use xlink:href=\"#C3_0_a95544fd91\" x=\"-53.984955\" y=\"333.157311\" style=\"fill: #fff5f0\"/>\n    </g>\n    <g clip-path=\"url(#p3cec06982f)\">\n     <use xlink:href=\"#C3_0_a95544fd91\" x=\"-53.984955\" y=\"321.276319\" style=\"fill: #fff5f0\"/>\n    </g>\n    <g clip-path=\"url(#p3cec06982f)\">\n     <use xlink:href=\"#C3_0_a95544fd91\" x=\"-53.984955\" y=\"309.395327\" style=\"fill: #fff5f0\"/>\n    </g>\n    <g clip-path=\"url(#p3cec06982f)\">\n     <use xlink:href=\"#C3_0_a95544fd91\" x=\"-53.984955\" y=\"297.514336\" style=\"fill: #fee6da\"/>\n    </g>\n    <g clip-path=\"url(#p3cec06982f)\">\n     <use xlink:href=\"#C3_0_a95544fd91\" x=\"-53.984955\" y=\"285.633344\" style=\"fill: #fb6e4e\"/>\n    </g>\n    <g clip-path=\"url(#p3cec06982f)\">\n     <use xlink:href=\"#C3_0_a95544fd91\" x=\"-53.984955\" y=\"273.752352\" style=\"fill: #f7593f\"/>\n    </g>\n    <g clip-path=\"url(#p3cec06982f)\">\n     <use xlink:href=\"#C3_0_a95544fd91\" x=\"-53.984955\" y=\"261.87136\" style=\"fill: #ffebe2\"/>\n    </g>\n    <g clip-path=\"url(#p3cec06982f)\">\n     <use xlink:href=\"#C3_0_a95544fd91\" x=\"-53.984955\" y=\"249.990369\" style=\"fill: #fff5f0\"/>\n    </g>\n    <g clip-path=\"url(#p3cec06982f)\">\n     <use xlink:href=\"#C3_0_a95544fd91\" x=\"-53.984955\" y=\"238.109377\" style=\"fill: #fff5f0\"/>\n    </g>\n    <g clip-path=\"url(#p3cec06982f)\">\n     <use xlink:href=\"#C3_0_a95544fd91\" x=\"-53.984955\" y=\"226.228385\" style=\"fill: #fff5f0\"/>\n    </g>\n    <g clip-path=\"url(#p3cec06982f)\">\n     <use xlink:href=\"#C3_0_a95544fd91\" x=\"-53.984955\" y=\"214.347394\" style=\"fill: #fff5f0\"/>\n    </g>\n    <g clip-path=\"url(#p3cec06982f)\">\n     <use xlink:href=\"#C3_0_a95544fd91\" x=\"-47.134046\" y=\"333.157311\" style=\"fill: #fff5f0\"/>\n    </g>\n    <g clip-path=\"url(#p3cec06982f)\">\n     <use xlink:href=\"#C3_0_a95544fd91\" x=\"-47.134046\" y=\"321.276319\" style=\"fill: #fff5f0\"/>\n    </g>\n    <g clip-path=\"url(#p3cec06982f)\">\n     <use xlink:href=\"#C3_0_a95544fd91\" x=\"-47.134046\" y=\"309.395327\" style=\"fill: #fee6da\"/>\n    </g>\n    <g clip-path=\"url(#p3cec06982f)\">\n     <use xlink:href=\"#C3_0_a95544fd91\" x=\"-47.134046\" y=\"297.514336\" style=\"fill: #fca082\"/>\n    </g>\n    <g clip-path=\"url(#p3cec06982f)\">\n     <use xlink:href=\"#C3_0_a95544fd91\" x=\"-47.134046\" y=\"285.633344\" style=\"fill: #67000d\"/>\n    </g>\n    <g clip-path=\"url(#p3cec06982f)\">\n     <use xlink:href=\"#C3_0_a95544fd91\" x=\"-47.134046\" y=\"273.752352\" style=\"fill: #840711\"/>\n    </g>\n    <g clip-path=\"url(#p3cec06982f)\">\n     <use xlink:href=\"#C3_0_a95544fd91\" x=\"-47.134046\" y=\"261.87136\" style=\"fill: #e32f27\"/>\n    </g>\n    <g clip-path=\"url(#p3cec06982f)\">\n     <use xlink:href=\"#C3_0_a95544fd91\" x=\"-47.134046\" y=\"249.990369\" style=\"fill: #fff0e9\"/>\n    </g>\n    <g clip-path=\"url(#p3cec06982f)\">\n     <use xlink:href=\"#C3_0_a95544fd91\" x=\"-47.134046\" y=\"238.109377\" style=\"fill: #fff5f0\"/>\n    </g>\n    <g clip-path=\"url(#p3cec06982f)\">\n     <use xlink:href=\"#C3_0_a95544fd91\" x=\"-47.134046\" y=\"226.228385\" style=\"fill: #fff5f0\"/>\n    </g>\n    <g clip-path=\"url(#p3cec06982f)\">\n     <use xlink:href=\"#C3_0_a95544fd91\" x=\"-47.134046\" y=\"214.347394\" style=\"fill: #fff5f0\"/>\n    </g>\n    <g clip-path=\"url(#p3cec06982f)\">\n     <use xlink:href=\"#C3_0_a95544fd91\" x=\"-40.283137\" y=\"333.157311\" style=\"fill: #fff5f0\"/>\n    </g>\n    <g clip-path=\"url(#p3cec06982f)\">\n     <use xlink:href=\"#C3_0_a95544fd91\" x=\"-40.283137\" y=\"321.276319\" style=\"fill: #fee6da\"/>\n    </g>\n    <g clip-path=\"url(#p3cec06982f)\">\n     <use xlink:href=\"#C3_0_a95544fd91\" x=\"-40.283137\" y=\"309.395327\" style=\"fill: #fc8d6d\"/>\n    </g>\n    <g clip-path=\"url(#p3cec06982f)\">\n     <use xlink:href=\"#C3_0_a95544fd91\" x=\"-40.283137\" y=\"297.514336\" style=\"fill: #fcbda4\"/>\n    </g>\n    <g clip-path=\"url(#p3cec06982f)\">\n     <use xlink:href=\"#C3_0_a95544fd91\" x=\"-40.283137\" y=\"285.633344\" style=\"fill: #da2723\"/>\n    </g>\n    <g clip-path=\"url(#p3cec06982f)\">\n     <use xlink:href=\"#C3_0_a95544fd91\" x=\"-40.283137\" y=\"273.752352\" style=\"fill: #fb6e4e\"/>\n    </g>\n    <g clip-path=\"url(#p3cec06982f)\">\n     <use xlink:href=\"#C3_0_a95544fd91\" x=\"-40.283137\" y=\"261.87136\" style=\"fill: #940b13\"/>\n    </g>\n    <g clip-path=\"url(#p3cec06982f)\">\n     <use xlink:href=\"#C3_0_a95544fd91\" x=\"-40.283137\" y=\"249.990369\" style=\"fill: #fdc6b0\"/>\n    </g>\n    <g clip-path=\"url(#p3cec06982f)\">\n     <use xlink:href=\"#C3_0_a95544fd91\" x=\"-40.283137\" y=\"238.109377\" style=\"fill: #fff5f0\"/>\n    </g>\n    <g clip-path=\"url(#p3cec06982f)\">\n     <use xlink:href=\"#C3_0_a95544fd91\" x=\"-40.283137\" y=\"226.228385\" style=\"fill: #fee1d3\"/>\n    </g>\n    <g clip-path=\"url(#p3cec06982f)\">\n     <use xlink:href=\"#C3_0_a95544fd91\" x=\"-40.283137\" y=\"214.347394\" style=\"fill: #fff5f0\"/>\n    </g>\n    <g clip-path=\"url(#p3cec06982f)\">\n     <use xlink:href=\"#C3_0_a95544fd91\" x=\"-33.432228\" y=\"333.157311\" style=\"fill: #fff5f0\"/>\n    </g>\n    <g clip-path=\"url(#p3cec06982f)\">\n     <use xlink:href=\"#C3_0_a95544fd91\" x=\"-33.432228\" y=\"321.276319\" style=\"fill: #fff0e9\"/>\n    </g>\n    <g clip-path=\"url(#p3cec06982f)\">\n     <use xlink:href=\"#C3_0_a95544fd91\" x=\"-33.432228\" y=\"309.395327\" style=\"fill: #ffebe2\"/>\n    </g>\n    <g clip-path=\"url(#p3cec06982f)\">\n     <use xlink:href=\"#C3_0_a95544fd91\" x=\"-33.432228\" y=\"297.514336\" style=\"fill: #fdc6b0\"/>\n    </g>\n    <g clip-path=\"url(#p3cec06982f)\">\n     <use xlink:href=\"#C3_0_a95544fd91\" x=\"-33.432228\" y=\"285.633344\" style=\"fill: #fc8262\"/>\n    </g>\n    <g clip-path=\"url(#p3cec06982f)\">\n     <use xlink:href=\"#C3_0_a95544fd91\" x=\"-33.432228\" y=\"273.752352\" style=\"fill: #f7593f\"/>\n    </g>\n    <g clip-path=\"url(#p3cec06982f)\">\n     <use xlink:href=\"#C3_0_a95544fd91\" x=\"-33.432228\" y=\"261.87136\" style=\"fill: #b61319\"/>\n    </g>\n    <g clip-path=\"url(#p3cec06982f)\">\n     <use xlink:href=\"#C3_0_a95544fd91\" x=\"-33.432228\" y=\"249.990369\" style=\"fill: #fdd0bc\"/>\n    </g>\n    <g clip-path=\"url(#p3cec06982f)\">\n     <use xlink:href=\"#C3_0_a95544fd91\" x=\"-33.432228\" y=\"238.109377\" style=\"fill: #fff5f0\"/>\n    </g>\n    <g clip-path=\"url(#p3cec06982f)\">\n     <use xlink:href=\"#C3_0_a95544fd91\" x=\"-33.432228\" y=\"226.228385\" style=\"fill: #fb6e4e\"/>\n    </g>\n    <g clip-path=\"url(#p3cec06982f)\">\n     <use xlink:href=\"#C3_0_a95544fd91\" x=\"-33.432228\" y=\"214.347394\" style=\"fill: #fff0e9\"/>\n    </g>\n    <g clip-path=\"url(#p3cec06982f)\">\n     <use xlink:href=\"#C3_0_a95544fd91\" x=\"-26.581319\" y=\"333.157311\" style=\"fill: #fff0e9\"/>\n    </g>\n    <g clip-path=\"url(#p3cec06982f)\">\n     <use xlink:href=\"#C3_0_a95544fd91\" x=\"-26.581319\" y=\"321.276319\" style=\"fill: #fff0e9\"/>\n    </g>\n    <g clip-path=\"url(#p3cec06982f)\">\n     <use xlink:href=\"#C3_0_a95544fd91\" x=\"-26.581319\" y=\"309.395327\" style=\"fill: #fff0e9\"/>\n    </g>\n    <g clip-path=\"url(#p3cec06982f)\">\n     <use xlink:href=\"#C3_0_a95544fd91\" x=\"-26.581319\" y=\"297.514336\" style=\"fill: #fed9c9\"/>\n    </g>\n    <g clip-path=\"url(#p3cec06982f)\">\n     <use xlink:href=\"#C3_0_a95544fd91\" x=\"-26.581319\" y=\"285.633344\" style=\"fill: #fc8d6d\"/>\n    </g>\n    <g clip-path=\"url(#p3cec06982f)\">\n     <use xlink:href=\"#C3_0_a95544fd91\" x=\"-26.581319\" y=\"273.752352\" style=\"fill: #e32f27\"/>\n    </g>\n    <g clip-path=\"url(#p3cec06982f)\">\n     <use xlink:href=\"#C3_0_a95544fd91\" x=\"-26.581319\" y=\"261.87136\" style=\"fill: #f7593f\"/>\n    </g>\n    <g clip-path=\"url(#p3cec06982f)\">\n     <use xlink:href=\"#C3_0_a95544fd91\" x=\"-26.581319\" y=\"249.990369\" style=\"fill: #fee1d3\"/>\n    </g>\n    <g clip-path=\"url(#p3cec06982f)\">\n     <use xlink:href=\"#C3_0_a95544fd91\" x=\"-26.581319\" y=\"238.109377\" style=\"fill: #ffebe2\"/>\n    </g>\n    <g clip-path=\"url(#p3cec06982f)\">\n     <use xlink:href=\"#C3_0_a95544fd91\" x=\"-26.581319\" y=\"226.228385\" style=\"fill: #fc9576\"/>\n    </g>\n    <g clip-path=\"url(#p3cec06982f)\">\n     <use xlink:href=\"#C3_0_a95544fd91\" x=\"-26.581319\" y=\"214.347394\" style=\"fill: #fcbda4\"/>\n    </g>\n    <g clip-path=\"url(#p3cec06982f)\">\n     <use xlink:href=\"#C3_0_a95544fd91\" x=\"-19.73041\" y=\"333.157311\" style=\"fill: #fee6da\"/>\n    </g>\n    <g clip-path=\"url(#p3cec06982f)\">\n     <use xlink:href=\"#C3_0_a95544fd91\" x=\"-19.73041\" y=\"321.276319\" style=\"fill: #ffebe2\"/>\n    </g>\n    <g clip-path=\"url(#p3cec06982f)\">\n     <use xlink:href=\"#C3_0_a95544fd91\" x=\"-19.73041\" y=\"309.395327\" style=\"fill: #fa6547\"/>\n    </g>\n    <g clip-path=\"url(#p3cec06982f)\">\n     <use xlink:href=\"#C3_0_a95544fd91\" x=\"-19.73041\" y=\"297.514336\" style=\"fill: #fcb499\"/>\n    </g>\n    <g clip-path=\"url(#p3cec06982f)\">\n     <use xlink:href=\"#C3_0_a95544fd91\" x=\"-19.73041\" y=\"285.633344\" style=\"fill: #fee1d3\"/>\n    </g>\n    <g clip-path=\"url(#p3cec06982f)\">\n     <use xlink:href=\"#C3_0_a95544fd91\" x=\"-19.73041\" y=\"273.752352\" style=\"fill: #fc8262\"/>\n    </g>\n    <g clip-path=\"url(#p3cec06982f)\">\n     <use xlink:href=\"#C3_0_a95544fd91\" x=\"-19.73041\" y=\"261.87136\" style=\"fill: #bf151b\"/>\n    </g>\n    <g clip-path=\"url(#p3cec06982f)\">\n     <use xlink:href=\"#C3_0_a95544fd91\" x=\"-19.73041\" y=\"249.990369\" style=\"fill: #fff0e9\"/>\n    </g>\n    <g clip-path=\"url(#p3cec06982f)\">\n     <use xlink:href=\"#C3_0_a95544fd91\" x=\"-19.73041\" y=\"238.109377\" style=\"fill: #fcbda4\"/>\n    </g>\n    <g clip-path=\"url(#p3cec06982f)\">\n     <use xlink:href=\"#C3_0_a95544fd91\" x=\"-19.73041\" y=\"226.228385\" style=\"fill: #d11e1f\"/>\n    </g>\n    <g clip-path=\"url(#p3cec06982f)\">\n     <use xlink:href=\"#C3_0_a95544fd91\" x=\"-19.73041\" y=\"214.347394\" style=\"fill: #f7593f\"/>\n    </g>\n    <g clip-path=\"url(#p3cec06982f)\">\n     <use xlink:href=\"#C3_0_a95544fd91\" x=\"-12.879501\" y=\"333.157311\" style=\"fill: #fff5f0\"/>\n    </g>\n    <g clip-path=\"url(#p3cec06982f)\">\n     <use xlink:href=\"#C3_0_a95544fd91\" x=\"-12.879501\" y=\"321.276319\" style=\"fill: #fff5f0\"/>\n    </g>\n    <g clip-path=\"url(#p3cec06982f)\">\n     <use xlink:href=\"#C3_0_a95544fd91\" x=\"-12.879501\" y=\"309.395327\" style=\"fill: #fee6da\"/>\n    </g>\n    <g clip-path=\"url(#p3cec06982f)\">\n     <use xlink:href=\"#C3_0_a95544fd91\" x=\"-12.879501\" y=\"297.514336\" style=\"fill: #fdc6b0\"/>\n    </g>\n    <g clip-path=\"url(#p3cec06982f)\">\n     <use xlink:href=\"#C3_0_a95544fd91\" x=\"-12.879501\" y=\"285.633344\" style=\"fill: #fcbda4\"/>\n    </g>\n    <g clip-path=\"url(#p3cec06982f)\">\n     <use xlink:href=\"#C3_0_a95544fd91\" x=\"-12.879501\" y=\"273.752352\" style=\"fill: #fcaa8d\"/>\n    </g>\n    <g clip-path=\"url(#p3cec06982f)\">\n     <use xlink:href=\"#C3_0_a95544fd91\" x=\"-12.879501\" y=\"261.87136\" style=\"fill: #f7593f\"/>\n    </g>\n    <g clip-path=\"url(#p3cec06982f)\">\n     <use xlink:href=\"#C3_0_a95544fd91\" x=\"-12.879501\" y=\"249.990369\" style=\"fill: #fee1d3\"/>\n    </g>\n    <g clip-path=\"url(#p3cec06982f)\">\n     <use xlink:href=\"#C3_0_a95544fd91\" x=\"-12.879501\" y=\"238.109377\" style=\"fill: #fc9576\"/>\n    </g>\n    <g clip-path=\"url(#p3cec06982f)\">\n     <use xlink:href=\"#C3_0_a95544fd91\" x=\"-12.879501\" y=\"226.228385\" style=\"fill: #f44d38\"/>\n    </g>\n    <g clip-path=\"url(#p3cec06982f)\">\n     <use xlink:href=\"#C3_0_a95544fd91\" x=\"-12.879501\" y=\"214.347394\" style=\"fill: #fdd0bc\"/>\n    </g>\n    <g clip-path=\"url(#p3cec06982f)\">\n     <use xlink:href=\"#C3_0_a95544fd91\" x=\"-6.028591\" y=\"333.157311\" style=\"fill: #fff0e9\"/>\n    </g>\n    <g clip-path=\"url(#p3cec06982f)\">\n     <use xlink:href=\"#C3_0_a95544fd91\" x=\"-6.028591\" y=\"321.276319\" style=\"fill: #fff5f0\"/>\n    </g>\n    <g clip-path=\"url(#p3cec06982f)\">\n     <use xlink:href=\"#C3_0_a95544fd91\" x=\"-6.028591\" y=\"309.395327\" style=\"fill: #fee6da\"/>\n    </g>\n    <g clip-path=\"url(#p3cec06982f)\">\n     <use xlink:href=\"#C3_0_a95544fd91\" x=\"-6.028591\" y=\"297.514336\" style=\"fill: #fed9c9\"/>\n    </g>\n    <g clip-path=\"url(#p3cec06982f)\">\n     <use xlink:href=\"#C3_0_a95544fd91\" x=\"-6.028591\" y=\"285.633344\" style=\"fill: #fcbda4\"/>\n    </g>\n    <g clip-path=\"url(#p3cec06982f)\">\n     <use xlink:href=\"#C3_0_a95544fd91\" x=\"-6.028591\" y=\"273.752352\" style=\"fill: #fcbda4\"/>\n    </g>\n    <g clip-path=\"url(#p3cec06982f)\">\n     <use xlink:href=\"#C3_0_a95544fd91\" x=\"-6.028591\" y=\"261.87136\" style=\"fill: #fc9576\"/>\n    </g>\n    <g clip-path=\"url(#p3cec06982f)\">\n     <use xlink:href=\"#C3_0_a95544fd91\" x=\"-6.028591\" y=\"249.990369\" style=\"fill: #fee6da\"/>\n    </g>\n    <g clip-path=\"url(#p3cec06982f)\">\n     <use xlink:href=\"#C3_0_a95544fd91\" x=\"-6.028591\" y=\"238.109377\" style=\"fill: #fdc6b0\"/>\n    </g>\n    <g clip-path=\"url(#p3cec06982f)\">\n     <use xlink:href=\"#C3_0_a95544fd91\" x=\"-6.028591\" y=\"226.228385\" style=\"fill: #fdd0bc\"/>\n    </g>\n    <g clip-path=\"url(#p3cec06982f)\">\n     <use xlink:href=\"#C3_0_a95544fd91\" x=\"-6.028591\" y=\"214.347394\" style=\"fill: #fff5f0\"/>\n    </g>\n    <g clip-path=\"url(#p3cec06982f)\">\n     <use xlink:href=\"#C3_0_a95544fd91\" x=\"0.822318\" y=\"333.157311\" style=\"fill: #fdd0bc\"/>\n    </g>\n    <g clip-path=\"url(#p3cec06982f)\">\n     <use xlink:href=\"#C3_0_a95544fd91\" x=\"0.822318\" y=\"321.276319\" style=\"fill: #ffebe2\"/>\n    </g>\n    <g clip-path=\"url(#p3cec06982f)\">\n     <use xlink:href=\"#C3_0_a95544fd91\" x=\"0.822318\" y=\"309.395327\" style=\"fill: #fff5f0\"/>\n    </g>\n    <g clip-path=\"url(#p3cec06982f)\">\n     <use xlink:href=\"#C3_0_a95544fd91\" x=\"0.822318\" y=\"297.514336\" style=\"fill: #fcbda4\"/>\n    </g>\n    <g clip-path=\"url(#p3cec06982f)\">\n     <use xlink:href=\"#C3_0_a95544fd91\" x=\"0.822318\" y=\"285.633344\" style=\"fill: #fed9c9\"/>\n    </g>\n    <g clip-path=\"url(#p3cec06982f)\">\n     <use xlink:href=\"#C3_0_a95544fd91\" x=\"0.822318\" y=\"273.752352\" style=\"fill: #fee1d3\"/>\n    </g>\n    <g clip-path=\"url(#p3cec06982f)\">\n     <use xlink:href=\"#C3_0_a95544fd91\" x=\"0.822318\" y=\"261.87136\" style=\"fill: #fcbda4\"/>\n    </g>\n    <g clip-path=\"url(#p3cec06982f)\">\n     <use xlink:href=\"#C3_0_a95544fd91\" x=\"0.822318\" y=\"249.990369\" style=\"fill: #fff0e9\"/>\n    </g>\n    <g clip-path=\"url(#p3cec06982f)\">\n     <use xlink:href=\"#C3_0_a95544fd91\" x=\"0.822318\" y=\"238.109377\" style=\"fill: #fff5f0\"/>\n    </g>\n    <g clip-path=\"url(#p3cec06982f)\">\n     <use xlink:href=\"#C3_0_a95544fd91\" x=\"0.822318\" y=\"226.228385\" style=\"fill: #fff5f0\"/>\n    </g>\n    <g clip-path=\"url(#p3cec06982f)\">\n     <use xlink:href=\"#C3_0_a95544fd91\" x=\"0.822318\" y=\"214.347394\" style=\"fill: #fff5f0\"/>\n    </g>\n    <g clip-path=\"url(#p3cec06982f)\">\n     <use xlink:href=\"#C3_0_a95544fd91\" x=\"7.673227\" y=\"333.157311\" style=\"fill: #bf151b\"/>\n    </g>\n    <g clip-path=\"url(#p3cec06982f)\">\n     <use xlink:href=\"#C3_0_a95544fd91\" x=\"7.673227\" y=\"321.276319\" style=\"fill: #fee6da\"/>\n    </g>\n    <g clip-path=\"url(#p3cec06982f)\">\n     <use xlink:href=\"#C3_0_a95544fd91\" x=\"7.673227\" y=\"309.395327\" style=\"fill: #ffebe2\"/>\n    </g>\n    <g clip-path=\"url(#p3cec06982f)\">\n     <use xlink:href=\"#C3_0_a95544fd91\" x=\"7.673227\" y=\"297.514336\" style=\"fill: #fee1d3\"/>\n    </g>\n    <g clip-path=\"url(#p3cec06982f)\">\n     <use xlink:href=\"#C3_0_a95544fd91\" x=\"7.673227\" y=\"285.633344\" style=\"fill: #fdd0bc\"/>\n    </g>\n    <g clip-path=\"url(#p3cec06982f)\">\n     <use xlink:href=\"#C3_0_a95544fd91\" x=\"7.673227\" y=\"273.752352\" style=\"fill: #fff5f0\"/>\n    </g>\n    <g clip-path=\"url(#p3cec06982f)\">\n     <use xlink:href=\"#C3_0_a95544fd91\" x=\"7.673227\" y=\"261.87136\" style=\"fill: #ffebe2\"/>\n    </g>\n    <g clip-path=\"url(#p3cec06982f)\">\n     <use xlink:href=\"#C3_0_a95544fd91\" x=\"7.673227\" y=\"249.990369\" style=\"fill: #fff5f0\"/>\n    </g>\n    <g clip-path=\"url(#p3cec06982f)\">\n     <use xlink:href=\"#C3_0_a95544fd91\" x=\"7.673227\" y=\"238.109377\" style=\"fill: #fff5f0\"/>\n    </g>\n    <g clip-path=\"url(#p3cec06982f)\">\n     <use xlink:href=\"#C3_0_a95544fd91\" x=\"7.673227\" y=\"226.228385\" style=\"fill: #fff5f0\"/>\n    </g>\n    <g clip-path=\"url(#p3cec06982f)\">\n     <use xlink:href=\"#C3_0_a95544fd91\" x=\"7.673227\" y=\"214.347394\" style=\"fill: #fff5f0\"/>\n    </g>\n    <g clip-path=\"url(#p3cec06982f)\">\n     <use xlink:href=\"#C3_0_a95544fd91\" x=\"14.524136\" y=\"333.157311\" style=\"fill: #fff5f0\"/>\n    </g>\n    <g clip-path=\"url(#p3cec06982f)\">\n     <use xlink:href=\"#C3_0_a95544fd91\" x=\"14.524136\" y=\"321.276319\" style=\"fill: #fff0e9\"/>\n    </g>\n    <g clip-path=\"url(#p3cec06982f)\">\n     <use xlink:href=\"#C3_0_a95544fd91\" x=\"14.524136\" y=\"309.395327\" style=\"fill: #fdc6b0\"/>\n    </g>\n    <g clip-path=\"url(#p3cec06982f)\">\n     <use xlink:href=\"#C3_0_a95544fd91\" x=\"14.524136\" y=\"297.514336\" style=\"fill: #fff5f0\"/>\n    </g>\n    <g clip-path=\"url(#p3cec06982f)\">\n     <use xlink:href=\"#C3_0_a95544fd91\" x=\"14.524136\" y=\"285.633344\" style=\"fill: #fff5f0\"/>\n    </g>\n    <g clip-path=\"url(#p3cec06982f)\">\n     <use xlink:href=\"#C3_0_a95544fd91\" x=\"14.524136\" y=\"273.752352\" style=\"fill: #fff5f0\"/>\n    </g>\n    <g clip-path=\"url(#p3cec06982f)\">\n     <use xlink:href=\"#C3_0_a95544fd91\" x=\"14.524136\" y=\"261.87136\" style=\"fill: #fff5f0\"/>\n    </g>\n    <g clip-path=\"url(#p3cec06982f)\">\n     <use xlink:href=\"#C3_0_a95544fd91\" x=\"14.524136\" y=\"249.990369\" style=\"fill: #fff5f0\"/>\n    </g>\n    <g clip-path=\"url(#p3cec06982f)\">\n     <use xlink:href=\"#C3_0_a95544fd91\" x=\"14.524136\" y=\"238.109377\" style=\"fill: #fff5f0\"/>\n    </g>\n    <g clip-path=\"url(#p3cec06982f)\">\n     <use xlink:href=\"#C3_0_a95544fd91\" x=\"14.524136\" y=\"226.228385\" style=\"fill: #fff5f0\"/>\n    </g>\n    <g clip-path=\"url(#p3cec06982f)\">\n     <use xlink:href=\"#C3_0_a95544fd91\" x=\"14.524136\" y=\"214.347394\" style=\"fill: #fff5f0\"/>\n    </g>\n    <g clip-path=\"url(#p3cec06982f)\">\n     <use xlink:href=\"#C3_0_a95544fd91\" x=\"21.375045\" y=\"333.157311\" style=\"fill: #fff5f0\"/>\n    </g>\n    <g clip-path=\"url(#p3cec06982f)\">\n     <use xlink:href=\"#C3_0_a95544fd91\" x=\"21.375045\" y=\"321.276319\" style=\"fill: #fff5f0\"/>\n    </g>\n    <g clip-path=\"url(#p3cec06982f)\">\n     <use xlink:href=\"#C3_0_a95544fd91\" x=\"21.375045\" y=\"309.395327\" style=\"fill: #fee6da\"/>\n    </g>\n    <g clip-path=\"url(#p3cec06982f)\">\n     <use xlink:href=\"#C3_0_a95544fd91\" x=\"21.375045\" y=\"297.514336\" style=\"fill: #fff5f0\"/>\n    </g>\n    <g clip-path=\"url(#p3cec06982f)\">\n     <use xlink:href=\"#C3_0_a95544fd91\" x=\"21.375045\" y=\"285.633344\" style=\"fill: #fff5f0\"/>\n    </g>\n    <g clip-path=\"url(#p3cec06982f)\">\n     <use xlink:href=\"#C3_0_a95544fd91\" x=\"21.375045\" y=\"273.752352\" style=\"fill: #fff5f0\"/>\n    </g>\n    <g clip-path=\"url(#p3cec06982f)\">\n     <use xlink:href=\"#C3_0_a95544fd91\" x=\"21.375045\" y=\"261.87136\" style=\"fill: #fff5f0\"/>\n    </g>\n    <g clip-path=\"url(#p3cec06982f)\">\n     <use xlink:href=\"#C3_0_a95544fd91\" x=\"21.375045\" y=\"249.990369\" style=\"fill: #fff5f0\"/>\n    </g>\n    <g clip-path=\"url(#p3cec06982f)\">\n     <use xlink:href=\"#C3_0_a95544fd91\" x=\"21.375045\" y=\"238.109377\" style=\"fill: #fff5f0\"/>\n    </g>\n    <g clip-path=\"url(#p3cec06982f)\">\n     <use xlink:href=\"#C3_0_a95544fd91\" x=\"21.375045\" y=\"226.228385\" style=\"fill: #fff5f0\"/>\n    </g>\n    <g clip-path=\"url(#p3cec06982f)\">\n     <use xlink:href=\"#C3_0_a95544fd91\" x=\"21.375045\" y=\"214.347394\" style=\"fill: #fff5f0\"/>\n    </g>\n    <g clip-path=\"url(#p3cec06982f)\">\n     <use xlink:href=\"#C3_0_a95544fd91\" x=\"28.225954\" y=\"333.157311\" style=\"fill: #fff5f0\"/>\n    </g>\n    <g clip-path=\"url(#p3cec06982f)\">\n     <use xlink:href=\"#C3_0_a95544fd91\" x=\"28.225954\" y=\"321.276319\" style=\"fill: #fff5f0\"/>\n    </g>\n    <g clip-path=\"url(#p3cec06982f)\">\n     <use xlink:href=\"#C3_0_a95544fd91\" x=\"28.225954\" y=\"309.395327\" style=\"fill: #fff5f0\"/>\n    </g>\n    <g clip-path=\"url(#p3cec06982f)\">\n     <use xlink:href=\"#C3_0_a95544fd91\" x=\"28.225954\" y=\"297.514336\" style=\"fill: #fff5f0\"/>\n    </g>\n    <g clip-path=\"url(#p3cec06982f)\">\n     <use xlink:href=\"#C3_0_a95544fd91\" x=\"28.225954\" y=\"285.633344\" style=\"fill: #fff5f0\"/>\n    </g>\n    <g clip-path=\"url(#p3cec06982f)\">\n     <use xlink:href=\"#C3_0_a95544fd91\" x=\"28.225954\" y=\"273.752352\" style=\"fill: #fff5f0\"/>\n    </g>\n    <g clip-path=\"url(#p3cec06982f)\">\n     <use xlink:href=\"#C3_0_a95544fd91\" x=\"28.225954\" y=\"261.87136\" style=\"fill: #fff5f0\"/>\n    </g>\n    <g clip-path=\"url(#p3cec06982f)\">\n     <use xlink:href=\"#C3_0_a95544fd91\" x=\"28.225954\" y=\"249.990369\" style=\"fill: #fff5f0\"/>\n    </g>\n    <g clip-path=\"url(#p3cec06982f)\">\n     <use xlink:href=\"#C3_0_a95544fd91\" x=\"28.225954\" y=\"238.109377\" style=\"fill: #fff5f0\"/>\n    </g>\n    <g clip-path=\"url(#p3cec06982f)\">\n     <use xlink:href=\"#C3_0_a95544fd91\" x=\"28.225954\" y=\"226.228385\" style=\"fill: #fff5f0\"/>\n    </g>\n    <g clip-path=\"url(#p3cec06982f)\">\n     <use xlink:href=\"#C3_0_a95544fd91\" x=\"28.225954\" y=\"214.347394\" style=\"fill: #fff5f0\"/>\n    </g>\n    <g clip-path=\"url(#p3cec06982f)\">\n     <use xlink:href=\"#C3_0_a95544fd91\" x=\"35.076863\" y=\"333.157311\" style=\"fill: #fff5f0\"/>\n    </g>\n    <g clip-path=\"url(#p3cec06982f)\">\n     <use xlink:href=\"#C3_0_a95544fd91\" x=\"35.076863\" y=\"321.276319\" style=\"fill: #fff5f0\"/>\n    </g>\n    <g clip-path=\"url(#p3cec06982f)\">\n     <use xlink:href=\"#C3_0_a95544fd91\" x=\"35.076863\" y=\"309.395327\" style=\"fill: #fff5f0\"/>\n    </g>\n    <g clip-path=\"url(#p3cec06982f)\">\n     <use xlink:href=\"#C3_0_a95544fd91\" x=\"35.076863\" y=\"297.514336\" style=\"fill: #fff5f0\"/>\n    </g>\n    <g clip-path=\"url(#p3cec06982f)\">\n     <use xlink:href=\"#C3_0_a95544fd91\" x=\"35.076863\" y=\"285.633344\" style=\"fill: #fff0e9\"/>\n    </g>\n    <g clip-path=\"url(#p3cec06982f)\">\n     <use xlink:href=\"#C3_0_a95544fd91\" x=\"35.076863\" y=\"273.752352\" style=\"fill: #fff0e9\"/>\n    </g>\n    <g clip-path=\"url(#p3cec06982f)\">\n     <use xlink:href=\"#C3_0_a95544fd91\" x=\"35.076863\" y=\"261.87136\" style=\"fill: #fff5f0\"/>\n    </g>\n    <g clip-path=\"url(#p3cec06982f)\">\n     <use xlink:href=\"#C3_0_a95544fd91\" x=\"35.076863\" y=\"249.990369\" style=\"fill: #fff5f0\"/>\n    </g>\n    <g clip-path=\"url(#p3cec06982f)\">\n     <use xlink:href=\"#C3_0_a95544fd91\" x=\"35.076863\" y=\"238.109377\" style=\"fill: #fff5f0\"/>\n    </g>\n    <g clip-path=\"url(#p3cec06982f)\">\n     <use xlink:href=\"#C3_0_a95544fd91\" x=\"35.076863\" y=\"226.228385\" style=\"fill: #fff5f0\"/>\n    </g>\n    <g clip-path=\"url(#p3cec06982f)\">\n     <use xlink:href=\"#C3_0_a95544fd91\" x=\"35.076863\" y=\"214.347394\" style=\"fill: #fff5f0\"/>\n    </g>\n    <g clip-path=\"url(#p3cec06982f)\">\n     <use xlink:href=\"#C3_0_a95544fd91\" x=\"41.927772\" y=\"333.157311\" style=\"fill: #fff5f0\"/>\n    </g>\n    <g clip-path=\"url(#p3cec06982f)\">\n     <use xlink:href=\"#C3_0_a95544fd91\" x=\"41.927772\" y=\"321.276319\" style=\"fill: #fff5f0\"/>\n    </g>\n    <g clip-path=\"url(#p3cec06982f)\">\n     <use xlink:href=\"#C3_0_a95544fd91\" x=\"41.927772\" y=\"309.395327\" style=\"fill: #fff5f0\"/>\n    </g>\n    <g clip-path=\"url(#p3cec06982f)\">\n     <use xlink:href=\"#C3_0_a95544fd91\" x=\"41.927772\" y=\"297.514336\" style=\"fill: #fff0e9\"/>\n    </g>\n    <g clip-path=\"url(#p3cec06982f)\">\n     <use xlink:href=\"#C3_0_a95544fd91\" x=\"41.927772\" y=\"285.633344\" style=\"fill: #fff0e9\"/>\n    </g>\n    <g clip-path=\"url(#p3cec06982f)\">\n     <use xlink:href=\"#C3_0_a95544fd91\" x=\"41.927772\" y=\"273.752352\" style=\"fill: #fed9c9\"/>\n    </g>\n    <g clip-path=\"url(#p3cec06982f)\">\n     <use xlink:href=\"#C3_0_a95544fd91\" x=\"41.927772\" y=\"261.87136\" style=\"fill: #fee1d3\"/>\n    </g>\n    <g clip-path=\"url(#p3cec06982f)\">\n     <use xlink:href=\"#C3_0_a95544fd91\" x=\"41.927772\" y=\"249.990369\" style=\"fill: #fee1d3\"/>\n    </g>\n    <g clip-path=\"url(#p3cec06982f)\">\n     <use xlink:href=\"#C3_0_a95544fd91\" x=\"41.927772\" y=\"238.109377\" style=\"fill: #fff5f0\"/>\n    </g>\n    <g clip-path=\"url(#p3cec06982f)\">\n     <use xlink:href=\"#C3_0_a95544fd91\" x=\"41.927772\" y=\"226.228385\" style=\"fill: #fff5f0\"/>\n    </g>\n    <g clip-path=\"url(#p3cec06982f)\">\n     <use xlink:href=\"#C3_0_a95544fd91\" x=\"41.927772\" y=\"214.347394\" style=\"fill: #fff5f0\"/>\n    </g>\n    <g clip-path=\"url(#p3cec06982f)\">\n     <use xlink:href=\"#C3_0_a95544fd91\" x=\"48.778681\" y=\"333.157311\" style=\"fill: #fff5f0\"/>\n    </g>\n    <g clip-path=\"url(#p3cec06982f)\">\n     <use xlink:href=\"#C3_0_a95544fd91\" x=\"48.778681\" y=\"321.276319\" style=\"fill: #fff5f0\"/>\n    </g>\n    <g clip-path=\"url(#p3cec06982f)\">\n     <use xlink:href=\"#C3_0_a95544fd91\" x=\"48.778681\" y=\"309.395327\" style=\"fill: #fff5f0\"/>\n    </g>\n    <g clip-path=\"url(#p3cec06982f)\">\n     <use xlink:href=\"#C3_0_a95544fd91\" x=\"48.778681\" y=\"297.514336\" style=\"fill: #fff5f0\"/>\n    </g>\n    <g clip-path=\"url(#p3cec06982f)\">\n     <use xlink:href=\"#C3_0_a95544fd91\" x=\"48.778681\" y=\"285.633344\" style=\"fill: #fc9576\"/>\n    </g>\n    <g clip-path=\"url(#p3cec06982f)\">\n     <use xlink:href=\"#C3_0_a95544fd91\" x=\"48.778681\" y=\"273.752352\" style=\"fill: #fca082\"/>\n    </g>\n    <g clip-path=\"url(#p3cec06982f)\">\n     <use xlink:href=\"#C3_0_a95544fd91\" x=\"48.778681\" y=\"261.87136\" style=\"fill: #f7593f\"/>\n    </g>\n    <g clip-path=\"url(#p3cec06982f)\">\n     <use xlink:href=\"#C3_0_a95544fd91\" x=\"48.778681\" y=\"249.990369\" style=\"fill: #fb7858\"/>\n    </g>\n    <g clip-path=\"url(#p3cec06982f)\">\n     <use xlink:href=\"#C3_0_a95544fd91\" x=\"48.778681\" y=\"238.109377\" style=\"fill: #fff5f0\"/>\n    </g>\n    <g clip-path=\"url(#p3cec06982f)\">\n     <use xlink:href=\"#C3_0_a95544fd91\" x=\"48.778681\" y=\"226.228385\" style=\"fill: #fff5f0\"/>\n    </g>\n    <g clip-path=\"url(#p3cec06982f)\">\n     <use xlink:href=\"#C3_0_a95544fd91\" x=\"48.778681\" y=\"214.347394\" style=\"fill: #fff5f0\"/>\n    </g>\n    <g clip-path=\"url(#p3cec06982f)\">\n     <use xlink:href=\"#C3_0_a95544fd91\" x=\"55.62959\" y=\"333.157311\" style=\"fill: #fff5f0\"/>\n    </g>\n    <g clip-path=\"url(#p3cec06982f)\">\n     <use xlink:href=\"#C3_0_a95544fd91\" x=\"55.62959\" y=\"321.276319\" style=\"fill: #fff5f0\"/>\n    </g>\n    <g clip-path=\"url(#p3cec06982f)\">\n     <use xlink:href=\"#C3_0_a95544fd91\" x=\"55.62959\" y=\"309.395327\" style=\"fill: #fff5f0\"/>\n    </g>\n    <g clip-path=\"url(#p3cec06982f)\">\n     <use xlink:href=\"#C3_0_a95544fd91\" x=\"55.62959\" y=\"297.514336\" style=\"fill: #e32f27\"/>\n    </g>\n    <g clip-path=\"url(#p3cec06982f)\">\n     <use xlink:href=\"#C3_0_a95544fd91\" x=\"55.62959\" y=\"285.633344\" style=\"fill: #fc9576\"/>\n    </g>\n    <g clip-path=\"url(#p3cec06982f)\">\n     <use xlink:href=\"#C3_0_a95544fd91\" x=\"55.62959\" y=\"273.752352\" style=\"fill: #f44d38\"/>\n    </g>\n    <g clip-path=\"url(#p3cec06982f)\">\n     <use xlink:href=\"#C3_0_a95544fd91\" x=\"55.62959\" y=\"261.87136\" style=\"fill: #fcaa8d\"/>\n    </g>\n    <g clip-path=\"url(#p3cec06982f)\">\n     <use xlink:href=\"#C3_0_a95544fd91\" x=\"55.62959\" y=\"249.990369\" style=\"fill: #fc8d6d\"/>\n    </g>\n    <g clip-path=\"url(#p3cec06982f)\">\n     <use xlink:href=\"#C3_0_a95544fd91\" x=\"55.62959\" y=\"238.109377\" style=\"fill: #fff5f0\"/>\n    </g>\n    <g clip-path=\"url(#p3cec06982f)\">\n     <use xlink:href=\"#C3_0_a95544fd91\" x=\"55.62959\" y=\"226.228385\" style=\"fill: #fff5f0\"/>\n    </g>\n    <g clip-path=\"url(#p3cec06982f)\">\n     <use xlink:href=\"#C3_0_a95544fd91\" x=\"55.62959\" y=\"214.347394\" style=\"fill: #fff5f0\"/>\n    </g>\n    <g clip-path=\"url(#p3cec06982f)\">\n     <use xlink:href=\"#C3_0_a95544fd91\" x=\"62.480499\" y=\"333.157311\" style=\"fill: #fff5f0\"/>\n    </g>\n    <g clip-path=\"url(#p3cec06982f)\">\n     <use xlink:href=\"#C3_0_a95544fd91\" x=\"62.480499\" y=\"321.276319\" style=\"fill: #fff5f0\"/>\n    </g>\n    <g clip-path=\"url(#p3cec06982f)\">\n     <use xlink:href=\"#C3_0_a95544fd91\" x=\"62.480499\" y=\"309.395327\" style=\"fill: #fff0e9\"/>\n    </g>\n    <g clip-path=\"url(#p3cec06982f)\">\n     <use xlink:href=\"#C3_0_a95544fd91\" x=\"62.480499\" y=\"297.514336\" style=\"fill: #fca082\"/>\n    </g>\n    <g clip-path=\"url(#p3cec06982f)\">\n     <use xlink:href=\"#C3_0_a95544fd91\" x=\"62.480499\" y=\"285.633344\" style=\"fill: #fc8d6d\"/>\n    </g>\n    <g clip-path=\"url(#p3cec06982f)\">\n     <use xlink:href=\"#C3_0_a95544fd91\" x=\"62.480499\" y=\"273.752352\" style=\"fill: #e32f27\"/>\n    </g>\n    <g clip-path=\"url(#p3cec06982f)\">\n     <use xlink:href=\"#C3_0_a95544fd91\" x=\"62.480499\" y=\"261.87136\" style=\"fill: #fed9c9\"/>\n    </g>\n    <g clip-path=\"url(#p3cec06982f)\">\n     <use xlink:href=\"#C3_0_a95544fd91\" x=\"62.480499\" y=\"249.990369\" style=\"fill: #fff5f0\"/>\n    </g>\n    <g clip-path=\"url(#p3cec06982f)\">\n     <use xlink:href=\"#C3_0_a95544fd91\" x=\"62.480499\" y=\"238.109377\" style=\"fill: #fff5f0\"/>\n    </g>\n    <g clip-path=\"url(#p3cec06982f)\">\n     <use xlink:href=\"#C3_0_a95544fd91\" x=\"62.480499\" y=\"226.228385\" style=\"fill: #fff5f0\"/>\n    </g>\n    <g clip-path=\"url(#p3cec06982f)\">\n     <use xlink:href=\"#C3_0_a95544fd91\" x=\"62.480499\" y=\"214.347394\" style=\"fill: #fff5f0\"/>\n    </g>\n    <g clip-path=\"url(#p3cec06982f)\">\n     <use xlink:href=\"#C3_0_a95544fd91\" x=\"69.331409\" y=\"333.157311\" style=\"fill: #fff5f0\"/>\n    </g>\n    <g clip-path=\"url(#p3cec06982f)\">\n     <use xlink:href=\"#C3_0_a95544fd91\" x=\"69.331409\" y=\"321.276319\" style=\"fill: #fff5f0\"/>\n    </g>\n    <g clip-path=\"url(#p3cec06982f)\">\n     <use xlink:href=\"#C3_0_a95544fd91\" x=\"69.331409\" y=\"309.395327\" style=\"fill: #fdd0bc\"/>\n    </g>\n    <g clip-path=\"url(#p3cec06982f)\">\n     <use xlink:href=\"#C3_0_a95544fd91\" x=\"69.331409\" y=\"297.514336\" style=\"fill: #fdd0bc\"/>\n    </g>\n    <g clip-path=\"url(#p3cec06982f)\">\n     <use xlink:href=\"#C3_0_a95544fd91\" x=\"69.331409\" y=\"285.633344\" style=\"fill: #fdc6b0\"/>\n    </g>\n    <g clip-path=\"url(#p3cec06982f)\">\n     <use xlink:href=\"#C3_0_a95544fd91\" x=\"69.331409\" y=\"273.752352\" style=\"fill: #fca082\"/>\n    </g>\n    <g clip-path=\"url(#p3cec06982f)\">\n     <use xlink:href=\"#C3_0_a95544fd91\" x=\"69.331409\" y=\"261.87136\" style=\"fill: #fed9c9\"/>\n    </g>\n    <g clip-path=\"url(#p3cec06982f)\">\n     <use xlink:href=\"#C3_0_a95544fd91\" x=\"69.331409\" y=\"249.990369\" style=\"fill: #fff5f0\"/>\n    </g>\n    <g clip-path=\"url(#p3cec06982f)\">\n     <use xlink:href=\"#C3_0_a95544fd91\" x=\"69.331409\" y=\"238.109377\" style=\"fill: #fff5f0\"/>\n    </g>\n    <g clip-path=\"url(#p3cec06982f)\">\n     <use xlink:href=\"#C3_0_a95544fd91\" x=\"69.331409\" y=\"226.228385\" style=\"fill: #fff5f0\"/>\n    </g>\n    <g clip-path=\"url(#p3cec06982f)\">\n     <use xlink:href=\"#C3_0_a95544fd91\" x=\"69.331409\" y=\"214.347394\" style=\"fill: #fff5f0\"/>\n    </g>\n    <g clip-path=\"url(#p3cec06982f)\">\n     <use xlink:href=\"#C3_0_a95544fd91\" x=\"76.182318\" y=\"333.157311\" style=\"fill: #fff5f0\"/>\n    </g>\n    <g clip-path=\"url(#p3cec06982f)\">\n     <use xlink:href=\"#C3_0_a95544fd91\" x=\"76.182318\" y=\"321.276319\" style=\"fill: #fff5f0\"/>\n    </g>\n    <g clip-path=\"url(#p3cec06982f)\">\n     <use xlink:href=\"#C3_0_a95544fd91\" x=\"76.182318\" y=\"309.395327\" style=\"fill: #fff5f0\"/>\n    </g>\n    <g clip-path=\"url(#p3cec06982f)\">\n     <use xlink:href=\"#C3_0_a95544fd91\" x=\"76.182318\" y=\"297.514336\" style=\"fill: #840711\"/>\n    </g>\n    <g clip-path=\"url(#p3cec06982f)\">\n     <use xlink:href=\"#C3_0_a95544fd91\" x=\"76.182318\" y=\"285.633344\" style=\"fill: #fdd0bc\"/>\n    </g>\n    <g clip-path=\"url(#p3cec06982f)\">\n     <use xlink:href=\"#C3_0_a95544fd91\" x=\"76.182318\" y=\"273.752352\" style=\"fill: #fca082\"/>\n    </g>\n    <g clip-path=\"url(#p3cec06982f)\">\n     <use xlink:href=\"#C3_0_a95544fd91\" x=\"76.182318\" y=\"261.87136\" style=\"fill: #fed9c9\"/>\n    </g>\n    <g clip-path=\"url(#p3cec06982f)\">\n     <use xlink:href=\"#C3_0_a95544fd91\" x=\"76.182318\" y=\"249.990369\" style=\"fill: #fff5f0\"/>\n    </g>\n    <g clip-path=\"url(#p3cec06982f)\">\n     <use xlink:href=\"#C3_0_a95544fd91\" x=\"76.182318\" y=\"238.109377\" style=\"fill: #fff5f0\"/>\n    </g>\n    <g clip-path=\"url(#p3cec06982f)\">\n     <use xlink:href=\"#C3_0_a95544fd91\" x=\"76.182318\" y=\"226.228385\" style=\"fill: #fff5f0\"/>\n    </g>\n    <g clip-path=\"url(#p3cec06982f)\">\n     <use xlink:href=\"#C3_0_a95544fd91\" x=\"76.182318\" y=\"214.347394\" style=\"fill: #fff5f0\"/>\n    </g>\n   </g>\n   <g id=\"matplotlib.axis_7\"/>\n   <g id=\"matplotlib.axis_8\"/>\n   <g id=\"patch_18\">\n    <path d=\"M 7.2 341.42175 \nL 7.2 197.66175 \n\" style=\"fill: none; stroke: #000000; stroke-width: 0.8; stroke-linejoin: miter; stroke-linecap: square\"/>\n   </g>\n   <g id=\"patch_19\">\n    <path d=\"M 157.92 341.42175 \nL 157.92 197.66175 \n\" style=\"fill: none; stroke: #000000; stroke-width: 0.8; stroke-linejoin: miter; stroke-linecap: square\"/>\n   </g>\n   <g id=\"patch_20\">\n    <path d=\"M 7.2 341.42175 \nL 157.92 341.42175 \n\" style=\"fill: none; stroke: #000000; stroke-width: 0.8; stroke-linejoin: miter; stroke-linecap: square\"/>\n   </g>\n   <g id=\"patch_21\">\n    <path d=\"M 7.2 197.66175 \nL 157.92 197.66175 \n\" style=\"fill: none; stroke: #000000; stroke-width: 0.8; stroke-linejoin: miter; stroke-linecap: square\"/>\n   </g>\n   <g id=\"text_4\">\n    <!-- anger -->\n    <g transform=\"translate(61.62375 191.66175) scale(0.144 -0.144)\">\n     <defs>\n      <path id=\"DejaVuSans-67\" d=\"M 2906 1791 \nQ 2906 2416 2648 2759 \nQ 2391 3103 1925 3103 \nQ 1463 3103 1205 2759 \nQ 947 2416 947 1791 \nQ 947 1169 1205 825 \nQ 1463 481 1925 481 \nQ 2391 481 2648 825 \nQ 2906 1169 2906 1791 \nz\nM 3481 434 \nQ 3481 -459 3084 -895 \nQ 2688 -1331 1869 -1331 \nQ 1566 -1331 1297 -1286 \nQ 1028 -1241 775 -1147 \nL 775 -588 \nQ 1028 -725 1275 -790 \nQ 1522 -856 1778 -856 \nQ 2344 -856 2625 -561 \nQ 2906 -266 2906 331 \nL 2906 616 \nQ 2728 306 2450 153 \nQ 2172 0 1784 0 \nQ 1141 0 747 490 \nQ 353 981 353 1791 \nQ 353 2603 747 3093 \nQ 1141 3584 1784 3584 \nQ 2172 3584 2450 3431 \nQ 2728 3278 2906 2969 \nL 2906 3500 \nL 3481 3500 \nL 3481 434 \nz\n\" transform=\"scale(0.015625)\"/>\n      <path id=\"DejaVuSans-72\" d=\"M 2631 2963 \nQ 2534 3019 2420 3045 \nQ 2306 3072 2169 3072 \nQ 1681 3072 1420 2755 \nQ 1159 2438 1159 1844 \nL 1159 0 \nL 581 0 \nL 581 3500 \nL 1159 3500 \nL 1159 2956 \nQ 1341 3275 1631 3429 \nQ 1922 3584 2338 3584 \nQ 2397 3584 2469 3576 \nQ 2541 3569 2628 3553 \nL 2631 2963 \nz\n\" transform=\"scale(0.015625)\"/>\n     </defs>\n     <use xlink:href=\"#DejaVuSans-61\"/>\n     <use xlink:href=\"#DejaVuSans-6e\" x=\"61.279297\"/>\n     <use xlink:href=\"#DejaVuSans-67\" x=\"124.658203\"/>\n     <use xlink:href=\"#DejaVuSans-65\" x=\"188.134766\"/>\n     <use xlink:href=\"#DejaVuSans-72\" x=\"249.658203\"/>\n    </g>\n   </g>\n  </g>\n  <g id=\"axes_5\">\n   <g id=\"patch_22\">\n    <path d=\"M 170.88 341.42175 \nL 321.6 341.42175 \nL 321.6 197.66175 \nL 170.88 197.66175 \nz\n\" style=\"fill: #ffffff\"/>\n   </g>\n   <g id=\"PolyCollection_5\">\n    <defs>\n     <path id=\"C4_0_0ada16b08d\" d=\"M 238.796297 -4.833963 \nL 238.796297 -8.794294 \nL 235.370842 -10.774459 \nL 231.945387 -8.794294 \nL 231.945387 -4.833963 \nL 235.370842 -2.853798 \nz\n\"/>\n    </defs>\n    <g clip-path=\"url(#p24d371fa5a)\">\n     <use xlink:href=\"#C4_0_0ada16b08d\" x=\"-57.639933\" y=\"341.701333\" style=\"fill: #fcfbfd\"/>\n    </g>\n    <g clip-path=\"url(#p24d371fa5a)\">\n     <use xlink:href=\"#C4_0_0ada16b08d\" x=\"-57.639933\" y=\"329.820342\" style=\"fill: #fcfbfd\"/>\n    </g>\n    <g clip-path=\"url(#p24d371fa5a)\">\n     <use xlink:href=\"#C4_0_0ada16b08d\" x=\"-57.639933\" y=\"317.93935\" style=\"fill: #fcfbfd\"/>\n    </g>\n    <g clip-path=\"url(#p24d371fa5a)\">\n     <use xlink:href=\"#C4_0_0ada16b08d\" x=\"-57.639933\" y=\"306.058358\" style=\"fill: #fcfbfd\"/>\n    </g>\n    <g clip-path=\"url(#p24d371fa5a)\">\n     <use xlink:href=\"#C4_0_0ada16b08d\" x=\"-57.639933\" y=\"294.177366\" style=\"fill: #fcfbfd\"/>\n    </g>\n    <g clip-path=\"url(#p24d371fa5a)\">\n     <use xlink:href=\"#C4_0_0ada16b08d\" x=\"-57.639933\" y=\"282.296375\" style=\"fill: #e8e6f2\"/>\n    </g>\n    <g clip-path=\"url(#p24d371fa5a)\">\n     <use xlink:href=\"#C4_0_0ada16b08d\" x=\"-57.639933\" y=\"270.415383\" style=\"fill: #f0eef6\"/>\n    </g>\n    <g clip-path=\"url(#p24d371fa5a)\">\n     <use xlink:href=\"#C4_0_0ada16b08d\" x=\"-57.639933\" y=\"258.534391\" style=\"fill: #fcfbfd\"/>\n    </g>\n    <g clip-path=\"url(#p24d371fa5a)\">\n     <use xlink:href=\"#C4_0_0ada16b08d\" x=\"-57.639933\" y=\"246.653399\" style=\"fill: #fcfbfd\"/>\n    </g>\n    <g clip-path=\"url(#p24d371fa5a)\">\n     <use xlink:href=\"#C4_0_0ada16b08d\" x=\"-57.639933\" y=\"234.772408\" style=\"fill: #fcfbfd\"/>\n    </g>\n    <g clip-path=\"url(#p24d371fa5a)\">\n     <use xlink:href=\"#C4_0_0ada16b08d\" x=\"-57.639933\" y=\"222.891416\" style=\"fill: #fcfbfd\"/>\n    </g>\n    <g clip-path=\"url(#p24d371fa5a)\">\n     <use xlink:href=\"#C4_0_0ada16b08d\" x=\"-57.639933\" y=\"211.010424\" style=\"fill: #fcfbfd\"/>\n    </g>\n    <g clip-path=\"url(#p24d371fa5a)\">\n     <use xlink:href=\"#C4_0_0ada16b08d\" x=\"-50.789024\" y=\"341.701333\" style=\"fill: #fcfbfd\"/>\n    </g>\n    <g clip-path=\"url(#p24d371fa5a)\">\n     <use xlink:href=\"#C4_0_0ada16b08d\" x=\"-50.789024\" y=\"329.820342\" style=\"fill: #fcfbfd\"/>\n    </g>\n    <g clip-path=\"url(#p24d371fa5a)\">\n     <use xlink:href=\"#C4_0_0ada16b08d\" x=\"-50.789024\" y=\"317.93935\" style=\"fill: #fcfbfd\"/>\n    </g>\n    <g clip-path=\"url(#p24d371fa5a)\">\n     <use xlink:href=\"#C4_0_0ada16b08d\" x=\"-50.789024\" y=\"306.058358\" style=\"fill: #d9d9ea\"/>\n    </g>\n    <g clip-path=\"url(#p24d371fa5a)\">\n     <use xlink:href=\"#C4_0_0ada16b08d\" x=\"-50.789024\" y=\"294.177366\" style=\"fill: #c4c5e0\"/>\n    </g>\n    <g clip-path=\"url(#p24d371fa5a)\">\n     <use xlink:href=\"#C4_0_0ada16b08d\" x=\"-50.789024\" y=\"282.296375\" style=\"fill: #afaed4\"/>\n    </g>\n    <g clip-path=\"url(#p24d371fa5a)\">\n     <use xlink:href=\"#C4_0_0ada16b08d\" x=\"-50.789024\" y=\"270.415383\" style=\"fill: #a8a6cf\"/>\n    </g>\n    <g clip-path=\"url(#p24d371fa5a)\">\n     <use xlink:href=\"#C4_0_0ada16b08d\" x=\"-50.789024\" y=\"258.534391\" style=\"fill: #f0eef6\"/>\n    </g>\n    <g clip-path=\"url(#p24d371fa5a)\">\n     <use xlink:href=\"#C4_0_0ada16b08d\" x=\"-50.789024\" y=\"246.653399\" style=\"fill: #fcfbfd\"/>\n    </g>\n    <g clip-path=\"url(#p24d371fa5a)\">\n     <use xlink:href=\"#C4_0_0ada16b08d\" x=\"-50.789024\" y=\"234.772408\" style=\"fill: #fcfbfd\"/>\n    </g>\n    <g clip-path=\"url(#p24d371fa5a)\">\n     <use xlink:href=\"#C4_0_0ada16b08d\" x=\"-50.789024\" y=\"222.891416\" style=\"fill: #fcfbfd\"/>\n    </g>\n    <g clip-path=\"url(#p24d371fa5a)\">\n     <use xlink:href=\"#C4_0_0ada16b08d\" x=\"-50.789024\" y=\"211.010424\" style=\"fill: #fcfbfd\"/>\n    </g>\n    <g clip-path=\"url(#p24d371fa5a)\">\n     <use xlink:href=\"#C4_0_0ada16b08d\" x=\"-43.938115\" y=\"341.701333\" style=\"fill: #fcfbfd\"/>\n    </g>\n    <g clip-path=\"url(#p24d371fa5a)\">\n     <use xlink:href=\"#C4_0_0ada16b08d\" x=\"-43.938115\" y=\"329.820342\" style=\"fill: #fcfbfd\"/>\n    </g>\n    <g clip-path=\"url(#p24d371fa5a)\">\n     <use xlink:href=\"#C4_0_0ada16b08d\" x=\"-43.938115\" y=\"317.93935\" style=\"fill: #d1d2e7\"/>\n    </g>\n    <g clip-path=\"url(#p24d371fa5a)\">\n     <use xlink:href=\"#C4_0_0ada16b08d\" x=\"-43.938115\" y=\"306.058358\" style=\"fill: #d9d9ea\"/>\n    </g>\n    <g clip-path=\"url(#p24d371fa5a)\">\n     <use xlink:href=\"#C4_0_0ada16b08d\" x=\"-43.938115\" y=\"294.177366\" style=\"fill: #8683bd\"/>\n    </g>\n    <g clip-path=\"url(#p24d371fa5a)\">\n     <use xlink:href=\"#C4_0_0ada16b08d\" x=\"-43.938115\" y=\"282.296375\" style=\"fill: #807cba\"/>\n    </g>\n    <g clip-path=\"url(#p24d371fa5a)\">\n     <use xlink:href=\"#C4_0_0ada16b08d\" x=\"-43.938115\" y=\"270.415383\" style=\"fill: #d9d9ea\"/>\n    </g>\n    <g clip-path=\"url(#p24d371fa5a)\">\n     <use xlink:href=\"#C4_0_0ada16b08d\" x=\"-43.938115\" y=\"258.534391\" style=\"fill: #9b97c6\"/>\n    </g>\n    <g clip-path=\"url(#p24d371fa5a)\">\n     <use xlink:href=\"#C4_0_0ada16b08d\" x=\"-43.938115\" y=\"246.653399\" style=\"fill: #fcfbfd\"/>\n    </g>\n    <g clip-path=\"url(#p24d371fa5a)\">\n     <use xlink:href=\"#C4_0_0ada16b08d\" x=\"-43.938115\" y=\"234.772408\" style=\"fill: #fcfbfd\"/>\n    </g>\n    <g clip-path=\"url(#p24d371fa5a)\">\n     <use xlink:href=\"#C4_0_0ada16b08d\" x=\"-43.938115\" y=\"222.891416\" style=\"fill: #fcfbfd\"/>\n    </g>\n    <g clip-path=\"url(#p24d371fa5a)\">\n     <use xlink:href=\"#C4_0_0ada16b08d\" x=\"-43.938115\" y=\"211.010424\" style=\"fill: #fcfbfd\"/>\n    </g>\n    <g clip-path=\"url(#p24d371fa5a)\">\n     <use xlink:href=\"#C4_0_0ada16b08d\" x=\"-37.087206\" y=\"341.701333\" style=\"fill: #fcfbfd\"/>\n    </g>\n    <g clip-path=\"url(#p24d371fa5a)\">\n     <use xlink:href=\"#C4_0_0ada16b08d\" x=\"-37.087206\" y=\"329.820342\" style=\"fill: #fcfbfd\"/>\n    </g>\n    <g clip-path=\"url(#p24d371fa5a)\">\n     <use xlink:href=\"#C4_0_0ada16b08d\" x=\"-37.087206\" y=\"317.93935\" style=\"fill: #ecebf4\"/>\n    </g>\n    <g clip-path=\"url(#p24d371fa5a)\">\n     <use xlink:href=\"#C4_0_0ada16b08d\" x=\"-37.087206\" y=\"306.058358\" style=\"fill: #ecebf4\"/>\n    </g>\n    <g clip-path=\"url(#p24d371fa5a)\">\n     <use xlink:href=\"#C4_0_0ada16b08d\" x=\"-37.087206\" y=\"294.177366\" style=\"fill: #c4c5e0\"/>\n    </g>\n    <g clip-path=\"url(#p24d371fa5a)\">\n     <use xlink:href=\"#C4_0_0ada16b08d\" x=\"-37.087206\" y=\"282.296375\" style=\"fill: #afaed4\"/>\n    </g>\n    <g clip-path=\"url(#p24d371fa5a)\">\n     <use xlink:href=\"#C4_0_0ada16b08d\" x=\"-37.087206\" y=\"270.415383\" style=\"fill: #b6b6d8\"/>\n    </g>\n    <g clip-path=\"url(#p24d371fa5a)\">\n     <use xlink:href=\"#C4_0_0ada16b08d\" x=\"-37.087206\" y=\"258.534391\" style=\"fill: #b6b6d8\"/>\n    </g>\n    <g clip-path=\"url(#p24d371fa5a)\">\n     <use xlink:href=\"#C4_0_0ada16b08d\" x=\"-37.087206\" y=\"246.653399\" style=\"fill: #f9f8fb\"/>\n    </g>\n    <g clip-path=\"url(#p24d371fa5a)\">\n     <use xlink:href=\"#C4_0_0ada16b08d\" x=\"-37.087206\" y=\"234.772408\" style=\"fill: #d1d2e7\"/>\n    </g>\n    <g clip-path=\"url(#p24d371fa5a)\">\n     <use xlink:href=\"#C4_0_0ada16b08d\" x=\"-37.087206\" y=\"222.891416\" style=\"fill: #fcfbfd\"/>\n    </g>\n    <g clip-path=\"url(#p24d371fa5a)\">\n     <use xlink:href=\"#C4_0_0ada16b08d\" x=\"-37.087206\" y=\"211.010424\" style=\"fill: #fcfbfd\"/>\n    </g>\n    <g clip-path=\"url(#p24d371fa5a)\">\n     <use xlink:href=\"#C4_0_0ada16b08d\" x=\"-30.236297\" y=\"341.701333\" style=\"fill: #fcfbfd\"/>\n    </g>\n    <g clip-path=\"url(#p24d371fa5a)\">\n     <use xlink:href=\"#C4_0_0ada16b08d\" x=\"-30.236297\" y=\"329.820342\" style=\"fill: #fcfbfd\"/>\n    </g>\n    <g clip-path=\"url(#p24d371fa5a)\">\n     <use xlink:href=\"#C4_0_0ada16b08d\" x=\"-30.236297\" y=\"317.93935\" style=\"fill: #f0eef6\"/>\n    </g>\n    <g clip-path=\"url(#p24d371fa5a)\">\n     <use xlink:href=\"#C4_0_0ada16b08d\" x=\"-30.236297\" y=\"306.058358\" style=\"fill: #d1d2e7\"/>\n    </g>\n    <g clip-path=\"url(#p24d371fa5a)\">\n     <use xlink:href=\"#C4_0_0ada16b08d\" x=\"-30.236297\" y=\"294.177366\" style=\"fill: #cbcbe3\"/>\n    </g>\n    <g clip-path=\"url(#p24d371fa5a)\">\n     <use xlink:href=\"#C4_0_0ada16b08d\" x=\"-30.236297\" y=\"282.296375\" style=\"fill: #9b97c6\"/>\n    </g>\n    <g clip-path=\"url(#p24d371fa5a)\">\n     <use xlink:href=\"#C4_0_0ada16b08d\" x=\"-30.236297\" y=\"270.415383\" style=\"fill: #7567af\"/>\n    </g>\n    <g clip-path=\"url(#p24d371fa5a)\">\n     <use xlink:href=\"#C4_0_0ada16b08d\" x=\"-30.236297\" y=\"258.534391\" style=\"fill: #b6b6d8\"/>\n    </g>\n    <g clip-path=\"url(#p24d371fa5a)\">\n     <use xlink:href=\"#C4_0_0ada16b08d\" x=\"-30.236297\" y=\"246.653399\" style=\"fill: #ecebf4\"/>\n    </g>\n    <g clip-path=\"url(#p24d371fa5a)\">\n     <use xlink:href=\"#C4_0_0ada16b08d\" x=\"-30.236297\" y=\"234.772408\" style=\"fill: #f3f2f8\"/>\n    </g>\n    <g clip-path=\"url(#p24d371fa5a)\">\n     <use xlink:href=\"#C4_0_0ada16b08d\" x=\"-30.236297\" y=\"222.891416\" style=\"fill: #d9d9ea\"/>\n    </g>\n    <g clip-path=\"url(#p24d371fa5a)\">\n     <use xlink:href=\"#C4_0_0ada16b08d\" x=\"-30.236297\" y=\"211.010424\" style=\"fill: #fcfbfd\"/>\n    </g>\n    <g clip-path=\"url(#p24d371fa5a)\">\n     <use xlink:href=\"#C4_0_0ada16b08d\" x=\"-23.385387\" y=\"341.701333\" style=\"fill: #fcfbfd\"/>\n    </g>\n    <g clip-path=\"url(#p24d371fa5a)\">\n     <use xlink:href=\"#C4_0_0ada16b08d\" x=\"-23.385387\" y=\"329.820342\" style=\"fill: #f0eef6\"/>\n    </g>\n    <g clip-path=\"url(#p24d371fa5a)\">\n     <use xlink:href=\"#C4_0_0ada16b08d\" x=\"-23.385387\" y=\"317.93935\" style=\"fill: #f3f2f8\"/>\n    </g>\n    <g clip-path=\"url(#p24d371fa5a)\">\n     <use xlink:href=\"#C4_0_0ada16b08d\" x=\"-23.385387\" y=\"306.058358\" style=\"fill: #f6f5f9\"/>\n    </g>\n    <g clip-path=\"url(#p24d371fa5a)\">\n     <use xlink:href=\"#C4_0_0ada16b08d\" x=\"-23.385387\" y=\"294.177366\" style=\"fill: #bdbedc\"/>\n    </g>\n    <g clip-path=\"url(#p24d371fa5a)\">\n     <use xlink:href=\"#C4_0_0ada16b08d\" x=\"-23.385387\" y=\"282.296375\" style=\"fill: #b6b6d8\"/>\n    </g>\n    <g clip-path=\"url(#p24d371fa5a)\">\n     <use xlink:href=\"#C4_0_0ada16b08d\" x=\"-23.385387\" y=\"270.415383\" style=\"fill: #a19eca\"/>\n    </g>\n    <g clip-path=\"url(#p24d371fa5a)\">\n     <use xlink:href=\"#C4_0_0ada16b08d\" x=\"-23.385387\" y=\"258.534391\" style=\"fill: #bdbedc\"/>\n    </g>\n    <g clip-path=\"url(#p24d371fa5a)\">\n     <use xlink:href=\"#C4_0_0ada16b08d\" x=\"-23.385387\" y=\"246.653399\" style=\"fill: #e8e6f2\"/>\n    </g>\n    <g clip-path=\"url(#p24d371fa5a)\">\n     <use xlink:href=\"#C4_0_0ada16b08d\" x=\"-23.385387\" y=\"234.772408\" style=\"fill: #e2e2ef\"/>\n    </g>\n    <g clip-path=\"url(#p24d371fa5a)\">\n     <use xlink:href=\"#C4_0_0ada16b08d\" x=\"-23.385387\" y=\"222.891416\" style=\"fill: #a19eca\"/>\n    </g>\n    <g clip-path=\"url(#p24d371fa5a)\">\n     <use xlink:href=\"#C4_0_0ada16b08d\" x=\"-23.385387\" y=\"211.010424\" style=\"fill: #e2e2ef\"/>\n    </g>\n    <g clip-path=\"url(#p24d371fa5a)\">\n     <use xlink:href=\"#C4_0_0ada16b08d\" x=\"-16.534478\" y=\"341.701333\" style=\"fill: #fcfbfd\"/>\n    </g>\n    <g clip-path=\"url(#p24d371fa5a)\">\n     <use xlink:href=\"#C4_0_0ada16b08d\" x=\"-16.534478\" y=\"329.820342\" style=\"fill: #fcfbfd\"/>\n    </g>\n    <g clip-path=\"url(#p24d371fa5a)\">\n     <use xlink:href=\"#C4_0_0ada16b08d\" x=\"-16.534478\" y=\"317.93935\" style=\"fill: #e8e6f2\"/>\n    </g>\n    <g clip-path=\"url(#p24d371fa5a)\">\n     <use xlink:href=\"#C4_0_0ada16b08d\" x=\"-16.534478\" y=\"306.058358\" style=\"fill: #e8e6f2\"/>\n    </g>\n    <g clip-path=\"url(#p24d371fa5a)\">\n     <use xlink:href=\"#C4_0_0ada16b08d\" x=\"-16.534478\" y=\"294.177366\" style=\"fill: #d1d2e7\"/>\n    </g>\n    <g clip-path=\"url(#p24d371fa5a)\">\n     <use xlink:href=\"#C4_0_0ada16b08d\" x=\"-16.534478\" y=\"282.296375\" style=\"fill: #afaed4\"/>\n    </g>\n    <g clip-path=\"url(#p24d371fa5a)\">\n     <use xlink:href=\"#C4_0_0ada16b08d\" x=\"-16.534478\" y=\"270.415383\" style=\"fill: #afaed4\"/>\n    </g>\n    <g clip-path=\"url(#p24d371fa5a)\">\n     <use xlink:href=\"#C4_0_0ada16b08d\" x=\"-16.534478\" y=\"258.534391\" style=\"fill: #dedded\"/>\n    </g>\n    <g clip-path=\"url(#p24d371fa5a)\">\n     <use xlink:href=\"#C4_0_0ada16b08d\" x=\"-16.534478\" y=\"246.653399\" style=\"fill: #e2e2ef\"/>\n    </g>\n    <g clip-path=\"url(#p24d371fa5a)\">\n     <use xlink:href=\"#C4_0_0ada16b08d\" x=\"-16.534478\" y=\"234.772408\" style=\"fill: #afaed4\"/>\n    </g>\n    <g clip-path=\"url(#p24d371fa5a)\">\n     <use xlink:href=\"#C4_0_0ada16b08d\" x=\"-16.534478\" y=\"222.891416\" style=\"fill: #3f007d\"/>\n    </g>\n    <g clip-path=\"url(#p24d371fa5a)\">\n     <use xlink:href=\"#C4_0_0ada16b08d\" x=\"-16.534478\" y=\"211.010424\" style=\"fill: #f6f5f9\"/>\n    </g>\n    <g clip-path=\"url(#p24d371fa5a)\">\n     <use xlink:href=\"#C4_0_0ada16b08d\" x=\"-9.683569\" y=\"341.701333\" style=\"fill: #fcfbfd\"/>\n    </g>\n    <g clip-path=\"url(#p24d371fa5a)\">\n     <use xlink:href=\"#C4_0_0ada16b08d\" x=\"-9.683569\" y=\"329.820342\" style=\"fill: #f9f8fb\"/>\n    </g>\n    <g clip-path=\"url(#p24d371fa5a)\">\n     <use xlink:href=\"#C4_0_0ada16b08d\" x=\"-9.683569\" y=\"317.93935\" style=\"fill: #fcfbfd\"/>\n    </g>\n    <g clip-path=\"url(#p24d371fa5a)\">\n     <use xlink:href=\"#C4_0_0ada16b08d\" x=\"-9.683569\" y=\"306.058358\" style=\"fill: #ecebf4\"/>\n    </g>\n    <g clip-path=\"url(#p24d371fa5a)\">\n     <use xlink:href=\"#C4_0_0ada16b08d\" x=\"-9.683569\" y=\"294.177366\" style=\"fill: #e8e6f2\"/>\n    </g>\n    <g clip-path=\"url(#p24d371fa5a)\">\n     <use xlink:href=\"#C4_0_0ada16b08d\" x=\"-9.683569\" y=\"282.296375\" style=\"fill: #dedded\"/>\n    </g>\n    <g clip-path=\"url(#p24d371fa5a)\">\n     <use xlink:href=\"#C4_0_0ada16b08d\" x=\"-9.683569\" y=\"270.415383\" style=\"fill: #e8e6f2\"/>\n    </g>\n    <g clip-path=\"url(#p24d371fa5a)\">\n     <use xlink:href=\"#C4_0_0ada16b08d\" x=\"-9.683569\" y=\"258.534391\" style=\"fill: #dedded\"/>\n    </g>\n    <g clip-path=\"url(#p24d371fa5a)\">\n     <use xlink:href=\"#C4_0_0ada16b08d\" x=\"-9.683569\" y=\"246.653399\" style=\"fill: #f3f2f8\"/>\n    </g>\n    <g clip-path=\"url(#p24d371fa5a)\">\n     <use xlink:href=\"#C4_0_0ada16b08d\" x=\"-9.683569\" y=\"234.772408\" style=\"fill: #572c92\"/>\n    </g>\n    <g clip-path=\"url(#p24d371fa5a)\">\n     <use xlink:href=\"#C4_0_0ada16b08d\" x=\"-9.683569\" y=\"222.891416\" style=\"fill: #a8a6cf\"/>\n    </g>\n    <g clip-path=\"url(#p24d371fa5a)\">\n     <use xlink:href=\"#C4_0_0ada16b08d\" x=\"-9.683569\" y=\"211.010424\" style=\"fill: #fcfbfd\"/>\n    </g>\n    <g clip-path=\"url(#p24d371fa5a)\">\n     <use xlink:href=\"#C4_0_0ada16b08d\" x=\"-2.83266\" y=\"341.701333\" style=\"fill: #fcfbfd\"/>\n    </g>\n    <g clip-path=\"url(#p24d371fa5a)\">\n     <use xlink:href=\"#C4_0_0ada16b08d\" x=\"-2.83266\" y=\"329.820342\" style=\"fill: #f9f8fb\"/>\n    </g>\n    <g clip-path=\"url(#p24d371fa5a)\">\n     <use xlink:href=\"#C4_0_0ada16b08d\" x=\"-2.83266\" y=\"317.93935\" style=\"fill: #fcfbfd\"/>\n    </g>\n    <g clip-path=\"url(#p24d371fa5a)\">\n     <use xlink:href=\"#C4_0_0ada16b08d\" x=\"-2.83266\" y=\"306.058358\" style=\"fill: #e8e6f2\"/>\n    </g>\n    <g clip-path=\"url(#p24d371fa5a)\">\n     <use xlink:href=\"#C4_0_0ada16b08d\" x=\"-2.83266\" y=\"294.177366\" style=\"fill: #cbcbe3\"/>\n    </g>\n    <g clip-path=\"url(#p24d371fa5a)\">\n     <use xlink:href=\"#C4_0_0ada16b08d\" x=\"-2.83266\" y=\"282.296375\" style=\"fill: #f0eef6\"/>\n    </g>\n    <g clip-path=\"url(#p24d371fa5a)\">\n     <use xlink:href=\"#C4_0_0ada16b08d\" x=\"-2.83266\" y=\"270.415383\" style=\"fill: #d9d9ea\"/>\n    </g>\n    <g clip-path=\"url(#p24d371fa5a)\">\n     <use xlink:href=\"#C4_0_0ada16b08d\" x=\"-2.83266\" y=\"258.534391\" style=\"fill: #dedded\"/>\n    </g>\n    <g clip-path=\"url(#p24d371fa5a)\">\n     <use xlink:href=\"#C4_0_0ada16b08d\" x=\"-2.83266\" y=\"246.653399\" style=\"fill: #f3f2f8\"/>\n    </g>\n    <g clip-path=\"url(#p24d371fa5a)\">\n     <use xlink:href=\"#C4_0_0ada16b08d\" x=\"-2.83266\" y=\"234.772408\" style=\"fill: #f6f5f9\"/>\n    </g>\n    <g clip-path=\"url(#p24d371fa5a)\">\n     <use xlink:href=\"#C4_0_0ada16b08d\" x=\"-2.83266\" y=\"222.891416\" style=\"fill: #fcfbfd\"/>\n    </g>\n    <g clip-path=\"url(#p24d371fa5a)\">\n     <use xlink:href=\"#C4_0_0ada16b08d\" x=\"-2.83266\" y=\"211.010424\" style=\"fill: #fcfbfd\"/>\n    </g>\n    <g clip-path=\"url(#p24d371fa5a)\">\n     <use xlink:href=\"#C4_0_0ada16b08d\" x=\"4.018249\" y=\"341.701333\" style=\"fill: #f3f2f8\"/>\n    </g>\n    <g clip-path=\"url(#p24d371fa5a)\">\n     <use xlink:href=\"#C4_0_0ada16b08d\" x=\"4.018249\" y=\"329.820342\" style=\"fill: #e2e2ef\"/>\n    </g>\n    <g clip-path=\"url(#p24d371fa5a)\">\n     <use xlink:href=\"#C4_0_0ada16b08d\" x=\"4.018249\" y=\"317.93935\" style=\"fill: #f3f2f8\"/>\n    </g>\n    <g clip-path=\"url(#p24d371fa5a)\">\n     <use xlink:href=\"#C4_0_0ada16b08d\" x=\"4.018249\" y=\"306.058358\" style=\"fill: #f0eef6\"/>\n    </g>\n    <g clip-path=\"url(#p24d371fa5a)\">\n     <use xlink:href=\"#C4_0_0ada16b08d\" x=\"4.018249\" y=\"294.177366\" style=\"fill: #dedded\"/>\n    </g>\n    <g clip-path=\"url(#p24d371fa5a)\">\n     <use xlink:href=\"#C4_0_0ada16b08d\" x=\"4.018249\" y=\"282.296375\" style=\"fill: #f9f8fb\"/>\n    </g>\n    <g clip-path=\"url(#p24d371fa5a)\">\n     <use xlink:href=\"#C4_0_0ada16b08d\" x=\"4.018249\" y=\"270.415383\" style=\"fill: #e2e2ef\"/>\n    </g>\n    <g clip-path=\"url(#p24d371fa5a)\">\n     <use xlink:href=\"#C4_0_0ada16b08d\" x=\"4.018249\" y=\"258.534391\" style=\"fill: #f3f2f8\"/>\n    </g>\n    <g clip-path=\"url(#p24d371fa5a)\">\n     <use xlink:href=\"#C4_0_0ada16b08d\" x=\"4.018249\" y=\"246.653399\" style=\"fill: #fcfbfd\"/>\n    </g>\n    <g clip-path=\"url(#p24d371fa5a)\">\n     <use xlink:href=\"#C4_0_0ada16b08d\" x=\"4.018249\" y=\"234.772408\" style=\"fill: #fcfbfd\"/>\n    </g>\n    <g clip-path=\"url(#p24d371fa5a)\">\n     <use xlink:href=\"#C4_0_0ada16b08d\" x=\"4.018249\" y=\"222.891416\" style=\"fill: #fcfbfd\"/>\n    </g>\n    <g clip-path=\"url(#p24d371fa5a)\">\n     <use xlink:href=\"#C4_0_0ada16b08d\" x=\"4.018249\" y=\"211.010424\" style=\"fill: #fcfbfd\"/>\n    </g>\n    <g clip-path=\"url(#p24d371fa5a)\">\n     <use xlink:href=\"#C4_0_0ada16b08d\" x=\"10.869158\" y=\"341.701333\" style=\"fill: #fcfbfd\"/>\n    </g>\n    <g clip-path=\"url(#p24d371fa5a)\">\n     <use xlink:href=\"#C4_0_0ada16b08d\" x=\"10.869158\" y=\"329.820342\" style=\"fill: #fcfbfd\"/>\n    </g>\n    <g clip-path=\"url(#p24d371fa5a)\">\n     <use xlink:href=\"#C4_0_0ada16b08d\" x=\"10.869158\" y=\"317.93935\" style=\"fill: #f9f8fb\"/>\n    </g>\n    <g clip-path=\"url(#p24d371fa5a)\">\n     <use xlink:href=\"#C4_0_0ada16b08d\" x=\"10.869158\" y=\"306.058358\" style=\"fill: #f9f8fb\"/>\n    </g>\n    <g clip-path=\"url(#p24d371fa5a)\">\n     <use xlink:href=\"#C4_0_0ada16b08d\" x=\"10.869158\" y=\"294.177366\" style=\"fill: #f6f5f9\"/>\n    </g>\n    <g clip-path=\"url(#p24d371fa5a)\">\n     <use xlink:href=\"#C4_0_0ada16b08d\" x=\"10.869158\" y=\"282.296375\" style=\"fill: #fcfbfd\"/>\n    </g>\n    <g clip-path=\"url(#p24d371fa5a)\">\n     <use xlink:href=\"#C4_0_0ada16b08d\" x=\"10.869158\" y=\"270.415383\" style=\"fill: #fcfbfd\"/>\n    </g>\n    <g clip-path=\"url(#p24d371fa5a)\">\n     <use xlink:href=\"#C4_0_0ada16b08d\" x=\"10.869158\" y=\"258.534391\" style=\"fill: #fcfbfd\"/>\n    </g>\n    <g clip-path=\"url(#p24d371fa5a)\">\n     <use xlink:href=\"#C4_0_0ada16b08d\" x=\"10.869158\" y=\"246.653399\" style=\"fill: #fcfbfd\"/>\n    </g>\n    <g clip-path=\"url(#p24d371fa5a)\">\n     <use xlink:href=\"#C4_0_0ada16b08d\" x=\"10.869158\" y=\"234.772408\" style=\"fill: #fcfbfd\"/>\n    </g>\n    <g clip-path=\"url(#p24d371fa5a)\">\n     <use xlink:href=\"#C4_0_0ada16b08d\" x=\"10.869158\" y=\"222.891416\" style=\"fill: #fcfbfd\"/>\n    </g>\n    <g clip-path=\"url(#p24d371fa5a)\">\n     <use xlink:href=\"#C4_0_0ada16b08d\" x=\"10.869158\" y=\"211.010424\" style=\"fill: #fcfbfd\"/>\n    </g>\n    <g clip-path=\"url(#p24d371fa5a)\">\n     <use xlink:href=\"#C4_0_0ada16b08d\" x=\"17.720067\" y=\"341.701333\" style=\"fill: #fcfbfd\"/>\n    </g>\n    <g clip-path=\"url(#p24d371fa5a)\">\n     <use xlink:href=\"#C4_0_0ada16b08d\" x=\"17.720067\" y=\"329.820342\" style=\"fill: #fcfbfd\"/>\n    </g>\n    <g clip-path=\"url(#p24d371fa5a)\">\n     <use xlink:href=\"#C4_0_0ada16b08d\" x=\"17.720067\" y=\"317.93935\" style=\"fill: #f9f8fb\"/>\n    </g>\n    <g clip-path=\"url(#p24d371fa5a)\">\n     <use xlink:href=\"#C4_0_0ada16b08d\" x=\"17.720067\" y=\"306.058358\" style=\"fill: #fcfbfd\"/>\n    </g>\n    <g clip-path=\"url(#p24d371fa5a)\">\n     <use xlink:href=\"#C4_0_0ada16b08d\" x=\"17.720067\" y=\"294.177366\" style=\"fill: #f9f8fb\"/>\n    </g>\n    <g clip-path=\"url(#p24d371fa5a)\">\n     <use xlink:href=\"#C4_0_0ada16b08d\" x=\"17.720067\" y=\"282.296375\" style=\"fill: #fcfbfd\"/>\n    </g>\n    <g clip-path=\"url(#p24d371fa5a)\">\n     <use xlink:href=\"#C4_0_0ada16b08d\" x=\"17.720067\" y=\"270.415383\" style=\"fill: #fcfbfd\"/>\n    </g>\n    <g clip-path=\"url(#p24d371fa5a)\">\n     <use xlink:href=\"#C4_0_0ada16b08d\" x=\"17.720067\" y=\"258.534391\" style=\"fill: #fcfbfd\"/>\n    </g>\n    <g clip-path=\"url(#p24d371fa5a)\">\n     <use xlink:href=\"#C4_0_0ada16b08d\" x=\"17.720067\" y=\"246.653399\" style=\"fill: #fcfbfd\"/>\n    </g>\n    <g clip-path=\"url(#p24d371fa5a)\">\n     <use xlink:href=\"#C4_0_0ada16b08d\" x=\"17.720067\" y=\"234.772408\" style=\"fill: #fcfbfd\"/>\n    </g>\n    <g clip-path=\"url(#p24d371fa5a)\">\n     <use xlink:href=\"#C4_0_0ada16b08d\" x=\"17.720067\" y=\"222.891416\" style=\"fill: #fcfbfd\"/>\n    </g>\n    <g clip-path=\"url(#p24d371fa5a)\">\n     <use xlink:href=\"#C4_0_0ada16b08d\" x=\"17.720067\" y=\"211.010424\" style=\"fill: #fcfbfd\"/>\n    </g>\n    <g clip-path=\"url(#p24d371fa5a)\">\n     <use xlink:href=\"#C4_0_0ada16b08d\" x=\"24.570976\" y=\"341.701333\" style=\"fill: #fcfbfd\"/>\n    </g>\n    <g clip-path=\"url(#p24d371fa5a)\">\n     <use xlink:href=\"#C4_0_0ada16b08d\" x=\"24.570976\" y=\"329.820342\" style=\"fill: #fcfbfd\"/>\n    </g>\n    <g clip-path=\"url(#p24d371fa5a)\">\n     <use xlink:href=\"#C4_0_0ada16b08d\" x=\"24.570976\" y=\"317.93935\" style=\"fill: #fcfbfd\"/>\n    </g>\n    <g clip-path=\"url(#p24d371fa5a)\">\n     <use xlink:href=\"#C4_0_0ada16b08d\" x=\"24.570976\" y=\"306.058358\" style=\"fill: #f9f8fb\"/>\n    </g>\n    <g clip-path=\"url(#p24d371fa5a)\">\n     <use xlink:href=\"#C4_0_0ada16b08d\" x=\"24.570976\" y=\"294.177366\" style=\"fill: #fcfbfd\"/>\n    </g>\n    <g clip-path=\"url(#p24d371fa5a)\">\n     <use xlink:href=\"#C4_0_0ada16b08d\" x=\"24.570976\" y=\"282.296375\" style=\"fill: #fcfbfd\"/>\n    </g>\n    <g clip-path=\"url(#p24d371fa5a)\">\n     <use xlink:href=\"#C4_0_0ada16b08d\" x=\"24.570976\" y=\"270.415383\" style=\"fill: #fcfbfd\"/>\n    </g>\n    <g clip-path=\"url(#p24d371fa5a)\">\n     <use xlink:href=\"#C4_0_0ada16b08d\" x=\"24.570976\" y=\"258.534391\" style=\"fill: #fcfbfd\"/>\n    </g>\n    <g clip-path=\"url(#p24d371fa5a)\">\n     <use xlink:href=\"#C4_0_0ada16b08d\" x=\"24.570976\" y=\"246.653399\" style=\"fill: #fcfbfd\"/>\n    </g>\n    <g clip-path=\"url(#p24d371fa5a)\">\n     <use xlink:href=\"#C4_0_0ada16b08d\" x=\"24.570976\" y=\"234.772408\" style=\"fill: #fcfbfd\"/>\n    </g>\n    <g clip-path=\"url(#p24d371fa5a)\">\n     <use xlink:href=\"#C4_0_0ada16b08d\" x=\"24.570976\" y=\"222.891416\" style=\"fill: #fcfbfd\"/>\n    </g>\n    <g clip-path=\"url(#p24d371fa5a)\">\n     <use xlink:href=\"#C4_0_0ada16b08d\" x=\"24.570976\" y=\"211.010424\" style=\"fill: #fcfbfd\"/>\n    </g>\n    <g clip-path=\"url(#p24d371fa5a)\">\n     <use xlink:href=\"#C4_0_0ada16b08d\" x=\"31.421885\" y=\"341.701333\" style=\"fill: #fcfbfd\"/>\n    </g>\n    <g clip-path=\"url(#p24d371fa5a)\">\n     <use xlink:href=\"#C4_0_0ada16b08d\" x=\"31.421885\" y=\"329.820342\" style=\"fill: #fcfbfd\"/>\n    </g>\n    <g clip-path=\"url(#p24d371fa5a)\">\n     <use xlink:href=\"#C4_0_0ada16b08d\" x=\"31.421885\" y=\"317.93935\" style=\"fill: #fcfbfd\"/>\n    </g>\n    <g clip-path=\"url(#p24d371fa5a)\">\n     <use xlink:href=\"#C4_0_0ada16b08d\" x=\"31.421885\" y=\"306.058358\" style=\"fill: #fcfbfd\"/>\n    </g>\n    <g clip-path=\"url(#p24d371fa5a)\">\n     <use xlink:href=\"#C4_0_0ada16b08d\" x=\"31.421885\" y=\"294.177366\" style=\"fill: #fcfbfd\"/>\n    </g>\n    <g clip-path=\"url(#p24d371fa5a)\">\n     <use xlink:href=\"#C4_0_0ada16b08d\" x=\"31.421885\" y=\"282.296375\" style=\"fill: #fcfbfd\"/>\n    </g>\n    <g clip-path=\"url(#p24d371fa5a)\">\n     <use xlink:href=\"#C4_0_0ada16b08d\" x=\"31.421885\" y=\"270.415383\" style=\"fill: #fcfbfd\"/>\n    </g>\n    <g clip-path=\"url(#p24d371fa5a)\">\n     <use xlink:href=\"#C4_0_0ada16b08d\" x=\"31.421885\" y=\"258.534391\" style=\"fill: #fcfbfd\"/>\n    </g>\n    <g clip-path=\"url(#p24d371fa5a)\">\n     <use xlink:href=\"#C4_0_0ada16b08d\" x=\"31.421885\" y=\"246.653399\" style=\"fill: #fcfbfd\"/>\n    </g>\n    <g clip-path=\"url(#p24d371fa5a)\">\n     <use xlink:href=\"#C4_0_0ada16b08d\" x=\"31.421885\" y=\"234.772408\" style=\"fill: #fcfbfd\"/>\n    </g>\n    <g clip-path=\"url(#p24d371fa5a)\">\n     <use xlink:href=\"#C4_0_0ada16b08d\" x=\"31.421885\" y=\"222.891416\" style=\"fill: #fcfbfd\"/>\n    </g>\n    <g clip-path=\"url(#p24d371fa5a)\">\n     <use xlink:href=\"#C4_0_0ada16b08d\" x=\"31.421885\" y=\"211.010424\" style=\"fill: #fcfbfd\"/>\n    </g>\n    <g clip-path=\"url(#p24d371fa5a)\">\n     <use xlink:href=\"#C4_0_0ada16b08d\" x=\"38.272794\" y=\"341.701333\" style=\"fill: #fcfbfd\"/>\n    </g>\n    <g clip-path=\"url(#p24d371fa5a)\">\n     <use xlink:href=\"#C4_0_0ada16b08d\" x=\"38.272794\" y=\"329.820342\" style=\"fill: #fcfbfd\"/>\n    </g>\n    <g clip-path=\"url(#p24d371fa5a)\">\n     <use xlink:href=\"#C4_0_0ada16b08d\" x=\"38.272794\" y=\"317.93935\" style=\"fill: #fcfbfd\"/>\n    </g>\n    <g clip-path=\"url(#p24d371fa5a)\">\n     <use xlink:href=\"#C4_0_0ada16b08d\" x=\"38.272794\" y=\"306.058358\" style=\"fill: #fcfbfd\"/>\n    </g>\n    <g clip-path=\"url(#p24d371fa5a)\">\n     <use xlink:href=\"#C4_0_0ada16b08d\" x=\"38.272794\" y=\"294.177366\" style=\"fill: #fcfbfd\"/>\n    </g>\n    <g clip-path=\"url(#p24d371fa5a)\">\n     <use xlink:href=\"#C4_0_0ada16b08d\" x=\"38.272794\" y=\"282.296375\" style=\"fill: #fcfbfd\"/>\n    </g>\n    <g clip-path=\"url(#p24d371fa5a)\">\n     <use xlink:href=\"#C4_0_0ada16b08d\" x=\"38.272794\" y=\"270.415383\" style=\"fill: #fcfbfd\"/>\n    </g>\n    <g clip-path=\"url(#p24d371fa5a)\">\n     <use xlink:href=\"#C4_0_0ada16b08d\" x=\"38.272794\" y=\"258.534391\" style=\"fill: #fcfbfd\"/>\n    </g>\n    <g clip-path=\"url(#p24d371fa5a)\">\n     <use xlink:href=\"#C4_0_0ada16b08d\" x=\"38.272794\" y=\"246.653399\" style=\"fill: #fcfbfd\"/>\n    </g>\n    <g clip-path=\"url(#p24d371fa5a)\">\n     <use xlink:href=\"#C4_0_0ada16b08d\" x=\"38.272794\" y=\"234.772408\" style=\"fill: #fcfbfd\"/>\n    </g>\n    <g clip-path=\"url(#p24d371fa5a)\">\n     <use xlink:href=\"#C4_0_0ada16b08d\" x=\"38.272794\" y=\"222.891416\" style=\"fill: #fcfbfd\"/>\n    </g>\n    <g clip-path=\"url(#p24d371fa5a)\">\n     <use xlink:href=\"#C4_0_0ada16b08d\" x=\"38.272794\" y=\"211.010424\" style=\"fill: #fcfbfd\"/>\n    </g>\n    <g clip-path=\"url(#p24d371fa5a)\">\n     <use xlink:href=\"#C4_0_0ada16b08d\" x=\"45.123703\" y=\"341.701333\" style=\"fill: #fcfbfd\"/>\n    </g>\n    <g clip-path=\"url(#p24d371fa5a)\">\n     <use xlink:href=\"#C4_0_0ada16b08d\" x=\"45.123703\" y=\"329.820342\" style=\"fill: #fcfbfd\"/>\n    </g>\n    <g clip-path=\"url(#p24d371fa5a)\">\n     <use xlink:href=\"#C4_0_0ada16b08d\" x=\"45.123703\" y=\"317.93935\" style=\"fill: #fcfbfd\"/>\n    </g>\n    <g clip-path=\"url(#p24d371fa5a)\">\n     <use xlink:href=\"#C4_0_0ada16b08d\" x=\"45.123703\" y=\"306.058358\" style=\"fill: #fcfbfd\"/>\n    </g>\n    <g clip-path=\"url(#p24d371fa5a)\">\n     <use xlink:href=\"#C4_0_0ada16b08d\" x=\"45.123703\" y=\"294.177366\" style=\"fill: #f9f8fb\"/>\n    </g>\n    <g clip-path=\"url(#p24d371fa5a)\">\n     <use xlink:href=\"#C4_0_0ada16b08d\" x=\"45.123703\" y=\"282.296375\" style=\"fill: #f6f5f9\"/>\n    </g>\n    <g clip-path=\"url(#p24d371fa5a)\">\n     <use xlink:href=\"#C4_0_0ada16b08d\" x=\"45.123703\" y=\"270.415383\" style=\"fill: #d9d9ea\"/>\n    </g>\n    <g clip-path=\"url(#p24d371fa5a)\">\n     <use xlink:href=\"#C4_0_0ada16b08d\" x=\"45.123703\" y=\"258.534391\" style=\"fill: #dedded\"/>\n    </g>\n    <g clip-path=\"url(#p24d371fa5a)\">\n     <use xlink:href=\"#C4_0_0ada16b08d\" x=\"45.123703\" y=\"246.653399\" style=\"fill: #dedded\"/>\n    </g>\n    <g clip-path=\"url(#p24d371fa5a)\">\n     <use xlink:href=\"#C4_0_0ada16b08d\" x=\"45.123703\" y=\"234.772408\" style=\"fill: #fcfbfd\"/>\n    </g>\n    <g clip-path=\"url(#p24d371fa5a)\">\n     <use xlink:href=\"#C4_0_0ada16b08d\" x=\"45.123703\" y=\"222.891416\" style=\"fill: #fcfbfd\"/>\n    </g>\n    <g clip-path=\"url(#p24d371fa5a)\">\n     <use xlink:href=\"#C4_0_0ada16b08d\" x=\"45.123703\" y=\"211.010424\" style=\"fill: #fcfbfd\"/>\n    </g>\n    <g clip-path=\"url(#p24d371fa5a)\">\n     <use xlink:href=\"#C4_0_0ada16b08d\" x=\"51.974613\" y=\"341.701333\" style=\"fill: #fcfbfd\"/>\n    </g>\n    <g clip-path=\"url(#p24d371fa5a)\">\n     <use xlink:href=\"#C4_0_0ada16b08d\" x=\"51.974613\" y=\"329.820342\" style=\"fill: #fcfbfd\"/>\n    </g>\n    <g clip-path=\"url(#p24d371fa5a)\">\n     <use xlink:href=\"#C4_0_0ada16b08d\" x=\"51.974613\" y=\"317.93935\" style=\"fill: #fcfbfd\"/>\n    </g>\n    <g clip-path=\"url(#p24d371fa5a)\">\n     <use xlink:href=\"#C4_0_0ada16b08d\" x=\"51.974613\" y=\"306.058358\" style=\"fill: #f9f8fb\"/>\n    </g>\n    <g clip-path=\"url(#p24d371fa5a)\">\n     <use xlink:href=\"#C4_0_0ada16b08d\" x=\"51.974613\" y=\"294.177366\" style=\"fill: #e8e6f2\"/>\n    </g>\n    <g clip-path=\"url(#p24d371fa5a)\">\n     <use xlink:href=\"#C4_0_0ada16b08d\" x=\"51.974613\" y=\"282.296375\" style=\"fill: #afaed4\"/>\n    </g>\n    <g clip-path=\"url(#p24d371fa5a)\">\n     <use xlink:href=\"#C4_0_0ada16b08d\" x=\"51.974613\" y=\"270.415383\" style=\"fill: #f0eef6\"/>\n    </g>\n    <g clip-path=\"url(#p24d371fa5a)\">\n     <use xlink:href=\"#C4_0_0ada16b08d\" x=\"51.974613\" y=\"258.534391\" style=\"fill: #807cba\"/>\n    </g>\n    <g clip-path=\"url(#p24d371fa5a)\">\n     <use xlink:href=\"#C4_0_0ada16b08d\" x=\"51.974613\" y=\"246.653399\" style=\"fill: #f9f8fb\"/>\n    </g>\n    <g clip-path=\"url(#p24d371fa5a)\">\n     <use xlink:href=\"#C4_0_0ada16b08d\" x=\"51.974613\" y=\"234.772408\" style=\"fill: #fcfbfd\"/>\n    </g>\n    <g clip-path=\"url(#p24d371fa5a)\">\n     <use xlink:href=\"#C4_0_0ada16b08d\" x=\"51.974613\" y=\"222.891416\" style=\"fill: #fcfbfd\"/>\n    </g>\n    <g clip-path=\"url(#p24d371fa5a)\">\n     <use xlink:href=\"#C4_0_0ada16b08d\" x=\"51.974613\" y=\"211.010424\" style=\"fill: #fcfbfd\"/>\n    </g>\n    <g clip-path=\"url(#p24d371fa5a)\">\n     <use xlink:href=\"#C4_0_0ada16b08d\" x=\"58.825522\" y=\"341.701333\" style=\"fill: #fcfbfd\"/>\n    </g>\n    <g clip-path=\"url(#p24d371fa5a)\">\n     <use xlink:href=\"#C4_0_0ada16b08d\" x=\"58.825522\" y=\"329.820342\" style=\"fill: #fcfbfd\"/>\n    </g>\n    <g clip-path=\"url(#p24d371fa5a)\">\n     <use xlink:href=\"#C4_0_0ada16b08d\" x=\"58.825522\" y=\"317.93935\" style=\"fill: #fcfbfd\"/>\n    </g>\n    <g clip-path=\"url(#p24d371fa5a)\">\n     <use xlink:href=\"#C4_0_0ada16b08d\" x=\"58.825522\" y=\"306.058358\" style=\"fill: #f9f8fb\"/>\n    </g>\n    <g clip-path=\"url(#p24d371fa5a)\">\n     <use xlink:href=\"#C4_0_0ada16b08d\" x=\"58.825522\" y=\"294.177366\" style=\"fill: #7567af\"/>\n    </g>\n    <g clip-path=\"url(#p24d371fa5a)\">\n     <use xlink:href=\"#C4_0_0ada16b08d\" x=\"58.825522\" y=\"282.296375\" style=\"fill: #afaed4\"/>\n    </g>\n    <g clip-path=\"url(#p24d371fa5a)\">\n     <use xlink:href=\"#C4_0_0ada16b08d\" x=\"58.825522\" y=\"270.415383\" style=\"fill: #e2e2ef\"/>\n    </g>\n    <g clip-path=\"url(#p24d371fa5a)\">\n     <use xlink:href=\"#C4_0_0ada16b08d\" x=\"58.825522\" y=\"258.534391\" style=\"fill: #f9f8fb\"/>\n    </g>\n    <g clip-path=\"url(#p24d371fa5a)\">\n     <use xlink:href=\"#C4_0_0ada16b08d\" x=\"58.825522\" y=\"246.653399\" style=\"fill: #fcfbfd\"/>\n    </g>\n    <g clip-path=\"url(#p24d371fa5a)\">\n     <use xlink:href=\"#C4_0_0ada16b08d\" x=\"58.825522\" y=\"234.772408\" style=\"fill: #fcfbfd\"/>\n    </g>\n    <g clip-path=\"url(#p24d371fa5a)\">\n     <use xlink:href=\"#C4_0_0ada16b08d\" x=\"58.825522\" y=\"222.891416\" style=\"fill: #fcfbfd\"/>\n    </g>\n    <g clip-path=\"url(#p24d371fa5a)\">\n     <use xlink:href=\"#C4_0_0ada16b08d\" x=\"58.825522\" y=\"211.010424\" style=\"fill: #fcfbfd\"/>\n    </g>\n    <g clip-path=\"url(#p24d371fa5a)\">\n     <use xlink:href=\"#C4_0_0ada16b08d\" x=\"65.676431\" y=\"341.701333\" style=\"fill: #fcfbfd\"/>\n    </g>\n    <g clip-path=\"url(#p24d371fa5a)\">\n     <use xlink:href=\"#C4_0_0ada16b08d\" x=\"65.676431\" y=\"329.820342\" style=\"fill: #fcfbfd\"/>\n    </g>\n    <g clip-path=\"url(#p24d371fa5a)\">\n     <use xlink:href=\"#C4_0_0ada16b08d\" x=\"65.676431\" y=\"317.93935\" style=\"fill: #fcfbfd\"/>\n    </g>\n    <g clip-path=\"url(#p24d371fa5a)\">\n     <use xlink:href=\"#C4_0_0ada16b08d\" x=\"65.676431\" y=\"306.058358\" style=\"fill: #e8e6f2\"/>\n    </g>\n    <g clip-path=\"url(#p24d371fa5a)\">\n     <use xlink:href=\"#C4_0_0ada16b08d\" x=\"65.676431\" y=\"294.177366\" style=\"fill: #f0eef6\"/>\n    </g>\n    <g clip-path=\"url(#p24d371fa5a)\">\n     <use xlink:href=\"#C4_0_0ada16b08d\" x=\"65.676431\" y=\"282.296375\" style=\"fill: #cbcbe3\"/>\n    </g>\n    <g clip-path=\"url(#p24d371fa5a)\">\n     <use xlink:href=\"#C4_0_0ada16b08d\" x=\"65.676431\" y=\"270.415383\" style=\"fill: #e2e2ef\"/>\n    </g>\n    <g clip-path=\"url(#p24d371fa5a)\">\n     <use xlink:href=\"#C4_0_0ada16b08d\" x=\"65.676431\" y=\"258.534391\" style=\"fill: #f0eef6\"/>\n    </g>\n    <g clip-path=\"url(#p24d371fa5a)\">\n     <use xlink:href=\"#C4_0_0ada16b08d\" x=\"65.676431\" y=\"246.653399\" style=\"fill: #fcfbfd\"/>\n    </g>\n    <g clip-path=\"url(#p24d371fa5a)\">\n     <use xlink:href=\"#C4_0_0ada16b08d\" x=\"65.676431\" y=\"234.772408\" style=\"fill: #fcfbfd\"/>\n    </g>\n    <g clip-path=\"url(#p24d371fa5a)\">\n     <use xlink:href=\"#C4_0_0ada16b08d\" x=\"65.676431\" y=\"222.891416\" style=\"fill: #fcfbfd\"/>\n    </g>\n    <g clip-path=\"url(#p24d371fa5a)\">\n     <use xlink:href=\"#C4_0_0ada16b08d\" x=\"65.676431\" y=\"211.010424\" style=\"fill: #fcfbfd\"/>\n    </g>\n    <g clip-path=\"url(#p24d371fa5a)\">\n     <use xlink:href=\"#C4_0_0ada16b08d\" x=\"72.52734\" y=\"341.701333\" style=\"fill: #fcfbfd\"/>\n    </g>\n    <g clip-path=\"url(#p24d371fa5a)\">\n     <use xlink:href=\"#C4_0_0ada16b08d\" x=\"72.52734\" y=\"329.820342\" style=\"fill: #fcfbfd\"/>\n    </g>\n    <g clip-path=\"url(#p24d371fa5a)\">\n     <use xlink:href=\"#C4_0_0ada16b08d\" x=\"72.52734\" y=\"317.93935\" style=\"fill: #fcfbfd\"/>\n    </g>\n    <g clip-path=\"url(#p24d371fa5a)\">\n     <use xlink:href=\"#C4_0_0ada16b08d\" x=\"72.52734\" y=\"306.058358\" style=\"fill: #705eaa\"/>\n    </g>\n    <g clip-path=\"url(#p24d371fa5a)\">\n     <use xlink:href=\"#C4_0_0ada16b08d\" x=\"72.52734\" y=\"294.177366\" style=\"fill: #d1d2e7\"/>\n    </g>\n    <g clip-path=\"url(#p24d371fa5a)\">\n     <use xlink:href=\"#C4_0_0ada16b08d\" x=\"72.52734\" y=\"282.296375\" style=\"fill: #bdbedc\"/>\n    </g>\n    <g clip-path=\"url(#p24d371fa5a)\">\n     <use xlink:href=\"#C4_0_0ada16b08d\" x=\"72.52734\" y=\"270.415383\" style=\"fill: #f0eef6\"/>\n    </g>\n    <g clip-path=\"url(#p24d371fa5a)\">\n     <use xlink:href=\"#C4_0_0ada16b08d\" x=\"72.52734\" y=\"258.534391\" style=\"fill: #d9d9ea\"/>\n    </g>\n    <g clip-path=\"url(#p24d371fa5a)\">\n     <use xlink:href=\"#C4_0_0ada16b08d\" x=\"72.52734\" y=\"246.653399\" style=\"fill: #fcfbfd\"/>\n    </g>\n    <g clip-path=\"url(#p24d371fa5a)\">\n     <use xlink:href=\"#C4_0_0ada16b08d\" x=\"72.52734\" y=\"234.772408\" style=\"fill: #fcfbfd\"/>\n    </g>\n    <g clip-path=\"url(#p24d371fa5a)\">\n     <use xlink:href=\"#C4_0_0ada16b08d\" x=\"72.52734\" y=\"222.891416\" style=\"fill: #fcfbfd\"/>\n    </g>\n    <g clip-path=\"url(#p24d371fa5a)\">\n     <use xlink:href=\"#C4_0_0ada16b08d\" x=\"72.52734\" y=\"211.010424\" style=\"fill: #fcfbfd\"/>\n    </g>\n    <g clip-path=\"url(#p24d371fa5a)\">\n     <use xlink:href=\"#C4_0_0ada16b08d\" x=\"79.378249\" y=\"341.701333\" style=\"fill: #fcfbfd\"/>\n    </g>\n    <g clip-path=\"url(#p24d371fa5a)\">\n     <use xlink:href=\"#C4_0_0ada16b08d\" x=\"79.378249\" y=\"329.820342\" style=\"fill: #fcfbfd\"/>\n    </g>\n    <g clip-path=\"url(#p24d371fa5a)\">\n     <use xlink:href=\"#C4_0_0ada16b08d\" x=\"79.378249\" y=\"317.93935\" style=\"fill: #fcfbfd\"/>\n    </g>\n    <g clip-path=\"url(#p24d371fa5a)\">\n     <use xlink:href=\"#C4_0_0ada16b08d\" x=\"79.378249\" y=\"306.058358\" style=\"fill: #fcfbfd\"/>\n    </g>\n    <g clip-path=\"url(#p24d371fa5a)\">\n     <use xlink:href=\"#C4_0_0ada16b08d\" x=\"79.378249\" y=\"294.177366\" style=\"fill: #bdbedc\"/>\n    </g>\n    <g clip-path=\"url(#p24d371fa5a)\">\n     <use xlink:href=\"#C4_0_0ada16b08d\" x=\"79.378249\" y=\"282.296375\" style=\"fill: #f0eef6\"/>\n    </g>\n    <g clip-path=\"url(#p24d371fa5a)\">\n     <use xlink:href=\"#C4_0_0ada16b08d\" x=\"79.378249\" y=\"270.415383\" style=\"fill: #f6f5f9\"/>\n    </g>\n    <g clip-path=\"url(#p24d371fa5a)\">\n     <use xlink:href=\"#C4_0_0ada16b08d\" x=\"79.378249\" y=\"258.534391\" style=\"fill: #f9f8fb\"/>\n    </g>\n    <g clip-path=\"url(#p24d371fa5a)\">\n     <use xlink:href=\"#C4_0_0ada16b08d\" x=\"79.378249\" y=\"246.653399\" style=\"fill: #fcfbfd\"/>\n    </g>\n    <g clip-path=\"url(#p24d371fa5a)\">\n     <use xlink:href=\"#C4_0_0ada16b08d\" x=\"79.378249\" y=\"234.772408\" style=\"fill: #fcfbfd\"/>\n    </g>\n    <g clip-path=\"url(#p24d371fa5a)\">\n     <use xlink:href=\"#C4_0_0ada16b08d\" x=\"79.378249\" y=\"222.891416\" style=\"fill: #fcfbfd\"/>\n    </g>\n    <g clip-path=\"url(#p24d371fa5a)\">\n     <use xlink:href=\"#C4_0_0ada16b08d\" x=\"79.378249\" y=\"211.010424\" style=\"fill: #fcfbfd\"/>\n    </g>\n    <g clip-path=\"url(#p24d371fa5a)\">\n     <use xlink:href=\"#C4_0_0ada16b08d\" x=\"-54.214478\" y=\"335.760837\" style=\"fill: #fcfbfd\"/>\n    </g>\n    <g clip-path=\"url(#p24d371fa5a)\">\n     <use xlink:href=\"#C4_0_0ada16b08d\" x=\"-54.214478\" y=\"323.879846\" style=\"fill: #fcfbfd\"/>\n    </g>\n    <g clip-path=\"url(#p24d371fa5a)\">\n     <use xlink:href=\"#C4_0_0ada16b08d\" x=\"-54.214478\" y=\"311.998854\" style=\"fill: #fcfbfd\"/>\n    </g>\n    <g clip-path=\"url(#p24d371fa5a)\">\n     <use xlink:href=\"#C4_0_0ada16b08d\" x=\"-54.214478\" y=\"300.117862\" style=\"fill: #ecebf4\"/>\n    </g>\n    <g clip-path=\"url(#p24d371fa5a)\">\n     <use xlink:href=\"#C4_0_0ada16b08d\" x=\"-54.214478\" y=\"288.236871\" style=\"fill: #e8e6f2\"/>\n    </g>\n    <g clip-path=\"url(#p24d371fa5a)\">\n     <use xlink:href=\"#C4_0_0ada16b08d\" x=\"-54.214478\" y=\"276.355879\" style=\"fill: #cbcbe3\"/>\n    </g>\n    <g clip-path=\"url(#p24d371fa5a)\">\n     <use xlink:href=\"#C4_0_0ada16b08d\" x=\"-54.214478\" y=\"264.474887\" style=\"fill: #f3f2f8\"/>\n    </g>\n    <g clip-path=\"url(#p24d371fa5a)\">\n     <use xlink:href=\"#C4_0_0ada16b08d\" x=\"-54.214478\" y=\"252.593895\" style=\"fill: #fcfbfd\"/>\n    </g>\n    <g clip-path=\"url(#p24d371fa5a)\">\n     <use xlink:href=\"#C4_0_0ada16b08d\" x=\"-54.214478\" y=\"240.712904\" style=\"fill: #fcfbfd\"/>\n    </g>\n    <g clip-path=\"url(#p24d371fa5a)\">\n     <use xlink:href=\"#C4_0_0ada16b08d\" x=\"-54.214478\" y=\"228.831912\" style=\"fill: #fcfbfd\"/>\n    </g>\n    <g clip-path=\"url(#p24d371fa5a)\">\n     <use xlink:href=\"#C4_0_0ada16b08d\" x=\"-54.214478\" y=\"216.95092\" style=\"fill: #fcfbfd\"/>\n    </g>\n    <g clip-path=\"url(#p24d371fa5a)\">\n     <use xlink:href=\"#C4_0_0ada16b08d\" x=\"-47.363569\" y=\"335.760837\" style=\"fill: #fcfbfd\"/>\n    </g>\n    <g clip-path=\"url(#p24d371fa5a)\">\n     <use xlink:href=\"#C4_0_0ada16b08d\" x=\"-47.363569\" y=\"323.879846\" style=\"fill: #fcfbfd\"/>\n    </g>\n    <g clip-path=\"url(#p24d371fa5a)\">\n     <use xlink:href=\"#C4_0_0ada16b08d\" x=\"-47.363569\" y=\"311.998854\" style=\"fill: #e8e6f2\"/>\n    </g>\n    <g clip-path=\"url(#p24d371fa5a)\">\n     <use xlink:href=\"#C4_0_0ada16b08d\" x=\"-47.363569\" y=\"300.117862\" style=\"fill: #a8a6cf\"/>\n    </g>\n    <g clip-path=\"url(#p24d371fa5a)\">\n     <use xlink:href=\"#C4_0_0ada16b08d\" x=\"-47.363569\" y=\"288.236871\" style=\"fill: #3f007d\"/>\n    </g>\n    <g clip-path=\"url(#p24d371fa5a)\">\n     <use xlink:href=\"#C4_0_0ada16b08d\" x=\"-47.363569\" y=\"276.355879\" style=\"fill: #7a71b4\"/>\n    </g>\n    <g clip-path=\"url(#p24d371fa5a)\">\n     <use xlink:href=\"#C4_0_0ada16b08d\" x=\"-47.363569\" y=\"264.474887\" style=\"fill: #a8a6cf\"/>\n    </g>\n    <g clip-path=\"url(#p24d371fa5a)\">\n     <use xlink:href=\"#C4_0_0ada16b08d\" x=\"-47.363569\" y=\"252.593895\" style=\"fill: #f6f5f9\"/>\n    </g>\n    <g clip-path=\"url(#p24d371fa5a)\">\n     <use xlink:href=\"#C4_0_0ada16b08d\" x=\"-47.363569\" y=\"240.712904\" style=\"fill: #fcfbfd\"/>\n    </g>\n    <g clip-path=\"url(#p24d371fa5a)\">\n     <use xlink:href=\"#C4_0_0ada16b08d\" x=\"-47.363569\" y=\"228.831912\" style=\"fill: #fcfbfd\"/>\n    </g>\n    <g clip-path=\"url(#p24d371fa5a)\">\n     <use xlink:href=\"#C4_0_0ada16b08d\" x=\"-47.363569\" y=\"216.95092\" style=\"fill: #fcfbfd\"/>\n    </g>\n    <g clip-path=\"url(#p24d371fa5a)\">\n     <use xlink:href=\"#C4_0_0ada16b08d\" x=\"-40.51266\" y=\"335.760837\" style=\"fill: #fcfbfd\"/>\n    </g>\n    <g clip-path=\"url(#p24d371fa5a)\">\n     <use xlink:href=\"#C4_0_0ada16b08d\" x=\"-40.51266\" y=\"323.879846\" style=\"fill: #f6f5f9\"/>\n    </g>\n    <g clip-path=\"url(#p24d371fa5a)\">\n     <use xlink:href=\"#C4_0_0ada16b08d\" x=\"-40.51266\" y=\"311.998854\" style=\"fill: #e8e6f2\"/>\n    </g>\n    <g clip-path=\"url(#p24d371fa5a)\">\n     <use xlink:href=\"#C4_0_0ada16b08d\" x=\"-40.51266\" y=\"300.117862\" style=\"fill: #c4c5e0\"/>\n    </g>\n    <g clip-path=\"url(#p24d371fa5a)\">\n     <use xlink:href=\"#C4_0_0ada16b08d\" x=\"-40.51266\" y=\"288.236871\" style=\"fill: #c4c5e0\"/>\n    </g>\n    <g clip-path=\"url(#p24d371fa5a)\">\n     <use xlink:href=\"#C4_0_0ada16b08d\" x=\"-40.51266\" y=\"276.355879\" style=\"fill: #8d89c0\"/>\n    </g>\n    <g clip-path=\"url(#p24d371fa5a)\">\n     <use xlink:href=\"#C4_0_0ada16b08d\" x=\"-40.51266\" y=\"264.474887\" style=\"fill: #a8a6cf\"/>\n    </g>\n    <g clip-path=\"url(#p24d371fa5a)\">\n     <use xlink:href=\"#C4_0_0ada16b08d\" x=\"-40.51266\" y=\"252.593895\" style=\"fill: #f0eef6\"/>\n    </g>\n    <g clip-path=\"url(#p24d371fa5a)\">\n     <use xlink:href=\"#C4_0_0ada16b08d\" x=\"-40.51266\" y=\"240.712904\" style=\"fill: #fcfbfd\"/>\n    </g>\n    <g clip-path=\"url(#p24d371fa5a)\">\n     <use xlink:href=\"#C4_0_0ada16b08d\" x=\"-40.51266\" y=\"228.831912\" style=\"fill: #f6f5f9\"/>\n    </g>\n    <g clip-path=\"url(#p24d371fa5a)\">\n     <use xlink:href=\"#C4_0_0ada16b08d\" x=\"-40.51266\" y=\"216.95092\" style=\"fill: #fcfbfd\"/>\n    </g>\n    <g clip-path=\"url(#p24d371fa5a)\">\n     <use xlink:href=\"#C4_0_0ada16b08d\" x=\"-33.661751\" y=\"335.760837\" style=\"fill: #fcfbfd\"/>\n    </g>\n    <g clip-path=\"url(#p24d371fa5a)\">\n     <use xlink:href=\"#C4_0_0ada16b08d\" x=\"-33.661751\" y=\"323.879846\" style=\"fill: #f3f2f8\"/>\n    </g>\n    <g clip-path=\"url(#p24d371fa5a)\">\n     <use xlink:href=\"#C4_0_0ada16b08d\" x=\"-33.661751\" y=\"311.998854\" style=\"fill: #f0eef6\"/>\n    </g>\n    <g clip-path=\"url(#p24d371fa5a)\">\n     <use xlink:href=\"#C4_0_0ada16b08d\" x=\"-33.661751\" y=\"300.117862\" style=\"fill: #d9d9ea\"/>\n    </g>\n    <g clip-path=\"url(#p24d371fa5a)\">\n     <use xlink:href=\"#C4_0_0ada16b08d\" x=\"-33.661751\" y=\"288.236871\" style=\"fill: #c4c5e0\"/>\n    </g>\n    <g clip-path=\"url(#p24d371fa5a)\">\n     <use xlink:href=\"#C4_0_0ada16b08d\" x=\"-33.661751\" y=\"276.355879\" style=\"fill: #a8a6cf\"/>\n    </g>\n    <g clip-path=\"url(#p24d371fa5a)\">\n     <use xlink:href=\"#C4_0_0ada16b08d\" x=\"-33.661751\" y=\"264.474887\" style=\"fill: #afaed4\"/>\n    </g>\n    <g clip-path=\"url(#p24d371fa5a)\">\n     <use xlink:href=\"#C4_0_0ada16b08d\" x=\"-33.661751\" y=\"252.593895\" style=\"fill: #f3f2f8\"/>\n    </g>\n    <g clip-path=\"url(#p24d371fa5a)\">\n     <use xlink:href=\"#C4_0_0ada16b08d\" x=\"-33.661751\" y=\"240.712904\" style=\"fill: #fcfbfd\"/>\n    </g>\n    <g clip-path=\"url(#p24d371fa5a)\">\n     <use xlink:href=\"#C4_0_0ada16b08d\" x=\"-33.661751\" y=\"228.831912\" style=\"fill: #a8a6cf\"/>\n    </g>\n    <g clip-path=\"url(#p24d371fa5a)\">\n     <use xlink:href=\"#C4_0_0ada16b08d\" x=\"-33.661751\" y=\"216.95092\" style=\"fill: #fcfbfd\"/>\n    </g>\n    <g clip-path=\"url(#p24d371fa5a)\">\n     <use xlink:href=\"#C4_0_0ada16b08d\" x=\"-26.810842\" y=\"335.760837\" style=\"fill: #fcfbfd\"/>\n    </g>\n    <g clip-path=\"url(#p24d371fa5a)\">\n     <use xlink:href=\"#C4_0_0ada16b08d\" x=\"-26.810842\" y=\"323.879846\" style=\"fill: #fcfbfd\"/>\n    </g>\n    <g clip-path=\"url(#p24d371fa5a)\">\n     <use xlink:href=\"#C4_0_0ada16b08d\" x=\"-26.810842\" y=\"311.998854\" style=\"fill: #f3f2f8\"/>\n    </g>\n    <g clip-path=\"url(#p24d371fa5a)\">\n     <use xlink:href=\"#C4_0_0ada16b08d\" x=\"-26.810842\" y=\"300.117862\" style=\"fill: #dedded\"/>\n    </g>\n    <g clip-path=\"url(#p24d371fa5a)\">\n     <use xlink:href=\"#C4_0_0ada16b08d\" x=\"-26.810842\" y=\"288.236871\" style=\"fill: #8683bd\"/>\n    </g>\n    <g clip-path=\"url(#p24d371fa5a)\">\n     <use xlink:href=\"#C4_0_0ada16b08d\" x=\"-26.810842\" y=\"276.355879\" style=\"fill: #8683bd\"/>\n    </g>\n    <g clip-path=\"url(#p24d371fa5a)\">\n     <use xlink:href=\"#C4_0_0ada16b08d\" x=\"-26.810842\" y=\"264.474887\" style=\"fill: #d1d2e7\"/>\n    </g>\n    <g clip-path=\"url(#p24d371fa5a)\">\n     <use xlink:href=\"#C4_0_0ada16b08d\" x=\"-26.810842\" y=\"252.593895\" style=\"fill: #e2e2ef\"/>\n    </g>\n    <g clip-path=\"url(#p24d371fa5a)\">\n     <use xlink:href=\"#C4_0_0ada16b08d\" x=\"-26.810842\" y=\"240.712904\" style=\"fill: #f9f8fb\"/>\n    </g>\n    <g clip-path=\"url(#p24d371fa5a)\">\n     <use xlink:href=\"#C4_0_0ada16b08d\" x=\"-26.810842\" y=\"228.831912\" style=\"fill: #c4c5e0\"/>\n    </g>\n    <g clip-path=\"url(#p24d371fa5a)\">\n     <use xlink:href=\"#C4_0_0ada16b08d\" x=\"-26.810842\" y=\"216.95092\" style=\"fill: #e8e6f2\"/>\n    </g>\n    <g clip-path=\"url(#p24d371fa5a)\">\n     <use xlink:href=\"#C4_0_0ada16b08d\" x=\"-19.959933\" y=\"335.760837\" style=\"fill: #ecebf4\"/>\n    </g>\n    <g clip-path=\"url(#p24d371fa5a)\">\n     <use xlink:href=\"#C4_0_0ada16b08d\" x=\"-19.959933\" y=\"323.879846\" style=\"fill: #f3f2f8\"/>\n    </g>\n    <g clip-path=\"url(#p24d371fa5a)\">\n     <use xlink:href=\"#C4_0_0ada16b08d\" x=\"-19.959933\" y=\"311.998854\" style=\"fill: #b6b6d8\"/>\n    </g>\n    <g clip-path=\"url(#p24d371fa5a)\">\n     <use xlink:href=\"#C4_0_0ada16b08d\" x=\"-19.959933\" y=\"300.117862\" style=\"fill: #d1d2e7\"/>\n    </g>\n    <g clip-path=\"url(#p24d371fa5a)\">\n     <use xlink:href=\"#C4_0_0ada16b08d\" x=\"-19.959933\" y=\"288.236871\" style=\"fill: #afaed4\"/>\n    </g>\n    <g clip-path=\"url(#p24d371fa5a)\">\n     <use xlink:href=\"#C4_0_0ada16b08d\" x=\"-19.959933\" y=\"276.355879\" style=\"fill: #d9d9ea\"/>\n    </g>\n    <g clip-path=\"url(#p24d371fa5a)\">\n     <use xlink:href=\"#C4_0_0ada16b08d\" x=\"-19.959933\" y=\"264.474887\" style=\"fill: #66499f\"/>\n    </g>\n    <g clip-path=\"url(#p24d371fa5a)\">\n     <use xlink:href=\"#C4_0_0ada16b08d\" x=\"-19.959933\" y=\"252.593895\" style=\"fill: #f3f2f8\"/>\n    </g>\n    <g clip-path=\"url(#p24d371fa5a)\">\n     <use xlink:href=\"#C4_0_0ada16b08d\" x=\"-19.959933\" y=\"240.712904\" style=\"fill: #e2e2ef\"/>\n    </g>\n    <g clip-path=\"url(#p24d371fa5a)\">\n     <use xlink:href=\"#C4_0_0ada16b08d\" x=\"-19.959933\" y=\"228.831912\" style=\"fill: #a19eca\"/>\n    </g>\n    <g clip-path=\"url(#p24d371fa5a)\">\n     <use xlink:href=\"#C4_0_0ada16b08d\" x=\"-19.959933\" y=\"216.95092\" style=\"fill: #572c92\"/>\n    </g>\n    <g clip-path=\"url(#p24d371fa5a)\">\n     <use xlink:href=\"#C4_0_0ada16b08d\" x=\"-13.109024\" y=\"335.760837\" style=\"fill: #f6f5f9\"/>\n    </g>\n    <g clip-path=\"url(#p24d371fa5a)\">\n     <use xlink:href=\"#C4_0_0ada16b08d\" x=\"-13.109024\" y=\"323.879846\" style=\"fill: #fcfbfd\"/>\n    </g>\n    <g clip-path=\"url(#p24d371fa5a)\">\n     <use xlink:href=\"#C4_0_0ada16b08d\" x=\"-13.109024\" y=\"311.998854\" style=\"fill: #ecebf4\"/>\n    </g>\n    <g clip-path=\"url(#p24d371fa5a)\">\n     <use xlink:href=\"#C4_0_0ada16b08d\" x=\"-13.109024\" y=\"300.117862\" style=\"fill: #d1d2e7\"/>\n    </g>\n    <g clip-path=\"url(#p24d371fa5a)\">\n     <use xlink:href=\"#C4_0_0ada16b08d\" x=\"-13.109024\" y=\"288.236871\" style=\"fill: #f0eef6\"/>\n    </g>\n    <g clip-path=\"url(#p24d371fa5a)\">\n     <use xlink:href=\"#C4_0_0ada16b08d\" x=\"-13.109024\" y=\"276.355879\" style=\"fill: #d1d2e7\"/>\n    </g>\n    <g clip-path=\"url(#p24d371fa5a)\">\n     <use xlink:href=\"#C4_0_0ada16b08d\" x=\"-13.109024\" y=\"264.474887\" style=\"fill: #c4c5e0\"/>\n    </g>\n    <g clip-path=\"url(#p24d371fa5a)\">\n     <use xlink:href=\"#C4_0_0ada16b08d\" x=\"-13.109024\" y=\"252.593895\" style=\"fill: #f6f5f9\"/>\n    </g>\n    <g clip-path=\"url(#p24d371fa5a)\">\n     <use xlink:href=\"#C4_0_0ada16b08d\" x=\"-13.109024\" y=\"240.712904\" style=\"fill: #d1d2e7\"/>\n    </g>\n    <g clip-path=\"url(#p24d371fa5a)\">\n     <use xlink:href=\"#C4_0_0ada16b08d\" x=\"-13.109024\" y=\"228.831912\" style=\"fill: #7567af\"/>\n    </g>\n    <g clip-path=\"url(#p24d371fa5a)\">\n     <use xlink:href=\"#C4_0_0ada16b08d\" x=\"-13.109024\" y=\"216.95092\" style=\"fill: #ecebf4\"/>\n    </g>\n    <g clip-path=\"url(#p24d371fa5a)\">\n     <use xlink:href=\"#C4_0_0ada16b08d\" x=\"-6.258115\" y=\"335.760837\" style=\"fill: #fcfbfd\"/>\n    </g>\n    <g clip-path=\"url(#p24d371fa5a)\">\n     <use xlink:href=\"#C4_0_0ada16b08d\" x=\"-6.258115\" y=\"323.879846\" style=\"fill: #f9f8fb\"/>\n    </g>\n    <g clip-path=\"url(#p24d371fa5a)\">\n     <use xlink:href=\"#C4_0_0ada16b08d\" x=\"-6.258115\" y=\"311.998854\" style=\"fill: #f3f2f8\"/>\n    </g>\n    <g clip-path=\"url(#p24d371fa5a)\">\n     <use xlink:href=\"#C4_0_0ada16b08d\" x=\"-6.258115\" y=\"300.117862\" style=\"fill: #ecebf4\"/>\n    </g>\n    <g clip-path=\"url(#p24d371fa5a)\">\n     <use xlink:href=\"#C4_0_0ada16b08d\" x=\"-6.258115\" y=\"288.236871\" style=\"fill: #dedded\"/>\n    </g>\n    <g clip-path=\"url(#p24d371fa5a)\">\n     <use xlink:href=\"#C4_0_0ada16b08d\" x=\"-6.258115\" y=\"276.355879\" style=\"fill: #cbcbe3\"/>\n    </g>\n    <g clip-path=\"url(#p24d371fa5a)\">\n     <use xlink:href=\"#C4_0_0ada16b08d\" x=\"-6.258115\" y=\"264.474887\" style=\"fill: #d1d2e7\"/>\n    </g>\n    <g clip-path=\"url(#p24d371fa5a)\">\n     <use xlink:href=\"#C4_0_0ada16b08d\" x=\"-6.258115\" y=\"252.593895\" style=\"fill: #f3f2f8\"/>\n    </g>\n    <g clip-path=\"url(#p24d371fa5a)\">\n     <use xlink:href=\"#C4_0_0ada16b08d\" x=\"-6.258115\" y=\"240.712904\" style=\"fill: #d9d9ea\"/>\n    </g>\n    <g clip-path=\"url(#p24d371fa5a)\">\n     <use xlink:href=\"#C4_0_0ada16b08d\" x=\"-6.258115\" y=\"228.831912\" style=\"fill: #f0eef6\"/>\n    </g>\n    <g clip-path=\"url(#p24d371fa5a)\">\n     <use xlink:href=\"#C4_0_0ada16b08d\" x=\"-6.258115\" y=\"216.95092\" style=\"fill: #fcfbfd\"/>\n    </g>\n    <g clip-path=\"url(#p24d371fa5a)\">\n     <use xlink:href=\"#C4_0_0ada16b08d\" x=\"0.592794\" y=\"335.760837\" style=\"fill: #e8e6f2\"/>\n    </g>\n    <g clip-path=\"url(#p24d371fa5a)\">\n     <use xlink:href=\"#C4_0_0ada16b08d\" x=\"0.592794\" y=\"323.879846\" style=\"fill: #f9f8fb\"/>\n    </g>\n    <g clip-path=\"url(#p24d371fa5a)\">\n     <use xlink:href=\"#C4_0_0ada16b08d\" x=\"0.592794\" y=\"311.998854\" style=\"fill: #f9f8fb\"/>\n    </g>\n    <g clip-path=\"url(#p24d371fa5a)\">\n     <use xlink:href=\"#C4_0_0ada16b08d\" x=\"0.592794\" y=\"300.117862\" style=\"fill: #afaed4\"/>\n    </g>\n    <g clip-path=\"url(#p24d371fa5a)\">\n     <use xlink:href=\"#C4_0_0ada16b08d\" x=\"0.592794\" y=\"288.236871\" style=\"fill: #ecebf4\"/>\n    </g>\n    <g clip-path=\"url(#p24d371fa5a)\">\n     <use xlink:href=\"#C4_0_0ada16b08d\" x=\"0.592794\" y=\"276.355879\" style=\"fill: #f6f5f9\"/>\n    </g>\n    <g clip-path=\"url(#p24d371fa5a)\">\n     <use xlink:href=\"#C4_0_0ada16b08d\" x=\"0.592794\" y=\"264.474887\" style=\"fill: #bdbedc\"/>\n    </g>\n    <g clip-path=\"url(#p24d371fa5a)\">\n     <use xlink:href=\"#C4_0_0ada16b08d\" x=\"0.592794\" y=\"252.593895\" style=\"fill: #f9f8fb\"/>\n    </g>\n    <g clip-path=\"url(#p24d371fa5a)\">\n     <use xlink:href=\"#C4_0_0ada16b08d\" x=\"0.592794\" y=\"240.712904\" style=\"fill: #f9f8fb\"/>\n    </g>\n    <g clip-path=\"url(#p24d371fa5a)\">\n     <use xlink:href=\"#C4_0_0ada16b08d\" x=\"0.592794\" y=\"228.831912\" style=\"fill: #fcfbfd\"/>\n    </g>\n    <g clip-path=\"url(#p24d371fa5a)\">\n     <use xlink:href=\"#C4_0_0ada16b08d\" x=\"0.592794\" y=\"216.95092\" style=\"fill: #fcfbfd\"/>\n    </g>\n    <g clip-path=\"url(#p24d371fa5a)\">\n     <use xlink:href=\"#C4_0_0ada16b08d\" x=\"7.443703\" y=\"335.760837\" style=\"fill: #a8a6cf\"/>\n    </g>\n    <g clip-path=\"url(#p24d371fa5a)\">\n     <use xlink:href=\"#C4_0_0ada16b08d\" x=\"7.443703\" y=\"323.879846\" style=\"fill: #f3f2f8\"/>\n    </g>\n    <g clip-path=\"url(#p24d371fa5a)\">\n     <use xlink:href=\"#C4_0_0ada16b08d\" x=\"7.443703\" y=\"311.998854\" style=\"fill: #f3f2f8\"/>\n    </g>\n    <g clip-path=\"url(#p24d371fa5a)\">\n     <use xlink:href=\"#C4_0_0ada16b08d\" x=\"7.443703\" y=\"300.117862\" style=\"fill: #b6b6d8\"/>\n    </g>\n    <g clip-path=\"url(#p24d371fa5a)\">\n     <use xlink:href=\"#C4_0_0ada16b08d\" x=\"7.443703\" y=\"288.236871\" style=\"fill: #f0eef6\"/>\n    </g>\n    <g clip-path=\"url(#p24d371fa5a)\">\n     <use xlink:href=\"#C4_0_0ada16b08d\" x=\"7.443703\" y=\"276.355879\" style=\"fill: #fcfbfd\"/>\n    </g>\n    <g clip-path=\"url(#p24d371fa5a)\">\n     <use xlink:href=\"#C4_0_0ada16b08d\" x=\"7.443703\" y=\"264.474887\" style=\"fill: #f9f8fb\"/>\n    </g>\n    <g clip-path=\"url(#p24d371fa5a)\">\n     <use xlink:href=\"#C4_0_0ada16b08d\" x=\"7.443703\" y=\"252.593895\" style=\"fill: #fcfbfd\"/>\n    </g>\n    <g clip-path=\"url(#p24d371fa5a)\">\n     <use xlink:href=\"#C4_0_0ada16b08d\" x=\"7.443703\" y=\"240.712904\" style=\"fill: #fcfbfd\"/>\n    </g>\n    <g clip-path=\"url(#p24d371fa5a)\">\n     <use xlink:href=\"#C4_0_0ada16b08d\" x=\"7.443703\" y=\"228.831912\" style=\"fill: #fcfbfd\"/>\n    </g>\n    <g clip-path=\"url(#p24d371fa5a)\">\n     <use xlink:href=\"#C4_0_0ada16b08d\" x=\"7.443703\" y=\"216.95092\" style=\"fill: #fcfbfd\"/>\n    </g>\n    <g clip-path=\"url(#p24d371fa5a)\">\n     <use xlink:href=\"#C4_0_0ada16b08d\" x=\"14.294613\" y=\"335.760837\" style=\"fill: #fcfbfd\"/>\n    </g>\n    <g clip-path=\"url(#p24d371fa5a)\">\n     <use xlink:href=\"#C4_0_0ada16b08d\" x=\"14.294613\" y=\"323.879846\" style=\"fill: #fcfbfd\"/>\n    </g>\n    <g clip-path=\"url(#p24d371fa5a)\">\n     <use xlink:href=\"#C4_0_0ada16b08d\" x=\"14.294613\" y=\"311.998854\" style=\"fill: #f0eef6\"/>\n    </g>\n    <g clip-path=\"url(#p24d371fa5a)\">\n     <use xlink:href=\"#C4_0_0ada16b08d\" x=\"14.294613\" y=\"300.117862\" style=\"fill: #fcfbfd\"/>\n    </g>\n    <g clip-path=\"url(#p24d371fa5a)\">\n     <use xlink:href=\"#C4_0_0ada16b08d\" x=\"14.294613\" y=\"288.236871\" style=\"fill: #fcfbfd\"/>\n    </g>\n    <g clip-path=\"url(#p24d371fa5a)\">\n     <use xlink:href=\"#C4_0_0ada16b08d\" x=\"14.294613\" y=\"276.355879\" style=\"fill: #fcfbfd\"/>\n    </g>\n    <g clip-path=\"url(#p24d371fa5a)\">\n     <use xlink:href=\"#C4_0_0ada16b08d\" x=\"14.294613\" y=\"264.474887\" style=\"fill: #fcfbfd\"/>\n    </g>\n    <g clip-path=\"url(#p24d371fa5a)\">\n     <use xlink:href=\"#C4_0_0ada16b08d\" x=\"14.294613\" y=\"252.593895\" style=\"fill: #fcfbfd\"/>\n    </g>\n    <g clip-path=\"url(#p24d371fa5a)\">\n     <use xlink:href=\"#C4_0_0ada16b08d\" x=\"14.294613\" y=\"240.712904\" style=\"fill: #fcfbfd\"/>\n    </g>\n    <g clip-path=\"url(#p24d371fa5a)\">\n     <use xlink:href=\"#C4_0_0ada16b08d\" x=\"14.294613\" y=\"228.831912\" style=\"fill: #fcfbfd\"/>\n    </g>\n    <g clip-path=\"url(#p24d371fa5a)\">\n     <use xlink:href=\"#C4_0_0ada16b08d\" x=\"14.294613\" y=\"216.95092\" style=\"fill: #fcfbfd\"/>\n    </g>\n    <g clip-path=\"url(#p24d371fa5a)\">\n     <use xlink:href=\"#C4_0_0ada16b08d\" x=\"21.145522\" y=\"335.760837\" style=\"fill: #fcfbfd\"/>\n    </g>\n    <g clip-path=\"url(#p24d371fa5a)\">\n     <use xlink:href=\"#C4_0_0ada16b08d\" x=\"21.145522\" y=\"323.879846\" style=\"fill: #fcfbfd\"/>\n    </g>\n    <g clip-path=\"url(#p24d371fa5a)\">\n     <use xlink:href=\"#C4_0_0ada16b08d\" x=\"21.145522\" y=\"311.998854\" style=\"fill: #f6f5f9\"/>\n    </g>\n    <g clip-path=\"url(#p24d371fa5a)\">\n     <use xlink:href=\"#C4_0_0ada16b08d\" x=\"21.145522\" y=\"300.117862\" style=\"fill: #fcfbfd\"/>\n    </g>\n    <g clip-path=\"url(#p24d371fa5a)\">\n     <use xlink:href=\"#C4_0_0ada16b08d\" x=\"21.145522\" y=\"288.236871\" style=\"fill: #fcfbfd\"/>\n    </g>\n    <g clip-path=\"url(#p24d371fa5a)\">\n     <use xlink:href=\"#C4_0_0ada16b08d\" x=\"21.145522\" y=\"276.355879\" style=\"fill: #fcfbfd\"/>\n    </g>\n    <g clip-path=\"url(#p24d371fa5a)\">\n     <use xlink:href=\"#C4_0_0ada16b08d\" x=\"21.145522\" y=\"264.474887\" style=\"fill: #fcfbfd\"/>\n    </g>\n    <g clip-path=\"url(#p24d371fa5a)\">\n     <use xlink:href=\"#C4_0_0ada16b08d\" x=\"21.145522\" y=\"252.593895\" style=\"fill: #fcfbfd\"/>\n    </g>\n    <g clip-path=\"url(#p24d371fa5a)\">\n     <use xlink:href=\"#C4_0_0ada16b08d\" x=\"21.145522\" y=\"240.712904\" style=\"fill: #fcfbfd\"/>\n    </g>\n    <g clip-path=\"url(#p24d371fa5a)\">\n     <use xlink:href=\"#C4_0_0ada16b08d\" x=\"21.145522\" y=\"228.831912\" style=\"fill: #fcfbfd\"/>\n    </g>\n    <g clip-path=\"url(#p24d371fa5a)\">\n     <use xlink:href=\"#C4_0_0ada16b08d\" x=\"21.145522\" y=\"216.95092\" style=\"fill: #fcfbfd\"/>\n    </g>\n    <g clip-path=\"url(#p24d371fa5a)\">\n     <use xlink:href=\"#C4_0_0ada16b08d\" x=\"27.996431\" y=\"335.760837\" style=\"fill: #fcfbfd\"/>\n    </g>\n    <g clip-path=\"url(#p24d371fa5a)\">\n     <use xlink:href=\"#C4_0_0ada16b08d\" x=\"27.996431\" y=\"323.879846\" style=\"fill: #fcfbfd\"/>\n    </g>\n    <g clip-path=\"url(#p24d371fa5a)\">\n     <use xlink:href=\"#C4_0_0ada16b08d\" x=\"27.996431\" y=\"311.998854\" style=\"fill: #fcfbfd\"/>\n    </g>\n    <g clip-path=\"url(#p24d371fa5a)\">\n     <use xlink:href=\"#C4_0_0ada16b08d\" x=\"27.996431\" y=\"300.117862\" style=\"fill: #fcfbfd\"/>\n    </g>\n    <g clip-path=\"url(#p24d371fa5a)\">\n     <use xlink:href=\"#C4_0_0ada16b08d\" x=\"27.996431\" y=\"288.236871\" style=\"fill: #fcfbfd\"/>\n    </g>\n    <g clip-path=\"url(#p24d371fa5a)\">\n     <use xlink:href=\"#C4_0_0ada16b08d\" x=\"27.996431\" y=\"276.355879\" style=\"fill: #fcfbfd\"/>\n    </g>\n    <g clip-path=\"url(#p24d371fa5a)\">\n     <use xlink:href=\"#C4_0_0ada16b08d\" x=\"27.996431\" y=\"264.474887\" style=\"fill: #fcfbfd\"/>\n    </g>\n    <g clip-path=\"url(#p24d371fa5a)\">\n     <use xlink:href=\"#C4_0_0ada16b08d\" x=\"27.996431\" y=\"252.593895\" style=\"fill: #fcfbfd\"/>\n    </g>\n    <g clip-path=\"url(#p24d371fa5a)\">\n     <use xlink:href=\"#C4_0_0ada16b08d\" x=\"27.996431\" y=\"240.712904\" style=\"fill: #fcfbfd\"/>\n    </g>\n    <g clip-path=\"url(#p24d371fa5a)\">\n     <use xlink:href=\"#C4_0_0ada16b08d\" x=\"27.996431\" y=\"228.831912\" style=\"fill: #fcfbfd\"/>\n    </g>\n    <g clip-path=\"url(#p24d371fa5a)\">\n     <use xlink:href=\"#C4_0_0ada16b08d\" x=\"27.996431\" y=\"216.95092\" style=\"fill: #fcfbfd\"/>\n    </g>\n    <g clip-path=\"url(#p24d371fa5a)\">\n     <use xlink:href=\"#C4_0_0ada16b08d\" x=\"34.84734\" y=\"335.760837\" style=\"fill: #fcfbfd\"/>\n    </g>\n    <g clip-path=\"url(#p24d371fa5a)\">\n     <use xlink:href=\"#C4_0_0ada16b08d\" x=\"34.84734\" y=\"323.879846\" style=\"fill: #fcfbfd\"/>\n    </g>\n    <g clip-path=\"url(#p24d371fa5a)\">\n     <use xlink:href=\"#C4_0_0ada16b08d\" x=\"34.84734\" y=\"311.998854\" style=\"fill: #fcfbfd\"/>\n    </g>\n    <g clip-path=\"url(#p24d371fa5a)\">\n     <use xlink:href=\"#C4_0_0ada16b08d\" x=\"34.84734\" y=\"300.117862\" style=\"fill: #fcfbfd\"/>\n    </g>\n    <g clip-path=\"url(#p24d371fa5a)\">\n     <use xlink:href=\"#C4_0_0ada16b08d\" x=\"34.84734\" y=\"288.236871\" style=\"fill: #fcfbfd\"/>\n    </g>\n    <g clip-path=\"url(#p24d371fa5a)\">\n     <use xlink:href=\"#C4_0_0ada16b08d\" x=\"34.84734\" y=\"276.355879\" style=\"fill: #f9f8fb\"/>\n    </g>\n    <g clip-path=\"url(#p24d371fa5a)\">\n     <use xlink:href=\"#C4_0_0ada16b08d\" x=\"34.84734\" y=\"264.474887\" style=\"fill: #fcfbfd\"/>\n    </g>\n    <g clip-path=\"url(#p24d371fa5a)\">\n     <use xlink:href=\"#C4_0_0ada16b08d\" x=\"34.84734\" y=\"252.593895\" style=\"fill: #fcfbfd\"/>\n    </g>\n    <g clip-path=\"url(#p24d371fa5a)\">\n     <use xlink:href=\"#C4_0_0ada16b08d\" x=\"34.84734\" y=\"240.712904\" style=\"fill: #fcfbfd\"/>\n    </g>\n    <g clip-path=\"url(#p24d371fa5a)\">\n     <use xlink:href=\"#C4_0_0ada16b08d\" x=\"34.84734\" y=\"228.831912\" style=\"fill: #fcfbfd\"/>\n    </g>\n    <g clip-path=\"url(#p24d371fa5a)\">\n     <use xlink:href=\"#C4_0_0ada16b08d\" x=\"34.84734\" y=\"216.95092\" style=\"fill: #fcfbfd\"/>\n    </g>\n    <g clip-path=\"url(#p24d371fa5a)\">\n     <use xlink:href=\"#C4_0_0ada16b08d\" x=\"41.698249\" y=\"335.760837\" style=\"fill: #fcfbfd\"/>\n    </g>\n    <g clip-path=\"url(#p24d371fa5a)\">\n     <use xlink:href=\"#C4_0_0ada16b08d\" x=\"41.698249\" y=\"323.879846\" style=\"fill: #fcfbfd\"/>\n    </g>\n    <g clip-path=\"url(#p24d371fa5a)\">\n     <use xlink:href=\"#C4_0_0ada16b08d\" x=\"41.698249\" y=\"311.998854\" style=\"fill: #fcfbfd\"/>\n    </g>\n    <g clip-path=\"url(#p24d371fa5a)\">\n     <use xlink:href=\"#C4_0_0ada16b08d\" x=\"41.698249\" y=\"300.117862\" style=\"fill: #fcfbfd\"/>\n    </g>\n    <g clip-path=\"url(#p24d371fa5a)\">\n     <use xlink:href=\"#C4_0_0ada16b08d\" x=\"41.698249\" y=\"288.236871\" style=\"fill: #f6f5f9\"/>\n    </g>\n    <g clip-path=\"url(#p24d371fa5a)\">\n     <use xlink:href=\"#C4_0_0ada16b08d\" x=\"41.698249\" y=\"276.355879\" style=\"fill: #fcfbfd\"/>\n    </g>\n    <g clip-path=\"url(#p24d371fa5a)\">\n     <use xlink:href=\"#C4_0_0ada16b08d\" x=\"41.698249\" y=\"264.474887\" style=\"fill: #f6f5f9\"/>\n    </g>\n    <g clip-path=\"url(#p24d371fa5a)\">\n     <use xlink:href=\"#C4_0_0ada16b08d\" x=\"41.698249\" y=\"252.593895\" style=\"fill: #ecebf4\"/>\n    </g>\n    <g clip-path=\"url(#p24d371fa5a)\">\n     <use xlink:href=\"#C4_0_0ada16b08d\" x=\"41.698249\" y=\"240.712904\" style=\"fill: #fcfbfd\"/>\n    </g>\n    <g clip-path=\"url(#p24d371fa5a)\">\n     <use xlink:href=\"#C4_0_0ada16b08d\" x=\"41.698249\" y=\"228.831912\" style=\"fill: #fcfbfd\"/>\n    </g>\n    <g clip-path=\"url(#p24d371fa5a)\">\n     <use xlink:href=\"#C4_0_0ada16b08d\" x=\"41.698249\" y=\"216.95092\" style=\"fill: #fcfbfd\"/>\n    </g>\n    <g clip-path=\"url(#p24d371fa5a)\">\n     <use xlink:href=\"#C4_0_0ada16b08d\" x=\"48.549158\" y=\"335.760837\" style=\"fill: #fcfbfd\"/>\n    </g>\n    <g clip-path=\"url(#p24d371fa5a)\">\n     <use xlink:href=\"#C4_0_0ada16b08d\" x=\"48.549158\" y=\"323.879846\" style=\"fill: #fcfbfd\"/>\n    </g>\n    <g clip-path=\"url(#p24d371fa5a)\">\n     <use xlink:href=\"#C4_0_0ada16b08d\" x=\"48.549158\" y=\"311.998854\" style=\"fill: #fcfbfd\"/>\n    </g>\n    <g clip-path=\"url(#p24d371fa5a)\">\n     <use xlink:href=\"#C4_0_0ada16b08d\" x=\"48.549158\" y=\"300.117862\" style=\"fill: #f9f8fb\"/>\n    </g>\n    <g clip-path=\"url(#p24d371fa5a)\">\n     <use xlink:href=\"#C4_0_0ada16b08d\" x=\"48.549158\" y=\"288.236871\" style=\"fill: #f0eef6\"/>\n    </g>\n    <g clip-path=\"url(#p24d371fa5a)\">\n     <use xlink:href=\"#C4_0_0ada16b08d\" x=\"48.549158\" y=\"276.355879\" style=\"fill: #e8e6f2\"/>\n    </g>\n    <g clip-path=\"url(#p24d371fa5a)\">\n     <use xlink:href=\"#C4_0_0ada16b08d\" x=\"48.549158\" y=\"264.474887\" style=\"fill: #8683bd\"/>\n    </g>\n    <g clip-path=\"url(#p24d371fa5a)\">\n     <use xlink:href=\"#C4_0_0ada16b08d\" x=\"48.549158\" y=\"252.593895\" style=\"fill: #9b97c6\"/>\n    </g>\n    <g clip-path=\"url(#p24d371fa5a)\">\n     <use xlink:href=\"#C4_0_0ada16b08d\" x=\"48.549158\" y=\"240.712904\" style=\"fill: #f9f8fb\"/>\n    </g>\n    <g clip-path=\"url(#p24d371fa5a)\">\n     <use xlink:href=\"#C4_0_0ada16b08d\" x=\"48.549158\" y=\"228.831912\" style=\"fill: #fcfbfd\"/>\n    </g>\n    <g clip-path=\"url(#p24d371fa5a)\">\n     <use xlink:href=\"#C4_0_0ada16b08d\" x=\"48.549158\" y=\"216.95092\" style=\"fill: #fcfbfd\"/>\n    </g>\n    <g clip-path=\"url(#p24d371fa5a)\">\n     <use xlink:href=\"#C4_0_0ada16b08d\" x=\"55.400067\" y=\"335.760837\" style=\"fill: #fcfbfd\"/>\n    </g>\n    <g clip-path=\"url(#p24d371fa5a)\">\n     <use xlink:href=\"#C4_0_0ada16b08d\" x=\"55.400067\" y=\"323.879846\" style=\"fill: #fcfbfd\"/>\n    </g>\n    <g clip-path=\"url(#p24d371fa5a)\">\n     <use xlink:href=\"#C4_0_0ada16b08d\" x=\"55.400067\" y=\"311.998854\" style=\"fill: #fcfbfd\"/>\n    </g>\n    <g clip-path=\"url(#p24d371fa5a)\">\n     <use xlink:href=\"#C4_0_0ada16b08d\" x=\"55.400067\" y=\"300.117862\" style=\"fill: #d9d9ea\"/>\n    </g>\n    <g clip-path=\"url(#p24d371fa5a)\">\n     <use xlink:href=\"#C4_0_0ada16b08d\" x=\"55.400067\" y=\"288.236871\" style=\"fill: #9b97c6\"/>\n    </g>\n    <g clip-path=\"url(#p24d371fa5a)\">\n     <use xlink:href=\"#C4_0_0ada16b08d\" x=\"55.400067\" y=\"276.355879\" style=\"fill: #bdbedc\"/>\n    </g>\n    <g clip-path=\"url(#p24d371fa5a)\">\n     <use xlink:href=\"#C4_0_0ada16b08d\" x=\"55.400067\" y=\"264.474887\" style=\"fill: #dedded\"/>\n    </g>\n    <g clip-path=\"url(#p24d371fa5a)\">\n     <use xlink:href=\"#C4_0_0ada16b08d\" x=\"55.400067\" y=\"252.593895\" style=\"fill: #ecebf4\"/>\n    </g>\n    <g clip-path=\"url(#p24d371fa5a)\">\n     <use xlink:href=\"#C4_0_0ada16b08d\" x=\"55.400067\" y=\"240.712904\" style=\"fill: #fcfbfd\"/>\n    </g>\n    <g clip-path=\"url(#p24d371fa5a)\">\n     <use xlink:href=\"#C4_0_0ada16b08d\" x=\"55.400067\" y=\"228.831912\" style=\"fill: #fcfbfd\"/>\n    </g>\n    <g clip-path=\"url(#p24d371fa5a)\">\n     <use xlink:href=\"#C4_0_0ada16b08d\" x=\"55.400067\" y=\"216.95092\" style=\"fill: #fcfbfd\"/>\n    </g>\n    <g clip-path=\"url(#p24d371fa5a)\">\n     <use xlink:href=\"#C4_0_0ada16b08d\" x=\"62.250976\" y=\"335.760837\" style=\"fill: #fcfbfd\"/>\n    </g>\n    <g clip-path=\"url(#p24d371fa5a)\">\n     <use xlink:href=\"#C4_0_0ada16b08d\" x=\"62.250976\" y=\"323.879846\" style=\"fill: #fcfbfd\"/>\n    </g>\n    <g clip-path=\"url(#p24d371fa5a)\">\n     <use xlink:href=\"#C4_0_0ada16b08d\" x=\"62.250976\" y=\"311.998854\" style=\"fill: #fcfbfd\"/>\n    </g>\n    <g clip-path=\"url(#p24d371fa5a)\">\n     <use xlink:href=\"#C4_0_0ada16b08d\" x=\"62.250976\" y=\"300.117862\" style=\"fill: #cbcbe3\"/>\n    </g>\n    <g clip-path=\"url(#p24d371fa5a)\">\n     <use xlink:href=\"#C4_0_0ada16b08d\" x=\"62.250976\" y=\"288.236871\" style=\"fill: #bdbedc\"/>\n    </g>\n    <g clip-path=\"url(#p24d371fa5a)\">\n     <use xlink:href=\"#C4_0_0ada16b08d\" x=\"62.250976\" y=\"276.355879\" style=\"fill: #afaed4\"/>\n    </g>\n    <g clip-path=\"url(#p24d371fa5a)\">\n     <use xlink:href=\"#C4_0_0ada16b08d\" x=\"62.250976\" y=\"264.474887\" style=\"fill: #e2e2ef\"/>\n    </g>\n    <g clip-path=\"url(#p24d371fa5a)\">\n     <use xlink:href=\"#C4_0_0ada16b08d\" x=\"62.250976\" y=\"252.593895\" style=\"fill: #fcfbfd\"/>\n    </g>\n    <g clip-path=\"url(#p24d371fa5a)\">\n     <use xlink:href=\"#C4_0_0ada16b08d\" x=\"62.250976\" y=\"240.712904\" style=\"fill: #fcfbfd\"/>\n    </g>\n    <g clip-path=\"url(#p24d371fa5a)\">\n     <use xlink:href=\"#C4_0_0ada16b08d\" x=\"62.250976\" y=\"228.831912\" style=\"fill: #fcfbfd\"/>\n    </g>\n    <g clip-path=\"url(#p24d371fa5a)\">\n     <use xlink:href=\"#C4_0_0ada16b08d\" x=\"62.250976\" y=\"216.95092\" style=\"fill: #fcfbfd\"/>\n    </g>\n    <g clip-path=\"url(#p24d371fa5a)\">\n     <use xlink:href=\"#C4_0_0ada16b08d\" x=\"69.101885\" y=\"335.760837\" style=\"fill: #fcfbfd\"/>\n    </g>\n    <g clip-path=\"url(#p24d371fa5a)\">\n     <use xlink:href=\"#C4_0_0ada16b08d\" x=\"69.101885\" y=\"323.879846\" style=\"fill: #fcfbfd\"/>\n    </g>\n    <g clip-path=\"url(#p24d371fa5a)\">\n     <use xlink:href=\"#C4_0_0ada16b08d\" x=\"69.101885\" y=\"311.998854\" style=\"fill: #f3f2f8\"/>\n    </g>\n    <g clip-path=\"url(#p24d371fa5a)\">\n     <use xlink:href=\"#C4_0_0ada16b08d\" x=\"69.101885\" y=\"300.117862\" style=\"fill: #dedded\"/>\n    </g>\n    <g clip-path=\"url(#p24d371fa5a)\">\n     <use xlink:href=\"#C4_0_0ada16b08d\" x=\"69.101885\" y=\"288.236871\" style=\"fill: #d9d9ea\"/>\n    </g>\n    <g clip-path=\"url(#p24d371fa5a)\">\n     <use xlink:href=\"#C4_0_0ada16b08d\" x=\"69.101885\" y=\"276.355879\" style=\"fill: #b6b6d8\"/>\n    </g>\n    <g clip-path=\"url(#p24d371fa5a)\">\n     <use xlink:href=\"#C4_0_0ada16b08d\" x=\"69.101885\" y=\"264.474887\" style=\"fill: #dedded\"/>\n    </g>\n    <g clip-path=\"url(#p24d371fa5a)\">\n     <use xlink:href=\"#C4_0_0ada16b08d\" x=\"69.101885\" y=\"252.593895\" style=\"fill: #fcfbfd\"/>\n    </g>\n    <g clip-path=\"url(#p24d371fa5a)\">\n     <use xlink:href=\"#C4_0_0ada16b08d\" x=\"69.101885\" y=\"240.712904\" style=\"fill: #fcfbfd\"/>\n    </g>\n    <g clip-path=\"url(#p24d371fa5a)\">\n     <use xlink:href=\"#C4_0_0ada16b08d\" x=\"69.101885\" y=\"228.831912\" style=\"fill: #fcfbfd\"/>\n    </g>\n    <g clip-path=\"url(#p24d371fa5a)\">\n     <use xlink:href=\"#C4_0_0ada16b08d\" x=\"69.101885\" y=\"216.95092\" style=\"fill: #fcfbfd\"/>\n    </g>\n    <g clip-path=\"url(#p24d371fa5a)\">\n     <use xlink:href=\"#C4_0_0ada16b08d\" x=\"75.952794\" y=\"335.760837\" style=\"fill: #fcfbfd\"/>\n    </g>\n    <g clip-path=\"url(#p24d371fa5a)\">\n     <use xlink:href=\"#C4_0_0ada16b08d\" x=\"75.952794\" y=\"323.879846\" style=\"fill: #fcfbfd\"/>\n    </g>\n    <g clip-path=\"url(#p24d371fa5a)\">\n     <use xlink:href=\"#C4_0_0ada16b08d\" x=\"75.952794\" y=\"311.998854\" style=\"fill: #fcfbfd\"/>\n    </g>\n    <g clip-path=\"url(#p24d371fa5a)\">\n     <use xlink:href=\"#C4_0_0ada16b08d\" x=\"75.952794\" y=\"300.117862\" style=\"fill: #a8a6cf\"/>\n    </g>\n    <g clip-path=\"url(#p24d371fa5a)\">\n     <use xlink:href=\"#C4_0_0ada16b08d\" x=\"75.952794\" y=\"288.236871\" style=\"fill: #cbcbe3\"/>\n    </g>\n    <g clip-path=\"url(#p24d371fa5a)\">\n     <use xlink:href=\"#C4_0_0ada16b08d\" x=\"75.952794\" y=\"276.355879\" style=\"fill: #ecebf4\"/>\n    </g>\n    <g clip-path=\"url(#p24d371fa5a)\">\n     <use xlink:href=\"#C4_0_0ada16b08d\" x=\"75.952794\" y=\"264.474887\" style=\"fill: #d1d2e7\"/>\n    </g>\n    <g clip-path=\"url(#p24d371fa5a)\">\n     <use xlink:href=\"#C4_0_0ada16b08d\" x=\"75.952794\" y=\"252.593895\" style=\"fill: #fcfbfd\"/>\n    </g>\n    <g clip-path=\"url(#p24d371fa5a)\">\n     <use xlink:href=\"#C4_0_0ada16b08d\" x=\"75.952794\" y=\"240.712904\" style=\"fill: #fcfbfd\"/>\n    </g>\n    <g clip-path=\"url(#p24d371fa5a)\">\n     <use xlink:href=\"#C4_0_0ada16b08d\" x=\"75.952794\" y=\"228.831912\" style=\"fill: #fcfbfd\"/>\n    </g>\n    <g clip-path=\"url(#p24d371fa5a)\">\n     <use xlink:href=\"#C4_0_0ada16b08d\" x=\"75.952794\" y=\"216.95092\" style=\"fill: #fcfbfd\"/>\n    </g>\n   </g>\n   <g id=\"matplotlib.axis_9\"/>\n   <g id=\"matplotlib.axis_10\"/>\n   <g id=\"patch_23\">\n    <path d=\"M 170.88 341.42175 \nL 170.88 197.66175 \n\" style=\"fill: none; stroke: #000000; stroke-width: 0.8; stroke-linejoin: miter; stroke-linecap: square\"/>\n   </g>\n   <g id=\"patch_24\">\n    <path d=\"M 321.6 341.42175 \nL 321.6 197.66175 \n\" style=\"fill: none; stroke: #000000; stroke-width: 0.8; stroke-linejoin: miter; stroke-linecap: square\"/>\n   </g>\n   <g id=\"patch_25\">\n    <path d=\"M 170.88 341.42175 \nL 321.6 341.42175 \n\" style=\"fill: none; stroke: #000000; stroke-width: 0.8; stroke-linejoin: miter; stroke-linecap: square\"/>\n   </g>\n   <g id=\"patch_26\">\n    <path d=\"M 170.88 197.66175 \nL 321.6 197.66175 \n\" style=\"fill: none; stroke: #000000; stroke-width: 0.8; stroke-linejoin: miter; stroke-linecap: square\"/>\n   </g>\n   <g id=\"text_5\">\n    <!-- fear -->\n    <g transform=\"translate(231.903 191.66175) scale(0.144 -0.144)\">\n     <defs>\n      <path id=\"DejaVuSans-66\" d=\"M 2375 4863 \nL 2375 4384 \nL 1825 4384 \nQ 1516 4384 1395 4259 \nQ 1275 4134 1275 3809 \nL 1275 3500 \nL 2222 3500 \nL 2222 3053 \nL 1275 3053 \nL 1275 0 \nL 697 0 \nL 697 3053 \nL 147 3053 \nL 147 3500 \nL 697 3500 \nL 697 3744 \nQ 697 4328 969 4595 \nQ 1241 4863 1831 4863 \nL 2375 4863 \nz\n\" transform=\"scale(0.015625)\"/>\n     </defs>\n     <use xlink:href=\"#DejaVuSans-66\"/>\n     <use xlink:href=\"#DejaVuSans-65\" x=\"35.205078\"/>\n     <use xlink:href=\"#DejaVuSans-61\" x=\"96.728516\"/>\n     <use xlink:href=\"#DejaVuSans-72\" x=\"158.007812\"/>\n    </g>\n   </g>\n  </g>\n  <g id=\"axes_6\">\n   <g id=\"patch_27\">\n    <path d=\"M 334.56 341.42175 \nL 485.28 341.42175 \nL 485.28 197.66175 \nL 334.56 197.66175 \nz\n\" style=\"fill: #ffffff\"/>\n   </g>\n   <g id=\"PolyCollection_6\">\n    <defs>\n     <path id=\"C5_0_6b4a4f422b\" d=\"M 402.672142 -4.5021 \nL 402.672142 -8.46243 \nL 399.246687 -10.442596 \nL 395.821233 -8.46243 \nL 395.821233 -4.5021 \nL 399.246687 -2.521934 \nz\n\"/>\n    </defs>\n    <g clip-path=\"url(#pdbacfce08d)\">\n     <use xlink:href=\"#C5_0_6b4a4f422b\" x=\"-57.835778\" y=\"341.36947\" style=\"fill: #f7fcf5\"/>\n    </g>\n    <g clip-path=\"url(#pdbacfce08d)\">\n     <use xlink:href=\"#C5_0_6b4a4f422b\" x=\"-57.835778\" y=\"329.488478\" style=\"fill: #f7fcf5\"/>\n    </g>\n    <g clip-path=\"url(#pdbacfce08d)\">\n     <use xlink:href=\"#C5_0_6b4a4f422b\" x=\"-57.835778\" y=\"317.607486\" style=\"fill: #f7fcf5\"/>\n    </g>\n    <g clip-path=\"url(#pdbacfce08d)\">\n     <use xlink:href=\"#C5_0_6b4a4f422b\" x=\"-57.835778\" y=\"305.726494\" style=\"fill: #f7fcf5\"/>\n    </g>\n    <g clip-path=\"url(#pdbacfce08d)\">\n     <use xlink:href=\"#C5_0_6b4a4f422b\" x=\"-57.835778\" y=\"293.845503\" style=\"fill: #f7fcf5\"/>\n    </g>\n    <g clip-path=\"url(#pdbacfce08d)\">\n     <use xlink:href=\"#C5_0_6b4a4f422b\" x=\"-57.835778\" y=\"281.964511\" style=\"fill: #f7fcf5\"/>\n    </g>\n    <g clip-path=\"url(#pdbacfce08d)\">\n     <use xlink:href=\"#C5_0_6b4a4f422b\" x=\"-57.835778\" y=\"270.083519\" style=\"fill: #eaf7e6\"/>\n    </g>\n    <g clip-path=\"url(#pdbacfce08d)\">\n     <use xlink:href=\"#C5_0_6b4a4f422b\" x=\"-57.835778\" y=\"258.202527\" style=\"fill: #f7fcf5\"/>\n    </g>\n    <g clip-path=\"url(#pdbacfce08d)\">\n     <use xlink:href=\"#C5_0_6b4a4f422b\" x=\"-57.835778\" y=\"246.321536\" style=\"fill: #f7fcf5\"/>\n    </g>\n    <g clip-path=\"url(#pdbacfce08d)\">\n     <use xlink:href=\"#C5_0_6b4a4f422b\" x=\"-57.835778\" y=\"234.440544\" style=\"fill: #f7fcf5\"/>\n    </g>\n    <g clip-path=\"url(#pdbacfce08d)\">\n     <use xlink:href=\"#C5_0_6b4a4f422b\" x=\"-57.835778\" y=\"222.559552\" style=\"fill: #f7fcf5\"/>\n    </g>\n    <g clip-path=\"url(#pdbacfce08d)\">\n     <use xlink:href=\"#C5_0_6b4a4f422b\" x=\"-57.835778\" y=\"210.67856\" style=\"fill: #f7fcf5\"/>\n    </g>\n    <g clip-path=\"url(#pdbacfce08d)\">\n     <use xlink:href=\"#C5_0_6b4a4f422b\" x=\"-50.984869\" y=\"341.36947\" style=\"fill: #f7fcf5\"/>\n    </g>\n    <g clip-path=\"url(#pdbacfce08d)\">\n     <use xlink:href=\"#C5_0_6b4a4f422b\" x=\"-50.984869\" y=\"329.488478\" style=\"fill: #f7fcf5\"/>\n    </g>\n    <g clip-path=\"url(#pdbacfce08d)\">\n     <use xlink:href=\"#C5_0_6b4a4f422b\" x=\"-50.984869\" y=\"317.607486\" style=\"fill: #f7fcf5\"/>\n    </g>\n    <g clip-path=\"url(#pdbacfce08d)\">\n     <use xlink:href=\"#C5_0_6b4a4f422b\" x=\"-50.984869\" y=\"305.726494\" style=\"fill: #d8f0d2\"/>\n    </g>\n    <g clip-path=\"url(#pdbacfce08d)\">\n     <use xlink:href=\"#C5_0_6b4a4f422b\" x=\"-50.984869\" y=\"293.845503\" style=\"fill: #a4da9e\"/>\n    </g>\n    <g clip-path=\"url(#pdbacfce08d)\">\n     <use xlink:href=\"#C5_0_6b4a4f422b\" x=\"-50.984869\" y=\"281.964511\" style=\"fill: #a4da9e\"/>\n    </g>\n    <g clip-path=\"url(#pdbacfce08d)\">\n     <use xlink:href=\"#C5_0_6b4a4f422b\" x=\"-50.984869\" y=\"270.083519\" style=\"fill: #eaf7e6\"/>\n    </g>\n    <g clip-path=\"url(#pdbacfce08d)\">\n     <use xlink:href=\"#C5_0_6b4a4f422b\" x=\"-50.984869\" y=\"258.202527\" style=\"fill: #c1e6ba\"/>\n    </g>\n    <g clip-path=\"url(#pdbacfce08d)\">\n     <use xlink:href=\"#C5_0_6b4a4f422b\" x=\"-50.984869\" y=\"246.321536\" style=\"fill: #f7fcf5\"/>\n    </g>\n    <g clip-path=\"url(#pdbacfce08d)\">\n     <use xlink:href=\"#C5_0_6b4a4f422b\" x=\"-50.984869\" y=\"234.440544\" style=\"fill: #f7fcf5\"/>\n    </g>\n    <g clip-path=\"url(#pdbacfce08d)\">\n     <use xlink:href=\"#C5_0_6b4a4f422b\" x=\"-50.984869\" y=\"222.559552\" style=\"fill: #f7fcf5\"/>\n    </g>\n    <g clip-path=\"url(#pdbacfce08d)\">\n     <use xlink:href=\"#C5_0_6b4a4f422b\" x=\"-50.984869\" y=\"210.67856\" style=\"fill: #f7fcf5\"/>\n    </g>\n    <g clip-path=\"url(#pdbacfce08d)\">\n     <use xlink:href=\"#C5_0_6b4a4f422b\" x=\"-44.13396\" y=\"341.36947\" style=\"fill: #f7fcf5\"/>\n    </g>\n    <g clip-path=\"url(#pdbacfce08d)\">\n     <use xlink:href=\"#C5_0_6b4a4f422b\" x=\"-44.13396\" y=\"329.488478\" style=\"fill: #f7fcf5\"/>\n    </g>\n    <g clip-path=\"url(#pdbacfce08d)\">\n     <use xlink:href=\"#C5_0_6b4a4f422b\" x=\"-44.13396\" y=\"317.607486\" style=\"fill: #c1e6ba\"/>\n    </g>\n    <g clip-path=\"url(#pdbacfce08d)\">\n     <use xlink:href=\"#C5_0_6b4a4f422b\" x=\"-44.13396\" y=\"305.726494\" style=\"fill: #62bb6d\"/>\n    </g>\n    <g clip-path=\"url(#pdbacfce08d)\">\n     <use xlink:href=\"#C5_0_6b4a4f422b\" x=\"-44.13396\" y=\"293.845503\" style=\"fill: #62bb6d\"/>\n    </g>\n    <g clip-path=\"url(#pdbacfce08d)\">\n     <use xlink:href=\"#C5_0_6b4a4f422b\" x=\"-44.13396\" y=\"281.964511\" style=\"fill: #107a37\"/>\n    </g>\n    <g clip-path=\"url(#pdbacfce08d)\">\n     <use xlink:href=\"#C5_0_6b4a4f422b\" x=\"-44.13396\" y=\"270.083519\" style=\"fill: #d8f0d2\"/>\n    </g>\n    <g clip-path=\"url(#pdbacfce08d)\">\n     <use xlink:href=\"#C5_0_6b4a4f422b\" x=\"-44.13396\" y=\"258.202527\" style=\"fill: #d8f0d2\"/>\n    </g>\n    <g clip-path=\"url(#pdbacfce08d)\">\n     <use xlink:href=\"#C5_0_6b4a4f422b\" x=\"-44.13396\" y=\"246.321536\" style=\"fill: #f7fcf5\"/>\n    </g>\n    <g clip-path=\"url(#pdbacfce08d)\">\n     <use xlink:href=\"#C5_0_6b4a4f422b\" x=\"-44.13396\" y=\"234.440544\" style=\"fill: #f7fcf5\"/>\n    </g>\n    <g clip-path=\"url(#pdbacfce08d)\">\n     <use xlink:href=\"#C5_0_6b4a4f422b\" x=\"-44.13396\" y=\"222.559552\" style=\"fill: #f7fcf5\"/>\n    </g>\n    <g clip-path=\"url(#pdbacfce08d)\">\n     <use xlink:href=\"#C5_0_6b4a4f422b\" x=\"-44.13396\" y=\"210.67856\" style=\"fill: #f7fcf5\"/>\n    </g>\n    <g clip-path=\"url(#pdbacfce08d)\">\n     <use xlink:href=\"#C5_0_6b4a4f422b\" x=\"-37.283051\" y=\"341.36947\" style=\"fill: #f7fcf5\"/>\n    </g>\n    <g clip-path=\"url(#pdbacfce08d)\">\n     <use xlink:href=\"#C5_0_6b4a4f422b\" x=\"-37.283051\" y=\"329.488478\" style=\"fill: #f7fcf5\"/>\n    </g>\n    <g clip-path=\"url(#pdbacfce08d)\">\n     <use xlink:href=\"#C5_0_6b4a4f422b\" x=\"-37.283051\" y=\"317.607486\" style=\"fill: #eaf7e6\"/>\n    </g>\n    <g clip-path=\"url(#pdbacfce08d)\">\n     <use xlink:href=\"#C5_0_6b4a4f422b\" x=\"-37.283051\" y=\"305.726494\" style=\"fill: #84cc83\"/>\n    </g>\n    <g clip-path=\"url(#pdbacfce08d)\">\n     <use xlink:href=\"#C5_0_6b4a4f422b\" x=\"-37.283051\" y=\"293.845503\" style=\"fill: #a4da9e\"/>\n    </g>\n    <g clip-path=\"url(#pdbacfce08d)\">\n     <use xlink:href=\"#C5_0_6b4a4f422b\" x=\"-37.283051\" y=\"281.964511\" style=\"fill: #84cc83\"/>\n    </g>\n    <g clip-path=\"url(#pdbacfce08d)\">\n     <use xlink:href=\"#C5_0_6b4a4f422b\" x=\"-37.283051\" y=\"270.083519\" style=\"fill: #84cc83\"/>\n    </g>\n    <g clip-path=\"url(#pdbacfce08d)\">\n     <use xlink:href=\"#C5_0_6b4a4f422b\" x=\"-37.283051\" y=\"258.202527\" style=\"fill: #84cc83\"/>\n    </g>\n    <g clip-path=\"url(#pdbacfce08d)\">\n     <use xlink:href=\"#C5_0_6b4a4f422b\" x=\"-37.283051\" y=\"246.321536\" style=\"fill: #eaf7e6\"/>\n    </g>\n    <g clip-path=\"url(#pdbacfce08d)\">\n     <use xlink:href=\"#C5_0_6b4a4f422b\" x=\"-37.283051\" y=\"234.440544\" style=\"fill: #f7fcf5\"/>\n    </g>\n    <g clip-path=\"url(#pdbacfce08d)\">\n     <use xlink:href=\"#C5_0_6b4a4f422b\" x=\"-37.283051\" y=\"222.559552\" style=\"fill: #f7fcf5\"/>\n    </g>\n    <g clip-path=\"url(#pdbacfce08d)\">\n     <use xlink:href=\"#C5_0_6b4a4f422b\" x=\"-37.283051\" y=\"210.67856\" style=\"fill: #f7fcf5\"/>\n    </g>\n    <g clip-path=\"url(#pdbacfce08d)\">\n     <use xlink:href=\"#C5_0_6b4a4f422b\" x=\"-30.432142\" y=\"341.36947\" style=\"fill: #f7fcf5\"/>\n    </g>\n    <g clip-path=\"url(#pdbacfce08d)\">\n     <use xlink:href=\"#C5_0_6b4a4f422b\" x=\"-30.432142\" y=\"329.488478\" style=\"fill: #f7fcf5\"/>\n    </g>\n    <g clip-path=\"url(#pdbacfce08d)\">\n     <use xlink:href=\"#C5_0_6b4a4f422b\" x=\"-30.432142\" y=\"317.607486\" style=\"fill: #eaf7e6\"/>\n    </g>\n    <g clip-path=\"url(#pdbacfce08d)\">\n     <use xlink:href=\"#C5_0_6b4a4f422b\" x=\"-30.432142\" y=\"305.726494\" style=\"fill: #c1e6ba\"/>\n    </g>\n    <g clip-path=\"url(#pdbacfce08d)\">\n     <use xlink:href=\"#C5_0_6b4a4f422b\" x=\"-30.432142\" y=\"293.845503\" style=\"fill: #c1e6ba\"/>\n    </g>\n    <g clip-path=\"url(#pdbacfce08d)\">\n     <use xlink:href=\"#C5_0_6b4a4f422b\" x=\"-30.432142\" y=\"281.964511\" style=\"fill: #eaf7e6\"/>\n    </g>\n    <g clip-path=\"url(#pdbacfce08d)\">\n     <use xlink:href=\"#C5_0_6b4a4f422b\" x=\"-30.432142\" y=\"270.083519\" style=\"fill: #289049\"/>\n    </g>\n    <g clip-path=\"url(#pdbacfce08d)\">\n     <use xlink:href=\"#C5_0_6b4a4f422b\" x=\"-30.432142\" y=\"258.202527\" style=\"fill: #eaf7e6\"/>\n    </g>\n    <g clip-path=\"url(#pdbacfce08d)\">\n     <use xlink:href=\"#C5_0_6b4a4f422b\" x=\"-30.432142\" y=\"246.321536\" style=\"fill: #f7fcf5\"/>\n    </g>\n    <g clip-path=\"url(#pdbacfce08d)\">\n     <use xlink:href=\"#C5_0_6b4a4f422b\" x=\"-30.432142\" y=\"234.440544\" style=\"fill: #f7fcf5\"/>\n    </g>\n    <g clip-path=\"url(#pdbacfce08d)\">\n     <use xlink:href=\"#C5_0_6b4a4f422b\" x=\"-30.432142\" y=\"222.559552\" style=\"fill: #f7fcf5\"/>\n    </g>\n    <g clip-path=\"url(#pdbacfce08d)\">\n     <use xlink:href=\"#C5_0_6b4a4f422b\" x=\"-30.432142\" y=\"210.67856\" style=\"fill: #f7fcf5\"/>\n    </g>\n    <g clip-path=\"url(#pdbacfce08d)\">\n     <use xlink:href=\"#C5_0_6b4a4f422b\" x=\"-23.581233\" y=\"341.36947\" style=\"fill: #f7fcf5\"/>\n    </g>\n    <g clip-path=\"url(#pdbacfce08d)\">\n     <use xlink:href=\"#C5_0_6b4a4f422b\" x=\"-23.581233\" y=\"329.488478\" style=\"fill: #d8f0d2\"/>\n    </g>\n    <g clip-path=\"url(#pdbacfce08d)\">\n     <use xlink:href=\"#C5_0_6b4a4f422b\" x=\"-23.581233\" y=\"317.607486\" style=\"fill: #eaf7e6\"/>\n    </g>\n    <g clip-path=\"url(#pdbacfce08d)\">\n     <use xlink:href=\"#C5_0_6b4a4f422b\" x=\"-23.581233\" y=\"305.726494\" style=\"fill: #d8f0d2\"/>\n    </g>\n    <g clip-path=\"url(#pdbacfce08d)\">\n     <use xlink:href=\"#C5_0_6b4a4f422b\" x=\"-23.581233\" y=\"293.845503\" style=\"fill: #d8f0d2\"/>\n    </g>\n    <g clip-path=\"url(#pdbacfce08d)\">\n     <use xlink:href=\"#C5_0_6b4a4f422b\" x=\"-23.581233\" y=\"281.964511\" style=\"fill: #eaf7e6\"/>\n    </g>\n    <g clip-path=\"url(#pdbacfce08d)\">\n     <use xlink:href=\"#C5_0_6b4a4f422b\" x=\"-23.581233\" y=\"270.083519\" style=\"fill: #eaf7e6\"/>\n    </g>\n    <g clip-path=\"url(#pdbacfce08d)\">\n     <use xlink:href=\"#C5_0_6b4a4f422b\" x=\"-23.581233\" y=\"258.202527\" style=\"fill: #c1e6ba\"/>\n    </g>\n    <g clip-path=\"url(#pdbacfce08d)\">\n     <use xlink:href=\"#C5_0_6b4a4f422b\" x=\"-23.581233\" y=\"246.321536\" style=\"fill: #eaf7e6\"/>\n    </g>\n    <g clip-path=\"url(#pdbacfce08d)\">\n     <use xlink:href=\"#C5_0_6b4a4f422b\" x=\"-23.581233\" y=\"234.440544\" style=\"fill: #c1e6ba\"/>\n    </g>\n    <g clip-path=\"url(#pdbacfce08d)\">\n     <use xlink:href=\"#C5_0_6b4a4f422b\" x=\"-23.581233\" y=\"222.559552\" style=\"fill: #c1e6ba\"/>\n    </g>\n    <g clip-path=\"url(#pdbacfce08d)\">\n     <use xlink:href=\"#C5_0_6b4a4f422b\" x=\"-23.581233\" y=\"210.67856\" style=\"fill: #d8f0d2\"/>\n    </g>\n    <g clip-path=\"url(#pdbacfce08d)\">\n     <use xlink:href=\"#C5_0_6b4a4f422b\" x=\"-16.730324\" y=\"341.36947\" style=\"fill: #f7fcf5\"/>\n    </g>\n    <g clip-path=\"url(#pdbacfce08d)\">\n     <use xlink:href=\"#C5_0_6b4a4f422b\" x=\"-16.730324\" y=\"329.488478\" style=\"fill: #d8f0d2\"/>\n    </g>\n    <g clip-path=\"url(#pdbacfce08d)\">\n     <use xlink:href=\"#C5_0_6b4a4f422b\" x=\"-16.730324\" y=\"317.607486\" style=\"fill: #d8f0d2\"/>\n    </g>\n    <g clip-path=\"url(#pdbacfce08d)\">\n     <use xlink:href=\"#C5_0_6b4a4f422b\" x=\"-16.730324\" y=\"305.726494\" style=\"fill: #a4da9e\"/>\n    </g>\n    <g clip-path=\"url(#pdbacfce08d)\">\n     <use xlink:href=\"#C5_0_6b4a4f422b\" x=\"-16.730324\" y=\"293.845503\" style=\"fill: #c1e6ba\"/>\n    </g>\n    <g clip-path=\"url(#pdbacfce08d)\">\n     <use xlink:href=\"#C5_0_6b4a4f422b\" x=\"-16.730324\" y=\"281.964511\" style=\"fill: #c1e6ba\"/>\n    </g>\n    <g clip-path=\"url(#pdbacfce08d)\">\n     <use xlink:href=\"#C5_0_6b4a4f422b\" x=\"-16.730324\" y=\"270.083519\" style=\"fill: #d8f0d2\"/>\n    </g>\n    <g clip-path=\"url(#pdbacfce08d)\">\n     <use xlink:href=\"#C5_0_6b4a4f422b\" x=\"-16.730324\" y=\"258.202527\" style=\"fill: #eaf7e6\"/>\n    </g>\n    <g clip-path=\"url(#pdbacfce08d)\">\n     <use xlink:href=\"#C5_0_6b4a4f422b\" x=\"-16.730324\" y=\"246.321536\" style=\"fill: #eaf7e6\"/>\n    </g>\n    <g clip-path=\"url(#pdbacfce08d)\">\n     <use xlink:href=\"#C5_0_6b4a4f422b\" x=\"-16.730324\" y=\"234.440544\" style=\"fill: #a4da9e\"/>\n    </g>\n    <g clip-path=\"url(#pdbacfce08d)\">\n     <use xlink:href=\"#C5_0_6b4a4f422b\" x=\"-16.730324\" y=\"222.559552\" style=\"fill: #62bb6d\"/>\n    </g>\n    <g clip-path=\"url(#pdbacfce08d)\">\n     <use xlink:href=\"#C5_0_6b4a4f422b\" x=\"-16.730324\" y=\"210.67856\" style=\"fill: #eaf7e6\"/>\n    </g>\n    <g clip-path=\"url(#pdbacfce08d)\">\n     <use xlink:href=\"#C5_0_6b4a4f422b\" x=\"-9.879415\" y=\"341.36947\" style=\"fill: #f7fcf5\"/>\n    </g>\n    <g clip-path=\"url(#pdbacfce08d)\">\n     <use xlink:href=\"#C5_0_6b4a4f422b\" x=\"-9.879415\" y=\"329.488478\" style=\"fill: #f7fcf5\"/>\n    </g>\n    <g clip-path=\"url(#pdbacfce08d)\">\n     <use xlink:href=\"#C5_0_6b4a4f422b\" x=\"-9.879415\" y=\"317.607486\" style=\"fill: #a4da9e\"/>\n    </g>\n    <g clip-path=\"url(#pdbacfce08d)\">\n     <use xlink:href=\"#C5_0_6b4a4f422b\" x=\"-9.879415\" y=\"305.726494\" style=\"fill: #d8f0d2\"/>\n    </g>\n    <g clip-path=\"url(#pdbacfce08d)\">\n     <use xlink:href=\"#C5_0_6b4a4f422b\" x=\"-9.879415\" y=\"293.845503\" style=\"fill: #a4da9e\"/>\n    </g>\n    <g clip-path=\"url(#pdbacfce08d)\">\n     <use xlink:href=\"#C5_0_6b4a4f422b\" x=\"-9.879415\" y=\"281.964511\" style=\"fill: #f7fcf5\"/>\n    </g>\n    <g clip-path=\"url(#pdbacfce08d)\">\n     <use xlink:href=\"#C5_0_6b4a4f422b\" x=\"-9.879415\" y=\"270.083519\" style=\"fill: #3fa85b\"/>\n    </g>\n    <g clip-path=\"url(#pdbacfce08d)\">\n     <use xlink:href=\"#C5_0_6b4a4f422b\" x=\"-9.879415\" y=\"258.202527\" style=\"fill: #f7fcf5\"/>\n    </g>\n    <g clip-path=\"url(#pdbacfce08d)\">\n     <use xlink:href=\"#C5_0_6b4a4f422b\" x=\"-9.879415\" y=\"246.321536\" style=\"fill: #84cc83\"/>\n    </g>\n    <g clip-path=\"url(#pdbacfce08d)\">\n     <use xlink:href=\"#C5_0_6b4a4f422b\" x=\"-9.879415\" y=\"234.440544\" style=\"fill: #3fa85b\"/>\n    </g>\n    <g clip-path=\"url(#pdbacfce08d)\">\n     <use xlink:href=\"#C5_0_6b4a4f422b\" x=\"-9.879415\" y=\"222.559552\" style=\"fill: #eaf7e6\"/>\n    </g>\n    <g clip-path=\"url(#pdbacfce08d)\">\n     <use xlink:href=\"#C5_0_6b4a4f422b\" x=\"-9.879415\" y=\"210.67856\" style=\"fill: #f7fcf5\"/>\n    </g>\n    <g clip-path=\"url(#pdbacfce08d)\">\n     <use xlink:href=\"#C5_0_6b4a4f422b\" x=\"-3.028506\" y=\"341.36947\" style=\"fill: #f7fcf5\"/>\n    </g>\n    <g clip-path=\"url(#pdbacfce08d)\">\n     <use xlink:href=\"#C5_0_6b4a4f422b\" x=\"-3.028506\" y=\"329.488478\" style=\"fill: #eaf7e6\"/>\n    </g>\n    <g clip-path=\"url(#pdbacfce08d)\">\n     <use xlink:href=\"#C5_0_6b4a4f422b\" x=\"-3.028506\" y=\"317.607486\" style=\"fill: #f7fcf5\"/>\n    </g>\n    <g clip-path=\"url(#pdbacfce08d)\">\n     <use xlink:href=\"#C5_0_6b4a4f422b\" x=\"-3.028506\" y=\"305.726494\" style=\"fill: #107a37\"/>\n    </g>\n    <g clip-path=\"url(#pdbacfce08d)\">\n     <use xlink:href=\"#C5_0_6b4a4f422b\" x=\"-3.028506\" y=\"293.845503\" style=\"fill: #62bb6d\"/>\n    </g>\n    <g clip-path=\"url(#pdbacfce08d)\">\n     <use xlink:href=\"#C5_0_6b4a4f422b\" x=\"-3.028506\" y=\"281.964511\" style=\"fill: #f7fcf5\"/>\n    </g>\n    <g clip-path=\"url(#pdbacfce08d)\">\n     <use xlink:href=\"#C5_0_6b4a4f422b\" x=\"-3.028506\" y=\"270.083519\" style=\"fill: #eaf7e6\"/>\n    </g>\n    <g clip-path=\"url(#pdbacfce08d)\">\n     <use xlink:href=\"#C5_0_6b4a4f422b\" x=\"-3.028506\" y=\"258.202527\" style=\"fill: #d8f0d2\"/>\n    </g>\n    <g clip-path=\"url(#pdbacfce08d)\">\n     <use xlink:href=\"#C5_0_6b4a4f422b\" x=\"-3.028506\" y=\"246.321536\" style=\"fill: #d8f0d2\"/>\n    </g>\n    <g clip-path=\"url(#pdbacfce08d)\">\n     <use xlink:href=\"#C5_0_6b4a4f422b\" x=\"-3.028506\" y=\"234.440544\" style=\"fill: #eaf7e6\"/>\n    </g>\n    <g clip-path=\"url(#pdbacfce08d)\">\n     <use xlink:href=\"#C5_0_6b4a4f422b\" x=\"-3.028506\" y=\"222.559552\" style=\"fill: #f7fcf5\"/>\n    </g>\n    <g clip-path=\"url(#pdbacfce08d)\">\n     <use xlink:href=\"#C5_0_6b4a4f422b\" x=\"-3.028506\" y=\"210.67856\" style=\"fill: #f7fcf5\"/>\n    </g>\n    <g clip-path=\"url(#pdbacfce08d)\">\n     <use xlink:href=\"#C5_0_6b4a4f422b\" x=\"3.822403\" y=\"341.36947\" style=\"fill: #d8f0d2\"/>\n    </g>\n    <g clip-path=\"url(#pdbacfce08d)\">\n     <use xlink:href=\"#C5_0_6b4a4f422b\" x=\"3.822403\" y=\"329.488478\" style=\"fill: #eaf7e6\"/>\n    </g>\n    <g clip-path=\"url(#pdbacfce08d)\">\n     <use xlink:href=\"#C5_0_6b4a4f422b\" x=\"3.822403\" y=\"317.607486\" style=\"fill: #c1e6ba\"/>\n    </g>\n    <g clip-path=\"url(#pdbacfce08d)\">\n     <use xlink:href=\"#C5_0_6b4a4f422b\" x=\"3.822403\" y=\"305.726494\" style=\"fill: #eaf7e6\"/>\n    </g>\n    <g clip-path=\"url(#pdbacfce08d)\">\n     <use xlink:href=\"#C5_0_6b4a4f422b\" x=\"3.822403\" y=\"293.845503\" style=\"fill: #84cc83\"/>\n    </g>\n    <g clip-path=\"url(#pdbacfce08d)\">\n     <use xlink:href=\"#C5_0_6b4a4f422b\" x=\"3.822403\" y=\"281.964511\" style=\"fill: #f7fcf5\"/>\n    </g>\n    <g clip-path=\"url(#pdbacfce08d)\">\n     <use xlink:href=\"#C5_0_6b4a4f422b\" x=\"3.822403\" y=\"270.083519\" style=\"fill: #c1e6ba\"/>\n    </g>\n    <g clip-path=\"url(#pdbacfce08d)\">\n     <use xlink:href=\"#C5_0_6b4a4f422b\" x=\"3.822403\" y=\"258.202527\" style=\"fill: #d8f0d2\"/>\n    </g>\n    <g clip-path=\"url(#pdbacfce08d)\">\n     <use xlink:href=\"#C5_0_6b4a4f422b\" x=\"3.822403\" y=\"246.321536\" style=\"fill: #f7fcf5\"/>\n    </g>\n    <g clip-path=\"url(#pdbacfce08d)\">\n     <use xlink:href=\"#C5_0_6b4a4f422b\" x=\"3.822403\" y=\"234.440544\" style=\"fill: #f7fcf5\"/>\n    </g>\n    <g clip-path=\"url(#pdbacfce08d)\">\n     <use xlink:href=\"#C5_0_6b4a4f422b\" x=\"3.822403\" y=\"222.559552\" style=\"fill: #f7fcf5\"/>\n    </g>\n    <g clip-path=\"url(#pdbacfce08d)\">\n     <use xlink:href=\"#C5_0_6b4a4f422b\" x=\"3.822403\" y=\"210.67856\" style=\"fill: #f7fcf5\"/>\n    </g>\n    <g clip-path=\"url(#pdbacfce08d)\">\n     <use xlink:href=\"#C5_0_6b4a4f422b\" x=\"10.673313\" y=\"341.36947\" style=\"fill: #f7fcf5\"/>\n    </g>\n    <g clip-path=\"url(#pdbacfce08d)\">\n     <use xlink:href=\"#C5_0_6b4a4f422b\" x=\"10.673313\" y=\"329.488478\" style=\"fill: #f7fcf5\"/>\n    </g>\n    <g clip-path=\"url(#pdbacfce08d)\">\n     <use xlink:href=\"#C5_0_6b4a4f422b\" x=\"10.673313\" y=\"317.607486\" style=\"fill: #eaf7e6\"/>\n    </g>\n    <g clip-path=\"url(#pdbacfce08d)\">\n     <use xlink:href=\"#C5_0_6b4a4f422b\" x=\"10.673313\" y=\"305.726494\" style=\"fill: #d8f0d2\"/>\n    </g>\n    <g clip-path=\"url(#pdbacfce08d)\">\n     <use xlink:href=\"#C5_0_6b4a4f422b\" x=\"10.673313\" y=\"293.845503\" style=\"fill: #d8f0d2\"/>\n    </g>\n    <g clip-path=\"url(#pdbacfce08d)\">\n     <use xlink:href=\"#C5_0_6b4a4f422b\" x=\"10.673313\" y=\"281.964511\" style=\"fill: #eaf7e6\"/>\n    </g>\n    <g clip-path=\"url(#pdbacfce08d)\">\n     <use xlink:href=\"#C5_0_6b4a4f422b\" x=\"10.673313\" y=\"270.083519\" style=\"fill: #f7fcf5\"/>\n    </g>\n    <g clip-path=\"url(#pdbacfce08d)\">\n     <use xlink:href=\"#C5_0_6b4a4f422b\" x=\"10.673313\" y=\"258.202527\" style=\"fill: #f7fcf5\"/>\n    </g>\n    <g clip-path=\"url(#pdbacfce08d)\">\n     <use xlink:href=\"#C5_0_6b4a4f422b\" x=\"10.673313\" y=\"246.321536\" style=\"fill: #f7fcf5\"/>\n    </g>\n    <g clip-path=\"url(#pdbacfce08d)\">\n     <use xlink:href=\"#C5_0_6b4a4f422b\" x=\"10.673313\" y=\"234.440544\" style=\"fill: #f7fcf5\"/>\n    </g>\n    <g clip-path=\"url(#pdbacfce08d)\">\n     <use xlink:href=\"#C5_0_6b4a4f422b\" x=\"10.673313\" y=\"222.559552\" style=\"fill: #f7fcf5\"/>\n    </g>\n    <g clip-path=\"url(#pdbacfce08d)\">\n     <use xlink:href=\"#C5_0_6b4a4f422b\" x=\"10.673313\" y=\"210.67856\" style=\"fill: #f7fcf5\"/>\n    </g>\n    <g clip-path=\"url(#pdbacfce08d)\">\n     <use xlink:href=\"#C5_0_6b4a4f422b\" x=\"17.524222\" y=\"341.36947\" style=\"fill: #f7fcf5\"/>\n    </g>\n    <g clip-path=\"url(#pdbacfce08d)\">\n     <use xlink:href=\"#C5_0_6b4a4f422b\" x=\"17.524222\" y=\"329.488478\" style=\"fill: #f7fcf5\"/>\n    </g>\n    <g clip-path=\"url(#pdbacfce08d)\">\n     <use xlink:href=\"#C5_0_6b4a4f422b\" x=\"17.524222\" y=\"317.607486\" style=\"fill: #f7fcf5\"/>\n    </g>\n    <g clip-path=\"url(#pdbacfce08d)\">\n     <use xlink:href=\"#C5_0_6b4a4f422b\" x=\"17.524222\" y=\"305.726494\" style=\"fill: #eaf7e6\"/>\n    </g>\n    <g clip-path=\"url(#pdbacfce08d)\">\n     <use xlink:href=\"#C5_0_6b4a4f422b\" x=\"17.524222\" y=\"293.845503\" style=\"fill: #f7fcf5\"/>\n    </g>\n    <g clip-path=\"url(#pdbacfce08d)\">\n     <use xlink:href=\"#C5_0_6b4a4f422b\" x=\"17.524222\" y=\"281.964511\" style=\"fill: #f7fcf5\"/>\n    </g>\n    <g clip-path=\"url(#pdbacfce08d)\">\n     <use xlink:href=\"#C5_0_6b4a4f422b\" x=\"17.524222\" y=\"270.083519\" style=\"fill: #f7fcf5\"/>\n    </g>\n    <g clip-path=\"url(#pdbacfce08d)\">\n     <use xlink:href=\"#C5_0_6b4a4f422b\" x=\"17.524222\" y=\"258.202527\" style=\"fill: #f7fcf5\"/>\n    </g>\n    <g clip-path=\"url(#pdbacfce08d)\">\n     <use xlink:href=\"#C5_0_6b4a4f422b\" x=\"17.524222\" y=\"246.321536\" style=\"fill: #f7fcf5\"/>\n    </g>\n    <g clip-path=\"url(#pdbacfce08d)\">\n     <use xlink:href=\"#C5_0_6b4a4f422b\" x=\"17.524222\" y=\"234.440544\" style=\"fill: #f7fcf5\"/>\n    </g>\n    <g clip-path=\"url(#pdbacfce08d)\">\n     <use xlink:href=\"#C5_0_6b4a4f422b\" x=\"17.524222\" y=\"222.559552\" style=\"fill: #f7fcf5\"/>\n    </g>\n    <g clip-path=\"url(#pdbacfce08d)\">\n     <use xlink:href=\"#C5_0_6b4a4f422b\" x=\"17.524222\" y=\"210.67856\" style=\"fill: #f7fcf5\"/>\n    </g>\n    <g clip-path=\"url(#pdbacfce08d)\">\n     <use xlink:href=\"#C5_0_6b4a4f422b\" x=\"24.375131\" y=\"341.36947\" style=\"fill: #f7fcf5\"/>\n    </g>\n    <g clip-path=\"url(#pdbacfce08d)\">\n     <use xlink:href=\"#C5_0_6b4a4f422b\" x=\"24.375131\" y=\"329.488478\" style=\"fill: #f7fcf5\"/>\n    </g>\n    <g clip-path=\"url(#pdbacfce08d)\">\n     <use xlink:href=\"#C5_0_6b4a4f422b\" x=\"24.375131\" y=\"317.607486\" style=\"fill: #f7fcf5\"/>\n    </g>\n    <g clip-path=\"url(#pdbacfce08d)\">\n     <use xlink:href=\"#C5_0_6b4a4f422b\" x=\"24.375131\" y=\"305.726494\" style=\"fill: #f7fcf5\"/>\n    </g>\n    <g clip-path=\"url(#pdbacfce08d)\">\n     <use xlink:href=\"#C5_0_6b4a4f422b\" x=\"24.375131\" y=\"293.845503\" style=\"fill: #f7fcf5\"/>\n    </g>\n    <g clip-path=\"url(#pdbacfce08d)\">\n     <use xlink:href=\"#C5_0_6b4a4f422b\" x=\"24.375131\" y=\"281.964511\" style=\"fill: #f7fcf5\"/>\n    </g>\n    <g clip-path=\"url(#pdbacfce08d)\">\n     <use xlink:href=\"#C5_0_6b4a4f422b\" x=\"24.375131\" y=\"270.083519\" style=\"fill: #f7fcf5\"/>\n    </g>\n    <g clip-path=\"url(#pdbacfce08d)\">\n     <use xlink:href=\"#C5_0_6b4a4f422b\" x=\"24.375131\" y=\"258.202527\" style=\"fill: #f7fcf5\"/>\n    </g>\n    <g clip-path=\"url(#pdbacfce08d)\">\n     <use xlink:href=\"#C5_0_6b4a4f422b\" x=\"24.375131\" y=\"246.321536\" style=\"fill: #f7fcf5\"/>\n    </g>\n    <g clip-path=\"url(#pdbacfce08d)\">\n     <use xlink:href=\"#C5_0_6b4a4f422b\" x=\"24.375131\" y=\"234.440544\" style=\"fill: #f7fcf5\"/>\n    </g>\n    <g clip-path=\"url(#pdbacfce08d)\">\n     <use xlink:href=\"#C5_0_6b4a4f422b\" x=\"24.375131\" y=\"222.559552\" style=\"fill: #f7fcf5\"/>\n    </g>\n    <g clip-path=\"url(#pdbacfce08d)\">\n     <use xlink:href=\"#C5_0_6b4a4f422b\" x=\"24.375131\" y=\"210.67856\" style=\"fill: #f7fcf5\"/>\n    </g>\n    <g clip-path=\"url(#pdbacfce08d)\">\n     <use xlink:href=\"#C5_0_6b4a4f422b\" x=\"31.22604\" y=\"341.36947\" style=\"fill: #f7fcf5\"/>\n    </g>\n    <g clip-path=\"url(#pdbacfce08d)\">\n     <use xlink:href=\"#C5_0_6b4a4f422b\" x=\"31.22604\" y=\"329.488478\" style=\"fill: #f7fcf5\"/>\n    </g>\n    <g clip-path=\"url(#pdbacfce08d)\">\n     <use xlink:href=\"#C5_0_6b4a4f422b\" x=\"31.22604\" y=\"317.607486\" style=\"fill: #f7fcf5\"/>\n    </g>\n    <g clip-path=\"url(#pdbacfce08d)\">\n     <use xlink:href=\"#C5_0_6b4a4f422b\" x=\"31.22604\" y=\"305.726494\" style=\"fill: #f7fcf5\"/>\n    </g>\n    <g clip-path=\"url(#pdbacfce08d)\">\n     <use xlink:href=\"#C5_0_6b4a4f422b\" x=\"31.22604\" y=\"293.845503\" style=\"fill: #f7fcf5\"/>\n    </g>\n    <g clip-path=\"url(#pdbacfce08d)\">\n     <use xlink:href=\"#C5_0_6b4a4f422b\" x=\"31.22604\" y=\"281.964511\" style=\"fill: #f7fcf5\"/>\n    </g>\n    <g clip-path=\"url(#pdbacfce08d)\">\n     <use xlink:href=\"#C5_0_6b4a4f422b\" x=\"31.22604\" y=\"270.083519\" style=\"fill: #f7fcf5\"/>\n    </g>\n    <g clip-path=\"url(#pdbacfce08d)\">\n     <use xlink:href=\"#C5_0_6b4a4f422b\" x=\"31.22604\" y=\"258.202527\" style=\"fill: #f7fcf5\"/>\n    </g>\n    <g clip-path=\"url(#pdbacfce08d)\">\n     <use xlink:href=\"#C5_0_6b4a4f422b\" x=\"31.22604\" y=\"246.321536\" style=\"fill: #f7fcf5\"/>\n    </g>\n    <g clip-path=\"url(#pdbacfce08d)\">\n     <use xlink:href=\"#C5_0_6b4a4f422b\" x=\"31.22604\" y=\"234.440544\" style=\"fill: #f7fcf5\"/>\n    </g>\n    <g clip-path=\"url(#pdbacfce08d)\">\n     <use xlink:href=\"#C5_0_6b4a4f422b\" x=\"31.22604\" y=\"222.559552\" style=\"fill: #f7fcf5\"/>\n    </g>\n    <g clip-path=\"url(#pdbacfce08d)\">\n     <use xlink:href=\"#C5_0_6b4a4f422b\" x=\"31.22604\" y=\"210.67856\" style=\"fill: #f7fcf5\"/>\n    </g>\n    <g clip-path=\"url(#pdbacfce08d)\">\n     <use xlink:href=\"#C5_0_6b4a4f422b\" x=\"38.076949\" y=\"341.36947\" style=\"fill: #f7fcf5\"/>\n    </g>\n    <g clip-path=\"url(#pdbacfce08d)\">\n     <use xlink:href=\"#C5_0_6b4a4f422b\" x=\"38.076949\" y=\"329.488478\" style=\"fill: #f7fcf5\"/>\n    </g>\n    <g clip-path=\"url(#pdbacfce08d)\">\n     <use xlink:href=\"#C5_0_6b4a4f422b\" x=\"38.076949\" y=\"317.607486\" style=\"fill: #f7fcf5\"/>\n    </g>\n    <g clip-path=\"url(#pdbacfce08d)\">\n     <use xlink:href=\"#C5_0_6b4a4f422b\" x=\"38.076949\" y=\"305.726494\" style=\"fill: #f7fcf5\"/>\n    </g>\n    <g clip-path=\"url(#pdbacfce08d)\">\n     <use xlink:href=\"#C5_0_6b4a4f422b\" x=\"38.076949\" y=\"293.845503\" style=\"fill: #f7fcf5\"/>\n    </g>\n    <g clip-path=\"url(#pdbacfce08d)\">\n     <use xlink:href=\"#C5_0_6b4a4f422b\" x=\"38.076949\" y=\"281.964511\" style=\"fill: #f7fcf5\"/>\n    </g>\n    <g clip-path=\"url(#pdbacfce08d)\">\n     <use xlink:href=\"#C5_0_6b4a4f422b\" x=\"38.076949\" y=\"270.083519\" style=\"fill: #eaf7e6\"/>\n    </g>\n    <g clip-path=\"url(#pdbacfce08d)\">\n     <use xlink:href=\"#C5_0_6b4a4f422b\" x=\"38.076949\" y=\"258.202527\" style=\"fill: #eaf7e6\"/>\n    </g>\n    <g clip-path=\"url(#pdbacfce08d)\">\n     <use xlink:href=\"#C5_0_6b4a4f422b\" x=\"38.076949\" y=\"246.321536\" style=\"fill: #f7fcf5\"/>\n    </g>\n    <g clip-path=\"url(#pdbacfce08d)\">\n     <use xlink:href=\"#C5_0_6b4a4f422b\" x=\"38.076949\" y=\"234.440544\" style=\"fill: #f7fcf5\"/>\n    </g>\n    <g clip-path=\"url(#pdbacfce08d)\">\n     <use xlink:href=\"#C5_0_6b4a4f422b\" x=\"38.076949\" y=\"222.559552\" style=\"fill: #f7fcf5\"/>\n    </g>\n    <g clip-path=\"url(#pdbacfce08d)\">\n     <use xlink:href=\"#C5_0_6b4a4f422b\" x=\"38.076949\" y=\"210.67856\" style=\"fill: #f7fcf5\"/>\n    </g>\n    <g clip-path=\"url(#pdbacfce08d)\">\n     <use xlink:href=\"#C5_0_6b4a4f422b\" x=\"44.927858\" y=\"341.36947\" style=\"fill: #f7fcf5\"/>\n    </g>\n    <g clip-path=\"url(#pdbacfce08d)\">\n     <use xlink:href=\"#C5_0_6b4a4f422b\" x=\"44.927858\" y=\"329.488478\" style=\"fill: #f7fcf5\"/>\n    </g>\n    <g clip-path=\"url(#pdbacfce08d)\">\n     <use xlink:href=\"#C5_0_6b4a4f422b\" x=\"44.927858\" y=\"317.607486\" style=\"fill: #f7fcf5\"/>\n    </g>\n    <g clip-path=\"url(#pdbacfce08d)\">\n     <use xlink:href=\"#C5_0_6b4a4f422b\" x=\"44.927858\" y=\"305.726494\" style=\"fill: #f7fcf5\"/>\n    </g>\n    <g clip-path=\"url(#pdbacfce08d)\">\n     <use xlink:href=\"#C5_0_6b4a4f422b\" x=\"44.927858\" y=\"293.845503\" style=\"fill: #f7fcf5\"/>\n    </g>\n    <g clip-path=\"url(#pdbacfce08d)\">\n     <use xlink:href=\"#C5_0_6b4a4f422b\" x=\"44.927858\" y=\"281.964511\" style=\"fill: #d8f0d2\"/>\n    </g>\n    <g clip-path=\"url(#pdbacfce08d)\">\n     <use xlink:href=\"#C5_0_6b4a4f422b\" x=\"44.927858\" y=\"270.083519\" style=\"fill: #a4da9e\"/>\n    </g>\n    <g clip-path=\"url(#pdbacfce08d)\">\n     <use xlink:href=\"#C5_0_6b4a4f422b\" x=\"44.927858\" y=\"258.202527\" style=\"fill: #f7fcf5\"/>\n    </g>\n    <g clip-path=\"url(#pdbacfce08d)\">\n     <use xlink:href=\"#C5_0_6b4a4f422b\" x=\"44.927858\" y=\"246.321536\" style=\"fill: #f7fcf5\"/>\n    </g>\n    <g clip-path=\"url(#pdbacfce08d)\">\n     <use xlink:href=\"#C5_0_6b4a4f422b\" x=\"44.927858\" y=\"234.440544\" style=\"fill: #f7fcf5\"/>\n    </g>\n    <g clip-path=\"url(#pdbacfce08d)\">\n     <use xlink:href=\"#C5_0_6b4a4f422b\" x=\"44.927858\" y=\"222.559552\" style=\"fill: #f7fcf5\"/>\n    </g>\n    <g clip-path=\"url(#pdbacfce08d)\">\n     <use xlink:href=\"#C5_0_6b4a4f422b\" x=\"44.927858\" y=\"210.67856\" style=\"fill: #f7fcf5\"/>\n    </g>\n    <g clip-path=\"url(#pdbacfce08d)\">\n     <use xlink:href=\"#C5_0_6b4a4f422b\" x=\"51.778767\" y=\"341.36947\" style=\"fill: #f7fcf5\"/>\n    </g>\n    <g clip-path=\"url(#pdbacfce08d)\">\n     <use xlink:href=\"#C5_0_6b4a4f422b\" x=\"51.778767\" y=\"329.488478\" style=\"fill: #f7fcf5\"/>\n    </g>\n    <g clip-path=\"url(#pdbacfce08d)\">\n     <use xlink:href=\"#C5_0_6b4a4f422b\" x=\"51.778767\" y=\"317.607486\" style=\"fill: #f7fcf5\"/>\n    </g>\n    <g clip-path=\"url(#pdbacfce08d)\">\n     <use xlink:href=\"#C5_0_6b4a4f422b\" x=\"51.778767\" y=\"305.726494\" style=\"fill: #f7fcf5\"/>\n    </g>\n    <g clip-path=\"url(#pdbacfce08d)\">\n     <use xlink:href=\"#C5_0_6b4a4f422b\" x=\"51.778767\" y=\"293.845503\" style=\"fill: #eaf7e6\"/>\n    </g>\n    <g clip-path=\"url(#pdbacfce08d)\">\n     <use xlink:href=\"#C5_0_6b4a4f422b\" x=\"51.778767\" y=\"281.964511\" style=\"fill: #00441b\"/>\n    </g>\n    <g clip-path=\"url(#pdbacfce08d)\">\n     <use xlink:href=\"#C5_0_6b4a4f422b\" x=\"51.778767\" y=\"270.083519\" style=\"fill: #a4da9e\"/>\n    </g>\n    <g clip-path=\"url(#pdbacfce08d)\">\n     <use xlink:href=\"#C5_0_6b4a4f422b\" x=\"51.778767\" y=\"258.202527\" style=\"fill: #c1e6ba\"/>\n    </g>\n    <g clip-path=\"url(#pdbacfce08d)\">\n     <use xlink:href=\"#C5_0_6b4a4f422b\" x=\"51.778767\" y=\"246.321536\" style=\"fill: #d8f0d2\"/>\n    </g>\n    <g clip-path=\"url(#pdbacfce08d)\">\n     <use xlink:href=\"#C5_0_6b4a4f422b\" x=\"51.778767\" y=\"234.440544\" style=\"fill: #f7fcf5\"/>\n    </g>\n    <g clip-path=\"url(#pdbacfce08d)\">\n     <use xlink:href=\"#C5_0_6b4a4f422b\" x=\"51.778767\" y=\"222.559552\" style=\"fill: #f7fcf5\"/>\n    </g>\n    <g clip-path=\"url(#pdbacfce08d)\">\n     <use xlink:href=\"#C5_0_6b4a4f422b\" x=\"51.778767\" y=\"210.67856\" style=\"fill: #f7fcf5\"/>\n    </g>\n    <g clip-path=\"url(#pdbacfce08d)\">\n     <use xlink:href=\"#C5_0_6b4a4f422b\" x=\"58.629676\" y=\"341.36947\" style=\"fill: #f7fcf5\"/>\n    </g>\n    <g clip-path=\"url(#pdbacfce08d)\">\n     <use xlink:href=\"#C5_0_6b4a4f422b\" x=\"58.629676\" y=\"329.488478\" style=\"fill: #f7fcf5\"/>\n    </g>\n    <g clip-path=\"url(#pdbacfce08d)\">\n     <use xlink:href=\"#C5_0_6b4a4f422b\" x=\"58.629676\" y=\"317.607486\" style=\"fill: #f7fcf5\"/>\n    </g>\n    <g clip-path=\"url(#pdbacfce08d)\">\n     <use xlink:href=\"#C5_0_6b4a4f422b\" x=\"58.629676\" y=\"305.726494\" style=\"fill: #f7fcf5\"/>\n    </g>\n    <g clip-path=\"url(#pdbacfce08d)\">\n     <use xlink:href=\"#C5_0_6b4a4f422b\" x=\"58.629676\" y=\"293.845503\" style=\"fill: #006227\"/>\n    </g>\n    <g clip-path=\"url(#pdbacfce08d)\">\n     <use xlink:href=\"#C5_0_6b4a4f422b\" x=\"58.629676\" y=\"281.964511\" style=\"fill: #a4da9e\"/>\n    </g>\n    <g clip-path=\"url(#pdbacfce08d)\">\n     <use xlink:href=\"#C5_0_6b4a4f422b\" x=\"58.629676\" y=\"270.083519\" style=\"fill: #84cc83\"/>\n    </g>\n    <g clip-path=\"url(#pdbacfce08d)\">\n     <use xlink:href=\"#C5_0_6b4a4f422b\" x=\"58.629676\" y=\"258.202527\" style=\"fill: #f7fcf5\"/>\n    </g>\n    <g clip-path=\"url(#pdbacfce08d)\">\n     <use xlink:href=\"#C5_0_6b4a4f422b\" x=\"58.629676\" y=\"246.321536\" style=\"fill: #f7fcf5\"/>\n    </g>\n    <g clip-path=\"url(#pdbacfce08d)\">\n     <use xlink:href=\"#C5_0_6b4a4f422b\" x=\"58.629676\" y=\"234.440544\" style=\"fill: #f7fcf5\"/>\n    </g>\n    <g clip-path=\"url(#pdbacfce08d)\">\n     <use xlink:href=\"#C5_0_6b4a4f422b\" x=\"58.629676\" y=\"222.559552\" style=\"fill: #f7fcf5\"/>\n    </g>\n    <g clip-path=\"url(#pdbacfce08d)\">\n     <use xlink:href=\"#C5_0_6b4a4f422b\" x=\"58.629676\" y=\"210.67856\" style=\"fill: #f7fcf5\"/>\n    </g>\n    <g clip-path=\"url(#pdbacfce08d)\">\n     <use xlink:href=\"#C5_0_6b4a4f422b\" x=\"65.480585\" y=\"341.36947\" style=\"fill: #f7fcf5\"/>\n    </g>\n    <g clip-path=\"url(#pdbacfce08d)\">\n     <use xlink:href=\"#C5_0_6b4a4f422b\" x=\"65.480585\" y=\"329.488478\" style=\"fill: #f7fcf5\"/>\n    </g>\n    <g clip-path=\"url(#pdbacfce08d)\">\n     <use xlink:href=\"#C5_0_6b4a4f422b\" x=\"65.480585\" y=\"317.607486\" style=\"fill: #f7fcf5\"/>\n    </g>\n    <g clip-path=\"url(#pdbacfce08d)\">\n     <use xlink:href=\"#C5_0_6b4a4f422b\" x=\"65.480585\" y=\"305.726494\" style=\"fill: #eaf7e6\"/>\n    </g>\n    <g clip-path=\"url(#pdbacfce08d)\">\n     <use xlink:href=\"#C5_0_6b4a4f422b\" x=\"65.480585\" y=\"293.845503\" style=\"fill: #eaf7e6\"/>\n    </g>\n    <g clip-path=\"url(#pdbacfce08d)\">\n     <use xlink:href=\"#C5_0_6b4a4f422b\" x=\"65.480585\" y=\"281.964511\" style=\"fill: #c1e6ba\"/>\n    </g>\n    <g clip-path=\"url(#pdbacfce08d)\">\n     <use xlink:href=\"#C5_0_6b4a4f422b\" x=\"65.480585\" y=\"270.083519\" style=\"fill: #eaf7e6\"/>\n    </g>\n    <g clip-path=\"url(#pdbacfce08d)\">\n     <use xlink:href=\"#C5_0_6b4a4f422b\" x=\"65.480585\" y=\"258.202527\" style=\"fill: #84cc83\"/>\n    </g>\n    <g clip-path=\"url(#pdbacfce08d)\">\n     <use xlink:href=\"#C5_0_6b4a4f422b\" x=\"65.480585\" y=\"246.321536\" style=\"fill: #f7fcf5\"/>\n    </g>\n    <g clip-path=\"url(#pdbacfce08d)\">\n     <use xlink:href=\"#C5_0_6b4a4f422b\" x=\"65.480585\" y=\"234.440544\" style=\"fill: #f7fcf5\"/>\n    </g>\n    <g clip-path=\"url(#pdbacfce08d)\">\n     <use xlink:href=\"#C5_0_6b4a4f422b\" x=\"65.480585\" y=\"222.559552\" style=\"fill: #f7fcf5\"/>\n    </g>\n    <g clip-path=\"url(#pdbacfce08d)\">\n     <use xlink:href=\"#C5_0_6b4a4f422b\" x=\"65.480585\" y=\"210.67856\" style=\"fill: #f7fcf5\"/>\n    </g>\n    <g clip-path=\"url(#pdbacfce08d)\">\n     <use xlink:href=\"#C5_0_6b4a4f422b\" x=\"72.331494\" y=\"341.36947\" style=\"fill: #f7fcf5\"/>\n    </g>\n    <g clip-path=\"url(#pdbacfce08d)\">\n     <use xlink:href=\"#C5_0_6b4a4f422b\" x=\"72.331494\" y=\"329.488478\" style=\"fill: #f7fcf5\"/>\n    </g>\n    <g clip-path=\"url(#pdbacfce08d)\">\n     <use xlink:href=\"#C5_0_6b4a4f422b\" x=\"72.331494\" y=\"317.607486\" style=\"fill: #f7fcf5\"/>\n    </g>\n    <g clip-path=\"url(#pdbacfce08d)\">\n     <use xlink:href=\"#C5_0_6b4a4f422b\" x=\"72.331494\" y=\"305.726494\" style=\"fill: #3fa85b\"/>\n    </g>\n    <g clip-path=\"url(#pdbacfce08d)\">\n     <use xlink:href=\"#C5_0_6b4a4f422b\" x=\"72.331494\" y=\"293.845503\" style=\"fill: #84cc83\"/>\n    </g>\n    <g clip-path=\"url(#pdbacfce08d)\">\n     <use xlink:href=\"#C5_0_6b4a4f422b\" x=\"72.331494\" y=\"281.964511\" style=\"fill: #eaf7e6\"/>\n    </g>\n    <g clip-path=\"url(#pdbacfce08d)\">\n     <use xlink:href=\"#C5_0_6b4a4f422b\" x=\"72.331494\" y=\"270.083519\" style=\"fill: #eaf7e6\"/>\n    </g>\n    <g clip-path=\"url(#pdbacfce08d)\">\n     <use xlink:href=\"#C5_0_6b4a4f422b\" x=\"72.331494\" y=\"258.202527\" style=\"fill: #f7fcf5\"/>\n    </g>\n    <g clip-path=\"url(#pdbacfce08d)\">\n     <use xlink:href=\"#C5_0_6b4a4f422b\" x=\"72.331494\" y=\"246.321536\" style=\"fill: #f7fcf5\"/>\n    </g>\n    <g clip-path=\"url(#pdbacfce08d)\">\n     <use xlink:href=\"#C5_0_6b4a4f422b\" x=\"72.331494\" y=\"234.440544\" style=\"fill: #f7fcf5\"/>\n    </g>\n    <g clip-path=\"url(#pdbacfce08d)\">\n     <use xlink:href=\"#C5_0_6b4a4f422b\" x=\"72.331494\" y=\"222.559552\" style=\"fill: #f7fcf5\"/>\n    </g>\n    <g clip-path=\"url(#pdbacfce08d)\">\n     <use xlink:href=\"#C5_0_6b4a4f422b\" x=\"72.331494\" y=\"210.67856\" style=\"fill: #f7fcf5\"/>\n    </g>\n    <g clip-path=\"url(#pdbacfce08d)\">\n     <use xlink:href=\"#C5_0_6b4a4f422b\" x=\"79.182403\" y=\"341.36947\" style=\"fill: #f7fcf5\"/>\n    </g>\n    <g clip-path=\"url(#pdbacfce08d)\">\n     <use xlink:href=\"#C5_0_6b4a4f422b\" x=\"79.182403\" y=\"329.488478\" style=\"fill: #f7fcf5\"/>\n    </g>\n    <g clip-path=\"url(#pdbacfce08d)\">\n     <use xlink:href=\"#C5_0_6b4a4f422b\" x=\"79.182403\" y=\"317.607486\" style=\"fill: #f7fcf5\"/>\n    </g>\n    <g clip-path=\"url(#pdbacfce08d)\">\n     <use xlink:href=\"#C5_0_6b4a4f422b\" x=\"79.182403\" y=\"305.726494\" style=\"fill: #f7fcf5\"/>\n    </g>\n    <g clip-path=\"url(#pdbacfce08d)\">\n     <use xlink:href=\"#C5_0_6b4a4f422b\" x=\"79.182403\" y=\"293.845503\" style=\"fill: #eaf7e6\"/>\n    </g>\n    <g clip-path=\"url(#pdbacfce08d)\">\n     <use xlink:href=\"#C5_0_6b4a4f422b\" x=\"79.182403\" y=\"281.964511\" style=\"fill: #eaf7e6\"/>\n    </g>\n    <g clip-path=\"url(#pdbacfce08d)\">\n     <use xlink:href=\"#C5_0_6b4a4f422b\" x=\"79.182403\" y=\"270.083519\" style=\"fill: #d8f0d2\"/>\n    </g>\n    <g clip-path=\"url(#pdbacfce08d)\">\n     <use xlink:href=\"#C5_0_6b4a4f422b\" x=\"79.182403\" y=\"258.202527\" style=\"fill: #f7fcf5\"/>\n    </g>\n    <g clip-path=\"url(#pdbacfce08d)\">\n     <use xlink:href=\"#C5_0_6b4a4f422b\" x=\"79.182403\" y=\"246.321536\" style=\"fill: #f7fcf5\"/>\n    </g>\n    <g clip-path=\"url(#pdbacfce08d)\">\n     <use xlink:href=\"#C5_0_6b4a4f422b\" x=\"79.182403\" y=\"234.440544\" style=\"fill: #f7fcf5\"/>\n    </g>\n    <g clip-path=\"url(#pdbacfce08d)\">\n     <use xlink:href=\"#C5_0_6b4a4f422b\" x=\"79.182403\" y=\"222.559552\" style=\"fill: #f7fcf5\"/>\n    </g>\n    <g clip-path=\"url(#pdbacfce08d)\">\n     <use xlink:href=\"#C5_0_6b4a4f422b\" x=\"79.182403\" y=\"210.67856\" style=\"fill: #f7fcf5\"/>\n    </g>\n    <g clip-path=\"url(#pdbacfce08d)\">\n     <use xlink:href=\"#C5_0_6b4a4f422b\" x=\"-54.410324\" y=\"335.428974\" style=\"fill: #f7fcf5\"/>\n    </g>\n    <g clip-path=\"url(#pdbacfce08d)\">\n     <use xlink:href=\"#C5_0_6b4a4f422b\" x=\"-54.410324\" y=\"323.547982\" style=\"fill: #f7fcf5\"/>\n    </g>\n    <g clip-path=\"url(#pdbacfce08d)\">\n     <use xlink:href=\"#C5_0_6b4a4f422b\" x=\"-54.410324\" y=\"311.66699\" style=\"fill: #f7fcf5\"/>\n    </g>\n    <g clip-path=\"url(#pdbacfce08d)\">\n     <use xlink:href=\"#C5_0_6b4a4f422b\" x=\"-54.410324\" y=\"299.785998\" style=\"fill: #f7fcf5\"/>\n    </g>\n    <g clip-path=\"url(#pdbacfce08d)\">\n     <use xlink:href=\"#C5_0_6b4a4f422b\" x=\"-54.410324\" y=\"287.905007\" style=\"fill: #84cc83\"/>\n    </g>\n    <g clip-path=\"url(#pdbacfce08d)\">\n     <use xlink:href=\"#C5_0_6b4a4f422b\" x=\"-54.410324\" y=\"276.024015\" style=\"fill: #eaf7e6\"/>\n    </g>\n    <g clip-path=\"url(#pdbacfce08d)\">\n     <use xlink:href=\"#C5_0_6b4a4f422b\" x=\"-54.410324\" y=\"264.143023\" style=\"fill: #f7fcf5\"/>\n    </g>\n    <g clip-path=\"url(#pdbacfce08d)\">\n     <use xlink:href=\"#C5_0_6b4a4f422b\" x=\"-54.410324\" y=\"252.262031\" style=\"fill: #f7fcf5\"/>\n    </g>\n    <g clip-path=\"url(#pdbacfce08d)\">\n     <use xlink:href=\"#C5_0_6b4a4f422b\" x=\"-54.410324\" y=\"240.38104\" style=\"fill: #f7fcf5\"/>\n    </g>\n    <g clip-path=\"url(#pdbacfce08d)\">\n     <use xlink:href=\"#C5_0_6b4a4f422b\" x=\"-54.410324\" y=\"228.500048\" style=\"fill: #f7fcf5\"/>\n    </g>\n    <g clip-path=\"url(#pdbacfce08d)\">\n     <use xlink:href=\"#C5_0_6b4a4f422b\" x=\"-54.410324\" y=\"216.619056\" style=\"fill: #f7fcf5\"/>\n    </g>\n    <g clip-path=\"url(#pdbacfce08d)\">\n     <use xlink:href=\"#C5_0_6b4a4f422b\" x=\"-47.559415\" y=\"335.428974\" style=\"fill: #f7fcf5\"/>\n    </g>\n    <g clip-path=\"url(#pdbacfce08d)\">\n     <use xlink:href=\"#C5_0_6b4a4f422b\" x=\"-47.559415\" y=\"323.547982\" style=\"fill: #f7fcf5\"/>\n    </g>\n    <g clip-path=\"url(#pdbacfce08d)\">\n     <use xlink:href=\"#C5_0_6b4a4f422b\" x=\"-47.559415\" y=\"311.66699\" style=\"fill: #f7fcf5\"/>\n    </g>\n    <g clip-path=\"url(#pdbacfce08d)\">\n     <use xlink:href=\"#C5_0_6b4a4f422b\" x=\"-47.559415\" y=\"299.785998\" style=\"fill: #62bb6d\"/>\n    </g>\n    <g clip-path=\"url(#pdbacfce08d)\">\n     <use xlink:href=\"#C5_0_6b4a4f422b\" x=\"-47.559415\" y=\"287.905007\" style=\"fill: #107a37\"/>\n    </g>\n    <g clip-path=\"url(#pdbacfce08d)\">\n     <use xlink:href=\"#C5_0_6b4a4f422b\" x=\"-47.559415\" y=\"276.024015\" style=\"fill: #a4da9e\"/>\n    </g>\n    <g clip-path=\"url(#pdbacfce08d)\">\n     <use xlink:href=\"#C5_0_6b4a4f422b\" x=\"-47.559415\" y=\"264.143023\" style=\"fill: #eaf7e6\"/>\n    </g>\n    <g clip-path=\"url(#pdbacfce08d)\">\n     <use xlink:href=\"#C5_0_6b4a4f422b\" x=\"-47.559415\" y=\"252.262031\" style=\"fill: #f7fcf5\"/>\n    </g>\n    <g clip-path=\"url(#pdbacfce08d)\">\n     <use xlink:href=\"#C5_0_6b4a4f422b\" x=\"-47.559415\" y=\"240.38104\" style=\"fill: #f7fcf5\"/>\n    </g>\n    <g clip-path=\"url(#pdbacfce08d)\">\n     <use xlink:href=\"#C5_0_6b4a4f422b\" x=\"-47.559415\" y=\"228.500048\" style=\"fill: #f7fcf5\"/>\n    </g>\n    <g clip-path=\"url(#pdbacfce08d)\">\n     <use xlink:href=\"#C5_0_6b4a4f422b\" x=\"-47.559415\" y=\"216.619056\" style=\"fill: #f7fcf5\"/>\n    </g>\n    <g clip-path=\"url(#pdbacfce08d)\">\n     <use xlink:href=\"#C5_0_6b4a4f422b\" x=\"-40.708506\" y=\"335.428974\" style=\"fill: #f7fcf5\"/>\n    </g>\n    <g clip-path=\"url(#pdbacfce08d)\">\n     <use xlink:href=\"#C5_0_6b4a4f422b\" x=\"-40.708506\" y=\"323.547982\" style=\"fill: #f7fcf5\"/>\n    </g>\n    <g clip-path=\"url(#pdbacfce08d)\">\n     <use xlink:href=\"#C5_0_6b4a4f422b\" x=\"-40.708506\" y=\"311.66699\" style=\"fill: #d8f0d2\"/>\n    </g>\n    <g clip-path=\"url(#pdbacfce08d)\">\n     <use xlink:href=\"#C5_0_6b4a4f422b\" x=\"-40.708506\" y=\"299.785998\" style=\"fill: #84cc83\"/>\n    </g>\n    <g clip-path=\"url(#pdbacfce08d)\">\n     <use xlink:href=\"#C5_0_6b4a4f422b\" x=\"-40.708506\" y=\"287.905007\" style=\"fill: #107a37\"/>\n    </g>\n    <g clip-path=\"url(#pdbacfce08d)\">\n     <use xlink:href=\"#C5_0_6b4a4f422b\" x=\"-40.708506\" y=\"276.024015\" style=\"fill: #c1e6ba\"/>\n    </g>\n    <g clip-path=\"url(#pdbacfce08d)\">\n     <use xlink:href=\"#C5_0_6b4a4f422b\" x=\"-40.708506\" y=\"264.143023\" style=\"fill: #a4da9e\"/>\n    </g>\n    <g clip-path=\"url(#pdbacfce08d)\">\n     <use xlink:href=\"#C5_0_6b4a4f422b\" x=\"-40.708506\" y=\"252.262031\" style=\"fill: #c1e6ba\"/>\n    </g>\n    <g clip-path=\"url(#pdbacfce08d)\">\n     <use xlink:href=\"#C5_0_6b4a4f422b\" x=\"-40.708506\" y=\"240.38104\" style=\"fill: #f7fcf5\"/>\n    </g>\n    <g clip-path=\"url(#pdbacfce08d)\">\n     <use xlink:href=\"#C5_0_6b4a4f422b\" x=\"-40.708506\" y=\"228.500048\" style=\"fill: #f7fcf5\"/>\n    </g>\n    <g clip-path=\"url(#pdbacfce08d)\">\n     <use xlink:href=\"#C5_0_6b4a4f422b\" x=\"-40.708506\" y=\"216.619056\" style=\"fill: #f7fcf5\"/>\n    </g>\n    <g clip-path=\"url(#pdbacfce08d)\">\n     <use xlink:href=\"#C5_0_6b4a4f422b\" x=\"-33.857597\" y=\"335.428974\" style=\"fill: #f7fcf5\"/>\n    </g>\n    <g clip-path=\"url(#pdbacfce08d)\">\n     <use xlink:href=\"#C5_0_6b4a4f422b\" x=\"-33.857597\" y=\"323.547982\" style=\"fill: #eaf7e6\"/>\n    </g>\n    <g clip-path=\"url(#pdbacfce08d)\">\n     <use xlink:href=\"#C5_0_6b4a4f422b\" x=\"-33.857597\" y=\"311.66699\" style=\"fill: #c1e6ba\"/>\n    </g>\n    <g clip-path=\"url(#pdbacfce08d)\">\n     <use xlink:href=\"#C5_0_6b4a4f422b\" x=\"-33.857597\" y=\"299.785998\" style=\"fill: #d8f0d2\"/>\n    </g>\n    <g clip-path=\"url(#pdbacfce08d)\">\n     <use xlink:href=\"#C5_0_6b4a4f422b\" x=\"-33.857597\" y=\"287.905007\" style=\"fill: #c1e6ba\"/>\n    </g>\n    <g clip-path=\"url(#pdbacfce08d)\">\n     <use xlink:href=\"#C5_0_6b4a4f422b\" x=\"-33.857597\" y=\"276.024015\" style=\"fill: #84cc83\"/>\n    </g>\n    <g clip-path=\"url(#pdbacfce08d)\">\n     <use xlink:href=\"#C5_0_6b4a4f422b\" x=\"-33.857597\" y=\"264.143023\" style=\"fill: #c1e6ba\"/>\n    </g>\n    <g clip-path=\"url(#pdbacfce08d)\">\n     <use xlink:href=\"#C5_0_6b4a4f422b\" x=\"-33.857597\" y=\"252.262031\" style=\"fill: #eaf7e6\"/>\n    </g>\n    <g clip-path=\"url(#pdbacfce08d)\">\n     <use xlink:href=\"#C5_0_6b4a4f422b\" x=\"-33.857597\" y=\"240.38104\" style=\"fill: #d8f0d2\"/>\n    </g>\n    <g clip-path=\"url(#pdbacfce08d)\">\n     <use xlink:href=\"#C5_0_6b4a4f422b\" x=\"-33.857597\" y=\"228.500048\" style=\"fill: #f7fcf5\"/>\n    </g>\n    <g clip-path=\"url(#pdbacfce08d)\">\n     <use xlink:href=\"#C5_0_6b4a4f422b\" x=\"-33.857597\" y=\"216.619056\" style=\"fill: #f7fcf5\"/>\n    </g>\n    <g clip-path=\"url(#pdbacfce08d)\">\n     <use xlink:href=\"#C5_0_6b4a4f422b\" x=\"-27.006687\" y=\"335.428974\" style=\"fill: #f7fcf5\"/>\n    </g>\n    <g clip-path=\"url(#pdbacfce08d)\">\n     <use xlink:href=\"#C5_0_6b4a4f422b\" x=\"-27.006687\" y=\"323.547982\" style=\"fill: #f7fcf5\"/>\n    </g>\n    <g clip-path=\"url(#pdbacfce08d)\">\n     <use xlink:href=\"#C5_0_6b4a4f422b\" x=\"-27.006687\" y=\"311.66699\" style=\"fill: #3fa85b\"/>\n    </g>\n    <g clip-path=\"url(#pdbacfce08d)\">\n     <use xlink:href=\"#C5_0_6b4a4f422b\" x=\"-27.006687\" y=\"299.785998\" style=\"fill: #3fa85b\"/>\n    </g>\n    <g clip-path=\"url(#pdbacfce08d)\">\n     <use xlink:href=\"#C5_0_6b4a4f422b\" x=\"-27.006687\" y=\"287.905007\" style=\"fill: #84cc83\"/>\n    </g>\n    <g clip-path=\"url(#pdbacfce08d)\">\n     <use xlink:href=\"#C5_0_6b4a4f422b\" x=\"-27.006687\" y=\"276.024015\" style=\"fill: #a4da9e\"/>\n    </g>\n    <g clip-path=\"url(#pdbacfce08d)\">\n     <use xlink:href=\"#C5_0_6b4a4f422b\" x=\"-27.006687\" y=\"264.143023\" style=\"fill: #c1e6ba\"/>\n    </g>\n    <g clip-path=\"url(#pdbacfce08d)\">\n     <use xlink:href=\"#C5_0_6b4a4f422b\" x=\"-27.006687\" y=\"252.262031\" style=\"fill: #d8f0d2\"/>\n    </g>\n    <g clip-path=\"url(#pdbacfce08d)\">\n     <use xlink:href=\"#C5_0_6b4a4f422b\" x=\"-27.006687\" y=\"240.38104\" style=\"fill: #eaf7e6\"/>\n    </g>\n    <g clip-path=\"url(#pdbacfce08d)\">\n     <use xlink:href=\"#C5_0_6b4a4f422b\" x=\"-27.006687\" y=\"228.500048\" style=\"fill: #eaf7e6\"/>\n    </g>\n    <g clip-path=\"url(#pdbacfce08d)\">\n     <use xlink:href=\"#C5_0_6b4a4f422b\" x=\"-27.006687\" y=\"216.619056\" style=\"fill: #eaf7e6\"/>\n    </g>\n    <g clip-path=\"url(#pdbacfce08d)\">\n     <use xlink:href=\"#C5_0_6b4a4f422b\" x=\"-20.155778\" y=\"335.428974\" style=\"fill: #eaf7e6\"/>\n    </g>\n    <g clip-path=\"url(#pdbacfce08d)\">\n     <use xlink:href=\"#C5_0_6b4a4f422b\" x=\"-20.155778\" y=\"323.547982\" style=\"fill: #f7fcf5\"/>\n    </g>\n    <g clip-path=\"url(#pdbacfce08d)\">\n     <use xlink:href=\"#C5_0_6b4a4f422b\" x=\"-20.155778\" y=\"311.66699\" style=\"fill: #d8f0d2\"/>\n    </g>\n    <g clip-path=\"url(#pdbacfce08d)\">\n     <use xlink:href=\"#C5_0_6b4a4f422b\" x=\"-20.155778\" y=\"299.785998\" style=\"fill: #c1e6ba\"/>\n    </g>\n    <g clip-path=\"url(#pdbacfce08d)\">\n     <use xlink:href=\"#C5_0_6b4a4f422b\" x=\"-20.155778\" y=\"287.905007\" style=\"fill: #a4da9e\"/>\n    </g>\n    <g clip-path=\"url(#pdbacfce08d)\">\n     <use xlink:href=\"#C5_0_6b4a4f422b\" x=\"-20.155778\" y=\"276.024015\" style=\"fill: #d8f0d2\"/>\n    </g>\n    <g clip-path=\"url(#pdbacfce08d)\">\n     <use xlink:href=\"#C5_0_6b4a4f422b\" x=\"-20.155778\" y=\"264.143023\" style=\"fill: #d8f0d2\"/>\n    </g>\n    <g clip-path=\"url(#pdbacfce08d)\">\n     <use xlink:href=\"#C5_0_6b4a4f422b\" x=\"-20.155778\" y=\"252.262031\" style=\"fill: #c1e6ba\"/>\n    </g>\n    <g clip-path=\"url(#pdbacfce08d)\">\n     <use xlink:href=\"#C5_0_6b4a4f422b\" x=\"-20.155778\" y=\"240.38104\" style=\"fill: #f7fcf5\"/>\n    </g>\n    <g clip-path=\"url(#pdbacfce08d)\">\n     <use xlink:href=\"#C5_0_6b4a4f422b\" x=\"-20.155778\" y=\"228.500048\" style=\"fill: #d8f0d2\"/>\n    </g>\n    <g clip-path=\"url(#pdbacfce08d)\">\n     <use xlink:href=\"#C5_0_6b4a4f422b\" x=\"-20.155778\" y=\"216.619056\" style=\"fill: #3fa85b\"/>\n    </g>\n    <g clip-path=\"url(#pdbacfce08d)\">\n     <use xlink:href=\"#C5_0_6b4a4f422b\" x=\"-13.304869\" y=\"335.428974\" style=\"fill: #eaf7e6\"/>\n    </g>\n    <g clip-path=\"url(#pdbacfce08d)\">\n     <use xlink:href=\"#C5_0_6b4a4f422b\" x=\"-13.304869\" y=\"323.547982\" style=\"fill: #84cc83\"/>\n    </g>\n    <g clip-path=\"url(#pdbacfce08d)\">\n     <use xlink:href=\"#C5_0_6b4a4f422b\" x=\"-13.304869\" y=\"311.66699\" style=\"fill: #eaf7e6\"/>\n    </g>\n    <g clip-path=\"url(#pdbacfce08d)\">\n     <use xlink:href=\"#C5_0_6b4a4f422b\" x=\"-13.304869\" y=\"299.785998\" style=\"fill: #c1e6ba\"/>\n    </g>\n    <g clip-path=\"url(#pdbacfce08d)\">\n     <use xlink:href=\"#C5_0_6b4a4f422b\" x=\"-13.304869\" y=\"287.905007\" style=\"fill: #c1e6ba\"/>\n    </g>\n    <g clip-path=\"url(#pdbacfce08d)\">\n     <use xlink:href=\"#C5_0_6b4a4f422b\" x=\"-13.304869\" y=\"276.024015\" style=\"fill: #84cc83\"/>\n    </g>\n    <g clip-path=\"url(#pdbacfce08d)\">\n     <use xlink:href=\"#C5_0_6b4a4f422b\" x=\"-13.304869\" y=\"264.143023\" style=\"fill: #a4da9e\"/>\n    </g>\n    <g clip-path=\"url(#pdbacfce08d)\">\n     <use xlink:href=\"#C5_0_6b4a4f422b\" x=\"-13.304869\" y=\"252.262031\" style=\"fill: #c1e6ba\"/>\n    </g>\n    <g clip-path=\"url(#pdbacfce08d)\">\n     <use xlink:href=\"#C5_0_6b4a4f422b\" x=\"-13.304869\" y=\"240.38104\" style=\"fill: #84cc83\"/>\n    </g>\n    <g clip-path=\"url(#pdbacfce08d)\">\n     <use xlink:href=\"#C5_0_6b4a4f422b\" x=\"-13.304869\" y=\"228.500048\" style=\"fill: #289049\"/>\n    </g>\n    <g clip-path=\"url(#pdbacfce08d)\">\n     <use xlink:href=\"#C5_0_6b4a4f422b\" x=\"-13.304869\" y=\"216.619056\" style=\"fill: #eaf7e6\"/>\n    </g>\n    <g clip-path=\"url(#pdbacfce08d)\">\n     <use xlink:href=\"#C5_0_6b4a4f422b\" x=\"-6.45396\" y=\"335.428974\" style=\"fill: #f7fcf5\"/>\n    </g>\n    <g clip-path=\"url(#pdbacfce08d)\">\n     <use xlink:href=\"#C5_0_6b4a4f422b\" x=\"-6.45396\" y=\"323.547982\" style=\"fill: #f7fcf5\"/>\n    </g>\n    <g clip-path=\"url(#pdbacfce08d)\">\n     <use xlink:href=\"#C5_0_6b4a4f422b\" x=\"-6.45396\" y=\"311.66699\" style=\"fill: #eaf7e6\"/>\n    </g>\n    <g clip-path=\"url(#pdbacfce08d)\">\n     <use xlink:href=\"#C5_0_6b4a4f422b\" x=\"-6.45396\" y=\"299.785998\" style=\"fill: #a4da9e\"/>\n    </g>\n    <g clip-path=\"url(#pdbacfce08d)\">\n     <use xlink:href=\"#C5_0_6b4a4f422b\" x=\"-6.45396\" y=\"287.905007\" style=\"fill: #a4da9e\"/>\n    </g>\n    <g clip-path=\"url(#pdbacfce08d)\">\n     <use xlink:href=\"#C5_0_6b4a4f422b\" x=\"-6.45396\" y=\"276.024015\" style=\"fill: #eaf7e6\"/>\n    </g>\n    <g clip-path=\"url(#pdbacfce08d)\">\n     <use xlink:href=\"#C5_0_6b4a4f422b\" x=\"-6.45396\" y=\"264.143023\" style=\"fill: #a4da9e\"/>\n    </g>\n    <g clip-path=\"url(#pdbacfce08d)\">\n     <use xlink:href=\"#C5_0_6b4a4f422b\" x=\"-6.45396\" y=\"252.262031\" style=\"fill: #c1e6ba\"/>\n    </g>\n    <g clip-path=\"url(#pdbacfce08d)\">\n     <use xlink:href=\"#C5_0_6b4a4f422b\" x=\"-6.45396\" y=\"240.38104\" style=\"fill: #a4da9e\"/>\n    </g>\n    <g clip-path=\"url(#pdbacfce08d)\">\n     <use xlink:href=\"#C5_0_6b4a4f422b\" x=\"-6.45396\" y=\"228.500048\" style=\"fill: #f7fcf5\"/>\n    </g>\n    <g clip-path=\"url(#pdbacfce08d)\">\n     <use xlink:href=\"#C5_0_6b4a4f422b\" x=\"-6.45396\" y=\"216.619056\" style=\"fill: #f7fcf5\"/>\n    </g>\n    <g clip-path=\"url(#pdbacfce08d)\">\n     <use xlink:href=\"#C5_0_6b4a4f422b\" x=\"0.396949\" y=\"335.428974\" style=\"fill: #eaf7e6\"/>\n    </g>\n    <g clip-path=\"url(#pdbacfce08d)\">\n     <use xlink:href=\"#C5_0_6b4a4f422b\" x=\"0.396949\" y=\"323.547982\" style=\"fill: #f7fcf5\"/>\n    </g>\n    <g clip-path=\"url(#pdbacfce08d)\">\n     <use xlink:href=\"#C5_0_6b4a4f422b\" x=\"0.396949\" y=\"311.66699\" style=\"fill: #f7fcf5\"/>\n    </g>\n    <g clip-path=\"url(#pdbacfce08d)\">\n     <use xlink:href=\"#C5_0_6b4a4f422b\" x=\"0.396949\" y=\"299.785998\" style=\"fill: #a4da9e\"/>\n    </g>\n    <g clip-path=\"url(#pdbacfce08d)\">\n     <use xlink:href=\"#C5_0_6b4a4f422b\" x=\"0.396949\" y=\"287.905007\" style=\"fill: #84cc83\"/>\n    </g>\n    <g clip-path=\"url(#pdbacfce08d)\">\n     <use xlink:href=\"#C5_0_6b4a4f422b\" x=\"0.396949\" y=\"276.024015\" style=\"fill: #d8f0d2\"/>\n    </g>\n    <g clip-path=\"url(#pdbacfce08d)\">\n     <use xlink:href=\"#C5_0_6b4a4f422b\" x=\"0.396949\" y=\"264.143023\" style=\"fill: #289049\"/>\n    </g>\n    <g clip-path=\"url(#pdbacfce08d)\">\n     <use xlink:href=\"#C5_0_6b4a4f422b\" x=\"0.396949\" y=\"252.262031\" style=\"fill: #c1e6ba\"/>\n    </g>\n    <g clip-path=\"url(#pdbacfce08d)\">\n     <use xlink:href=\"#C5_0_6b4a4f422b\" x=\"0.396949\" y=\"240.38104\" style=\"fill: #f7fcf5\"/>\n    </g>\n    <g clip-path=\"url(#pdbacfce08d)\">\n     <use xlink:href=\"#C5_0_6b4a4f422b\" x=\"0.396949\" y=\"228.500048\" style=\"fill: #f7fcf5\"/>\n    </g>\n    <g clip-path=\"url(#pdbacfce08d)\">\n     <use xlink:href=\"#C5_0_6b4a4f422b\" x=\"0.396949\" y=\"216.619056\" style=\"fill: #f7fcf5\"/>\n    </g>\n    <g clip-path=\"url(#pdbacfce08d)\">\n     <use xlink:href=\"#C5_0_6b4a4f422b\" x=\"7.247858\" y=\"335.428974\" style=\"fill: #d8f0d2\"/>\n    </g>\n    <g clip-path=\"url(#pdbacfce08d)\">\n     <use xlink:href=\"#C5_0_6b4a4f422b\" x=\"7.247858\" y=\"323.547982\" style=\"fill: #f7fcf5\"/>\n    </g>\n    <g clip-path=\"url(#pdbacfce08d)\">\n     <use xlink:href=\"#C5_0_6b4a4f422b\" x=\"7.247858\" y=\"311.66699\" style=\"fill: #eaf7e6\"/>\n    </g>\n    <g clip-path=\"url(#pdbacfce08d)\">\n     <use xlink:href=\"#C5_0_6b4a4f422b\" x=\"7.247858\" y=\"299.785998\" style=\"fill: #c1e6ba\"/>\n    </g>\n    <g clip-path=\"url(#pdbacfce08d)\">\n     <use xlink:href=\"#C5_0_6b4a4f422b\" x=\"7.247858\" y=\"287.905007\" style=\"fill: #d8f0d2\"/>\n    </g>\n    <g clip-path=\"url(#pdbacfce08d)\">\n     <use xlink:href=\"#C5_0_6b4a4f422b\" x=\"7.247858\" y=\"276.024015\" style=\"fill: #f7fcf5\"/>\n    </g>\n    <g clip-path=\"url(#pdbacfce08d)\">\n     <use xlink:href=\"#C5_0_6b4a4f422b\" x=\"7.247858\" y=\"264.143023\" style=\"fill: #f7fcf5\"/>\n    </g>\n    <g clip-path=\"url(#pdbacfce08d)\">\n     <use xlink:href=\"#C5_0_6b4a4f422b\" x=\"7.247858\" y=\"252.262031\" style=\"fill: #f7fcf5\"/>\n    </g>\n    <g clip-path=\"url(#pdbacfce08d)\">\n     <use xlink:href=\"#C5_0_6b4a4f422b\" x=\"7.247858\" y=\"240.38104\" style=\"fill: #f7fcf5\"/>\n    </g>\n    <g clip-path=\"url(#pdbacfce08d)\">\n     <use xlink:href=\"#C5_0_6b4a4f422b\" x=\"7.247858\" y=\"228.500048\" style=\"fill: #f7fcf5\"/>\n    </g>\n    <g clip-path=\"url(#pdbacfce08d)\">\n     <use xlink:href=\"#C5_0_6b4a4f422b\" x=\"7.247858\" y=\"216.619056\" style=\"fill: #f7fcf5\"/>\n    </g>\n    <g clip-path=\"url(#pdbacfce08d)\">\n     <use xlink:href=\"#C5_0_6b4a4f422b\" x=\"14.098767\" y=\"335.428974\" style=\"fill: #f7fcf5\"/>\n    </g>\n    <g clip-path=\"url(#pdbacfce08d)\">\n     <use xlink:href=\"#C5_0_6b4a4f422b\" x=\"14.098767\" y=\"323.547982\" style=\"fill: #eaf7e6\"/>\n    </g>\n    <g clip-path=\"url(#pdbacfce08d)\">\n     <use xlink:href=\"#C5_0_6b4a4f422b\" x=\"14.098767\" y=\"311.66699\" style=\"fill: #eaf7e6\"/>\n    </g>\n    <g clip-path=\"url(#pdbacfce08d)\">\n     <use xlink:href=\"#C5_0_6b4a4f422b\" x=\"14.098767\" y=\"299.785998\" style=\"fill: #eaf7e6\"/>\n    </g>\n    <g clip-path=\"url(#pdbacfce08d)\">\n     <use xlink:href=\"#C5_0_6b4a4f422b\" x=\"14.098767\" y=\"287.905007\" style=\"fill: #f7fcf5\"/>\n    </g>\n    <g clip-path=\"url(#pdbacfce08d)\">\n     <use xlink:href=\"#C5_0_6b4a4f422b\" x=\"14.098767\" y=\"276.024015\" style=\"fill: #f7fcf5\"/>\n    </g>\n    <g clip-path=\"url(#pdbacfce08d)\">\n     <use xlink:href=\"#C5_0_6b4a4f422b\" x=\"14.098767\" y=\"264.143023\" style=\"fill: #f7fcf5\"/>\n    </g>\n    <g clip-path=\"url(#pdbacfce08d)\">\n     <use xlink:href=\"#C5_0_6b4a4f422b\" x=\"14.098767\" y=\"252.262031\" style=\"fill: #f7fcf5\"/>\n    </g>\n    <g clip-path=\"url(#pdbacfce08d)\">\n     <use xlink:href=\"#C5_0_6b4a4f422b\" x=\"14.098767\" y=\"240.38104\" style=\"fill: #f7fcf5\"/>\n    </g>\n    <g clip-path=\"url(#pdbacfce08d)\">\n     <use xlink:href=\"#C5_0_6b4a4f422b\" x=\"14.098767\" y=\"228.500048\" style=\"fill: #f7fcf5\"/>\n    </g>\n    <g clip-path=\"url(#pdbacfce08d)\">\n     <use xlink:href=\"#C5_0_6b4a4f422b\" x=\"14.098767\" y=\"216.619056\" style=\"fill: #f7fcf5\"/>\n    </g>\n    <g clip-path=\"url(#pdbacfce08d)\">\n     <use xlink:href=\"#C5_0_6b4a4f422b\" x=\"20.949676\" y=\"335.428974\" style=\"fill: #f7fcf5\"/>\n    </g>\n    <g clip-path=\"url(#pdbacfce08d)\">\n     <use xlink:href=\"#C5_0_6b4a4f422b\" x=\"20.949676\" y=\"323.547982\" style=\"fill: #f7fcf5\"/>\n    </g>\n    <g clip-path=\"url(#pdbacfce08d)\">\n     <use xlink:href=\"#C5_0_6b4a4f422b\" x=\"20.949676\" y=\"311.66699\" style=\"fill: #d8f0d2\"/>\n    </g>\n    <g clip-path=\"url(#pdbacfce08d)\">\n     <use xlink:href=\"#C5_0_6b4a4f422b\" x=\"20.949676\" y=\"299.785998\" style=\"fill: #f7fcf5\"/>\n    </g>\n    <g clip-path=\"url(#pdbacfce08d)\">\n     <use xlink:href=\"#C5_0_6b4a4f422b\" x=\"20.949676\" y=\"287.905007\" style=\"fill: #f7fcf5\"/>\n    </g>\n    <g clip-path=\"url(#pdbacfce08d)\">\n     <use xlink:href=\"#C5_0_6b4a4f422b\" x=\"20.949676\" y=\"276.024015\" style=\"fill: #f7fcf5\"/>\n    </g>\n    <g clip-path=\"url(#pdbacfce08d)\">\n     <use xlink:href=\"#C5_0_6b4a4f422b\" x=\"20.949676\" y=\"264.143023\" style=\"fill: #f7fcf5\"/>\n    </g>\n    <g clip-path=\"url(#pdbacfce08d)\">\n     <use xlink:href=\"#C5_0_6b4a4f422b\" x=\"20.949676\" y=\"252.262031\" style=\"fill: #f7fcf5\"/>\n    </g>\n    <g clip-path=\"url(#pdbacfce08d)\">\n     <use xlink:href=\"#C5_0_6b4a4f422b\" x=\"20.949676\" y=\"240.38104\" style=\"fill: #f7fcf5\"/>\n    </g>\n    <g clip-path=\"url(#pdbacfce08d)\">\n     <use xlink:href=\"#C5_0_6b4a4f422b\" x=\"20.949676\" y=\"228.500048\" style=\"fill: #f7fcf5\"/>\n    </g>\n    <g clip-path=\"url(#pdbacfce08d)\">\n     <use xlink:href=\"#C5_0_6b4a4f422b\" x=\"20.949676\" y=\"216.619056\" style=\"fill: #f7fcf5\"/>\n    </g>\n    <g clip-path=\"url(#pdbacfce08d)\">\n     <use xlink:href=\"#C5_0_6b4a4f422b\" x=\"27.800585\" y=\"335.428974\" style=\"fill: #f7fcf5\"/>\n    </g>\n    <g clip-path=\"url(#pdbacfce08d)\">\n     <use xlink:href=\"#C5_0_6b4a4f422b\" x=\"27.800585\" y=\"323.547982\" style=\"fill: #f7fcf5\"/>\n    </g>\n    <g clip-path=\"url(#pdbacfce08d)\">\n     <use xlink:href=\"#C5_0_6b4a4f422b\" x=\"27.800585\" y=\"311.66699\" style=\"fill: #f7fcf5\"/>\n    </g>\n    <g clip-path=\"url(#pdbacfce08d)\">\n     <use xlink:href=\"#C5_0_6b4a4f422b\" x=\"27.800585\" y=\"299.785998\" style=\"fill: #f7fcf5\"/>\n    </g>\n    <g clip-path=\"url(#pdbacfce08d)\">\n     <use xlink:href=\"#C5_0_6b4a4f422b\" x=\"27.800585\" y=\"287.905007\" style=\"fill: #f7fcf5\"/>\n    </g>\n    <g clip-path=\"url(#pdbacfce08d)\">\n     <use xlink:href=\"#C5_0_6b4a4f422b\" x=\"27.800585\" y=\"276.024015\" style=\"fill: #f7fcf5\"/>\n    </g>\n    <g clip-path=\"url(#pdbacfce08d)\">\n     <use xlink:href=\"#C5_0_6b4a4f422b\" x=\"27.800585\" y=\"264.143023\" style=\"fill: #f7fcf5\"/>\n    </g>\n    <g clip-path=\"url(#pdbacfce08d)\">\n     <use xlink:href=\"#C5_0_6b4a4f422b\" x=\"27.800585\" y=\"252.262031\" style=\"fill: #f7fcf5\"/>\n    </g>\n    <g clip-path=\"url(#pdbacfce08d)\">\n     <use xlink:href=\"#C5_0_6b4a4f422b\" x=\"27.800585\" y=\"240.38104\" style=\"fill: #f7fcf5\"/>\n    </g>\n    <g clip-path=\"url(#pdbacfce08d)\">\n     <use xlink:href=\"#C5_0_6b4a4f422b\" x=\"27.800585\" y=\"228.500048\" style=\"fill: #f7fcf5\"/>\n    </g>\n    <g clip-path=\"url(#pdbacfce08d)\">\n     <use xlink:href=\"#C5_0_6b4a4f422b\" x=\"27.800585\" y=\"216.619056\" style=\"fill: #f7fcf5\"/>\n    </g>\n    <g clip-path=\"url(#pdbacfce08d)\">\n     <use xlink:href=\"#C5_0_6b4a4f422b\" x=\"34.651494\" y=\"335.428974\" style=\"fill: #f7fcf5\"/>\n    </g>\n    <g clip-path=\"url(#pdbacfce08d)\">\n     <use xlink:href=\"#C5_0_6b4a4f422b\" x=\"34.651494\" y=\"323.547982\" style=\"fill: #f7fcf5\"/>\n    </g>\n    <g clip-path=\"url(#pdbacfce08d)\">\n     <use xlink:href=\"#C5_0_6b4a4f422b\" x=\"34.651494\" y=\"311.66699\" style=\"fill: #f7fcf5\"/>\n    </g>\n    <g clip-path=\"url(#pdbacfce08d)\">\n     <use xlink:href=\"#C5_0_6b4a4f422b\" x=\"34.651494\" y=\"299.785998\" style=\"fill: #f7fcf5\"/>\n    </g>\n    <g clip-path=\"url(#pdbacfce08d)\">\n     <use xlink:href=\"#C5_0_6b4a4f422b\" x=\"34.651494\" y=\"287.905007\" style=\"fill: #f7fcf5\"/>\n    </g>\n    <g clip-path=\"url(#pdbacfce08d)\">\n     <use xlink:href=\"#C5_0_6b4a4f422b\" x=\"34.651494\" y=\"276.024015\" style=\"fill: #d8f0d2\"/>\n    </g>\n    <g clip-path=\"url(#pdbacfce08d)\">\n     <use xlink:href=\"#C5_0_6b4a4f422b\" x=\"34.651494\" y=\"264.143023\" style=\"fill: #f7fcf5\"/>\n    </g>\n    <g clip-path=\"url(#pdbacfce08d)\">\n     <use xlink:href=\"#C5_0_6b4a4f422b\" x=\"34.651494\" y=\"252.262031\" style=\"fill: #f7fcf5\"/>\n    </g>\n    <g clip-path=\"url(#pdbacfce08d)\">\n     <use xlink:href=\"#C5_0_6b4a4f422b\" x=\"34.651494\" y=\"240.38104\" style=\"fill: #f7fcf5\"/>\n    </g>\n    <g clip-path=\"url(#pdbacfce08d)\">\n     <use xlink:href=\"#C5_0_6b4a4f422b\" x=\"34.651494\" y=\"228.500048\" style=\"fill: #f7fcf5\"/>\n    </g>\n    <g clip-path=\"url(#pdbacfce08d)\">\n     <use xlink:href=\"#C5_0_6b4a4f422b\" x=\"34.651494\" y=\"216.619056\" style=\"fill: #f7fcf5\"/>\n    </g>\n    <g clip-path=\"url(#pdbacfce08d)\">\n     <use xlink:href=\"#C5_0_6b4a4f422b\" x=\"41.502403\" y=\"335.428974\" style=\"fill: #f7fcf5\"/>\n    </g>\n    <g clip-path=\"url(#pdbacfce08d)\">\n     <use xlink:href=\"#C5_0_6b4a4f422b\" x=\"41.502403\" y=\"323.547982\" style=\"fill: #f7fcf5\"/>\n    </g>\n    <g clip-path=\"url(#pdbacfce08d)\">\n     <use xlink:href=\"#C5_0_6b4a4f422b\" x=\"41.502403\" y=\"311.66699\" style=\"fill: #f7fcf5\"/>\n    </g>\n    <g clip-path=\"url(#pdbacfce08d)\">\n     <use xlink:href=\"#C5_0_6b4a4f422b\" x=\"41.502403\" y=\"299.785998\" style=\"fill: #f7fcf5\"/>\n    </g>\n    <g clip-path=\"url(#pdbacfce08d)\">\n     <use xlink:href=\"#C5_0_6b4a4f422b\" x=\"41.502403\" y=\"287.905007\" style=\"fill: #f7fcf5\"/>\n    </g>\n    <g clip-path=\"url(#pdbacfce08d)\">\n     <use xlink:href=\"#C5_0_6b4a4f422b\" x=\"41.502403\" y=\"276.024015\" style=\"fill: #eaf7e6\"/>\n    </g>\n    <g clip-path=\"url(#pdbacfce08d)\">\n     <use xlink:href=\"#C5_0_6b4a4f422b\" x=\"41.502403\" y=\"264.143023\" style=\"fill: #f7fcf5\"/>\n    </g>\n    <g clip-path=\"url(#pdbacfce08d)\">\n     <use xlink:href=\"#C5_0_6b4a4f422b\" x=\"41.502403\" y=\"252.262031\" style=\"fill: #c1e6ba\"/>\n    </g>\n    <g clip-path=\"url(#pdbacfce08d)\">\n     <use xlink:href=\"#C5_0_6b4a4f422b\" x=\"41.502403\" y=\"240.38104\" style=\"fill: #f7fcf5\"/>\n    </g>\n    <g clip-path=\"url(#pdbacfce08d)\">\n     <use xlink:href=\"#C5_0_6b4a4f422b\" x=\"41.502403\" y=\"228.500048\" style=\"fill: #f7fcf5\"/>\n    </g>\n    <g clip-path=\"url(#pdbacfce08d)\">\n     <use xlink:href=\"#C5_0_6b4a4f422b\" x=\"41.502403\" y=\"216.619056\" style=\"fill: #f7fcf5\"/>\n    </g>\n    <g clip-path=\"url(#pdbacfce08d)\">\n     <use xlink:href=\"#C5_0_6b4a4f422b\" x=\"48.353313\" y=\"335.428974\" style=\"fill: #f7fcf5\"/>\n    </g>\n    <g clip-path=\"url(#pdbacfce08d)\">\n     <use xlink:href=\"#C5_0_6b4a4f422b\" x=\"48.353313\" y=\"323.547982\" style=\"fill: #f7fcf5\"/>\n    </g>\n    <g clip-path=\"url(#pdbacfce08d)\">\n     <use xlink:href=\"#C5_0_6b4a4f422b\" x=\"48.353313\" y=\"311.66699\" style=\"fill: #f7fcf5\"/>\n    </g>\n    <g clip-path=\"url(#pdbacfce08d)\">\n     <use xlink:href=\"#C5_0_6b4a4f422b\" x=\"48.353313\" y=\"299.785998\" style=\"fill: #f7fcf5\"/>\n    </g>\n    <g clip-path=\"url(#pdbacfce08d)\">\n     <use xlink:href=\"#C5_0_6b4a4f422b\" x=\"48.353313\" y=\"287.905007\" style=\"fill: #eaf7e6\"/>\n    </g>\n    <g clip-path=\"url(#pdbacfce08d)\">\n     <use xlink:href=\"#C5_0_6b4a4f422b\" x=\"48.353313\" y=\"276.024015\" style=\"fill: #d8f0d2\"/>\n    </g>\n    <g clip-path=\"url(#pdbacfce08d)\">\n     <use xlink:href=\"#C5_0_6b4a4f422b\" x=\"48.353313\" y=\"264.143023\" style=\"fill: #c1e6ba\"/>\n    </g>\n    <g clip-path=\"url(#pdbacfce08d)\">\n     <use xlink:href=\"#C5_0_6b4a4f422b\" x=\"48.353313\" y=\"252.262031\" style=\"fill: #84cc83\"/>\n    </g>\n    <g clip-path=\"url(#pdbacfce08d)\">\n     <use xlink:href=\"#C5_0_6b4a4f422b\" x=\"48.353313\" y=\"240.38104\" style=\"fill: #f7fcf5\"/>\n    </g>\n    <g clip-path=\"url(#pdbacfce08d)\">\n     <use xlink:href=\"#C5_0_6b4a4f422b\" x=\"48.353313\" y=\"228.500048\" style=\"fill: #f7fcf5\"/>\n    </g>\n    <g clip-path=\"url(#pdbacfce08d)\">\n     <use xlink:href=\"#C5_0_6b4a4f422b\" x=\"48.353313\" y=\"216.619056\" style=\"fill: #f7fcf5\"/>\n    </g>\n    <g clip-path=\"url(#pdbacfce08d)\">\n     <use xlink:href=\"#C5_0_6b4a4f422b\" x=\"55.204222\" y=\"335.428974\" style=\"fill: #f7fcf5\"/>\n    </g>\n    <g clip-path=\"url(#pdbacfce08d)\">\n     <use xlink:href=\"#C5_0_6b4a4f422b\" x=\"55.204222\" y=\"323.547982\" style=\"fill: #f7fcf5\"/>\n    </g>\n    <g clip-path=\"url(#pdbacfce08d)\">\n     <use xlink:href=\"#C5_0_6b4a4f422b\" x=\"55.204222\" y=\"311.66699\" style=\"fill: #f7fcf5\"/>\n    </g>\n    <g clip-path=\"url(#pdbacfce08d)\">\n     <use xlink:href=\"#C5_0_6b4a4f422b\" x=\"55.204222\" y=\"299.785998\" style=\"fill: #d8f0d2\"/>\n    </g>\n    <g clip-path=\"url(#pdbacfce08d)\">\n     <use xlink:href=\"#C5_0_6b4a4f422b\" x=\"55.204222\" y=\"287.905007\" style=\"fill: #c1e6ba\"/>\n    </g>\n    <g clip-path=\"url(#pdbacfce08d)\">\n     <use xlink:href=\"#C5_0_6b4a4f422b\" x=\"55.204222\" y=\"276.024015\" style=\"fill: #84cc83\"/>\n    </g>\n    <g clip-path=\"url(#pdbacfce08d)\">\n     <use xlink:href=\"#C5_0_6b4a4f422b\" x=\"55.204222\" y=\"264.143023\" style=\"fill: #d8f0d2\"/>\n    </g>\n    <g clip-path=\"url(#pdbacfce08d)\">\n     <use xlink:href=\"#C5_0_6b4a4f422b\" x=\"55.204222\" y=\"252.262031\" style=\"fill: #eaf7e6\"/>\n    </g>\n    <g clip-path=\"url(#pdbacfce08d)\">\n     <use xlink:href=\"#C5_0_6b4a4f422b\" x=\"55.204222\" y=\"240.38104\" style=\"fill: #f7fcf5\"/>\n    </g>\n    <g clip-path=\"url(#pdbacfce08d)\">\n     <use xlink:href=\"#C5_0_6b4a4f422b\" x=\"55.204222\" y=\"228.500048\" style=\"fill: #f7fcf5\"/>\n    </g>\n    <g clip-path=\"url(#pdbacfce08d)\">\n     <use xlink:href=\"#C5_0_6b4a4f422b\" x=\"55.204222\" y=\"216.619056\" style=\"fill: #f7fcf5\"/>\n    </g>\n    <g clip-path=\"url(#pdbacfce08d)\">\n     <use xlink:href=\"#C5_0_6b4a4f422b\" x=\"62.055131\" y=\"335.428974\" style=\"fill: #f7fcf5\"/>\n    </g>\n    <g clip-path=\"url(#pdbacfce08d)\">\n     <use xlink:href=\"#C5_0_6b4a4f422b\" x=\"62.055131\" y=\"323.547982\" style=\"fill: #f7fcf5\"/>\n    </g>\n    <g clip-path=\"url(#pdbacfce08d)\">\n     <use xlink:href=\"#C5_0_6b4a4f422b\" x=\"62.055131\" y=\"311.66699\" style=\"fill: #f7fcf5\"/>\n    </g>\n    <g clip-path=\"url(#pdbacfce08d)\">\n     <use xlink:href=\"#C5_0_6b4a4f422b\" x=\"62.055131\" y=\"299.785998\" style=\"fill: #eaf7e6\"/>\n    </g>\n    <g clip-path=\"url(#pdbacfce08d)\">\n     <use xlink:href=\"#C5_0_6b4a4f422b\" x=\"62.055131\" y=\"287.905007\" style=\"fill: #eaf7e6\"/>\n    </g>\n    <g clip-path=\"url(#pdbacfce08d)\">\n     <use xlink:href=\"#C5_0_6b4a4f422b\" x=\"62.055131\" y=\"276.024015\" style=\"fill: #d8f0d2\"/>\n    </g>\n    <g clip-path=\"url(#pdbacfce08d)\">\n     <use xlink:href=\"#C5_0_6b4a4f422b\" x=\"62.055131\" y=\"264.143023\" style=\"fill: #eaf7e6\"/>\n    </g>\n    <g clip-path=\"url(#pdbacfce08d)\">\n     <use xlink:href=\"#C5_0_6b4a4f422b\" x=\"62.055131\" y=\"252.262031\" style=\"fill: #eaf7e6\"/>\n    </g>\n    <g clip-path=\"url(#pdbacfce08d)\">\n     <use xlink:href=\"#C5_0_6b4a4f422b\" x=\"62.055131\" y=\"240.38104\" style=\"fill: #f7fcf5\"/>\n    </g>\n    <g clip-path=\"url(#pdbacfce08d)\">\n     <use xlink:href=\"#C5_0_6b4a4f422b\" x=\"62.055131\" y=\"228.500048\" style=\"fill: #f7fcf5\"/>\n    </g>\n    <g clip-path=\"url(#pdbacfce08d)\">\n     <use xlink:href=\"#C5_0_6b4a4f422b\" x=\"62.055131\" y=\"216.619056\" style=\"fill: #f7fcf5\"/>\n    </g>\n    <g clip-path=\"url(#pdbacfce08d)\">\n     <use xlink:href=\"#C5_0_6b4a4f422b\" x=\"68.90604\" y=\"335.428974\" style=\"fill: #f7fcf5\"/>\n    </g>\n    <g clip-path=\"url(#pdbacfce08d)\">\n     <use xlink:href=\"#C5_0_6b4a4f422b\" x=\"68.90604\" y=\"323.547982\" style=\"fill: #f7fcf5\"/>\n    </g>\n    <g clip-path=\"url(#pdbacfce08d)\">\n     <use xlink:href=\"#C5_0_6b4a4f422b\" x=\"68.90604\" y=\"311.66699\" style=\"fill: #f7fcf5\"/>\n    </g>\n    <g clip-path=\"url(#pdbacfce08d)\">\n     <use xlink:href=\"#C5_0_6b4a4f422b\" x=\"68.90604\" y=\"299.785998\" style=\"fill: #d8f0d2\"/>\n    </g>\n    <g clip-path=\"url(#pdbacfce08d)\">\n     <use xlink:href=\"#C5_0_6b4a4f422b\" x=\"68.90604\" y=\"287.905007\" style=\"fill: #a4da9e\"/>\n    </g>\n    <g clip-path=\"url(#pdbacfce08d)\">\n     <use xlink:href=\"#C5_0_6b4a4f422b\" x=\"68.90604\" y=\"276.024015\" style=\"fill: #a4da9e\"/>\n    </g>\n    <g clip-path=\"url(#pdbacfce08d)\">\n     <use xlink:href=\"#C5_0_6b4a4f422b\" x=\"68.90604\" y=\"264.143023\" style=\"fill: #d8f0d2\"/>\n    </g>\n    <g clip-path=\"url(#pdbacfce08d)\">\n     <use xlink:href=\"#C5_0_6b4a4f422b\" x=\"68.90604\" y=\"252.262031\" style=\"fill: #f7fcf5\"/>\n    </g>\n    <g clip-path=\"url(#pdbacfce08d)\">\n     <use xlink:href=\"#C5_0_6b4a4f422b\" x=\"68.90604\" y=\"240.38104\" style=\"fill: #f7fcf5\"/>\n    </g>\n    <g clip-path=\"url(#pdbacfce08d)\">\n     <use xlink:href=\"#C5_0_6b4a4f422b\" x=\"68.90604\" y=\"228.500048\" style=\"fill: #f7fcf5\"/>\n    </g>\n    <g clip-path=\"url(#pdbacfce08d)\">\n     <use xlink:href=\"#C5_0_6b4a4f422b\" x=\"68.90604\" y=\"216.619056\" style=\"fill: #f7fcf5\"/>\n    </g>\n    <g clip-path=\"url(#pdbacfce08d)\">\n     <use xlink:href=\"#C5_0_6b4a4f422b\" x=\"75.756949\" y=\"335.428974\" style=\"fill: #f7fcf5\"/>\n    </g>\n    <g clip-path=\"url(#pdbacfce08d)\">\n     <use xlink:href=\"#C5_0_6b4a4f422b\" x=\"75.756949\" y=\"323.547982\" style=\"fill: #f7fcf5\"/>\n    </g>\n    <g clip-path=\"url(#pdbacfce08d)\">\n     <use xlink:href=\"#C5_0_6b4a4f422b\" x=\"75.756949\" y=\"311.66699\" style=\"fill: #f7fcf5\"/>\n    </g>\n    <g clip-path=\"url(#pdbacfce08d)\">\n     <use xlink:href=\"#C5_0_6b4a4f422b\" x=\"75.756949\" y=\"299.785998\" style=\"fill: #eaf7e6\"/>\n    </g>\n    <g clip-path=\"url(#pdbacfce08d)\">\n     <use xlink:href=\"#C5_0_6b4a4f422b\" x=\"75.756949\" y=\"287.905007\" style=\"fill: #62bb6d\"/>\n    </g>\n    <g clip-path=\"url(#pdbacfce08d)\">\n     <use xlink:href=\"#C5_0_6b4a4f422b\" x=\"75.756949\" y=\"276.024015\" style=\"fill: #d8f0d2\"/>\n    </g>\n    <g clip-path=\"url(#pdbacfce08d)\">\n     <use xlink:href=\"#C5_0_6b4a4f422b\" x=\"75.756949\" y=\"264.143023\" style=\"fill: #eaf7e6\"/>\n    </g>\n    <g clip-path=\"url(#pdbacfce08d)\">\n     <use xlink:href=\"#C5_0_6b4a4f422b\" x=\"75.756949\" y=\"252.262031\" style=\"fill: #f7fcf5\"/>\n    </g>\n    <g clip-path=\"url(#pdbacfce08d)\">\n     <use xlink:href=\"#C5_0_6b4a4f422b\" x=\"75.756949\" y=\"240.38104\" style=\"fill: #f7fcf5\"/>\n    </g>\n    <g clip-path=\"url(#pdbacfce08d)\">\n     <use xlink:href=\"#C5_0_6b4a4f422b\" x=\"75.756949\" y=\"228.500048\" style=\"fill: #f7fcf5\"/>\n    </g>\n    <g clip-path=\"url(#pdbacfce08d)\">\n     <use xlink:href=\"#C5_0_6b4a4f422b\" x=\"75.756949\" y=\"216.619056\" style=\"fill: #f7fcf5\"/>\n    </g>\n   </g>\n   <g id=\"matplotlib.axis_11\"/>\n   <g id=\"matplotlib.axis_12\"/>\n   <g id=\"patch_28\">\n    <path d=\"M 334.56 341.42175 \nL 334.56 197.66175 \n\" style=\"fill: none; stroke: #000000; stroke-width: 0.8; stroke-linejoin: miter; stroke-linecap: square\"/>\n   </g>\n   <g id=\"patch_29\">\n    <path d=\"M 485.28 341.42175 \nL 485.28 197.66175 \n\" style=\"fill: none; stroke: #000000; stroke-width: 0.8; stroke-linejoin: miter; stroke-linecap: square\"/>\n   </g>\n   <g id=\"patch_30\">\n    <path d=\"M 334.56 341.42175 \nL 485.28 341.42175 \n\" style=\"fill: none; stroke: #000000; stroke-width: 0.8; stroke-linejoin: miter; stroke-linecap: square\"/>\n   </g>\n   <g id=\"patch_31\">\n    <path d=\"M 334.56 197.66175 \nL 485.28 197.66175 \n\" style=\"fill: none; stroke: #000000; stroke-width: 0.8; stroke-linejoin: miter; stroke-linecap: square\"/>\n   </g>\n   <g id=\"text_6\">\n    <!-- surprise -->\n    <g transform=\"translate(380.934375 191.66175) scale(0.144 -0.144)\">\n     <defs>\n      <path id=\"DejaVuSans-75\" d=\"M 544 1381 \nL 544 3500 \nL 1119 3500 \nL 1119 1403 \nQ 1119 906 1312 657 \nQ 1506 409 1894 409 \nQ 2359 409 2629 706 \nQ 2900 1003 2900 1516 \nL 2900 3500 \nL 3475 3500 \nL 3475 0 \nL 2900 0 \nL 2900 538 \nQ 2691 219 2414 64 \nQ 2138 -91 1772 -91 \nQ 1169 -91 856 284 \nQ 544 659 544 1381 \nz\nM 1991 3584 \nL 1991 3584 \nz\n\" transform=\"scale(0.015625)\"/>\n      <path id=\"DejaVuSans-70\" d=\"M 1159 525 \nL 1159 -1331 \nL 581 -1331 \nL 581 3500 \nL 1159 3500 \nL 1159 2969 \nQ 1341 3281 1617 3432 \nQ 1894 3584 2278 3584 \nQ 2916 3584 3314 3078 \nQ 3713 2572 3713 1747 \nQ 3713 922 3314 415 \nQ 2916 -91 2278 -91 \nQ 1894 -91 1617 61 \nQ 1341 213 1159 525 \nz\nM 3116 1747 \nQ 3116 2381 2855 2742 \nQ 2594 3103 2138 3103 \nQ 1681 3103 1420 2742 \nQ 1159 2381 1159 1747 \nQ 1159 1113 1420 752 \nQ 1681 391 2138 391 \nQ 2594 391 2855 752 \nQ 3116 1113 3116 1747 \nz\n\" transform=\"scale(0.015625)\"/>\n      <path id=\"DejaVuSans-69\" d=\"M 603 3500 \nL 1178 3500 \nL 1178 0 \nL 603 0 \nL 603 3500 \nz\nM 603 4863 \nL 1178 4863 \nL 1178 4134 \nL 603 4134 \nL 603 4863 \nz\n\" transform=\"scale(0.015625)\"/>\n     </defs>\n     <use xlink:href=\"#DejaVuSans-73\"/>\n     <use xlink:href=\"#DejaVuSans-75\" x=\"52.099609\"/>\n     <use xlink:href=\"#DejaVuSans-72\" x=\"115.478516\"/>\n     <use xlink:href=\"#DejaVuSans-70\" x=\"156.591797\"/>\n     <use xlink:href=\"#DejaVuSans-72\" x=\"220.068359\"/>\n     <use xlink:href=\"#DejaVuSans-69\" x=\"261.181641\"/>\n     <use xlink:href=\"#DejaVuSans-73\" x=\"288.964844\"/>\n     <use xlink:href=\"#DejaVuSans-65\" x=\"341.064453\"/>\n    </g>\n   </g>\n  </g>\n </g>\n <defs>\n  <clipPath id=\"pa42482f8c9\">\n   <rect x=\"7.2\" y=\"24.14175\" width=\"150.72\" height=\"143.76\"/>\n  </clipPath>\n  <clipPath id=\"p15a108e7a8\">\n   <rect x=\"170.88\" y=\"24.14175\" width=\"150.72\" height=\"143.76\"/>\n  </clipPath>\n  <clipPath id=\"p4ae7f136d7\">\n   <rect x=\"334.56\" y=\"24.14175\" width=\"150.72\" height=\"143.76\"/>\n  </clipPath>\n  <clipPath id=\"p3cec06982f\">\n   <rect x=\"7.2\" y=\"197.66175\" width=\"150.72\" height=\"143.76\"/>\n  </clipPath>\n  <clipPath id=\"p24d371fa5a\">\n   <rect x=\"170.88\" y=\"197.66175\" width=\"150.72\" height=\"143.76\"/>\n  </clipPath>\n  <clipPath id=\"pdbacfce08d\">\n   <rect x=\"334.56\" y=\"197.66175\" width=\"150.72\" height=\"143.76\"/>\n  </clipPath>\n </defs>\n</svg>\n",
            "application/pdf": "[encoded data removed]"
          },
          "metadata": {}
        }
      ]
    },
    {
      "cell_type": "code",
      "source": [
        "# Training a simple classifier // we increase 'max_iter' to guarantee convergence\n",
        "\n",
        "from sklearn.linear_model import LogisticRegression\n",
        "\n",
        "lr_clf = LogisticRegression(max_iter=3000)\n",
        "lr_clf.fit(X_train, y_train)"
      ],
      "metadata": {
        "colab": {
          "base_uri": "https://localhost:8080/",
          "height": 74
        },
        "id": "xDGHHFqe7N32",
        "outputId": "0df1c242-bc2e-4ab2-e182-1e5be138d7b2"
      },
      "execution_count": 47,
      "outputs": [
        {
          "output_type": "execute_result",
          "data": {
            "text/plain": [
              "LogisticRegression(max_iter=3000)"
            ],
            "text/html": [
              "<style>#sk-container-id-1 {color: black;background-color: white;}#sk-container-id-1 pre{padding: 0;}#sk-container-id-1 div.sk-toggleable {background-color: white;}#sk-container-id-1 label.sk-toggleable__label {cursor: pointer;display: block;width: 100%;margin-bottom: 0;padding: 0.3em;box-sizing: border-box;text-align: center;}#sk-container-id-1 label.sk-toggleable__label-arrow:before {content: \"▸\";float: left;margin-right: 0.25em;color: #696969;}#sk-container-id-1 label.sk-toggleable__label-arrow:hover:before {color: black;}#sk-container-id-1 div.sk-estimator:hover label.sk-toggleable__label-arrow:before {color: black;}#sk-container-id-1 div.sk-toggleable__content {max-height: 0;max-width: 0;overflow: hidden;text-align: left;background-color: #f0f8ff;}#sk-container-id-1 div.sk-toggleable__content pre {margin: 0.2em;color: black;border-radius: 0.25em;background-color: #f0f8ff;}#sk-container-id-1 input.sk-toggleable__control:checked~div.sk-toggleable__content {max-height: 200px;max-width: 100%;overflow: auto;}#sk-container-id-1 input.sk-toggleable__control:checked~label.sk-toggleable__label-arrow:before {content: \"▾\";}#sk-container-id-1 div.sk-estimator input.sk-toggleable__control:checked~label.sk-toggleable__label {background-color: #d4ebff;}#sk-container-id-1 div.sk-label input.sk-toggleable__control:checked~label.sk-toggleable__label {background-color: #d4ebff;}#sk-container-id-1 input.sk-hidden--visually {border: 0;clip: rect(1px 1px 1px 1px);clip: rect(1px, 1px, 1px, 1px);height: 1px;margin: -1px;overflow: hidden;padding: 0;position: absolute;width: 1px;}#sk-container-id-1 div.sk-estimator {font-family: monospace;background-color: #f0f8ff;border: 1px dotted black;border-radius: 0.25em;box-sizing: border-box;margin-bottom: 0.5em;}#sk-container-id-1 div.sk-estimator:hover {background-color: #d4ebff;}#sk-container-id-1 div.sk-parallel-item::after {content: \"\";width: 100%;border-bottom: 1px solid gray;flex-grow: 1;}#sk-container-id-1 div.sk-label:hover label.sk-toggleable__label {background-color: #d4ebff;}#sk-container-id-1 div.sk-serial::before {content: \"\";position: absolute;border-left: 1px solid gray;box-sizing: border-box;top: 0;bottom: 0;left: 50%;z-index: 0;}#sk-container-id-1 div.sk-serial {display: flex;flex-direction: column;align-items: center;background-color: white;padding-right: 0.2em;padding-left: 0.2em;position: relative;}#sk-container-id-1 div.sk-item {position: relative;z-index: 1;}#sk-container-id-1 div.sk-parallel {display: flex;align-items: stretch;justify-content: center;background-color: white;position: relative;}#sk-container-id-1 div.sk-item::before, #sk-container-id-1 div.sk-parallel-item::before {content: \"\";position: absolute;border-left: 1px solid gray;box-sizing: border-box;top: 0;bottom: 0;left: 50%;z-index: -1;}#sk-container-id-1 div.sk-parallel-item {display: flex;flex-direction: column;z-index: 1;position: relative;background-color: white;}#sk-container-id-1 div.sk-parallel-item:first-child::after {align-self: flex-end;width: 50%;}#sk-container-id-1 div.sk-parallel-item:last-child::after {align-self: flex-start;width: 50%;}#sk-container-id-1 div.sk-parallel-item:only-child::after {width: 0;}#sk-container-id-1 div.sk-dashed-wrapped {border: 1px dashed gray;margin: 0 0.4em 0.5em 0.4em;box-sizing: border-box;padding-bottom: 0.4em;background-color: white;}#sk-container-id-1 div.sk-label label {font-family: monospace;font-weight: bold;display: inline-block;line-height: 1.2em;}#sk-container-id-1 div.sk-label-container {text-align: center;}#sk-container-id-1 div.sk-container {/* jupyter's `normalize.less` sets `[hidden] { display: none; }` but bootstrap.min.css set `[hidden] { display: none !important; }` so we also need the `!important` here to be able to override the default hidden behavior on the sphinx rendered scikit-learn.org. See: https://github.com/scikit-learn/scikit-learn/issues/21755 */display: inline-block !important;position: relative;}#sk-container-id-1 div.sk-text-repr-fallback {display: none;}</style><div id=\"sk-container-id-1\" class=\"sk-top-container\"><div class=\"sk-text-repr-fallback\"><pre>LogisticRegression(max_iter=3000)</pre><b>In a Jupyter environment, please rerun this cell to show the HTML representation or trust the notebook. <br />On GitHub, the HTML representation is unable to render, please try loading this page with nbviewer.org.</b></div><div class=\"sk-container\" hidden><div class=\"sk-item\"><div class=\"sk-estimator sk-toggleable\"><input class=\"sk-toggleable__control sk-hidden--visually\" id=\"sk-estimator-id-1\" type=\"checkbox\" checked><label for=\"sk-estimator-id-1\" class=\"sk-toggleable__label sk-toggleable__label-arrow\">LogisticRegression</label><div class=\"sk-toggleable__content\"><pre>LogisticRegression(max_iter=3000)</pre></div></div></div></div></div>"
            ]
          },
          "metadata": {},
          "execution_count": 47
        }
      ]
    },
    {
      "cell_type": "code",
      "source": [
        "lr_clf.score(X_valid, y_valid)"
      ],
      "metadata": {
        "colab": {
          "base_uri": "https://localhost:8080/"
        },
        "id": "g9Mjd3L_7N1Y",
        "outputId": "cc60ea3f-65ed-4f3c-8047-698fe351eb99"
      },
      "execution_count": 48,
      "outputs": [
        {
          "output_type": "execute_result",
          "data": {
            "text/plain": [
              "0.634"
            ]
          },
          "metadata": {},
          "execution_count": 48
        }
      ]
    },
    {
      "cell_type": "code",
      "source": [
        "# compare logistic regression to dummy classifier (basically just use probability based on distribution of training set)\n",
        "\n",
        "from sklearn.dummy import DummyClassifier\n",
        "\n",
        "dummy_clf = DummyClassifier(strategy=\"most_frequent\")\n",
        "dummy_clf.fit(X_train, y_train)\n",
        "dummy_clf.score(X_valid, y_valid)"
      ],
      "metadata": {
        "colab": {
          "base_uri": "https://localhost:8080/"
        },
        "id": "U6VSFHig7Ny6",
        "outputId": "1ad72870-ab56-4ba5-9d0a-21e925272d61"
      },
      "execution_count": 51,
      "outputs": [
        {
          "output_type": "execute_result",
          "data": {
            "text/plain": [
              "0.352"
            ]
          },
          "metadata": {},
          "execution_count": 51
        }
      ]
    },
    {
      "cell_type": "code",
      "source": [
        "# Can further investigate the performance of this classifier with confusion matrix.\n",
        "\n",
        "from sklearn.metrics import ConfusionMatrixDisplay, confusion_matrix\n",
        "\n",
        "def plot_confusion_matrix(y_preds, y_true, labels):\n",
        "    cm = confusion_matrix(y_true, y_preds, normalize=\"true\")\n",
        "    fig, ax = plt.subplots(figsize=(6, 6))\n",
        "    disp = ConfusionMatrixDisplay(confusion_matrix=cm, display_labels=labels)\n",
        "    disp.plot(cmap=\"Blues\", values_format=\".2f\", ax=ax, colorbar=False)\n",
        "    plt.title(\"Normalized confusion matrix\")\n",
        "    plt.show()\n",
        "\n",
        "y_preds = lr_clf.predict(X_valid)\n",
        "plot_confusion_matrix(y_preds, y_valid, labels)\n",
        "\n",
        "# for results below. can see that model tends to confuse anger and fear with sadness // and love and suprise are mistaken for joy"
      ],
      "metadata": {
        "colab": {
          "base_uri": "https://localhost:8080/",
          "height": 553
        },
        "id": "gzwOYnQR7Nwk",
        "outputId": "47f2804a-f67d-4247-aa7c-79bb9376170f"
      },
      "execution_count": 52,
      "outputs": [
        {
          "output_type": "display_data",
          "data": {
            "text/plain": [
              "<Figure size 600x600 with 1 Axes>"
            ],
            "image/svg+xml": "<?xml version=\"1.0\" encoding=\"utf-8\" standalone=\"no\"?>\n<!DOCTYPE svg PUBLIC \"-//W3C//DTD SVG 1.1//EN\"\n  \"http://www.w3.org/Graphics/SVG/1.1/DTD/svg11.dtd\">\n<svg xmlns:xlink=\"http://www.w3.org/1999/xlink\" width=\"418.368125pt\" height=\"398.20925pt\" viewBox=\"0 0 418.368125 398.20925\" xmlns=\"http://www.w3.org/2000/svg\" version=\"1.1\">\n <metadata>\n  <rdf:RDF xmlns:dc=\"http://purl.org/dc/elements/1.1/\" xmlns:cc=\"http://creativecommons.org/ns#\" xmlns:rdf=\"http://www.w3.org/1999/02/22-rdf-syntax-ns#\">\n   <cc:Work>\n    <dc:type rdf:resource=\"http://purl.org/dc/dcmitype/StillImage\"/>\n    <dc:date>2024-06-22T03:38:41.041579</dc:date>\n    <dc:format>image/svg+xml</dc:format>\n    <dc:creator>\n     <cc:Agent>\n      <dc:title>Matplotlib v3.7.1, https://matplotlib.org/</dc:title>\n     </cc:Agent>\n    </dc:creator>\n   </cc:Work>\n  </rdf:RDF>\n </metadata>\n <defs>\n  <style type=\"text/css\">*{stroke-linejoin: round; stroke-linecap: butt}</style>\n </defs>\n <g id=\"figure_1\">\n  <g id=\"patch_1\">\n   <path d=\"M 0 398.20925 \nL 418.368125 398.20925 \nL 418.368125 0 \nL 0 0 \nz\n\" style=\"fill: #ffffff\"/>\n  </g>\n  <g id=\"axes_1\">\n   <g id=\"patch_2\">\n    <path d=\"M 78.528125 356.78175 \nL 411.168125 356.78175 \nL 411.168125 24.14175 \nL 78.528125 24.14175 \nz\n\" style=\"fill: #ffffff\"/>\n   </g>\n   <g clip-path=\"url(#p5a3224c188)\">\n    <image xlink:href=\"data:image/png;base64,\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\" id=\"imagef54a2e0b66\" transform=\"scale(1 -1) translate(0 -333.36)\" x=\"78.528125\" y=\"-23.42175\" width=\"332.64\" height=\"333.36\"/>\n   </g>\n   <g id=\"matplotlib.axis_1\">\n    <g id=\"xtick_1\">\n     <g id=\"line2d_1\">\n      <defs>\n       <path id=\"m22f85fd400\" d=\"M 0 0 \nL 0 3.5 \n\" style=\"stroke: #000000; stroke-width: 0.8\"/>\n      </defs>\n      <g>\n       <use xlink:href=\"#m22f85fd400\" x=\"106.248125\" y=\"356.78175\" style=\"stroke: #000000; stroke-width: 0.8\"/>\n      </g>\n     </g>\n     <g id=\"text_1\">\n      <!-- sadness -->\n      <g transform=\"translate(81.890937 372.899875) scale(0.12 -0.12)\">\n       <defs>\n        <path id=\"DejaVuSans-73\" d=\"M 2834 3397 \nL 2834 2853 \nQ 2591 2978 2328 3040 \nQ 2066 3103 1784 3103 \nQ 1356 3103 1142 2972 \nQ 928 2841 928 2578 \nQ 928 2378 1081 2264 \nQ 1234 2150 1697 2047 \nL 1894 2003 \nQ 2506 1872 2764 1633 \nQ 3022 1394 3022 966 \nQ 3022 478 2636 193 \nQ 2250 -91 1575 -91 \nQ 1294 -91 989 -36 \nQ 684 19 347 128 \nL 347 722 \nQ 666 556 975 473 \nQ 1284 391 1588 391 \nQ 1994 391 2212 530 \nQ 2431 669 2431 922 \nQ 2431 1156 2273 1281 \nQ 2116 1406 1581 1522 \nL 1381 1569 \nQ 847 1681 609 1914 \nQ 372 2147 372 2553 \nQ 372 3047 722 3315 \nQ 1072 3584 1716 3584 \nQ 2034 3584 2315 3537 \nQ 2597 3491 2834 3397 \nz\n\" transform=\"scale(0.015625)\"/>\n        <path id=\"DejaVuSans-61\" d=\"M 2194 1759 \nQ 1497 1759 1228 1600 \nQ 959 1441 959 1056 \nQ 959 750 1161 570 \nQ 1363 391 1709 391 \nQ 2188 391 2477 730 \nQ 2766 1069 2766 1631 \nL 2766 1759 \nL 2194 1759 \nz\nM 3341 1997 \nL 3341 0 \nL 2766 0 \nL 2766 531 \nQ 2569 213 2275 61 \nQ 1981 -91 1556 -91 \nQ 1019 -91 701 211 \nQ 384 513 384 1019 \nQ 384 1609 779 1909 \nQ 1175 2209 1959 2209 \nL 2766 2209 \nL 2766 2266 \nQ 2766 2663 2505 2880 \nQ 2244 3097 1772 3097 \nQ 1472 3097 1187 3025 \nQ 903 2953 641 2809 \nL 641 3341 \nQ 956 3463 1253 3523 \nQ 1550 3584 1831 3584 \nQ 2591 3584 2966 3190 \nQ 3341 2797 3341 1997 \nz\n\" transform=\"scale(0.015625)\"/>\n        <path id=\"DejaVuSans-64\" d=\"M 2906 2969 \nL 2906 4863 \nL 3481 4863 \nL 3481 0 \nL 2906 0 \nL 2906 525 \nQ 2725 213 2448 61 \nQ 2172 -91 1784 -91 \nQ 1150 -91 751 415 \nQ 353 922 353 1747 \nQ 353 2572 751 3078 \nQ 1150 3584 1784 3584 \nQ 2172 3584 2448 3432 \nQ 2725 3281 2906 2969 \nz\nM 947 1747 \nQ 947 1113 1208 752 \nQ 1469 391 1925 391 \nQ 2381 391 2643 752 \nQ 2906 1113 2906 1747 \nQ 2906 2381 2643 2742 \nQ 2381 3103 1925 3103 \nQ 1469 3103 1208 2742 \nQ 947 2381 947 1747 \nz\n\" transform=\"scale(0.015625)\"/>\n        <path id=\"DejaVuSans-6e\" d=\"M 3513 2113 \nL 3513 0 \nL 2938 0 \nL 2938 2094 \nQ 2938 2591 2744 2837 \nQ 2550 3084 2163 3084 \nQ 1697 3084 1428 2787 \nQ 1159 2491 1159 1978 \nL 1159 0 \nL 581 0 \nL 581 3500 \nL 1159 3500 \nL 1159 2956 \nQ 1366 3272 1645 3428 \nQ 1925 3584 2291 3584 \nQ 2894 3584 3203 3211 \nQ 3513 2838 3513 2113 \nz\n\" transform=\"scale(0.015625)\"/>\n        <path id=\"DejaVuSans-65\" d=\"M 3597 1894 \nL 3597 1613 \nL 953 1613 \nQ 991 1019 1311 708 \nQ 1631 397 2203 397 \nQ 2534 397 2845 478 \nQ 3156 559 3463 722 \nL 3463 178 \nQ 3153 47 2828 -22 \nQ 2503 -91 2169 -91 \nQ 1331 -91 842 396 \nQ 353 884 353 1716 \nQ 353 2575 817 3079 \nQ 1281 3584 2069 3584 \nQ 2775 3584 3186 3129 \nQ 3597 2675 3597 1894 \nz\nM 3022 2063 \nQ 3016 2534 2758 2815 \nQ 2500 3097 2075 3097 \nQ 1594 3097 1305 2825 \nQ 1016 2553 972 2059 \nL 3022 2063 \nz\n\" transform=\"scale(0.015625)\"/>\n       </defs>\n       <use xlink:href=\"#DejaVuSans-73\"/>\n       <use xlink:href=\"#DejaVuSans-61\" x=\"52.099609\"/>\n       <use xlink:href=\"#DejaVuSans-64\" x=\"113.378906\"/>\n       <use xlink:href=\"#DejaVuSans-6e\" x=\"176.855469\"/>\n       <use xlink:href=\"#DejaVuSans-65\" x=\"240.234375\"/>\n       <use xlink:href=\"#DejaVuSans-73\" x=\"301.757812\"/>\n       <use xlink:href=\"#DejaVuSans-73\" x=\"353.857422\"/>\n      </g>\n     </g>\n    </g>\n    <g id=\"xtick_2\">\n     <g id=\"line2d_2\">\n      <g>\n       <use xlink:href=\"#m22f85fd400\" x=\"161.688125\" y=\"356.78175\" style=\"stroke: #000000; stroke-width: 0.8\"/>\n      </g>\n     </g>\n     <g id=\"text_2\">\n      <!-- joy -->\n      <g transform=\"translate(152.79875 372.899875) scale(0.12 -0.12)\">\n       <defs>\n        <path id=\"DejaVuSans-6a\" d=\"M 603 3500 \nL 1178 3500 \nL 1178 -63 \nQ 1178 -731 923 -1031 \nQ 669 -1331 103 -1331 \nL -116 -1331 \nL -116 -844 \nL 38 -844 \nQ 366 -844 484 -692 \nQ 603 -541 603 -63 \nL 603 3500 \nz\nM 603 4863 \nL 1178 4863 \nL 1178 4134 \nL 603 4134 \nL 603 4863 \nz\n\" transform=\"scale(0.015625)\"/>\n        <path id=\"DejaVuSans-6f\" d=\"M 1959 3097 \nQ 1497 3097 1228 2736 \nQ 959 2375 959 1747 \nQ 959 1119 1226 758 \nQ 1494 397 1959 397 \nQ 2419 397 2687 759 \nQ 2956 1122 2956 1747 \nQ 2956 2369 2687 2733 \nQ 2419 3097 1959 3097 \nz\nM 1959 3584 \nQ 2709 3584 3137 3096 \nQ 3566 2609 3566 1747 \nQ 3566 888 3137 398 \nQ 2709 -91 1959 -91 \nQ 1206 -91 779 398 \nQ 353 888 353 1747 \nQ 353 2609 779 3096 \nQ 1206 3584 1959 3584 \nz\n\" transform=\"scale(0.015625)\"/>\n        <path id=\"DejaVuSans-79\" d=\"M 2059 -325 \nQ 1816 -950 1584 -1140 \nQ 1353 -1331 966 -1331 \nL 506 -1331 \nL 506 -850 \nL 844 -850 \nQ 1081 -850 1212 -737 \nQ 1344 -625 1503 -206 \nL 1606 56 \nL 191 3500 \nL 800 3500 \nL 1894 763 \nL 2988 3500 \nL 3597 3500 \nL 2059 -325 \nz\n\" transform=\"scale(0.015625)\"/>\n       </defs>\n       <use xlink:href=\"#DejaVuSans-6a\"/>\n       <use xlink:href=\"#DejaVuSans-6f\" x=\"27.783203\"/>\n       <use xlink:href=\"#DejaVuSans-79\" x=\"88.964844\"/>\n      </g>\n     </g>\n    </g>\n    <g id=\"xtick_3\">\n     <g id=\"line2d_3\">\n      <g>\n       <use xlink:href=\"#m22f85fd400\" x=\"217.128125\" y=\"356.78175\" style=\"stroke: #000000; stroke-width: 0.8\"/>\n      </g>\n     </g>\n     <g id=\"text_3\">\n      <!-- love -->\n      <g transform=\"translate(204.546875 372.899875) scale(0.12 -0.12)\">\n       <defs>\n        <path id=\"DejaVuSans-6c\" d=\"M 603 4863 \nL 1178 4863 \nL 1178 0 \nL 603 0 \nL 603 4863 \nz\n\" transform=\"scale(0.015625)\"/>\n        <path id=\"DejaVuSans-76\" d=\"M 191 3500 \nL 800 3500 \nL 1894 563 \nL 2988 3500 \nL 3597 3500 \nL 2284 0 \nL 1503 0 \nL 191 3500 \nz\n\" transform=\"scale(0.015625)\"/>\n       </defs>\n       <use xlink:href=\"#DejaVuSans-6c\"/>\n       <use xlink:href=\"#DejaVuSans-6f\" x=\"27.783203\"/>\n       <use xlink:href=\"#DejaVuSans-76\" x=\"88.964844\"/>\n       <use xlink:href=\"#DejaVuSans-65\" x=\"148.144531\"/>\n      </g>\n     </g>\n    </g>\n    <g id=\"xtick_4\">\n     <g id=\"line2d_4\">\n      <g>\n       <use xlink:href=\"#m22f85fd400\" x=\"272.568125\" y=\"356.78175\" style=\"stroke: #000000; stroke-width: 0.8\"/>\n      </g>\n     </g>\n     <g id=\"text_4\">\n      <!-- anger -->\n      <g transform=\"translate(255.12125 372.899875) scale(0.12 -0.12)\">\n       <defs>\n        <path id=\"DejaVuSans-67\" d=\"M 2906 1791 \nQ 2906 2416 2648 2759 \nQ 2391 3103 1925 3103 \nQ 1463 3103 1205 2759 \nQ 947 2416 947 1791 \nQ 947 1169 1205 825 \nQ 1463 481 1925 481 \nQ 2391 481 2648 825 \nQ 2906 1169 2906 1791 \nz\nM 3481 434 \nQ 3481 -459 3084 -895 \nQ 2688 -1331 1869 -1331 \nQ 1566 -1331 1297 -1286 \nQ 1028 -1241 775 -1147 \nL 775 -588 \nQ 1028 -725 1275 -790 \nQ 1522 -856 1778 -856 \nQ 2344 -856 2625 -561 \nQ 2906 -266 2906 331 \nL 2906 616 \nQ 2728 306 2450 153 \nQ 2172 0 1784 0 \nQ 1141 0 747 490 \nQ 353 981 353 1791 \nQ 353 2603 747 3093 \nQ 1141 3584 1784 3584 \nQ 2172 3584 2450 3431 \nQ 2728 3278 2906 2969 \nL 2906 3500 \nL 3481 3500 \nL 3481 434 \nz\n\" transform=\"scale(0.015625)\"/>\n        <path id=\"DejaVuSans-72\" d=\"M 2631 2963 \nQ 2534 3019 2420 3045 \nQ 2306 3072 2169 3072 \nQ 1681 3072 1420 2755 \nQ 1159 2438 1159 1844 \nL 1159 0 \nL 581 0 \nL 581 3500 \nL 1159 3500 \nL 1159 2956 \nQ 1341 3275 1631 3429 \nQ 1922 3584 2338 3584 \nQ 2397 3584 2469 3576 \nQ 2541 3569 2628 3553 \nL 2631 2963 \nz\n\" transform=\"scale(0.015625)\"/>\n       </defs>\n       <use xlink:href=\"#DejaVuSans-61\"/>\n       <use xlink:href=\"#DejaVuSans-6e\" x=\"61.279297\"/>\n       <use xlink:href=\"#DejaVuSans-67\" x=\"124.658203\"/>\n       <use xlink:href=\"#DejaVuSans-65\" x=\"188.134766\"/>\n       <use xlink:href=\"#DejaVuSans-72\" x=\"249.658203\"/>\n      </g>\n     </g>\n    </g>\n    <g id=\"xtick_5\">\n     <g id=\"line2d_5\">\n      <g>\n       <use xlink:href=\"#m22f85fd400\" x=\"328.008125\" y=\"356.78175\" style=\"stroke: #000000; stroke-width: 0.8\"/>\n      </g>\n     </g>\n     <g id=\"text_5\">\n      <!-- fear -->\n      <g transform=\"translate(316.060625 372.899875) scale(0.12 -0.12)\">\n       <defs>\n        <path id=\"DejaVuSans-66\" d=\"M 2375 4863 \nL 2375 4384 \nL 1825 4384 \nQ 1516 4384 1395 4259 \nQ 1275 4134 1275 3809 \nL 1275 3500 \nL 2222 3500 \nL 2222 3053 \nL 1275 3053 \nL 1275 0 \nL 697 0 \nL 697 3053 \nL 147 3053 \nL 147 3500 \nL 697 3500 \nL 697 3744 \nQ 697 4328 969 4595 \nQ 1241 4863 1831 4863 \nL 2375 4863 \nz\n\" transform=\"scale(0.015625)\"/>\n       </defs>\n       <use xlink:href=\"#DejaVuSans-66\"/>\n       <use xlink:href=\"#DejaVuSans-65\" x=\"35.205078\"/>\n       <use xlink:href=\"#DejaVuSans-61\" x=\"96.728516\"/>\n       <use xlink:href=\"#DejaVuSans-72\" x=\"158.007812\"/>\n      </g>\n     </g>\n    </g>\n    <g id=\"xtick_6\">\n     <g id=\"line2d_6\">\n      <g>\n       <use xlink:href=\"#m22f85fd400\" x=\"383.448125\" y=\"356.78175\" style=\"stroke: #000000; stroke-width: 0.8\"/>\n      </g>\n     </g>\n     <g id=\"text_6\">\n      <!-- surprise -->\n      <g transform=\"translate(359.293437 372.899875) scale(0.12 -0.12)\">\n       <defs>\n        <path id=\"DejaVuSans-75\" d=\"M 544 1381 \nL 544 3500 \nL 1119 3500 \nL 1119 1403 \nQ 1119 906 1312 657 \nQ 1506 409 1894 409 \nQ 2359 409 2629 706 \nQ 2900 1003 2900 1516 \nL 2900 3500 \nL 3475 3500 \nL 3475 0 \nL 2900 0 \nL 2900 538 \nQ 2691 219 2414 64 \nQ 2138 -91 1772 -91 \nQ 1169 -91 856 284 \nQ 544 659 544 1381 \nz\nM 1991 3584 \nL 1991 3584 \nz\n\" transform=\"scale(0.015625)\"/>\n        <path id=\"DejaVuSans-70\" d=\"M 1159 525 \nL 1159 -1331 \nL 581 -1331 \nL 581 3500 \nL 1159 3500 \nL 1159 2969 \nQ 1341 3281 1617 3432 \nQ 1894 3584 2278 3584 \nQ 2916 3584 3314 3078 \nQ 3713 2572 3713 1747 \nQ 3713 922 3314 415 \nQ 2916 -91 2278 -91 \nQ 1894 -91 1617 61 \nQ 1341 213 1159 525 \nz\nM 3116 1747 \nQ 3116 2381 2855 2742 \nQ 2594 3103 2138 3103 \nQ 1681 3103 1420 2742 \nQ 1159 2381 1159 1747 \nQ 1159 1113 1420 752 \nQ 1681 391 2138 391 \nQ 2594 391 2855 752 \nQ 3116 1113 3116 1747 \nz\n\" transform=\"scale(0.015625)\"/>\n        <path id=\"DejaVuSans-69\" d=\"M 603 3500 \nL 1178 3500 \nL 1178 0 \nL 603 0 \nL 603 3500 \nz\nM 603 4863 \nL 1178 4863 \nL 1178 4134 \nL 603 4134 \nL 603 4863 \nz\n\" transform=\"scale(0.015625)\"/>\n       </defs>\n       <use xlink:href=\"#DejaVuSans-73\"/>\n       <use xlink:href=\"#DejaVuSans-75\" x=\"52.099609\"/>\n       <use xlink:href=\"#DejaVuSans-72\" x=\"115.478516\"/>\n       <use xlink:href=\"#DejaVuSans-70\" x=\"156.591797\"/>\n       <use xlink:href=\"#DejaVuSans-72\" x=\"220.068359\"/>\n       <use xlink:href=\"#DejaVuSans-69\" x=\"261.181641\"/>\n       <use xlink:href=\"#DejaVuSans-73\" x=\"288.964844\"/>\n       <use xlink:href=\"#DejaVuSans-65\" x=\"341.064453\"/>\n      </g>\n     </g>\n    </g>\n    <g id=\"text_7\">\n     <!-- Predicted label -->\n     <g transform=\"translate(200.265312 388.513625) scale(0.12 -0.12)\">\n      <defs>\n       <path id=\"DejaVuSans-50\" d=\"M 1259 4147 \nL 1259 2394 \nL 2053 2394 \nQ 2494 2394 2734 2622 \nQ 2975 2850 2975 3272 \nQ 2975 3691 2734 3919 \nQ 2494 4147 2053 4147 \nL 1259 4147 \nz\nM 628 4666 \nL 2053 4666 \nQ 2838 4666 3239 4311 \nQ 3641 3956 3641 3272 \nQ 3641 2581 3239 2228 \nQ 2838 1875 2053 1875 \nL 1259 1875 \nL 1259 0 \nL 628 0 \nL 628 4666 \nz\n\" transform=\"scale(0.015625)\"/>\n       <path id=\"DejaVuSans-63\" d=\"M 3122 3366 \nL 3122 2828 \nQ 2878 2963 2633 3030 \nQ 2388 3097 2138 3097 \nQ 1578 3097 1268 2742 \nQ 959 2388 959 1747 \nQ 959 1106 1268 751 \nQ 1578 397 2138 397 \nQ 2388 397 2633 464 \nQ 2878 531 3122 666 \nL 3122 134 \nQ 2881 22 2623 -34 \nQ 2366 -91 2075 -91 \nQ 1284 -91 818 406 \nQ 353 903 353 1747 \nQ 353 2603 823 3093 \nQ 1294 3584 2113 3584 \nQ 2378 3584 2631 3529 \nQ 2884 3475 3122 3366 \nz\n\" transform=\"scale(0.015625)\"/>\n       <path id=\"DejaVuSans-74\" d=\"M 1172 4494 \nL 1172 3500 \nL 2356 3500 \nL 2356 3053 \nL 1172 3053 \nL 1172 1153 \nQ 1172 725 1289 603 \nQ 1406 481 1766 481 \nL 2356 481 \nL 2356 0 \nL 1766 0 \nQ 1100 0 847 248 \nQ 594 497 594 1153 \nL 594 3053 \nL 172 3053 \nL 172 3500 \nL 594 3500 \nL 594 4494 \nL 1172 4494 \nz\n\" transform=\"scale(0.015625)\"/>\n       <path id=\"DejaVuSans-20\" transform=\"scale(0.015625)\"/>\n       <path id=\"DejaVuSans-62\" d=\"M 3116 1747 \nQ 3116 2381 2855 2742 \nQ 2594 3103 2138 3103 \nQ 1681 3103 1420 2742 \nQ 1159 2381 1159 1747 \nQ 1159 1113 1420 752 \nQ 1681 391 2138 391 \nQ 2594 391 2855 752 \nQ 3116 1113 3116 1747 \nz\nM 1159 2969 \nQ 1341 3281 1617 3432 \nQ 1894 3584 2278 3584 \nQ 2916 3584 3314 3078 \nQ 3713 2572 3713 1747 \nQ 3713 922 3314 415 \nQ 2916 -91 2278 -91 \nQ 1894 -91 1617 61 \nQ 1341 213 1159 525 \nL 1159 0 \nL 581 0 \nL 581 4863 \nL 1159 4863 \nL 1159 2969 \nz\n\" transform=\"scale(0.015625)\"/>\n      </defs>\n      <use xlink:href=\"#DejaVuSans-50\"/>\n      <use xlink:href=\"#DejaVuSans-72\" x=\"58.552734\"/>\n      <use xlink:href=\"#DejaVuSans-65\" x=\"97.416016\"/>\n      <use xlink:href=\"#DejaVuSans-64\" x=\"158.939453\"/>\n      <use xlink:href=\"#DejaVuSans-69\" x=\"222.416016\"/>\n      <use xlink:href=\"#DejaVuSans-63\" x=\"250.199219\"/>\n      <use xlink:href=\"#DejaVuSans-74\" x=\"305.179688\"/>\n      <use xlink:href=\"#DejaVuSans-65\" x=\"344.388672\"/>\n      <use xlink:href=\"#DejaVuSans-64\" x=\"405.912109\"/>\n      <use xlink:href=\"#DejaVuSans-20\" x=\"469.388672\"/>\n      <use xlink:href=\"#DejaVuSans-6c\" x=\"501.175781\"/>\n      <use xlink:href=\"#DejaVuSans-61\" x=\"528.958984\"/>\n      <use xlink:href=\"#DejaVuSans-62\" x=\"590.238281\"/>\n      <use xlink:href=\"#DejaVuSans-65\" x=\"653.714844\"/>\n      <use xlink:href=\"#DejaVuSans-6c\" x=\"715.238281\"/>\n     </g>\n    </g>\n   </g>\n   <g id=\"matplotlib.axis_2\">\n    <g id=\"ytick_1\">\n     <g id=\"line2d_7\">\n      <defs>\n       <path id=\"m330f4a6e10\" d=\"M 0 0 \nL -3.5 0 \n\" style=\"stroke: #000000; stroke-width: 0.8\"/>\n      </defs>\n      <g>\n       <use xlink:href=\"#m330f4a6e10\" x=\"78.528125\" y=\"51.86175\" style=\"stroke: #000000; stroke-width: 0.8\"/>\n      </g>\n     </g>\n     <g id=\"text_8\">\n      <!-- sadness -->\n      <g transform=\"translate(22.81375 56.420812) scale(0.12 -0.12)\">\n       <use xlink:href=\"#DejaVuSans-73\"/>\n       <use xlink:href=\"#DejaVuSans-61\" x=\"52.099609\"/>\n       <use xlink:href=\"#DejaVuSans-64\" x=\"113.378906\"/>\n       <use xlink:href=\"#DejaVuSans-6e\" x=\"176.855469\"/>\n       <use xlink:href=\"#DejaVuSans-65\" x=\"240.234375\"/>\n       <use xlink:href=\"#DejaVuSans-73\" x=\"301.757812\"/>\n       <use xlink:href=\"#DejaVuSans-73\" x=\"353.857422\"/>\n      </g>\n     </g>\n    </g>\n    <g id=\"ytick_2\">\n     <g id=\"line2d_8\">\n      <g>\n       <use xlink:href=\"#m330f4a6e10\" x=\"78.528125\" y=\"107.30175\" style=\"stroke: #000000; stroke-width: 0.8\"/>\n      </g>\n     </g>\n     <g id=\"text_9\">\n      <!-- joy -->\n      <g transform=\"translate(53.749375 111.860812) scale(0.12 -0.12)\">\n       <use xlink:href=\"#DejaVuSans-6a\"/>\n       <use xlink:href=\"#DejaVuSans-6f\" x=\"27.783203\"/>\n       <use xlink:href=\"#DejaVuSans-79\" x=\"88.964844\"/>\n      </g>\n     </g>\n    </g>\n    <g id=\"ytick_3\">\n     <g id=\"line2d_9\">\n      <g>\n       <use xlink:href=\"#m330f4a6e10\" x=\"78.528125\" y=\"162.74175\" style=\"stroke: #000000; stroke-width: 0.8\"/>\n      </g>\n     </g>\n     <g id=\"text_10\">\n      <!-- love -->\n      <g transform=\"translate(46.365625 167.300812) scale(0.12 -0.12)\">\n       <use xlink:href=\"#DejaVuSans-6c\"/>\n       <use xlink:href=\"#DejaVuSans-6f\" x=\"27.783203\"/>\n       <use xlink:href=\"#DejaVuSans-76\" x=\"88.964844\"/>\n       <use xlink:href=\"#DejaVuSans-65\" x=\"148.144531\"/>\n      </g>\n     </g>\n    </g>\n    <g id=\"ytick_4\">\n     <g id=\"line2d_10\">\n      <g>\n       <use xlink:href=\"#m330f4a6e10\" x=\"78.528125\" y=\"218.18175\" style=\"stroke: #000000; stroke-width: 0.8\"/>\n      </g>\n     </g>\n     <g id=\"text_11\">\n      <!-- anger -->\n      <g transform=\"translate(36.634375 222.740813) scale(0.12 -0.12)\">\n       <use xlink:href=\"#DejaVuSans-61\"/>\n       <use xlink:href=\"#DejaVuSans-6e\" x=\"61.279297\"/>\n       <use xlink:href=\"#DejaVuSans-67\" x=\"124.658203\"/>\n       <use xlink:href=\"#DejaVuSans-65\" x=\"188.134766\"/>\n       <use xlink:href=\"#DejaVuSans-72\" x=\"249.658203\"/>\n      </g>\n     </g>\n    </g>\n    <g id=\"ytick_5\">\n     <g id=\"line2d_11\">\n      <g>\n       <use xlink:href=\"#m330f4a6e10\" x=\"78.528125\" y=\"273.62175\" style=\"stroke: #000000; stroke-width: 0.8\"/>\n      </g>\n     </g>\n     <g id=\"text_12\">\n      <!-- fear -->\n      <g transform=\"translate(47.633125 278.180813) scale(0.12 -0.12)\">\n       <use xlink:href=\"#DejaVuSans-66\"/>\n       <use xlink:href=\"#DejaVuSans-65\" x=\"35.205078\"/>\n       <use xlink:href=\"#DejaVuSans-61\" x=\"96.728516\"/>\n       <use xlink:href=\"#DejaVuSans-72\" x=\"158.007812\"/>\n      </g>\n     </g>\n    </g>\n    <g id=\"ytick_6\">\n     <g id=\"line2d_12\">\n      <g>\n       <use xlink:href=\"#m330f4a6e10\" x=\"78.528125\" y=\"329.06175\" style=\"stroke: #000000; stroke-width: 0.8\"/>\n      </g>\n     </g>\n     <g id=\"text_13\">\n      <!-- surprise -->\n      <g transform=\"translate(23.21875 333.620812) scale(0.12 -0.12)\">\n       <use xlink:href=\"#DejaVuSans-73\"/>\n       <use xlink:href=\"#DejaVuSans-75\" x=\"52.099609\"/>\n       <use xlink:href=\"#DejaVuSans-72\" x=\"115.478516\"/>\n       <use xlink:href=\"#DejaVuSans-70\" x=\"156.591797\"/>\n       <use xlink:href=\"#DejaVuSans-72\" x=\"220.068359\"/>\n       <use xlink:href=\"#DejaVuSans-69\" x=\"261.181641\"/>\n       <use xlink:href=\"#DejaVuSans-73\" x=\"288.964844\"/>\n       <use xlink:href=\"#DejaVuSans-65\" x=\"341.064453\"/>\n      </g>\n     </g>\n    </g>\n    <g id=\"text_14\">\n     <!-- True label -->\n     <g transform=\"translate(16.318125 219.620812) rotate(-90) scale(0.12 -0.12)\">\n      <defs>\n       <path id=\"DejaVuSans-54\" d=\"M -19 4666 \nL 3928 4666 \nL 3928 4134 \nL 2272 4134 \nL 2272 0 \nL 1638 0 \nL 1638 4134 \nL -19 4134 \nL -19 4666 \nz\n\" transform=\"scale(0.015625)\"/>\n      </defs>\n      <use xlink:href=\"#DejaVuSans-54\"/>\n      <use xlink:href=\"#DejaVuSans-72\" x=\"46.333984\"/>\n      <use xlink:href=\"#DejaVuSans-75\" x=\"87.447266\"/>\n      <use xlink:href=\"#DejaVuSans-65\" x=\"150.826172\"/>\n      <use xlink:href=\"#DejaVuSans-20\" x=\"212.349609\"/>\n      <use xlink:href=\"#DejaVuSans-6c\" x=\"244.136719\"/>\n      <use xlink:href=\"#DejaVuSans-61\" x=\"271.919922\"/>\n      <use xlink:href=\"#DejaVuSans-62\" x=\"333.199219\"/>\n      <use xlink:href=\"#DejaVuSans-65\" x=\"396.675781\"/>\n      <use xlink:href=\"#DejaVuSans-6c\" x=\"458.199219\"/>\n     </g>\n    </g>\n   </g>\n   <g id=\"patch_3\">\n    <path d=\"M 78.528125 356.78175 \nL 78.528125 24.14175 \n\" style=\"fill: none; stroke: #000000; stroke-width: 0.8; stroke-linejoin: miter; stroke-linecap: square\"/>\n   </g>\n   <g id=\"patch_4\">\n    <path d=\"M 411.168125 356.78175 \nL 411.168125 24.14175 \n\" style=\"fill: none; stroke: #000000; stroke-width: 0.8; stroke-linejoin: miter; stroke-linecap: square\"/>\n   </g>\n   <g id=\"patch_5\">\n    <path d=\"M 78.528125 356.78175 \nL 411.168125 356.78175 \n\" style=\"fill: none; stroke: #000000; stroke-width: 0.8; stroke-linejoin: miter; stroke-linecap: square\"/>\n   </g>\n   <g id=\"patch_6\">\n    <path d=\"M 78.528125 24.14175 \nL 411.168125 24.14175 \n\" style=\"fill: none; stroke: #000000; stroke-width: 0.8; stroke-linejoin: miter; stroke-linecap: square\"/>\n   </g>\n   <g id=\"text_15\">\n    <!-- 0.71 -->\n    <g style=\"fill: #f7fbff\" transform=\"translate(92.88875 55.173) scale(0.12 -0.12)\">\n     <defs>\n      <path id=\"DejaVuSans-30\" d=\"M 2034 4250 \nQ 1547 4250 1301 3770 \nQ 1056 3291 1056 2328 \nQ 1056 1369 1301 889 \nQ 1547 409 2034 409 \nQ 2525 409 2770 889 \nQ 3016 1369 3016 2328 \nQ 3016 3291 2770 3770 \nQ 2525 4250 2034 4250 \nz\nM 2034 4750 \nQ 2819 4750 3233 4129 \nQ 3647 3509 3647 2328 \nQ 3647 1150 3233 529 \nQ 2819 -91 2034 -91 \nQ 1250 -91 836 529 \nQ 422 1150 422 2328 \nQ 422 3509 836 4129 \nQ 1250 4750 2034 4750 \nz\n\" transform=\"scale(0.015625)\"/>\n      <path id=\"DejaVuSans-2e\" d=\"M 684 794 \nL 1344 794 \nL 1344 0 \nL 684 0 \nL 684 794 \nz\n\" transform=\"scale(0.015625)\"/>\n      <path id=\"DejaVuSans-37\" d=\"M 525 4666 \nL 3525 4666 \nL 3525 4397 \nL 1831 0 \nL 1172 0 \nL 2766 4134 \nL 525 4134 \nL 525 4666 \nz\n\" transform=\"scale(0.015625)\"/>\n      <path id=\"DejaVuSans-31\" d=\"M 794 531 \nL 1825 531 \nL 1825 4091 \nL 703 3866 \nL 703 4441 \nL 1819 4666 \nL 2450 4666 \nL 2450 531 \nL 3481 531 \nL 3481 0 \nL 794 0 \nL 794 531 \nz\n\" transform=\"scale(0.015625)\"/>\n     </defs>\n     <use xlink:href=\"#DejaVuSans-30\"/>\n     <use xlink:href=\"#DejaVuSans-2e\" x=\"63.623047\"/>\n     <use xlink:href=\"#DejaVuSans-37\" x=\"95.410156\"/>\n     <use xlink:href=\"#DejaVuSans-31\" x=\"159.033203\"/>\n    </g>\n   </g>\n   <g id=\"text_16\">\n    <!-- 0.11 -->\n    <g style=\"fill: #08306b\" transform=\"translate(148.32875 55.173) scale(0.12 -0.12)\">\n     <use xlink:href=\"#DejaVuSans-30\"/>\n     <use xlink:href=\"#DejaVuSans-2e\" x=\"63.623047\"/>\n     <use xlink:href=\"#DejaVuSans-31\" x=\"95.410156\"/>\n     <use xlink:href=\"#DejaVuSans-31\" x=\"159.033203\"/>\n    </g>\n   </g>\n   <g id=\"text_17\">\n    <!-- 0.02 -->\n    <g style=\"fill: #08306b\" transform=\"translate(203.76875 55.173) scale(0.12 -0.12)\">\n     <defs>\n      <path id=\"DejaVuSans-32\" d=\"M 1228 531 \nL 3431 531 \nL 3431 0 \nL 469 0 \nL 469 531 \nQ 828 903 1448 1529 \nQ 2069 2156 2228 2338 \nQ 2531 2678 2651 2914 \nQ 2772 3150 2772 3378 \nQ 2772 3750 2511 3984 \nQ 2250 4219 1831 4219 \nQ 1534 4219 1204 4116 \nQ 875 4013 500 3803 \nL 500 4441 \nQ 881 4594 1212 4672 \nQ 1544 4750 1819 4750 \nQ 2544 4750 2975 4387 \nQ 3406 4025 3406 3419 \nQ 3406 3131 3298 2873 \nQ 3191 2616 2906 2266 \nQ 2828 2175 2409 1742 \nQ 1991 1309 1228 531 \nz\n\" transform=\"scale(0.015625)\"/>\n     </defs>\n     <use xlink:href=\"#DejaVuSans-30\"/>\n     <use xlink:href=\"#DejaVuSans-2e\" x=\"63.623047\"/>\n     <use xlink:href=\"#DejaVuSans-30\" x=\"95.410156\"/>\n     <use xlink:href=\"#DejaVuSans-32\" x=\"159.033203\"/>\n    </g>\n   </g>\n   <g id=\"text_18\">\n    <!-- 0.10 -->\n    <g style=\"fill: #08306b\" transform=\"translate(259.20875 55.173) scale(0.12 -0.12)\">\n     <use xlink:href=\"#DejaVuSans-30\"/>\n     <use xlink:href=\"#DejaVuSans-2e\" x=\"63.623047\"/>\n     <use xlink:href=\"#DejaVuSans-31\" x=\"95.410156\"/>\n     <use xlink:href=\"#DejaVuSans-30\" x=\"159.033203\"/>\n    </g>\n   </g>\n   <g id=\"text_19\">\n    <!-- 0.05 -->\n    <g style=\"fill: #08306b\" transform=\"translate(314.64875 55.173) scale(0.12 -0.12)\">\n     <defs>\n      <path id=\"DejaVuSans-35\" d=\"M 691 4666 \nL 3169 4666 \nL 3169 4134 \nL 1269 4134 \nL 1269 2991 \nQ 1406 3038 1543 3061 \nQ 1681 3084 1819 3084 \nQ 2600 3084 3056 2656 \nQ 3513 2228 3513 1497 \nQ 3513 744 3044 326 \nQ 2575 -91 1722 -91 \nQ 1428 -91 1123 -41 \nQ 819 9 494 109 \nL 494 744 \nQ 775 591 1075 516 \nQ 1375 441 1709 441 \nQ 2250 441 2565 725 \nQ 2881 1009 2881 1497 \nQ 2881 1984 2565 2268 \nQ 2250 2553 1709 2553 \nQ 1456 2553 1204 2497 \nQ 953 2441 691 2322 \nL 691 4666 \nz\n\" transform=\"scale(0.015625)\"/>\n     </defs>\n     <use xlink:href=\"#DejaVuSans-30\"/>\n     <use xlink:href=\"#DejaVuSans-2e\" x=\"63.623047\"/>\n     <use xlink:href=\"#DejaVuSans-30\" x=\"95.410156\"/>\n     <use xlink:href=\"#DejaVuSans-35\" x=\"159.033203\"/>\n    </g>\n   </g>\n   <g id=\"text_20\">\n    <!-- 0.01 -->\n    <g style=\"fill: #08306b\" transform=\"translate(370.08875 55.173) scale(0.12 -0.12)\">\n     <use xlink:href=\"#DejaVuSans-30\"/>\n     <use xlink:href=\"#DejaVuSans-2e\" x=\"63.623047\"/>\n     <use xlink:href=\"#DejaVuSans-30\" x=\"95.410156\"/>\n     <use xlink:href=\"#DejaVuSans-31\" x=\"159.033203\"/>\n    </g>\n   </g>\n   <g id=\"text_21\">\n    <!-- 0.09 -->\n    <g style=\"fill: #08306b\" transform=\"translate(92.88875 110.613) scale(0.12 -0.12)\">\n     <defs>\n      <path id=\"DejaVuSans-39\" d=\"M 703 97 \nL 703 672 \nQ 941 559 1184 500 \nQ 1428 441 1663 441 \nQ 2288 441 2617 861 \nQ 2947 1281 2994 2138 \nQ 2813 1869 2534 1725 \nQ 2256 1581 1919 1581 \nQ 1219 1581 811 2004 \nQ 403 2428 403 3163 \nQ 403 3881 828 4315 \nQ 1253 4750 1959 4750 \nQ 2769 4750 3195 4129 \nQ 3622 3509 3622 2328 \nQ 3622 1225 3098 567 \nQ 2575 -91 1691 -91 \nQ 1453 -91 1209 -44 \nQ 966 3 703 97 \nz\nM 1959 2075 \nQ 2384 2075 2632 2365 \nQ 2881 2656 2881 3163 \nQ 2881 3666 2632 3958 \nQ 2384 4250 1959 4250 \nQ 1534 4250 1286 3958 \nQ 1038 3666 1038 3163 \nQ 1038 2656 1286 2365 \nQ 1534 2075 1959 2075 \nz\n\" transform=\"scale(0.015625)\"/>\n     </defs>\n     <use xlink:href=\"#DejaVuSans-30\"/>\n     <use xlink:href=\"#DejaVuSans-2e\" x=\"63.623047\"/>\n     <use xlink:href=\"#DejaVuSans-30\" x=\"95.410156\"/>\n     <use xlink:href=\"#DejaVuSans-39\" x=\"159.033203\"/>\n    </g>\n   </g>\n   <g id=\"text_22\">\n    <!-- 0.80 -->\n    <g style=\"fill: #f7fbff\" transform=\"translate(148.32875 110.613) scale(0.12 -0.12)\">\n     <defs>\n      <path id=\"DejaVuSans-38\" d=\"M 2034 2216 \nQ 1584 2216 1326 1975 \nQ 1069 1734 1069 1313 \nQ 1069 891 1326 650 \nQ 1584 409 2034 409 \nQ 2484 409 2743 651 \nQ 3003 894 3003 1313 \nQ 3003 1734 2745 1975 \nQ 2488 2216 2034 2216 \nz\nM 1403 2484 \nQ 997 2584 770 2862 \nQ 544 3141 544 3541 \nQ 544 4100 942 4425 \nQ 1341 4750 2034 4750 \nQ 2731 4750 3128 4425 \nQ 3525 4100 3525 3541 \nQ 3525 3141 3298 2862 \nQ 3072 2584 2669 2484 \nQ 3125 2378 3379 2068 \nQ 3634 1759 3634 1313 \nQ 3634 634 3220 271 \nQ 2806 -91 2034 -91 \nQ 1263 -91 848 271 \nQ 434 634 434 1313 \nQ 434 1759 690 2068 \nQ 947 2378 1403 2484 \nz\nM 1172 3481 \nQ 1172 3119 1398 2916 \nQ 1625 2713 2034 2713 \nQ 2441 2713 2670 2916 \nQ 2900 3119 2900 3481 \nQ 2900 3844 2670 4047 \nQ 2441 4250 2034 4250 \nQ 1625 4250 1398 4047 \nQ 1172 3844 1172 3481 \nz\n\" transform=\"scale(0.015625)\"/>\n     </defs>\n     <use xlink:href=\"#DejaVuSans-30\"/>\n     <use xlink:href=\"#DejaVuSans-2e\" x=\"63.623047\"/>\n     <use xlink:href=\"#DejaVuSans-38\" x=\"95.410156\"/>\n     <use xlink:href=\"#DejaVuSans-30\" x=\"159.033203\"/>\n    </g>\n   </g>\n   <g id=\"text_23\">\n    <!-- 0.05 -->\n    <g style=\"fill: #08306b\" transform=\"translate(203.76875 110.613) scale(0.12 -0.12)\">\n     <use xlink:href=\"#DejaVuSans-30\"/>\n     <use xlink:href=\"#DejaVuSans-2e\" x=\"63.623047\"/>\n     <use xlink:href=\"#DejaVuSans-30\" x=\"95.410156\"/>\n     <use xlink:href=\"#DejaVuSans-35\" x=\"159.033203\"/>\n    </g>\n   </g>\n   <g id=\"text_24\">\n    <!-- 0.03 -->\n    <g style=\"fill: #08306b\" transform=\"translate(259.20875 110.613) scale(0.12 -0.12)\">\n     <defs>\n      <path id=\"DejaVuSans-33\" d=\"M 2597 2516 \nQ 3050 2419 3304 2112 \nQ 3559 1806 3559 1356 \nQ 3559 666 3084 287 \nQ 2609 -91 1734 -91 \nQ 1441 -91 1130 -33 \nQ 819 25 488 141 \nL 488 750 \nQ 750 597 1062 519 \nQ 1375 441 1716 441 \nQ 2309 441 2620 675 \nQ 2931 909 2931 1356 \nQ 2931 1769 2642 2001 \nQ 2353 2234 1838 2234 \nL 1294 2234 \nL 1294 2753 \nL 1863 2753 \nQ 2328 2753 2575 2939 \nQ 2822 3125 2822 3475 \nQ 2822 3834 2567 4026 \nQ 2313 4219 1838 4219 \nQ 1578 4219 1281 4162 \nQ 984 4106 628 3988 \nL 628 4550 \nQ 988 4650 1302 4700 \nQ 1616 4750 1894 4750 \nQ 2613 4750 3031 4423 \nQ 3450 4097 3450 3541 \nQ 3450 3153 3228 2886 \nQ 3006 2619 2597 2516 \nz\n\" transform=\"scale(0.015625)\"/>\n     </defs>\n     <use xlink:href=\"#DejaVuSans-30\"/>\n     <use xlink:href=\"#DejaVuSans-2e\" x=\"63.623047\"/>\n     <use xlink:href=\"#DejaVuSans-30\" x=\"95.410156\"/>\n     <use xlink:href=\"#DejaVuSans-33\" x=\"159.033203\"/>\n    </g>\n   </g>\n   <g id=\"text_25\">\n    <!-- 0.03 -->\n    <g style=\"fill: #08306b\" transform=\"translate(314.64875 110.613) scale(0.12 -0.12)\">\n     <use xlink:href=\"#DejaVuSans-30\"/>\n     <use xlink:href=\"#DejaVuSans-2e\" x=\"63.623047\"/>\n     <use xlink:href=\"#DejaVuSans-30\" x=\"95.410156\"/>\n     <use xlink:href=\"#DejaVuSans-33\" x=\"159.033203\"/>\n    </g>\n   </g>\n   <g id=\"text_26\">\n    <!-- 0.01 -->\n    <g style=\"fill: #08306b\" transform=\"translate(370.08875 110.613) scale(0.12 -0.12)\">\n     <use xlink:href=\"#DejaVuSans-30\"/>\n     <use xlink:href=\"#DejaVuSans-2e\" x=\"63.623047\"/>\n     <use xlink:href=\"#DejaVuSans-30\" x=\"95.410156\"/>\n     <use xlink:href=\"#DejaVuSans-31\" x=\"159.033203\"/>\n    </g>\n   </g>\n   <g id=\"text_27\">\n    <!-- 0.13 -->\n    <g style=\"fill: #08306b\" transform=\"translate(92.88875 166.053) scale(0.12 -0.12)\">\n     <use xlink:href=\"#DejaVuSans-30\"/>\n     <use xlink:href=\"#DejaVuSans-2e\" x=\"63.623047\"/>\n     <use xlink:href=\"#DejaVuSans-31\" x=\"95.410156\"/>\n     <use xlink:href=\"#DejaVuSans-33\" x=\"159.033203\"/>\n    </g>\n   </g>\n   <g id=\"text_28\">\n    <!-- 0.46 -->\n    <g style=\"fill: #f7fbff\" transform=\"translate(148.32875 166.053) scale(0.12 -0.12)\">\n     <defs>\n      <path id=\"DejaVuSans-34\" d=\"M 2419 4116 \nL 825 1625 \nL 2419 1625 \nL 2419 4116 \nz\nM 2253 4666 \nL 3047 4666 \nL 3047 1625 \nL 3713 1625 \nL 3713 1100 \nL 3047 1100 \nL 3047 0 \nL 2419 0 \nL 2419 1100 \nL 313 1100 \nL 313 1709 \nL 2253 4666 \nz\n\" transform=\"scale(0.015625)\"/>\n      <path id=\"DejaVuSans-36\" d=\"M 2113 2584 \nQ 1688 2584 1439 2293 \nQ 1191 2003 1191 1497 \nQ 1191 994 1439 701 \nQ 1688 409 2113 409 \nQ 2538 409 2786 701 \nQ 3034 994 3034 1497 \nQ 3034 2003 2786 2293 \nQ 2538 2584 2113 2584 \nz\nM 3366 4563 \nL 3366 3988 \nQ 3128 4100 2886 4159 \nQ 2644 4219 2406 4219 \nQ 1781 4219 1451 3797 \nQ 1122 3375 1075 2522 \nQ 1259 2794 1537 2939 \nQ 1816 3084 2150 3084 \nQ 2853 3084 3261 2657 \nQ 3669 2231 3669 1497 \nQ 3669 778 3244 343 \nQ 2819 -91 2113 -91 \nQ 1303 -91 875 529 \nQ 447 1150 447 2328 \nQ 447 3434 972 4092 \nQ 1497 4750 2381 4750 \nQ 2619 4750 2861 4703 \nQ 3103 4656 3366 4563 \nz\n\" transform=\"scale(0.015625)\"/>\n     </defs>\n     <use xlink:href=\"#DejaVuSans-30\"/>\n     <use xlink:href=\"#DejaVuSans-2e\" x=\"63.623047\"/>\n     <use xlink:href=\"#DejaVuSans-34\" x=\"95.410156\"/>\n     <use xlink:href=\"#DejaVuSans-36\" x=\"159.033203\"/>\n    </g>\n   </g>\n   <g id=\"text_29\">\n    <!-- 0.30 -->\n    <g style=\"fill: #08306b\" transform=\"translate(203.76875 166.053) scale(0.12 -0.12)\">\n     <use xlink:href=\"#DejaVuSans-30\"/>\n     <use xlink:href=\"#DejaVuSans-2e\" x=\"63.623047\"/>\n     <use xlink:href=\"#DejaVuSans-33\" x=\"95.410156\"/>\n     <use xlink:href=\"#DejaVuSans-30\" x=\"159.033203\"/>\n    </g>\n   </g>\n   <g id=\"text_30\">\n    <!-- 0.08 -->\n    <g style=\"fill: #08306b\" transform=\"translate(259.20875 166.053) scale(0.12 -0.12)\">\n     <use xlink:href=\"#DejaVuSans-30\"/>\n     <use xlink:href=\"#DejaVuSans-2e\" x=\"63.623047\"/>\n     <use xlink:href=\"#DejaVuSans-30\" x=\"95.410156\"/>\n     <use xlink:href=\"#DejaVuSans-38\" x=\"159.033203\"/>\n    </g>\n   </g>\n   <g id=\"text_31\">\n    <!-- 0.03 -->\n    <g style=\"fill: #08306b\" transform=\"translate(314.64875 166.053) scale(0.12 -0.12)\">\n     <use xlink:href=\"#DejaVuSans-30\"/>\n     <use xlink:href=\"#DejaVuSans-2e\" x=\"63.623047\"/>\n     <use xlink:href=\"#DejaVuSans-30\" x=\"95.410156\"/>\n     <use xlink:href=\"#DejaVuSans-33\" x=\"159.033203\"/>\n    </g>\n   </g>\n   <g id=\"text_32\">\n    <!-- 0.00 -->\n    <g style=\"fill: #08306b\" transform=\"translate(370.08875 166.053) scale(0.12 -0.12)\">\n     <use xlink:href=\"#DejaVuSans-30\"/>\n     <use xlink:href=\"#DejaVuSans-2e\" x=\"63.623047\"/>\n     <use xlink:href=\"#DejaVuSans-30\" x=\"95.410156\"/>\n     <use xlink:href=\"#DejaVuSans-30\" x=\"159.033203\"/>\n    </g>\n   </g>\n   <g id=\"text_33\">\n    <!-- 0.29 -->\n    <g style=\"fill: #08306b\" transform=\"translate(92.88875 221.493) scale(0.12 -0.12)\">\n     <use xlink:href=\"#DejaVuSans-30\"/>\n     <use xlink:href=\"#DejaVuSans-2e\" x=\"63.623047\"/>\n     <use xlink:href=\"#DejaVuSans-32\" x=\"95.410156\"/>\n     <use xlink:href=\"#DejaVuSans-39\" x=\"159.033203\"/>\n    </g>\n   </g>\n   <g id=\"text_34\">\n    <!-- 0.14 -->\n    <g style=\"fill: #08306b\" transform=\"translate(148.32875 221.493) scale(0.12 -0.12)\">\n     <use xlink:href=\"#DejaVuSans-30\"/>\n     <use xlink:href=\"#DejaVuSans-2e\" x=\"63.623047\"/>\n     <use xlink:href=\"#DejaVuSans-31\" x=\"95.410156\"/>\n     <use xlink:href=\"#DejaVuSans-34\" x=\"159.033203\"/>\n    </g>\n   </g>\n   <g id=\"text_35\">\n    <!-- 0.02 -->\n    <g style=\"fill: #08306b\" transform=\"translate(203.76875 221.493) scale(0.12 -0.12)\">\n     <use xlink:href=\"#DejaVuSans-30\"/>\n     <use xlink:href=\"#DejaVuSans-2e\" x=\"63.623047\"/>\n     <use xlink:href=\"#DejaVuSans-30\" x=\"95.410156\"/>\n     <use xlink:href=\"#DejaVuSans-32\" x=\"159.033203\"/>\n    </g>\n   </g>\n   <g id=\"text_36\">\n    <!-- 0.44 -->\n    <g style=\"fill: #f7fbff\" transform=\"translate(259.20875 221.493) scale(0.12 -0.12)\">\n     <use xlink:href=\"#DejaVuSans-30\"/>\n     <use xlink:href=\"#DejaVuSans-2e\" x=\"63.623047\"/>\n     <use xlink:href=\"#DejaVuSans-34\" x=\"95.410156\"/>\n     <use xlink:href=\"#DejaVuSans-34\" x=\"159.033203\"/>\n    </g>\n   </g>\n   <g id=\"text_37\">\n    <!-- 0.10 -->\n    <g style=\"fill: #08306b\" transform=\"translate(314.64875 221.493) scale(0.12 -0.12)\">\n     <use xlink:href=\"#DejaVuSans-30\"/>\n     <use xlink:href=\"#DejaVuSans-2e\" x=\"63.623047\"/>\n     <use xlink:href=\"#DejaVuSans-31\" x=\"95.410156\"/>\n     <use xlink:href=\"#DejaVuSans-30\" x=\"159.033203\"/>\n    </g>\n   </g>\n   <g id=\"text_38\">\n    <!-- 0.01 -->\n    <g style=\"fill: #08306b\" transform=\"translate(370.08875 221.493) scale(0.12 -0.12)\">\n     <use xlink:href=\"#DejaVuSans-30\"/>\n     <use xlink:href=\"#DejaVuSans-2e\" x=\"63.623047\"/>\n     <use xlink:href=\"#DejaVuSans-30\" x=\"95.410156\"/>\n     <use xlink:href=\"#DejaVuSans-31\" x=\"159.033203\"/>\n    </g>\n   </g>\n   <g id=\"text_39\">\n    <!-- 0.17 -->\n    <g style=\"fill: #08306b\" transform=\"translate(92.88875 276.933) scale(0.12 -0.12)\">\n     <use xlink:href=\"#DejaVuSans-30\"/>\n     <use xlink:href=\"#DejaVuSans-2e\" x=\"63.623047\"/>\n     <use xlink:href=\"#DejaVuSans-31\" x=\"95.410156\"/>\n     <use xlink:href=\"#DejaVuSans-37\" x=\"159.033203\"/>\n    </g>\n   </g>\n   <g id=\"text_40\">\n    <!-- 0.11 -->\n    <g style=\"fill: #08306b\" transform=\"translate(148.32875 276.933) scale(0.12 -0.12)\">\n     <use xlink:href=\"#DejaVuSans-30\"/>\n     <use xlink:href=\"#DejaVuSans-2e\" x=\"63.623047\"/>\n     <use xlink:href=\"#DejaVuSans-31\" x=\"95.410156\"/>\n     <use xlink:href=\"#DejaVuSans-31\" x=\"159.033203\"/>\n    </g>\n   </g>\n   <g id=\"text_41\">\n    <!-- 0.03 -->\n    <g style=\"fill: #08306b\" transform=\"translate(203.76875 276.933) scale(0.12 -0.12)\">\n     <use xlink:href=\"#DejaVuSans-30\"/>\n     <use xlink:href=\"#DejaVuSans-2e\" x=\"63.623047\"/>\n     <use xlink:href=\"#DejaVuSans-30\" x=\"95.410156\"/>\n     <use xlink:href=\"#DejaVuSans-33\" x=\"159.033203\"/>\n    </g>\n   </g>\n   <g id=\"text_42\">\n    <!-- 0.09 -->\n    <g style=\"fill: #08306b\" transform=\"translate(259.20875 276.933) scale(0.12 -0.12)\">\n     <use xlink:href=\"#DejaVuSans-30\"/>\n     <use xlink:href=\"#DejaVuSans-2e\" x=\"63.623047\"/>\n     <use xlink:href=\"#DejaVuSans-30\" x=\"95.410156\"/>\n     <use xlink:href=\"#DejaVuSans-39\" x=\"159.033203\"/>\n    </g>\n   </g>\n   <g id=\"text_43\">\n    <!-- 0.55 -->\n    <g style=\"fill: #f7fbff\" transform=\"translate(314.64875 276.933) scale(0.12 -0.12)\">\n     <use xlink:href=\"#DejaVuSans-30\"/>\n     <use xlink:href=\"#DejaVuSans-2e\" x=\"63.623047\"/>\n     <use xlink:href=\"#DejaVuSans-35\" x=\"95.410156\"/>\n     <use xlink:href=\"#DejaVuSans-35\" x=\"159.033203\"/>\n    </g>\n   </g>\n   <g id=\"text_44\">\n    <!-- 0.04 -->\n    <g style=\"fill: #08306b\" transform=\"translate(370.08875 276.933) scale(0.12 -0.12)\">\n     <use xlink:href=\"#DejaVuSans-30\"/>\n     <use xlink:href=\"#DejaVuSans-2e\" x=\"63.623047\"/>\n     <use xlink:href=\"#DejaVuSans-30\" x=\"95.410156\"/>\n     <use xlink:href=\"#DejaVuSans-34\" x=\"159.033203\"/>\n    </g>\n   </g>\n   <g id=\"text_45\">\n    <!-- 0.14 -->\n    <g style=\"fill: #08306b\" transform=\"translate(92.88875 332.373) scale(0.12 -0.12)\">\n     <use xlink:href=\"#DejaVuSans-30\"/>\n     <use xlink:href=\"#DejaVuSans-2e\" x=\"63.623047\"/>\n     <use xlink:href=\"#DejaVuSans-31\" x=\"95.410156\"/>\n     <use xlink:href=\"#DejaVuSans-34\" x=\"159.033203\"/>\n    </g>\n   </g>\n   <g id=\"text_46\">\n    <!-- 0.37 -->\n    <g style=\"fill: #08306b\" transform=\"translate(148.32875 332.373) scale(0.12 -0.12)\">\n     <use xlink:href=\"#DejaVuSans-30\"/>\n     <use xlink:href=\"#DejaVuSans-2e\" x=\"63.623047\"/>\n     <use xlink:href=\"#DejaVuSans-33\" x=\"95.410156\"/>\n     <use xlink:href=\"#DejaVuSans-37\" x=\"159.033203\"/>\n    </g>\n   </g>\n   <g id=\"text_47\">\n    <!-- 0.01 -->\n    <g style=\"fill: #08306b\" transform=\"translate(203.76875 332.373) scale(0.12 -0.12)\">\n     <use xlink:href=\"#DejaVuSans-30\"/>\n     <use xlink:href=\"#DejaVuSans-2e\" x=\"63.623047\"/>\n     <use xlink:href=\"#DejaVuSans-30\" x=\"95.410156\"/>\n     <use xlink:href=\"#DejaVuSans-31\" x=\"159.033203\"/>\n    </g>\n   </g>\n   <g id=\"text_48\">\n    <!-- 0.05 -->\n    <g style=\"fill: #08306b\" transform=\"translate(259.20875 332.373) scale(0.12 -0.12)\">\n     <use xlink:href=\"#DejaVuSans-30\"/>\n     <use xlink:href=\"#DejaVuSans-2e\" x=\"63.623047\"/>\n     <use xlink:href=\"#DejaVuSans-30\" x=\"95.410156\"/>\n     <use xlink:href=\"#DejaVuSans-35\" x=\"159.033203\"/>\n    </g>\n   </g>\n   <g id=\"text_49\">\n    <!-- 0.16 -->\n    <g style=\"fill: #08306b\" transform=\"translate(314.64875 332.373) scale(0.12 -0.12)\">\n     <use xlink:href=\"#DejaVuSans-30\"/>\n     <use xlink:href=\"#DejaVuSans-2e\" x=\"63.623047\"/>\n     <use xlink:href=\"#DejaVuSans-31\" x=\"95.410156\"/>\n     <use xlink:href=\"#DejaVuSans-36\" x=\"159.033203\"/>\n    </g>\n   </g>\n   <g id=\"text_50\">\n    <!-- 0.27 -->\n    <g style=\"fill: #08306b\" transform=\"translate(370.08875 332.373) scale(0.12 -0.12)\">\n     <use xlink:href=\"#DejaVuSans-30\"/>\n     <use xlink:href=\"#DejaVuSans-2e\" x=\"63.623047\"/>\n     <use xlink:href=\"#DejaVuSans-32\" x=\"95.410156\"/>\n     <use xlink:href=\"#DejaVuSans-37\" x=\"159.033203\"/>\n    </g>\n   </g>\n   <g id=\"text_51\">\n    <!-- Normalized confusion matrix -->\n    <g transform=\"translate(141.2255 18.14175) scale(0.144 -0.144)\">\n     <defs>\n      <path id=\"DejaVuSans-4e\" d=\"M 628 4666 \nL 1478 4666 \nL 3547 763 \nL 3547 4666 \nL 4159 4666 \nL 4159 0 \nL 3309 0 \nL 1241 3903 \nL 1241 0 \nL 628 0 \nL 628 4666 \nz\n\" transform=\"scale(0.015625)\"/>\n      <path id=\"DejaVuSans-6d\" d=\"M 3328 2828 \nQ 3544 3216 3844 3400 \nQ 4144 3584 4550 3584 \nQ 5097 3584 5394 3201 \nQ 5691 2819 5691 2113 \nL 5691 0 \nL 5113 0 \nL 5113 2094 \nQ 5113 2597 4934 2840 \nQ 4756 3084 4391 3084 \nQ 3944 3084 3684 2787 \nQ 3425 2491 3425 1978 \nL 3425 0 \nL 2847 0 \nL 2847 2094 \nQ 2847 2600 2669 2842 \nQ 2491 3084 2119 3084 \nQ 1678 3084 1418 2786 \nQ 1159 2488 1159 1978 \nL 1159 0 \nL 581 0 \nL 581 3500 \nL 1159 3500 \nL 1159 2956 \nQ 1356 3278 1631 3431 \nQ 1906 3584 2284 3584 \nQ 2666 3584 2933 3390 \nQ 3200 3197 3328 2828 \nz\n\" transform=\"scale(0.015625)\"/>\n      <path id=\"DejaVuSans-7a\" d=\"M 353 3500 \nL 3084 3500 \nL 3084 2975 \nL 922 459 \nL 3084 459 \nL 3084 0 \nL 275 0 \nL 275 525 \nL 2438 3041 \nL 353 3041 \nL 353 3500 \nz\n\" transform=\"scale(0.015625)\"/>\n      <path id=\"DejaVuSans-78\" d=\"M 3513 3500 \nL 2247 1797 \nL 3578 0 \nL 2900 0 \nL 1881 1375 \nL 863 0 \nL 184 0 \nL 1544 1831 \nL 300 3500 \nL 978 3500 \nL 1906 2253 \nL 2834 3500 \nL 3513 3500 \nz\n\" transform=\"scale(0.015625)\"/>\n     </defs>\n     <use xlink:href=\"#DejaVuSans-4e\"/>\n     <use xlink:href=\"#DejaVuSans-6f\" x=\"74.804688\"/>\n     <use xlink:href=\"#DejaVuSans-72\" x=\"135.986328\"/>\n     <use xlink:href=\"#DejaVuSans-6d\" x=\"175.349609\"/>\n     <use xlink:href=\"#DejaVuSans-61\" x=\"272.761719\"/>\n     <use xlink:href=\"#DejaVuSans-6c\" x=\"334.041016\"/>\n     <use xlink:href=\"#DejaVuSans-69\" x=\"361.824219\"/>\n     <use xlink:href=\"#DejaVuSans-7a\" x=\"389.607422\"/>\n     <use xlink:href=\"#DejaVuSans-65\" x=\"442.097656\"/>\n     <use xlink:href=\"#DejaVuSans-64\" x=\"503.621094\"/>\n     <use xlink:href=\"#DejaVuSans-20\" x=\"567.097656\"/>\n     <use xlink:href=\"#DejaVuSans-63\" x=\"598.884766\"/>\n     <use xlink:href=\"#DejaVuSans-6f\" x=\"653.865234\"/>\n     <use xlink:href=\"#DejaVuSans-6e\" x=\"715.046875\"/>\n     <use xlink:href=\"#DejaVuSans-66\" x=\"778.425781\"/>\n     <use xlink:href=\"#DejaVuSans-75\" x=\"813.630859\"/>\n     <use xlink:href=\"#DejaVuSans-73\" x=\"877.009766\"/>\n     <use xlink:href=\"#DejaVuSans-69\" x=\"929.109375\"/>\n     <use xlink:href=\"#DejaVuSans-6f\" x=\"956.892578\"/>\n     <use xlink:href=\"#DejaVuSans-6e\" x=\"1018.074219\"/>\n     <use xlink:href=\"#DejaVuSans-20\" x=\"1081.453125\"/>\n     <use xlink:href=\"#DejaVuSans-6d\" x=\"1113.240234\"/>\n     <use xlink:href=\"#DejaVuSans-61\" x=\"1210.652344\"/>\n     <use xlink:href=\"#DejaVuSans-74\" x=\"1271.931641\"/>\n     <use xlink:href=\"#DejaVuSans-72\" x=\"1311.140625\"/>\n     <use xlink:href=\"#DejaVuSans-69\" x=\"1352.253906\"/>\n     <use xlink:href=\"#DejaVuSans-78\" x=\"1380.037109\"/>\n    </g>\n   </g>\n  </g>\n </g>\n <defs>\n  <clipPath id=\"p5a3224c188\">\n   <rect x=\"78.528125\" y=\"24.14175\" width=\"332.64\" height=\"332.64\"/>\n  </clipPath>\n </defs>\n</svg>\n",
            "application/pdf": "[encoded data removed]"
          },
          "metadata": {}
        }
      ]
    },
    {
      "cell_type": "markdown",
      "source": [
        "# Fine-tuning Transformers\n",
        "\n",
        "Now moving on to alternatvie approach. Fine-tuing a transformer end-to-end."
      ],
      "metadata": {
        "id": "SVQblzUuBpDr"
      }
    },
    {
      "cell_type": "code",
      "source": [
        "from transformers import AutoModelForSequenceClassification\n",
        "\n",
        "num_labels = 6\n",
        "model = (AutoModelForSequenceClassification.from_pretrained(model_ckpt, num_labels=num_labels).to(device))"
      ],
      "metadata": {
        "id": "7SbB7ZT77NuS"
      },
      "execution_count": 53,
      "outputs": []
    },
    {
      "cell_type": "code",
      "source": [
        "# Defining ther performance matrix // F_1 score + accuracy of model is used\n",
        "\n",
        "from sklearn.metrics import accuracy_score, f1_score\n",
        "\n",
        "def compute_metrics(pred):\n",
        "    labels = pred.label_ids\n",
        "    preds = pred.predictions.argmax(-1)\n",
        "    f1 = f1_score(labels, preds, average=\"weighted\")\n",
        "    acc = accuracy_score(labels, preds)\n",
        "    return {\"accuracy\": acc, \"f1\": f1}"
      ],
      "metadata": {
        "id": "2OW8JjkV7NsB"
      },
      "execution_count": 54,
      "outputs": []
    },
    {
      "cell_type": "code",
      "source": [
        "from huggingface_hub import notebook_login\n",
        "\n",
        "notebook_login()"
      ],
      "metadata": {
        "colab": {
          "base_uri": "https://localhost:8080/",
          "height": 145,
          "referenced_widgets": [
            "e69e79510c5842e7a850639784faf54c",
            "be66771ca1c047b698d6cbe6c35f1448",
            "6c5205cbba6740f1b5ee048ef22928ec",
            "5bd806844f494dd2b786de996f4298ec",
            "de1f414c0c0e483f88b2c4fcabe7fc08",
            "303de034df9f469f8e761a8f4c8c1a6f",
            "f6c87311e704489588fb933b76a462ff",
            "ce3500d0931d49a98b6e60578d070588",
            "95a6af27878340838ac30f00b679aef1",
            "f81b1a4ca7b64b20945f1b9db13b391b",
            "a8b23ef86c8a450abf18d3101e53518a",
            "b7ae877f38f94c959aee25746bf194b0",
            "297c06267c73429db1a8d191e5f22894",
            "8b1badb60e4742b7ae96f9f094544dab",
            "c8e54ce2ce8044188c17b3e8391c2031",
            "55e8de69dd984113b620718e465b4e87",
            "4b2fbe3e7d73407cb72ee1417b0a8d94",
            "07dce322485141a0b8385dd1e9b76b33",
            "7407fb6a0741412aae1f4b907019af9c",
            "25604442deee4f889675ac8e6beb0996",
            "1b4c60f3c8c64afa8c156f826d431c40",
            "b746aa22307d4d2592024112a74e760d",
            "7e0cb4a2082743fe8c7bb90fdc967bc7",
            "6514e5abd0444036b9d364a9f75f6709",
            "a34732f9fb3e4b028ac84bd5bf7c45f3",
            "e06dbc7118a04e2e8fd8269dec3e4cf3",
            "4d78922fcc274dc6a147ba763875480f",
            "24d05325a0634bf88698c3f25edac2b7",
            "00b6c6ac9a6146659b81a3efe43d1055",
            "b38ab44f8dfb4346a905b5542e61c005",
            "966955177d4046179b50ca60630e3b79",
            "4ca8fc717bbe4b82b373ab33fc8ed09c"
          ]
        },
        "id": "OoIb98PQ7Npk",
        "outputId": "51f5b419-5a63-47ad-8dde-c865c48e80e8"
      },
      "execution_count": 56,
      "outputs": [
        {
          "output_type": "display_data",
          "data": {
            "text/plain": [
              "VBox(children=(HTML(value='<center> <img\\nsrc=https://huggingface.co/front/assets/huggingface_logo-noborder.sv…"
            ],
            "application/vnd.jupyter.widget-view+json": {
              "version_major": 2,
              "version_minor": 0,
              "model_id": "e69e79510c5842e7a850639784faf54c"
            }
          },
          "metadata": {}
        }
      ]
    },
    {
      "cell_type": "code",
      "source": [
        "# Defining training parameters\n",
        "\n",
        "from transformers import Trainer, TrainingArguments\n",
        "\n",
        "batch_size = 64\n",
        "logging_steps = len(emotions_encoded[\"train\"]) // batch_size\n",
        "model_name = f\"{model_ckpt}-finetuned-emotion\"\n",
        "training_args = TrainingArguments(output_dir=model_name,\n",
        "                                  num_train_epochs=2,\n",
        "                                  learning_rate=2e-5,\n",
        "                                  per_device_train_batch_size=batch_size,\n",
        "                                  per_device_eval_batch_size=batch_size,\n",
        "                                  weight_decay=0.01,\n",
        "                                  evaluation_strategy=\"epoch\",\n",
        "                                  disable_tqdm=False,\n",
        "                                  logging_steps=logging_steps,\n",
        "                                  push_to_hub=True,\n",
        "                                  log_level=\"error\")"
      ],
      "metadata": {
        "id": "1x_wGyEzCAX8"
      },
      "execution_count": 57,
      "outputs": []
    },
    {
      "cell_type": "code",
      "source": [
        "!git config --global user.email \"shng2025@gmail.com\"\n",
        "!git config --global user.name \"Ice-Citron\""
      ],
      "metadata": {
        "id": "jmUHFx44EaFF"
      },
      "execution_count": 60,
      "outputs": []
    },
    {
      "cell_type": "code",
      "source": [
        "from huggingface_hub import Repository\n",
        "\n",
        "# Assuming you've set up the local directory for the Repository\n",
        "repo = Repository(local_dir=\"path_to_repo\", clone_from=\"repo_url\",\n",
        "                  use_auth_token=\"your_token\", git_user=\"Ice-Citron\", git_email=\"shng2025@gmail.com\")\n"
      ],
      "metadata": {
        "id": "4Wo_l7dwFb5A"
      },
      "execution_count": null,
      "outputs": []
    },
    {
      "cell_type": "code",
      "source": [
        "from transformers import Trainer\n",
        "\n",
        "trainer = Trainer(model=model, args=training_args,\n",
        "                  compute_metrics=compute_metrics,\n",
        "                  train_dataset=emotions_encoded[\"train\"],\n",
        "                  eval_dataset=emotions_encoded[\"validation\"],\n",
        "                  tokenizer=tokenizer)\n",
        "trainer.train();"
      ],
      "metadata": {
        "colab": {
          "base_uri": "https://localhost:8080/",
          "height": 480
        },
        "id": "cXzpM6kFCAVc",
        "outputId": "7d9b76ae-c09d-4dbd-f607-854d3ee37f98"
      },
      "execution_count": 61,
      "outputs": [
        {
          "output_type": "stream",
          "name": "stderr",
          "text": [
            "/usr/local/lib/python3.10/dist-packages/huggingface_hub/utils/_deprecation.py:131: FutureWarning: 'Repository' (from 'huggingface_hub.repository') is deprecated and will be removed from version '1.0'. Please prefer the http-based alternatives instead. Given its large adoption in legacy code, the complete removal is only planned on next major release.\n",
            "For more details, please read https://huggingface.co/docs/huggingface_hub/concepts/git_vs_http.\n",
            "  warnings.warn(warning_message, FutureWarning)\n",
            "/content/notebooks/distilbert-base-uncased-finetuned-emotion is already a clone of https://huggingface.co/shng2025/distilbert-base-uncased-finetuned-emotion. Make sure you pull the latest changes with `repo.git_pull()`.\n",
            "WARNING:huggingface_hub.repository:/content/notebooks/distilbert-base-uncased-finetuned-emotion is already a clone of https://huggingface.co/shng2025/distilbert-base-uncased-finetuned-emotion. Make sure you pull the latest changes with `repo.git_pull()`.\n"
          ]
        },
        {
          "output_type": "error",
          "ename": "KeyError",
          "evalue": "'email'",
          "traceback": [
            "\u001b[0;31m---------------------------------------------------------------------------\u001b[0m",
            "\u001b[0;31mKeyError\u001b[0m                                  Traceback (most recent call last)",
            "\u001b[0;32m<ipython-input-61-55916e0ed5b3>\u001b[0m in \u001b[0;36m<cell line: 3>\u001b[0;34m()\u001b[0m\n\u001b[1;32m      1\u001b[0m \u001b[0;32mfrom\u001b[0m \u001b[0mtransformers\u001b[0m \u001b[0;32mimport\u001b[0m \u001b[0mTrainer\u001b[0m\u001b[0;34m\u001b[0m\u001b[0;34m\u001b[0m\u001b[0m\n\u001b[1;32m      2\u001b[0m \u001b[0;34m\u001b[0m\u001b[0m\n\u001b[0;32m----> 3\u001b[0;31m trainer = Trainer(model=model, args=training_args, \n\u001b[0m\u001b[1;32m      4\u001b[0m                   \u001b[0mcompute_metrics\u001b[0m\u001b[0;34m=\u001b[0m\u001b[0mcompute_metrics\u001b[0m\u001b[0;34m,\u001b[0m\u001b[0;34m\u001b[0m\u001b[0;34m\u001b[0m\u001b[0m\n\u001b[1;32m      5\u001b[0m                   \u001b[0mtrain_dataset\u001b[0m\u001b[0;34m=\u001b[0m\u001b[0memotions_encoded\u001b[0m\u001b[0;34m[\u001b[0m\u001b[0;34m\"train\"\u001b[0m\u001b[0;34m]\u001b[0m\u001b[0;34m,\u001b[0m\u001b[0;34m\u001b[0m\u001b[0;34m\u001b[0m\u001b[0m\n",
            "\u001b[0;32m/usr/local/lib/python3.10/dist-packages/transformers/trainer.py\u001b[0m in \u001b[0;36m__init__\u001b[0;34m(self, model, args, data_collator, train_dataset, eval_dataset, tokenizer, model_init, compute_metrics, callbacks, optimizers)\u001b[0m\n\u001b[1;32m    404\u001b[0m         \u001b[0;31m# Create clone of distant repo and output directory if needed\u001b[0m\u001b[0;34m\u001b[0m\u001b[0;34m\u001b[0m\u001b[0m\n\u001b[1;32m    405\u001b[0m         \u001b[0;32mif\u001b[0m \u001b[0mself\u001b[0m\u001b[0;34m.\u001b[0m\u001b[0margs\u001b[0m\u001b[0;34m.\u001b[0m\u001b[0mpush_to_hub\u001b[0m\u001b[0;34m:\u001b[0m\u001b[0;34m\u001b[0m\u001b[0;34m\u001b[0m\u001b[0m\n\u001b[0;32m--> 406\u001b[0;31m             \u001b[0mself\u001b[0m\u001b[0;34m.\u001b[0m\u001b[0minit_git_repo\u001b[0m\u001b[0;34m(\u001b[0m\u001b[0;34m)\u001b[0m\u001b[0;34m\u001b[0m\u001b[0;34m\u001b[0m\u001b[0m\n\u001b[0m\u001b[1;32m    407\u001b[0m             \u001b[0;31m# In case of pull, we need to make sure every process has the latest.\u001b[0m\u001b[0;34m\u001b[0m\u001b[0;34m\u001b[0m\u001b[0m\n\u001b[1;32m    408\u001b[0m             \u001b[0;32mif\u001b[0m \u001b[0mis_torch_tpu_available\u001b[0m\u001b[0;34m(\u001b[0m\u001b[0;34m)\u001b[0m\u001b[0;34m:\u001b[0m\u001b[0;34m\u001b[0m\u001b[0;34m\u001b[0m\u001b[0m\n",
            "\u001b[0;32m/usr/local/lib/python3.10/dist-packages/transformers/trainer.py\u001b[0m in \u001b[0;36minit_git_repo\u001b[0;34m(self)\u001b[0m\n\u001b[1;32m   2649\u001b[0m \u001b[0;34m\u001b[0m\u001b[0m\n\u001b[1;32m   2650\u001b[0m         \u001b[0;32mtry\u001b[0m\u001b[0;34m:\u001b[0m\u001b[0;34m\u001b[0m\u001b[0;34m\u001b[0m\u001b[0m\n\u001b[0;32m-> 2651\u001b[0;31m             self.repo = Repository(\n\u001b[0m\u001b[1;32m   2652\u001b[0m                 \u001b[0mself\u001b[0m\u001b[0;34m.\u001b[0m\u001b[0margs\u001b[0m\u001b[0;34m.\u001b[0m\u001b[0moutput_dir\u001b[0m\u001b[0;34m,\u001b[0m\u001b[0;34m\u001b[0m\u001b[0;34m\u001b[0m\u001b[0m\n\u001b[1;32m   2653\u001b[0m                 \u001b[0mclone_from\u001b[0m\u001b[0;34m=\u001b[0m\u001b[0mrepo_name\u001b[0m\u001b[0;34m,\u001b[0m\u001b[0;34m\u001b[0m\u001b[0;34m\u001b[0m\u001b[0m\n",
            "\u001b[0;32m/usr/local/lib/python3.10/dist-packages/huggingface_hub/utils/_validators.py\u001b[0m in \u001b[0;36m_inner_fn\u001b[0;34m(*args, **kwargs)\u001b[0m\n\u001b[1;32m    112\u001b[0m             \u001b[0mkwargs\u001b[0m \u001b[0;34m=\u001b[0m \u001b[0msmoothly_deprecate_use_auth_token\u001b[0m\u001b[0;34m(\u001b[0m\u001b[0mfn_name\u001b[0m\u001b[0;34m=\u001b[0m\u001b[0mfn\u001b[0m\u001b[0;34m.\u001b[0m\u001b[0m__name__\u001b[0m\u001b[0;34m,\u001b[0m \u001b[0mhas_token\u001b[0m\u001b[0;34m=\u001b[0m\u001b[0mhas_token\u001b[0m\u001b[0;34m,\u001b[0m \u001b[0mkwargs\u001b[0m\u001b[0;34m=\u001b[0m\u001b[0mkwargs\u001b[0m\u001b[0;34m)\u001b[0m\u001b[0;34m\u001b[0m\u001b[0;34m\u001b[0m\u001b[0m\n\u001b[1;32m    113\u001b[0m \u001b[0;34m\u001b[0m\u001b[0m\n\u001b[0;32m--> 114\u001b[0;31m         \u001b[0;32mreturn\u001b[0m \u001b[0mfn\u001b[0m\u001b[0;34m(\u001b[0m\u001b[0;34m*\u001b[0m\u001b[0margs\u001b[0m\u001b[0;34m,\u001b[0m \u001b[0;34m**\u001b[0m\u001b[0mkwargs\u001b[0m\u001b[0;34m)\u001b[0m\u001b[0;34m\u001b[0m\u001b[0;34m\u001b[0m\u001b[0m\n\u001b[0m\u001b[1;32m    115\u001b[0m \u001b[0;34m\u001b[0m\u001b[0m\n\u001b[1;32m    116\u001b[0m     \u001b[0;32mreturn\u001b[0m \u001b[0m_inner_fn\u001b[0m  \u001b[0;31m# type: ignore\u001b[0m\u001b[0;34m\u001b[0m\u001b[0;34m\u001b[0m\u001b[0m\n",
            "\u001b[0;32m/usr/local/lib/python3.10/dist-packages/huggingface_hub/utils/_deprecation.py\u001b[0m in \u001b[0;36minner_f\u001b[0;34m(*args, **kwargs)\u001b[0m\n\u001b[1;32m    130\u001b[0m                 \u001b[0mwarning_message\u001b[0m \u001b[0;34m+=\u001b[0m \u001b[0;34m\" \"\u001b[0m \u001b[0;34m+\u001b[0m \u001b[0mmessage\u001b[0m\u001b[0;34m\u001b[0m\u001b[0;34m\u001b[0m\u001b[0m\n\u001b[1;32m    131\u001b[0m             \u001b[0mwarnings\u001b[0m\u001b[0;34m.\u001b[0m\u001b[0mwarn\u001b[0m\u001b[0;34m(\u001b[0m\u001b[0mwarning_message\u001b[0m\u001b[0;34m,\u001b[0m \u001b[0mFutureWarning\u001b[0m\u001b[0;34m)\u001b[0m\u001b[0;34m\u001b[0m\u001b[0;34m\u001b[0m\u001b[0m\n\u001b[0;32m--> 132\u001b[0;31m             \u001b[0;32mreturn\u001b[0m \u001b[0mf\u001b[0m\u001b[0;34m(\u001b[0m\u001b[0;34m*\u001b[0m\u001b[0margs\u001b[0m\u001b[0;34m,\u001b[0m \u001b[0;34m**\u001b[0m\u001b[0mkwargs\u001b[0m\u001b[0;34m)\u001b[0m\u001b[0;34m\u001b[0m\u001b[0;34m\u001b[0m\u001b[0m\n\u001b[0m\u001b[1;32m    133\u001b[0m \u001b[0;34m\u001b[0m\u001b[0m\n\u001b[1;32m    134\u001b[0m         \u001b[0;32mreturn\u001b[0m \u001b[0minner_f\u001b[0m\u001b[0;34m\u001b[0m\u001b[0;34m\u001b[0m\u001b[0m\n",
            "\u001b[0;32m/usr/local/lib/python3.10/dist-packages/huggingface_hub/repository.py\u001b[0m in \u001b[0;36m__init__\u001b[0;34m(self, local_dir, clone_from, repo_type, token, git_user, git_email, revision, skip_lfs_files, client)\u001b[0m\n\u001b[1;32m    543\u001b[0m \u001b[0;34m\u001b[0m\u001b[0m\n\u001b[1;32m    544\u001b[0m             \u001b[0;32mif\u001b[0m \u001b[0mgit_email\u001b[0m \u001b[0;32mis\u001b[0m \u001b[0;32mNone\u001b[0m\u001b[0;34m:\u001b[0m\u001b[0;34m\u001b[0m\u001b[0;34m\u001b[0m\u001b[0m\n\u001b[0;32m--> 545\u001b[0;31m                 \u001b[0mgit_email\u001b[0m \u001b[0;34m=\u001b[0m \u001b[0muser\u001b[0m\u001b[0;34m[\u001b[0m\u001b[0;34m\"email\"\u001b[0m\u001b[0;34m]\u001b[0m\u001b[0;34m\u001b[0m\u001b[0;34m\u001b[0m\u001b[0m\n\u001b[0m\u001b[1;32m    546\u001b[0m \u001b[0;34m\u001b[0m\u001b[0m\n\u001b[1;32m    547\u001b[0m             \u001b[0;32mif\u001b[0m \u001b[0mgit_user\u001b[0m \u001b[0;32mis\u001b[0m \u001b[0;32mNone\u001b[0m\u001b[0;34m:\u001b[0m\u001b[0;34m\u001b[0m\u001b[0;34m\u001b[0m\u001b[0m\n",
            "\u001b[0;31mKeyError\u001b[0m: 'email'"
          ]
        }
      ]
    },
    {
      "cell_type": "code",
      "source": [],
      "metadata": {
        "id": "mg5qrbT2CAS9"
      },
      "execution_count": null,
      "outputs": []
    },
    {
      "cell_type": "code",
      "source": [],
      "metadata": {
        "id": "Ov5dCBRwCAQf"
      },
      "execution_count": null,
      "outputs": []
    },
    {
      "cell_type": "code",
      "source": [],
      "metadata": {
        "id": "5gBjk0tpCAOC"
      },
      "execution_count": null,
      "outputs": []
    },
    {
      "cell_type": "code",
      "source": [],
      "metadata": {
        "id": "zTn0YiaYCALZ"
      },
      "execution_count": null,
      "outputs": []
    },
    {
      "cell_type": "code",
      "source": [],
      "metadata": {
        "id": "rysa7--VCAI9"
      },
      "execution_count": null,
      "outputs": []
    },
    {
      "cell_type": "markdown",
      "source": [
        "\n",
        "\n",
        "---\n",
        "\n"
      ],
      "metadata": {
        "id": "f_40yX6ksUbl"
      }
    },
    {
      "cell_type": "code",
      "source": [
        "# GPT notes\n",
        "\n",
        "\"\"\"\n",
        "import torch\n",
        "import torch.nn as nn\n",
        "\n",
        "# Define the linear layer\n",
        "linear_layer = nn.Linear(in_features=4, out_features=1)\n",
        "\n",
        "# Example input tensor of shape [2, 4]\n",
        "input_tensor = torch.tensor([[1.0, 2.0, 3.0, 4.0],\n",
        "                             [5.0, 6.0, 7.0, 8.0]])\n",
        "\n",
        "# Pass the input through the linear layer\n",
        "output_tensor = linear_layer(input_tensor)\n",
        "\n",
        "# Print the output tensor\n",
        "print(\"Output Tensor:\", output_tensor)\n",
        "print(\"Output Shape:\", output_tensor.shape)\n",
        "\"\"\""
      ],
      "metadata": {
        "id": "4tLuJbYsvtGB",
        "colab": {
          "base_uri": "https://localhost:8080/",
          "height": 105
        },
        "outputId": "6fca0f67-dd63-466a-8e75-63240f662a1c"
      },
      "execution_count": 45,
      "outputs": [
        {
          "output_type": "execute_result",
          "data": {
            "text/plain": [
              "'\\nimport torch\\nimport torch.nn as nn\\n\\n# Define the linear layer\\nlinear_layer = nn.Linear(in_features=4, out_features=1)\\n\\n# Example input tensor of shape [2, 4]\\ninput_tensor = torch.tensor([[1.0, 2.0, 3.0, 4.0],\\n                             [5.0, 6.0, 7.0, 8.0]])\\n\\n# Pass the input through the linear layer\\noutput_tensor = linear_layer(input_tensor)\\n\\n# Print the output tensor\\nprint(\"Output Tensor:\", output_tensor)\\nprint(\"Output Shape:\", output_tensor.shape)\\n'"
            ],
            "application/vnd.google.colaboratory.intrinsic+json": {
              "type": "string"
            }
          },
          "metadata": {},
          "execution_count": 45
        }
      ]
    },
    {
      "cell_type": "code",
      "source": [],
      "metadata": {
        "id": "_9f1Tobw6pcO"
      },
      "execution_count": null,
      "outputs": []
    }
  ]
}