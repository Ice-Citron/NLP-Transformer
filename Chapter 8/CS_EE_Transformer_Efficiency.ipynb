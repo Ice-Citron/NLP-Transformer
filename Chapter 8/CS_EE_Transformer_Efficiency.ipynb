{
  "nbformat": 4,
  "nbformat_minor": 0,
  "metadata": {
    "colab": {
      "provenance": []
    },
    "kernelspec": {
      "name": "python3",
      "display_name": "Python 3"
    },
    "language_info": {
      "name": "python"
    }
  },
  "cells": [
    {
      "cell_type": "code",
      "execution_count": null,
      "metadata": {
        "id": "Z2tC8w_XVzvU"
      },
      "outputs": [],
      "source": [
        "!git clone https://github.com/nlp-with-transformers/notebooks.git\n",
        "%cd notebooks\n",
        "#from install import *\n",
        "#install_requirements(is_chapter6=True)"
      ]
    },
    {
      "cell_type": "code",
      "source": [
        "#%%capture\n",
        "!pip install transformers==4.41.2\n",
        "!pip install datasets==2.20.0\n",
        "\n",
        "!pip install pyarrow==16.0\n",
        "!pip install requests==2.32.3\n",
        "\n",
        "!pip install torch==2.3.0 torchvision==0.18.0 torchaudio==2.3.0\n",
        "\n",
        "!pip install importlib-metadata\n",
        "\n",
        "!pip install accelerate -U"
      ],
      "metadata": {
        "id": "OKQ8xkbbW05p"
      },
      "execution_count": null,
      "outputs": []
    },
    {
      "cell_type": "code",
      "source": [
        "from utils import *\n",
        "setup_chapter()"
      ],
      "metadata": {
        "id": "cNFgwBv2W2jS"
      },
      "execution_count": null,
      "outputs": []
    },
    {
      "cell_type": "code",
      "source": [
        "#%%capture\n",
        "# Verifying packages installed are now up to date\n",
        "!pip show pyarrow requests transformers datasets torch torchaudio importlib-metadata"
      ],
      "metadata": {
        "id": "UD5mPqL1W6y3"
      },
      "execution_count": null,
      "outputs": []
    },
    {
      "cell_type": "code",
      "source": [
        "!nvidia-smi"
      ],
      "metadata": {
        "id": "hsy-frwbW6xD"
      },
      "execution_count": null,
      "outputs": []
    },
    {
      "cell_type": "code",
      "source": [
        "!cat /proc/cpuinfo"
      ],
      "metadata": {
        "id": "O2hrE5lGW6vU"
      },
      "execution_count": null,
      "outputs": []
    },
    {
      "cell_type": "code",
      "source": [
        "import torch\n",
        "import transformers\n",
        "import datasets\n",
        "import tokenizers\n",
        "\n",
        "print(\"PyTorch Version:\" + torch.__version__)\n",
        "print(\"Transformers Version:\" + transformers.__version__)\n",
        "print(\"Datasets Version:\" + datasets.__version__)\n",
        "print(\"Tokenizers Version:\" + tokenizers.__version__)"
      ],
      "metadata": {
        "id": "00L3EL9MW6tE"
      },
      "execution_count": null,
      "outputs": []
    }
  ]
}